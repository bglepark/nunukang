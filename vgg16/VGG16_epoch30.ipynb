{
 "cells": [
  {
   "cell_type": "code",
   "execution_count": 21,
   "id": "bbab7eeb",
   "metadata": {},
   "outputs": [],
   "source": [
    "# 임포트\n",
    "\n",
    "import warnings\n",
    "warnings.filterwarnings('ignore')\n",
    "\n",
    "import tensorflow as tf\n",
    "import keras\n",
    "import os\n",
    "import numpy as np\n",
    "from tensorflow.keras.applications import VGG16\n",
    "import random\n",
    "from tensorflow.keras.preprocessing.image import ImageDataGenerator\n",
    "import shutil\n",
    "import matplotlib.pyplot as plt"
   ]
  },
  {
   "cell_type": "code",
   "execution_count": 3,
   "id": "8adbd2d0",
   "metadata": {},
   "outputs": [
    {
     "name": "stdout",
     "output_type": "stream",
     "text": [
      "Model: \"vgg16\"\n",
      "_________________________________________________________________\n",
      " Layer (type)                Output Shape              Param #   \n",
      "=================================================================\n",
      " input_1 (InputLayer)        [(None, 150, 150, 3)]     0         \n",
      "                                                                 \n",
      " block1_conv1 (Conv2D)       (None, 150, 150, 64)      1792      \n",
      "                                                                 \n",
      " block1_conv2 (Conv2D)       (None, 150, 150, 64)      36928     \n",
      "                                                                 \n",
      " block1_pool (MaxPooling2D)  (None, 75, 75, 64)        0         \n",
      "                                                                 \n",
      " block2_conv1 (Conv2D)       (None, 75, 75, 128)       73856     \n",
      "                                                                 \n",
      " block2_conv2 (Conv2D)       (None, 75, 75, 128)       147584    \n",
      "                                                                 \n",
      " block2_pool (MaxPooling2D)  (None, 37, 37, 128)       0         \n",
      "                                                                 \n",
      " block3_conv1 (Conv2D)       (None, 37, 37, 256)       295168    \n",
      "                                                                 \n",
      " block3_conv2 (Conv2D)       (None, 37, 37, 256)       590080    \n",
      "                                                                 \n",
      " block3_conv3 (Conv2D)       (None, 37, 37, 256)       590080    \n",
      "                                                                 \n",
      " block3_pool (MaxPooling2D)  (None, 18, 18, 256)       0         \n",
      "                                                                 \n",
      " block4_conv1 (Conv2D)       (None, 18, 18, 512)       1180160   \n",
      "                                                                 \n",
      " block4_conv2 (Conv2D)       (None, 18, 18, 512)       2359808   \n",
      "                                                                 \n",
      " block4_conv3 (Conv2D)       (None, 18, 18, 512)       2359808   \n",
      "                                                                 \n",
      " block4_pool (MaxPooling2D)  (None, 9, 9, 512)         0         \n",
      "                                                                 \n",
      " block5_conv1 (Conv2D)       (None, 9, 9, 512)         2359808   \n",
      "                                                                 \n",
      " block5_conv2 (Conv2D)       (None, 9, 9, 512)         2359808   \n",
      "                                                                 \n",
      " block5_conv3 (Conv2D)       (None, 9, 9, 512)         2359808   \n",
      "                                                                 \n",
      " block5_pool (MaxPooling2D)  (None, 4, 4, 512)         0         \n",
      "                                                                 \n",
      "=================================================================\n",
      "Total params: 14,714,688\n",
      "Trainable params: 14,714,688\n",
      "Non-trainable params: 0\n",
      "_________________________________________________________________\n"
     ]
    }
   ],
   "source": [
    "conv_base = VGG16(weights='imagenet',\n",
    "                  include_top=False,\n",
    "                  input_shape=(150, 150, 3)\n",
    "                  )\n",
    "conv_base.summary()"
   ]
  },
  {
   "cell_type": "code",
   "execution_count": 4,
   "id": "c5d02840",
   "metadata": {},
   "outputs": [
    {
     "name": "stdout",
     "output_type": "stream",
     "text": [
      "<class 'str'>\n"
     ]
    },
    {
     "data": {
      "text/plain": [
       "'../../어류 개체 촬영 영상/Training\\\\dtset_광어'"
      ]
     },
     "execution_count": 4,
     "metadata": {},
     "output_type": "execute_result"
    }
   ],
   "source": [
    "# 기본 경로\n",
    "base_dir ='../../어류 개체 촬영 영상/'\n",
    "train_dir = os.path.join(base_dir,'Training')\n",
    "validation_dir = os.path.join(base_dir, 'Validation')\n",
    "\n",
    "train_dir_2614 = os.path.join(base_dir, 'Training_2614')\n",
    "validation_dir_299 = os.path.join(base_dir , 'Validation_299')\n",
    "\n",
    "\n",
    "# 훈련용 경로\n",
    "train_dir_1 = os.path.join(train_dir , 'dtset_광어') # 광어\n",
    "train_dir_2 = os.path.join(train_dir , 'dtset_우럭') # 우럭\n",
    "train_dir_3 = os.path.join(train_dir , 'dtset_참돔') # 참돔\n",
    "train_dir_4 = os.path.join(train_dir , 'dtset_감성돔') #감성돔\n",
    "train_dir_5 = os.path.join(train_dir , 'dtset_돌돔') # 돌돔\n",
    "\n",
    "# 검증용 경로\n",
    "val_dir_1 = os.path.join(validation_dir , 'dtset_val_광어') # 광어\n",
    "val_dir_2 = os.path.join(validation_dir , 'dtset_val_우럭') # 우럭\n",
    "val_dir_3 = os.path.join(validation_dir , 'dtset_val_참돔') # 참돔\n",
    "val_dir_4 = os.path.join(validation_dir , 'dtset_val_감성돔') # 감성돔\n",
    "val_dir_5 = os.path.join(validation_dir , 'dtset_val_돌돔') # 돌돔\n",
    "\n",
    "print(type(train_dir_1))\n",
    "train_dir_1"
   ]
  },
  {
   "cell_type": "code",
   "execution_count": 10,
   "id": "111b974b",
   "metadata": {},
   "outputs": [
    {
     "name": "stdout",
     "output_type": "stream",
     "text": [
      "2614\n"
     ]
    }
   ],
   "source": [
    "train_1_fnames = os.listdir(train_dir_1)\n",
    "print(len(train_1_fnames))"
   ]
  },
  {
   "cell_type": "code",
   "execution_count": 30,
   "id": "3e4be220",
   "metadata": {},
   "outputs": [],
   "source": [
    "# 훈련용 광어 개수가 2,614개로 가장 적으므로 숫자 맞춰주기\n",
    "\n",
    "train_2_fnames = random.sample(os.listdir(train_dir_2),2614)\n",
    "train_3_fnames = random.sample(os.listdir(train_dir_3),2614)\n",
    "train_4_fnames = random.sample(os.listdir(train_dir_4),2614)\n",
    "train_5_fnames = random.sample(os.listdir(train_dir_5),2614)"
   ]
  },
  {
   "cell_type": "code",
   "execution_count": 34,
   "id": "e88f262e",
   "metadata": {},
   "outputs": [],
   "source": [
    "src2 = '../../어류 개체 촬영 영상/Training_2614/dtset_우럭_2614/'\n",
    "\n",
    "for i in train_2_fnames:\n",
    "    shutil.copy(train_dir_2+'/'+i , src2)\n",
    "\n",
    "\n"
   ]
  },
  {
   "cell_type": "code",
   "execution_count": 35,
   "id": "3daf75ed",
   "metadata": {},
   "outputs": [],
   "source": [
    "src3 = '../../어류 개체 촬영 영상/Training_2614/dtset_참돔_2614/'\n",
    "\n",
    "for i in train_3_fnames:\n",
    "    shutil.copy(train_dir_3+'/'+i , src3)\n",
    "    \n",
    "src4 = '../../어류 개체 촬영 영상/Training_2614/dtset_감성돔_2614/'\n",
    "\n",
    "for i in train_4_fnames:\n",
    "    shutil.copy(train_dir_4+'/'+i , src4)\n",
    "    \n",
    "src5 = '../../어류 개체 촬영 영상/Training_2614/dtset_돌돔_2614/'\n",
    "\n",
    "for i in train_5_fnames:\n",
    "    shutil.copy(train_dir_5+'/'+i , src5)"
   ]
  },
  {
   "cell_type": "code",
   "execution_count": 19,
   "id": "ae310926",
   "metadata": {},
   "outputs": [
    {
     "name": "stdout",
     "output_type": "stream",
     "text": [
      "299\n"
     ]
    }
   ],
   "source": [
    "val_1_fnames = os.listdir(val_dir_1)\n",
    "print(len(val_1_fnames))"
   ]
  },
  {
   "cell_type": "code",
   "execution_count": 36,
   "id": "97086226",
   "metadata": {},
   "outputs": [],
   "source": [
    "# 훈련용 광어 개수가 299개로 가장 적으므로 숫자 맞춰주기\n",
    "\n",
    "val_2_fnames = random.sample(os.listdir(val_dir_2),299)\n",
    "val_3_fnames = random.sample(os.listdir(val_dir_3),299)\n",
    "val_4_fnames = random.sample(os.listdir(val_dir_4),299)\n",
    "val_5_fnames = random.sample(os.listdir(val_dir_5),299)"
   ]
  },
  {
   "cell_type": "code",
   "execution_count": 37,
   "id": "95e28a1f",
   "metadata": {},
   "outputs": [],
   "source": [
    "val_src2 = '../../어류 개체 촬영 영상/Validation_299/dtset_val_우럭_299/'\n",
    "for i in val_2_fnames:\n",
    "    shutil.copy(val_dir_2+'/'+i , val_src2)\n",
    "\n",
    "val_src3 = '../../어류 개체 촬영 영상/Validation_299/dtset_val_참돔_299/'\n",
    "for i in val_3_fnames:\n",
    "    shutil.copy(val_dir_3+'/'+i , val_src3)\n",
    "\n",
    "val_src4 = '../../어류 개체 촬영 영상/Validation_299/dtset_val_감성돔_299/'\n",
    "for i in val_4_fnames:\n",
    "    shutil.copy(val_dir_4+'/'+i , val_src4)\n",
    "    \n",
    "val_src5 = '../../어류 개체 촬영 영상/Validation_299/dtset_val_돌돔_299/'\n",
    "for i in val_5_fnames:\n",
    "    shutil.copy(val_dir_5+'/'+i , val_src5)    "
   ]
  },
  {
   "cell_type": "code",
   "execution_count": 14,
   "id": "0286521b",
   "metadata": {},
   "outputs": [
    {
     "name": "stdout",
     "output_type": "stream",
     "text": [
      "Found 13070 images belonging to 5 classes.\n",
      "Found 1495 images belonging to 5 classes.\n"
     ]
    }
   ],
   "source": [
    "datagen = ImageDataGenerator(rescale=1./255)\n",
    "batch_size=20\n",
    "\n",
    "train_generator = datagen.flow_from_directory(train_dir_2614,\n",
    "                                            target_size=(150, 150),\n",
    "                                            batch_size=batch_size,\n",
    "                                            class_mode='categorical')\n",
    "\n",
    "val_generator = datagen.flow_from_directory(validation_dir_299,\n",
    "                                            target_size=(150, 150),\n",
    "                                            batch_size=batch_size,\n",
    "                                            class_mode='categorical')\n"
   ]
  },
  {
   "cell_type": "code",
   "execution_count": 15,
   "id": "9ee66be1",
   "metadata": {},
   "outputs": [
    {
     "name": "stdout",
     "output_type": "stream",
     "text": [
      "{'dtset_감성돔_2614': 0, 'dtset_광어_2614': 1, 'dtset_돌돔_2614': 2, 'dtset_우럭_2614': 3, 'dtset_참돔_2614': 4}\n",
      "{'dtset_val_감성돔_299': 0, 'dtset_val_광어_299': 1, 'dtset_val_돌돔_299': 2, 'dtset_val_우럭_299': 3, 'dtset_val_참돔_299': 4}\n"
     ]
    }
   ],
   "source": [
    "print(train_generator.class_indices)\n",
    "print(val_generator.class_indices)"
   ]
  },
  {
   "cell_type": "code",
   "execution_count": 16,
   "id": "afb5d48c",
   "metadata": {},
   "outputs": [],
   "source": [
    "# block5_conv1 층만 미세조정 가능하도록 설정\n",
    "\n",
    "\n",
    "conv_base.trainable = True\n",
    "\n",
    "set_trainable = False\n",
    "for layer in conv_base.layers:\n",
    "    if layer.name == 'block5_conv1':\n",
    "        set_trainable = True\n",
    "    if set_trainable:\n",
    "        layer.trainable = True\n",
    "    else:\n",
    "        layer.trainable = False"
   ]
  },
  {
   "cell_type": "code",
   "execution_count": 17,
   "id": "6c936b45",
   "metadata": {},
   "outputs": [],
   "source": [
    "from tensorflow.keras.models import Sequential\n",
    "from tensorflow.keras.layers import Flatten, Dense\n",
    "\n",
    "model = Sequential()\n",
    "model.add(conv_base)\n",
    "model.add(Flatten())\n",
    "model.add(Dense(256, activation='relu'))\n",
    "model.add(Dense(1, activation='sigmoid'))"
   ]
  },
  {
   "cell_type": "code",
   "execution_count": 18,
   "id": "fd9305d7",
   "metadata": {},
   "outputs": [
    {
     "name": "stdout",
     "output_type": "stream",
     "text": [
      "Model: \"sequential_1\"\n",
      "_________________________________________________________________\n",
      " Layer (type)                Output Shape              Param #   \n",
      "=================================================================\n",
      " vgg16 (Functional)          (None, 4, 4, 512)         14714688  \n",
      "                                                                 \n",
      " flatten_1 (Flatten)         (None, 8192)              0         \n",
      "                                                                 \n",
      " dense_2 (Dense)             (None, 256)               2097408   \n",
      "                                                                 \n",
      " dense_3 (Dense)             (None, 1)                 257       \n",
      "                                                                 \n",
      "=================================================================\n",
      "Total params: 16,812,353\n",
      "Trainable params: 9,177,089\n",
      "Non-trainable params: 7,635,264\n",
      "_________________________________________________________________\n"
     ]
    }
   ],
   "source": [
    "model.summary()"
   ]
  },
  {
   "cell_type": "code",
   "execution_count": 20,
   "id": "3cf6dde8",
   "metadata": {},
   "outputs": [
    {
     "name": "stdout",
     "output_type": "stream",
     "text": [
      "Epoch 1/30\n",
      "654/654 [==============================] - 779s 1s/step - loss: 0.6260 - accuracy: 0.2590 - val_loss: 0.2167 - val_accuracy: 0.2025\n",
      "Epoch 2/30\n",
      "654/654 [==============================] - 736s 1s/step - loss: 0.1461 - accuracy: 0.2044 - val_loss: 0.0705 - val_accuracy: 0.2102\n",
      "Epoch 3/30\n",
      "654/654 [==============================] - 736s 1s/step - loss: 0.0702 - accuracy: 0.2115 - val_loss: 0.0306 - val_accuracy: 0.2239\n",
      "Epoch 4/30\n",
      "654/654 [==============================] - 740s 1s/step - loss: 0.0440 - accuracy: 0.2348 - val_loss: 0.0207 - val_accuracy: 0.2618\n",
      "Epoch 5/30\n",
      "654/654 [==============================] - 733s 1s/step - loss: 0.0316 - accuracy: 0.2933 - val_loss: 0.0239 - val_accuracy: 0.2833\n",
      "Epoch 6/30\n",
      "654/654 [==============================] - 733s 1s/step - loss: 0.0275 - accuracy: 0.3374 - val_loss: 0.0210 - val_accuracy: 0.3522\n",
      "Epoch 7/30\n",
      "654/654 [==============================] - 736s 1s/step - loss: 0.0212 - accuracy: 0.3815 - val_loss: 0.0111 - val_accuracy: 0.3914\n",
      "Epoch 8/30\n",
      "654/654 [==============================] - 733s 1s/step - loss: 0.0173 - accuracy: 0.4055 - val_loss: 0.0088 - val_accuracy: 0.4054\n",
      "Epoch 9/30\n",
      "654/654 [==============================] - 735s 1s/step - loss: 0.0170 - accuracy: 0.4160 - val_loss: 0.0175 - val_accuracy: 0.3830\n",
      "Epoch 10/30\n",
      "654/654 [==============================] - 741s 1s/step - loss: 0.0149 - accuracy: 0.4138 - val_loss: 0.0102 - val_accuracy: 0.3979\n",
      "Epoch 11/30\n",
      "654/654 [==============================] - 740s 1s/step - loss: 0.0123 - accuracy: 0.4278 - val_loss: 0.0142 - val_accuracy: 0.4205\n",
      "Epoch 12/30\n",
      "654/654 [==============================] - 743s 1s/step - loss: 0.0108 - accuracy: 0.4482 - val_loss: 0.0083 - val_accuracy: 0.4365\n",
      "Epoch 13/30\n",
      "654/654 [==============================] - 735s 1s/step - loss: 0.0085 - accuracy: 0.4603 - val_loss: 0.0067 - val_accuracy: 0.4534\n",
      "Epoch 14/30\n",
      "654/654 [==============================] - 750s 1s/step - loss: 0.0085 - accuracy: 0.4700 - val_loss: 0.0083 - val_accuracy: 0.4484\n",
      "Epoch 15/30\n",
      "654/654 [==============================] - 785s 1s/step - loss: 0.0084 - accuracy: 0.4759 - val_loss: 0.0106 - val_accuracy: 0.4669\n",
      "Epoch 16/30\n",
      "654/654 [==============================] - 764s 1s/step - loss: 0.0060 - accuracy: 0.4957 - val_loss: 0.0076 - val_accuracy: 0.5074\n",
      "Epoch 17/30\n",
      "654/654 [==============================] - 747s 1s/step - loss: 0.0070 - accuracy: 0.5128 - val_loss: 0.0054 - val_accuracy: 0.5100\n",
      "Epoch 18/30\n",
      "654/654 [==============================] - 781s 1s/step - loss: 0.0063 - accuracy: 0.5120 - val_loss: 0.0055 - val_accuracy: 0.5072\n",
      "Epoch 19/30\n",
      "654/654 [==============================] - 730s 1s/step - loss: 0.0051 - accuracy: 0.5374 - val_loss: 0.0080 - val_accuracy: 0.5443\n",
      "Epoch 20/30\n",
      "654/654 [==============================] - 768s 1s/step - loss: 0.0054 - accuracy: 0.5405 - val_loss: 0.0069 - val_accuracy: 0.5160\n",
      "Epoch 21/30\n",
      "654/654 [==============================] - 772s 1s/step - loss: 0.0040 - accuracy: 0.5490 - val_loss: 0.0379 - val_accuracy: 0.6087\n",
      "Epoch 22/30\n",
      "654/654 [==============================] - 740s 1s/step - loss: 0.0037 - accuracy: 0.5570 - val_loss: 0.0110 - val_accuracy: 0.5430\n",
      "Epoch 23/30\n",
      "654/654 [==============================] - 731s 1s/step - loss: 0.0032 - accuracy: 0.5582 - val_loss: 0.0104 - val_accuracy: 0.5841\n",
      "Epoch 24/30\n",
      "654/654 [==============================] - 733s 1s/step - loss: 0.0039 - accuracy: 0.5700 - val_loss: 0.0133 - val_accuracy: 0.5694\n",
      "Epoch 25/30\n",
      "654/654 [==============================] - 735s 1s/step - loss: 0.0029 - accuracy: 0.5750 - val_loss: 0.0130 - val_accuracy: 0.5795\n",
      "Epoch 26/30\n",
      "654/654 [==============================] - 748s 1s/step - loss: 0.0039 - accuracy: 0.5864 - val_loss: 0.0111 - val_accuracy: 0.6011\n",
      "Epoch 27/30\n",
      "654/654 [==============================] - 753s 1s/step - loss: 0.0026 - accuracy: 0.6115 - val_loss: 0.0131 - val_accuracy: 0.6318\n",
      "Epoch 28/30\n",
      "654/654 [==============================] - 769s 1s/step - loss: 0.0037 - accuracy: 0.6191 - val_loss: 0.0083 - val_accuracy: 0.5979\n",
      "Epoch 29/30\n",
      "654/654 [==============================] - 798s 1s/step - loss: 0.0030 - accuracy: 0.6341 - val_loss: 0.0112 - val_accuracy: 0.6602\n",
      "Epoch 30/30\n",
      "654/654 [==============================] - 770s 1s/step - loss: 0.0023 - accuracy: 0.6595 - val_loss: 0.0194 - val_accuracy: 0.6603\n"
     ]
    }
   ],
   "source": [
    "from tensorflow.keras.optimizers import RMSprop\n",
    "\n",
    "model.compile(loss='categorical_crossentropy',\n",
    "              optimizer=RMSprop(learning_rate=1e-05),\n",
    "              metrics=['accuracy'])\n",
    "\n",
    "history = model.fit(\n",
    "    train_generator,\n",
    "    \n",
    "    epochs=30,\n",
    "    validation_data=val_generator,\n",
    "    \n",
    ")"
   ]
  },
  {
   "cell_type": "code",
   "execution_count": 22,
   "id": "f9078226",
   "metadata": {},
   "outputs": [
    {
     "data": {
      "text/plain": [
       "Text(0.5, 1.0, 'Train - Accuracy')"
      ]
     },
     "execution_count": 22,
     "metadata": {},
     "output_type": "execute_result"
    },
    {
     "data": {
      "image/png": "[encoded data removed]",
      "text/plain": [
       "<Figure size 720x720 with 2 Axes>"
      ]
     },
     "metadata": {
      "needs_background": "light"
     },
     "output_type": "display_data"
    }
   ],
   "source": [
    "plt.figure(figsize=(10, 10))\n",
    "\n",
    "plt.subplot(2, 2, 1)\n",
    "plt.plot(history.history['loss'], label='Loss')\n",
    "plt.plot(history.history['val_loss'], label='Validation Loss')\n",
    "plt.legend()\n",
    "plt.title('Training - Loss Function')\n",
    "\n",
    "plt.subplot(2, 2, 2)\n",
    "plt.plot(history.history['accuracy'], label='Accuracy')\n",
    "plt.plot(history.history['val_accuracy'], label='Validation Accuracy')\n",
    "plt.legend()\n",
    "plt.title('Train - Accuracy')"
   ]
  }
 ],
 "metadata": {
  "kernelspec": {
   "display_name": "Python 3",
   "language": "python",
   "name": "python3"
  },
  "language_info": {
   "codemirror_mode": {
    "name": "ipython",
    "version": 3
   },
   "file_extension": ".py",
   "mimetype": "text/x-python",
   "name": "python",
   "nbconvert_exporter": "python",
   "pygments_lexer": "ipython3",
   "version": "3.8.8"
  }
 },
 "nbformat": 4,
 "nbformat_minor": 5
}
