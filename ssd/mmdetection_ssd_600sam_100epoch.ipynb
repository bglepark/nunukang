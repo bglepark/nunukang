{
  "nbformat": 4,
  "nbformat_minor": 0,
  "metadata": {
    "colab": {
      "name": "mmdetection_ssd_600sam_100epoch.ipynb",
      "provenance": [],
      "collapsed_sections": [],
      "machine_shape": "hm"
    },
    "kernelspec": {
      "name": "python3",
      "display_name": "Python 3"
    },
    "language_info": {
      "name": "python"
    },
    "accelerator": "GPU",
    "widgets": {
      "application/vnd.jupyter.widget-state+json": {
        "ce2f7b6b1f0c4cdfabcfb143c8eb5dae": {
          "model_module": "@jupyter-widgets/controls",
          "model_name": "VBoxModel",
          "model_module_version": "1.5.0",
          "state": {
            "_dom_classes": [],
            "_model_module": "@jupyter-widgets/controls",
            "_model_module_version": "1.5.0",
            "_model_name": "VBoxModel",
            "_view_count": null,
            "_view_module": "@jupyter-widgets/controls",
            "_view_module_version": "1.5.0",
            "_view_name": "VBoxView",
            "box_style": "",
            "children": [
              "IPY_MODEL_9bf53e67fd95447aa48b42c2535f5e4f",
              "IPY_MODEL_5f37ff45a5ff48b489edef575c830e41"
            ],
            "layout": "IPY_MODEL_ff2cbd5f47b6480997fdeed3df44357b"
          }
        },
        "9bf53e67fd95447aa48b42c2535f5e4f": {
          "model_module": "@jupyter-widgets/controls",
          "model_name": "LabelModel",
          "model_module_version": "1.5.0",
          "state": {
            "_dom_classes": [],
            "_model_module": "@jupyter-widgets/controls",
            "_model_module_version": "1.5.0",
            "_model_name": "LabelModel",
            "_view_count": null,
            "_view_module": "@jupyter-widgets/controls",
            "_view_module_version": "1.5.0",
            "_view_name": "LabelView",
            "description": "",
            "description_tooltip": null,
            "layout": "IPY_MODEL_b3902dd5fdb0415ca3834edcf5b8255b",
            "placeholder": "​",
            "style": "IPY_MODEL_55aa9cb5ad934565a149b41ff9d97417",
            "value": "0.041 MB of 0.041 MB uploaded (0.000 MB deduped)\r"
          }
        },
        "5f37ff45a5ff48b489edef575c830e41": {
          "model_module": "@jupyter-widgets/controls",
          "model_name": "FloatProgressModel",
          "model_module_version": "1.5.0",
          "state": {
            "_dom_classes": [],
            "_model_module": "@jupyter-widgets/controls",
            "_model_module_version": "1.5.0",
            "_model_name": "FloatProgressModel",
            "_view_count": null,
            "_view_module": "@jupyter-widgets/controls",
            "_view_module_version": "1.5.0",
            "_view_name": "ProgressView",
            "bar_style": "",
            "description": "",
            "description_tooltip": null,
            "layout": "IPY_MODEL_60001660424f43088326b81e5797f1b7",
            "max": 1,
            "min": 0,
            "orientation": "horizontal",
            "style": "IPY_MODEL_cd1b581a4c824d169d3d3e47632bbc3d",
            "value": 1
          }
        },
        "ff2cbd5f47b6480997fdeed3df44357b": {
          "model_module": "@jupyter-widgets/base",
          "model_name": "LayoutModel",
          "model_module_version": "1.2.0",
          "state": {
            "_model_module": "@jupyter-widgets/base",
            "_model_module_version": "1.2.0",
            "_model_name": "LayoutModel",
            "_view_count": null,
            "_view_module": "@jupyter-widgets/base",
            "_view_module_version": "1.2.0",
            "_view_name": "LayoutView",
            "align_content": null,
            "align_items": null,
            "align_self": null,
            "border": null,
            "bottom": null,
            "display": null,
            "flex": null,
            "flex_flow": null,
            "grid_area": null,
            "grid_auto_columns": null,
            "grid_auto_flow": null,
            "grid_auto_rows": null,
            "grid_column": null,
            "grid_gap": null,
            "grid_row": null,
            "grid_template_areas": null,
            "grid_template_columns": null,
            "grid_template_rows": null,
            "height": null,
            "justify_content": null,
            "justify_items": null,
            "left": null,
            "margin": null,
            "max_height": null,
            "max_width": null,
            "min_height": null,
            "min_width": null,
            "object_fit": null,
            "object_position": null,
            "order": null,
            "overflow": null,
            "overflow_x": null,
            "overflow_y": null,
            "padding": null,
            "right": null,
            "top": null,
            "visibility": null,
            "width": null
          }
        },
        "b3902dd5fdb0415ca3834edcf5b8255b": {
          "model_module": "@jupyter-widgets/base",
          "model_name": "LayoutModel",
          "model_module_version": "1.2.0",
          "state": {
            "_model_module": "@jupyter-widgets/base",
            "_model_module_version": "1.2.0",
            "_model_name": "LayoutModel",
            "_view_count": null,
            "_view_module": "@jupyter-widgets/base",
            "_view_module_version": "1.2.0",
            "_view_name": "LayoutView",
            "align_content": null,
            "align_items": null,
            "align_self": null,
            "border": null,
            "bottom": null,
            "display": null,
            "flex": null,
            "flex_flow": null,
            "grid_area": null,
            "grid_auto_columns": null,
            "grid_auto_flow": null,
            "grid_auto_rows": null,
            "grid_column": null,
            "grid_gap": null,
            "grid_row": null,
            "grid_template_areas": null,
            "grid_template_columns": null,
            "grid_template_rows": null,
            "height": null,
            "justify_content": null,
            "justify_items": null,
            "left": null,
            "margin": null,
            "max_height": null,
            "max_width": null,
            "min_height": null,
            "min_width": null,
            "object_fit": null,
            "object_position": null,
            "order": null,
            "overflow": null,
            "overflow_x": null,
            "overflow_y": null,
            "padding": null,
            "right": null,
            "top": null,
            "visibility": null,
            "width": null
          }
        },
        "55aa9cb5ad934565a149b41ff9d97417": {
          "model_module": "@jupyter-widgets/controls",
          "model_name": "DescriptionStyleModel",
          "model_module_version": "1.5.0",
          "state": {
            "_model_module": "@jupyter-widgets/controls",
            "_model_module_version": "1.5.0",
            "_model_name": "DescriptionStyleModel",
            "_view_count": null,
            "_view_module": "@jupyter-widgets/base",
            "_view_module_version": "1.2.0",
            "_view_name": "StyleView",
            "description_width": ""
          }
        },
        "60001660424f43088326b81e5797f1b7": {
          "model_module": "@jupyter-widgets/base",
          "model_name": "LayoutModel",
          "model_module_version": "1.2.0",
          "state": {
            "_model_module": "@jupyter-widgets/base",
            "_model_module_version": "1.2.0",
            "_model_name": "LayoutModel",
            "_view_count": null,
            "_view_module": "@jupyter-widgets/base",
            "_view_module_version": "1.2.0",
            "_view_name": "LayoutView",
            "align_content": null,
            "align_items": null,
            "align_self": null,
            "border": null,
            "bottom": null,
            "display": null,
            "flex": null,
            "flex_flow": null,
            "grid_area": null,
            "grid_auto_columns": null,
            "grid_auto_flow": null,
            "grid_auto_rows": null,
            "grid_column": null,
            "grid_gap": null,
            "grid_row": null,
            "grid_template_areas": null,
            "grid_template_columns": null,
            "grid_template_rows": null,
            "height": null,
            "justify_content": null,
            "justify_items": null,
            "left": null,
            "margin": null,
            "max_height": null,
            "max_width": null,
            "min_height": null,
            "min_width": null,
            "object_fit": null,
            "object_position": null,
            "order": null,
            "overflow": null,
            "overflow_x": null,
            "overflow_y": null,
            "padding": null,
            "right": null,
            "top": null,
            "visibility": null,
            "width": null
          }
        },
        "cd1b581a4c824d169d3d3e47632bbc3d": {
          "model_module": "@jupyter-widgets/controls",
          "model_name": "ProgressStyleModel",
          "model_module_version": "1.5.0",
          "state": {
            "_model_module": "@jupyter-widgets/controls",
            "_model_module_version": "1.5.0",
            "_model_name": "ProgressStyleModel",
            "_view_count": null,
            "_view_module": "@jupyter-widgets/base",
            "_view_module_version": "1.2.0",
            "_view_name": "StyleView",
            "bar_color": null,
            "description_width": ""
          }
        },
        "ece6314ddd564286b926a9533072018f": {
          "model_module": "@jupyter-widgets/controls",
          "model_name": "VBoxModel",
          "model_module_version": "1.5.0",
          "state": {
            "_dom_classes": [],
            "_model_module": "@jupyter-widgets/controls",
            "_model_module_version": "1.5.0",
            "_model_name": "VBoxModel",
            "_view_count": null,
            "_view_module": "@jupyter-widgets/controls",
            "_view_module_version": "1.5.0",
            "_view_name": "VBoxView",
            "box_style": "",
            "children": [
              "IPY_MODEL_cdf4ba0507a3464eb3591bf967ad1354",
              "IPY_MODEL_888e8858df1c473590f770a34ee767b4"
            ],
            "layout": "IPY_MODEL_e414b6d84c3f4289871e13b2c7914d77"
          }
        },
        "cdf4ba0507a3464eb3591bf967ad1354": {
          "model_module": "@jupyter-widgets/controls",
          "model_name": "LabelModel",
          "model_module_version": "1.5.0",
          "state": {
            "_dom_classes": [],
            "_model_module": "@jupyter-widgets/controls",
            "_model_module_version": "1.5.0",
            "_model_name": "LabelModel",
            "_view_count": null,
            "_view_module": "@jupyter-widgets/controls",
            "_view_module_version": "1.5.0",
            "_view_name": "LabelView",
            "description": "",
            "description_tooltip": null,
            "layout": "IPY_MODEL_fcc9777d6fda4b2aafd806627cbef23a",
            "placeholder": "​",
            "style": "IPY_MODEL_9d7af58cb2534e65a6c9dbd95e77ee87",
            "value": "0.527 MB of 0.527 MB uploaded (0.000 MB deduped)\r"
          }
        },
        "888e8858df1c473590f770a34ee767b4": {
          "model_module": "@jupyter-widgets/controls",
          "model_name": "FloatProgressModel",
          "model_module_version": "1.5.0",
          "state": {
            "_dom_classes": [],
            "_model_module": "@jupyter-widgets/controls",
            "_model_module_version": "1.5.0",
            "_model_name": "FloatProgressModel",
            "_view_count": null,
            "_view_module": "@jupyter-widgets/controls",
            "_view_module_version": "1.5.0",
            "_view_name": "ProgressView",
            "bar_style": "",
            "description": "",
            "description_tooltip": null,
            "layout": "IPY_MODEL_c4fd58afb54e440aa6721f48581db991",
            "max": 1,
            "min": 0,
            "orientation": "horizontal",
            "style": "IPY_MODEL_3e65fe27d7644d80860734009b146aaa",
            "value": 1
          }
        },
        "e414b6d84c3f4289871e13b2c7914d77": {
          "model_module": "@jupyter-widgets/base",
          "model_name": "LayoutModel",
          "model_module_version": "1.2.0",
          "state": {
            "_model_module": "@jupyter-widgets/base",
            "_model_module_version": "1.2.0",
            "_model_name": "LayoutModel",
            "_view_count": null,
            "_view_module": "@jupyter-widgets/base",
            "_view_module_version": "1.2.0",
            "_view_name": "LayoutView",
            "align_content": null,
            "align_items": null,
            "align_self": null,
            "border": null,
            "bottom": null,
            "display": null,
            "flex": null,
            "flex_flow": null,
            "grid_area": null,
            "grid_auto_columns": null,
            "grid_auto_flow": null,
            "grid_auto_rows": null,
            "grid_column": null,
            "grid_gap": null,
            "grid_row": null,
            "grid_template_areas": null,
            "grid_template_columns": null,
            "grid_template_rows": null,
            "height": null,
            "justify_content": null,
            "justify_items": null,
            "left": null,
            "margin": null,
            "max_height": null,
            "max_width": null,
            "min_height": null,
            "min_width": null,
            "object_fit": null,
            "object_position": null,
            "order": null,
            "overflow": null,
            "overflow_x": null,
            "overflow_y": null,
            "padding": null,
            "right": null,
            "top": null,
            "visibility": null,
            "width": null
          }
        },
        "fcc9777d6fda4b2aafd806627cbef23a": {
          "model_module": "@jupyter-widgets/base",
          "model_name": "LayoutModel",
          "model_module_version": "1.2.0",
          "state": {
            "_model_module": "@jupyter-widgets/base",
            "_model_module_version": "1.2.0",
            "_model_name": "LayoutModel",
            "_view_count": null,
            "_view_module": "@jupyter-widgets/base",
            "_view_module_version": "1.2.0",
            "_view_name": "LayoutView",
            "align_content": null,
            "align_items": null,
            "align_self": null,
            "border": null,
            "bottom": null,
            "display": null,
            "flex": null,
            "flex_flow": null,
            "grid_area": null,
            "grid_auto_columns": null,
            "grid_auto_flow": null,
            "grid_auto_rows": null,
            "grid_column": null,
            "grid_gap": null,
            "grid_row": null,
            "grid_template_areas": null,
            "grid_template_columns": null,
            "grid_template_rows": null,
            "height": null,
            "justify_content": null,
            "justify_items": null,
            "left": null,
            "margin": null,
            "max_height": null,
            "max_width": null,
            "min_height": null,
            "min_width": null,
            "object_fit": null,
            "object_position": null,
            "order": null,
            "overflow": null,
            "overflow_x": null,
            "overflow_y": null,
            "padding": null,
            "right": null,
            "top": null,
            "visibility": null,
            "width": null
          }
        },
        "9d7af58cb2534e65a6c9dbd95e77ee87": {
          "model_module": "@jupyter-widgets/controls",
          "model_name": "DescriptionStyleModel",
          "model_module_version": "1.5.0",
          "state": {
            "_model_module": "@jupyter-widgets/controls",
            "_model_module_version": "1.5.0",
            "_model_name": "DescriptionStyleModel",
            "_view_count": null,
            "_view_module": "@jupyter-widgets/base",
            "_view_module_version": "1.2.0",
            "_view_name": "StyleView",
            "description_width": ""
          }
        },
        "c4fd58afb54e440aa6721f48581db991": {
          "model_module": "@jupyter-widgets/base",
          "model_name": "LayoutModel",
          "model_module_version": "1.2.0",
          "state": {
            "_model_module": "@jupyter-widgets/base",
            "_model_module_version": "1.2.0",
            "_model_name": "LayoutModel",
            "_view_count": null,
            "_view_module": "@jupyter-widgets/base",
            "_view_module_version": "1.2.0",
            "_view_name": "LayoutView",
            "align_content": null,
            "align_items": null,
            "align_self": null,
            "border": null,
            "bottom": null,
            "display": null,
            "flex": null,
            "flex_flow": null,
            "grid_area": null,
            "grid_auto_columns": null,
            "grid_auto_flow": null,
            "grid_auto_rows": null,
            "grid_column": null,
            "grid_gap": null,
            "grid_row": null,
            "grid_template_areas": null,
            "grid_template_columns": null,
            "grid_template_rows": null,
            "height": null,
            "justify_content": null,
            "justify_items": null,
            "left": null,
            "margin": null,
            "max_height": null,
            "max_width": null,
            "min_height": null,
            "min_width": null,
            "object_fit": null,
            "object_position": null,
            "order": null,
            "overflow": null,
            "overflow_x": null,
            "overflow_y": null,
            "padding": null,
            "right": null,
            "top": null,
            "visibility": null,
            "width": null
          }
        },
        "3e65fe27d7644d80860734009b146aaa": {
          "model_module": "@jupyter-widgets/controls",
          "model_name": "ProgressStyleModel",
          "model_module_version": "1.5.0",
          "state": {
            "_model_module": "@jupyter-widgets/controls",
            "_model_module_version": "1.5.0",
            "_model_name": "ProgressStyleModel",
            "_view_count": null,
            "_view_module": "@jupyter-widgets/base",
            "_view_module_version": "1.2.0",
            "_view_name": "StyleView",
            "bar_color": null,
            "description_width": ""
          }
        }
      }
    }
  },
  "cells": [
    {
      "cell_type": "code",
      "execution_count": null,
      "metadata": {
        "colab": {
          "base_uri": "https://localhost:8080/"
        },
        "id": "aEmKKgLagZzX",
        "outputId": "2656e332-fd49-4ff1-e9b4-a40009521c82"
      },
      "outputs": [
        {
          "output_type": "stream",
          "name": "stdout",
          "text": [
            "Looking in links: https://download.openmmlab.com/mmcv/dist/cu113/torch1.11.0/index.html\n",
            "Collecting mmcv-full\n",
            "  Downloading https://download.openmmlab.com/mmcv/dist/cu113/torch1.11.0/mmcv_full-1.5.0-cp37-cp37m-manylinux1_x86_64.whl (37.5 MB)\n",
            "\u001b[K     |████████████████████████████████| 37.5 MB 129 kB/s \n",
            "\u001b[?25hCollecting yapf\n",
            "  Downloading yapf-0.32.0-py2.py3-none-any.whl (190 kB)\n",
            "\u001b[K     |████████████████████████████████| 190 kB 4.1 MB/s \n",
            "\u001b[?25hRequirement already satisfied: opencv-python>=3 in /usr/local/lib/python3.7/dist-packages (from mmcv-full) (4.1.2.30)\n",
            "Requirement already satisfied: Pillow in /usr/local/lib/python3.7/dist-packages (from mmcv-full) (7.1.2)\n",
            "Requirement already satisfied: numpy in /usr/local/lib/python3.7/dist-packages (from mmcv-full) (1.21.6)\n",
            "Collecting addict\n",
            "  Downloading addict-2.4.0-py3-none-any.whl (3.8 kB)\n",
            "Requirement already satisfied: pyyaml in /usr/local/lib/python3.7/dist-packages (from mmcv-full) (3.13)\n",
            "Requirement already satisfied: packaging in /usr/local/lib/python3.7/dist-packages (from mmcv-full) (21.3)\n",
            "Requirement already satisfied: pyparsing!=3.0.5,>=2.0.2 in /usr/local/lib/python3.7/dist-packages (from packaging->mmcv-full) (3.0.8)\n",
            "Installing collected packages: yapf, addict, mmcv-full\n",
            "Successfully installed addict-2.4.0 mmcv-full-1.5.0 yapf-0.32.0\n",
            "Cloning into 'mmdetection'...\n",
            "remote: Enumerating objects: 24362, done.\u001b[K\n",
            "remote: Counting objects: 100% (14/14), done.\u001b[K\n",
            "remote: Compressing objects: 100% (14/14), done.\u001b[K\n",
            "remote: Total 24362 (delta 3), reused 5 (delta 0), pack-reused 24348\u001b[K\n",
            "Receiving objects: 100% (24362/24362), 37.49 MiB | 12.38 MiB/s, done.\n",
            "Resolving deltas: 100% (17051/17051), done.\n",
            "running install\n",
            "running bdist_egg\n",
            "running egg_info\n",
            "creating mmdet.egg-info\n",
            "writing mmdet.egg-info/PKG-INFO\n",
            "writing dependency_links to mmdet.egg-info/dependency_links.txt\n",
            "writing requirements to mmdet.egg-info/requires.txt\n",
            "writing top-level names to mmdet.egg-info/top_level.txt\n",
            "writing manifest file 'mmdet.egg-info/SOURCES.txt'\n",
            "reading manifest template 'MANIFEST.in'\n",
            "warning: no files found matching 'mmdet/VERSION'\n",
            "warning: no files found matching 'mmdet/.mim/model-index.yml'\n",
            "warning: no files found matching 'mmdet/.mim/demo/*/*'\n",
            "warning: no files found matching '*.py' under directory 'mmdet/.mim/configs'\n",
            "warning: no files found matching '*.yml' under directory 'mmdet/.mim/configs'\n",
            "warning: no files found matching '*.sh' under directory 'mmdet/.mim/tools'\n",
            "warning: no files found matching '*.py' under directory 'mmdet/.mim/tools'\n",
            "adding license file 'LICENSE'\n",
            "writing manifest file 'mmdet.egg-info/SOURCES.txt'\n",
            "installing library code to build/bdist.linux-x86_64/egg\n",
            "running install_lib\n",
            "running build_py\n",
            "creating build\n",
            "creating build/lib\n",
            "creating build/lib/mmdet\n",
            "copying mmdet/__init__.py -> build/lib/mmdet\n",
            "copying mmdet/version.py -> build/lib/mmdet\n",
            "creating build/lib/mmdet/datasets\n",
            "copying mmdet/datasets/coco_panoptic.py -> build/lib/mmdet/datasets\n",
            "copying mmdet/datasets/xml_style.py -> build/lib/mmdet/datasets\n",
            "copying mmdet/datasets/utils.py -> build/lib/mmdet/datasets\n",
            "copying mmdet/datasets/builder.py -> build/lib/mmdet/datasets\n",
            "copying mmdet/datasets/coco.py -> build/lib/mmdet/datasets\n",
            "copying mmdet/datasets/voc.py -> build/lib/mmdet/datasets\n",
            "copying mmdet/datasets/dataset_wrappers.py -> build/lib/mmdet/datasets\n",
            "copying mmdet/datasets/openimages.py -> build/lib/mmdet/datasets\n",
            "copying mmdet/datasets/__init__.py -> build/lib/mmdet/datasets\n",
            "copying mmdet/datasets/custom.py -> build/lib/mmdet/datasets\n",
            "copying mmdet/datasets/deepfashion.py -> build/lib/mmdet/datasets\n",
            "copying mmdet/datasets/wider_face.py -> build/lib/mmdet/datasets\n",
            "copying mmdet/datasets/lvis.py -> build/lib/mmdet/datasets\n",
            "copying mmdet/datasets/cityscapes.py -> build/lib/mmdet/datasets\n",
            "creating build/lib/mmdet/models\n",
            "copying mmdet/models/builder.py -> build/lib/mmdet/models\n",
            "copying mmdet/models/__init__.py -> build/lib/mmdet/models\n",
            "creating build/lib/mmdet/utils\n",
            "copying mmdet/utils/util_random.py -> build/lib/mmdet/utils\n",
            "copying mmdet/utils/util_distribution.py -> build/lib/mmdet/utils\n",
            "copying mmdet/utils/compat_config.py -> build/lib/mmdet/utils\n",
            "copying mmdet/utils/util_mixins.py -> build/lib/mmdet/utils\n",
            "copying mmdet/utils/contextmanagers.py -> build/lib/mmdet/utils\n",
            "copying mmdet/utils/split_batch.py -> build/lib/mmdet/utils\n",
            "copying mmdet/utils/__init__.py -> build/lib/mmdet/utils\n",
            "copying mmdet/utils/misc.py -> build/lib/mmdet/utils\n",
            "copying mmdet/utils/collect_env.py -> build/lib/mmdet/utils\n",
            "copying mmdet/utils/profiling.py -> build/lib/mmdet/utils\n",
            "copying mmdet/utils/logger.py -> build/lib/mmdet/utils\n",
            "copying mmdet/utils/setup_env.py -> build/lib/mmdet/utils\n",
            "creating build/lib/mmdet/core\n",
            "copying mmdet/core/__init__.py -> build/lib/mmdet/core\n",
            "creating build/lib/mmdet/apis\n",
            "copying mmdet/apis/test.py -> build/lib/mmdet/apis\n",
            "copying mmdet/apis/__init__.py -> build/lib/mmdet/apis\n",
            "copying mmdet/apis/inference.py -> build/lib/mmdet/apis\n",
            "copying mmdet/apis/train.py -> build/lib/mmdet/apis\n",
            "creating build/lib/mmdet/datasets/pipelines\n",
            "copying mmdet/datasets/pipelines/test_time_aug.py -> build/lib/mmdet/datasets/pipelines\n",
            "copying mmdet/datasets/pipelines/auto_augment.py -> build/lib/mmdet/datasets/pipelines\n",
            "copying mmdet/datasets/pipelines/transforms.py -> build/lib/mmdet/datasets/pipelines\n",
            "copying mmdet/datasets/pipelines/instaboost.py -> build/lib/mmdet/datasets/pipelines\n",
            "copying mmdet/datasets/pipelines/__init__.py -> build/lib/mmdet/datasets/pipelines\n",
            "copying mmdet/datasets/pipelines/compose.py -> build/lib/mmdet/datasets/pipelines\n",
            "copying mmdet/datasets/pipelines/formating.py -> build/lib/mmdet/datasets/pipelines\n",
            "copying mmdet/datasets/pipelines/loading.py -> build/lib/mmdet/datasets/pipelines\n",
            "copying mmdet/datasets/pipelines/formatting.py -> build/lib/mmdet/datasets/pipelines\n",
            "creating build/lib/mmdet/datasets/api_wrappers\n",
            "copying mmdet/datasets/api_wrappers/panoptic_evaluation.py -> build/lib/mmdet/datasets/api_wrappers\n",
            "copying mmdet/datasets/api_wrappers/__init__.py -> build/lib/mmdet/datasets/api_wrappers\n",
            "copying mmdet/datasets/api_wrappers/coco_api.py -> build/lib/mmdet/datasets/api_wrappers\n",
            "creating build/lib/mmdet/datasets/samplers\n",
            "copying mmdet/datasets/samplers/group_sampler.py -> build/lib/mmdet/datasets/samplers\n",
            "copying mmdet/datasets/samplers/class_aware_sampler.py -> build/lib/mmdet/datasets/samplers\n",
            "copying mmdet/datasets/samplers/__init__.py -> build/lib/mmdet/datasets/samplers\n",
            "copying mmdet/datasets/samplers/distributed_sampler.py -> build/lib/mmdet/datasets/samplers\n",
            "copying mmdet/datasets/samplers/infinite_sampler.py -> build/lib/mmdet/datasets/samplers\n",
            "creating build/lib/mmdet/models/seg_heads\n",
            "copying mmdet/models/seg_heads/base_semantic_head.py -> build/lib/mmdet/models/seg_heads\n",
            "copying mmdet/models/seg_heads/__init__.py -> build/lib/mmdet/models/seg_heads\n",
            "copying mmdet/models/seg_heads/panoptic_fpn_head.py -> build/lib/mmdet/models/seg_heads\n",
            "creating build/lib/mmdet/models/utils\n",
            "copying mmdet/models/utils/make_divisible.py -> build/lib/mmdet/models/utils\n",
            "copying mmdet/models/utils/inverted_residual.py -> build/lib/mmdet/models/utils\n",
            "copying mmdet/models/utils/point_sample.py -> build/lib/mmdet/models/utils\n",
            "copying mmdet/models/utils/se_layer.py -> build/lib/mmdet/models/utils\n",
            "copying mmdet/models/utils/transformer.py -> build/lib/mmdet/models/utils\n",
            "copying mmdet/models/utils/normed_predictor.py -> build/lib/mmdet/models/utils\n",
            "copying mmdet/models/utils/builder.py -> build/lib/mmdet/models/utils\n",
            "copying mmdet/models/utils/panoptic_gt_processing.py -> build/lib/mmdet/models/utils\n",
            "copying mmdet/models/utils/gaussian_target.py -> build/lib/mmdet/models/utils\n",
            "copying mmdet/models/utils/__init__.py -> build/lib/mmdet/models/utils\n",
            "copying mmdet/models/utils/misc.py -> build/lib/mmdet/models/utils\n",
            "copying mmdet/models/utils/ckpt_convert.py -> build/lib/mmdet/models/utils\n",
            "copying mmdet/models/utils/conv_upsample.py -> build/lib/mmdet/models/utils\n",
            "copying mmdet/models/utils/positional_encoding.py -> build/lib/mmdet/models/utils\n",
            "copying mmdet/models/utils/brick_wrappers.py -> build/lib/mmdet/models/utils\n",
            "copying mmdet/models/utils/csp_layer.py -> build/lib/mmdet/models/utils\n",
            "copying mmdet/models/utils/res_layer.py -> build/lib/mmdet/models/utils\n",
            "creating build/lib/mmdet/models/plugins\n",
            "copying mmdet/models/plugins/__init__.py -> build/lib/mmdet/models/plugins\n",
            "copying mmdet/models/plugins/msdeformattn_pixel_decoder.py -> build/lib/mmdet/models/plugins\n",
            "copying mmdet/models/plugins/dropblock.py -> build/lib/mmdet/models/plugins\n",
            "copying mmdet/models/plugins/pixel_decoder.py -> build/lib/mmdet/models/plugins\n",
            "creating build/lib/mmdet/models/losses\n",
            "copying mmdet/models/losses/utils.py -> build/lib/mmdet/models/losses\n",
            "copying mmdet/models/losses/mse_loss.py -> build/lib/mmdet/models/losses\n",
            "copying mmdet/models/losses/balanced_l1_loss.py -> build/lib/mmdet/models/losses\n",
            "copying mmdet/models/losses/ghm_loss.py -> build/lib/mmdet/models/losses\n",
            "copying mmdet/models/losses/__init__.py -> build/lib/mmdet/models/losses\n",
            "copying mmdet/models/losses/accuracy.py -> build/lib/mmdet/models/losses\n",
            "copying mmdet/models/losses/gfocal_loss.py -> build/lib/mmdet/models/losses\n",
            "copying mmdet/models/losses/ae_loss.py -> build/lib/mmdet/models/losses\n",
            "copying mmdet/models/losses/gaussian_focal_loss.py -> build/lib/mmdet/models/losses\n",
            "copying mmdet/models/losses/iou_loss.py -> build/lib/mmdet/models/losses\n",
            "copying mmdet/models/losses/pisa_loss.py -> build/lib/mmdet/models/losses\n",
            "copying mmdet/models/losses/focal_loss.py -> build/lib/mmdet/models/losses\n",
            "copying mmdet/models/losses/smooth_l1_loss.py -> build/lib/mmdet/models/losses\n",
            "copying mmdet/models/losses/cross_entropy_loss.py -> build/lib/mmdet/models/losses\n",
            "copying mmdet/models/losses/dice_loss.py -> build/lib/mmdet/models/losses\n",
            "copying mmdet/models/losses/kd_loss.py -> build/lib/mmdet/models/losses\n",
            "copying mmdet/models/losses/seesaw_loss.py -> build/lib/mmdet/models/losses\n",
            "copying mmdet/models/losses/varifocal_loss.py -> build/lib/mmdet/models/losses\n",
            "creating build/lib/mmdet/models/detectors\n",
            "copying mmdet/models/detectors/yolox.py -> build/lib/mmdet/models/detectors\n",
            "copying mmdet/models/detectors/paa.py -> build/lib/mmdet/models/detectors\n",
            "copying mmdet/models/detectors/cascade_rcnn.py -> build/lib/mmdet/models/detectors\n",
            "copying mmdet/models/detectors/mask2former.py -> build/lib/mmdet/models/detectors\n",
            "copying mmdet/models/detectors/atss.py -> build/lib/mmdet/models/detectors\n",
            "copying mmdet/models/detectors/centernet.py -> build/lib/mmdet/models/detectors\n",
            "copying mmdet/models/detectors/mask_rcnn.py -> build/lib/mmdet/models/detectors\n",
            "copying mmdet/models/detectors/mask_scoring_rcnn.py -> build/lib/mmdet/models/detectors\n",
            "copying mmdet/models/detectors/rpn.py -> build/lib/mmdet/models/detectors\n",
            "copying mmdet/models/detectors/yolo.py -> build/lib/mmdet/models/detectors\n",
            "copying mmdet/models/detectors/trident_faster_rcnn.py -> build/lib/mmdet/models/detectors\n",
            "copying mmdet/models/detectors/autoassign.py -> build/lib/mmdet/models/detectors\n",
            "copying mmdet/models/detectors/deformable_detr.py -> build/lib/mmdet/models/detectors\n",
            "copying mmdet/models/detectors/reppoints_detector.py -> build/lib/mmdet/models/detectors\n",
            "copying mmdet/models/detectors/fsaf.py -> build/lib/mmdet/models/detectors\n",
            "copying mmdet/models/detectors/fcos.py -> build/lib/mmdet/models/detectors\n",
            "copying mmdet/models/detectors/detr.py -> build/lib/mmdet/models/detectors\n",
            "copying mmdet/models/detectors/scnet.py -> build/lib/mmdet/models/detectors\n",
            "copying mmdet/models/detectors/tood.py -> build/lib/mmdet/models/detectors\n",
            "copying mmdet/models/detectors/sparse_rcnn.py -> build/lib/mmdet/models/detectors\n",
            "copying mmdet/models/detectors/__init__.py -> build/lib/mmdet/models/detectors\n",
            "copying mmdet/models/detectors/kd_one_stage.py -> build/lib/mmdet/models/detectors\n",
            "copying mmdet/models/detectors/panoptic_two_stage_segmentor.py -> build/lib/mmdet/models/detectors\n",
            "copying mmdet/models/detectors/lad.py -> build/lib/mmdet/models/detectors\n",
            "copying mmdet/models/detectors/yolof.py -> build/lib/mmdet/models/detectors\n",
            "copying mmdet/models/detectors/vfnet.py -> build/lib/mmdet/models/detectors\n",
            "copying mmdet/models/detectors/cornernet.py -> build/lib/mmdet/models/detectors\n",
            "copying mmdet/models/detectors/base.py -> build/lib/mmdet/models/detectors\n",
            "copying mmdet/models/detectors/fast_rcnn.py -> build/lib/mmdet/models/detectors\n",
            "copying mmdet/models/detectors/single_stage.py -> build/lib/mmdet/models/detectors\n",
            "copying mmdet/models/detectors/yolact.py -> build/lib/mmdet/models/detectors\n",
            "copying mmdet/models/detectors/faster_rcnn.py -> build/lib/mmdet/models/detectors\n",
            "copying mmdet/models/detectors/panoptic_fpn.py -> build/lib/mmdet/models/detectors\n",
            "copying mmdet/models/detectors/htc.py -> build/lib/mmdet/models/detectors\n",
            "copying mmdet/models/detectors/retinanet.py -> build/lib/mmdet/models/detectors\n",
            "copying mmdet/models/detectors/grid_rcnn.py -> build/lib/mmdet/models/detectors\n",
            "copying mmdet/models/detectors/point_rend.py -> build/lib/mmdet/models/detectors\n",
            "copying mmdet/models/detectors/maskformer.py -> build/lib/mmdet/models/detectors\n",
            "copying mmdet/models/detectors/gfl.py -> build/lib/mmdet/models/detectors\n",
            "copying mmdet/models/detectors/fovea.py -> build/lib/mmdet/models/detectors\n",
            "copying mmdet/models/detectors/solo.py -> build/lib/mmdet/models/detectors\n",
            "copying mmdet/models/detectors/nasfcos.py -> build/lib/mmdet/models/detectors\n",
            "copying mmdet/models/detectors/single_stage_instance_seg.py -> build/lib/mmdet/models/detectors\n",
            "copying mmdet/models/detectors/two_stage.py -> build/lib/mmdet/models/detectors\n",
            "copying mmdet/models/detectors/queryinst.py -> build/lib/mmdet/models/detectors\n",
            "creating build/lib/mmdet/models/necks\n",
            "copying mmdet/models/necks/ssd_neck.py -> build/lib/mmdet/models/necks\n",
            "copying mmdet/models/necks/bfp.py -> build/lib/mmdet/models/necks\n",
            "copying mmdet/models/necks/dilated_encoder.py -> build/lib/mmdet/models/necks\n",
            "copying mmdet/models/necks/channel_mapper.py -> build/lib/mmdet/models/necks\n",
            "copying mmdet/models/necks/hrfpn.py -> build/lib/mmdet/models/necks\n",
            "copying mmdet/models/necks/pafpn.py -> build/lib/mmdet/models/necks\n",
            "copying mmdet/models/necks/nasfcos_fpn.py -> build/lib/mmdet/models/necks\n",
            "copying mmdet/models/necks/yolo_neck.py -> build/lib/mmdet/models/necks\n",
            "copying mmdet/models/necks/ct_resnet_neck.py -> build/lib/mmdet/models/necks\n",
            "copying mmdet/models/necks/__init__.py -> build/lib/mmdet/models/necks\n",
            "copying mmdet/models/necks/dyhead.py -> build/lib/mmdet/models/necks\n",
            "copying mmdet/models/necks/fpn.py -> build/lib/mmdet/models/necks\n",
            "copying mmdet/models/necks/fpn_carafe.py -> build/lib/mmdet/models/necks\n",
            "copying mmdet/models/necks/rfp.py -> build/lib/mmdet/models/necks\n",
            "copying mmdet/models/necks/fpg.py -> build/lib/mmdet/models/necks\n",
            "copying mmdet/models/necks/nas_fpn.py -> build/lib/mmdet/models/necks\n",
            "copying mmdet/models/necks/yolox_pafpn.py -> build/lib/mmdet/models/necks\n",
            "creating build/lib/mmdet/models/backbones\n",
            "copying mmdet/models/backbones/hrnet.py -> build/lib/mmdet/models/backbones\n",
            "copying mmdet/models/backbones/regnet.py -> build/lib/mmdet/models/backbones\n",
            "copying mmdet/models/backbones/csp_darknet.py -> build/lib/mmdet/models/backbones\n",
            "copying mmdet/models/backbones/darknet.py -> build/lib/mmdet/models/backbones\n",
            "copying mmdet/models/backbones/efficientnet.py -> build/lib/mmdet/models/backbones\n",
            "copying mmdet/models/backbones/detectors_resnet.py -> build/lib/mmdet/models/backbones\n",
            "copying mmdet/models/backbones/resnest.py -> build/lib/mmdet/models/backbones\n",
            "copying mmdet/models/backbones/__init__.py -> build/lib/mmdet/models/backbones\n",
            "copying mmdet/models/backbones/resnext.py -> build/lib/mmdet/models/backbones\n",
            "copying mmdet/models/backbones/pvt.py -> build/lib/mmdet/models/backbones\n",
            "copying mmdet/models/backbones/swin.py -> build/lib/mmdet/models/backbones\n",
            "copying mmdet/models/backbones/mobilenet_v2.py -> build/lib/mmdet/models/backbones\n",
            "copying mmdet/models/backbones/res2net.py -> build/lib/mmdet/models/backbones\n",
            "copying mmdet/models/backbones/ssd_vgg.py -> build/lib/mmdet/models/backbones\n",
            "copying mmdet/models/backbones/detectors_resnext.py -> build/lib/mmdet/models/backbones\n",
            "copying mmdet/models/backbones/hourglass.py -> build/lib/mmdet/models/backbones\n",
            "copying mmdet/models/backbones/trident_resnet.py -> build/lib/mmdet/models/backbones\n",
            "copying mmdet/models/backbones/resnet.py -> build/lib/mmdet/models/backbones\n",
            "creating build/lib/mmdet/models/dense_heads\n",
            "copying mmdet/models/dense_heads/corner_head.py -> build/lib/mmdet/models/dense_heads\n",
            "copying mmdet/models/dense_heads/nasfcos_head.py -> build/lib/mmdet/models/dense_heads\n",
            "copying mmdet/models/dense_heads/tood_head.py -> build/lib/mmdet/models/dense_heads\n",
            "copying mmdet/models/dense_heads/retina_head.py -> build/lib/mmdet/models/dense_heads\n",
            "copying mmdet/models/dense_heads/base_dense_head.py -> build/lib/mmdet/models/dense_heads\n",
            "copying mmdet/models/dense_heads/vfnet_head.py -> build/lib/mmdet/models/dense_heads\n",
            "copying mmdet/models/dense_heads/deformable_detr_head.py -> build/lib/mmdet/models/dense_heads\n",
            "copying mmdet/models/dense_heads/ga_retina_head.py -> build/lib/mmdet/models/dense_heads\n",
            "copying mmdet/models/dense_heads/detr_head.py -> build/lib/mmdet/models/dense_heads\n",
            "copying mmdet/models/dense_heads/base_mask_head.py -> build/lib/mmdet/models/dense_heads\n",
            "copying mmdet/models/dense_heads/pisa_retinanet_head.py -> build/lib/mmdet/models/dense_heads\n",
            "copying mmdet/models/dense_heads/ga_rpn_head.py -> build/lib/mmdet/models/dense_heads\n",
            "copying mmdet/models/dense_heads/free_anchor_retina_head.py -> build/lib/mmdet/models/dense_heads\n",
            "copying mmdet/models/dense_heads/yolof_head.py -> build/lib/mmdet/models/dense_heads\n",
            "copying mmdet/models/dense_heads/cascade_rpn_head.py -> build/lib/mmdet/models/dense_heads\n",
            "copying mmdet/models/dense_heads/pisa_ssd_head.py -> build/lib/mmdet/models/dense_heads\n",
            "copying mmdet/models/dense_heads/centernet_head.py -> build/lib/mmdet/models/dense_heads\n",
            "copying mmdet/models/dense_heads/fsaf_head.py -> build/lib/mmdet/models/dense_heads\n",
            "copying mmdet/models/dense_heads/sabl_retina_head.py -> build/lib/mmdet/models/dense_heads\n",
            "copying mmdet/models/dense_heads/ssd_head.py -> build/lib/mmdet/models/dense_heads\n",
            "copying mmdet/models/dense_heads/__init__.py -> build/lib/mmdet/models/dense_heads\n",
            "copying mmdet/models/dense_heads/centripetal_head.py -> build/lib/mmdet/models/dense_heads\n",
            "copying mmdet/models/dense_heads/gfl_head.py -> build/lib/mmdet/models/dense_heads\n",
            "copying mmdet/models/dense_heads/maskformer_head.py -> build/lib/mmdet/models/dense_heads\n",
            "copying mmdet/models/dense_heads/dense_test_mixins.py -> build/lib/mmdet/models/dense_heads\n",
            "copying mmdet/models/dense_heads/paa_head.py -> build/lib/mmdet/models/dense_heads\n",
            "copying mmdet/models/dense_heads/embedding_rpn_head.py -> build/lib/mmdet/models/dense_heads\n",
            "copying mmdet/models/dense_heads/solo_head.py -> build/lib/mmdet/models/dense_heads\n",
            "copying mmdet/models/dense_heads/rpn_head.py -> build/lib/mmdet/models/dense_heads\n",
            "copying mmdet/models/dense_heads/mask2former_head.py -> build/lib/mmdet/models/dense_heads\n",
            "copying mmdet/models/dense_heads/anchor_head.py -> build/lib/mmdet/models/dense_heads\n",
            "copying mmdet/models/dense_heads/lad_head.py -> build/lib/mmdet/models/dense_heads\n",
            "copying mmdet/models/dense_heads/ld_head.py -> build/lib/mmdet/models/dense_heads\n",
            "copying mmdet/models/dense_heads/yolox_head.py -> build/lib/mmdet/models/dense_heads\n",
            "copying mmdet/models/dense_heads/atss_head.py -> build/lib/mmdet/models/dense_heads\n",
            "copying mmdet/models/dense_heads/guided_anchor_head.py -> build/lib/mmdet/models/dense_heads\n",
            "copying mmdet/models/dense_heads/reppoints_head.py -> build/lib/mmdet/models/dense_heads\n",
            "copying mmdet/models/dense_heads/autoassign_head.py -> build/lib/mmdet/models/dense_heads\n",
            "copying mmdet/models/dense_heads/fcos_head.py -> build/lib/mmdet/models/dense_heads\n",
            "copying mmdet/models/dense_heads/yolo_head.py -> build/lib/mmdet/models/dense_heads\n",
            "copying mmdet/models/dense_heads/anchor_free_head.py -> build/lib/mmdet/models/dense_heads\n",
            "copying mmdet/models/dense_heads/yolact_head.py -> build/lib/mmdet/models/dense_heads\n",
            "copying mmdet/models/dense_heads/retina_sepbn_head.py -> build/lib/mmdet/models/dense_heads\n",
            "copying mmdet/models/dense_heads/fovea_head.py -> build/lib/mmdet/models/dense_heads\n",
            "creating build/lib/mmdet/models/roi_heads\n",
            "copying mmdet/models/roi_heads/grid_roi_head.py -> build/lib/mmdet/models/roi_heads\n",
            "copying mmdet/models/roi_heads/trident_roi_head.py -> build/lib/mmdet/models/roi_heads\n",
            "copying mmdet/models/roi_heads/point_rend_roi_head.py -> build/lib/mmdet/models/roi_heads\n",
            "copying mmdet/models/roi_heads/test_mixins.py -> build/lib/mmdet/models/roi_heads\n",
            "copying mmdet/models/roi_heads/standard_roi_head.py -> build/lib/mmdet/models/roi_heads\n",
            "copying mmdet/models/roi_heads/mask_scoring_roi_head.py -> build/lib/mmdet/models/roi_heads\n",
            "copying mmdet/models/roi_heads/htc_roi_head.py -> build/lib/mmdet/models/roi_heads\n",
            "copying mmdet/models/roi_heads/__init__.py -> build/lib/mmdet/models/roi_heads\n",
            "copying mmdet/models/roi_heads/scnet_roi_head.py -> build/lib/mmdet/models/roi_heads\n",
            "copying mmdet/models/roi_heads/dynamic_roi_head.py -> build/lib/mmdet/models/roi_heads\n",
            "copying mmdet/models/roi_heads/pisa_roi_head.py -> build/lib/mmdet/models/roi_heads\n",
            "copying mmdet/models/roi_heads/cascade_roi_head.py -> build/lib/mmdet/models/roi_heads\n",
            "copying mmdet/models/roi_heads/double_roi_head.py -> build/lib/mmdet/models/roi_heads\n",
            "copying mmdet/models/roi_heads/sparse_roi_head.py -> build/lib/mmdet/models/roi_heads\n",
            "copying mmdet/models/roi_heads/base_roi_head.py -> build/lib/mmdet/models/roi_heads\n",
            "creating build/lib/mmdet/models/seg_heads/panoptic_fusion_heads\n",
            "copying mmdet/models/seg_heads/panoptic_fusion_heads/maskformer_fusion_head.py -> build/lib/mmdet/models/seg_heads/panoptic_fusion_heads\n",
            "copying mmdet/models/seg_heads/panoptic_fusion_heads/__init__.py -> build/lib/mmdet/models/seg_heads/panoptic_fusion_heads\n",
            "copying mmdet/models/seg_heads/panoptic_fusion_heads/base_panoptic_fusion_head.py -> build/lib/mmdet/models/seg_heads/panoptic_fusion_heads\n",
            "copying mmdet/models/seg_heads/panoptic_fusion_heads/heuristic_fusion_head.py -> build/lib/mmdet/models/seg_heads/panoptic_fusion_heads\n",
            "creating build/lib/mmdet/models/roi_heads/bbox_heads\n",
            "copying mmdet/models/roi_heads/bbox_heads/sabl_head.py -> build/lib/mmdet/models/roi_heads/bbox_heads\n",
            "copying mmdet/models/roi_heads/bbox_heads/__init__.py -> build/lib/mmdet/models/roi_heads/bbox_heads\n",
            "copying mmdet/models/roi_heads/bbox_heads/bbox_head.py -> build/lib/mmdet/models/roi_heads/bbox_heads\n",
            "copying mmdet/models/roi_heads/bbox_heads/scnet_bbox_head.py -> build/lib/mmdet/models/roi_heads/bbox_heads\n",
            "copying mmdet/models/roi_heads/bbox_heads/convfc_bbox_head.py -> build/lib/mmdet/models/roi_heads/bbox_heads\n",
            "copying mmdet/models/roi_heads/bbox_heads/dii_head.py -> build/lib/mmdet/models/roi_heads/bbox_heads\n",
            "copying mmdet/models/roi_heads/bbox_heads/double_bbox_head.py -> build/lib/mmdet/models/roi_heads/bbox_heads\n",
            "creating build/lib/mmdet/models/roi_heads/roi_extractors\n",
            "copying mmdet/models/roi_heads/roi_extractors/base_roi_extractor.py -> build/lib/mmdet/models/roi_heads/roi_extractors\n",
            "copying mmdet/models/roi_heads/roi_extractors/single_level_roi_extractor.py -> build/lib/mmdet/models/roi_heads/roi_extractors\n",
            "copying mmdet/models/roi_heads/roi_extractors/__init__.py -> build/lib/mmdet/models/roi_heads/roi_extractors\n",
            "copying mmdet/models/roi_heads/roi_extractors/generic_roi_extractor.py -> build/lib/mmdet/models/roi_heads/roi_extractors\n",
            "creating build/lib/mmdet/models/roi_heads/shared_heads\n",
            "copying mmdet/models/roi_heads/shared_heads/__init__.py -> build/lib/mmdet/models/roi_heads/shared_heads\n",
            "copying mmdet/models/roi_heads/shared_heads/res_layer.py -> build/lib/mmdet/models/roi_heads/shared_heads\n",
            "creating build/lib/mmdet/models/roi_heads/mask_heads\n",
            "copying mmdet/models/roi_heads/mask_heads/global_context_head.py -> build/lib/mmdet/models/roi_heads/mask_heads\n",
            "copying mmdet/models/roi_heads/mask_heads/dynamic_mask_head.py -> build/lib/mmdet/models/roi_heads/mask_heads\n",
            "copying mmdet/models/roi_heads/mask_heads/coarse_mask_head.py -> build/lib/mmdet/models/roi_heads/mask_heads\n",
            "copying mmdet/models/roi_heads/mask_heads/fcn_mask_head.py -> build/lib/mmdet/models/roi_heads/mask_heads\n",
            "copying mmdet/models/roi_heads/mask_heads/mask_point_head.py -> build/lib/mmdet/models/roi_heads/mask_heads\n",
            "copying mmdet/models/roi_heads/mask_heads/grid_head.py -> build/lib/mmdet/models/roi_heads/mask_heads\n",
            "copying mmdet/models/roi_heads/mask_heads/__init__.py -> build/lib/mmdet/models/roi_heads/mask_heads\n",
            "copying mmdet/models/roi_heads/mask_heads/scnet_mask_head.py -> build/lib/mmdet/models/roi_heads/mask_heads\n",
            "copying mmdet/models/roi_heads/mask_heads/maskiou_head.py -> build/lib/mmdet/models/roi_heads/mask_heads\n",
            "copying mmdet/models/roi_heads/mask_heads/fused_semantic_head.py -> build/lib/mmdet/models/roi_heads/mask_heads\n",
            "copying mmdet/models/roi_heads/mask_heads/scnet_semantic_head.py -> build/lib/mmdet/models/roi_heads/mask_heads\n",
            "copying mmdet/models/roi_heads/mask_heads/feature_relay_head.py -> build/lib/mmdet/models/roi_heads/mask_heads\n",
            "copying mmdet/models/roi_heads/mask_heads/htc_mask_head.py -> build/lib/mmdet/models/roi_heads/mask_heads\n",
            "creating build/lib/mmdet/core/mask\n",
            "copying mmdet/core/mask/utils.py -> build/lib/mmdet/core/mask\n",
            "copying mmdet/core/mask/__init__.py -> build/lib/mmdet/core/mask\n",
            "copying mmdet/core/mask/mask_target.py -> build/lib/mmdet/core/mask\n",
            "copying mmdet/core/mask/structures.py -> build/lib/mmdet/core/mask\n",
            "creating build/lib/mmdet/core/hook\n",
            "copying mmdet/core/hook/checkloss_hook.py -> build/lib/mmdet/core/hook\n",
            "copying mmdet/core/hook/ema.py -> build/lib/mmdet/core/hook\n",
            "copying mmdet/core/hook/set_epoch_info_hook.py -> build/lib/mmdet/core/hook\n",
            "copying mmdet/core/hook/yolox_lrupdater_hook.py -> build/lib/mmdet/core/hook\n",
            "copying mmdet/core/hook/memory_profiler_hook.py -> build/lib/mmdet/core/hook\n",
            "copying mmdet/core/hook/__init__.py -> build/lib/mmdet/core/hook\n",
            "copying mmdet/core/hook/sync_norm_hook.py -> build/lib/mmdet/core/hook\n",
            "copying mmdet/core/hook/yolox_mode_switch_hook.py -> build/lib/mmdet/core/hook\n",
            "copying mmdet/core/hook/sync_random_size_hook.py -> build/lib/mmdet/core/hook\n",
            "creating build/lib/mmdet/core/utils\n",
            "copying mmdet/core/utils/__init__.py -> build/lib/mmdet/core/utils\n",
            "copying mmdet/core/utils/dist_utils.py -> build/lib/mmdet/core/utils\n",
            "copying mmdet/core/utils/misc.py -> build/lib/mmdet/core/utils\n",
            "creating build/lib/mmdet/core/evaluation\n",
            "copying mmdet/core/evaluation/mean_ap.py -> build/lib/mmdet/core/evaluation\n",
            "copying mmdet/core/evaluation/bbox_overlaps.py -> build/lib/mmdet/core/evaluation\n",
            "copying mmdet/core/evaluation/__init__.py -> build/lib/mmdet/core/evaluation\n",
            "copying mmdet/core/evaluation/panoptic_utils.py -> build/lib/mmdet/core/evaluation\n",
            "copying mmdet/core/evaluation/recall.py -> build/lib/mmdet/core/evaluation\n",
            "copying mmdet/core/evaluation/class_names.py -> build/lib/mmdet/core/evaluation\n",
            "copying mmdet/core/evaluation/eval_hooks.py -> build/lib/mmdet/core/evaluation\n",
            "creating build/lib/mmdet/core/bbox\n",
            "copying mmdet/core/bbox/builder.py -> build/lib/mmdet/core/bbox\n",
            "copying mmdet/core/bbox/transforms.py -> build/lib/mmdet/core/bbox\n",
            "copying mmdet/core/bbox/__init__.py -> build/lib/mmdet/core/bbox\n",
            "copying mmdet/core/bbox/demodata.py -> build/lib/mmdet/core/bbox\n",
            "creating build/lib/mmdet/core/post_processing\n",
            "copying mmdet/core/post_processing/matrix_nms.py -> build/lib/mmdet/core/post_processing\n",
            "copying mmdet/core/post_processing/__init__.py -> build/lib/mmdet/core/post_processing\n",
            "copying mmdet/core/post_processing/merge_augs.py -> build/lib/mmdet/core/post_processing\n",
            "copying mmdet/core/post_processing/bbox_nms.py -> build/lib/mmdet/core/post_processing\n",
            "creating build/lib/mmdet/core/data_structures\n",
            "copying mmdet/core/data_structures/instance_data.py -> build/lib/mmdet/core/data_structures\n",
            "copying mmdet/core/data_structures/general_data.py -> build/lib/mmdet/core/data_structures\n",
            "copying mmdet/core/data_structures/__init__.py -> build/lib/mmdet/core/data_structures\n",
            "creating build/lib/mmdet/core/export\n",
            "copying mmdet/core/export/model_wrappers.py -> build/lib/mmdet/core/export\n",
            "copying mmdet/core/export/__init__.py -> build/lib/mmdet/core/export\n",
            "copying mmdet/core/export/pytorch2onnx.py -> build/lib/mmdet/core/export\n",
            "copying mmdet/core/export/onnx_helper.py -> build/lib/mmdet/core/export\n",
            "creating build/lib/mmdet/core/anchor\n",
            "copying mmdet/core/anchor/utils.py -> build/lib/mmdet/core/anchor\n",
            "copying mmdet/core/anchor/point_generator.py -> build/lib/mmdet/core/anchor\n",
            "copying mmdet/core/anchor/builder.py -> build/lib/mmdet/core/anchor\n",
            "copying mmdet/core/anchor/__init__.py -> build/lib/mmdet/core/anchor\n",
            "copying mmdet/core/anchor/anchor_generator.py -> build/lib/mmdet/core/anchor\n",
            "creating build/lib/mmdet/core/visualization\n",
            "copying mmdet/core/visualization/__init__.py -> build/lib/mmdet/core/visualization\n",
            "copying mmdet/core/visualization/palette.py -> build/lib/mmdet/core/visualization\n",
            "copying mmdet/core/visualization/image.py -> build/lib/mmdet/core/visualization\n",
            "creating build/lib/mmdet/core/bbox/assigners\n",
            "copying mmdet/core/bbox/assigners/uniform_assigner.py -> build/lib/mmdet/core/bbox/assigners\n",
            "copying mmdet/core/bbox/assigners/base_assigner.py -> build/lib/mmdet/core/bbox/assigners\n",
            "copying mmdet/core/bbox/assigners/point_assigner.py -> build/lib/mmdet/core/bbox/assigners\n",
            "copying mmdet/core/bbox/assigners/region_assigner.py -> build/lib/mmdet/core/bbox/assigners\n",
            "copying mmdet/core/bbox/assigners/assign_result.py -> build/lib/mmdet/core/bbox/assigners\n",
            "copying mmdet/core/bbox/assigners/atss_assigner.py -> build/lib/mmdet/core/bbox/assigners\n",
            "copying mmdet/core/bbox/assigners/__init__.py -> build/lib/mmdet/core/bbox/assigners\n",
            "copying mmdet/core/bbox/assigners/approx_max_iou_assigner.py -> build/lib/mmdet/core/bbox/assigners\n",
            "copying mmdet/core/bbox/assigners/max_iou_assigner.py -> build/lib/mmdet/core/bbox/assigners\n",
            "copying mmdet/core/bbox/assigners/hungarian_assigner.py -> build/lib/mmdet/core/bbox/assigners\n",
            "copying mmdet/core/bbox/assigners/grid_assigner.py -> build/lib/mmdet/core/bbox/assigners\n",
            "copying mmdet/core/bbox/assigners/mask_hungarian_assigner.py -> build/lib/mmdet/core/bbox/assigners\n",
            "copying mmdet/core/bbox/assigners/center_region_assigner.py -> build/lib/mmdet/core/bbox/assigners\n",
            "copying mmdet/core/bbox/assigners/task_aligned_assigner.py -> build/lib/mmdet/core/bbox/assigners\n",
            "copying mmdet/core/bbox/assigners/sim_ota_assigner.py -> build/lib/mmdet/core/bbox/assigners\n",
            "creating build/lib/mmdet/core/bbox/iou_calculators\n",
            "copying mmdet/core/bbox/iou_calculators/builder.py -> build/lib/mmdet/core/bbox/iou_calculators\n",
            "copying mmdet/core/bbox/iou_calculators/__init__.py -> build/lib/mmdet/core/bbox/iou_calculators\n",
            "copying mmdet/core/bbox/iou_calculators/iou2d_calculator.py -> build/lib/mmdet/core/bbox/iou_calculators\n",
            "creating build/lib/mmdet/core/bbox/match_costs\n",
            "copying mmdet/core/bbox/match_costs/match_cost.py -> build/lib/mmdet/core/bbox/match_costs\n",
            "copying mmdet/core/bbox/match_costs/builder.py -> build/lib/mmdet/core/bbox/match_costs\n",
            "copying mmdet/core/bbox/match_costs/__init__.py -> build/lib/mmdet/core/bbox/match_costs\n",
            "creating build/lib/mmdet/core/bbox/samplers\n",
            "copying mmdet/core/bbox/samplers/base_sampler.py -> build/lib/mmdet/core/bbox/samplers\n",
            "copying mmdet/core/bbox/samplers/random_sampler.py -> build/lib/mmdet/core/bbox/samplers\n",
            "copying mmdet/core/bbox/samplers/score_hlr_sampler.py -> build/lib/mmdet/core/bbox/samplers\n",
            "copying mmdet/core/bbox/samplers/__init__.py -> build/lib/mmdet/core/bbox/samplers\n",
            "copying mmdet/core/bbox/samplers/ohem_sampler.py -> build/lib/mmdet/core/bbox/samplers\n",
            "copying mmdet/core/bbox/samplers/instance_balanced_pos_sampler.py -> build/lib/mmdet/core/bbox/samplers\n",
            "copying mmdet/core/bbox/samplers/sampling_result.py -> build/lib/mmdet/core/bbox/samplers\n",
            "copying mmdet/core/bbox/samplers/iou_balanced_neg_sampler.py -> build/lib/mmdet/core/bbox/samplers\n",
            "copying mmdet/core/bbox/samplers/mask_pseudo_sampler.py -> build/lib/mmdet/core/bbox/samplers\n",
            "copying mmdet/core/bbox/samplers/mask_sampling_result.py -> build/lib/mmdet/core/bbox/samplers\n",
            "copying mmdet/core/bbox/samplers/pseudo_sampler.py -> build/lib/mmdet/core/bbox/samplers\n",
            "copying mmdet/core/bbox/samplers/combined_sampler.py -> build/lib/mmdet/core/bbox/samplers\n",
            "creating build/lib/mmdet/core/bbox/coder\n",
            "copying mmdet/core/bbox/coder/yolo_bbox_coder.py -> build/lib/mmdet/core/bbox/coder\n",
            "copying mmdet/core/bbox/coder/tblr_bbox_coder.py -> build/lib/mmdet/core/bbox/coder\n",
            "copying mmdet/core/bbox/coder/base_bbox_coder.py -> build/lib/mmdet/core/bbox/coder\n",
            "copying mmdet/core/bbox/coder/__init__.py -> build/lib/mmdet/core/bbox/coder\n",
            "copying mmdet/core/bbox/coder/pseudo_bbox_coder.py -> build/lib/mmdet/core/bbox/coder\n",
            "copying mmdet/core/bbox/coder/delta_xywh_bbox_coder.py -> build/lib/mmdet/core/bbox/coder\n",
            "copying mmdet/core/bbox/coder/distance_point_bbox_coder.py -> build/lib/mmdet/core/bbox/coder\n",
            "copying mmdet/core/bbox/coder/bucketing_bbox_coder.py -> build/lib/mmdet/core/bbox/coder\n",
            "copying mmdet/core/bbox/coder/legacy_delta_xywh_bbox_coder.py -> build/lib/mmdet/core/bbox/coder\n",
            "creating build/bdist.linux-x86_64\n",
            "creating build/bdist.linux-x86_64/egg\n",
            "creating build/bdist.linux-x86_64/egg/mmdet\n",
            "creating build/bdist.linux-x86_64/egg/mmdet/datasets\n",
            "copying build/lib/mmdet/datasets/coco_panoptic.py -> build/bdist.linux-x86_64/egg/mmdet/datasets\n",
            "copying build/lib/mmdet/datasets/xml_style.py -> build/bdist.linux-x86_64/egg/mmdet/datasets\n",
            "copying build/lib/mmdet/datasets/utils.py -> build/bdist.linux-x86_64/egg/mmdet/datasets\n",
            "copying build/lib/mmdet/datasets/builder.py -> build/bdist.linux-x86_64/egg/mmdet/datasets\n",
            "copying build/lib/mmdet/datasets/coco.py -> build/bdist.linux-x86_64/egg/mmdet/datasets\n",
            "copying build/lib/mmdet/datasets/voc.py -> build/bdist.linux-x86_64/egg/mmdet/datasets\n",
            "copying build/lib/mmdet/datasets/dataset_wrappers.py -> build/bdist.linux-x86_64/egg/mmdet/datasets\n",
            "copying build/lib/mmdet/datasets/openimages.py -> build/bdist.linux-x86_64/egg/mmdet/datasets\n",
            "creating build/bdist.linux-x86_64/egg/mmdet/datasets/pipelines\n",
            "copying build/lib/mmdet/datasets/pipelines/test_time_aug.py -> build/bdist.linux-x86_64/egg/mmdet/datasets/pipelines\n",
            "copying build/lib/mmdet/datasets/pipelines/auto_augment.py -> build/bdist.linux-x86_64/egg/mmdet/datasets/pipelines\n",
            "copying build/lib/mmdet/datasets/pipelines/transforms.py -> build/bdist.linux-x86_64/egg/mmdet/datasets/pipelines\n",
            "copying build/lib/mmdet/datasets/pipelines/instaboost.py -> build/bdist.linux-x86_64/egg/mmdet/datasets/pipelines\n",
            "copying build/lib/mmdet/datasets/pipelines/__init__.py -> build/bdist.linux-x86_64/egg/mmdet/datasets/pipelines\n",
            "copying build/lib/mmdet/datasets/pipelines/compose.py -> build/bdist.linux-x86_64/egg/mmdet/datasets/pipelines\n",
            "copying build/lib/mmdet/datasets/pipelines/formating.py -> build/bdist.linux-x86_64/egg/mmdet/datasets/pipelines\n",
            "copying build/lib/mmdet/datasets/pipelines/loading.py -> build/bdist.linux-x86_64/egg/mmdet/datasets/pipelines\n",
            "copying build/lib/mmdet/datasets/pipelines/formatting.py -> build/bdist.linux-x86_64/egg/mmdet/datasets/pipelines\n",
            "copying build/lib/mmdet/datasets/__init__.py -> build/bdist.linux-x86_64/egg/mmdet/datasets\n",
            "copying build/lib/mmdet/datasets/custom.py -> build/bdist.linux-x86_64/egg/mmdet/datasets\n",
            "copying build/lib/mmdet/datasets/deepfashion.py -> build/bdist.linux-x86_64/egg/mmdet/datasets\n",
            "creating build/bdist.linux-x86_64/egg/mmdet/datasets/api_wrappers\n",
            "copying build/lib/mmdet/datasets/api_wrappers/panoptic_evaluation.py -> build/bdist.linux-x86_64/egg/mmdet/datasets/api_wrappers\n",
            "copying build/lib/mmdet/datasets/api_wrappers/__init__.py -> build/bdist.linux-x86_64/egg/mmdet/datasets/api_wrappers\n",
            "copying build/lib/mmdet/datasets/api_wrappers/coco_api.py -> build/bdist.linux-x86_64/egg/mmdet/datasets/api_wrappers\n",
            "copying build/lib/mmdet/datasets/wider_face.py -> build/bdist.linux-x86_64/egg/mmdet/datasets\n",
            "copying build/lib/mmdet/datasets/lvis.py -> build/bdist.linux-x86_64/egg/mmdet/datasets\n",
            "creating build/bdist.linux-x86_64/egg/mmdet/datasets/samplers\n",
            "copying build/lib/mmdet/datasets/samplers/group_sampler.py -> build/bdist.linux-x86_64/egg/mmdet/datasets/samplers\n",
            "copying build/lib/mmdet/datasets/samplers/class_aware_sampler.py -> build/bdist.linux-x86_64/egg/mmdet/datasets/samplers\n",
            "copying build/lib/mmdet/datasets/samplers/__init__.py -> build/bdist.linux-x86_64/egg/mmdet/datasets/samplers\n",
            "copying build/lib/mmdet/datasets/samplers/distributed_sampler.py -> build/bdist.linux-x86_64/egg/mmdet/datasets/samplers\n",
            "copying build/lib/mmdet/datasets/samplers/infinite_sampler.py -> build/bdist.linux-x86_64/egg/mmdet/datasets/samplers\n",
            "copying build/lib/mmdet/datasets/cityscapes.py -> build/bdist.linux-x86_64/egg/mmdet/datasets\n",
            "creating build/bdist.linux-x86_64/egg/mmdet/models\n",
            "creating build/bdist.linux-x86_64/egg/mmdet/models/seg_heads\n",
            "creating build/bdist.linux-x86_64/egg/mmdet/models/seg_heads/panoptic_fusion_heads\n",
            "copying build/lib/mmdet/models/seg_heads/panoptic_fusion_heads/maskformer_fusion_head.py -> build/bdist.linux-x86_64/egg/mmdet/models/seg_heads/panoptic_fusion_heads\n",
            "copying build/lib/mmdet/models/seg_heads/panoptic_fusion_heads/__init__.py -> build/bdist.linux-x86_64/egg/mmdet/models/seg_heads/panoptic_fusion_heads\n",
            "copying build/lib/mmdet/models/seg_heads/panoptic_fusion_heads/base_panoptic_fusion_head.py -> build/bdist.linux-x86_64/egg/mmdet/models/seg_heads/panoptic_fusion_heads\n",
            "copying build/lib/mmdet/models/seg_heads/panoptic_fusion_heads/heuristic_fusion_head.py -> build/bdist.linux-x86_64/egg/mmdet/models/seg_heads/panoptic_fusion_heads\n",
            "copying build/lib/mmdet/models/seg_heads/base_semantic_head.py -> build/bdist.linux-x86_64/egg/mmdet/models/seg_heads\n",
            "copying build/lib/mmdet/models/seg_heads/__init__.py -> build/bdist.linux-x86_64/egg/mmdet/models/seg_heads\n",
            "copying build/lib/mmdet/models/seg_heads/panoptic_fpn_head.py -> build/bdist.linux-x86_64/egg/mmdet/models/seg_heads\n",
            "creating build/bdist.linux-x86_64/egg/mmdet/models/utils\n",
            "copying build/lib/mmdet/models/utils/make_divisible.py -> build/bdist.linux-x86_64/egg/mmdet/models/utils\n",
            "copying build/lib/mmdet/models/utils/inverted_residual.py -> build/bdist.linux-x86_64/egg/mmdet/models/utils\n",
            "copying build/lib/mmdet/models/utils/point_sample.py -> build/bdist.linux-x86_64/egg/mmdet/models/utils\n",
            "copying build/lib/mmdet/models/utils/se_layer.py -> build/bdist.linux-x86_64/egg/mmdet/models/utils\n",
            "copying build/lib/mmdet/models/utils/transformer.py -> build/bdist.linux-x86_64/egg/mmdet/models/utils\n",
            "copying build/lib/mmdet/models/utils/normed_predictor.py -> build/bdist.linux-x86_64/egg/mmdet/models/utils\n",
            "copying build/lib/mmdet/models/utils/builder.py -> build/bdist.linux-x86_64/egg/mmdet/models/utils\n",
            "copying build/lib/mmdet/models/utils/panoptic_gt_processing.py -> build/bdist.linux-x86_64/egg/mmdet/models/utils\n",
            "copying build/lib/mmdet/models/utils/gaussian_target.py -> build/bdist.linux-x86_64/egg/mmdet/models/utils\n",
            "copying build/lib/mmdet/models/utils/__init__.py -> build/bdist.linux-x86_64/egg/mmdet/models/utils\n",
            "copying build/lib/mmdet/models/utils/misc.py -> build/bdist.linux-x86_64/egg/mmdet/models/utils\n",
            "copying build/lib/mmdet/models/utils/ckpt_convert.py -> build/bdist.linux-x86_64/egg/mmdet/models/utils\n",
            "copying build/lib/mmdet/models/utils/conv_upsample.py -> build/bdist.linux-x86_64/egg/mmdet/models/utils\n",
            "copying build/lib/mmdet/models/utils/positional_encoding.py -> build/bdist.linux-x86_64/egg/mmdet/models/utils\n",
            "copying build/lib/mmdet/models/utils/brick_wrappers.py -> build/bdist.linux-x86_64/egg/mmdet/models/utils\n",
            "copying build/lib/mmdet/models/utils/csp_layer.py -> build/bdist.linux-x86_64/egg/mmdet/models/utils\n",
            "copying build/lib/mmdet/models/utils/res_layer.py -> build/bdist.linux-x86_64/egg/mmdet/models/utils\n",
            "copying build/lib/mmdet/models/builder.py -> build/bdist.linux-x86_64/egg/mmdet/models\n",
            "creating build/bdist.linux-x86_64/egg/mmdet/models/plugins\n",
            "copying build/lib/mmdet/models/plugins/__init__.py -> build/bdist.linux-x86_64/egg/mmdet/models/plugins\n",
            "copying build/lib/mmdet/models/plugins/msdeformattn_pixel_decoder.py -> build/bdist.linux-x86_64/egg/mmdet/models/plugins\n",
            "copying build/lib/mmdet/models/plugins/dropblock.py -> build/bdist.linux-x86_64/egg/mmdet/models/plugins\n",
            "copying build/lib/mmdet/models/plugins/pixel_decoder.py -> build/bdist.linux-x86_64/egg/mmdet/models/plugins\n",
            "creating build/bdist.linux-x86_64/egg/mmdet/models/losses\n",
            "copying build/lib/mmdet/models/losses/utils.py -> build/bdist.linux-x86_64/egg/mmdet/models/losses\n",
            "copying build/lib/mmdet/models/losses/mse_loss.py -> build/bdist.linux-x86_64/egg/mmdet/models/losses\n",
            "copying build/lib/mmdet/models/losses/balanced_l1_loss.py -> build/bdist.linux-x86_64/egg/mmdet/models/losses\n",
            "copying build/lib/mmdet/models/losses/ghm_loss.py -> build/bdist.linux-x86_64/egg/mmdet/models/losses\n",
            "copying build/lib/mmdet/models/losses/__init__.py -> build/bdist.linux-x86_64/egg/mmdet/models/losses\n",
            "copying build/lib/mmdet/models/losses/accuracy.py -> build/bdist.linux-x86_64/egg/mmdet/models/losses\n",
            "copying build/lib/mmdet/models/losses/gfocal_loss.py -> build/bdist.linux-x86_64/egg/mmdet/models/losses\n",
            "copying build/lib/mmdet/models/losses/ae_loss.py -> build/bdist.linux-x86_64/egg/mmdet/models/losses\n",
            "copying build/lib/mmdet/models/losses/gaussian_focal_loss.py -> build/bdist.linux-x86_64/egg/mmdet/models/losses\n",
            "copying build/lib/mmdet/models/losses/iou_loss.py -> build/bdist.linux-x86_64/egg/mmdet/models/losses\n",
            "copying build/lib/mmdet/models/losses/pisa_loss.py -> build/bdist.linux-x86_64/egg/mmdet/models/losses\n",
            "copying build/lib/mmdet/models/losses/focal_loss.py -> build/bdist.linux-x86_64/egg/mmdet/models/losses\n",
            "copying build/lib/mmdet/models/losses/smooth_l1_loss.py -> build/bdist.linux-x86_64/egg/mmdet/models/losses\n",
            "copying build/lib/mmdet/models/losses/cross_entropy_loss.py -> build/bdist.linux-x86_64/egg/mmdet/models/losses\n",
            "copying build/lib/mmdet/models/losses/dice_loss.py -> build/bdist.linux-x86_64/egg/mmdet/models/losses\n",
            "copying build/lib/mmdet/models/losses/kd_loss.py -> build/bdist.linux-x86_64/egg/mmdet/models/losses\n",
            "copying build/lib/mmdet/models/losses/seesaw_loss.py -> build/bdist.linux-x86_64/egg/mmdet/models/losses\n",
            "copying build/lib/mmdet/models/losses/varifocal_loss.py -> build/bdist.linux-x86_64/egg/mmdet/models/losses\n",
            "creating build/bdist.linux-x86_64/egg/mmdet/models/detectors\n",
            "copying build/lib/mmdet/models/detectors/yolox.py -> build/bdist.linux-x86_64/egg/mmdet/models/detectors\n",
            "copying build/lib/mmdet/models/detectors/paa.py -> build/bdist.linux-x86_64/egg/mmdet/models/detectors\n",
            "copying build/lib/mmdet/models/detectors/cascade_rcnn.py -> build/bdist.linux-x86_64/egg/mmdet/models/detectors\n",
            "copying build/lib/mmdet/models/detectors/mask2former.py -> build/bdist.linux-x86_64/egg/mmdet/models/detectors\n",
            "copying build/lib/mmdet/models/detectors/atss.py -> build/bdist.linux-x86_64/egg/mmdet/models/detectors\n",
            "copying build/lib/mmdet/models/detectors/centernet.py -> build/bdist.linux-x86_64/egg/mmdet/models/detectors\n",
            "copying build/lib/mmdet/models/detectors/mask_rcnn.py -> build/bdist.linux-x86_64/egg/mmdet/models/detectors\n",
            "copying build/lib/mmdet/models/detectors/mask_scoring_rcnn.py -> build/bdist.linux-x86_64/egg/mmdet/models/detectors\n",
            "copying build/lib/mmdet/models/detectors/rpn.py -> build/bdist.linux-x86_64/egg/mmdet/models/detectors\n",
            "copying build/lib/mmdet/models/detectors/yolo.py -> build/bdist.linux-x86_64/egg/mmdet/models/detectors\n",
            "copying build/lib/mmdet/models/detectors/trident_faster_rcnn.py -> build/bdist.linux-x86_64/egg/mmdet/models/detectors\n",
            "copying build/lib/mmdet/models/detectors/autoassign.py -> build/bdist.linux-x86_64/egg/mmdet/models/detectors\n",
            "copying build/lib/mmdet/models/detectors/deformable_detr.py -> build/bdist.linux-x86_64/egg/mmdet/models/detectors\n",
            "copying build/lib/mmdet/models/detectors/reppoints_detector.py -> build/bdist.linux-x86_64/egg/mmdet/models/detectors\n",
            "copying build/lib/mmdet/models/detectors/fsaf.py -> build/bdist.linux-x86_64/egg/mmdet/models/detectors\n",
            "copying build/lib/mmdet/models/detectors/fcos.py -> build/bdist.linux-x86_64/egg/mmdet/models/detectors\n",
            "copying build/lib/mmdet/models/detectors/detr.py -> build/bdist.linux-x86_64/egg/mmdet/models/detectors\n",
            "copying build/lib/mmdet/models/detectors/scnet.py -> build/bdist.linux-x86_64/egg/mmdet/models/detectors\n",
            "copying build/lib/mmdet/models/detectors/tood.py -> build/bdist.linux-x86_64/egg/mmdet/models/detectors\n",
            "copying build/lib/mmdet/models/detectors/sparse_rcnn.py -> build/bdist.linux-x86_64/egg/mmdet/models/detectors\n",
            "copying build/lib/mmdet/models/detectors/__init__.py -> build/bdist.linux-x86_64/egg/mmdet/models/detectors\n",
            "copying build/lib/mmdet/models/detectors/kd_one_stage.py -> build/bdist.linux-x86_64/egg/mmdet/models/detectors\n",
            "copying build/lib/mmdet/models/detectors/panoptic_two_stage_segmentor.py -> build/bdist.linux-x86_64/egg/mmdet/models/detectors\n",
            "copying build/lib/mmdet/models/detectors/lad.py -> build/bdist.linux-x86_64/egg/mmdet/models/detectors\n",
            "copying build/lib/mmdet/models/detectors/yolof.py -> build/bdist.linux-x86_64/egg/mmdet/models/detectors\n",
            "copying build/lib/mmdet/models/detectors/vfnet.py -> build/bdist.linux-x86_64/egg/mmdet/models/detectors\n",
            "copying build/lib/mmdet/models/detectors/cornernet.py -> build/bdist.linux-x86_64/egg/mmdet/models/detectors\n",
            "copying build/lib/mmdet/models/detectors/base.py -> build/bdist.linux-x86_64/egg/mmdet/models/detectors\n",
            "copying build/lib/mmdet/models/detectors/fast_rcnn.py -> build/bdist.linux-x86_64/egg/mmdet/models/detectors\n",
            "copying build/lib/mmdet/models/detectors/single_stage.py -> build/bdist.linux-x86_64/egg/mmdet/models/detectors\n",
            "copying build/lib/mmdet/models/detectors/yolact.py -> build/bdist.linux-x86_64/egg/mmdet/models/detectors\n",
            "copying build/lib/mmdet/models/detectors/faster_rcnn.py -> build/bdist.linux-x86_64/egg/mmdet/models/detectors\n",
            "copying build/lib/mmdet/models/detectors/panoptic_fpn.py -> build/bdist.linux-x86_64/egg/mmdet/models/detectors\n",
            "copying build/lib/mmdet/models/detectors/htc.py -> build/bdist.linux-x86_64/egg/mmdet/models/detectors\n",
            "copying build/lib/mmdet/models/detectors/retinanet.py -> build/bdist.linux-x86_64/egg/mmdet/models/detectors\n",
            "copying build/lib/mmdet/models/detectors/grid_rcnn.py -> build/bdist.linux-x86_64/egg/mmdet/models/detectors\n",
            "copying build/lib/mmdet/models/detectors/point_rend.py -> build/bdist.linux-x86_64/egg/mmdet/models/detectors\n",
            "copying build/lib/mmdet/models/detectors/maskformer.py -> build/bdist.linux-x86_64/egg/mmdet/models/detectors\n",
            "copying build/lib/mmdet/models/detectors/gfl.py -> build/bdist.linux-x86_64/egg/mmdet/models/detectors\n",
            "copying build/lib/mmdet/models/detectors/fovea.py -> build/bdist.linux-x86_64/egg/mmdet/models/detectors\n",
            "copying build/lib/mmdet/models/detectors/solo.py -> build/bdist.linux-x86_64/egg/mmdet/models/detectors\n",
            "copying build/lib/mmdet/models/detectors/nasfcos.py -> build/bdist.linux-x86_64/egg/mmdet/models/detectors\n",
            "copying build/lib/mmdet/models/detectors/single_stage_instance_seg.py -> build/bdist.linux-x86_64/egg/mmdet/models/detectors\n",
            "copying build/lib/mmdet/models/detectors/two_stage.py -> build/bdist.linux-x86_64/egg/mmdet/models/detectors\n",
            "copying build/lib/mmdet/models/detectors/queryinst.py -> build/bdist.linux-x86_64/egg/mmdet/models/detectors\n",
            "creating build/bdist.linux-x86_64/egg/mmdet/models/necks\n",
            "copying build/lib/mmdet/models/necks/ssd_neck.py -> build/bdist.linux-x86_64/egg/mmdet/models/necks\n",
            "copying build/lib/mmdet/models/necks/bfp.py -> build/bdist.linux-x86_64/egg/mmdet/models/necks\n",
            "copying build/lib/mmdet/models/necks/dilated_encoder.py -> build/bdist.linux-x86_64/egg/mmdet/models/necks\n",
            "copying build/lib/mmdet/models/necks/channel_mapper.py -> build/bdist.linux-x86_64/egg/mmdet/models/necks\n",
            "copying build/lib/mmdet/models/necks/hrfpn.py -> build/bdist.linux-x86_64/egg/mmdet/models/necks\n",
            "copying build/lib/mmdet/models/necks/pafpn.py -> build/bdist.linux-x86_64/egg/mmdet/models/necks\n",
            "copying build/lib/mmdet/models/necks/nasfcos_fpn.py -> build/bdist.linux-x86_64/egg/mmdet/models/necks\n",
            "copying build/lib/mmdet/models/necks/yolo_neck.py -> build/bdist.linux-x86_64/egg/mmdet/models/necks\n",
            "copying build/lib/mmdet/models/necks/ct_resnet_neck.py -> build/bdist.linux-x86_64/egg/mmdet/models/necks\n",
            "copying build/lib/mmdet/models/necks/__init__.py -> build/bdist.linux-x86_64/egg/mmdet/models/necks\n",
            "copying build/lib/mmdet/models/necks/dyhead.py -> build/bdist.linux-x86_64/egg/mmdet/models/necks\n",
            "copying build/lib/mmdet/models/necks/fpn.py -> build/bdist.linux-x86_64/egg/mmdet/models/necks\n",
            "copying build/lib/mmdet/models/necks/fpn_carafe.py -> build/bdist.linux-x86_64/egg/mmdet/models/necks\n",
            "copying build/lib/mmdet/models/necks/rfp.py -> build/bdist.linux-x86_64/egg/mmdet/models/necks\n",
            "copying build/lib/mmdet/models/necks/fpg.py -> build/bdist.linux-x86_64/egg/mmdet/models/necks\n",
            "copying build/lib/mmdet/models/necks/nas_fpn.py -> build/bdist.linux-x86_64/egg/mmdet/models/necks\n",
            "copying build/lib/mmdet/models/necks/yolox_pafpn.py -> build/bdist.linux-x86_64/egg/mmdet/models/necks\n",
            "copying build/lib/mmdet/models/__init__.py -> build/bdist.linux-x86_64/egg/mmdet/models\n",
            "creating build/bdist.linux-x86_64/egg/mmdet/models/backbones\n",
            "copying build/lib/mmdet/models/backbones/hrnet.py -> build/bdist.linux-x86_64/egg/mmdet/models/backbones\n",
            "copying build/lib/mmdet/models/backbones/regnet.py -> build/bdist.linux-x86_64/egg/mmdet/models/backbones\n",
            "copying build/lib/mmdet/models/backbones/csp_darknet.py -> build/bdist.linux-x86_64/egg/mmdet/models/backbones\n",
            "copying build/lib/mmdet/models/backbones/darknet.py -> build/bdist.linux-x86_64/egg/mmdet/models/backbones\n",
            "copying build/lib/mmdet/models/backbones/efficientnet.py -> build/bdist.linux-x86_64/egg/mmdet/models/backbones\n",
            "copying build/lib/mmdet/models/backbones/detectors_resnet.py -> build/bdist.linux-x86_64/egg/mmdet/models/backbones\n",
            "copying build/lib/mmdet/models/backbones/resnest.py -> build/bdist.linux-x86_64/egg/mmdet/models/backbones\n",
            "copying build/lib/mmdet/models/backbones/__init__.py -> build/bdist.linux-x86_64/egg/mmdet/models/backbones\n",
            "copying build/lib/mmdet/models/backbones/resnext.py -> build/bdist.linux-x86_64/egg/mmdet/models/backbones\n",
            "copying build/lib/mmdet/models/backbones/pvt.py -> build/bdist.linux-x86_64/egg/mmdet/models/backbones\n",
            "copying build/lib/mmdet/models/backbones/swin.py -> build/bdist.linux-x86_64/egg/mmdet/models/backbones\n",
            "copying build/lib/mmdet/models/backbones/mobilenet_v2.py -> build/bdist.linux-x86_64/egg/mmdet/models/backbones\n",
            "copying build/lib/mmdet/models/backbones/res2net.py -> build/bdist.linux-x86_64/egg/mmdet/models/backbones\n",
            "copying build/lib/mmdet/models/backbones/ssd_vgg.py -> build/bdist.linux-x86_64/egg/mmdet/models/backbones\n",
            "copying build/lib/mmdet/models/backbones/detectors_resnext.py -> build/bdist.linux-x86_64/egg/mmdet/models/backbones\n",
            "copying build/lib/mmdet/models/backbones/hourglass.py -> build/bdist.linux-x86_64/egg/mmdet/models/backbones\n",
            "copying build/lib/mmdet/models/backbones/trident_resnet.py -> build/bdist.linux-x86_64/egg/mmdet/models/backbones\n",
            "copying build/lib/mmdet/models/backbones/resnet.py -> build/bdist.linux-x86_64/egg/mmdet/models/backbones\n",
            "creating build/bdist.linux-x86_64/egg/mmdet/models/dense_heads\n",
            "copying build/lib/mmdet/models/dense_heads/corner_head.py -> build/bdist.linux-x86_64/egg/mmdet/models/dense_heads\n",
            "copying build/lib/mmdet/models/dense_heads/nasfcos_head.py -> build/bdist.linux-x86_64/egg/mmdet/models/dense_heads\n",
            "copying build/lib/mmdet/models/dense_heads/tood_head.py -> build/bdist.linux-x86_64/egg/mmdet/models/dense_heads\n",
            "copying build/lib/mmdet/models/dense_heads/retina_head.py -> build/bdist.linux-x86_64/egg/mmdet/models/dense_heads\n",
            "copying build/lib/mmdet/models/dense_heads/base_dense_head.py -> build/bdist.linux-x86_64/egg/mmdet/models/dense_heads\n",
            "copying build/lib/mmdet/models/dense_heads/vfnet_head.py -> build/bdist.linux-x86_64/egg/mmdet/models/dense_heads\n",
            "copying build/lib/mmdet/models/dense_heads/deformable_detr_head.py -> build/bdist.linux-x86_64/egg/mmdet/models/dense_heads\n",
            "copying build/lib/mmdet/models/dense_heads/ga_retina_head.py -> build/bdist.linux-x86_64/egg/mmdet/models/dense_heads\n",
            "copying build/lib/mmdet/models/dense_heads/detr_head.py -> build/bdist.linux-x86_64/egg/mmdet/models/dense_heads\n",
            "copying build/lib/mmdet/models/dense_heads/base_mask_head.py -> build/bdist.linux-x86_64/egg/mmdet/models/dense_heads\n",
            "copying build/lib/mmdet/models/dense_heads/pisa_retinanet_head.py -> build/bdist.linux-x86_64/egg/mmdet/models/dense_heads\n",
            "copying build/lib/mmdet/models/dense_heads/ga_rpn_head.py -> build/bdist.linux-x86_64/egg/mmdet/models/dense_heads\n",
            "copying build/lib/mmdet/models/dense_heads/free_anchor_retina_head.py -> build/bdist.linux-x86_64/egg/mmdet/models/dense_heads\n",
            "copying build/lib/mmdet/models/dense_heads/yolof_head.py -> build/bdist.linux-x86_64/egg/mmdet/models/dense_heads\n",
            "copying build/lib/mmdet/models/dense_heads/cascade_rpn_head.py -> build/bdist.linux-x86_64/egg/mmdet/models/dense_heads\n",
            "copying build/lib/mmdet/models/dense_heads/pisa_ssd_head.py -> build/bdist.linux-x86_64/egg/mmdet/models/dense_heads\n",
            "copying build/lib/mmdet/models/dense_heads/centernet_head.py -> build/bdist.linux-x86_64/egg/mmdet/models/dense_heads\n",
            "copying build/lib/mmdet/models/dense_heads/fsaf_head.py -> build/bdist.linux-x86_64/egg/mmdet/models/dense_heads\n",
            "copying build/lib/mmdet/models/dense_heads/sabl_retina_head.py -> build/bdist.linux-x86_64/egg/mmdet/models/dense_heads\n",
            "copying build/lib/mmdet/models/dense_heads/ssd_head.py -> build/bdist.linux-x86_64/egg/mmdet/models/dense_heads\n",
            "copying build/lib/mmdet/models/dense_heads/__init__.py -> build/bdist.linux-x86_64/egg/mmdet/models/dense_heads\n",
            "copying build/lib/mmdet/models/dense_heads/centripetal_head.py -> build/bdist.linux-x86_64/egg/mmdet/models/dense_heads\n",
            "copying build/lib/mmdet/models/dense_heads/gfl_head.py -> build/bdist.linux-x86_64/egg/mmdet/models/dense_heads\n",
            "copying build/lib/mmdet/models/dense_heads/maskformer_head.py -> build/bdist.linux-x86_64/egg/mmdet/models/dense_heads\n",
            "copying build/lib/mmdet/models/dense_heads/dense_test_mixins.py -> build/bdist.linux-x86_64/egg/mmdet/models/dense_heads\n",
            "copying build/lib/mmdet/models/dense_heads/paa_head.py -> build/bdist.linux-x86_64/egg/mmdet/models/dense_heads\n",
            "copying build/lib/mmdet/models/dense_heads/embedding_rpn_head.py -> build/bdist.linux-x86_64/egg/mmdet/models/dense_heads\n",
            "copying build/lib/mmdet/models/dense_heads/solo_head.py -> build/bdist.linux-x86_64/egg/mmdet/models/dense_heads\n",
            "copying build/lib/mmdet/models/dense_heads/rpn_head.py -> build/bdist.linux-x86_64/egg/mmdet/models/dense_heads\n",
            "copying build/lib/mmdet/models/dense_heads/mask2former_head.py -> build/bdist.linux-x86_64/egg/mmdet/models/dense_heads\n",
            "copying build/lib/mmdet/models/dense_heads/anchor_head.py -> build/bdist.linux-x86_64/egg/mmdet/models/dense_heads\n",
            "copying build/lib/mmdet/models/dense_heads/lad_head.py -> build/bdist.linux-x86_64/egg/mmdet/models/dense_heads\n",
            "copying build/lib/mmdet/models/dense_heads/ld_head.py -> build/bdist.linux-x86_64/egg/mmdet/models/dense_heads\n",
            "copying build/lib/mmdet/models/dense_heads/yolox_head.py -> build/bdist.linux-x86_64/egg/mmdet/models/dense_heads\n",
            "copying build/lib/mmdet/models/dense_heads/atss_head.py -> build/bdist.linux-x86_64/egg/mmdet/models/dense_heads\n",
            "copying build/lib/mmdet/models/dense_heads/guided_anchor_head.py -> build/bdist.linux-x86_64/egg/mmdet/models/dense_heads\n",
            "copying build/lib/mmdet/models/dense_heads/reppoints_head.py -> build/bdist.linux-x86_64/egg/mmdet/models/dense_heads\n",
            "copying build/lib/mmdet/models/dense_heads/autoassign_head.py -> build/bdist.linux-x86_64/egg/mmdet/models/dense_heads\n",
            "copying build/lib/mmdet/models/dense_heads/fcos_head.py -> build/bdist.linux-x86_64/egg/mmdet/models/dense_heads\n",
            "copying build/lib/mmdet/models/dense_heads/yolo_head.py -> build/bdist.linux-x86_64/egg/mmdet/models/dense_heads\n",
            "copying build/lib/mmdet/models/dense_heads/anchor_free_head.py -> build/bdist.linux-x86_64/egg/mmdet/models/dense_heads\n",
            "copying build/lib/mmdet/models/dense_heads/yolact_head.py -> build/bdist.linux-x86_64/egg/mmdet/models/dense_heads\n",
            "copying build/lib/mmdet/models/dense_heads/retina_sepbn_head.py -> build/bdist.linux-x86_64/egg/mmdet/models/dense_heads\n",
            "copying build/lib/mmdet/models/dense_heads/fovea_head.py -> build/bdist.linux-x86_64/egg/mmdet/models/dense_heads\n",
            "creating build/bdist.linux-x86_64/egg/mmdet/models/roi_heads\n",
            "copying build/lib/mmdet/models/roi_heads/grid_roi_head.py -> build/bdist.linux-x86_64/egg/mmdet/models/roi_heads\n",
            "copying build/lib/mmdet/models/roi_heads/trident_roi_head.py -> build/bdist.linux-x86_64/egg/mmdet/models/roi_heads\n",
            "copying build/lib/mmdet/models/roi_heads/point_rend_roi_head.py -> build/bdist.linux-x86_64/egg/mmdet/models/roi_heads\n",
            "copying build/lib/mmdet/models/roi_heads/test_mixins.py -> build/bdist.linux-x86_64/egg/mmdet/models/roi_heads\n",
            "copying build/lib/mmdet/models/roi_heads/standard_roi_head.py -> build/bdist.linux-x86_64/egg/mmdet/models/roi_heads\n",
            "creating build/bdist.linux-x86_64/egg/mmdet/models/roi_heads/bbox_heads\n",
            "copying build/lib/mmdet/models/roi_heads/bbox_heads/sabl_head.py -> build/bdist.linux-x86_64/egg/mmdet/models/roi_heads/bbox_heads\n",
            "copying build/lib/mmdet/models/roi_heads/bbox_heads/__init__.py -> build/bdist.linux-x86_64/egg/mmdet/models/roi_heads/bbox_heads\n",
            "copying build/lib/mmdet/models/roi_heads/bbox_heads/bbox_head.py -> build/bdist.linux-x86_64/egg/mmdet/models/roi_heads/bbox_heads\n",
            "copying build/lib/mmdet/models/roi_heads/bbox_heads/scnet_bbox_head.py -> build/bdist.linux-x86_64/egg/mmdet/models/roi_heads/bbox_heads\n",
            "copying build/lib/mmdet/models/roi_heads/bbox_heads/convfc_bbox_head.py -> build/bdist.linux-x86_64/egg/mmdet/models/roi_heads/bbox_heads\n",
            "copying build/lib/mmdet/models/roi_heads/bbox_heads/dii_head.py -> build/bdist.linux-x86_64/egg/mmdet/models/roi_heads/bbox_heads\n",
            "copying build/lib/mmdet/models/roi_heads/bbox_heads/double_bbox_head.py -> build/bdist.linux-x86_64/egg/mmdet/models/roi_heads/bbox_heads\n",
            "copying build/lib/mmdet/models/roi_heads/mask_scoring_roi_head.py -> build/bdist.linux-x86_64/egg/mmdet/models/roi_heads\n",
            "copying build/lib/mmdet/models/roi_heads/htc_roi_head.py -> build/bdist.linux-x86_64/egg/mmdet/models/roi_heads\n",
            "copying build/lib/mmdet/models/roi_heads/__init__.py -> build/bdist.linux-x86_64/egg/mmdet/models/roi_heads\n",
            "copying build/lib/mmdet/models/roi_heads/scnet_roi_head.py -> build/bdist.linux-x86_64/egg/mmdet/models/roi_heads\n",
            "copying build/lib/mmdet/models/roi_heads/dynamic_roi_head.py -> build/bdist.linux-x86_64/egg/mmdet/models/roi_heads\n",
            "copying build/lib/mmdet/models/roi_heads/pisa_roi_head.py -> build/bdist.linux-x86_64/egg/mmdet/models/roi_heads\n",
            "creating build/bdist.linux-x86_64/egg/mmdet/models/roi_heads/roi_extractors\n",
            "copying build/lib/mmdet/models/roi_heads/roi_extractors/base_roi_extractor.py -> build/bdist.linux-x86_64/egg/mmdet/models/roi_heads/roi_extractors\n",
            "copying build/lib/mmdet/models/roi_heads/roi_extractors/single_level_roi_extractor.py -> build/bdist.linux-x86_64/egg/mmdet/models/roi_heads/roi_extractors\n",
            "copying build/lib/mmdet/models/roi_heads/roi_extractors/__init__.py -> build/bdist.linux-x86_64/egg/mmdet/models/roi_heads/roi_extractors\n",
            "copying build/lib/mmdet/models/roi_heads/roi_extractors/generic_roi_extractor.py -> build/bdist.linux-x86_64/egg/mmdet/models/roi_heads/roi_extractors\n",
            "creating build/bdist.linux-x86_64/egg/mmdet/models/roi_heads/shared_heads\n",
            "copying build/lib/mmdet/models/roi_heads/shared_heads/__init__.py -> build/bdist.linux-x86_64/egg/mmdet/models/roi_heads/shared_heads\n",
            "copying build/lib/mmdet/models/roi_heads/shared_heads/res_layer.py -> build/bdist.linux-x86_64/egg/mmdet/models/roi_heads/shared_heads\n",
            "copying build/lib/mmdet/models/roi_heads/cascade_roi_head.py -> build/bdist.linux-x86_64/egg/mmdet/models/roi_heads\n",
            "creating build/bdist.linux-x86_64/egg/mmdet/models/roi_heads/mask_heads\n",
            "copying build/lib/mmdet/models/roi_heads/mask_heads/global_context_head.py -> build/bdist.linux-x86_64/egg/mmdet/models/roi_heads/mask_heads\n",
            "copying build/lib/mmdet/models/roi_heads/mask_heads/dynamic_mask_head.py -> build/bdist.linux-x86_64/egg/mmdet/models/roi_heads/mask_heads\n",
            "copying build/lib/mmdet/models/roi_heads/mask_heads/coarse_mask_head.py -> build/bdist.linux-x86_64/egg/mmdet/models/roi_heads/mask_heads\n",
            "copying build/lib/mmdet/models/roi_heads/mask_heads/fcn_mask_head.py -> build/bdist.linux-x86_64/egg/mmdet/models/roi_heads/mask_heads\n",
            "copying build/lib/mmdet/models/roi_heads/mask_heads/mask_point_head.py -> build/bdist.linux-x86_64/egg/mmdet/models/roi_heads/mask_heads\n",
            "copying build/lib/mmdet/models/roi_heads/mask_heads/grid_head.py -> build/bdist.linux-x86_64/egg/mmdet/models/roi_heads/mask_heads\n",
            "copying build/lib/mmdet/models/roi_heads/mask_heads/__init__.py -> build/bdist.linux-x86_64/egg/mmdet/models/roi_heads/mask_heads\n",
            "copying build/lib/mmdet/models/roi_heads/mask_heads/scnet_mask_head.py -> build/bdist.linux-x86_64/egg/mmdet/models/roi_heads/mask_heads\n",
            "copying build/lib/mmdet/models/roi_heads/mask_heads/maskiou_head.py -> build/bdist.linux-x86_64/egg/mmdet/models/roi_heads/mask_heads\n",
            "copying build/lib/mmdet/models/roi_heads/mask_heads/fused_semantic_head.py -> build/bdist.linux-x86_64/egg/mmdet/models/roi_heads/mask_heads\n",
            "copying build/lib/mmdet/models/roi_heads/mask_heads/scnet_semantic_head.py -> build/bdist.linux-x86_64/egg/mmdet/models/roi_heads/mask_heads\n",
            "copying build/lib/mmdet/models/roi_heads/mask_heads/feature_relay_head.py -> build/bdist.linux-x86_64/egg/mmdet/models/roi_heads/mask_heads\n",
            "copying build/lib/mmdet/models/roi_heads/mask_heads/htc_mask_head.py -> build/bdist.linux-x86_64/egg/mmdet/models/roi_heads/mask_heads\n",
            "copying build/lib/mmdet/models/roi_heads/double_roi_head.py -> build/bdist.linux-x86_64/egg/mmdet/models/roi_heads\n",
            "copying build/lib/mmdet/models/roi_heads/sparse_roi_head.py -> build/bdist.linux-x86_64/egg/mmdet/models/roi_heads\n",
            "copying build/lib/mmdet/models/roi_heads/base_roi_head.py -> build/bdist.linux-x86_64/egg/mmdet/models/roi_heads\n",
            "creating build/bdist.linux-x86_64/egg/mmdet/utils\n",
            "copying build/lib/mmdet/utils/util_random.py -> build/bdist.linux-x86_64/egg/mmdet/utils\n",
            "copying build/lib/mmdet/utils/util_distribution.py -> build/bdist.linux-x86_64/egg/mmdet/utils\n",
            "copying build/lib/mmdet/utils/compat_config.py -> build/bdist.linux-x86_64/egg/mmdet/utils\n",
            "copying build/lib/mmdet/utils/util_mixins.py -> build/bdist.linux-x86_64/egg/mmdet/utils\n",
            "copying build/lib/mmdet/utils/contextmanagers.py -> build/bdist.linux-x86_64/egg/mmdet/utils\n",
            "copying build/lib/mmdet/utils/split_batch.py -> build/bdist.linux-x86_64/egg/mmdet/utils\n",
            "copying build/lib/mmdet/utils/__init__.py -> build/bdist.linux-x86_64/egg/mmdet/utils\n",
            "copying build/lib/mmdet/utils/misc.py -> build/bdist.linux-x86_64/egg/mmdet/utils\n",
            "copying build/lib/mmdet/utils/collect_env.py -> build/bdist.linux-x86_64/egg/mmdet/utils\n",
            "copying build/lib/mmdet/utils/profiling.py -> build/bdist.linux-x86_64/egg/mmdet/utils\n",
            "copying build/lib/mmdet/utils/logger.py -> build/bdist.linux-x86_64/egg/mmdet/utils\n",
            "copying build/lib/mmdet/utils/setup_env.py -> build/bdist.linux-x86_64/egg/mmdet/utils\n",
            "copying build/lib/mmdet/__init__.py -> build/bdist.linux-x86_64/egg/mmdet\n",
            "copying build/lib/mmdet/version.py -> build/bdist.linux-x86_64/egg/mmdet\n",
            "creating build/bdist.linux-x86_64/egg/mmdet/core\n",
            "creating build/bdist.linux-x86_64/egg/mmdet/core/mask\n",
            "copying build/lib/mmdet/core/mask/utils.py -> build/bdist.linux-x86_64/egg/mmdet/core/mask\n",
            "copying build/lib/mmdet/core/mask/__init__.py -> build/bdist.linux-x86_64/egg/mmdet/core/mask\n",
            "copying build/lib/mmdet/core/mask/mask_target.py -> build/bdist.linux-x86_64/egg/mmdet/core/mask\n",
            "copying build/lib/mmdet/core/mask/structures.py -> build/bdist.linux-x86_64/egg/mmdet/core/mask\n",
            "creating build/bdist.linux-x86_64/egg/mmdet/core/hook\n",
            "copying build/lib/mmdet/core/hook/checkloss_hook.py -> build/bdist.linux-x86_64/egg/mmdet/core/hook\n",
            "copying build/lib/mmdet/core/hook/ema.py -> build/bdist.linux-x86_64/egg/mmdet/core/hook\n",
            "copying build/lib/mmdet/core/hook/set_epoch_info_hook.py -> build/bdist.linux-x86_64/egg/mmdet/core/hook\n",
            "copying build/lib/mmdet/core/hook/yolox_lrupdater_hook.py -> build/bdist.linux-x86_64/egg/mmdet/core/hook\n",
            "copying build/lib/mmdet/core/hook/memory_profiler_hook.py -> build/bdist.linux-x86_64/egg/mmdet/core/hook\n",
            "copying build/lib/mmdet/core/hook/__init__.py -> build/bdist.linux-x86_64/egg/mmdet/core/hook\n",
            "copying build/lib/mmdet/core/hook/sync_norm_hook.py -> build/bdist.linux-x86_64/egg/mmdet/core/hook\n",
            "copying build/lib/mmdet/core/hook/yolox_mode_switch_hook.py -> build/bdist.linux-x86_64/egg/mmdet/core/hook\n",
            "copying build/lib/mmdet/core/hook/sync_random_size_hook.py -> build/bdist.linux-x86_64/egg/mmdet/core/hook\n",
            "creating build/bdist.linux-x86_64/egg/mmdet/core/utils\n",
            "copying build/lib/mmdet/core/utils/__init__.py -> build/bdist.linux-x86_64/egg/mmdet/core/utils\n",
            "copying build/lib/mmdet/core/utils/dist_utils.py -> build/bdist.linux-x86_64/egg/mmdet/core/utils\n",
            "copying build/lib/mmdet/core/utils/misc.py -> build/bdist.linux-x86_64/egg/mmdet/core/utils\n",
            "creating build/bdist.linux-x86_64/egg/mmdet/core/evaluation\n",
            "copying build/lib/mmdet/core/evaluation/mean_ap.py -> build/bdist.linux-x86_64/egg/mmdet/core/evaluation\n",
            "copying build/lib/mmdet/core/evaluation/bbox_overlaps.py -> build/bdist.linux-x86_64/egg/mmdet/core/evaluation\n",
            "copying build/lib/mmdet/core/evaluation/__init__.py -> build/bdist.linux-x86_64/egg/mmdet/core/evaluation\n",
            "copying build/lib/mmdet/core/evaluation/panoptic_utils.py -> build/bdist.linux-x86_64/egg/mmdet/core/evaluation\n",
            "copying build/lib/mmdet/core/evaluation/recall.py -> build/bdist.linux-x86_64/egg/mmdet/core/evaluation\n",
            "copying build/lib/mmdet/core/evaluation/class_names.py -> build/bdist.linux-x86_64/egg/mmdet/core/evaluation\n",
            "copying build/lib/mmdet/core/evaluation/eval_hooks.py -> build/bdist.linux-x86_64/egg/mmdet/core/evaluation\n",
            "creating build/bdist.linux-x86_64/egg/mmdet/core/bbox\n",
            "creating build/bdist.linux-x86_64/egg/mmdet/core/bbox/assigners\n",
            "copying build/lib/mmdet/core/bbox/assigners/uniform_assigner.py -> build/bdist.linux-x86_64/egg/mmdet/core/bbox/assigners\n",
            "copying build/lib/mmdet/core/bbox/assigners/base_assigner.py -> build/bdist.linux-x86_64/egg/mmdet/core/bbox/assigners\n",
            "copying build/lib/mmdet/core/bbox/assigners/point_assigner.py -> build/bdist.linux-x86_64/egg/mmdet/core/bbox/assigners\n",
            "copying build/lib/mmdet/core/bbox/assigners/region_assigner.py -> build/bdist.linux-x86_64/egg/mmdet/core/bbox/assigners\n",
            "copying build/lib/mmdet/core/bbox/assigners/assign_result.py -> build/bdist.linux-x86_64/egg/mmdet/core/bbox/assigners\n",
            "copying build/lib/mmdet/core/bbox/assigners/atss_assigner.py -> build/bdist.linux-x86_64/egg/mmdet/core/bbox/assigners\n",
            "copying build/lib/mmdet/core/bbox/assigners/__init__.py -> build/bdist.linux-x86_64/egg/mmdet/core/bbox/assigners\n",
            "copying build/lib/mmdet/core/bbox/assigners/approx_max_iou_assigner.py -> build/bdist.linux-x86_64/egg/mmdet/core/bbox/assigners\n",
            "copying build/lib/mmdet/core/bbox/assigners/max_iou_assigner.py -> build/bdist.linux-x86_64/egg/mmdet/core/bbox/assigners\n",
            "copying build/lib/mmdet/core/bbox/assigners/hungarian_assigner.py -> build/bdist.linux-x86_64/egg/mmdet/core/bbox/assigners\n",
            "copying build/lib/mmdet/core/bbox/assigners/grid_assigner.py -> build/bdist.linux-x86_64/egg/mmdet/core/bbox/assigners\n",
            "copying build/lib/mmdet/core/bbox/assigners/mask_hungarian_assigner.py -> build/bdist.linux-x86_64/egg/mmdet/core/bbox/assigners\n",
            "copying build/lib/mmdet/core/bbox/assigners/center_region_assigner.py -> build/bdist.linux-x86_64/egg/mmdet/core/bbox/assigners\n",
            "copying build/lib/mmdet/core/bbox/assigners/task_aligned_assigner.py -> build/bdist.linux-x86_64/egg/mmdet/core/bbox/assigners\n",
            "copying build/lib/mmdet/core/bbox/assigners/sim_ota_assigner.py -> build/bdist.linux-x86_64/egg/mmdet/core/bbox/assigners\n",
            "copying build/lib/mmdet/core/bbox/builder.py -> build/bdist.linux-x86_64/egg/mmdet/core/bbox\n",
            "copying build/lib/mmdet/core/bbox/transforms.py -> build/bdist.linux-x86_64/egg/mmdet/core/bbox\n",
            "copying build/lib/mmdet/core/bbox/__init__.py -> build/bdist.linux-x86_64/egg/mmdet/core/bbox\n",
            "creating build/bdist.linux-x86_64/egg/mmdet/core/bbox/iou_calculators\n",
            "copying build/lib/mmdet/core/bbox/iou_calculators/builder.py -> build/bdist.linux-x86_64/egg/mmdet/core/bbox/iou_calculators\n",
            "copying build/lib/mmdet/core/bbox/iou_calculators/__init__.py -> build/bdist.linux-x86_64/egg/mmdet/core/bbox/iou_calculators\n",
            "copying build/lib/mmdet/core/bbox/iou_calculators/iou2d_calculator.py -> build/bdist.linux-x86_64/egg/mmdet/core/bbox/iou_calculators\n",
            "creating build/bdist.linux-x86_64/egg/mmdet/core/bbox/match_costs\n",
            "copying build/lib/mmdet/core/bbox/match_costs/match_cost.py -> build/bdist.linux-x86_64/egg/mmdet/core/bbox/match_costs\n",
            "copying build/lib/mmdet/core/bbox/match_costs/builder.py -> build/bdist.linux-x86_64/egg/mmdet/core/bbox/match_costs\n",
            "copying build/lib/mmdet/core/bbox/match_costs/__init__.py -> build/bdist.linux-x86_64/egg/mmdet/core/bbox/match_costs\n",
            "creating build/bdist.linux-x86_64/egg/mmdet/core/bbox/samplers\n",
            "copying build/lib/mmdet/core/bbox/samplers/base_sampler.py -> build/bdist.linux-x86_64/egg/mmdet/core/bbox/samplers\n",
            "copying build/lib/mmdet/core/bbox/samplers/random_sampler.py -> build/bdist.linux-x86_64/egg/mmdet/core/bbox/samplers\n",
            "copying build/lib/mmdet/core/bbox/samplers/score_hlr_sampler.py -> build/bdist.linux-x86_64/egg/mmdet/core/bbox/samplers\n",
            "copying build/lib/mmdet/core/bbox/samplers/__init__.py -> build/bdist.linux-x86_64/egg/mmdet/core/bbox/samplers\n",
            "copying build/lib/mmdet/core/bbox/samplers/ohem_sampler.py -> build/bdist.linux-x86_64/egg/mmdet/core/bbox/samplers\n",
            "copying build/lib/mmdet/core/bbox/samplers/instance_balanced_pos_sampler.py -> build/bdist.linux-x86_64/egg/mmdet/core/bbox/samplers\n",
            "copying build/lib/mmdet/core/bbox/samplers/sampling_result.py -> build/bdist.linux-x86_64/egg/mmdet/core/bbox/samplers\n",
            "copying build/lib/mmdet/core/bbox/samplers/iou_balanced_neg_sampler.py -> build/bdist.linux-x86_64/egg/mmdet/core/bbox/samplers\n",
            "copying build/lib/mmdet/core/bbox/samplers/mask_pseudo_sampler.py -> build/bdist.linux-x86_64/egg/mmdet/core/bbox/samplers\n",
            "copying build/lib/mmdet/core/bbox/samplers/mask_sampling_result.py -> build/bdist.linux-x86_64/egg/mmdet/core/bbox/samplers\n",
            "copying build/lib/mmdet/core/bbox/samplers/pseudo_sampler.py -> build/bdist.linux-x86_64/egg/mmdet/core/bbox/samplers\n",
            "copying build/lib/mmdet/core/bbox/samplers/combined_sampler.py -> build/bdist.linux-x86_64/egg/mmdet/core/bbox/samplers\n",
            "creating build/bdist.linux-x86_64/egg/mmdet/core/bbox/coder\n",
            "copying build/lib/mmdet/core/bbox/coder/yolo_bbox_coder.py -> build/bdist.linux-x86_64/egg/mmdet/core/bbox/coder\n",
            "copying build/lib/mmdet/core/bbox/coder/tblr_bbox_coder.py -> build/bdist.linux-x86_64/egg/mmdet/core/bbox/coder\n",
            "copying build/lib/mmdet/core/bbox/coder/base_bbox_coder.py -> build/bdist.linux-x86_64/egg/mmdet/core/bbox/coder\n",
            "copying build/lib/mmdet/core/bbox/coder/__init__.py -> build/bdist.linux-x86_64/egg/mmdet/core/bbox/coder\n",
            "copying build/lib/mmdet/core/bbox/coder/pseudo_bbox_coder.py -> build/bdist.linux-x86_64/egg/mmdet/core/bbox/coder\n",
            "copying build/lib/mmdet/core/bbox/coder/delta_xywh_bbox_coder.py -> build/bdist.linux-x86_64/egg/mmdet/core/bbox/coder\n",
            "copying build/lib/mmdet/core/bbox/coder/distance_point_bbox_coder.py -> build/bdist.linux-x86_64/egg/mmdet/core/bbox/coder\n",
            "copying build/lib/mmdet/core/bbox/coder/bucketing_bbox_coder.py -> build/bdist.linux-x86_64/egg/mmdet/core/bbox/coder\n",
            "copying build/lib/mmdet/core/bbox/coder/legacy_delta_xywh_bbox_coder.py -> build/bdist.linux-x86_64/egg/mmdet/core/bbox/coder\n",
            "copying build/lib/mmdet/core/bbox/demodata.py -> build/bdist.linux-x86_64/egg/mmdet/core/bbox\n",
            "creating build/bdist.linux-x86_64/egg/mmdet/core/post_processing\n",
            "copying build/lib/mmdet/core/post_processing/matrix_nms.py -> build/bdist.linux-x86_64/egg/mmdet/core/post_processing\n",
            "copying build/lib/mmdet/core/post_processing/__init__.py -> build/bdist.linux-x86_64/egg/mmdet/core/post_processing\n",
            "copying build/lib/mmdet/core/post_processing/merge_augs.py -> build/bdist.linux-x86_64/egg/mmdet/core/post_processing\n",
            "copying build/lib/mmdet/core/post_processing/bbox_nms.py -> build/bdist.linux-x86_64/egg/mmdet/core/post_processing\n",
            "creating build/bdist.linux-x86_64/egg/mmdet/core/data_structures\n",
            "copying build/lib/mmdet/core/data_structures/instance_data.py -> build/bdist.linux-x86_64/egg/mmdet/core/data_structures\n",
            "copying build/lib/mmdet/core/data_structures/general_data.py -> build/bdist.linux-x86_64/egg/mmdet/core/data_structures\n",
            "copying build/lib/mmdet/core/data_structures/__init__.py -> build/bdist.linux-x86_64/egg/mmdet/core/data_structures\n",
            "copying build/lib/mmdet/core/__init__.py -> build/bdist.linux-x86_64/egg/mmdet/core\n",
            "creating build/bdist.linux-x86_64/egg/mmdet/core/export\n",
            "copying build/lib/mmdet/core/export/model_wrappers.py -> build/bdist.linux-x86_64/egg/mmdet/core/export\n",
            "copying build/lib/mmdet/core/export/__init__.py -> build/bdist.linux-x86_64/egg/mmdet/core/export\n",
            "copying build/lib/mmdet/core/export/pytorch2onnx.py -> build/bdist.linux-x86_64/egg/mmdet/core/export\n",
            "copying build/lib/mmdet/core/export/onnx_helper.py -> build/bdist.linux-x86_64/egg/mmdet/core/export\n",
            "creating build/bdist.linux-x86_64/egg/mmdet/core/anchor\n",
            "copying build/lib/mmdet/core/anchor/utils.py -> build/bdist.linux-x86_64/egg/mmdet/core/anchor\n",
            "copying build/lib/mmdet/core/anchor/point_generator.py -> build/bdist.linux-x86_64/egg/mmdet/core/anchor\n",
            "copying build/lib/mmdet/core/anchor/builder.py -> build/bdist.linux-x86_64/egg/mmdet/core/anchor\n",
            "copying build/lib/mmdet/core/anchor/__init__.py -> build/bdist.linux-x86_64/egg/mmdet/core/anchor\n",
            "copying build/lib/mmdet/core/anchor/anchor_generator.py -> build/bdist.linux-x86_64/egg/mmdet/core/anchor\n",
            "creating build/bdist.linux-x86_64/egg/mmdet/core/visualization\n",
            "copying build/lib/mmdet/core/visualization/__init__.py -> build/bdist.linux-x86_64/egg/mmdet/core/visualization\n",
            "copying build/lib/mmdet/core/visualization/palette.py -> build/bdist.linux-x86_64/egg/mmdet/core/visualization\n",
            "copying build/lib/mmdet/core/visualization/image.py -> build/bdist.linux-x86_64/egg/mmdet/core/visualization\n",
            "creating build/bdist.linux-x86_64/egg/mmdet/apis\n",
            "copying build/lib/mmdet/apis/test.py -> build/bdist.linux-x86_64/egg/mmdet/apis\n",
            "copying build/lib/mmdet/apis/__init__.py -> build/bdist.linux-x86_64/egg/mmdet/apis\n",
            "copying build/lib/mmdet/apis/inference.py -> build/bdist.linux-x86_64/egg/mmdet/apis\n",
            "copying build/lib/mmdet/apis/train.py -> build/bdist.linux-x86_64/egg/mmdet/apis\n",
            "byte-compiling build/bdist.linux-x86_64/egg/mmdet/datasets/coco_panoptic.py to coco_panoptic.cpython-37.pyc\n",
            "byte-compiling build/bdist.linux-x86_64/egg/mmdet/datasets/xml_style.py to xml_style.cpython-37.pyc\n",
            "byte-compiling build/bdist.linux-x86_64/egg/mmdet/datasets/utils.py to utils.cpython-37.pyc\n",
            "byte-compiling build/bdist.linux-x86_64/egg/mmdet/datasets/builder.py to builder.cpython-37.pyc\n",
            "byte-compiling build/bdist.linux-x86_64/egg/mmdet/datasets/coco.py to coco.cpython-37.pyc\n",
            "byte-compiling build/bdist.linux-x86_64/egg/mmdet/datasets/voc.py to voc.cpython-37.pyc\n",
            "byte-compiling build/bdist.linux-x86_64/egg/mmdet/datasets/dataset_wrappers.py to dataset_wrappers.cpython-37.pyc\n",
            "byte-compiling build/bdist.linux-x86_64/egg/mmdet/datasets/openimages.py to openimages.cpython-37.pyc\n",
            "byte-compiling build/bdist.linux-x86_64/egg/mmdet/datasets/pipelines/test_time_aug.py to test_time_aug.cpython-37.pyc\n",
            "byte-compiling build/bdist.linux-x86_64/egg/mmdet/datasets/pipelines/auto_augment.py to auto_augment.cpython-37.pyc\n",
            "byte-compiling build/bdist.linux-x86_64/egg/mmdet/datasets/pipelines/transforms.py to transforms.cpython-37.pyc\n",
            "byte-compiling build/bdist.linux-x86_64/egg/mmdet/datasets/pipelines/instaboost.py to instaboost.cpython-37.pyc\n",
            "byte-compiling build/bdist.linux-x86_64/egg/mmdet/datasets/pipelines/__init__.py to __init__.cpython-37.pyc\n",
            "byte-compiling build/bdist.linux-x86_64/egg/mmdet/datasets/pipelines/compose.py to compose.cpython-37.pyc\n",
            "byte-compiling build/bdist.linux-x86_64/egg/mmdet/datasets/pipelines/formating.py to formating.cpython-37.pyc\n",
            "byte-compiling build/bdist.linux-x86_64/egg/mmdet/datasets/pipelines/loading.py to loading.cpython-37.pyc\n",
            "byte-compiling build/bdist.linux-x86_64/egg/mmdet/datasets/pipelines/formatting.py to formatting.cpython-37.pyc\n",
            "byte-compiling build/bdist.linux-x86_64/egg/mmdet/datasets/__init__.py to __init__.cpython-37.pyc\n",
            "byte-compiling build/bdist.linux-x86_64/egg/mmdet/datasets/custom.py to custom.cpython-37.pyc\n",
            "byte-compiling build/bdist.linux-x86_64/egg/mmdet/datasets/deepfashion.py to deepfashion.cpython-37.pyc\n",
            "byte-compiling build/bdist.linux-x86_64/egg/mmdet/datasets/api_wrappers/panoptic_evaluation.py to panoptic_evaluation.cpython-37.pyc\n",
            "byte-compiling build/bdist.linux-x86_64/egg/mmdet/datasets/api_wrappers/__init__.py to __init__.cpython-37.pyc\n",
            "byte-compiling build/bdist.linux-x86_64/egg/mmdet/datasets/api_wrappers/coco_api.py to coco_api.cpython-37.pyc\n",
            "byte-compiling build/bdist.linux-x86_64/egg/mmdet/datasets/wider_face.py to wider_face.cpython-37.pyc\n",
            "byte-compiling build/bdist.linux-x86_64/egg/mmdet/datasets/lvis.py to lvis.cpython-37.pyc\n",
            "byte-compiling build/bdist.linux-x86_64/egg/mmdet/datasets/samplers/group_sampler.py to group_sampler.cpython-37.pyc\n",
            "byte-compiling build/bdist.linux-x86_64/egg/mmdet/datasets/samplers/class_aware_sampler.py to class_aware_sampler.cpython-37.pyc\n",
            "byte-compiling build/bdist.linux-x86_64/egg/mmdet/datasets/samplers/__init__.py to __init__.cpython-37.pyc\n",
            "byte-compiling build/bdist.linux-x86_64/egg/mmdet/datasets/samplers/distributed_sampler.py to distributed_sampler.cpython-37.pyc\n",
            "byte-compiling build/bdist.linux-x86_64/egg/mmdet/datasets/samplers/infinite_sampler.py to infinite_sampler.cpython-37.pyc\n",
            "byte-compiling build/bdist.linux-x86_64/egg/mmdet/datasets/cityscapes.py to cityscapes.cpython-37.pyc\n",
            "byte-compiling build/bdist.linux-x86_64/egg/mmdet/models/seg_heads/panoptic_fusion_heads/maskformer_fusion_head.py to maskformer_fusion_head.cpython-37.pyc\n",
            "byte-compiling build/bdist.linux-x86_64/egg/mmdet/models/seg_heads/panoptic_fusion_heads/__init__.py to __init__.cpython-37.pyc\n",
            "byte-compiling build/bdist.linux-x86_64/egg/mmdet/models/seg_heads/panoptic_fusion_heads/base_panoptic_fusion_head.py to base_panoptic_fusion_head.cpython-37.pyc\n",
            "byte-compiling build/bdist.linux-x86_64/egg/mmdet/models/seg_heads/panoptic_fusion_heads/heuristic_fusion_head.py to heuristic_fusion_head.cpython-37.pyc\n",
            "byte-compiling build/bdist.linux-x86_64/egg/mmdet/models/seg_heads/base_semantic_head.py to base_semantic_head.cpython-37.pyc\n",
            "byte-compiling build/bdist.linux-x86_64/egg/mmdet/models/seg_heads/__init__.py to __init__.cpython-37.pyc\n",
            "byte-compiling build/bdist.linux-x86_64/egg/mmdet/models/seg_heads/panoptic_fpn_head.py to panoptic_fpn_head.cpython-37.pyc\n",
            "byte-compiling build/bdist.linux-x86_64/egg/mmdet/models/utils/make_divisible.py to make_divisible.cpython-37.pyc\n",
            "byte-compiling build/bdist.linux-x86_64/egg/mmdet/models/utils/inverted_residual.py to inverted_residual.cpython-37.pyc\n",
            "byte-compiling build/bdist.linux-x86_64/egg/mmdet/models/utils/point_sample.py to point_sample.cpython-37.pyc\n",
            "byte-compiling build/bdist.linux-x86_64/egg/mmdet/models/utils/se_layer.py to se_layer.cpython-37.pyc\n",
            "byte-compiling build/bdist.linux-x86_64/egg/mmdet/models/utils/transformer.py to transformer.cpython-37.pyc\n",
            "byte-compiling build/bdist.linux-x86_64/egg/mmdet/models/utils/normed_predictor.py to normed_predictor.cpython-37.pyc\n",
            "byte-compiling build/bdist.linux-x86_64/egg/mmdet/models/utils/builder.py to builder.cpython-37.pyc\n",
            "byte-compiling build/bdist.linux-x86_64/egg/mmdet/models/utils/panoptic_gt_processing.py to panoptic_gt_processing.cpython-37.pyc\n",
            "byte-compiling build/bdist.linux-x86_64/egg/mmdet/models/utils/gaussian_target.py to gaussian_target.cpython-37.pyc\n",
            "byte-compiling build/bdist.linux-x86_64/egg/mmdet/models/utils/__init__.py to __init__.cpython-37.pyc\n",
            "byte-compiling build/bdist.linux-x86_64/egg/mmdet/models/utils/misc.py to misc.cpython-37.pyc\n",
            "byte-compiling build/bdist.linux-x86_64/egg/mmdet/models/utils/ckpt_convert.py to ckpt_convert.cpython-37.pyc\n",
            "byte-compiling build/bdist.linux-x86_64/egg/mmdet/models/utils/conv_upsample.py to conv_upsample.cpython-37.pyc\n",
            "byte-compiling build/bdist.linux-x86_64/egg/mmdet/models/utils/positional_encoding.py to positional_encoding.cpython-37.pyc\n",
            "byte-compiling build/bdist.linux-x86_64/egg/mmdet/models/utils/brick_wrappers.py to brick_wrappers.cpython-37.pyc\n",
            "byte-compiling build/bdist.linux-x86_64/egg/mmdet/models/utils/csp_layer.py to csp_layer.cpython-37.pyc\n",
            "byte-compiling build/bdist.linux-x86_64/egg/mmdet/models/utils/res_layer.py to res_layer.cpython-37.pyc\n",
            "byte-compiling build/bdist.linux-x86_64/egg/mmdet/models/builder.py to builder.cpython-37.pyc\n",
            "byte-compiling build/bdist.linux-x86_64/egg/mmdet/models/plugins/__init__.py to __init__.cpython-37.pyc\n",
            "byte-compiling build/bdist.linux-x86_64/egg/mmdet/models/plugins/msdeformattn_pixel_decoder.py to msdeformattn_pixel_decoder.cpython-37.pyc\n",
            "byte-compiling build/bdist.linux-x86_64/egg/mmdet/models/plugins/dropblock.py to dropblock.cpython-37.pyc\n",
            "byte-compiling build/bdist.linux-x86_64/egg/mmdet/models/plugins/pixel_decoder.py to pixel_decoder.cpython-37.pyc\n",
            "byte-compiling build/bdist.linux-x86_64/egg/mmdet/models/losses/utils.py to utils.cpython-37.pyc\n",
            "byte-compiling build/bdist.linux-x86_64/egg/mmdet/models/losses/mse_loss.py to mse_loss.cpython-37.pyc\n",
            "byte-compiling build/bdist.linux-x86_64/egg/mmdet/models/losses/balanced_l1_loss.py to balanced_l1_loss.cpython-37.pyc\n",
            "byte-compiling build/bdist.linux-x86_64/egg/mmdet/models/losses/ghm_loss.py to ghm_loss.cpython-37.pyc\n",
            "byte-compiling build/bdist.linux-x86_64/egg/mmdet/models/losses/__init__.py to __init__.cpython-37.pyc\n",
            "byte-compiling build/bdist.linux-x86_64/egg/mmdet/models/losses/accuracy.py to accuracy.cpython-37.pyc\n",
            "byte-compiling build/bdist.linux-x86_64/egg/mmdet/models/losses/gfocal_loss.py to gfocal_loss.cpython-37.pyc\n",
            "byte-compiling build/bdist.linux-x86_64/egg/mmdet/models/losses/ae_loss.py to ae_loss.cpython-37.pyc\n",
            "byte-compiling build/bdist.linux-x86_64/egg/mmdet/models/losses/gaussian_focal_loss.py to gaussian_focal_loss.cpython-37.pyc\n",
            "byte-compiling build/bdist.linux-x86_64/egg/mmdet/models/losses/iou_loss.py to iou_loss.cpython-37.pyc\n",
            "byte-compiling build/bdist.linux-x86_64/egg/mmdet/models/losses/pisa_loss.py to pisa_loss.cpython-37.pyc\n",
            "byte-compiling build/bdist.linux-x86_64/egg/mmdet/models/losses/focal_loss.py to focal_loss.cpython-37.pyc\n",
            "byte-compiling build/bdist.linux-x86_64/egg/mmdet/models/losses/smooth_l1_loss.py to smooth_l1_loss.cpython-37.pyc\n",
            "byte-compiling build/bdist.linux-x86_64/egg/mmdet/models/losses/cross_entropy_loss.py to cross_entropy_loss.cpython-37.pyc\n",
            "byte-compiling build/bdist.linux-x86_64/egg/mmdet/models/losses/dice_loss.py to dice_loss.cpython-37.pyc\n",
            "byte-compiling build/bdist.linux-x86_64/egg/mmdet/models/losses/kd_loss.py to kd_loss.cpython-37.pyc\n",
            "byte-compiling build/bdist.linux-x86_64/egg/mmdet/models/losses/seesaw_loss.py to seesaw_loss.cpython-37.pyc\n",
            "byte-compiling build/bdist.linux-x86_64/egg/mmdet/models/losses/varifocal_loss.py to varifocal_loss.cpython-37.pyc\n",
            "byte-compiling build/bdist.linux-x86_64/egg/mmdet/models/detectors/yolox.py to yolox.cpython-37.pyc\n",
            "byte-compiling build/bdist.linux-x86_64/egg/mmdet/models/detectors/paa.py to paa.cpython-37.pyc\n",
            "byte-compiling build/bdist.linux-x86_64/egg/mmdet/models/detectors/cascade_rcnn.py to cascade_rcnn.cpython-37.pyc\n",
            "byte-compiling build/bdist.linux-x86_64/egg/mmdet/models/detectors/mask2former.py to mask2former.cpython-37.pyc\n",
            "byte-compiling build/bdist.linux-x86_64/egg/mmdet/models/detectors/atss.py to atss.cpython-37.pyc\n",
            "byte-compiling build/bdist.linux-x86_64/egg/mmdet/models/detectors/centernet.py to centernet.cpython-37.pyc\n",
            "byte-compiling build/bdist.linux-x86_64/egg/mmdet/models/detectors/mask_rcnn.py to mask_rcnn.cpython-37.pyc\n",
            "byte-compiling build/bdist.linux-x86_64/egg/mmdet/models/detectors/mask_scoring_rcnn.py to mask_scoring_rcnn.cpython-37.pyc\n",
            "byte-compiling build/bdist.linux-x86_64/egg/mmdet/models/detectors/rpn.py to rpn.cpython-37.pyc\n",
            "byte-compiling build/bdist.linux-x86_64/egg/mmdet/models/detectors/yolo.py to yolo.cpython-37.pyc\n",
            "byte-compiling build/bdist.linux-x86_64/egg/mmdet/models/detectors/trident_faster_rcnn.py to trident_faster_rcnn.cpython-37.pyc\n",
            "byte-compiling build/bdist.linux-x86_64/egg/mmdet/models/detectors/autoassign.py to autoassign.cpython-37.pyc\n",
            "byte-compiling build/bdist.linux-x86_64/egg/mmdet/models/detectors/deformable_detr.py to deformable_detr.cpython-37.pyc\n",
            "byte-compiling build/bdist.linux-x86_64/egg/mmdet/models/detectors/reppoints_detector.py to reppoints_detector.cpython-37.pyc\n",
            "byte-compiling build/bdist.linux-x86_64/egg/mmdet/models/detectors/fsaf.py to fsaf.cpython-37.pyc\n",
            "byte-compiling build/bdist.linux-x86_64/egg/mmdet/models/detectors/fcos.py to fcos.cpython-37.pyc\n",
            "byte-compiling build/bdist.linux-x86_64/egg/mmdet/models/detectors/detr.py to detr.cpython-37.pyc\n",
            "byte-compiling build/bdist.linux-x86_64/egg/mmdet/models/detectors/scnet.py to scnet.cpython-37.pyc\n",
            "byte-compiling build/bdist.linux-x86_64/egg/mmdet/models/detectors/tood.py to tood.cpython-37.pyc\n",
            "byte-compiling build/bdist.linux-x86_64/egg/mmdet/models/detectors/sparse_rcnn.py to sparse_rcnn.cpython-37.pyc\n",
            "byte-compiling build/bdist.linux-x86_64/egg/mmdet/models/detectors/__init__.py to __init__.cpython-37.pyc\n",
            "byte-compiling build/bdist.linux-x86_64/egg/mmdet/models/detectors/kd_one_stage.py to kd_one_stage.cpython-37.pyc\n",
            "byte-compiling build/bdist.linux-x86_64/egg/mmdet/models/detectors/panoptic_two_stage_segmentor.py to panoptic_two_stage_segmentor.cpython-37.pyc\n",
            "byte-compiling build/bdist.linux-x86_64/egg/mmdet/models/detectors/lad.py to lad.cpython-37.pyc\n",
            "byte-compiling build/bdist.linux-x86_64/egg/mmdet/models/detectors/yolof.py to yolof.cpython-37.pyc\n",
            "byte-compiling build/bdist.linux-x86_64/egg/mmdet/models/detectors/vfnet.py to vfnet.cpython-37.pyc\n",
            "byte-compiling build/bdist.linux-x86_64/egg/mmdet/models/detectors/cornernet.py to cornernet.cpython-37.pyc\n",
            "byte-compiling build/bdist.linux-x86_64/egg/mmdet/models/detectors/base.py to base.cpython-37.pyc\n",
            "byte-compiling build/bdist.linux-x86_64/egg/mmdet/models/detectors/fast_rcnn.py to fast_rcnn.cpython-37.pyc\n",
            "byte-compiling build/bdist.linux-x86_64/egg/mmdet/models/detectors/single_stage.py to single_stage.cpython-37.pyc\n",
            "byte-compiling build/bdist.linux-x86_64/egg/mmdet/models/detectors/yolact.py to yolact.cpython-37.pyc\n",
            "byte-compiling build/bdist.linux-x86_64/egg/mmdet/models/detectors/faster_rcnn.py to faster_rcnn.cpython-37.pyc\n",
            "byte-compiling build/bdist.linux-x86_64/egg/mmdet/models/detectors/panoptic_fpn.py to panoptic_fpn.cpython-37.pyc\n",
            "byte-compiling build/bdist.linux-x86_64/egg/mmdet/models/detectors/htc.py to htc.cpython-37.pyc\n",
            "byte-compiling build/bdist.linux-x86_64/egg/mmdet/models/detectors/retinanet.py to retinanet.cpython-37.pyc\n",
            "byte-compiling build/bdist.linux-x86_64/egg/mmdet/models/detectors/grid_rcnn.py to grid_rcnn.cpython-37.pyc\n",
            "byte-compiling build/bdist.linux-x86_64/egg/mmdet/models/detectors/point_rend.py to point_rend.cpython-37.pyc\n",
            "byte-compiling build/bdist.linux-x86_64/egg/mmdet/models/detectors/maskformer.py to maskformer.cpython-37.pyc\n",
            "byte-compiling build/bdist.linux-x86_64/egg/mmdet/models/detectors/gfl.py to gfl.cpython-37.pyc\n",
            "byte-compiling build/bdist.linux-x86_64/egg/mmdet/models/detectors/fovea.py to fovea.cpython-37.pyc\n",
            "byte-compiling build/bdist.linux-x86_64/egg/mmdet/models/detectors/solo.py to solo.cpython-37.pyc\n",
            "byte-compiling build/bdist.linux-x86_64/egg/mmdet/models/detectors/nasfcos.py to nasfcos.cpython-37.pyc\n",
            "byte-compiling build/bdist.linux-x86_64/egg/mmdet/models/detectors/single_stage_instance_seg.py to single_stage_instance_seg.cpython-37.pyc\n",
            "byte-compiling build/bdist.linux-x86_64/egg/mmdet/models/detectors/two_stage.py to two_stage.cpython-37.pyc\n",
            "byte-compiling build/bdist.linux-x86_64/egg/mmdet/models/detectors/queryinst.py to queryinst.cpython-37.pyc\n",
            "byte-compiling build/bdist.linux-x86_64/egg/mmdet/models/necks/ssd_neck.py to ssd_neck.cpython-37.pyc\n",
            "byte-compiling build/bdist.linux-x86_64/egg/mmdet/models/necks/bfp.py to bfp.cpython-37.pyc\n",
            "byte-compiling build/bdist.linux-x86_64/egg/mmdet/models/necks/dilated_encoder.py to dilated_encoder.cpython-37.pyc\n",
            "byte-compiling build/bdist.linux-x86_64/egg/mmdet/models/necks/channel_mapper.py to channel_mapper.cpython-37.pyc\n",
            "byte-compiling build/bdist.linux-x86_64/egg/mmdet/models/necks/hrfpn.py to hrfpn.cpython-37.pyc\n",
            "byte-compiling build/bdist.linux-x86_64/egg/mmdet/models/necks/pafpn.py to pafpn.cpython-37.pyc\n",
            "byte-compiling build/bdist.linux-x86_64/egg/mmdet/models/necks/nasfcos_fpn.py to nasfcos_fpn.cpython-37.pyc\n",
            "byte-compiling build/bdist.linux-x86_64/egg/mmdet/models/necks/yolo_neck.py to yolo_neck.cpython-37.pyc\n",
            "byte-compiling build/bdist.linux-x86_64/egg/mmdet/models/necks/ct_resnet_neck.py to ct_resnet_neck.cpython-37.pyc\n",
            "byte-compiling build/bdist.linux-x86_64/egg/mmdet/models/necks/__init__.py to __init__.cpython-37.pyc\n",
            "byte-compiling build/bdist.linux-x86_64/egg/mmdet/models/necks/dyhead.py to dyhead.cpython-37.pyc\n",
            "byte-compiling build/bdist.linux-x86_64/egg/mmdet/models/necks/fpn.py to fpn.cpython-37.pyc\n",
            "byte-compiling build/bdist.linux-x86_64/egg/mmdet/models/necks/fpn_carafe.py to fpn_carafe.cpython-37.pyc\n",
            "byte-compiling build/bdist.linux-x86_64/egg/mmdet/models/necks/rfp.py to rfp.cpython-37.pyc\n",
            "byte-compiling build/bdist.linux-x86_64/egg/mmdet/models/necks/fpg.py to fpg.cpython-37.pyc\n",
            "byte-compiling build/bdist.linux-x86_64/egg/mmdet/models/necks/nas_fpn.py to nas_fpn.cpython-37.pyc\n",
            "byte-compiling build/bdist.linux-x86_64/egg/mmdet/models/necks/yolox_pafpn.py to yolox_pafpn.cpython-37.pyc\n",
            "byte-compiling build/bdist.linux-x86_64/egg/mmdet/models/__init__.py to __init__.cpython-37.pyc\n",
            "byte-compiling build/bdist.linux-x86_64/egg/mmdet/models/backbones/hrnet.py to hrnet.cpython-37.pyc\n",
            "byte-compiling build/bdist.linux-x86_64/egg/mmdet/models/backbones/regnet.py to regnet.cpython-37.pyc\n",
            "byte-compiling build/bdist.linux-x86_64/egg/mmdet/models/backbones/csp_darknet.py to csp_darknet.cpython-37.pyc\n",
            "byte-compiling build/bdist.linux-x86_64/egg/mmdet/models/backbones/darknet.py to darknet.cpython-37.pyc\n",
            "byte-compiling build/bdist.linux-x86_64/egg/mmdet/models/backbones/efficientnet.py to efficientnet.cpython-37.pyc\n",
            "byte-compiling build/bdist.linux-x86_64/egg/mmdet/models/backbones/detectors_resnet.py to detectors_resnet.cpython-37.pyc\n",
            "byte-compiling build/bdist.linux-x86_64/egg/mmdet/models/backbones/resnest.py to resnest.cpython-37.pyc\n",
            "byte-compiling build/bdist.linux-x86_64/egg/mmdet/models/backbones/__init__.py to __init__.cpython-37.pyc\n",
            "byte-compiling build/bdist.linux-x86_64/egg/mmdet/models/backbones/resnext.py to resnext.cpython-37.pyc\n",
            "byte-compiling build/bdist.linux-x86_64/egg/mmdet/models/backbones/pvt.py to pvt.cpython-37.pyc\n",
            "byte-compiling build/bdist.linux-x86_64/egg/mmdet/models/backbones/swin.py to swin.cpython-37.pyc\n",
            "byte-compiling build/bdist.linux-x86_64/egg/mmdet/models/backbones/mobilenet_v2.py to mobilenet_v2.cpython-37.pyc\n",
            "byte-compiling build/bdist.linux-x86_64/egg/mmdet/models/backbones/res2net.py to res2net.cpython-37.pyc\n",
            "byte-compiling build/bdist.linux-x86_64/egg/mmdet/models/backbones/ssd_vgg.py to ssd_vgg.cpython-37.pyc\n",
            "byte-compiling build/bdist.linux-x86_64/egg/mmdet/models/backbones/detectors_resnext.py to detectors_resnext.cpython-37.pyc\n",
            "byte-compiling build/bdist.linux-x86_64/egg/mmdet/models/backbones/hourglass.py to hourglass.cpython-37.pyc\n",
            "byte-compiling build/bdist.linux-x86_64/egg/mmdet/models/backbones/trident_resnet.py to trident_resnet.cpython-37.pyc\n",
            "byte-compiling build/bdist.linux-x86_64/egg/mmdet/models/backbones/resnet.py to resnet.cpython-37.pyc\n",
            "byte-compiling build/bdist.linux-x86_64/egg/mmdet/models/dense_heads/corner_head.py to corner_head.cpython-37.pyc\n",
            "byte-compiling build/bdist.linux-x86_64/egg/mmdet/models/dense_heads/nasfcos_head.py to nasfcos_head.cpython-37.pyc\n",
            "byte-compiling build/bdist.linux-x86_64/egg/mmdet/models/dense_heads/tood_head.py to tood_head.cpython-37.pyc\n",
            "byte-compiling build/bdist.linux-x86_64/egg/mmdet/models/dense_heads/retina_head.py to retina_head.cpython-37.pyc\n",
            "byte-compiling build/bdist.linux-x86_64/egg/mmdet/models/dense_heads/base_dense_head.py to base_dense_head.cpython-37.pyc\n",
            "byte-compiling build/bdist.linux-x86_64/egg/mmdet/models/dense_heads/vfnet_head.py to vfnet_head.cpython-37.pyc\n",
            "byte-compiling build/bdist.linux-x86_64/egg/mmdet/models/dense_heads/deformable_detr_head.py to deformable_detr_head.cpython-37.pyc\n",
            "byte-compiling build/bdist.linux-x86_64/egg/mmdet/models/dense_heads/ga_retina_head.py to ga_retina_head.cpython-37.pyc\n",
            "byte-compiling build/bdist.linux-x86_64/egg/mmdet/models/dense_heads/detr_head.py to detr_head.cpython-37.pyc\n",
            "byte-compiling build/bdist.linux-x86_64/egg/mmdet/models/dense_heads/base_mask_head.py to base_mask_head.cpython-37.pyc\n",
            "byte-compiling build/bdist.linux-x86_64/egg/mmdet/models/dense_heads/pisa_retinanet_head.py to pisa_retinanet_head.cpython-37.pyc\n",
            "byte-compiling build/bdist.linux-x86_64/egg/mmdet/models/dense_heads/ga_rpn_head.py to ga_rpn_head.cpython-37.pyc\n",
            "byte-compiling build/bdist.linux-x86_64/egg/mmdet/models/dense_heads/free_anchor_retina_head.py to free_anchor_retina_head.cpython-37.pyc\n",
            "byte-compiling build/bdist.linux-x86_64/egg/mmdet/models/dense_heads/yolof_head.py to yolof_head.cpython-37.pyc\n",
            "byte-compiling build/bdist.linux-x86_64/egg/mmdet/models/dense_heads/cascade_rpn_head.py to cascade_rpn_head.cpython-37.pyc\n",
            "byte-compiling build/bdist.linux-x86_64/egg/mmdet/models/dense_heads/pisa_ssd_head.py to pisa_ssd_head.cpython-37.pyc\n",
            "byte-compiling build/bdist.linux-x86_64/egg/mmdet/models/dense_heads/centernet_head.py to centernet_head.cpython-37.pyc\n",
            "byte-compiling build/bdist.linux-x86_64/egg/mmdet/models/dense_heads/fsaf_head.py to fsaf_head.cpython-37.pyc\n",
            "byte-compiling build/bdist.linux-x86_64/egg/mmdet/models/dense_heads/sabl_retina_head.py to sabl_retina_head.cpython-37.pyc\n",
            "byte-compiling build/bdist.linux-x86_64/egg/mmdet/models/dense_heads/ssd_head.py to ssd_head.cpython-37.pyc\n",
            "byte-compiling build/bdist.linux-x86_64/egg/mmdet/models/dense_heads/__init__.py to __init__.cpython-37.pyc\n",
            "byte-compiling build/bdist.linux-x86_64/egg/mmdet/models/dense_heads/centripetal_head.py to centripetal_head.cpython-37.pyc\n",
            "byte-compiling build/bdist.linux-x86_64/egg/mmdet/models/dense_heads/gfl_head.py to gfl_head.cpython-37.pyc\n",
            "byte-compiling build/bdist.linux-x86_64/egg/mmdet/models/dense_heads/maskformer_head.py to maskformer_head.cpython-37.pyc\n",
            "byte-compiling build/bdist.linux-x86_64/egg/mmdet/models/dense_heads/dense_test_mixins.py to dense_test_mixins.cpython-37.pyc\n",
            "byte-compiling build/bdist.linux-x86_64/egg/mmdet/models/dense_heads/paa_head.py to paa_head.cpython-37.pyc\n",
            "byte-compiling build/bdist.linux-x86_64/egg/mmdet/models/dense_heads/embedding_rpn_head.py to embedding_rpn_head.cpython-37.pyc\n",
            "byte-compiling build/bdist.linux-x86_64/egg/mmdet/models/dense_heads/solo_head.py to solo_head.cpython-37.pyc\n",
            "byte-compiling build/bdist.linux-x86_64/egg/mmdet/models/dense_heads/rpn_head.py to rpn_head.cpython-37.pyc\n",
            "byte-compiling build/bdist.linux-x86_64/egg/mmdet/models/dense_heads/mask2former_head.py to mask2former_head.cpython-37.pyc\n",
            "byte-compiling build/bdist.linux-x86_64/egg/mmdet/models/dense_heads/anchor_head.py to anchor_head.cpython-37.pyc\n",
            "byte-compiling build/bdist.linux-x86_64/egg/mmdet/models/dense_heads/lad_head.py to lad_head.cpython-37.pyc\n",
            "byte-compiling build/bdist.linux-x86_64/egg/mmdet/models/dense_heads/ld_head.py to ld_head.cpython-37.pyc\n",
            "byte-compiling build/bdist.linux-x86_64/egg/mmdet/models/dense_heads/yolox_head.py to yolox_head.cpython-37.pyc\n",
            "byte-compiling build/bdist.linux-x86_64/egg/mmdet/models/dense_heads/atss_head.py to atss_head.cpython-37.pyc\n",
            "byte-compiling build/bdist.linux-x86_64/egg/mmdet/models/dense_heads/guided_anchor_head.py to guided_anchor_head.cpython-37.pyc\n",
            "byte-compiling build/bdist.linux-x86_64/egg/mmdet/models/dense_heads/reppoints_head.py to reppoints_head.cpython-37.pyc\n",
            "byte-compiling build/bdist.linux-x86_64/egg/mmdet/models/dense_heads/autoassign_head.py to autoassign_head.cpython-37.pyc\n",
            "byte-compiling build/bdist.linux-x86_64/egg/mmdet/models/dense_heads/fcos_head.py to fcos_head.cpython-37.pyc\n",
            "byte-compiling build/bdist.linux-x86_64/egg/mmdet/models/dense_heads/yolo_head.py to yolo_head.cpython-37.pyc\n",
            "byte-compiling build/bdist.linux-x86_64/egg/mmdet/models/dense_heads/anchor_free_head.py to anchor_free_head.cpython-37.pyc\n",
            "byte-compiling build/bdist.linux-x86_64/egg/mmdet/models/dense_heads/yolact_head.py to yolact_head.cpython-37.pyc\n",
            "byte-compiling build/bdist.linux-x86_64/egg/mmdet/models/dense_heads/retina_sepbn_head.py to retina_sepbn_head.cpython-37.pyc\n",
            "byte-compiling build/bdist.linux-x86_64/egg/mmdet/models/dense_heads/fovea_head.py to fovea_head.cpython-37.pyc\n",
            "byte-compiling build/bdist.linux-x86_64/egg/mmdet/models/roi_heads/grid_roi_head.py to grid_roi_head.cpython-37.pyc\n",
            "byte-compiling build/bdist.linux-x86_64/egg/mmdet/models/roi_heads/trident_roi_head.py to trident_roi_head.cpython-37.pyc\n",
            "byte-compiling build/bdist.linux-x86_64/egg/mmdet/models/roi_heads/point_rend_roi_head.py to point_rend_roi_head.cpython-37.pyc\n",
            "byte-compiling build/bdist.linux-x86_64/egg/mmdet/models/roi_heads/test_mixins.py to test_mixins.cpython-37.pyc\n",
            "byte-compiling build/bdist.linux-x86_64/egg/mmdet/models/roi_heads/standard_roi_head.py to standard_roi_head.cpython-37.pyc\n",
            "byte-compiling build/bdist.linux-x86_64/egg/mmdet/models/roi_heads/bbox_heads/sabl_head.py to sabl_head.cpython-37.pyc\n",
            "byte-compiling build/bdist.linux-x86_64/egg/mmdet/models/roi_heads/bbox_heads/__init__.py to __init__.cpython-37.pyc\n",
            "byte-compiling build/bdist.linux-x86_64/egg/mmdet/models/roi_heads/bbox_heads/bbox_head.py to bbox_head.cpython-37.pyc\n",
            "byte-compiling build/bdist.linux-x86_64/egg/mmdet/models/roi_heads/bbox_heads/scnet_bbox_head.py to scnet_bbox_head.cpython-37.pyc\n",
            "byte-compiling build/bdist.linux-x86_64/egg/mmdet/models/roi_heads/bbox_heads/convfc_bbox_head.py to convfc_bbox_head.cpython-37.pyc\n",
            "byte-compiling build/bdist.linux-x86_64/egg/mmdet/models/roi_heads/bbox_heads/dii_head.py to dii_head.cpython-37.pyc\n",
            "byte-compiling build/bdist.linux-x86_64/egg/mmdet/models/roi_heads/bbox_heads/double_bbox_head.py to double_bbox_head.cpython-37.pyc\n",
            "byte-compiling build/bdist.linux-x86_64/egg/mmdet/models/roi_heads/mask_scoring_roi_head.py to mask_scoring_roi_head.cpython-37.pyc\n",
            "byte-compiling build/bdist.linux-x86_64/egg/mmdet/models/roi_heads/htc_roi_head.py to htc_roi_head.cpython-37.pyc\n",
            "byte-compiling build/bdist.linux-x86_64/egg/mmdet/models/roi_heads/__init__.py to __init__.cpython-37.pyc\n",
            "byte-compiling build/bdist.linux-x86_64/egg/mmdet/models/roi_heads/scnet_roi_head.py to scnet_roi_head.cpython-37.pyc\n",
            "byte-compiling build/bdist.linux-x86_64/egg/mmdet/models/roi_heads/dynamic_roi_head.py to dynamic_roi_head.cpython-37.pyc\n",
            "byte-compiling build/bdist.linux-x86_64/egg/mmdet/models/roi_heads/pisa_roi_head.py to pisa_roi_head.cpython-37.pyc\n",
            "byte-compiling build/bdist.linux-x86_64/egg/mmdet/models/roi_heads/roi_extractors/base_roi_extractor.py to base_roi_extractor.cpython-37.pyc\n",
            "byte-compiling build/bdist.linux-x86_64/egg/mmdet/models/roi_heads/roi_extractors/single_level_roi_extractor.py to single_level_roi_extractor.cpython-37.pyc\n",
            "byte-compiling build/bdist.linux-x86_64/egg/mmdet/models/roi_heads/roi_extractors/__init__.py to __init__.cpython-37.pyc\n",
            "byte-compiling build/bdist.linux-x86_64/egg/mmdet/models/roi_heads/roi_extractors/generic_roi_extractor.py to generic_roi_extractor.cpython-37.pyc\n",
            "byte-compiling build/bdist.linux-x86_64/egg/mmdet/models/roi_heads/shared_heads/__init__.py to __init__.cpython-37.pyc\n",
            "byte-compiling build/bdist.linux-x86_64/egg/mmdet/models/roi_heads/shared_heads/res_layer.py to res_layer.cpython-37.pyc\n",
            "byte-compiling build/bdist.linux-x86_64/egg/mmdet/models/roi_heads/cascade_roi_head.py to cascade_roi_head.cpython-37.pyc\n",
            "byte-compiling build/bdist.linux-x86_64/egg/mmdet/models/roi_heads/mask_heads/global_context_head.py to global_context_head.cpython-37.pyc\n",
            "byte-compiling build/bdist.linux-x86_64/egg/mmdet/models/roi_heads/mask_heads/dynamic_mask_head.py to dynamic_mask_head.cpython-37.pyc\n",
            "byte-compiling build/bdist.linux-x86_64/egg/mmdet/models/roi_heads/mask_heads/coarse_mask_head.py to coarse_mask_head.cpython-37.pyc\n",
            "byte-compiling build/bdist.linux-x86_64/egg/mmdet/models/roi_heads/mask_heads/fcn_mask_head.py to fcn_mask_head.cpython-37.pyc\n",
            "byte-compiling build/bdist.linux-x86_64/egg/mmdet/models/roi_heads/mask_heads/mask_point_head.py to mask_point_head.cpython-37.pyc\n",
            "byte-compiling build/bdist.linux-x86_64/egg/mmdet/models/roi_heads/mask_heads/grid_head.py to grid_head.cpython-37.pyc\n",
            "byte-compiling build/bdist.linux-x86_64/egg/mmdet/models/roi_heads/mask_heads/__init__.py to __init__.cpython-37.pyc\n",
            "byte-compiling build/bdist.linux-x86_64/egg/mmdet/models/roi_heads/mask_heads/scnet_mask_head.py to scnet_mask_head.cpython-37.pyc\n",
            "byte-compiling build/bdist.linux-x86_64/egg/mmdet/models/roi_heads/mask_heads/maskiou_head.py to maskiou_head.cpython-37.pyc\n",
            "byte-compiling build/bdist.linux-x86_64/egg/mmdet/models/roi_heads/mask_heads/fused_semantic_head.py to fused_semantic_head.cpython-37.pyc\n",
            "byte-compiling build/bdist.linux-x86_64/egg/mmdet/models/roi_heads/mask_heads/scnet_semantic_head.py to scnet_semantic_head.cpython-37.pyc\n",
            "byte-compiling build/bdist.linux-x86_64/egg/mmdet/models/roi_heads/mask_heads/feature_relay_head.py to feature_relay_head.cpython-37.pyc\n",
            "byte-compiling build/bdist.linux-x86_64/egg/mmdet/models/roi_heads/mask_heads/htc_mask_head.py to htc_mask_head.cpython-37.pyc\n",
            "byte-compiling build/bdist.linux-x86_64/egg/mmdet/models/roi_heads/double_roi_head.py to double_roi_head.cpython-37.pyc\n",
            "byte-compiling build/bdist.linux-x86_64/egg/mmdet/models/roi_heads/sparse_roi_head.py to sparse_roi_head.cpython-37.pyc\n",
            "byte-compiling build/bdist.linux-x86_64/egg/mmdet/models/roi_heads/base_roi_head.py to base_roi_head.cpython-37.pyc\n",
            "byte-compiling build/bdist.linux-x86_64/egg/mmdet/utils/util_random.py to util_random.cpython-37.pyc\n",
            "byte-compiling build/bdist.linux-x86_64/egg/mmdet/utils/util_distribution.py to util_distribution.cpython-37.pyc\n",
            "byte-compiling build/bdist.linux-x86_64/egg/mmdet/utils/compat_config.py to compat_config.cpython-37.pyc\n",
            "byte-compiling build/bdist.linux-x86_64/egg/mmdet/utils/util_mixins.py to util_mixins.cpython-37.pyc\n",
            "byte-compiling build/bdist.linux-x86_64/egg/mmdet/utils/contextmanagers.py to contextmanagers.cpython-37.pyc\n",
            "byte-compiling build/bdist.linux-x86_64/egg/mmdet/utils/split_batch.py to split_batch.cpython-37.pyc\n",
            "byte-compiling build/bdist.linux-x86_64/egg/mmdet/utils/__init__.py to __init__.cpython-37.pyc\n",
            "byte-compiling build/bdist.linux-x86_64/egg/mmdet/utils/misc.py to misc.cpython-37.pyc\n",
            "byte-compiling build/bdist.linux-x86_64/egg/mmdet/utils/collect_env.py to collect_env.cpython-37.pyc\n",
            "byte-compiling build/bdist.linux-x86_64/egg/mmdet/utils/profiling.py to profiling.cpython-37.pyc\n",
            "byte-compiling build/bdist.linux-x86_64/egg/mmdet/utils/logger.py to logger.cpython-37.pyc\n",
            "byte-compiling build/bdist.linux-x86_64/egg/mmdet/utils/setup_env.py to setup_env.cpython-37.pyc\n",
            "byte-compiling build/bdist.linux-x86_64/egg/mmdet/__init__.py to __init__.cpython-37.pyc\n",
            "byte-compiling build/bdist.linux-x86_64/egg/mmdet/version.py to version.cpython-37.pyc\n",
            "byte-compiling build/bdist.linux-x86_64/egg/mmdet/core/mask/utils.py to utils.cpython-37.pyc\n",
            "byte-compiling build/bdist.linux-x86_64/egg/mmdet/core/mask/__init__.py to __init__.cpython-37.pyc\n",
            "byte-compiling build/bdist.linux-x86_64/egg/mmdet/core/mask/mask_target.py to mask_target.cpython-37.pyc\n",
            "byte-compiling build/bdist.linux-x86_64/egg/mmdet/core/mask/structures.py to structures.cpython-37.pyc\n",
            "byte-compiling build/bdist.linux-x86_64/egg/mmdet/core/hook/checkloss_hook.py to checkloss_hook.cpython-37.pyc\n",
            "byte-compiling build/bdist.linux-x86_64/egg/mmdet/core/hook/ema.py to ema.cpython-37.pyc\n",
            "byte-compiling build/bdist.linux-x86_64/egg/mmdet/core/hook/set_epoch_info_hook.py to set_epoch_info_hook.cpython-37.pyc\n",
            "byte-compiling build/bdist.linux-x86_64/egg/mmdet/core/hook/yolox_lrupdater_hook.py to yolox_lrupdater_hook.cpython-37.pyc\n",
            "byte-compiling build/bdist.linux-x86_64/egg/mmdet/core/hook/memory_profiler_hook.py to memory_profiler_hook.cpython-37.pyc\n",
            "byte-compiling build/bdist.linux-x86_64/egg/mmdet/core/hook/__init__.py to __init__.cpython-37.pyc\n",
            "byte-compiling build/bdist.linux-x86_64/egg/mmdet/core/hook/sync_norm_hook.py to sync_norm_hook.cpython-37.pyc\n",
            "byte-compiling build/bdist.linux-x86_64/egg/mmdet/core/hook/yolox_mode_switch_hook.py to yolox_mode_switch_hook.cpython-37.pyc\n",
            "byte-compiling build/bdist.linux-x86_64/egg/mmdet/core/hook/sync_random_size_hook.py to sync_random_size_hook.cpython-37.pyc\n",
            "byte-compiling build/bdist.linux-x86_64/egg/mmdet/core/utils/__init__.py to __init__.cpython-37.pyc\n",
            "byte-compiling build/bdist.linux-x86_64/egg/mmdet/core/utils/dist_utils.py to dist_utils.cpython-37.pyc\n",
            "byte-compiling build/bdist.linux-x86_64/egg/mmdet/core/utils/misc.py to misc.cpython-37.pyc\n",
            "byte-compiling build/bdist.linux-x86_64/egg/mmdet/core/evaluation/mean_ap.py to mean_ap.cpython-37.pyc\n",
            "byte-compiling build/bdist.linux-x86_64/egg/mmdet/core/evaluation/bbox_overlaps.py to bbox_overlaps.cpython-37.pyc\n",
            "byte-compiling build/bdist.linux-x86_64/egg/mmdet/core/evaluation/__init__.py to __init__.cpython-37.pyc\n",
            "byte-compiling build/bdist.linux-x86_64/egg/mmdet/core/evaluation/panoptic_utils.py to panoptic_utils.cpython-37.pyc\n",
            "byte-compiling build/bdist.linux-x86_64/egg/mmdet/core/evaluation/recall.py to recall.cpython-37.pyc\n",
            "byte-compiling build/bdist.linux-x86_64/egg/mmdet/core/evaluation/class_names.py to class_names.cpython-37.pyc\n",
            "byte-compiling build/bdist.linux-x86_64/egg/mmdet/core/evaluation/eval_hooks.py to eval_hooks.cpython-37.pyc\n",
            "byte-compiling build/bdist.linux-x86_64/egg/mmdet/core/bbox/assigners/uniform_assigner.py to uniform_assigner.cpython-37.pyc\n",
            "byte-compiling build/bdist.linux-x86_64/egg/mmdet/core/bbox/assigners/base_assigner.py to base_assigner.cpython-37.pyc\n",
            "byte-compiling build/bdist.linux-x86_64/egg/mmdet/core/bbox/assigners/point_assigner.py to point_assigner.cpython-37.pyc\n",
            "byte-compiling build/bdist.linux-x86_64/egg/mmdet/core/bbox/assigners/region_assigner.py to region_assigner.cpython-37.pyc\n",
            "byte-compiling build/bdist.linux-x86_64/egg/mmdet/core/bbox/assigners/assign_result.py to assign_result.cpython-37.pyc\n",
            "byte-compiling build/bdist.linux-x86_64/egg/mmdet/core/bbox/assigners/atss_assigner.py to atss_assigner.cpython-37.pyc\n",
            "byte-compiling build/bdist.linux-x86_64/egg/mmdet/core/bbox/assigners/__init__.py to __init__.cpython-37.pyc\n",
            "byte-compiling build/bdist.linux-x86_64/egg/mmdet/core/bbox/assigners/approx_max_iou_assigner.py to approx_max_iou_assigner.cpython-37.pyc\n",
            "byte-compiling build/bdist.linux-x86_64/egg/mmdet/core/bbox/assigners/max_iou_assigner.py to max_iou_assigner.cpython-37.pyc\n",
            "byte-compiling build/bdist.linux-x86_64/egg/mmdet/core/bbox/assigners/hungarian_assigner.py to hungarian_assigner.cpython-37.pyc\n",
            "byte-compiling build/bdist.linux-x86_64/egg/mmdet/core/bbox/assigners/grid_assigner.py to grid_assigner.cpython-37.pyc\n",
            "byte-compiling build/bdist.linux-x86_64/egg/mmdet/core/bbox/assigners/mask_hungarian_assigner.py to mask_hungarian_assigner.cpython-37.pyc\n",
            "byte-compiling build/bdist.linux-x86_64/egg/mmdet/core/bbox/assigners/center_region_assigner.py to center_region_assigner.cpython-37.pyc\n",
            "byte-compiling build/bdist.linux-x86_64/egg/mmdet/core/bbox/assigners/task_aligned_assigner.py to task_aligned_assigner.cpython-37.pyc\n",
            "byte-compiling build/bdist.linux-x86_64/egg/mmdet/core/bbox/assigners/sim_ota_assigner.py to sim_ota_assigner.cpython-37.pyc\n",
            "byte-compiling build/bdist.linux-x86_64/egg/mmdet/core/bbox/builder.py to builder.cpython-37.pyc\n",
            "byte-compiling build/bdist.linux-x86_64/egg/mmdet/core/bbox/transforms.py to transforms.cpython-37.pyc\n",
            "byte-compiling build/bdist.linux-x86_64/egg/mmdet/core/bbox/__init__.py to __init__.cpython-37.pyc\n",
            "byte-compiling build/bdist.linux-x86_64/egg/mmdet/core/bbox/iou_calculators/builder.py to builder.cpython-37.pyc\n",
            "byte-compiling build/bdist.linux-x86_64/egg/mmdet/core/bbox/iou_calculators/__init__.py to __init__.cpython-37.pyc\n",
            "byte-compiling build/bdist.linux-x86_64/egg/mmdet/core/bbox/iou_calculators/iou2d_calculator.py to iou2d_calculator.cpython-37.pyc\n",
            "byte-compiling build/bdist.linux-x86_64/egg/mmdet/core/bbox/match_costs/match_cost.py to match_cost.cpython-37.pyc\n",
            "byte-compiling build/bdist.linux-x86_64/egg/mmdet/core/bbox/match_costs/builder.py to builder.cpython-37.pyc\n",
            "byte-compiling build/bdist.linux-x86_64/egg/mmdet/core/bbox/match_costs/__init__.py to __init__.cpython-37.pyc\n",
            "byte-compiling build/bdist.linux-x86_64/egg/mmdet/core/bbox/samplers/base_sampler.py to base_sampler.cpython-37.pyc\n",
            "byte-compiling build/bdist.linux-x86_64/egg/mmdet/core/bbox/samplers/random_sampler.py to random_sampler.cpython-37.pyc\n",
            "byte-compiling build/bdist.linux-x86_64/egg/mmdet/core/bbox/samplers/score_hlr_sampler.py to score_hlr_sampler.cpython-37.pyc\n",
            "byte-compiling build/bdist.linux-x86_64/egg/mmdet/core/bbox/samplers/__init__.py to __init__.cpython-37.pyc\n",
            "byte-compiling build/bdist.linux-x86_64/egg/mmdet/core/bbox/samplers/ohem_sampler.py to ohem_sampler.cpython-37.pyc\n",
            "byte-compiling build/bdist.linux-x86_64/egg/mmdet/core/bbox/samplers/instance_balanced_pos_sampler.py to instance_balanced_pos_sampler.cpython-37.pyc\n",
            "byte-compiling build/bdist.linux-x86_64/egg/mmdet/core/bbox/samplers/sampling_result.py to sampling_result.cpython-37.pyc\n",
            "byte-compiling build/bdist.linux-x86_64/egg/mmdet/core/bbox/samplers/iou_balanced_neg_sampler.py to iou_balanced_neg_sampler.cpython-37.pyc\n",
            "byte-compiling build/bdist.linux-x86_64/egg/mmdet/core/bbox/samplers/mask_pseudo_sampler.py to mask_pseudo_sampler.cpython-37.pyc\n",
            "byte-compiling build/bdist.linux-x86_64/egg/mmdet/core/bbox/samplers/mask_sampling_result.py to mask_sampling_result.cpython-37.pyc\n",
            "byte-compiling build/bdist.linux-x86_64/egg/mmdet/core/bbox/samplers/pseudo_sampler.py to pseudo_sampler.cpython-37.pyc\n",
            "byte-compiling build/bdist.linux-x86_64/egg/mmdet/core/bbox/samplers/combined_sampler.py to combined_sampler.cpython-37.pyc\n",
            "byte-compiling build/bdist.linux-x86_64/egg/mmdet/core/bbox/coder/yolo_bbox_coder.py to yolo_bbox_coder.cpython-37.pyc\n",
            "byte-compiling build/bdist.linux-x86_64/egg/mmdet/core/bbox/coder/tblr_bbox_coder.py to tblr_bbox_coder.cpython-37.pyc\n",
            "byte-compiling build/bdist.linux-x86_64/egg/mmdet/core/bbox/coder/base_bbox_coder.py to base_bbox_coder.cpython-37.pyc\n",
            "byte-compiling build/bdist.linux-x86_64/egg/mmdet/core/bbox/coder/__init__.py to __init__.cpython-37.pyc\n",
            "byte-compiling build/bdist.linux-x86_64/egg/mmdet/core/bbox/coder/pseudo_bbox_coder.py to pseudo_bbox_coder.cpython-37.pyc\n",
            "byte-compiling build/bdist.linux-x86_64/egg/mmdet/core/bbox/coder/delta_xywh_bbox_coder.py to delta_xywh_bbox_coder.cpython-37.pyc\n",
            "byte-compiling build/bdist.linux-x86_64/egg/mmdet/core/bbox/coder/distance_point_bbox_coder.py to distance_point_bbox_coder.cpython-37.pyc\n",
            "byte-compiling build/bdist.linux-x86_64/egg/mmdet/core/bbox/coder/bucketing_bbox_coder.py to bucketing_bbox_coder.cpython-37.pyc\n",
            "byte-compiling build/bdist.linux-x86_64/egg/mmdet/core/bbox/coder/legacy_delta_xywh_bbox_coder.py to legacy_delta_xywh_bbox_coder.cpython-37.pyc\n",
            "byte-compiling build/bdist.linux-x86_64/egg/mmdet/core/bbox/demodata.py to demodata.cpython-37.pyc\n",
            "byte-compiling build/bdist.linux-x86_64/egg/mmdet/core/post_processing/matrix_nms.py to matrix_nms.cpython-37.pyc\n",
            "byte-compiling build/bdist.linux-x86_64/egg/mmdet/core/post_processing/__init__.py to __init__.cpython-37.pyc\n",
            "byte-compiling build/bdist.linux-x86_64/egg/mmdet/core/post_processing/merge_augs.py to merge_augs.cpython-37.pyc\n",
            "byte-compiling build/bdist.linux-x86_64/egg/mmdet/core/post_processing/bbox_nms.py to bbox_nms.cpython-37.pyc\n",
            "byte-compiling build/bdist.linux-x86_64/egg/mmdet/core/data_structures/instance_data.py to instance_data.cpython-37.pyc\n",
            "byte-compiling build/bdist.linux-x86_64/egg/mmdet/core/data_structures/general_data.py to general_data.cpython-37.pyc\n",
            "byte-compiling build/bdist.linux-x86_64/egg/mmdet/core/data_structures/__init__.py to __init__.cpython-37.pyc\n",
            "byte-compiling build/bdist.linux-x86_64/egg/mmdet/core/__init__.py to __init__.cpython-37.pyc\n",
            "byte-compiling build/bdist.linux-x86_64/egg/mmdet/core/export/model_wrappers.py to model_wrappers.cpython-37.pyc\n",
            "byte-compiling build/bdist.linux-x86_64/egg/mmdet/core/export/__init__.py to __init__.cpython-37.pyc\n",
            "byte-compiling build/bdist.linux-x86_64/egg/mmdet/core/export/pytorch2onnx.py to pytorch2onnx.cpython-37.pyc\n",
            "byte-compiling build/bdist.linux-x86_64/egg/mmdet/core/export/onnx_helper.py to onnx_helper.cpython-37.pyc\n",
            "byte-compiling build/bdist.linux-x86_64/egg/mmdet/core/anchor/utils.py to utils.cpython-37.pyc\n",
            "byte-compiling build/bdist.linux-x86_64/egg/mmdet/core/anchor/point_generator.py to point_generator.cpython-37.pyc\n",
            "byte-compiling build/bdist.linux-x86_64/egg/mmdet/core/anchor/builder.py to builder.cpython-37.pyc\n",
            "byte-compiling build/bdist.linux-x86_64/egg/mmdet/core/anchor/__init__.py to __init__.cpython-37.pyc\n",
            "byte-compiling build/bdist.linux-x86_64/egg/mmdet/core/anchor/anchor_generator.py to anchor_generator.cpython-37.pyc\n",
            "byte-compiling build/bdist.linux-x86_64/egg/mmdet/core/visualization/__init__.py to __init__.cpython-37.pyc\n",
            "byte-compiling build/bdist.linux-x86_64/egg/mmdet/core/visualization/palette.py to palette.cpython-37.pyc\n",
            "byte-compiling build/bdist.linux-x86_64/egg/mmdet/core/visualization/image.py to image.cpython-37.pyc\n",
            "byte-compiling build/bdist.linux-x86_64/egg/mmdet/apis/test.py to test.cpython-37.pyc\n",
            "byte-compiling build/bdist.linux-x86_64/egg/mmdet/apis/__init__.py to __init__.cpython-37.pyc\n",
            "byte-compiling build/bdist.linux-x86_64/egg/mmdet/apis/inference.py to inference.cpython-37.pyc\n",
            "byte-compiling build/bdist.linux-x86_64/egg/mmdet/apis/train.py to train.cpython-37.pyc\n",
            "creating build/bdist.linux-x86_64/egg/EGG-INFO\n",
            "copying mmdet.egg-info/PKG-INFO -> build/bdist.linux-x86_64/egg/EGG-INFO\n",
            "copying mmdet.egg-info/SOURCES.txt -> build/bdist.linux-x86_64/egg/EGG-INFO\n",
            "copying mmdet.egg-info/dependency_links.txt -> build/bdist.linux-x86_64/egg/EGG-INFO\n",
            "copying mmdet.egg-info/not-zip-safe -> build/bdist.linux-x86_64/egg/EGG-INFO\n",
            "copying mmdet.egg-info/requires.txt -> build/bdist.linux-x86_64/egg/EGG-INFO\n",
            "copying mmdet.egg-info/top_level.txt -> build/bdist.linux-x86_64/egg/EGG-INFO\n",
            "creating dist\n",
            "creating 'dist/mmdet-2.24.1-py3.7.egg' and adding 'build/bdist.linux-x86_64/egg' to it\n",
            "removing 'build/bdist.linux-x86_64/egg' (and everything under it)\n",
            "Processing mmdet-2.24.1-py3.7.egg\n",
            "creating /usr/local/lib/python3.7/dist-packages/mmdet-2.24.1-py3.7.egg\n",
            "Extracting mmdet-2.24.1-py3.7.egg to /usr/local/lib/python3.7/dist-packages\n",
            "Adding mmdet 2.24.1 to easy-install.pth file\n",
            "\n",
            "Installed /usr/local/lib/python3.7/dist-packages/mmdet-2.24.1-py3.7.egg\n",
            "Processing dependencies for mmdet==2.24.1\n",
            "Searching for terminaltables\n",
            "Reading https://pypi.org/simple/terminaltables/\n",
            "Downloading https://files.pythonhosted.org/packages/c4/fb/ea621e0a19733e01fe4005d46087d383693c0f4a8f824b47d8d4122c87e0/terminaltables-3.1.10-py2.py3-none-any.whl#sha256=e4fdc4179c9e4aab5f674d80f09d76fa436b96fdc698a8505e0a36bf0804a874\n",
            "Best match: terminaltables 3.1.10\n",
            "Processing terminaltables-3.1.10-py2.py3-none-any.whl\n",
            "Installing terminaltables-3.1.10-py2.py3-none-any.whl to /usr/local/lib/python3.7/dist-packages\n",
            "Adding terminaltables 3.1.10 to easy-install.pth file\n",
            "\n",
            "Installed /usr/local/lib/python3.7/dist-packages/terminaltables-3.1.10-py3.7.egg\n",
            "Searching for six==1.15.0\n",
            "Best match: six 1.15.0\n",
            "Adding six 1.15.0 to easy-install.pth file\n",
            "\n",
            "Using /usr/local/lib/python3.7/dist-packages\n",
            "Searching for pycocotools==2.0.4\n",
            "Best match: pycocotools 2.0.4\n",
            "Adding pycocotools 2.0.4 to easy-install.pth file\n",
            "\n",
            "Using /usr/local/lib/python3.7/dist-packages\n",
            "Searching for numpy==1.21.6\n",
            "Best match: numpy 1.21.6\n",
            "Adding numpy 1.21.6 to easy-install.pth file\n",
            "Installing f2py script to /usr/local/bin\n",
            "Installing f2py3 script to /usr/local/bin\n",
            "Installing f2py3.7 script to /usr/local/bin\n",
            "\n",
            "Using /usr/local/lib/python3.7/dist-packages\n",
            "Searching for matplotlib==3.2.2\n",
            "Best match: matplotlib 3.2.2\n",
            "Adding matplotlib 3.2.2 to easy-install.pth file\n",
            "\n",
            "Using /usr/local/lib/python3.7/dist-packages\n",
            "Searching for pyparsing==3.0.8\n",
            "Best match: pyparsing 3.0.8\n",
            "Adding pyparsing 3.0.8 to easy-install.pth file\n",
            "\n",
            "Using /usr/local/lib/python3.7/dist-packages\n",
            "Searching for python-dateutil==2.8.2\n",
            "Best match: python-dateutil 2.8.2\n",
            "Adding python-dateutil 2.8.2 to easy-install.pth file\n",
            "\n",
            "Using /usr/local/lib/python3.7/dist-packages\n",
            "Searching for cycler==0.11.0\n",
            "Best match: cycler 0.11.0\n",
            "Adding cycler 0.11.0 to easy-install.pth file\n",
            "\n",
            "Using /usr/local/lib/python3.7/dist-packages\n",
            "Searching for kiwisolver==1.4.2\n",
            "Best match: kiwisolver 1.4.2\n",
            "Adding kiwisolver 1.4.2 to easy-install.pth file\n",
            "\n",
            "Using /usr/local/lib/python3.7/dist-packages\n",
            "Searching for typing-extensions==4.2.0\n",
            "Best match: typing-extensions 4.2.0\n",
            "Adding typing-extensions 4.2.0 to easy-install.pth file\n",
            "\n",
            "Using /usr/local/lib/python3.7/dist-packages\n",
            "Finished processing dependencies for mmdet==2.24.1\n"
          ]
        }
      ],
      "source": [
        "!pip install mmcv-full -f https://download.openmmlab.com/mmcv/dist/cu113/torch1.11.0/index.html\n",
        "!git clone https://github.com/open-mmlab/mmdetection.git\n",
        "!cd mmdetection; python setup.py install"
      ]
    },
    {
      "cell_type": "code",
      "source": [
        "# 런타임 재시작 필요\n",
        "\n",
        "from mmdet.apis import init_detector, inference_detector\n",
        "import mmcv"
      ],
      "metadata": {
        "id": "VYSm6V08gijP"
      },
      "execution_count": null,
      "outputs": []
    },
    {
      "cell_type": "code",
      "source": [
        "%cd /content"
      ],
      "metadata": {
        "colab": {
          "base_uri": "https://localhost:8080/"
        },
        "id": "jEAirw3ChTJo",
        "outputId": "0d2aad49-11c6-414d-aac1-febf3b1b5c9d"
      },
      "execution_count": null,
      "outputs": [
        {
          "output_type": "stream",
          "name": "stdout",
          "text": [
            "/content\n"
          ]
        }
      ]
    },
    {
      "cell_type": "code",
      "source": [
        "%pip install wandb"
      ],
      "metadata": {
        "colab": {
          "base_uri": "https://localhost:8080/"
        },
        "id": "mmD99vvyhXQD",
        "outputId": "5c09edd7-6b5a-4d0e-cefe-fcbf3afebb91"
      },
      "execution_count": null,
      "outputs": [
        {
          "output_type": "stream",
          "name": "stdout",
          "text": [
            "Collecting wandb\n",
            "  Downloading wandb-0.12.16-py2.py3-none-any.whl (1.8 MB)\n",
            "\u001b[K     |████████████████████████████████| 1.8 MB 4.2 MB/s \n",
            "\u001b[?25hCollecting sentry-sdk>=1.0.0\n",
            "  Downloading sentry_sdk-1.5.11-py2.py3-none-any.whl (144 kB)\n",
            "\u001b[K     |████████████████████████████████| 144 kB 88.2 MB/s \n",
            "\u001b[?25hRequirement already satisfied: PyYAML in /usr/local/lib/python3.7/dist-packages (from wandb) (3.13)\n",
            "Collecting GitPython>=1.0.0\n",
            "  Downloading GitPython-3.1.27-py3-none-any.whl (181 kB)\n",
            "\u001b[K     |████████████████████████████████| 181 kB 84.7 MB/s \n",
            "\u001b[?25hRequirement already satisfied: six>=1.13.0 in /usr/local/lib/python3.7/dist-packages (from wandb) (1.15.0)\n",
            "Collecting docker-pycreds>=0.4.0\n",
            "  Downloading docker_pycreds-0.4.0-py2.py3-none-any.whl (9.0 kB)\n",
            "Collecting pathtools\n",
            "  Downloading pathtools-0.1.2.tar.gz (11 kB)\n",
            "Requirement already satisfied: setuptools in /usr/local/lib/python3.7/dist-packages (from wandb) (57.4.0)\n",
            "Requirement already satisfied: python-dateutil>=2.6.1 in /usr/local/lib/python3.7/dist-packages (from wandb) (2.8.2)\n",
            "Requirement already satisfied: psutil>=5.0.0 in /usr/local/lib/python3.7/dist-packages (from wandb) (5.4.8)\n",
            "Collecting setproctitle\n",
            "  Downloading setproctitle-1.2.3-cp37-cp37m-manylinux_2_5_x86_64.manylinux1_x86_64.manylinux_2_17_x86_64.manylinux2014_x86_64.whl (29 kB)\n",
            "Requirement already satisfied: requests<3,>=2.0.0 in /usr/local/lib/python3.7/dist-packages (from wandb) (2.23.0)\n",
            "Requirement already satisfied: Click!=8.0.0,>=7.0 in /usr/local/lib/python3.7/dist-packages (from wandb) (7.1.2)\n",
            "Collecting shortuuid>=0.5.0\n",
            "  Downloading shortuuid-1.0.9-py3-none-any.whl (9.4 kB)\n",
            "Requirement already satisfied: protobuf>=3.12.0 in /usr/local/lib/python3.7/dist-packages (from wandb) (3.17.3)\n",
            "Requirement already satisfied: promise<3,>=2.0 in /usr/local/lib/python3.7/dist-packages (from wandb) (2.3)\n",
            "Requirement already satisfied: typing-extensions>=3.7.4.3 in /usr/local/lib/python3.7/dist-packages (from GitPython>=1.0.0->wandb) (4.2.0)\n",
            "Collecting gitdb<5,>=4.0.1\n",
            "  Downloading gitdb-4.0.9-py3-none-any.whl (63 kB)\n",
            "\u001b[K     |████████████████████████████████| 63 kB 2.4 MB/s \n",
            "\u001b[?25hCollecting smmap<6,>=3.0.1\n",
            "  Downloading smmap-5.0.0-py3-none-any.whl (24 kB)\n",
            "Requirement already satisfied: chardet<4,>=3.0.2 in /usr/local/lib/python3.7/dist-packages (from requests<3,>=2.0.0->wandb) (3.0.4)\n",
            "Requirement already satisfied: idna<3,>=2.5 in /usr/local/lib/python3.7/dist-packages (from requests<3,>=2.0.0->wandb) (2.10)\n",
            "Requirement already satisfied: urllib3!=1.25.0,!=1.25.1,<1.26,>=1.21.1 in /usr/local/lib/python3.7/dist-packages (from requests<3,>=2.0.0->wandb) (1.24.3)\n",
            "Requirement already satisfied: certifi>=2017.4.17 in /usr/local/lib/python3.7/dist-packages (from requests<3,>=2.0.0->wandb) (2021.10.8)\n",
            "Building wheels for collected packages: pathtools\n",
            "  Building wheel for pathtools (setup.py) ... \u001b[?25l\u001b[?25hdone\n",
            "  Created wheel for pathtools: filename=pathtools-0.1.2-py3-none-any.whl size=8806 sha256=28eeadd7c67295aa42d41e906053050a5ab763d6661660e20f4a42a06228b95f\n",
            "  Stored in directory: /root/.cache/pip/wheels/3e/31/09/fa59cef12cdcfecc627b3d24273699f390e71828921b2cbba2\n",
            "Successfully built pathtools\n",
            "Installing collected packages: smmap, gitdb, shortuuid, setproctitle, sentry-sdk, pathtools, GitPython, docker-pycreds, wandb\n",
            "Successfully installed GitPython-3.1.27 docker-pycreds-0.4.0 gitdb-4.0.9 pathtools-0.1.2 sentry-sdk-1.5.11 setproctitle-1.2.3 shortuuid-1.0.9 smmap-5.0.0 wandb-0.12.16\n"
          ]
        }
      ]
    },
    {
      "cell_type": "code",
      "source": [
        "!pip install wandb -qqq\n",
        "import wandb"
      ],
      "metadata": {
        "id": "eNCc5QhVhZnW"
      },
      "execution_count": null,
      "outputs": []
    },
    {
      "cell_type": "code",
      "source": [
        "# Log in to your W&B account\n",
        "wandb.login()"
      ],
      "metadata": {
        "colab": {
          "base_uri": "https://localhost:8080/"
        },
        "id": "gxUswt2LhcJK",
        "outputId": "d8ff970e-7770-4837-be09-a9c2739bfd9e"
      },
      "execution_count": null,
      "outputs": [
        {
          "output_type": "stream",
          "name": "stderr",
          "text": [
            "\u001b[34m\u001b[1mwandb\u001b[0m: Currently logged in as: \u001b[33mbglepark\u001b[0m. Use \u001b[1m`wandb login --relogin`\u001b[0m to force relogin\n"
          ]
        },
        {
          "output_type": "execute_result",
          "data": {
            "text/plain": [
              "True"
            ]
          },
          "metadata": {},
          "execution_count": 6
        }
      ]
    },
    {
      "cell_type": "code",
      "source": [
        "from mmdet.datasets.builder import DATASETS\n",
        "from mmdet.datasets.coco import CocoDataset\n",
        "\n",
        "@DATASETS.register_module(force=True)\n",
        "class fishdataset(CocoDataset):\n",
        "  CLASSES = ('Olive flounder', 'Korea rockfish', 'Red seabream' , 'Black porgy' , 'Rock bream') "
      ],
      "metadata": {
        "id": "DLJKpMuwhezO"
      },
      "execution_count": null,
      "outputs": []
    },
    {
      "cell_type": "code",
      "source": [
        "config_file = '/content/mmdetection/configs/ssd/ssd300_coco.py'\n",
        "\n",
        "checkpoint_file = '/content/mmdetection/checkpoints/ssd300_coco_20210803_015428-d231a06e.pth'\n",
        "\n",
        "\n",
        "# config_file = '/content/mmdetection/configs/ssd/ssd300_coco.py'\n",
        "# checkpoint_file = '/content/mmdetection/checkpoints/ssd300_coco_20210803_015428-d231a06e.pth'\n"
      ],
      "metadata": {
        "id": "FGsIxSnchjht"
      },
      "execution_count": null,
      "outputs": []
    },
    {
      "cell_type": "code",
      "source": [
        "!cd /content/mmdetection; mkdir checkpoints\n",
        "!wget -O /content/mmdetection/checkpoints/ssd300_coco_20210803_015428-d231a06e.pth https://download.openmmlab.com/mmdetection/v2.0/ssd/ssd300_coco/ssd300_coco_20210803_015428-d231a06e.pth"
      ],
      "metadata": {
        "colab": {
          "base_uri": "https://localhost:8080/"
        },
        "id": "TLuF3uzijD-N",
        "outputId": "cbd16537-7aae-426f-aa76-b0b5e66f2ab0"
      },
      "execution_count": null,
      "outputs": [
        {
          "output_type": "stream",
          "name": "stdout",
          "text": [
            "--2022-05-09 06:43:39--  https://download.openmmlab.com/mmdetection/v2.0/ssd/ssd300_coco/ssd300_coco_20210803_015428-d231a06e.pth\n",
            "Resolving download.openmmlab.com (download.openmmlab.com)... 47.75.20.18\n",
            "Connecting to download.openmmlab.com (download.openmmlab.com)|47.75.20.18|:443... connected.\n",
            "HTTP request sent, awaiting response... 200 OK\n",
            "Length: 137242646 (131M) [application/octet-stream]\n",
            "Saving to: ‘/content/mmdetection/checkpoints/ssd300_coco_20210803_015428-d231a06e.pth’\n",
            "\n",
            "/content/mmdetectio 100%[===================>] 130.88M  12.4MB/s    in 10s     \n",
            "\n",
            "2022-05-09 06:43:49 (12.8 MB/s) - ‘/content/mmdetection/checkpoints/ssd300_coco_20210803_015428-d231a06e.pth’ saved [137242646/137242646]\n",
            "\n"
          ]
        }
      ]
    },
    {
      "cell_type": "code",
      "source": [
        "!ls -lia /content/mmdetection/checkpoints"
      ],
      "metadata": {
        "colab": {
          "base_uri": "https://localhost:8080/"
        },
        "id": "M2GQaeHUkAMz",
        "outputId": "6930b281-fe08-4636-f72a-212d395e8b80"
      },
      "execution_count": null,
      "outputs": [
        {
          "output_type": "stream",
          "name": "stdout",
          "text": [
            "total 134036\n",
            "5247027 drwxr-xr-x  2 root root      4096 May  9 06:43 .\n",
            "5243024 drwxr-xr-x 19 root root      4096 May  9 06:43 ..\n",
            "5247040 -rw-r--r--  1 root root 137242646 Nov  2  2021 ssd300_coco_20210803_015428-d231a06e.pth\n"
          ]
        }
      ]
    },
    {
      "cell_type": "code",
      "source": [
        "from mmcv import Config\n",
        "\n",
        "cfg = Config.fromfile(config_file)\n",
        "print(cfg.pretty_text)"
      ],
      "metadata": {
        "colab": {
          "base_uri": "https://localhost:8080/"
        },
        "id": "IXEpi7gqpjsp",
        "outputId": "7a335174-99f0-490f-93da-1c776a52da9a"
      },
      "execution_count": null,
      "outputs": [
        {
          "output_type": "stream",
          "name": "stdout",
          "text": [
            "input_size = 300\n",
            "model = dict(\n",
            "    type='SingleStageDetector',\n",
            "    backbone=dict(\n",
            "        type='SSDVGG',\n",
            "        depth=16,\n",
            "        with_last_pool=False,\n",
            "        ceil_mode=True,\n",
            "        out_indices=(3, 4),\n",
            "        out_feature_indices=(22, 34),\n",
            "        init_cfg=dict(\n",
            "            type='Pretrained', checkpoint='open-mmlab://vgg16_caffe')),\n",
            "    neck=dict(\n",
            "        type='SSDNeck',\n",
            "        in_channels=(512, 1024),\n",
            "        out_channels=(512, 1024, 512, 256, 256, 256),\n",
            "        level_strides=(2, 2, 1, 1),\n",
            "        level_paddings=(1, 1, 0, 0),\n",
            "        l2_norm_scale=20),\n",
            "    bbox_head=dict(\n",
            "        type='SSDHead',\n",
            "        in_channels=(512, 1024, 512, 256, 256, 256),\n",
            "        num_classes=5,\n",
            "        anchor_generator=dict(\n",
            "            type='SSDAnchorGenerator',\n",
            "            scale_major=False,\n",
            "            input_size=300,\n",
            "            basesize_ratio_range=(0.15, 0.9),\n",
            "            strides=[8, 16, 32, 64, 100, 300],\n",
            "            ratios=[[2], [2, 3], [2, 3], [2, 3], [2], [2]]),\n",
            "        bbox_coder=dict(\n",
            "            type='DeltaXYWHBBoxCoder',\n",
            "            target_means=[0.0, 0.0, 0.0, 0.0],\n",
            "            target_stds=[0.1, 0.1, 0.2, 0.2])),\n",
            "    train_cfg=dict(\n",
            "        assigner=dict(\n",
            "            type='MaxIoUAssigner',\n",
            "            pos_iou_thr=0.5,\n",
            "            neg_iou_thr=0.5,\n",
            "            min_pos_iou=0.0,\n",
            "            ignore_iof_thr=-1,\n",
            "            gt_max_assign_all=False),\n",
            "        smoothl1_beta=1.0,\n",
            "        allowed_border=-1,\n",
            "        pos_weight=-1,\n",
            "        neg_pos_ratio=3,\n",
            "        debug=False),\n",
            "    test_cfg=dict(\n",
            "        nms_pre=1000,\n",
            "        nms=dict(type='nms', iou_threshold=0.45),\n",
            "        min_bbox_size=0,\n",
            "        score_thr=0.02,\n",
            "        max_per_img=200))\n",
            "cudnn_benchmark = True\n",
            "dataset_type = 'fishdataset'\n",
            "data_root = '/content/drive/MyDrive/융합프로젝트_낚시/fish_sample_400_100_100_mmdetection/fish_sample/'\n",
            "img_norm_cfg = dict(mean=[123.675, 116.28, 103.53], std=[1, 1, 1], to_rgb=True)\n",
            "train_pipeline = [\n",
            "    dict(type='LoadImageFromFile'),\n",
            "    dict(type='LoadAnnotations', with_bbox=True),\n",
            "    dict(\n",
            "        type='Expand',\n",
            "        mean=[123.675, 116.28, 103.53],\n",
            "        to_rgb=True,\n",
            "        ratio_range=(1, 4)),\n",
            "    dict(\n",
            "        type='MinIoURandomCrop',\n",
            "        min_ious=(0.1, 0.3, 0.5, 0.7, 0.9),\n",
            "        min_crop_size=0.3),\n",
            "    dict(type='Resize', img_scale=(300, 300), keep_ratio=False),\n",
            "    dict(type='RandomFlip', flip_ratio=0.5),\n",
            "    dict(\n",
            "        type='PhotoMetricDistortion',\n",
            "        brightness_delta=32,\n",
            "        contrast_range=(0.5, 1.5),\n",
            "        saturation_range=(0.5, 1.5),\n",
            "        hue_delta=18),\n",
            "    dict(\n",
            "        type='Normalize',\n",
            "        mean=[123.675, 116.28, 103.53],\n",
            "        std=[1, 1, 1],\n",
            "        to_rgb=True),\n",
            "    dict(type='DefaultFormatBundle'),\n",
            "    dict(type='Collect', keys=['img', 'gt_bboxes', 'gt_labels'])\n",
            "]\n",
            "test_pipeline = [\n",
            "    dict(type='LoadImageFromFile'),\n",
            "    dict(\n",
            "        type='MultiScaleFlipAug',\n",
            "        img_scale=(300, 300),\n",
            "        flip=False,\n",
            "        transforms=[\n",
            "            dict(type='Resize', keep_ratio=False),\n",
            "            dict(\n",
            "                type='Normalize',\n",
            "                mean=[123.675, 116.28, 103.53],\n",
            "                std=[1, 1, 1],\n",
            "                to_rgb=True),\n",
            "            dict(type='ImageToTensor', keys=['img']),\n",
            "            dict(type='Collect', keys=['img'])\n",
            "        ])\n",
            "]\n",
            "data = dict(\n",
            "    samples_per_gpu=8,\n",
            "    workers_per_gpu=3,\n",
            "    train=dict(\n",
            "        type='RepeatDataset',\n",
            "        times=5,\n",
            "        dataset=dict(\n",
            "            type='fishdataset',\n",
            "            ann_file=\n",
            "            '/content/drive/MyDrive/융합프로젝트_낚시/fish_sample_400_100_100_mmdetection/fish_sample/train.json',\n",
            "            img_prefix=\n",
            "            '/content/drive/MyDrive/융합프로젝트_낚시/fish_sample_400_100_100_mmdetection/fish_sample/images',\n",
            "            pipeline=[\n",
            "                dict(type='LoadImageFromFile'),\n",
            "                dict(type='LoadAnnotations', with_bbox=True),\n",
            "                dict(\n",
            "                    type='Expand',\n",
            "                    mean=[123.675, 116.28, 103.53],\n",
            "                    to_rgb=True,\n",
            "                    ratio_range=(1, 4)),\n",
            "                dict(\n",
            "                    type='MinIoURandomCrop',\n",
            "                    min_ious=(0.1, 0.3, 0.5, 0.7, 0.9),\n",
            "                    min_crop_size=0.3),\n",
            "                dict(type='Resize', img_scale=(300, 300), keep_ratio=False),\n",
            "                dict(type='RandomFlip', flip_ratio=0.5),\n",
            "                dict(\n",
            "                    type='PhotoMetricDistortion',\n",
            "                    brightness_delta=32,\n",
            "                    contrast_range=(0.5, 1.5),\n",
            "                    saturation_range=(0.5, 1.5),\n",
            "                    hue_delta=18),\n",
            "                dict(\n",
            "                    type='Normalize',\n",
            "                    mean=[123.675, 116.28, 103.53],\n",
            "                    std=[1, 1, 1],\n",
            "                    to_rgb=True),\n",
            "                dict(type='DefaultFormatBundle'),\n",
            "                dict(type='Collect', keys=['img', 'gt_bboxes', 'gt_labels'])\n",
            "            ])),\n",
            "    val=dict(\n",
            "        type='fishdataset',\n",
            "        ann_file=\n",
            "        '/content/drive/MyDrive/융합프로젝트_낚시/fish_sample_400_100_100_mmdetection/fish_sample/valid.json',\n",
            "        img_prefix=\n",
            "        '/content/drive/MyDrive/융합프로젝트_낚시/fish_sample_400_100_100_mmdetection/fish_sample/images',\n",
            "        pipeline=[\n",
            "            dict(type='LoadImageFromFile'),\n",
            "            dict(\n",
            "                type='MultiScaleFlipAug',\n",
            "                img_scale=(300, 300),\n",
            "                flip=False,\n",
            "                transforms=[\n",
            "                    dict(type='Resize', keep_ratio=False),\n",
            "                    dict(\n",
            "                        type='Normalize',\n",
            "                        mean=[123.675, 116.28, 103.53],\n",
            "                        std=[1, 1, 1],\n",
            "                        to_rgb=True),\n",
            "                    dict(type='ImageToTensor', keys=['img']),\n",
            "                    dict(type='Collect', keys=['img'])\n",
            "                ])\n",
            "        ]),\n",
            "    test=dict(\n",
            "        type='fishdataset',\n",
            "        ann_file=\n",
            "        '/content/drive/MyDrive/융합프로젝트_낚시/fish_sample_400_100_100_mmdetection/fish_sample/test.json',\n",
            "        img_prefix=\n",
            "        '/content/drive/MyDrive/융합프로젝트_낚시/fish_sample_400_100_100_mmdetection/fish_sample/images',\n",
            "        pipeline=[\n",
            "            dict(type='LoadImageFromFile'),\n",
            "            dict(\n",
            "                type='MultiScaleFlipAug',\n",
            "                img_scale=(300, 300),\n",
            "                flip=False,\n",
            "                transforms=[\n",
            "                    dict(type='Resize', keep_ratio=False),\n",
            "                    dict(\n",
            "                        type='Normalize',\n",
            "                        mean=[123.675, 116.28, 103.53],\n",
            "                        std=[1, 1, 1],\n",
            "                        to_rgb=True),\n",
            "                    dict(type='ImageToTensor', keys=['img']),\n",
            "                    dict(type='Collect', keys=['img'])\n",
            "                ])\n",
            "        ]))\n",
            "evaluation = dict(interval=1, metric='bbox')\n",
            "optimizer = dict(type='SGD', lr=0.002, momentum=0.9, weight_decay=0.0005)\n",
            "optimizer_config = dict()\n",
            "lr_config = dict(\n",
            "    policy='step',\n",
            "    warmup='linear',\n",
            "    warmup_iters=500,\n",
            "    warmup_ratio=0.001,\n",
            "    step=[16, 22])\n",
            "runner = dict(type='EpochBasedRunner', max_epochs=100)\n",
            "checkpoint_config = dict(interval=1)\n",
            "log_config = dict(\n",
            "    interval=10,\n",
            "    hooks=[\n",
            "        dict(type='TextLoggerHook'),\n",
            "        dict(\n",
            "            type='WandbLoggerHook',\n",
            "            init_kwargs=dict(project='mmdetection', name='ssd_100epoch'))\n",
            "    ])\n",
            "custom_hooks = [\n",
            "    dict(type='NumClassCheckHook'),\n",
            "    dict(type='CheckInvalidLossHook', interval=50, priority='VERY_LOW')\n",
            "]\n",
            "dist_params = dict(backend='nccl')\n",
            "log_level = 'INFO'\n",
            "load_from = None\n",
            "resume_from = None\n",
            "workflow = [('train', 1)]\n",
            "opencv_num_threads = 0\n",
            "mp_start_method = 'fork'\n",
            "auto_scale_lr = dict(enable=False, base_batch_size=64)\n",
            "\n"
          ]
        }
      ]
    },
    {
      "cell_type": "code",
      "source": [
        "from mmdet.apis import set_random_seed\n",
        "\n",
        "# dataset에 대한 환경 파라미터 수정. \n",
        "# cfg.dataset_type = 'fishdataset'\n",
        "# cfg.data_root = '/content/drive/MyDrive/융합프로젝트_낚시/fish_sample_400_100_100_mmdetection/fish_sample/'\n",
        "\n",
        "# # # train, val, test dataset에 대한 type, data_root, ann_file, img_prefix 환경 파라미터 수정. \n",
        "# cfg.data.train.type = 'fishdataset'\n",
        "# cfg.data.train.data_root = '/content/drive/MyDrive/융합프로젝트_낚시/fish_sample_400_100_100_mmdetection/fish_sample/'\n",
        "# cfg.data.train.dataset.ann_file = 'train.json'\n",
        "# cfg.data.train.dataset.img_prefix = 'images'\n",
        "\n",
        "# cfg.data.val.type = 'fishdataset'\n",
        "# cfg.data.val.data_root = '/content/drive/MyDrive/융합프로젝트_낚시/fish_sample_400_100_100_mmdetection/fish_sample/'\n",
        "# cfg.data.val.dataset.ann_file = 'valid.json'\n",
        "# cfg.data.val.dataset.img_prefix = 'images'\n",
        "\n",
        "# cfg.data.test.type = 'fishdataset'\n",
        "# cfg.data.test.dataset.data_root = '/content/drive/MyDrive/융합프로젝트_낚시/fish_sample_400_100_100_mmdetection/fish_sample/'\n",
        "# cfg.data.test.dataset.ann_file = 'test.json'\n",
        "# cfg.data.test.dataset.img_prefix = 'images'\n",
        "\n",
        "# class의 갯수 수정. \n",
        "# cfg.model.bbox_head.num_classes = 5 -> code내에서 수정\n",
        "# pretrained 모델\n",
        "cfg.load_from = '/content/mmdetection/checkpoints/ssd300_coco_20210803_015428-d231a06e.pth'\n",
        "\n",
        "# 학습 weight 파일로 로그를 저장하기 위한 디렉토리 설정. \n",
        "cfg.work_dir = './tutorial_exps'\n",
        "\n",
        "# # 학습율 변경 환경 파라미터 설정. \n",
        "# cfg.optimizer.lr = 0.02 / 8\n",
        "cfg.lr_config.warmup = None\n",
        "cfg.log_config.interval = 10\n",
        "\n",
        "# CocoDataset의 경우 metric을 bbox로 설정해야 함.(mAP아님. bbox로 설정하면 mAP를 iou threshold를 0.5 ~ 0.95까지 변경하면서 측정)\n",
        "cfg.evaluation.metric = 'bbox'\n",
        "cfg.evaluation.interval = 1\n",
        "cfg.checkpoint_config.interval = 1\n",
        "\n",
        "# # 두번 config를 로드하면 lr_config의 policy가 사라지는 오류로 인하여 설정. \n",
        "# cfg.lr_config.policy='step'\n",
        "# # Set seed thus the results are more reproducible\n",
        "cfg.seed = 0\n",
        "set_random_seed(0, deterministic=False)\n",
        "cfg.gpu_ids = range(1)\n",
        "\n",
        "# cfg.runner.max_epochs = 10\n",
        "\n",
        "# cfg.device='cuda'\n",
        "\n",
        "cfg.data.samples_per_gpu = 4\n",
        "\n",
        "\n",
        "\n",
        "cfg.device='cuda'\n",
        "\n",
        "# cfg.train_pipeline[4].img_scale = (640,640)\n",
        "# cfg.test_pipeline[1].img_scale = (640,640)\n",
        "# cfg.data.train.dataset.pipeline[4].img_scale = (640,640)\n",
        "# cfg.data.val.pipeline[1].img_scale = (640,640)\n",
        "# cfg.data.test.pipeline[1].img_scale = (640,640)"
      ],
      "metadata": {
        "id": "Q3_C02LXpmmO"
      },
      "execution_count": null,
      "outputs": []
    },
    {
      "cell_type": "code",
      "source": [
        "print(cfg.pretty_text)"
      ],
      "metadata": {
        "colab": {
          "base_uri": "https://localhost:8080/"
        },
        "id": "xUvrc_7EqKIP",
        "outputId": "a17a1f55-8274-4795-8d75-953b724d9290"
      },
      "execution_count": null,
      "outputs": [
        {
          "output_type": "stream",
          "name": "stdout",
          "text": [
            "input_size = 300\n",
            "model = dict(\n",
            "    type='SingleStageDetector',\n",
            "    backbone=dict(\n",
            "        type='SSDVGG',\n",
            "        depth=16,\n",
            "        with_last_pool=False,\n",
            "        ceil_mode=True,\n",
            "        out_indices=(3, 4),\n",
            "        out_feature_indices=(22, 34),\n",
            "        init_cfg=dict(\n",
            "            type='Pretrained', checkpoint='open-mmlab://vgg16_caffe')),\n",
            "    neck=dict(\n",
            "        type='SSDNeck',\n",
            "        in_channels=(512, 1024),\n",
            "        out_channels=(512, 1024, 512, 256, 256, 256),\n",
            "        level_strides=(2, 2, 1, 1),\n",
            "        level_paddings=(1, 1, 0, 0),\n",
            "        l2_norm_scale=20),\n",
            "    bbox_head=dict(\n",
            "        type='SSDHead',\n",
            "        in_channels=(512, 1024, 512, 256, 256, 256),\n",
            "        num_classes=5,\n",
            "        anchor_generator=dict(\n",
            "            type='SSDAnchorGenerator',\n",
            "            scale_major=False,\n",
            "            input_size=300,\n",
            "            basesize_ratio_range=(0.15, 0.9),\n",
            "            strides=[8, 16, 32, 64, 100, 300],\n",
            "            ratios=[[2], [2, 3], [2, 3], [2, 3], [2], [2]]),\n",
            "        bbox_coder=dict(\n",
            "            type='DeltaXYWHBBoxCoder',\n",
            "            target_means=[0.0, 0.0, 0.0, 0.0],\n",
            "            target_stds=[0.1, 0.1, 0.2, 0.2])),\n",
            "    train_cfg=dict(\n",
            "        assigner=dict(\n",
            "            type='MaxIoUAssigner',\n",
            "            pos_iou_thr=0.5,\n",
            "            neg_iou_thr=0.5,\n",
            "            min_pos_iou=0.0,\n",
            "            ignore_iof_thr=-1,\n",
            "            gt_max_assign_all=False),\n",
            "        smoothl1_beta=1.0,\n",
            "        allowed_border=-1,\n",
            "        pos_weight=-1,\n",
            "        neg_pos_ratio=3,\n",
            "        debug=False),\n",
            "    test_cfg=dict(\n",
            "        nms_pre=1000,\n",
            "        nms=dict(type='nms', iou_threshold=0.45),\n",
            "        min_bbox_size=0,\n",
            "        score_thr=0.02,\n",
            "        max_per_img=200))\n",
            "cudnn_benchmark = True\n",
            "dataset_type = 'fishdataset'\n",
            "data_root = '/content/drive/MyDrive/융합프로젝트_낚시/fish_sample_400_100_100_mmdetection/fish_sample/'\n",
            "img_norm_cfg = dict(mean=[123.675, 116.28, 103.53], std=[1, 1, 1], to_rgb=True)\n",
            "train_pipeline = [\n",
            "    dict(type='LoadImageFromFile'),\n",
            "    dict(type='LoadAnnotations', with_bbox=True),\n",
            "    dict(\n",
            "        type='Expand',\n",
            "        mean=[123.675, 116.28, 103.53],\n",
            "        to_rgb=True,\n",
            "        ratio_range=(1, 4)),\n",
            "    dict(\n",
            "        type='MinIoURandomCrop',\n",
            "        min_ious=(0.1, 0.3, 0.5, 0.7, 0.9),\n",
            "        min_crop_size=0.3),\n",
            "    dict(type='Resize', img_scale=(300, 300), keep_ratio=False),\n",
            "    dict(type='RandomFlip', flip_ratio=0.5),\n",
            "    dict(\n",
            "        type='PhotoMetricDistortion',\n",
            "        brightness_delta=32,\n",
            "        contrast_range=(0.5, 1.5),\n",
            "        saturation_range=(0.5, 1.5),\n",
            "        hue_delta=18),\n",
            "    dict(\n",
            "        type='Normalize',\n",
            "        mean=[123.675, 116.28, 103.53],\n",
            "        std=[1, 1, 1],\n",
            "        to_rgb=True),\n",
            "    dict(type='DefaultFormatBundle'),\n",
            "    dict(type='Collect', keys=['img', 'gt_bboxes', 'gt_labels'])\n",
            "]\n",
            "test_pipeline = [\n",
            "    dict(type='LoadImageFromFile'),\n",
            "    dict(\n",
            "        type='MultiScaleFlipAug',\n",
            "        img_scale=(300, 300),\n",
            "        flip=False,\n",
            "        transforms=[\n",
            "            dict(type='Resize', keep_ratio=False),\n",
            "            dict(\n",
            "                type='Normalize',\n",
            "                mean=[123.675, 116.28, 103.53],\n",
            "                std=[1, 1, 1],\n",
            "                to_rgb=True),\n",
            "            dict(type='ImageToTensor', keys=['img']),\n",
            "            dict(type='Collect', keys=['img'])\n",
            "        ])\n",
            "]\n",
            "data = dict(\n",
            "    samples_per_gpu=4,\n",
            "    workers_per_gpu=3,\n",
            "    train=dict(\n",
            "        type='RepeatDataset',\n",
            "        times=5,\n",
            "        dataset=dict(\n",
            "            type='fishdataset',\n",
            "            ann_file=\n",
            "            '/content/drive/MyDrive/융합프로젝트_낚시/fish_sample_400_100_100_mmdetection/fish_sample/train.json',\n",
            "            img_prefix=\n",
            "            '/content/drive/MyDrive/융합프로젝트_낚시/fish_sample_400_100_100_mmdetection/fish_sample/images',\n",
            "            pipeline=[\n",
            "                dict(type='LoadImageFromFile'),\n",
            "                dict(type='LoadAnnotations', with_bbox=True),\n",
            "                dict(\n",
            "                    type='Expand',\n",
            "                    mean=[123.675, 116.28, 103.53],\n",
            "                    to_rgb=True,\n",
            "                    ratio_range=(1, 4)),\n",
            "                dict(\n",
            "                    type='MinIoURandomCrop',\n",
            "                    min_ious=(0.1, 0.3, 0.5, 0.7, 0.9),\n",
            "                    min_crop_size=0.3),\n",
            "                dict(type='Resize', img_scale=(300, 300), keep_ratio=False),\n",
            "                dict(type='RandomFlip', flip_ratio=0.5),\n",
            "                dict(\n",
            "                    type='PhotoMetricDistortion',\n",
            "                    brightness_delta=32,\n",
            "                    contrast_range=(0.5, 1.5),\n",
            "                    saturation_range=(0.5, 1.5),\n",
            "                    hue_delta=18),\n",
            "                dict(\n",
            "                    type='Normalize',\n",
            "                    mean=[123.675, 116.28, 103.53],\n",
            "                    std=[1, 1, 1],\n",
            "                    to_rgb=True),\n",
            "                dict(type='DefaultFormatBundle'),\n",
            "                dict(type='Collect', keys=['img', 'gt_bboxes', 'gt_labels'])\n",
            "            ])),\n",
            "    val=dict(\n",
            "        type='fishdataset',\n",
            "        ann_file=\n",
            "        '/content/drive/MyDrive/융합프로젝트_낚시/fish_sample_400_100_100_mmdetection/fish_sample/valid.json',\n",
            "        img_prefix=\n",
            "        '/content/drive/MyDrive/융합프로젝트_낚시/fish_sample_400_100_100_mmdetection/fish_sample/images',\n",
            "        pipeline=[\n",
            "            dict(type='LoadImageFromFile'),\n",
            "            dict(\n",
            "                type='MultiScaleFlipAug',\n",
            "                img_scale=(300, 300),\n",
            "                flip=False,\n",
            "                transforms=[\n",
            "                    dict(type='Resize', keep_ratio=False),\n",
            "                    dict(\n",
            "                        type='Normalize',\n",
            "                        mean=[123.675, 116.28, 103.53],\n",
            "                        std=[1, 1, 1],\n",
            "                        to_rgb=True),\n",
            "                    dict(type='ImageToTensor', keys=['img']),\n",
            "                    dict(type='Collect', keys=['img'])\n",
            "                ])\n",
            "        ]),\n",
            "    test=dict(\n",
            "        type='fishdataset',\n",
            "        ann_file=\n",
            "        '/content/drive/MyDrive/융합프로젝트_낚시/fish_sample_400_100_100_mmdetection/fish_sample/test.json',\n",
            "        img_prefix=\n",
            "        '/content/drive/MyDrive/융합프로젝트_낚시/fish_sample_400_100_100_mmdetection/fish_sample/images',\n",
            "        pipeline=[\n",
            "            dict(type='LoadImageFromFile'),\n",
            "            dict(\n",
            "                type='MultiScaleFlipAug',\n",
            "                img_scale=(300, 300),\n",
            "                flip=False,\n",
            "                transforms=[\n",
            "                    dict(type='Resize', keep_ratio=False),\n",
            "                    dict(\n",
            "                        type='Normalize',\n",
            "                        mean=[123.675, 116.28, 103.53],\n",
            "                        std=[1, 1, 1],\n",
            "                        to_rgb=True),\n",
            "                    dict(type='ImageToTensor', keys=['img']),\n",
            "                    dict(type='Collect', keys=['img'])\n",
            "                ])\n",
            "        ]))\n",
            "evaluation = dict(interval=1, metric='bbox')\n",
            "optimizer = dict(type='SGD', lr=0.002, momentum=0.9, weight_decay=0.0005)\n",
            "optimizer_config = dict()\n",
            "lr_config = dict(\n",
            "    policy='step',\n",
            "    warmup=None,\n",
            "    warmup_iters=500,\n",
            "    warmup_ratio=0.001,\n",
            "    step=[16, 22])\n",
            "runner = dict(type='EpochBasedRunner', max_epochs=100)\n",
            "checkpoint_config = dict(interval=1)\n",
            "log_config = dict(\n",
            "    interval=10,\n",
            "    hooks=[\n",
            "        dict(type='TextLoggerHook'),\n",
            "        dict(\n",
            "            type='WandbLoggerHook',\n",
            "            init_kwargs=dict(project='mmdetection', name='ssd_100epoch'))\n",
            "    ])\n",
            "custom_hooks = [\n",
            "    dict(type='NumClassCheckHook'),\n",
            "    dict(type='CheckInvalidLossHook', interval=50, priority='VERY_LOW')\n",
            "]\n",
            "dist_params = dict(backend='nccl')\n",
            "log_level = 'INFO'\n",
            "load_from = '/content/mmdetection/checkpoints/ssd300_coco_20210803_015428-d231a06e.pth'\n",
            "resume_from = None\n",
            "workflow = [('train', 1)]\n",
            "opencv_num_threads = 0\n",
            "mp_start_method = 'fork'\n",
            "auto_scale_lr = dict(enable=False, base_batch_size=64)\n",
            "work_dir = './tutorial_exps'\n",
            "seed = 0\n",
            "gpu_ids = range(0, 1)\n",
            "device = 'cuda'\n",
            "\n"
          ]
        }
      ]
    },
    {
      "cell_type": "code",
      "source": [
        "from mmdet.datasets import build_dataset\n",
        "from mmdet.models import build_detector\n",
        "from mmdet.apis import train_detector\n",
        "\n",
        "# train용 Dataset 생성. \n",
        "datasets = [build_dataset(cfg.data.train.dataset)]"
      ],
      "metadata": {
        "colab": {
          "base_uri": "https://localhost:8080/"
        },
        "id": "tLIU-vyytdtp",
        "outputId": "07b39ac8-df80-434b-e93f-d9534acf7c36"
      },
      "execution_count": null,
      "outputs": [
        {
          "output_type": "stream",
          "name": "stdout",
          "text": [
            "loading annotations into memory...\n",
            "Done (t=0.01s)\n",
            "creating index...\n",
            "index created!\n"
          ]
        }
      ]
    },
    {
      "cell_type": "code",
      "source": [
        "print(datasets[0])\n",
        "# datasets[0].__dict__ 로 모든 self variables의 key와 value값을 볼 수 있음. \n",
        "datasets[0].__dict__.keys()"
      ],
      "metadata": {
        "colab": {
          "base_uri": "https://localhost:8080/"
        },
        "id": "ZDBDIJz9uEdE",
        "outputId": "bb5a7ad8-ff7f-4afe-8033-e9c4e3174b2b"
      },
      "execution_count": null,
      "outputs": [
        {
          "output_type": "stream",
          "name": "stdout",
          "text": [
            "\n",
            "fishdataset Train dataset with number of images 400, and instance counts: \n",
            "+--------------------+-------+--------------------+-------+------------------+-------+-----------------+-------+----------------+-------+\n",
            "| category           | count | category           | count | category         | count | category        | count | category       | count |\n",
            "+--------------------+-------+--------------------+-------+------------------+-------+-----------------+-------+----------------+-------+\n",
            "| 0 [Olive flounder] | 80    | 1 [Korea rockfish] | 80    | 2 [Red seabream] | 80    | 3 [Black porgy] | 80    | 4 [Rock bream] | 80    |\n",
            "+--------------------+-------+--------------------+-------+------------------+-------+-----------------+-------+----------------+-------+\n"
          ]
        },
        {
          "output_type": "execute_result",
          "data": {
            "text/plain": [
              "dict_keys(['ann_file', 'data_root', 'img_prefix', 'seg_prefix', 'proposal_file', 'test_mode', 'filter_empty_gt', 'file_client', 'CLASSES', 'coco', 'cat_ids', 'cat2label', 'img_ids', 'data_infos', 'proposals', 'flag', 'pipeline'])"
            ]
          },
          "metadata": {},
          "execution_count": 27
        }
      ]
    },
    {
      "cell_type": "code",
      "source": [
        "datasets"
      ],
      "metadata": {
        "colab": {
          "base_uri": "https://localhost:8080/"
        },
        "id": "XzRbb0uvP3VB",
        "outputId": "43a8ea51-010f-4801-a9d0-fc18c4929494"
      },
      "execution_count": null,
      "outputs": [
        {
          "output_type": "execute_result",
          "data": {
            "text/plain": [
              "[\n",
              " fishdataset Train dataset with number of images 400, and instance counts: \n",
              " +--------------------+-------+--------------------+-------+------------------+-------+-----------------+-------+----------------+-------+\n",
              " | category           | count | category           | count | category         | count | category        | count | category       | count |\n",
              " +--------------------+-------+--------------------+-------+------------------+-------+-----------------+-------+----------------+-------+\n",
              " | 0 [Olive flounder] | 80    | 1 [Korea rockfish] | 80    | 2 [Red seabream] | 80    | 3 [Black porgy] | 80    | 4 [Rock bream] | 80    |\n",
              " +--------------------+-------+--------------------+-------+------------------+-------+-----------------+-------+----------------+-------+]"
            ]
          },
          "metadata": {},
          "execution_count": 52
        }
      ]
    },
    {
      "cell_type": "code",
      "source": [
        "model = build_detector(cfg.model, train_cfg=cfg.get('train_cfg'), test_cfg=cfg.get('test_cfg'))\n",
        "\n",
        "model.CLASSES = datasets[0].CLASSES\n",
        "print(model.CLASSES)"
      ],
      "metadata": {
        "colab": {
          "base_uri": "https://localhost:8080/"
        },
        "id": "zWCdd1HQQD4x",
        "outputId": "29d98175-36a4-49ad-c258-aa3a6499d411"
      },
      "execution_count": null,
      "outputs": [
        {
          "output_type": "stream",
          "name": "stdout",
          "text": [
            "('Olive flounder', 'Korea rockfish', 'Red seabream', 'Black porgy', 'Rock bream')\n"
          ]
        }
      ]
    },
    {
      "cell_type": "code",
      "source": [
        "import os.path as osp\n",
        "mmcv.mkdir_or_exist(osp.abspath(cfg.work_dir))\n",
        "# epochs는 config의 runner 파라미터로 지정됨. 기본 12회 \n",
        "\n",
        "train_detector(model, datasets, cfg, distributed=False, validate=True)"
      ],
      "metadata": {
        "colab": {
          "base_uri": "https://localhost:8080/",
          "height": 1000,
          "referenced_widgets": [
            "ce2f7b6b1f0c4cdfabcfb143c8eb5dae",
            "9bf53e67fd95447aa48b42c2535f5e4f",
            "5f37ff45a5ff48b489edef575c830e41",
            "ff2cbd5f47b6480997fdeed3df44357b",
            "b3902dd5fdb0415ca3834edcf5b8255b",
            "55aa9cb5ad934565a149b41ff9d97417",
            "60001660424f43088326b81e5797f1b7",
            "cd1b581a4c824d169d3d3e47632bbc3d",
            "ece6314ddd564286b926a9533072018f",
            "cdf4ba0507a3464eb3591bf967ad1354",
            "888e8858df1c473590f770a34ee767b4",
            "e414b6d84c3f4289871e13b2c7914d77",
            "fcc9777d6fda4b2aafd806627cbef23a",
            "9d7af58cb2534e65a6c9dbd95e77ee87",
            "c4fd58afb54e440aa6721f48581db991",
            "3e65fe27d7644d80860734009b146aaa"
          ]
        },
        "id": "YhRt0u6EQFQJ",
        "outputId": "fd4122e0-477c-4602-dd76-ae13dd21d5ef"
      },
      "execution_count": null,
      "outputs": [
        {
          "output_type": "stream",
          "name": "stderr",
          "text": [
            "2022-05-09 06:57:48,073 - mmdet - INFO - Automatic scaling of learning rate (LR) has been disabled.\n",
            "2022-05-09 06:57:48,079 - mmdet - INFO - load checkpoint from local path: /content/mmdetection/checkpoints/ssd300_coco_20210803_015428-d231a06e.pth\n",
            "2022-05-09 06:57:48,165 - mmdet - WARNING - The model and loaded state dict do not match exactly\n",
            "\n",
            "size mismatch for bbox_head.cls_convs.0.0.weight: copying a param with shape torch.Size([324, 512, 3, 3]) from checkpoint, the shape in current model is torch.Size([24, 512, 3, 3]).\n",
            "size mismatch for bbox_head.cls_convs.0.0.bias: copying a param with shape torch.Size([324]) from checkpoint, the shape in current model is torch.Size([24]).\n",
            "size mismatch for bbox_head.cls_convs.1.0.weight: copying a param with shape torch.Size([486, 1024, 3, 3]) from checkpoint, the shape in current model is torch.Size([36, 1024, 3, 3]).\n",
            "size mismatch for bbox_head.cls_convs.1.0.bias: copying a param with shape torch.Size([486]) from checkpoint, the shape in current model is torch.Size([36]).\n",
            "size mismatch for bbox_head.cls_convs.2.0.weight: copying a param with shape torch.Size([486, 512, 3, 3]) from checkpoint, the shape in current model is torch.Size([36, 512, 3, 3]).\n",
            "size mismatch for bbox_head.cls_convs.2.0.bias: copying a param with shape torch.Size([486]) from checkpoint, the shape in current model is torch.Size([36]).\n",
            "size mismatch for bbox_head.cls_convs.3.0.weight: copying a param with shape torch.Size([486, 256, 3, 3]) from checkpoint, the shape in current model is torch.Size([36, 256, 3, 3]).\n",
            "size mismatch for bbox_head.cls_convs.3.0.bias: copying a param with shape torch.Size([486]) from checkpoint, the shape in current model is torch.Size([36]).\n",
            "size mismatch for bbox_head.cls_convs.4.0.weight: copying a param with shape torch.Size([324, 256, 3, 3]) from checkpoint, the shape in current model is torch.Size([24, 256, 3, 3]).\n",
            "size mismatch for bbox_head.cls_convs.4.0.bias: copying a param with shape torch.Size([324]) from checkpoint, the shape in current model is torch.Size([24]).\n",
            "size mismatch for bbox_head.cls_convs.5.0.weight: copying a param with shape torch.Size([324, 256, 3, 3]) from checkpoint, the shape in current model is torch.Size([24, 256, 3, 3]).\n",
            "size mismatch for bbox_head.cls_convs.5.0.bias: copying a param with shape torch.Size([324]) from checkpoint, the shape in current model is torch.Size([24]).\n",
            "2022-05-09 06:57:48,170 - mmdet - INFO - Start running, host: root@ab3f842de579, work_dir: /content/tutorial_exps\n",
            "2022-05-09 06:57:48,171 - mmdet - INFO - Hooks will be executed in the following order:\n",
            "before_run:\n",
            "(VERY_HIGH   ) StepLrUpdaterHook                  \n",
            "(NORMAL      ) CheckpointHook                     \n",
            "(LOW         ) EvalHook                           \n",
            "(VERY_LOW    ) TextLoggerHook                     \n",
            "(VERY_LOW    ) WandbLoggerHook                    \n",
            " -------------------- \n",
            "before_train_epoch:\n",
            "(VERY_HIGH   ) StepLrUpdaterHook                  \n",
            "(NORMAL      ) NumClassCheckHook                  \n",
            "(LOW         ) IterTimerHook                      \n",
            "(LOW         ) EvalHook                           \n",
            "(VERY_LOW    ) TextLoggerHook                     \n",
            "(VERY_LOW    ) WandbLoggerHook                    \n",
            " -------------------- \n",
            "before_train_iter:\n",
            "(VERY_HIGH   ) StepLrUpdaterHook                  \n",
            "(LOW         ) IterTimerHook                      \n",
            "(LOW         ) EvalHook                           \n",
            " -------------------- \n",
            "after_train_iter:\n",
            "(ABOVE_NORMAL) OptimizerHook                      \n",
            "(NORMAL      ) CheckpointHook                     \n",
            "(LOW         ) IterTimerHook                      \n",
            "(LOW         ) EvalHook                           \n",
            "(VERY_LOW    ) TextLoggerHook                     \n",
            "(VERY_LOW    ) WandbLoggerHook                    \n",
            "(VERY_LOW    ) CheckInvalidLossHook               \n",
            " -------------------- \n",
            "after_train_epoch:\n",
            "(NORMAL      ) CheckpointHook                     \n",
            "(LOW         ) EvalHook                           \n",
            "(VERY_LOW    ) TextLoggerHook                     \n",
            "(VERY_LOW    ) WandbLoggerHook                    \n",
            " -------------------- \n",
            "before_val_epoch:\n",
            "(NORMAL      ) NumClassCheckHook                  \n",
            "(LOW         ) IterTimerHook                      \n",
            "(VERY_LOW    ) TextLoggerHook                     \n",
            "(VERY_LOW    ) WandbLoggerHook                    \n",
            " -------------------- \n",
            "before_val_iter:\n",
            "(LOW         ) IterTimerHook                      \n",
            " -------------------- \n",
            "after_val_iter:\n",
            "(LOW         ) IterTimerHook                      \n",
            " -------------------- \n",
            "after_val_epoch:\n",
            "(VERY_LOW    ) TextLoggerHook                     \n",
            "(VERY_LOW    ) WandbLoggerHook                    \n",
            " -------------------- \n",
            "after_run:\n",
            "(VERY_LOW    ) TextLoggerHook                     \n",
            "(VERY_LOW    ) WandbLoggerHook                    \n",
            " -------------------- \n",
            "2022-05-09 06:57:48,173 - mmdet - INFO - workflow: [('train', 1)], max: 100 epochs\n",
            "2022-05-09 06:57:48,174 - mmdet - INFO - Checkpoints will be saved to /content/tutorial_exps by HardDiskBackend.\n"
          ]
        },
        {
          "output_type": "stream",
          "name": "stdout",
          "text": [
            "loading annotations into memory...\n",
            "Done (t=0.00s)\n",
            "creating index...\n",
            "index created!\n"
          ]
        },
        {
          "output_type": "display_data",
          "data": {
            "text/plain": [
              "<IPython.core.display.HTML object>"
            ],
            "text/html": [
              "Finishing last run (ID:nudotafb) before initializing another..."
            ]
          },
          "metadata": {}
        },
        {
          "output_type": "display_data",
          "data": {
            "text/plain": [
              "<IPython.core.display.HTML object>"
            ],
            "text/html": [
              "Waiting for W&B process to finish... <strong style=\"color:green\">(success).</strong>"
            ]
          },
          "metadata": {}
        },
        {
          "output_type": "display_data",
          "data": {
            "text/plain": [
              "VBox(children=(Label(value='0.001 MB of 0.001 MB uploaded (0.000 MB deduped)\\r'), FloatProgress(value=1.0, max…"
            ],
            "application/vnd.jupyter.widget-view+json": {
              "version_major": 2,
              "version_minor": 0,
              "model_id": "ce2f7b6b1f0c4cdfabcfb143c8eb5dae"
            }
          },
          "metadata": {}
        },
        {
          "output_type": "display_data",
          "data": {
            "text/plain": [
              "<IPython.core.display.HTML object>"
            ],
            "text/html": [
              "<style>\n",
              "    table.wandb td:nth-child(1) { padding: 0 10px; text-align: left ; width: auto;} td:nth-child(2) {text-align: left ; width: 100%}\n",
              "    .wandb-row { display: flex; flex-direction: row; flex-wrap: wrap; justify-content: flex-start; width: 100% }\n",
              "    .wandb-col { display: flex; flex-direction: column; flex-basis: 100%; flex: 1; padding: 10px; }\n",
              "    </style>\n",
              "<div class=\"wandb-row\"><div class=\"wandb-col\"><h3>Run history:</h3><br/><table class=\"wandb\"><tr><td>learning_rate</td><td>▁▁▁▁▁▁▁▁▁▁▁▁▁▁▁▁▁▁</td></tr><tr><td>momentum</td><td>▁▁▁▁▁▁▁▁▁▁▁▁▁▁▁▁▁▁</td></tr><tr><td>train/loss</td><td>█▆▅▃▃▃▂▂▂▁▂▂▂▂▁▁▁</td></tr><tr><td>train/loss_bbox</td><td>▅▆█▆▆▆▃▄▃▂▂▂▃▃▂▂▁</td></tr><tr><td>train/loss_cls</td><td>█▅▃▂▂▂▂▂▂▁▂▁▁▁▁▁▁</td></tr><tr><td>val/bbox_mAP</td><td>▁</td></tr><tr><td>val/bbox_mAP_50</td><td>▁</td></tr><tr><td>val/bbox_mAP_75</td><td>▁</td></tr><tr><td>val/bbox_mAP_l</td><td>▁</td></tr><tr><td>val/bbox_mAP_m</td><td>▁</td></tr><tr><td>val/bbox_mAP_s</td><td>▁</td></tr></table><br/></div><div class=\"wandb-col\"><h3>Run summary:</h3><br/><table class=\"wandb\"><tr><td>learning_rate</td><td>0.002</td></tr><tr><td>momentum</td><td>0.9</td></tr><tr><td>train/loss</td><td>4.321</td></tr><tr><td>train/loss_bbox</td><td>0.70807</td></tr><tr><td>train/loss_cls</td><td>3.61293</td></tr><tr><td>val/bbox_mAP</td><td>0.176</td></tr><tr><td>val/bbox_mAP_50</td><td>0.335</td></tr><tr><td>val/bbox_mAP_75</td><td>0.138</td></tr><tr><td>val/bbox_mAP_l</td><td>0.176</td></tr><tr><td>val/bbox_mAP_m</td><td>-1.0</td></tr><tr><td>val/bbox_mAP_s</td><td>-1.0</td></tr></table><br/></div></div>"
            ]
          },
          "metadata": {}
        },
        {
          "output_type": "display_data",
          "data": {
            "text/plain": [
              "<IPython.core.display.HTML object>"
            ],
            "text/html": [
              "Synced <strong style=\"color:#cdcd00\">ssd_vgg16_10</strong>: <a href=\"https://wandb.ai/bglepark/mmdetection/runs/nudotafb\" target=\"_blank\">https://wandb.ai/bglepark/mmdetection/runs/nudotafb</a><br/>Synced 5 W&B file(s), 0 media file(s), 0 artifact file(s) and 0 other file(s)"
            ]
          },
          "metadata": {}
        },
        {
          "output_type": "display_data",
          "data": {
            "text/plain": [
              "<IPython.core.display.HTML object>"
            ],
            "text/html": [
              "Find logs at: <code>./wandb/run-20220509_065258-nudotafb/logs</code>"
            ]
          },
          "metadata": {}
        },
        {
          "output_type": "display_data",
          "data": {
            "text/plain": [
              "<IPython.core.display.HTML object>"
            ],
            "text/html": [
              "Successfully finished last run (ID:nudotafb). Initializing new run:<br/>"
            ]
          },
          "metadata": {}
        },
        {
          "output_type": "display_data",
          "data": {
            "text/plain": [
              "<IPython.core.display.HTML object>"
            ],
            "text/html": [
              "Tracking run with wandb version 0.12.16"
            ]
          },
          "metadata": {}
        },
        {
          "output_type": "display_data",
          "data": {
            "text/plain": [
              "<IPython.core.display.HTML object>"
            ],
            "text/html": [
              "Run data is saved locally in <code>/content/wandb/run-20220509_065748-bdqgo4dq</code>"
            ]
          },
          "metadata": {}
        },
        {
          "output_type": "display_data",
          "data": {
            "text/plain": [
              "<IPython.core.display.HTML object>"
            ],
            "text/html": [
              "Syncing run <strong><a href=\"https://wandb.ai/bglepark/mmdetection/runs/bdqgo4dq\" target=\"_blank\">ssd_100epoch</a></strong> to <a href=\"https://wandb.ai/bglepark/mmdetection\" target=\"_blank\">Weights & Biases</a> (<a href=\"https://wandb.me/run\" target=\"_blank\">docs</a>)<br/>"
            ]
          },
          "metadata": {}
        },
        {
          "output_type": "stream",
          "name": "stderr",
          "text": [
            "/usr/local/lib/python3.7/dist-packages/torch/nn/functional.py:780: UserWarning: Note that order of the arguments: ceil_mode and return_indices will changeto match the args list in nn.MaxPool2d in a future release.\n",
            "  warnings.warn(\"Note that order of the arguments: ceil_mode and return_indices will change\"\n",
            "2022-05-09 06:58:04,885 - mmdet - INFO - Epoch [1][10/100]\tlr: 2.000e-03, eta: 1:50:52, time: 0.666, data_time: 0.578, memory: 1182, loss_cls: 8.5971, loss_bbox: 1.4972, loss: 10.0944\n",
            "2022-05-09 06:58:07,954 - mmdet - INFO - Epoch [1][20/100]\tlr: 2.000e-03, eta: 1:20:52, time: 0.307, data_time: 0.225, memory: 1182, loss_cls: 6.4384, loss_bbox: 1.7160, loss: 8.1544\n",
            "2022-05-09 06:58:11,201 - mmdet - INFO - Epoch [1][30/100]\tlr: 2.000e-03, eta: 1:11:52, time: 0.325, data_time: 0.237, memory: 1182, loss_cls: 5.4549, loss_bbox: 2.1005, loss: 7.5554\n",
            "2022-05-09 06:58:15,243 - mmdet - INFO - Epoch [1][40/100]\tlr: 2.000e-03, eta: 1:10:37, time: 0.404, data_time: 0.312, memory: 1182, loss_cls: 4.8384, loss_bbox: 1.9542, loss: 6.7926\n",
            "2022-05-09 06:58:17,883 - mmdet - INFO - Epoch [1][50/100]\tlr: 2.000e-03, eta: 1:05:11, time: 0.264, data_time: 0.176, memory: 1182, loss_cls: 4.4594, loss_bbox: 1.3961, loss: 5.8555\n",
            "2022-05-09 06:58:21,703 - mmdet - INFO - Epoch [1][60/100]\tlr: 2.000e-03, eta: 1:04:48, time: 0.382, data_time: 0.294, memory: 1182, loss_cls: 4.2012, loss_bbox: 1.3453, loss: 5.5465\n",
            "2022-05-09 06:58:25,298 - mmdet - INFO - Epoch [1][70/100]\tlr: 2.000e-03, eta: 1:04:00, time: 0.360, data_time: 0.265, memory: 1182, loss_cls: 4.0972, loss_bbox: 1.1067, loss: 5.2039\n",
            "2022-05-09 06:58:27,616 - mmdet - INFO - Epoch [1][80/100]\tlr: 2.000e-03, eta: 1:00:44, time: 0.232, data_time: 0.138, memory: 1182, loss_cls: 4.0003, loss_bbox: 1.1854, loss: 5.1857\n",
            "2022-05-09 06:58:30,802 - mmdet - INFO - Epoch [1][90/100]\tlr: 2.000e-03, eta: 0:59:46, time: 0.319, data_time: 0.231, memory: 1182, loss_cls: 4.0410, loss_bbox: 1.2004, loss: 5.2414\n",
            "2022-05-09 06:58:33,814 - mmdet - INFO - Epoch [1][100/100]\tlr: 2.000e-03, eta: 0:58:42, time: 0.301, data_time: 0.218, memory: 1182, loss_cls: 3.8659, loss_bbox: 0.9051, loss: 4.7710\n",
            "2022-05-09 06:58:33,876 - mmdet - INFO - Saving checkpoint at 1 epochs\n"
          ]
        },
        {
          "output_type": "stream",
          "name": "stdout",
          "text": [
            "[>>>>>>>>>>>>>>>>>>>>>>>>>>>>>>] 100/100, 36.7 task/s, elapsed: 3s, ETA:     0s"
          ]
        },
        {
          "output_type": "stream",
          "name": "stderr",
          "text": [
            "2022-05-09 06:58:37,930 - mmdet - INFO - Evaluating bbox...\n"
          ]
        },
        {
          "output_type": "stream",
          "name": "stdout",
          "text": [
            "Loading and preparing results...\n",
            "DONE (t=0.02s)\n",
            "creating index...\n",
            "index created!\n",
            "Running per image evaluation...\n",
            "Evaluate annotation type *bbox*\n",
            "DONE (t=0.47s).\n",
            "Accumulating evaluation results...\n"
          ]
        },
        {
          "output_type": "stream",
          "name": "stderr",
          "text": [
            "2022-05-09 06:58:38,751 - mmdet - INFO - \n",
            " Average Precision  (AP) @[ IoU=0.50:0.95 | area=   all | maxDets=100 ] = 0.195\n",
            " Average Precision  (AP) @[ IoU=0.50      | area=   all | maxDets=1000 ] = 0.300\n",
            " Average Precision  (AP) @[ IoU=0.75      | area=   all | maxDets=1000 ] = 0.226\n",
            " Average Precision  (AP) @[ IoU=0.50:0.95 | area= small | maxDets=1000 ] = -1.000\n",
            " Average Precision  (AP) @[ IoU=0.50:0.95 | area=medium | maxDets=1000 ] = -1.000\n",
            " Average Precision  (AP) @[ IoU=0.50:0.95 | area= large | maxDets=1000 ] = 0.195\n",
            " Average Recall     (AR) @[ IoU=0.50:0.95 | area=   all | maxDets=100 ] = 0.599\n",
            " Average Recall     (AR) @[ IoU=0.50:0.95 | area=   all | maxDets=300 ] = 0.599\n",
            " Average Recall     (AR) @[ IoU=0.50:0.95 | area=   all | maxDets=1000 ] = 0.599\n",
            " Average Recall     (AR) @[ IoU=0.50:0.95 | area= small | maxDets=1000 ] = -1.000\n",
            " Average Recall     (AR) @[ IoU=0.50:0.95 | area=medium | maxDets=1000 ] = -1.000\n",
            " Average Recall     (AR) @[ IoU=0.50:0.95 | area= large | maxDets=1000 ] = 0.599\n",
            "\n",
            "2022-05-09 06:58:38,765 - mmdet - INFO - Epoch(val) [1][100]\tbbox_mAP: 0.1950, bbox_mAP_50: 0.3000, bbox_mAP_75: 0.2260, bbox_mAP_s: -1.0000, bbox_mAP_m: -1.0000, bbox_mAP_l: 0.1950, bbox_mAP_copypaste: 0.195 0.300 0.226 -1.000 -1.000 0.195\n"
          ]
        },
        {
          "output_type": "stream",
          "name": "stdout",
          "text": [
            "DONE (t=0.26s).\n"
          ]
        },
        {
          "output_type": "stream",
          "name": "stderr",
          "text": [
            "2022-05-09 06:58:44,743 - mmdet - INFO - Epoch [2][10/100]\tlr: 2.000e-03, eta: 1:02:11, time: 0.592, data_time: 0.501, memory: 1182, loss_cls: 4.1568, loss_bbox: 1.1697, loss: 5.3265\n",
            "2022-05-09 06:58:48,148 - mmdet - INFO - Epoch [2][20/100]\tlr: 2.000e-03, eta: 1:01:37, time: 0.341, data_time: 0.244, memory: 1182, loss_cls: 3.9443, loss_bbox: 1.1416, loss: 5.0858\n",
            "2022-05-09 06:58:51,153 - mmdet - INFO - Epoch [2][30/100]\tlr: 2.000e-03, eta: 1:00:38, time: 0.300, data_time: 0.205, memory: 1182, loss_cls: 3.8886, loss_bbox: 1.1598, loss: 5.0485\n",
            "2022-05-09 06:58:54,663 - mmdet - INFO - Epoch [2][40/100]\tlr: 2.000e-03, eta: 1:00:21, time: 0.351, data_time: 0.260, memory: 1182, loss_cls: 3.8454, loss_bbox: 1.0861, loss: 4.9315\n",
            "2022-05-09 06:58:58,000 - mmdet - INFO - Epoch [2][50/100]\tlr: 2.000e-03, eta: 0:59:56, time: 0.334, data_time: 0.240, memory: 1182, loss_cls: 3.7594, loss_bbox: 0.9705, loss: 4.7299\n",
            "2022-05-09 06:59:00,619 - mmdet - INFO - Epoch [2][60/100]\tlr: 2.000e-03, eta: 0:58:49, time: 0.262, data_time: 0.169, memory: 1182, loss_cls: 3.6636, loss_bbox: 0.7960, loss: 4.4596\n",
            "2022-05-09 06:59:03,528 - mmdet - INFO - Epoch [2][70/100]\tlr: 2.000e-03, eta: 0:58:06, time: 0.291, data_time: 0.207, memory: 1182, loss_cls: 3.5829, loss_bbox: 0.6472, loss: 4.2301\n",
            "2022-05-09 06:59:07,539 - mmdet - INFO - Epoch [2][80/100]\tlr: 2.000e-03, eta: 0:58:28, time: 0.401, data_time: 0.321, memory: 1182, loss_cls: 3.3912, loss_bbox: 0.8342, loss: 4.2253\n",
            "2022-05-09 06:59:10,977 - mmdet - INFO - Epoch [2][90/100]\tlr: 2.000e-03, eta: 0:58:17, time: 0.344, data_time: 0.243, memory: 1182, loss_cls: 3.5783, loss_bbox: 0.9131, loss: 4.4913\n",
            "2022-05-09 06:59:14,540 - mmdet - INFO - Epoch [2][100/100]\tlr: 2.000e-03, eta: 0:58:13, time: 0.356, data_time: 0.260, memory: 1182, loss_cls: 3.6518, loss_bbox: 0.9090, loss: 4.5608\n",
            "2022-05-09 06:59:14,612 - mmdet - INFO - Saving checkpoint at 2 epochs\n"
          ]
        },
        {
          "output_type": "stream",
          "name": "stdout",
          "text": [
            "[>>>>>>>>>>>>>>>>>>>>>>>>>>>>>>] 100/100, 37.8 task/s, elapsed: 3s, ETA:     0s"
          ]
        },
        {
          "output_type": "stream",
          "name": "stderr",
          "text": [
            "2022-05-09 06:59:18,324 - mmdet - INFO - Evaluating bbox...\n"
          ]
        },
        {
          "output_type": "stream",
          "name": "stdout",
          "text": [
            "Loading and preparing results...\n",
            "DONE (t=0.02s)\n",
            "creating index...\n",
            "index created!\n",
            "Running per image evaluation...\n",
            "Evaluate annotation type *bbox*\n",
            "DONE (t=0.46s).\n",
            "Accumulating evaluation results...\n"
          ]
        },
        {
          "output_type": "stream",
          "name": "stderr",
          "text": [
            "2022-05-09 06:59:19,070 - mmdet - INFO - \n",
            " Average Precision  (AP) @[ IoU=0.50:0.95 | area=   all | maxDets=100 ] = 0.158\n",
            " Average Precision  (AP) @[ IoU=0.50      | area=   all | maxDets=1000 ] = 0.292\n",
            " Average Precision  (AP) @[ IoU=0.75      | area=   all | maxDets=1000 ] = 0.162\n",
            " Average Precision  (AP) @[ IoU=0.50:0.95 | area= small | maxDets=1000 ] = -1.000\n",
            " Average Precision  (AP) @[ IoU=0.50:0.95 | area=medium | maxDets=1000 ] = -1.000\n",
            " Average Precision  (AP) @[ IoU=0.50:0.95 | area= large | maxDets=1000 ] = 0.158\n",
            " Average Recall     (AR) @[ IoU=0.50:0.95 | area=   all | maxDets=100 ] = 0.561\n",
            " Average Recall     (AR) @[ IoU=0.50:0.95 | area=   all | maxDets=300 ] = 0.561\n",
            " Average Recall     (AR) @[ IoU=0.50:0.95 | area=   all | maxDets=1000 ] = 0.561\n",
            " Average Recall     (AR) @[ IoU=0.50:0.95 | area= small | maxDets=1000 ] = -1.000\n",
            " Average Recall     (AR) @[ IoU=0.50:0.95 | area=medium | maxDets=1000 ] = -1.000\n",
            " Average Recall     (AR) @[ IoU=0.50:0.95 | area= large | maxDets=1000 ] = 0.561\n",
            "\n",
            "2022-05-09 06:59:19,083 - mmdet - INFO - Epoch(val) [2][100]\tbbox_mAP: 0.1580, bbox_mAP_50: 0.2920, bbox_mAP_75: 0.1620, bbox_mAP_s: -1.0000, bbox_mAP_m: -1.0000, bbox_mAP_l: 0.1580, bbox_mAP_copypaste: 0.158 0.292 0.162 -1.000 -1.000 0.158\n"
          ]
        },
        {
          "output_type": "stream",
          "name": "stdout",
          "text": [
            "DONE (t=0.21s).\n"
          ]
        },
        {
          "output_type": "stream",
          "name": "stderr",
          "text": [
            "2022-05-09 06:59:25,808 - mmdet - INFO - Epoch [3][10/100]\tlr: 2.000e-03, eta: 1:00:34, time: 0.667, data_time: 0.573, memory: 1182, loss_cls: 3.6926, loss_bbox: 0.8484, loss: 4.5410\n",
            "2022-05-09 06:59:28,858 - mmdet - INFO - Epoch [3][20/100]\tlr: 2.000e-03, eta: 1:00:01, time: 0.305, data_time: 0.210, memory: 1182, loss_cls: 3.4459, loss_bbox: 0.6706, loss: 4.1165\n",
            "2022-05-09 06:59:31,661 - mmdet - INFO - Epoch [3][30/100]\tlr: 2.000e-03, eta: 0:59:20, time: 0.280, data_time: 0.185, memory: 1182, loss_cls: 3.7130, loss_bbox: 0.8488, loss: 4.5618\n",
            "2022-05-09 06:59:34,643 - mmdet - INFO - Epoch [3][40/100]\tlr: 2.000e-03, eta: 0:58:50, time: 0.298, data_time: 0.203, memory: 1182, loss_cls: 3.7239, loss_bbox: 0.7763, loss: 4.5003\n",
            "2022-05-09 06:59:37,843 - mmdet - INFO - Epoch [3][50/100]\tlr: 2.000e-03, eta: 0:58:30, time: 0.320, data_time: 0.239, memory: 1182, loss_cls: 3.5844, loss_bbox: 0.9340, loss: 4.5184\n",
            "2022-05-09 06:59:41,474 - mmdet - INFO - Epoch [3][60/100]\tlr: 2.000e-03, eta: 0:58:27, time: 0.363, data_time: 0.272, memory: 1182, loss_cls: 3.3856, loss_bbox: 0.7786, loss: 4.1642\n",
            "2022-05-09 06:59:44,492 - mmdet - INFO - Epoch [3][70/100]\tlr: 2.000e-03, eta: 0:58:03, time: 0.302, data_time: 0.213, memory: 1182, loss_cls: 3.5563, loss_bbox: 0.7814, loss: 4.3377\n",
            "2022-05-09 06:59:47,038 - mmdet - INFO - Epoch [3][80/100]\tlr: 2.000e-03, eta: 0:57:23, time: 0.255, data_time: 0.156, memory: 1182, loss_cls: 3.3298, loss_bbox: 0.7614, loss: 4.0912\n",
            "2022-05-09 06:59:49,286 - mmdet - INFO - Epoch [3][90/100]\tlr: 2.000e-03, eta: 0:56:36, time: 0.225, data_time: 0.125, memory: 1182, loss_cls: 3.4917, loss_bbox: 0.8564, loss: 4.3481\n",
            "2022-05-09 06:59:51,640 - mmdet - INFO - Epoch [3][100/100]\tlr: 2.000e-03, eta: 0:55:56, time: 0.235, data_time: 0.138, memory: 1182, loss_cls: 3.2427, loss_bbox: 0.7330, loss: 3.9756\n",
            "2022-05-09 06:59:51,704 - mmdet - INFO - Saving checkpoint at 3 epochs\n"
          ]
        },
        {
          "output_type": "stream",
          "name": "stdout",
          "text": [
            "[>>>>>>>>>>>>>>>>>>>>>>>>>>>>>>] 100/100, 37.4 task/s, elapsed: 3s, ETA:     0s"
          ]
        },
        {
          "output_type": "stream",
          "name": "stderr",
          "text": [
            "2022-05-09 06:59:55,333 - mmdet - INFO - Evaluating bbox...\n"
          ]
        },
        {
          "output_type": "stream",
          "name": "stdout",
          "text": [
            "Loading and preparing results...\n",
            "DONE (t=0.01s)\n",
            "creating index...\n",
            "index created!\n",
            "Running per image evaluation...\n",
            "Evaluate annotation type *bbox*\n"
          ]
        },
        {
          "output_type": "stream",
          "name": "stderr",
          "text": [
            "2022-05-09 06:59:55,832 - mmdet - INFO - \n",
            " Average Precision  (AP) @[ IoU=0.50:0.95 | area=   all | maxDets=100 ] = 0.216\n",
            " Average Precision  (AP) @[ IoU=0.50      | area=   all | maxDets=1000 ] = 0.410\n",
            " Average Precision  (AP) @[ IoU=0.75      | area=   all | maxDets=1000 ] = 0.199\n",
            " Average Precision  (AP) @[ IoU=0.50:0.95 | area= small | maxDets=1000 ] = -1.000\n",
            " Average Precision  (AP) @[ IoU=0.50:0.95 | area=medium | maxDets=1000 ] = -1.000\n",
            " Average Precision  (AP) @[ IoU=0.50:0.95 | area= large | maxDets=1000 ] = 0.216\n",
            " Average Recall     (AR) @[ IoU=0.50:0.95 | area=   all | maxDets=100 ] = 0.596\n",
            " Average Recall     (AR) @[ IoU=0.50:0.95 | area=   all | maxDets=300 ] = 0.596\n",
            " Average Recall     (AR) @[ IoU=0.50:0.95 | area=   all | maxDets=1000 ] = 0.596\n",
            " Average Recall     (AR) @[ IoU=0.50:0.95 | area= small | maxDets=1000 ] = -1.000\n",
            " Average Recall     (AR) @[ IoU=0.50:0.95 | area=medium | maxDets=1000 ] = -1.000\n",
            " Average Recall     (AR) @[ IoU=0.50:0.95 | area= large | maxDets=1000 ] = 0.596\n",
            "\n",
            "2022-05-09 06:59:55,841 - mmdet - INFO - Epoch(val) [3][100]\tbbox_mAP: 0.2160, bbox_mAP_50: 0.4100, bbox_mAP_75: 0.1990, bbox_mAP_s: -1.0000, bbox_mAP_m: -1.0000, bbox_mAP_l: 0.2160, bbox_mAP_copypaste: 0.216 0.410 0.199 -1.000 -1.000 0.216\n"
          ]
        },
        {
          "output_type": "stream",
          "name": "stdout",
          "text": [
            "DONE (t=0.27s).\n",
            "Accumulating evaluation results...\n",
            "DONE (t=0.17s).\n"
          ]
        },
        {
          "output_type": "stream",
          "name": "stderr",
          "text": [
            "2022-05-09 07:00:03,222 - mmdet - INFO - Epoch [4][10/100]\tlr: 2.000e-03, eta: 0:57:53, time: 0.733, data_time: 0.644, memory: 1182, loss_cls: 3.4410, loss_bbox: 0.7314, loss: 4.1725\n",
            "2022-05-09 07:00:05,963 - mmdet - INFO - Epoch [4][20/100]\tlr: 2.000e-03, eta: 0:57:24, time: 0.274, data_time: 0.182, memory: 1182, loss_cls: 3.4337, loss_bbox: 0.7329, loss: 4.1666\n",
            "2022-05-09 07:00:08,597 - mmdet - INFO - Epoch [4][30/100]\tlr: 2.000e-03, eta: 0:56:53, time: 0.264, data_time: 0.165, memory: 1182, loss_cls: 3.3038, loss_bbox: 0.7816, loss: 4.0854\n",
            "2022-05-09 07:00:11,186 - mmdet - INFO - Epoch [4][40/100]\tlr: 2.000e-03, eta: 0:56:23, time: 0.259, data_time: 0.162, memory: 1182, loss_cls: 3.3213, loss_bbox: 0.6764, loss: 3.9977\n",
            "2022-05-09 07:00:14,680 - mmdet - INFO - Epoch [4][50/100]\tlr: 2.000e-03, eta: 0:56:19, time: 0.350, data_time: 0.251, memory: 1182, loss_cls: 3.3818, loss_bbox: 0.8456, loss: 4.2274\n",
            "2022-05-09 07:00:17,518 - mmdet - INFO - Epoch [4][60/100]\tlr: 2.000e-03, eta: 0:55:58, time: 0.284, data_time: 0.195, memory: 1182, loss_cls: 3.0425, loss_bbox: 0.6734, loss: 3.7159\n",
            "2022-05-09 07:00:20,305 - mmdet - INFO - Epoch [4][70/100]\tlr: 2.000e-03, eta: 0:55:36, time: 0.279, data_time: 0.184, memory: 1182, loss_cls: 3.2623, loss_bbox: 0.6323, loss: 3.8945\n",
            "2022-05-09 07:00:23,059 - mmdet - INFO - Epoch [4][80/100]\tlr: 2.000e-03, eta: 0:55:15, time: 0.275, data_time: 0.184, memory: 1182, loss_cls: 2.9506, loss_bbox: 0.6181, loss: 3.5687\n",
            "2022-05-09 07:00:26,472 - mmdet - INFO - Epoch [4][90/100]\tlr: 2.000e-03, eta: 0:55:11, time: 0.341, data_time: 0.252, memory: 1182, loss_cls: 3.1964, loss_bbox: 0.5989, loss: 3.7952\n",
            "2022-05-09 07:00:28,678 - mmdet - INFO - Epoch [4][100/100]\tlr: 2.000e-03, eta: 0:54:37, time: 0.221, data_time: 0.129, memory: 1182, loss_cls: 3.6588, loss_bbox: 0.7604, loss: 4.4193\n",
            "2022-05-09 07:00:28,740 - mmdet - INFO - Saving checkpoint at 4 epochs\n"
          ]
        },
        {
          "output_type": "stream",
          "name": "stdout",
          "text": [
            "[>>>>>>>>>>>>>>>>>>>>>>>>>>>>>>] 100/100, 37.2 task/s, elapsed: 3s, ETA:     0s"
          ]
        },
        {
          "output_type": "stream",
          "name": "stderr",
          "text": [
            "2022-05-09 07:00:32,469 - mmdet - INFO - Evaluating bbox...\n"
          ]
        },
        {
          "output_type": "stream",
          "name": "stdout",
          "text": [
            "Loading and preparing results...\n",
            "DONE (t=0.01s)\n",
            "creating index...\n",
            "index created!\n",
            "Running per image evaluation...\n",
            "Evaluate annotation type *bbox*\n"
          ]
        },
        {
          "output_type": "stream",
          "name": "stderr",
          "text": [
            "2022-05-09 07:00:32,921 - mmdet - INFO - \n",
            " Average Precision  (AP) @[ IoU=0.50:0.95 | area=   all | maxDets=100 ] = 0.218\n",
            " Average Precision  (AP) @[ IoU=0.50      | area=   all | maxDets=1000 ] = 0.366\n",
            " Average Precision  (AP) @[ IoU=0.75      | area=   all | maxDets=1000 ] = 0.281\n",
            " Average Precision  (AP) @[ IoU=0.50:0.95 | area= small | maxDets=1000 ] = -1.000\n",
            " Average Precision  (AP) @[ IoU=0.50:0.95 | area=medium | maxDets=1000 ] = -1.000\n",
            " Average Precision  (AP) @[ IoU=0.50:0.95 | area= large | maxDets=1000 ] = 0.218\n",
            " Average Recall     (AR) @[ IoU=0.50:0.95 | area=   all | maxDets=100 ] = 0.603\n",
            " Average Recall     (AR) @[ IoU=0.50:0.95 | area=   all | maxDets=300 ] = 0.603\n",
            " Average Recall     (AR) @[ IoU=0.50:0.95 | area=   all | maxDets=1000 ] = 0.603\n",
            " Average Recall     (AR) @[ IoU=0.50:0.95 | area= small | maxDets=1000 ] = -1.000\n",
            " Average Recall     (AR) @[ IoU=0.50:0.95 | area=medium | maxDets=1000 ] = -1.000\n",
            " Average Recall     (AR) @[ IoU=0.50:0.95 | area= large | maxDets=1000 ] = 0.603\n",
            "\n",
            "2022-05-09 07:00:32,928 - mmdet - INFO - Epoch(val) [4][100]\tbbox_mAP: 0.2180, bbox_mAP_50: 0.3660, bbox_mAP_75: 0.2810, bbox_mAP_s: -1.0000, bbox_mAP_m: -1.0000, bbox_mAP_l: 0.2180, bbox_mAP_copypaste: 0.218 0.366 0.281 -1.000 -1.000 0.218\n"
          ]
        },
        {
          "output_type": "stream",
          "name": "stdout",
          "text": [
            "DONE (t=0.25s).\n",
            "Accumulating evaluation results...\n",
            "DONE (t=0.16s).\n"
          ]
        },
        {
          "output_type": "stream",
          "name": "stderr",
          "text": [
            "2022-05-09 07:00:39,602 - mmdet - INFO - Epoch [5][10/100]\tlr: 2.000e-03, eta: 0:55:49, time: 0.662, data_time: 0.571, memory: 1182, loss_cls: 3.2190, loss_bbox: 0.8404, loss: 4.0594\n",
            "2022-05-09 07:00:42,909 - mmdet - INFO - Epoch [5][20/100]\tlr: 2.000e-03, eta: 0:55:41, time: 0.330, data_time: 0.237, memory: 1182, loss_cls: 3.2122, loss_bbox: 0.6725, loss: 3.8847\n",
            "2022-05-09 07:00:45,822 - mmdet - INFO - Epoch [5][30/100]\tlr: 2.000e-03, eta: 0:55:25, time: 0.291, data_time: 0.200, memory: 1182, loss_cls: 3.2652, loss_bbox: 0.6150, loss: 3.8802\n",
            "2022-05-09 07:00:48,313 - mmdet - INFO - Epoch [5][40/100]\tlr: 2.000e-03, eta: 0:55:00, time: 0.249, data_time: 0.152, memory: 1182, loss_cls: 2.9939, loss_bbox: 0.5577, loss: 3.5516\n",
            "2022-05-09 07:00:51,432 - mmdet - INFO - Epoch [5][50/100]\tlr: 2.000e-03, eta: 0:54:49, time: 0.312, data_time: 0.223, memory: 1182, loss_cls: 3.0845, loss_bbox: 0.6583, loss: 3.7428\n",
            "2022-05-09 07:00:53,782 - mmdet - INFO - Epoch [5][60/100]\tlr: 2.000e-03, eta: 0:54:23, time: 0.235, data_time: 0.139, memory: 1182, loss_cls: 3.2256, loss_bbox: 0.7530, loss: 3.9787\n",
            "2022-05-09 07:00:57,162 - mmdet - INFO - Epoch [5][70/100]\tlr: 2.000e-03, eta: 0:54:19, time: 0.338, data_time: 0.247, memory: 1182, loss_cls: 3.0425, loss_bbox: 0.7523, loss: 3.7948\n",
            "2022-05-09 07:01:00,259 - mmdet - INFO - Epoch [5][80/100]\tlr: 2.000e-03, eta: 0:54:09, time: 0.310, data_time: 0.217, memory: 1182, loss_cls: 3.1895, loss_bbox: 0.6016, loss: 3.7910\n",
            "2022-05-09 07:01:03,068 - mmdet - INFO - Epoch [5][90/100]\tlr: 2.000e-03, eta: 0:53:54, time: 0.281, data_time: 0.186, memory: 1182, loss_cls: 3.0505, loss_bbox: 0.5716, loss: 3.6221\n",
            "2022-05-09 07:01:05,532 - mmdet - INFO - Epoch [5][100/100]\tlr: 2.000e-03, eta: 0:53:33, time: 0.246, data_time: 0.153, memory: 1182, loss_cls: 2.9803, loss_bbox: 0.5791, loss: 3.5594\n",
            "2022-05-09 07:01:05,594 - mmdet - INFO - Saving checkpoint at 5 epochs\n"
          ]
        },
        {
          "output_type": "stream",
          "name": "stdout",
          "text": [
            "[>>>>>>>>>>>>>>>>>>>>>>>>>>>>>>] 100/100, 35.9 task/s, elapsed: 3s, ETA:     0s"
          ]
        },
        {
          "output_type": "stream",
          "name": "stderr",
          "text": [
            "2022-05-09 07:01:09,245 - mmdet - INFO - Evaluating bbox...\n"
          ]
        },
        {
          "output_type": "stream",
          "name": "stdout",
          "text": [
            "Loading and preparing results...\n",
            "DONE (t=0.01s)\n",
            "creating index...\n",
            "index created!\n",
            "Running per image evaluation...\n",
            "Evaluate annotation type *bbox*\n"
          ]
        },
        {
          "output_type": "stream",
          "name": "stderr",
          "text": [
            "2022-05-09 07:01:09,735 - mmdet - INFO - \n",
            " Average Precision  (AP) @[ IoU=0.50:0.95 | area=   all | maxDets=100 ] = 0.312\n",
            " Average Precision  (AP) @[ IoU=0.50      | area=   all | maxDets=1000 ] = 0.585\n",
            " Average Precision  (AP) @[ IoU=0.75      | area=   all | maxDets=1000 ] = 0.308\n",
            " Average Precision  (AP) @[ IoU=0.50:0.95 | area= small | maxDets=1000 ] = -1.000\n",
            " Average Precision  (AP) @[ IoU=0.50:0.95 | area=medium | maxDets=1000 ] = -1.000\n",
            " Average Precision  (AP) @[ IoU=0.50:0.95 | area= large | maxDets=1000 ] = 0.312\n",
            " Average Recall     (AR) @[ IoU=0.50:0.95 | area=   all | maxDets=100 ] = 0.600\n",
            " Average Recall     (AR) @[ IoU=0.50:0.95 | area=   all | maxDets=300 ] = 0.600\n",
            " Average Recall     (AR) @[ IoU=0.50:0.95 | area=   all | maxDets=1000 ] = 0.600\n",
            " Average Recall     (AR) @[ IoU=0.50:0.95 | area= small | maxDets=1000 ] = -1.000\n",
            " Average Recall     (AR) @[ IoU=0.50:0.95 | area=medium | maxDets=1000 ] = -1.000\n",
            " Average Recall     (AR) @[ IoU=0.50:0.95 | area= large | maxDets=1000 ] = 0.600\n",
            "\n",
            "2022-05-09 07:01:09,740 - mmdet - INFO - Epoch(val) [5][100]\tbbox_mAP: 0.3120, bbox_mAP_50: 0.5850, bbox_mAP_75: 0.3080, bbox_mAP_s: -1.0000, bbox_mAP_m: -1.0000, bbox_mAP_l: 0.3120, bbox_mAP_copypaste: 0.312 0.585 0.308 -1.000 -1.000 0.312\n"
          ]
        },
        {
          "output_type": "stream",
          "name": "stdout",
          "text": [
            "DONE (t=0.35s).\n",
            "Accumulating evaluation results...\n",
            "DONE (t=0.11s).\n"
          ]
        },
        {
          "output_type": "stream",
          "name": "stderr",
          "text": [
            "2022-05-09 07:01:16,603 - mmdet - INFO - Epoch [6][10/100]\tlr: 2.000e-03, eta: 0:54:33, time: 0.681, data_time: 0.584, memory: 1182, loss_cls: 3.0499, loss_bbox: 0.5861, loss: 3.6360\n",
            "2022-05-09 07:01:19,285 - mmdet - INFO - Epoch [6][20/100]\tlr: 2.000e-03, eta: 0:54:16, time: 0.268, data_time: 0.173, memory: 1182, loss_cls: 3.1212, loss_bbox: 0.6011, loss: 3.7223\n",
            "2022-05-09 07:01:22,609 - mmdet - INFO - Epoch [6][30/100]\tlr: 2.000e-03, eta: 0:54:10, time: 0.333, data_time: 0.251, memory: 1182, loss_cls: 3.0247, loss_bbox: 0.6041, loss: 3.6288\n",
            "2022-05-09 07:01:25,683 - mmdet - INFO - Epoch [6][40/100]\tlr: 2.000e-03, eta: 0:54:01, time: 0.307, data_time: 0.213, memory: 1182, loss_cls: 3.2897, loss_bbox: 0.8051, loss: 4.0948\n",
            "2022-05-09 07:01:29,116 - mmdet - INFO - Epoch [6][50/100]\tlr: 2.000e-03, eta: 0:53:57, time: 0.343, data_time: 0.261, memory: 1182, loss_cls: 3.4472, loss_bbox: 0.7930, loss: 4.2402\n",
            "2022-05-09 07:01:32,066 - mmdet - INFO - Epoch [6][60/100]\tlr: 2.000e-03, eta: 0:53:46, time: 0.295, data_time: 0.199, memory: 1182, loss_cls: 3.0243, loss_bbox: 0.7233, loss: 3.7476\n",
            "2022-05-09 07:01:35,667 - mmdet - INFO - Epoch [6][70/100]\tlr: 2.000e-03, eta: 0:53:46, time: 0.360, data_time: 0.272, memory: 1182, loss_cls: 2.9973, loss_bbox: 0.6529, loss: 3.6502\n",
            "2022-05-09 07:01:38,321 - mmdet - INFO - Epoch [6][80/100]\tlr: 2.000e-03, eta: 0:53:30, time: 0.265, data_time: 0.173, memory: 1182, loss_cls: 2.9943, loss_bbox: 0.7051, loss: 3.6994\n",
            "2022-05-09 07:01:41,187 - mmdet - INFO - Epoch [6][90/100]\tlr: 2.000e-03, eta: 0:53:18, time: 0.286, data_time: 0.192, memory: 1182, loss_cls: 2.8006, loss_bbox: 0.5885, loss: 3.3892\n",
            "2022-05-09 07:01:43,698 - mmdet - INFO - Epoch [6][100/100]\tlr: 2.000e-03, eta: 0:53:00, time: 0.251, data_time: 0.167, memory: 1182, loss_cls: 3.0521, loss_bbox: 0.6105, loss: 3.6625\n",
            "2022-05-09 07:01:43,759 - mmdet - INFO - Saving checkpoint at 6 epochs\n"
          ]
        },
        {
          "output_type": "stream",
          "name": "stdout",
          "text": [
            "[>>>>>>>>>>>>>>>>>>>>>>>>>>>>>>] 100/100, 37.8 task/s, elapsed: 3s, ETA:     0s"
          ]
        },
        {
          "output_type": "stream",
          "name": "stderr",
          "text": [
            "2022-05-09 07:01:47,247 - mmdet - INFO - Evaluating bbox...\n"
          ]
        },
        {
          "output_type": "stream",
          "name": "stdout",
          "text": [
            "Loading and preparing results...\n",
            "DONE (t=0.01s)\n",
            "creating index...\n",
            "index created!\n",
            "Running per image evaluation...\n",
            "Evaluate annotation type *bbox*\n",
            "DONE (t=0.19s).\n",
            "Accumulating evaluation results...\n"
          ]
        },
        {
          "output_type": "stream",
          "name": "stderr",
          "text": [
            "2022-05-09 07:01:47,575 - mmdet - INFO - \n",
            " Average Precision  (AP) @[ IoU=0.50:0.95 | area=   all | maxDets=100 ] = 0.379\n",
            " Average Precision  (AP) @[ IoU=0.50      | area=   all | maxDets=1000 ] = 0.605\n",
            " Average Precision  (AP) @[ IoU=0.75      | area=   all | maxDets=1000 ] = 0.417\n",
            " Average Precision  (AP) @[ IoU=0.50:0.95 | area= small | maxDets=1000 ] = -1.000\n",
            " Average Precision  (AP) @[ IoU=0.50:0.95 | area=medium | maxDets=1000 ] = -1.000\n",
            " Average Precision  (AP) @[ IoU=0.50:0.95 | area= large | maxDets=1000 ] = 0.379\n",
            " Average Recall     (AR) @[ IoU=0.50:0.95 | area=   all | maxDets=100 ] = 0.647\n",
            " Average Recall     (AR) @[ IoU=0.50:0.95 | area=   all | maxDets=300 ] = 0.647\n",
            " Average Recall     (AR) @[ IoU=0.50:0.95 | area=   all | maxDets=1000 ] = 0.647\n",
            " Average Recall     (AR) @[ IoU=0.50:0.95 | area= small | maxDets=1000 ] = -1.000\n",
            " Average Recall     (AR) @[ IoU=0.50:0.95 | area=medium | maxDets=1000 ] = -1.000\n",
            " Average Recall     (AR) @[ IoU=0.50:0.95 | area= large | maxDets=1000 ] = 0.647\n",
            "\n",
            "2022-05-09 07:01:47,582 - mmdet - INFO - Epoch(val) [6][100]\tbbox_mAP: 0.3790, bbox_mAP_50: 0.6050, bbox_mAP_75: 0.4170, bbox_mAP_s: -1.0000, bbox_mAP_m: -1.0000, bbox_mAP_l: 0.3790, bbox_mAP_copypaste: 0.379 0.605 0.417 -1.000 -1.000 0.379\n"
          ]
        },
        {
          "output_type": "stream",
          "name": "stdout",
          "text": [
            "DONE (t=0.10s).\n"
          ]
        },
        {
          "output_type": "stream",
          "name": "stderr",
          "text": [
            "2022-05-09 07:01:53,657 - mmdet - INFO - Epoch [7][10/100]\tlr: 2.000e-03, eta: 0:53:37, time: 0.602, data_time: 0.504, memory: 1182, loss_cls: 2.8434, loss_bbox: 0.8383, loss: 3.6817\n",
            "2022-05-09 07:01:56,785 - mmdet - INFO - Epoch [7][20/100]\tlr: 2.000e-03, eta: 0:53:29, time: 0.313, data_time: 0.225, memory: 1182, loss_cls: 3.1135, loss_bbox: 0.8231, loss: 3.9365\n",
            "2022-05-09 07:01:58,602 - mmdet - INFO - Epoch [7][30/100]\tlr: 2.000e-03, eta: 0:53:02, time: 0.182, data_time: 0.095, memory: 1182, loss_cls: 2.9515, loss_bbox: 0.6907, loss: 3.6422\n",
            "2022-05-09 07:02:01,525 - mmdet - INFO - Epoch [7][40/100]\tlr: 2.000e-03, eta: 0:52:52, time: 0.292, data_time: 0.203, memory: 1182, loss_cls: 2.9389, loss_bbox: 0.5209, loss: 3.4597\n",
            "2022-05-09 07:02:04,044 - mmdet - INFO - Epoch [7][50/100]\tlr: 2.000e-03, eta: 0:52:36, time: 0.252, data_time: 0.159, memory: 1182, loss_cls: 2.6937, loss_bbox: 0.5122, loss: 3.2059\n",
            "2022-05-09 07:02:07,425 - mmdet - INFO - Epoch [7][60/100]\tlr: 2.000e-03, eta: 0:52:33, time: 0.338, data_time: 0.241, memory: 1182, loss_cls: 2.6451, loss_bbox: 0.6269, loss: 3.2720\n",
            "2022-05-09 07:02:10,368 - mmdet - INFO - Epoch [7][70/100]\tlr: 2.000e-03, eta: 0:52:23, time: 0.294, data_time: 0.196, memory: 1182, loss_cls: 2.6504, loss_bbox: 0.5124, loss: 3.1628\n",
            "2022-05-09 07:02:13,481 - mmdet - INFO - Epoch [7][80/100]\tlr: 2.000e-03, eta: 0:52:16, time: 0.311, data_time: 0.212, memory: 1182, loss_cls: 2.7392, loss_bbox: 0.5155, loss: 3.2547\n",
            "2022-05-09 07:02:17,262 - mmdet - INFO - Epoch [7][90/100]\tlr: 2.000e-03, eta: 0:52:19, time: 0.378, data_time: 0.287, memory: 1182, loss_cls: 2.7821, loss_bbox: 0.6696, loss: 3.4517\n",
            "2022-05-09 07:02:19,548 - mmdet - INFO - Epoch [7][100/100]\tlr: 2.000e-03, eta: 0:52:01, time: 0.228, data_time: 0.136, memory: 1182, loss_cls: 2.6734, loss_bbox: 0.4380, loss: 3.1114\n",
            "2022-05-09 07:02:19,611 - mmdet - INFO - Saving checkpoint at 7 epochs\n"
          ]
        },
        {
          "output_type": "stream",
          "name": "stdout",
          "text": [
            "[>>>>>>>>>>>>>>>>>>>>>>>>>>>>>>] 100/100, 38.4 task/s, elapsed: 3s, ETA:     0s"
          ]
        },
        {
          "output_type": "stream",
          "name": "stderr",
          "text": [
            "2022-05-09 07:02:23,055 - mmdet - INFO - Evaluating bbox...\n"
          ]
        },
        {
          "output_type": "stream",
          "name": "stdout",
          "text": [
            "Loading and preparing results...\n",
            "DONE (t=0.00s)\n",
            "creating index...\n",
            "index created!\n",
            "Running per image evaluation...\n",
            "Evaluate annotation type *bbox*\n",
            "DONE (t=0.19s).\n",
            "Accumulating evaluation results...\n"
          ]
        },
        {
          "output_type": "stream",
          "name": "stderr",
          "text": [
            "2022-05-09 07:02:23,363 - mmdet - INFO - \n",
            " Average Precision  (AP) @[ IoU=0.50:0.95 | area=   all | maxDets=100 ] = 0.419\n",
            " Average Precision  (AP) @[ IoU=0.50      | area=   all | maxDets=1000 ] = 0.635\n",
            " Average Precision  (AP) @[ IoU=0.75      | area=   all | maxDets=1000 ] = 0.504\n",
            " Average Precision  (AP) @[ IoU=0.50:0.95 | area= small | maxDets=1000 ] = -1.000\n",
            " Average Precision  (AP) @[ IoU=0.50:0.95 | area=medium | maxDets=1000 ] = -1.000\n",
            " Average Precision  (AP) @[ IoU=0.50:0.95 | area= large | maxDets=1000 ] = 0.419\n",
            " Average Recall     (AR) @[ IoU=0.50:0.95 | area=   all | maxDets=100 ] = 0.686\n",
            " Average Recall     (AR) @[ IoU=0.50:0.95 | area=   all | maxDets=300 ] = 0.686\n",
            " Average Recall     (AR) @[ IoU=0.50:0.95 | area=   all | maxDets=1000 ] = 0.686\n",
            " Average Recall     (AR) @[ IoU=0.50:0.95 | area= small | maxDets=1000 ] = -1.000\n",
            " Average Recall     (AR) @[ IoU=0.50:0.95 | area=medium | maxDets=1000 ] = -1.000\n",
            " Average Recall     (AR) @[ IoU=0.50:0.95 | area= large | maxDets=1000 ] = 0.686\n",
            "\n",
            "2022-05-09 07:02:23,369 - mmdet - INFO - Epoch(val) [7][100]\tbbox_mAP: 0.4190, bbox_mAP_50: 0.6350, bbox_mAP_75: 0.5040, bbox_mAP_s: -1.0000, bbox_mAP_m: -1.0000, bbox_mAP_l: 0.4190, bbox_mAP_copypaste: 0.419 0.635 0.504 -1.000 -1.000 0.419\n"
          ]
        },
        {
          "output_type": "stream",
          "name": "stdout",
          "text": [
            "DONE (t=0.09s).\n"
          ]
        },
        {
          "output_type": "stream",
          "name": "stderr",
          "text": [
            "2022-05-09 07:02:29,229 - mmdet - INFO - Epoch [8][10/100]\tlr: 2.000e-03, eta: 0:52:29, time: 0.580, data_time: 0.482, memory: 1182, loss_cls: 2.8766, loss_bbox: 0.6131, loss: 3.4897\n",
            "2022-05-09 07:02:32,540 - mmdet - INFO - Epoch [8][20/100]\tlr: 2.000e-03, eta: 0:52:25, time: 0.331, data_time: 0.236, memory: 1182, loss_cls: 2.7423, loss_bbox: 0.4790, loss: 3.2213\n",
            "2022-05-09 07:02:36,122 - mmdet - INFO - Epoch [8][30/100]\tlr: 2.000e-03, eta: 0:52:24, time: 0.358, data_time: 0.264, memory: 1182, loss_cls: 3.0275, loss_bbox: 0.6868, loss: 3.7144\n",
            "2022-05-09 07:02:39,116 - mmdet - INFO - Epoch [8][40/100]\tlr: 2.000e-03, eta: 0:52:16, time: 0.299, data_time: 0.204, memory: 1182, loss_cls: 2.6882, loss_bbox: 0.5017, loss: 3.1899\n",
            "2022-05-09 07:02:42,897 - mmdet - INFO - Epoch [8][50/100]\tlr: 2.000e-03, eta: 0:52:17, time: 0.378, data_time: 0.283, memory: 1182, loss_cls: 2.5590, loss_bbox: 0.6420, loss: 3.2010\n",
            "2022-05-09 07:02:45,158 - mmdet - INFO - Epoch [8][60/100]\tlr: 2.000e-03, eta: 0:52:00, time: 0.226, data_time: 0.134, memory: 1182, loss_cls: 3.0605, loss_bbox: 0.5016, loss: 3.5621\n",
            "2022-05-09 07:02:48,643 - mmdet - INFO - Epoch [8][70/100]\tlr: 2.000e-03, eta: 0:51:58, time: 0.348, data_time: 0.253, memory: 1182, loss_cls: 3.1186, loss_bbox: 0.7349, loss: 3.8535\n",
            "2022-05-09 07:02:50,978 - mmdet - INFO - Epoch [8][80/100]\tlr: 2.000e-03, eta: 0:51:42, time: 0.234, data_time: 0.141, memory: 1182, loss_cls: 2.7221, loss_bbox: 0.5557, loss: 3.2778\n",
            "2022-05-09 07:02:54,160 - mmdet - INFO - Epoch [8][90/100]\tlr: 2.000e-03, eta: 0:51:37, time: 0.318, data_time: 0.220, memory: 1182, loss_cls: 2.9358, loss_bbox: 0.7216, loss: 3.6574\n",
            "2022-05-09 07:02:56,545 - mmdet - INFO - Epoch [8][100/100]\tlr: 2.000e-03, eta: 0:51:22, time: 0.238, data_time: 0.145, memory: 1182, loss_cls: 2.9591, loss_bbox: 0.6622, loss: 3.6213\n",
            "2022-05-09 07:02:56,606 - mmdet - INFO - Saving checkpoint at 8 epochs\n"
          ]
        },
        {
          "output_type": "stream",
          "name": "stdout",
          "text": [
            "[>>>>>>>>>>>>>>>>>>>>>>>>>>>>>>] 100/100, 37.3 task/s, elapsed: 3s, ETA:     0s"
          ]
        },
        {
          "output_type": "stream",
          "name": "stderr",
          "text": [
            "2022-05-09 07:03:00,103 - mmdet - INFO - Evaluating bbox...\n"
          ]
        },
        {
          "output_type": "stream",
          "name": "stdout",
          "text": [
            "Loading and preparing results...\n",
            "DONE (t=0.00s)\n",
            "creating index...\n",
            "index created!\n",
            "Running per image evaluation...\n",
            "Evaluate annotation type *bbox*\n",
            "DONE (t=0.17s).\n",
            "Accumulating evaluation results...\n"
          ]
        },
        {
          "output_type": "stream",
          "name": "stderr",
          "text": [
            "2022-05-09 07:03:00,498 - mmdet - INFO - \n",
            " Average Precision  (AP) @[ IoU=0.50:0.95 | area=   all | maxDets=100 ] = 0.381\n",
            " Average Precision  (AP) @[ IoU=0.50      | area=   all | maxDets=1000 ] = 0.566\n",
            " Average Precision  (AP) @[ IoU=0.75      | area=   all | maxDets=1000 ] = 0.468\n",
            " Average Precision  (AP) @[ IoU=0.50:0.95 | area= small | maxDets=1000 ] = -1.000\n",
            " Average Precision  (AP) @[ IoU=0.50:0.95 | area=medium | maxDets=1000 ] = -1.000\n",
            " Average Precision  (AP) @[ IoU=0.50:0.95 | area= large | maxDets=1000 ] = 0.381\n",
            " Average Recall     (AR) @[ IoU=0.50:0.95 | area=   all | maxDets=100 ] = 0.629\n",
            " Average Recall     (AR) @[ IoU=0.50:0.95 | area=   all | maxDets=300 ] = 0.629\n",
            " Average Recall     (AR) @[ IoU=0.50:0.95 | area=   all | maxDets=1000 ] = 0.629\n",
            " Average Recall     (AR) @[ IoU=0.50:0.95 | area= small | maxDets=1000 ] = -1.000\n",
            " Average Recall     (AR) @[ IoU=0.50:0.95 | area=medium | maxDets=1000 ] = -1.000\n",
            " Average Recall     (AR) @[ IoU=0.50:0.95 | area= large | maxDets=1000 ] = 0.629\n",
            "\n",
            "2022-05-09 07:03:00,503 - mmdet - INFO - Epoch(val) [8][100]\tbbox_mAP: 0.3810, bbox_mAP_50: 0.5660, bbox_mAP_75: 0.4680, bbox_mAP_s: -1.0000, bbox_mAP_m: -1.0000, bbox_mAP_l: 0.3810, bbox_mAP_copypaste: 0.381 0.566 0.468 -1.000 -1.000 0.381\n"
          ]
        },
        {
          "output_type": "stream",
          "name": "stdout",
          "text": [
            "DONE (t=0.07s).\n"
          ]
        },
        {
          "output_type": "stream",
          "name": "stderr",
          "text": [
            "2022-05-09 07:03:07,103 - mmdet - INFO - Epoch [9][10/100]\tlr: 2.000e-03, eta: 0:51:55, time: 0.655, data_time: 0.557, memory: 1182, loss_cls: 2.8396, loss_bbox: 0.6758, loss: 3.5154\n",
            "2022-05-09 07:03:11,229 - mmdet - INFO - Epoch [9][20/100]\tlr: 2.000e-03, eta: 0:52:00, time: 0.412, data_time: 0.312, memory: 1182, loss_cls: 2.8349, loss_bbox: 0.6590, loss: 3.4939\n",
            "2022-05-09 07:03:14,610 - mmdet - INFO - Epoch [9][30/100]\tlr: 2.000e-03, eta: 0:51:56, time: 0.338, data_time: 0.239, memory: 1182, loss_cls: 2.8873, loss_bbox: 0.5465, loss: 3.4338\n",
            "2022-05-09 07:03:16,995 - mmdet - INFO - Epoch [9][40/100]\tlr: 2.000e-03, eta: 0:51:42, time: 0.238, data_time: 0.145, memory: 1182, loss_cls: 2.6914, loss_bbox: 0.5825, loss: 3.2739\n",
            "2022-05-09 07:03:20,044 - mmdet - INFO - Epoch [9][50/100]\tlr: 2.000e-03, eta: 0:51:35, time: 0.305, data_time: 0.203, memory: 1182, loss_cls: 2.8594, loss_bbox: 0.5421, loss: 3.4015\n",
            "2022-05-09 07:03:23,329 - mmdet - INFO - Epoch [9][60/100]\tlr: 2.000e-03, eta: 0:51:30, time: 0.329, data_time: 0.241, memory: 1182, loss_cls: 2.9032, loss_bbox: 0.6065, loss: 3.5097\n",
            "2022-05-09 07:03:26,076 - mmdet - INFO - Epoch [9][70/100]\tlr: 2.000e-03, eta: 0:51:20, time: 0.275, data_time: 0.178, memory: 1182, loss_cls: 2.7957, loss_bbox: 0.5337, loss: 3.3295\n",
            "2022-05-09 07:03:28,708 - mmdet - INFO - Epoch [9][80/100]\tlr: 2.000e-03, eta: 0:51:09, time: 0.263, data_time: 0.168, memory: 1182, loss_cls: 2.4072, loss_bbox: 0.5126, loss: 2.9198\n",
            "2022-05-09 07:03:32,816 - mmdet - INFO - Epoch [9][90/100]\tlr: 2.000e-03, eta: 0:51:13, time: 0.411, data_time: 0.316, memory: 1182, loss_cls: 2.6225, loss_bbox: 0.6571, loss: 3.2796\n",
            "2022-05-09 07:03:35,111 - mmdet - INFO - Epoch [9][100/100]\tlr: 2.000e-03, eta: 0:50:59, time: 0.229, data_time: 0.137, memory: 1182, loss_cls: 2.9329, loss_bbox: 0.6916, loss: 3.6245\n",
            "2022-05-09 07:03:35,172 - mmdet - INFO - Saving checkpoint at 9 epochs\n"
          ]
        },
        {
          "output_type": "stream",
          "name": "stdout",
          "text": [
            "[>>>>>>>>>>>>>>>>>>>>>>>>>>>>>>] 100/100, 37.3 task/s, elapsed: 3s, ETA:     0s"
          ]
        },
        {
          "output_type": "stream",
          "name": "stderr",
          "text": [
            "2022-05-09 07:03:38,679 - mmdet - INFO - Evaluating bbox...\n"
          ]
        },
        {
          "output_type": "stream",
          "name": "stdout",
          "text": [
            "Loading and preparing results...\n",
            "DONE (t=0.00s)\n",
            "creating index...\n",
            "index created!\n",
            "Running per image evaluation...\n",
            "Evaluate annotation type *bbox*\n",
            "DONE (t=0.18s).\n",
            "Accumulating evaluation results...\n"
          ]
        },
        {
          "output_type": "stream",
          "name": "stderr",
          "text": [
            "2022-05-09 07:03:38,969 - mmdet - INFO - \n",
            " Average Precision  (AP) @[ IoU=0.50:0.95 | area=   all | maxDets=100 ] = 0.444\n",
            " Average Precision  (AP) @[ IoU=0.50      | area=   all | maxDets=1000 ] = 0.706\n",
            " Average Precision  (AP) @[ IoU=0.75      | area=   all | maxDets=1000 ] = 0.478\n",
            " Average Precision  (AP) @[ IoU=0.50:0.95 | area= small | maxDets=1000 ] = -1.000\n",
            " Average Precision  (AP) @[ IoU=0.50:0.95 | area=medium | maxDets=1000 ] = -1.000\n",
            " Average Precision  (AP) @[ IoU=0.50:0.95 | area= large | maxDets=1000 ] = 0.444\n",
            " Average Recall     (AR) @[ IoU=0.50:0.95 | area=   all | maxDets=100 ] = 0.659\n",
            " Average Recall     (AR) @[ IoU=0.50:0.95 | area=   all | maxDets=300 ] = 0.659\n",
            " Average Recall     (AR) @[ IoU=0.50:0.95 | area=   all | maxDets=1000 ] = 0.659\n",
            " Average Recall     (AR) @[ IoU=0.50:0.95 | area= small | maxDets=1000 ] = -1.000\n",
            " Average Recall     (AR) @[ IoU=0.50:0.95 | area=medium | maxDets=1000 ] = -1.000\n",
            " Average Recall     (AR) @[ IoU=0.50:0.95 | area= large | maxDets=1000 ] = 0.659\n",
            "\n",
            "2022-05-09 07:03:38,974 - mmdet - INFO - Epoch(val) [9][100]\tbbox_mAP: 0.4440, bbox_mAP_50: 0.7060, bbox_mAP_75: 0.4780, bbox_mAP_s: -1.0000, bbox_mAP_m: -1.0000, bbox_mAP_l: 0.4440, bbox_mAP_copypaste: 0.444 0.706 0.478 -1.000 -1.000 0.444\n"
          ]
        },
        {
          "output_type": "stream",
          "name": "stdout",
          "text": [
            "DONE (t=0.09s).\n"
          ]
        },
        {
          "output_type": "stream",
          "name": "stderr",
          "text": [
            "2022-05-09 07:03:44,633 - mmdet - INFO - Epoch [10][10/100]\tlr: 2.000e-03, eta: 0:51:18, time: 0.560, data_time: 0.461, memory: 1182, loss_cls: 2.5876, loss_bbox: 0.5015, loss: 3.0891\n",
            "2022-05-09 07:03:47,872 - mmdet - INFO - Epoch [10][20/100]\tlr: 2.000e-03, eta: 0:51:13, time: 0.324, data_time: 0.227, memory: 1182, loss_cls: 2.8102, loss_bbox: 0.5979, loss: 3.4081\n",
            "2022-05-09 07:03:49,707 - mmdet - INFO - Epoch [10][30/100]\tlr: 2.000e-03, eta: 0:50:55, time: 0.183, data_time: 0.085, memory: 1182, loss_cls: 2.9016, loss_bbox: 0.6019, loss: 3.5035\n",
            "2022-05-09 07:03:53,093 - mmdet - INFO - Epoch [10][40/100]\tlr: 2.000e-03, eta: 0:50:52, time: 0.339, data_time: 0.249, memory: 1182, loss_cls: 2.3627, loss_bbox: 0.5138, loss: 2.8765\n",
            "2022-05-09 07:03:56,407 - mmdet - INFO - Epoch [10][50/100]\tlr: 2.000e-03, eta: 0:50:48, time: 0.331, data_time: 0.236, memory: 1182, loss_cls: 2.1432, loss_bbox: 0.4716, loss: 2.6148\n",
            "2022-05-09 07:03:59,030 - mmdet - INFO - Epoch [10][60/100]\tlr: 2.000e-03, eta: 0:50:37, time: 0.262, data_time: 0.178, memory: 1182, loss_cls: 2.2329, loss_bbox: 0.4670, loss: 2.6999\n",
            "2022-05-09 07:04:01,929 - mmdet - INFO - Epoch [10][70/100]\tlr: 2.000e-03, eta: 0:50:30, time: 0.290, data_time: 0.197, memory: 1182, loss_cls: 2.1276, loss_bbox: 0.3801, loss: 2.5077\n",
            "2022-05-09 07:04:05,460 - mmdet - INFO - Epoch [10][80/100]\tlr: 2.000e-03, eta: 0:50:28, time: 0.353, data_time: 0.258, memory: 1182, loss_cls: 2.6379, loss_bbox: 0.5111, loss: 3.1489\n",
            "2022-05-09 07:04:07,815 - mmdet - INFO - Epoch [10][90/100]\tlr: 2.000e-03, eta: 0:50:15, time: 0.236, data_time: 0.139, memory: 1182, loss_cls: 2.7066, loss_bbox: 0.5394, loss: 3.2460\n",
            "2022-05-09 07:04:10,139 - mmdet - INFO - Epoch [10][100/100]\tlr: 2.000e-03, eta: 0:50:03, time: 0.232, data_time: 0.143, memory: 1182, loss_cls: 2.2131, loss_bbox: 0.3290, loss: 2.5421\n",
            "2022-05-09 07:04:10,208 - mmdet - INFO - Saving checkpoint at 10 epochs\n"
          ]
        },
        {
          "output_type": "stream",
          "name": "stdout",
          "text": [
            "[>>>>>>>>>>>>>>>>>>>>>>>>>>>>>>] 100/100, 34.0 task/s, elapsed: 3s, ETA:     0s"
          ]
        },
        {
          "output_type": "stream",
          "name": "stderr",
          "text": [
            "2022-05-09 07:04:14,006 - mmdet - INFO - Evaluating bbox...\n"
          ]
        },
        {
          "output_type": "stream",
          "name": "stdout",
          "text": [
            "Loading and preparing results...\n",
            "DONE (t=0.00s)\n",
            "creating index...\n",
            "index created!\n",
            "Running per image evaluation...\n",
            "Evaluate annotation type *bbox*\n",
            "DONE (t=0.17s).\n",
            "Accumulating evaluation results...\n"
          ]
        },
        {
          "output_type": "stream",
          "name": "stderr",
          "text": [
            "2022-05-09 07:04:14,286 - mmdet - INFO - \n",
            " Average Precision  (AP) @[ IoU=0.50:0.95 | area=   all | maxDets=100 ] = 0.492\n",
            " Average Precision  (AP) @[ IoU=0.50      | area=   all | maxDets=1000 ] = 0.732\n",
            " Average Precision  (AP) @[ IoU=0.75      | area=   all | maxDets=1000 ] = 0.595\n",
            " Average Precision  (AP) @[ IoU=0.50:0.95 | area= small | maxDets=1000 ] = -1.000\n",
            " Average Precision  (AP) @[ IoU=0.50:0.95 | area=medium | maxDets=1000 ] = -1.000\n",
            " Average Precision  (AP) @[ IoU=0.50:0.95 | area= large | maxDets=1000 ] = 0.492\n",
            " Average Recall     (AR) @[ IoU=0.50:0.95 | area=   all | maxDets=100 ] = 0.684\n",
            " Average Recall     (AR) @[ IoU=0.50:0.95 | area=   all | maxDets=300 ] = 0.684\n",
            " Average Recall     (AR) @[ IoU=0.50:0.95 | area=   all | maxDets=1000 ] = 0.684\n",
            " Average Recall     (AR) @[ IoU=0.50:0.95 | area= small | maxDets=1000 ] = -1.000\n",
            " Average Recall     (AR) @[ IoU=0.50:0.95 | area=medium | maxDets=1000 ] = -1.000\n",
            " Average Recall     (AR) @[ IoU=0.50:0.95 | area= large | maxDets=1000 ] = 0.684\n",
            "\n",
            "2022-05-09 07:04:14,292 - mmdet - INFO - Epoch(val) [10][100]\tbbox_mAP: 0.4920, bbox_mAP_50: 0.7320, bbox_mAP_75: 0.5950, bbox_mAP_s: -1.0000, bbox_mAP_m: -1.0000, bbox_mAP_l: 0.4920, bbox_mAP_copypaste: 0.492 0.732 0.595 -1.000 -1.000 0.492\n"
          ]
        },
        {
          "output_type": "stream",
          "name": "stdout",
          "text": [
            "DONE (t=0.08s).\n"
          ]
        },
        {
          "output_type": "stream",
          "name": "stderr",
          "text": [
            "2022-05-09 07:04:20,434 - mmdet - INFO - Epoch [11][10/100]\tlr: 2.000e-03, eta: 0:50:24, time: 0.609, data_time: 0.515, memory: 1182, loss_cls: 2.6093, loss_bbox: 0.6478, loss: 3.2571\n",
            "2022-05-09 07:04:23,723 - mmdet - INFO - Epoch [11][20/100]\tlr: 2.000e-03, eta: 0:50:20, time: 0.329, data_time: 0.234, memory: 1182, loss_cls: 2.5960, loss_bbox: 0.5965, loss: 3.1925\n",
            "2022-05-09 07:04:25,969 - mmdet - INFO - Epoch [11][30/100]\tlr: 2.000e-03, eta: 0:50:07, time: 0.225, data_time: 0.131, memory: 1182, loss_cls: 2.3902, loss_bbox: 0.5571, loss: 2.9472\n",
            "2022-05-09 07:04:28,650 - mmdet - INFO - Epoch [11][40/100]\tlr: 2.000e-03, eta: 0:49:58, time: 0.268, data_time: 0.177, memory: 1182, loss_cls: 2.8748, loss_bbox: 0.6601, loss: 3.5349\n",
            "2022-05-09 07:04:32,773 - mmdet - INFO - Epoch [11][50/100]\tlr: 2.000e-03, eta: 0:50:01, time: 0.412, data_time: 0.317, memory: 1182, loss_cls: 2.4170, loss_bbox: 0.4446, loss: 2.8616\n",
            "2022-05-09 07:04:35,107 - mmdet - INFO - Epoch [11][60/100]\tlr: 2.000e-03, eta: 0:49:49, time: 0.234, data_time: 0.142, memory: 1182, loss_cls: 2.6308, loss_bbox: 0.5808, loss: 3.2115\n",
            "2022-05-09 07:04:37,681 - mmdet - INFO - Epoch [11][70/100]\tlr: 2.000e-03, eta: 0:49:39, time: 0.257, data_time: 0.166, memory: 1182, loss_cls: 2.1309, loss_bbox: 0.5560, loss: 2.6869\n",
            "2022-05-09 07:04:41,251 - mmdet - INFO - Epoch [11][80/100]\tlr: 2.000e-03, eta: 0:49:38, time: 0.357, data_time: 0.262, memory: 1182, loss_cls: 2.2603, loss_bbox: 0.4267, loss: 2.6870\n",
            "2022-05-09 07:04:44,860 - mmdet - INFO - Epoch [11][90/100]\tlr: 2.000e-03, eta: 0:49:37, time: 0.361, data_time: 0.265, memory: 1182, loss_cls: 2.5764, loss_bbox: 0.5511, loss: 3.1276\n",
            "2022-05-09 07:04:47,817 - mmdet - INFO - Epoch [11][100/100]\tlr: 2.000e-03, eta: 0:49:30, time: 0.296, data_time: 0.203, memory: 1182, loss_cls: 2.5168, loss_bbox: 0.5512, loss: 3.0680\n",
            "2022-05-09 07:04:47,882 - mmdet - INFO - Saving checkpoint at 11 epochs\n"
          ]
        },
        {
          "output_type": "stream",
          "name": "stdout",
          "text": [
            "[>>>>>>>>>>>>>>>>>>>>>>>>>>>>>>] 100/100, 37.4 task/s, elapsed: 3s, ETA:     0s"
          ]
        },
        {
          "output_type": "stream",
          "name": "stderr",
          "text": [
            "2022-05-09 07:04:51,379 - mmdet - INFO - Evaluating bbox...\n"
          ]
        },
        {
          "output_type": "stream",
          "name": "stdout",
          "text": [
            "Loading and preparing results...\n",
            "DONE (t=0.13s)\n",
            "creating index...\n",
            "index created!\n",
            "Running per image evaluation...\n",
            "Evaluate annotation type *bbox*\n",
            "DONE (t=0.17s).\n",
            "Accumulating evaluation results...\n"
          ]
        },
        {
          "output_type": "stream",
          "name": "stderr",
          "text": [
            "2022-05-09 07:04:51,771 - mmdet - INFO - \n",
            " Average Precision  (AP) @[ IoU=0.50:0.95 | area=   all | maxDets=100 ] = 0.437\n",
            " Average Precision  (AP) @[ IoU=0.50      | area=   all | maxDets=1000 ] = 0.734\n",
            " Average Precision  (AP) @[ IoU=0.75      | area=   all | maxDets=1000 ] = 0.492\n",
            " Average Precision  (AP) @[ IoU=0.50:0.95 | area= small | maxDets=1000 ] = -1.000\n",
            " Average Precision  (AP) @[ IoU=0.50:0.95 | area=medium | maxDets=1000 ] = -1.000\n",
            " Average Precision  (AP) @[ IoU=0.50:0.95 | area= large | maxDets=1000 ] = 0.437\n",
            " Average Recall     (AR) @[ IoU=0.50:0.95 | area=   all | maxDets=100 ] = 0.644\n",
            " Average Recall     (AR) @[ IoU=0.50:0.95 | area=   all | maxDets=300 ] = 0.644\n",
            " Average Recall     (AR) @[ IoU=0.50:0.95 | area=   all | maxDets=1000 ] = 0.644\n",
            " Average Recall     (AR) @[ IoU=0.50:0.95 | area= small | maxDets=1000 ] = -1.000\n",
            " Average Recall     (AR) @[ IoU=0.50:0.95 | area=medium | maxDets=1000 ] = -1.000\n",
            " Average Recall     (AR) @[ IoU=0.50:0.95 | area= large | maxDets=1000 ] = 0.644\n",
            "\n",
            "2022-05-09 07:04:51,778 - mmdet - INFO - Epoch(val) [11][100]\tbbox_mAP: 0.4370, bbox_mAP_50: 0.7340, bbox_mAP_75: 0.4920, bbox_mAP_s: -1.0000, bbox_mAP_m: -1.0000, bbox_mAP_l: 0.4370, bbox_mAP_copypaste: 0.437 0.734 0.492 -1.000 -1.000 0.437\n"
          ]
        },
        {
          "output_type": "stream",
          "name": "stdout",
          "text": [
            "DONE (t=0.07s).\n"
          ]
        },
        {
          "output_type": "stream",
          "name": "stderr",
          "text": [
            "2022-05-09 07:04:58,385 - mmdet - INFO - Epoch [12][10/100]\tlr: 2.000e-03, eta: 0:49:53, time: 0.655, data_time: 0.565, memory: 1182, loss_cls: 2.3070, loss_bbox: 0.5794, loss: 2.8864\n",
            "2022-05-09 07:05:01,157 - mmdet - INFO - Epoch [12][20/100]\tlr: 2.000e-03, eta: 0:49:45, time: 0.277, data_time: 0.181, memory: 1182, loss_cls: 2.5751, loss_bbox: 0.5540, loss: 3.1291\n",
            "2022-05-09 07:05:04,181 - mmdet - INFO - Epoch [12][30/100]\tlr: 2.000e-03, eta: 0:49:39, time: 0.302, data_time: 0.206, memory: 1182, loss_cls: 2.1660, loss_bbox: 0.4132, loss: 2.5792\n",
            "2022-05-09 07:05:06,931 - mmdet - INFO - Epoch [12][40/100]\tlr: 2.000e-03, eta: 0:49:30, time: 0.275, data_time: 0.186, memory: 1182, loss_cls: 2.6213, loss_bbox: 0.4750, loss: 3.0963\n",
            "2022-05-09 07:05:09,900 - mmdet - INFO - Epoch [12][50/100]\tlr: 2.000e-03, eta: 0:49:24, time: 0.297, data_time: 0.195, memory: 1182, loss_cls: 2.2533, loss_bbox: 0.5384, loss: 2.7917\n",
            "2022-05-09 07:05:14,054 - mmdet - INFO - Epoch [12][60/100]\tlr: 2.000e-03, eta: 0:49:27, time: 0.415, data_time: 0.318, memory: 1182, loss_cls: 2.2708, loss_bbox: 0.5145, loss: 2.7853\n",
            "2022-05-09 07:05:16,931 - mmdet - INFO - Epoch [12][70/100]\tlr: 2.000e-03, eta: 0:49:20, time: 0.288, data_time: 0.186, memory: 1182, loss_cls: 2.5748, loss_bbox: 0.6000, loss: 3.1748\n",
            "2022-05-09 07:05:19,822 - mmdet - INFO - Epoch [12][80/100]\tlr: 2.000e-03, eta: 0:49:13, time: 0.289, data_time: 0.194, memory: 1182, loss_cls: 2.2324, loss_bbox: 0.5491, loss: 2.7815\n",
            "2022-05-09 07:05:23,998 - mmdet - INFO - Epoch [12][90/100]\tlr: 2.000e-03, eta: 0:49:16, time: 0.418, data_time: 0.331, memory: 1182, loss_cls: 2.2625, loss_bbox: 0.5007, loss: 2.7632\n",
            "2022-05-09 07:05:25,897 - mmdet - INFO - Epoch [12][100/100]\tlr: 2.000e-03, eta: 0:49:02, time: 0.190, data_time: 0.094, memory: 1182, loss_cls: 2.4402, loss_bbox: 0.5047, loss: 2.9450\n",
            "2022-05-09 07:05:25,958 - mmdet - INFO - Saving checkpoint at 12 epochs\n"
          ]
        },
        {
          "output_type": "stream",
          "name": "stdout",
          "text": [
            "[>>>>>>>>>>>>>>>>>>>>>>>>>>>>>>] 100/100, 37.3 task/s, elapsed: 3s, ETA:     0s"
          ]
        },
        {
          "output_type": "stream",
          "name": "stderr",
          "text": [
            "2022-05-09 07:05:29,447 - mmdet - INFO - Evaluating bbox...\n"
          ]
        },
        {
          "output_type": "stream",
          "name": "stdout",
          "text": [
            "Loading and preparing results...\n",
            "DONE (t=0.00s)\n",
            "creating index...\n",
            "index created!\n",
            "Running per image evaluation...\n",
            "Evaluate annotation type *bbox*\n",
            "DONE (t=0.16s).\n",
            "Accumulating evaluation results...\n"
          ]
        },
        {
          "output_type": "stream",
          "name": "stderr",
          "text": [
            "2022-05-09 07:05:29,698 - mmdet - INFO - \n",
            " Average Precision  (AP) @[ IoU=0.50:0.95 | area=   all | maxDets=100 ] = 0.535\n",
            " Average Precision  (AP) @[ IoU=0.50      | area=   all | maxDets=1000 ] = 0.783\n",
            " Average Precision  (AP) @[ IoU=0.75      | area=   all | maxDets=1000 ] = 0.709\n",
            " Average Precision  (AP) @[ IoU=0.50:0.95 | area= small | maxDets=1000 ] = -1.000\n",
            " Average Precision  (AP) @[ IoU=0.50:0.95 | area=medium | maxDets=1000 ] = -1.000\n",
            " Average Precision  (AP) @[ IoU=0.50:0.95 | area= large | maxDets=1000 ] = 0.535\n",
            " Average Recall     (AR) @[ IoU=0.50:0.95 | area=   all | maxDets=100 ] = 0.683\n",
            " Average Recall     (AR) @[ IoU=0.50:0.95 | area=   all | maxDets=300 ] = 0.683\n",
            " Average Recall     (AR) @[ IoU=0.50:0.95 | area=   all | maxDets=1000 ] = 0.683\n",
            " Average Recall     (AR) @[ IoU=0.50:0.95 | area= small | maxDets=1000 ] = -1.000\n",
            " Average Recall     (AR) @[ IoU=0.50:0.95 | area=medium | maxDets=1000 ] = -1.000\n",
            " Average Recall     (AR) @[ IoU=0.50:0.95 | area= large | maxDets=1000 ] = 0.683\n",
            "\n",
            "2022-05-09 07:05:29,703 - mmdet - INFO - Epoch(val) [12][100]\tbbox_mAP: 0.5350, bbox_mAP_50: 0.7830, bbox_mAP_75: 0.7090, bbox_mAP_s: -1.0000, bbox_mAP_m: -1.0000, bbox_mAP_l: 0.5350, bbox_mAP_copypaste: 0.535 0.783 0.709 -1.000 -1.000 0.535\n"
          ]
        },
        {
          "output_type": "stream",
          "name": "stdout",
          "text": [
            "DONE (t=0.07s).\n"
          ]
        },
        {
          "output_type": "stream",
          "name": "stderr",
          "text": [
            "2022-05-09 07:05:34,983 - mmdet - INFO - Epoch [13][10/100]\tlr: 2.000e-03, eta: 0:49:12, time: 0.522, data_time: 0.428, memory: 1182, loss_cls: 1.9540, loss_bbox: 0.3948, loss: 2.3487\n",
            "2022-05-09 07:05:38,430 - mmdet - INFO - Epoch [13][20/100]\tlr: 2.000e-03, eta: 0:49:09, time: 0.345, data_time: 0.248, memory: 1182, loss_cls: 2.3138, loss_bbox: 0.4608, loss: 2.7747\n",
            "2022-05-09 07:05:41,680 - mmdet - INFO - Epoch [13][30/100]\tlr: 2.000e-03, eta: 0:49:05, time: 0.325, data_time: 0.228, memory: 1182, loss_cls: 2.4871, loss_bbox: 0.6582, loss: 3.1452\n",
            "2022-05-09 07:05:43,829 - mmdet - INFO - Epoch [13][40/100]\tlr: 2.000e-03, eta: 0:48:53, time: 0.215, data_time: 0.123, memory: 1182, loss_cls: 2.5539, loss_bbox: 0.6232, loss: 3.1770\n",
            "2022-05-09 07:05:46,242 - mmdet - INFO - Epoch [13][50/100]\tlr: 2.000e-03, eta: 0:48:44, time: 0.241, data_time: 0.159, memory: 1182, loss_cls: 2.1869, loss_bbox: 0.5379, loss: 2.7248\n",
            "2022-05-09 07:05:49,116 - mmdet - INFO - Epoch [13][60/100]\tlr: 2.000e-03, eta: 0:48:37, time: 0.287, data_time: 0.194, memory: 1182, loss_cls: 2.2315, loss_bbox: 0.4432, loss: 2.6746\n",
            "2022-05-09 07:05:52,070 - mmdet - INFO - Epoch [13][70/100]\tlr: 2.000e-03, eta: 0:48:31, time: 0.295, data_time: 0.199, memory: 1182, loss_cls: 1.7972, loss_bbox: 0.4407, loss: 2.2379\n",
            "2022-05-09 07:05:54,969 - mmdet - INFO - Epoch [13][80/100]\tlr: 2.000e-03, eta: 0:48:25, time: 0.290, data_time: 0.195, memory: 1182, loss_cls: 2.4515, loss_bbox: 0.5291, loss: 2.9806\n",
            "2022-05-09 07:05:57,904 - mmdet - INFO - Epoch [13][90/100]\tlr: 2.000e-03, eta: 0:48:19, time: 0.294, data_time: 0.203, memory: 1182, loss_cls: 2.0793, loss_bbox: 0.4363, loss: 2.5156\n",
            "2022-05-09 07:06:00,400 - mmdet - INFO - Epoch [13][100/100]\tlr: 2.000e-03, eta: 0:48:10, time: 0.249, data_time: 0.156, memory: 1182, loss_cls: 2.3046, loss_bbox: 0.6095, loss: 2.9141\n",
            "2022-05-09 07:06:00,461 - mmdet - INFO - Saving checkpoint at 13 epochs\n"
          ]
        },
        {
          "output_type": "stream",
          "name": "stdout",
          "text": [
            "[>>>>>>>>>>>>>>>>>>>>>>>>>>>>>>] 100/100, 37.1 task/s, elapsed: 3s, ETA:     0s"
          ]
        },
        {
          "output_type": "stream",
          "name": "stderr",
          "text": [
            "2022-05-09 07:06:03,946 - mmdet - INFO - Evaluating bbox...\n"
          ]
        },
        {
          "output_type": "stream",
          "name": "stdout",
          "text": [
            "Loading and preparing results...\n",
            "DONE (t=0.00s)\n",
            "creating index...\n",
            "index created!\n",
            "Running per image evaluation...\n",
            "Evaluate annotation type *bbox*\n"
          ]
        },
        {
          "output_type": "stream",
          "name": "stderr",
          "text": [
            "2022-05-09 07:06:04,139 - mmdet - INFO - \n",
            " Average Precision  (AP) @[ IoU=0.50:0.95 | area=   all | maxDets=100 ] = 0.445\n",
            " Average Precision  (AP) @[ IoU=0.50      | area=   all | maxDets=1000 ] = 0.671\n",
            " Average Precision  (AP) @[ IoU=0.75      | area=   all | maxDets=1000 ] = 0.554\n",
            " Average Precision  (AP) @[ IoU=0.50:0.95 | area= small | maxDets=1000 ] = -1.000\n",
            " Average Precision  (AP) @[ IoU=0.50:0.95 | area=medium | maxDets=1000 ] = -1.000\n",
            " Average Precision  (AP) @[ IoU=0.50:0.95 | area= large | maxDets=1000 ] = 0.445\n",
            " Average Recall     (AR) @[ IoU=0.50:0.95 | area=   all | maxDets=100 ] = 0.674\n",
            " Average Recall     (AR) @[ IoU=0.50:0.95 | area=   all | maxDets=300 ] = 0.674\n",
            " Average Recall     (AR) @[ IoU=0.50:0.95 | area=   all | maxDets=1000 ] = 0.674\n",
            " Average Recall     (AR) @[ IoU=0.50:0.95 | area= small | maxDets=1000 ] = -1.000\n",
            " Average Recall     (AR) @[ IoU=0.50:0.95 | area=medium | maxDets=1000 ] = -1.000\n",
            " Average Recall     (AR) @[ IoU=0.50:0.95 | area= large | maxDets=1000 ] = 0.674\n",
            "\n",
            "2022-05-09 07:06:04,144 - mmdet - INFO - Epoch(val) [13][100]\tbbox_mAP: 0.4450, bbox_mAP_50: 0.6710, bbox_mAP_75: 0.5540, bbox_mAP_s: -1.0000, bbox_mAP_m: -1.0000, bbox_mAP_l: 0.4450, bbox_mAP_copypaste: 0.445 0.671 0.554 -1.000 -1.000 0.445\n"
          ]
        },
        {
          "output_type": "stream",
          "name": "stdout",
          "text": [
            "DONE (t=0.13s).\n",
            "Accumulating evaluation results...\n",
            "DONE (t=0.05s).\n"
          ]
        },
        {
          "output_type": "stream",
          "name": "stderr",
          "text": [
            "2022-05-09 07:06:10,738 - mmdet - INFO - Epoch [14][10/100]\tlr: 2.000e-03, eta: 0:48:28, time: 0.654, data_time: 0.555, memory: 1182, loss_cls: 2.2584, loss_bbox: 0.5022, loss: 2.7605\n",
            "2022-05-09 07:06:14,373 - mmdet - INFO - Epoch [14][20/100]\tlr: 2.000e-03, eta: 0:48:26, time: 0.364, data_time: 0.278, memory: 1182, loss_cls: 2.3310, loss_bbox: 0.4823, loss: 2.8133\n",
            "2022-05-09 07:06:18,592 - mmdet - INFO - Epoch [14][30/100]\tlr: 2.000e-03, eta: 0:48:29, time: 0.421, data_time: 0.323, memory: 1182, loss_cls: 2.2465, loss_bbox: 0.5503, loss: 2.7967\n",
            "2022-05-09 07:06:21,196 - mmdet - INFO - Epoch [14][40/100]\tlr: 2.000e-03, eta: 0:48:20, time: 0.261, data_time: 0.169, memory: 1182, loss_cls: 2.6921, loss_bbox: 0.6656, loss: 3.3577\n",
            "2022-05-09 07:06:23,820 - mmdet - INFO - Epoch [14][50/100]\tlr: 2.000e-03, eta: 0:48:12, time: 0.262, data_time: 0.174, memory: 1182, loss_cls: 2.0807, loss_bbox: 0.5731, loss: 2.6538\n",
            "2022-05-09 07:06:28,256 - mmdet - INFO - Epoch [14][60/100]\tlr: 2.000e-03, eta: 0:48:16, time: 0.444, data_time: 0.353, memory: 1182, loss_cls: 2.2203, loss_bbox: 0.4907, loss: 2.7111\n",
            "2022-05-09 07:06:31,134 - mmdet - INFO - Epoch [14][70/100]\tlr: 2.000e-03, eta: 0:48:10, time: 0.288, data_time: 0.192, memory: 1182, loss_cls: 1.7183, loss_bbox: 0.4813, loss: 2.1996\n",
            "2022-05-09 07:06:34,007 - mmdet - INFO - Epoch [14][80/100]\tlr: 2.000e-03, eta: 0:48:03, time: 0.287, data_time: 0.192, memory: 1182, loss_cls: 2.1015, loss_bbox: 0.5254, loss: 2.6269\n",
            "2022-05-09 07:06:37,444 - mmdet - INFO - Epoch [14][90/100]\tlr: 2.000e-03, eta: 0:48:01, time: 0.344, data_time: 0.253, memory: 1182, loss_cls: 2.3277, loss_bbox: 0.5521, loss: 2.8798\n",
            "2022-05-09 07:06:40,652 - mmdet - INFO - Epoch [14][100/100]\tlr: 2.000e-03, eta: 0:47:56, time: 0.321, data_time: 0.232, memory: 1182, loss_cls: 2.2288, loss_bbox: 0.5665, loss: 2.7953\n",
            "2022-05-09 07:06:40,712 - mmdet - INFO - Saving checkpoint at 14 epochs\n"
          ]
        },
        {
          "output_type": "stream",
          "name": "stdout",
          "text": [
            "[>>>>>>>>>>>>>>>>>>>>>>>>>>>>>>] 100/100, 37.3 task/s, elapsed: 3s, ETA:     0s"
          ]
        },
        {
          "output_type": "stream",
          "name": "stderr",
          "text": [
            "2022-05-09 07:06:44,216 - mmdet - INFO - Evaluating bbox...\n"
          ]
        },
        {
          "output_type": "stream",
          "name": "stdout",
          "text": [
            "Loading and preparing results...\n",
            "DONE (t=0.00s)\n",
            "creating index...\n",
            "index created!\n",
            "Running per image evaluation...\n",
            "Evaluate annotation type *bbox*\n",
            "DONE (t=0.17s).\n",
            "Accumulating evaluation results...\n"
          ]
        },
        {
          "output_type": "stream",
          "name": "stderr",
          "text": [
            "2022-05-09 07:06:44,476 - mmdet - INFO - \n",
            " Average Precision  (AP) @[ IoU=0.50:0.95 | area=   all | maxDets=100 ] = 0.527\n",
            " Average Precision  (AP) @[ IoU=0.50      | area=   all | maxDets=1000 ] = 0.784\n",
            " Average Precision  (AP) @[ IoU=0.75      | area=   all | maxDets=1000 ] = 0.645\n",
            " Average Precision  (AP) @[ IoU=0.50:0.95 | area= small | maxDets=1000 ] = -1.000\n",
            " Average Precision  (AP) @[ IoU=0.50:0.95 | area=medium | maxDets=1000 ] = -1.000\n",
            " Average Precision  (AP) @[ IoU=0.50:0.95 | area= large | maxDets=1000 ] = 0.527\n",
            " Average Recall     (AR) @[ IoU=0.50:0.95 | area=   all | maxDets=100 ] = 0.684\n",
            " Average Recall     (AR) @[ IoU=0.50:0.95 | area=   all | maxDets=300 ] = 0.684\n",
            " Average Recall     (AR) @[ IoU=0.50:0.95 | area=   all | maxDets=1000 ] = 0.684\n",
            " Average Recall     (AR) @[ IoU=0.50:0.95 | area= small | maxDets=1000 ] = -1.000\n",
            " Average Recall     (AR) @[ IoU=0.50:0.95 | area=medium | maxDets=1000 ] = -1.000\n",
            " Average Recall     (AR) @[ IoU=0.50:0.95 | area= large | maxDets=1000 ] = 0.684\n",
            "\n",
            "2022-05-09 07:06:44,481 - mmdet - INFO - Epoch(val) [14][100]\tbbox_mAP: 0.5270, bbox_mAP_50: 0.7840, bbox_mAP_75: 0.6450, bbox_mAP_s: -1.0000, bbox_mAP_m: -1.0000, bbox_mAP_l: 0.5270, bbox_mAP_copypaste: 0.527 0.784 0.645 -1.000 -1.000 0.527\n"
          ]
        },
        {
          "output_type": "stream",
          "name": "stdout",
          "text": [
            "DONE (t=0.07s).\n"
          ]
        },
        {
          "output_type": "stream",
          "name": "stderr",
          "text": [
            "2022-05-09 07:06:50,946 - mmdet - INFO - Epoch [15][10/100]\tlr: 2.000e-03, eta: 0:48:12, time: 0.641, data_time: 0.543, memory: 1182, loss_cls: 2.3629, loss_bbox: 0.5023, loss: 2.8652\n",
            "2022-05-09 07:06:53,743 - mmdet - INFO - Epoch [15][20/100]\tlr: 2.000e-03, eta: 0:48:05, time: 0.280, data_time: 0.187, memory: 1182, loss_cls: 2.1678, loss_bbox: 0.5307, loss: 2.6985\n",
            "2022-05-09 07:06:56,627 - mmdet - INFO - Epoch [15][30/100]\tlr: 2.000e-03, eta: 0:47:59, time: 0.288, data_time: 0.193, memory: 1182, loss_cls: 2.1959, loss_bbox: 0.5759, loss: 2.7718\n",
            "2022-05-09 07:06:59,172 - mmdet - INFO - Epoch [15][40/100]\tlr: 2.000e-03, eta: 0:47:50, time: 0.254, data_time: 0.159, memory: 1182, loss_cls: 1.8422, loss_bbox: 0.5566, loss: 2.3988\n",
            "2022-05-09 07:07:01,853 - mmdet - INFO - Epoch [15][50/100]\tlr: 2.000e-03, eta: 0:47:43, time: 0.268, data_time: 0.182, memory: 1182, loss_cls: 1.7940, loss_bbox: 0.3854, loss: 2.1794\n",
            "2022-05-09 07:07:03,974 - mmdet - INFO - Epoch [15][60/100]\tlr: 2.000e-03, eta: 0:47:33, time: 0.212, data_time: 0.118, memory: 1182, loss_cls: 1.9035, loss_bbox: 0.4445, loss: 2.3480\n",
            "2022-05-09 07:07:07,321 - mmdet - INFO - Epoch [15][70/100]\tlr: 2.000e-03, eta: 0:47:29, time: 0.335, data_time: 0.243, memory: 1182, loss_cls: 1.9353, loss_bbox: 0.4273, loss: 2.3626\n",
            "2022-05-09 07:07:09,947 - mmdet - INFO - Epoch [15][80/100]\tlr: 2.000e-03, eta: 0:47:22, time: 0.263, data_time: 0.172, memory: 1182, loss_cls: 2.3327, loss_bbox: 0.6388, loss: 2.9715\n",
            "2022-05-09 07:07:12,645 - mmdet - INFO - Epoch [15][90/100]\tlr: 2.000e-03, eta: 0:47:15, time: 0.270, data_time: 0.175, memory: 1182, loss_cls: 2.0584, loss_bbox: 0.4506, loss: 2.5090\n",
            "2022-05-09 07:07:16,979 - mmdet - INFO - Epoch [15][100/100]\tlr: 2.000e-03, eta: 0:47:17, time: 0.433, data_time: 0.338, memory: 1182, loss_cls: 2.1308, loss_bbox: 0.5093, loss: 2.6401\n",
            "2022-05-09 07:07:17,039 - mmdet - INFO - Saving checkpoint at 15 epochs\n"
          ]
        },
        {
          "output_type": "stream",
          "name": "stdout",
          "text": [
            "[>>>>>>>>>>>>>>>>>>>>>>>>>>>>>>] 100/100, 38.2 task/s, elapsed: 3s, ETA:     0s"
          ]
        },
        {
          "output_type": "stream",
          "name": "stderr",
          "text": [
            "2022-05-09 07:07:20,482 - mmdet - INFO - Evaluating bbox...\n"
          ]
        },
        {
          "output_type": "stream",
          "name": "stdout",
          "text": [
            "Loading and preparing results...\n",
            "DONE (t=0.00s)\n",
            "creating index...\n",
            "index created!\n",
            "Running per image evaluation...\n",
            "Evaluate annotation type *bbox*\n",
            "DONE (t=0.16s).\n",
            "Accumulating evaluation results...\n"
          ]
        },
        {
          "output_type": "stream",
          "name": "stderr",
          "text": [
            "2022-05-09 07:07:20,865 - mmdet - INFO - \n",
            " Average Precision  (AP) @[ IoU=0.50:0.95 | area=   all | maxDets=100 ] = 0.533\n",
            " Average Precision  (AP) @[ IoU=0.50      | area=   all | maxDets=1000 ] = 0.791\n",
            " Average Precision  (AP) @[ IoU=0.75      | area=   all | maxDets=1000 ] = 0.718\n",
            " Average Precision  (AP) @[ IoU=0.50:0.95 | area= small | maxDets=1000 ] = -1.000\n",
            " Average Precision  (AP) @[ IoU=0.50:0.95 | area=medium | maxDets=1000 ] = -1.000\n",
            " Average Precision  (AP) @[ IoU=0.50:0.95 | area= large | maxDets=1000 ] = 0.533\n",
            " Average Recall     (AR) @[ IoU=0.50:0.95 | area=   all | maxDets=100 ] = 0.707\n",
            " Average Recall     (AR) @[ IoU=0.50:0.95 | area=   all | maxDets=300 ] = 0.707\n",
            " Average Recall     (AR) @[ IoU=0.50:0.95 | area=   all | maxDets=1000 ] = 0.707\n",
            " Average Recall     (AR) @[ IoU=0.50:0.95 | area= small | maxDets=1000 ] = -1.000\n",
            " Average Recall     (AR) @[ IoU=0.50:0.95 | area=medium | maxDets=1000 ] = -1.000\n",
            " Average Recall     (AR) @[ IoU=0.50:0.95 | area= large | maxDets=1000 ] = 0.707\n",
            "\n",
            "2022-05-09 07:07:20,871 - mmdet - INFO - Epoch(val) [15][100]\tbbox_mAP: 0.5330, bbox_mAP_50: 0.7910, bbox_mAP_75: 0.7180, bbox_mAP_s: -1.0000, bbox_mAP_m: -1.0000, bbox_mAP_l: 0.5330, bbox_mAP_copypaste: 0.533 0.791 0.718 -1.000 -1.000 0.533\n"
          ]
        },
        {
          "output_type": "stream",
          "name": "stdout",
          "text": [
            "DONE (t=0.08s).\n"
          ]
        },
        {
          "output_type": "stream",
          "name": "stderr",
          "text": [
            "2022-05-09 07:07:27,532 - mmdet - INFO - Epoch [16][10/100]\tlr: 2.000e-03, eta: 0:47:32, time: 0.661, data_time: 0.572, memory: 1182, loss_cls: 2.4159, loss_bbox: 0.4836, loss: 2.8995\n",
            "2022-05-09 07:07:30,344 - mmdet - INFO - Epoch [16][20/100]\tlr: 2.000e-03, eta: 0:47:26, time: 0.281, data_time: 0.185, memory: 1182, loss_cls: 2.4753, loss_bbox: 0.4971, loss: 2.9724\n",
            "2022-05-09 07:07:33,925 - mmdet - INFO - Epoch [16][30/100]\tlr: 2.000e-03, eta: 0:47:24, time: 0.358, data_time: 0.263, memory: 1182, loss_cls: 2.3848, loss_bbox: 0.6584, loss: 3.0432\n",
            "2022-05-09 07:07:36,410 - mmdet - INFO - Epoch [16][40/100]\tlr: 2.000e-03, eta: 0:47:15, time: 0.249, data_time: 0.159, memory: 1182, loss_cls: 1.8628, loss_bbox: 0.4077, loss: 2.2704\n",
            "2022-05-09 07:07:38,948 - mmdet - INFO - Epoch [16][50/100]\tlr: 2.000e-03, eta: 0:47:08, time: 0.254, data_time: 0.173, memory: 1182, loss_cls: 1.9573, loss_bbox: 0.4451, loss: 2.4024\n",
            "2022-05-09 07:07:42,908 - mmdet - INFO - Epoch [16][60/100]\tlr: 2.000e-03, eta: 0:47:08, time: 0.396, data_time: 0.309, memory: 1182, loss_cls: 2.3037, loss_bbox: 0.4666, loss: 2.7702\n",
            "2022-05-09 07:07:45,829 - mmdet - INFO - Epoch [16][70/100]\tlr: 2.000e-03, eta: 0:47:02, time: 0.292, data_time: 0.196, memory: 1182, loss_cls: 2.0897, loss_bbox: 0.3867, loss: 2.4764\n",
            "2022-05-09 07:07:48,269 - mmdet - INFO - Epoch [16][80/100]\tlr: 2.000e-03, eta: 0:46:54, time: 0.244, data_time: 0.164, memory: 1182, loss_cls: 1.9271, loss_bbox: 0.3945, loss: 2.3216\n",
            "2022-05-09 07:07:51,104 - mmdet - INFO - Epoch [16][90/100]\tlr: 2.000e-03, eta: 0:46:48, time: 0.283, data_time: 0.195, memory: 1182, loss_cls: 2.0588, loss_bbox: 0.3898, loss: 2.4486\n",
            "2022-05-09 07:07:54,192 - mmdet - INFO - Epoch [16][100/100]\tlr: 2.000e-03, eta: 0:46:43, time: 0.309, data_time: 0.217, memory: 1182, loss_cls: 1.6324, loss_bbox: 0.4317, loss: 2.0641\n",
            "2022-05-09 07:07:54,253 - mmdet - INFO - Saving checkpoint at 16 epochs\n"
          ]
        },
        {
          "output_type": "stream",
          "name": "stdout",
          "text": [
            "[>>>>>>>>>>>>>>>>>>>>>>>>>>>>>>] 100/100, 38.0 task/s, elapsed: 3s, ETA:     0s"
          ]
        },
        {
          "output_type": "stream",
          "name": "stderr",
          "text": [
            "2022-05-09 07:07:57,663 - mmdet - INFO - Evaluating bbox...\n"
          ]
        },
        {
          "output_type": "stream",
          "name": "stdout",
          "text": [
            "Loading and preparing results...\n",
            "DONE (t=0.00s)\n",
            "creating index...\n",
            "index created!\n",
            "Running per image evaluation...\n",
            "Evaluate annotation type *bbox*\n"
          ]
        },
        {
          "output_type": "stream",
          "name": "stderr",
          "text": [
            "2022-05-09 07:07:57,836 - mmdet - INFO - \n",
            " Average Precision  (AP) @[ IoU=0.50:0.95 | area=   all | maxDets=100 ] = 0.523\n",
            " Average Precision  (AP) @[ IoU=0.50      | area=   all | maxDets=1000 ] = 0.792\n",
            " Average Precision  (AP) @[ IoU=0.75      | area=   all | maxDets=1000 ] = 0.661\n",
            " Average Precision  (AP) @[ IoU=0.50:0.95 | area= small | maxDets=1000 ] = -1.000\n",
            " Average Precision  (AP) @[ IoU=0.50:0.95 | area=medium | maxDets=1000 ] = -1.000\n",
            " Average Precision  (AP) @[ IoU=0.50:0.95 | area= large | maxDets=1000 ] = 0.523\n",
            " Average Recall     (AR) @[ IoU=0.50:0.95 | area=   all | maxDets=100 ] = 0.692\n",
            " Average Recall     (AR) @[ IoU=0.50:0.95 | area=   all | maxDets=300 ] = 0.692\n",
            " Average Recall     (AR) @[ IoU=0.50:0.95 | area=   all | maxDets=1000 ] = 0.692\n",
            " Average Recall     (AR) @[ IoU=0.50:0.95 | area= small | maxDets=1000 ] = -1.000\n",
            " Average Recall     (AR) @[ IoU=0.50:0.95 | area=medium | maxDets=1000 ] = -1.000\n",
            " Average Recall     (AR) @[ IoU=0.50:0.95 | area= large | maxDets=1000 ] = 0.692\n",
            "\n",
            "2022-05-09 07:07:57,840 - mmdet - INFO - Epoch(val) [16][100]\tbbox_mAP: 0.5230, bbox_mAP_50: 0.7920, bbox_mAP_75: 0.6610, bbox_mAP_s: -1.0000, bbox_mAP_m: -1.0000, bbox_mAP_l: 0.5230, bbox_mAP_copypaste: 0.523 0.792 0.661 -1.000 -1.000 0.523\n"
          ]
        },
        {
          "output_type": "stream",
          "name": "stdout",
          "text": [
            "DONE (t=0.12s).\n",
            "Accumulating evaluation results...\n",
            "DONE (t=0.05s).\n"
          ]
        },
        {
          "output_type": "stream",
          "name": "stderr",
          "text": [
            "2022-05-09 07:08:04,400 - mmdet - INFO - Epoch [17][10/100]\tlr: 2.000e-04, eta: 0:46:56, time: 0.650, data_time: 0.553, memory: 1182, loss_cls: 1.8500, loss_bbox: 0.2747, loss: 2.1248\n",
            "2022-05-09 07:08:06,882 - mmdet - INFO - Epoch [17][20/100]\tlr: 2.000e-04, eta: 0:46:48, time: 0.248, data_time: 0.152, memory: 1182, loss_cls: 1.8846, loss_bbox: 0.3913, loss: 2.2759\n",
            "2022-05-09 07:08:09,023 - mmdet - INFO - Epoch [17][30/100]\tlr: 2.000e-04, eta: 0:46:39, time: 0.214, data_time: 0.116, memory: 1182, loss_cls: 1.5996, loss_bbox: 0.2775, loss: 1.8771\n",
            "2022-05-09 07:08:12,042 - mmdet - INFO - Epoch [17][40/100]\tlr: 2.000e-04, eta: 0:46:34, time: 0.302, data_time: 0.212, memory: 1182, loss_cls: 1.6647, loss_bbox: 0.2932, loss: 1.9579\n",
            "2022-05-09 07:08:15,386 - mmdet - INFO - Epoch [17][50/100]\tlr: 2.000e-04, eta: 0:46:30, time: 0.334, data_time: 0.237, memory: 1182, loss_cls: 1.8795, loss_bbox: 0.3075, loss: 2.1870\n",
            "2022-05-09 07:08:18,487 - mmdet - INFO - Epoch [17][60/100]\tlr: 2.000e-04, eta: 0:46:26, time: 0.310, data_time: 0.222, memory: 1182, loss_cls: 1.4863, loss_bbox: 0.2086, loss: 1.6949\n",
            "2022-05-09 07:08:21,308 - mmdet - INFO - Epoch [17][70/100]\tlr: 2.000e-04, eta: 0:46:20, time: 0.282, data_time: 0.188, memory: 1182, loss_cls: 1.5429, loss_bbox: 0.3831, loss: 1.9260\n",
            "2022-05-09 07:08:24,045 - mmdet - INFO - Epoch [17][80/100]\tlr: 2.000e-04, eta: 0:46:14, time: 0.274, data_time: 0.179, memory: 1182, loss_cls: 1.6483, loss_bbox: 0.3090, loss: 1.9573\n",
            "2022-05-09 07:08:27,058 - mmdet - INFO - Epoch [17][90/100]\tlr: 2.000e-04, eta: 0:46:09, time: 0.301, data_time: 0.218, memory: 1182, loss_cls: 1.6487, loss_bbox: 0.3301, loss: 1.9787\n",
            "2022-05-09 07:08:30,437 - mmdet - INFO - Epoch [17][100/100]\tlr: 2.000e-04, eta: 0:46:06, time: 0.338, data_time: 0.246, memory: 1182, loss_cls: 1.7620, loss_bbox: 0.2818, loss: 2.0438\n",
            "2022-05-09 07:08:30,498 - mmdet - INFO - Saving checkpoint at 17 epochs\n"
          ]
        },
        {
          "output_type": "stream",
          "name": "stdout",
          "text": [
            "[>>>>>>>>>>>>>>>>>>>>>>>>>>>>>>] 100/100, 37.7 task/s, elapsed: 3s, ETA:     0s"
          ]
        },
        {
          "output_type": "stream",
          "name": "stderr",
          "text": [
            "2022-05-09 07:08:33,910 - mmdet - INFO - Evaluating bbox...\n"
          ]
        },
        {
          "output_type": "stream",
          "name": "stdout",
          "text": [
            "Loading and preparing results...\n",
            "DONE (t=0.00s)\n",
            "creating index...\n",
            "index created!\n",
            "Running per image evaluation...\n",
            "Evaluate annotation type *bbox*\n",
            "DONE (t=0.10s).\n",
            "Accumulating evaluation results...\n"
          ]
        },
        {
          "output_type": "stream",
          "name": "stderr",
          "text": [
            "2022-05-09 07:08:34,062 - mmdet - INFO - \n",
            " Average Precision  (AP) @[ IoU=0.50:0.95 | area=   all | maxDets=100 ] = 0.634\n",
            " Average Precision  (AP) @[ IoU=0.50      | area=   all | maxDets=1000 ] = 0.827\n",
            " Average Precision  (AP) @[ IoU=0.75      | area=   all | maxDets=1000 ] = 0.743\n",
            " Average Precision  (AP) @[ IoU=0.50:0.95 | area= small | maxDets=1000 ] = -1.000\n",
            " Average Precision  (AP) @[ IoU=0.50:0.95 | area=medium | maxDets=1000 ] = -1.000\n",
            " Average Precision  (AP) @[ IoU=0.50:0.95 | area= large | maxDets=1000 ] = 0.634\n",
            " Average Recall     (AR) @[ IoU=0.50:0.95 | area=   all | maxDets=100 ] = 0.777\n",
            " Average Recall     (AR) @[ IoU=0.50:0.95 | area=   all | maxDets=300 ] = 0.777\n",
            " Average Recall     (AR) @[ IoU=0.50:0.95 | area=   all | maxDets=1000 ] = 0.777\n",
            " Average Recall     (AR) @[ IoU=0.50:0.95 | area= small | maxDets=1000 ] = -1.000\n",
            " Average Recall     (AR) @[ IoU=0.50:0.95 | area=medium | maxDets=1000 ] = -1.000\n",
            " Average Recall     (AR) @[ IoU=0.50:0.95 | area= large | maxDets=1000 ] = 0.777\n",
            "\n",
            "2022-05-09 07:08:34,066 - mmdet - INFO - Epoch(val) [17][100]\tbbox_mAP: 0.6340, bbox_mAP_50: 0.8270, bbox_mAP_75: 0.7430, bbox_mAP_s: -1.0000, bbox_mAP_m: -1.0000, bbox_mAP_l: 0.6340, bbox_mAP_copypaste: 0.634 0.827 0.743 -1.000 -1.000 0.634\n"
          ]
        },
        {
          "output_type": "stream",
          "name": "stdout",
          "text": [
            "DONE (t=0.04s).\n"
          ]
        },
        {
          "output_type": "stream",
          "name": "stderr",
          "text": [
            "2022-05-09 07:08:40,453 - mmdet - INFO - Epoch [18][10/100]\tlr: 2.000e-04, eta: 0:46:17, time: 0.633, data_time: 0.537, memory: 1182, loss_cls: 1.4589, loss_bbox: 0.3296, loss: 1.7885\n",
            "2022-05-09 07:08:43,127 - mmdet - INFO - Epoch [18][20/100]\tlr: 2.000e-04, eta: 0:46:10, time: 0.267, data_time: 0.173, memory: 1182, loss_cls: 1.7788, loss_bbox: 0.2952, loss: 2.0740\n",
            "2022-05-09 07:08:46,151 - mmdet - INFO - Epoch [18][30/100]\tlr: 2.000e-04, eta: 0:46:05, time: 0.302, data_time: 0.206, memory: 1182, loss_cls: 1.8021, loss_bbox: 0.3783, loss: 2.1803\n",
            "2022-05-09 07:08:49,360 - mmdet - INFO - Epoch [18][40/100]\tlr: 2.000e-04, eta: 0:46:01, time: 0.321, data_time: 0.230, memory: 1182, loss_cls: 1.6926, loss_bbox: 0.2312, loss: 1.9238\n",
            "2022-05-09 07:08:52,763 - mmdet - INFO - Epoch [18][50/100]\tlr: 2.000e-04, eta: 0:45:58, time: 0.340, data_time: 0.255, memory: 1182, loss_cls: 1.5931, loss_bbox: 0.2778, loss: 1.8710\n",
            "2022-05-09 07:08:56,029 - mmdet - INFO - Epoch [18][60/100]\tlr: 2.000e-04, eta: 0:45:55, time: 0.327, data_time: 0.233, memory: 1182, loss_cls: 1.3094, loss_bbox: 0.2472, loss: 1.5567\n",
            "2022-05-09 07:08:59,030 - mmdet - INFO - Epoch [18][70/100]\tlr: 2.000e-04, eta: 0:45:50, time: 0.300, data_time: 0.204, memory: 1182, loss_cls: 1.3560, loss_bbox: 0.2352, loss: 1.5912\n",
            "2022-05-09 07:09:02,350 - mmdet - INFO - Epoch [18][80/100]\tlr: 2.000e-04, eta: 0:45:46, time: 0.332, data_time: 0.236, memory: 1182, loss_cls: 1.4345, loss_bbox: 0.2000, loss: 1.6345\n",
            "2022-05-09 07:09:06,268 - mmdet - INFO - Epoch [18][90/100]\tlr: 2.000e-04, eta: 0:45:46, time: 0.392, data_time: 0.297, memory: 1182, loss_cls: 1.4838, loss_bbox: 0.1782, loss: 1.6619\n",
            "2022-05-09 07:09:08,619 - mmdet - INFO - Epoch [18][100/100]\tlr: 2.000e-04, eta: 0:45:38, time: 0.235, data_time: 0.139, memory: 1182, loss_cls: 1.6965, loss_bbox: 0.3635, loss: 2.0600\n",
            "2022-05-09 07:09:08,686 - mmdet - INFO - Saving checkpoint at 18 epochs\n"
          ]
        },
        {
          "output_type": "stream",
          "name": "stdout",
          "text": [
            "[>>>>>>>>>>>>>>>>>>>>>>>>>>>>>>] 100/100, 34.3 task/s, elapsed: 3s, ETA:     0s"
          ]
        },
        {
          "output_type": "stream",
          "name": "stderr",
          "text": [
            "2022-05-09 07:09:12,422 - mmdet - INFO - Evaluating bbox...\n"
          ]
        },
        {
          "output_type": "stream",
          "name": "stdout",
          "text": [
            "Loading and preparing results...\n",
            "DONE (t=0.00s)\n",
            "creating index...\n",
            "index created!\n",
            "Running per image evaluation...\n",
            "Evaluate annotation type *bbox*\n",
            "DONE (t=0.10s).\n",
            "Accumulating evaluation results...\n"
          ]
        },
        {
          "output_type": "stream",
          "name": "stderr",
          "text": [
            "2022-05-09 07:09:12,580 - mmdet - INFO - \n",
            " Average Precision  (AP) @[ IoU=0.50:0.95 | area=   all | maxDets=100 ] = 0.643\n",
            " Average Precision  (AP) @[ IoU=0.50      | area=   all | maxDets=1000 ] = 0.852\n",
            " Average Precision  (AP) @[ IoU=0.75      | area=   all | maxDets=1000 ] = 0.786\n",
            " Average Precision  (AP) @[ IoU=0.50:0.95 | area= small | maxDets=1000 ] = -1.000\n",
            " Average Precision  (AP) @[ IoU=0.50:0.95 | area=medium | maxDets=1000 ] = -1.000\n",
            " Average Precision  (AP) @[ IoU=0.50:0.95 | area= large | maxDets=1000 ] = 0.643\n",
            " Average Recall     (AR) @[ IoU=0.50:0.95 | area=   all | maxDets=100 ] = 0.769\n",
            " Average Recall     (AR) @[ IoU=0.50:0.95 | area=   all | maxDets=300 ] = 0.769\n",
            " Average Recall     (AR) @[ IoU=0.50:0.95 | area=   all | maxDets=1000 ] = 0.769\n",
            " Average Recall     (AR) @[ IoU=0.50:0.95 | area= small | maxDets=1000 ] = -1.000\n",
            " Average Recall     (AR) @[ IoU=0.50:0.95 | area=medium | maxDets=1000 ] = -1.000\n",
            " Average Recall     (AR) @[ IoU=0.50:0.95 | area= large | maxDets=1000 ] = 0.769\n",
            "\n",
            "2022-05-09 07:09:12,583 - mmdet - INFO - Epoch(val) [18][100]\tbbox_mAP: 0.6430, bbox_mAP_50: 0.8520, bbox_mAP_75: 0.7860, bbox_mAP_s: -1.0000, bbox_mAP_m: -1.0000, bbox_mAP_l: 0.6430, bbox_mAP_copypaste: 0.643 0.852 0.786 -1.000 -1.000 0.643\n"
          ]
        },
        {
          "output_type": "stream",
          "name": "stdout",
          "text": [
            "DONE (t=0.05s).\n"
          ]
        },
        {
          "output_type": "stream",
          "name": "stderr",
          "text": [
            "2022-05-09 07:09:19,069 - mmdet - INFO - Epoch [19][10/100]\tlr: 2.000e-04, eta: 0:45:48, time: 0.643, data_time: 0.546, memory: 1182, loss_cls: 1.7630, loss_bbox: 0.3788, loss: 2.1418\n",
            "2022-05-09 07:09:21,665 - mmdet - INFO - Epoch [19][20/100]\tlr: 2.000e-04, eta: 0:45:42, time: 0.260, data_time: 0.172, memory: 1182, loss_cls: 1.4860, loss_bbox: 0.2409, loss: 1.7269\n",
            "2022-05-09 07:09:25,541 - mmdet - INFO - Epoch [19][30/100]\tlr: 2.000e-04, eta: 0:45:40, time: 0.388, data_time: 0.297, memory: 1182, loss_cls: 1.1811, loss_bbox: 0.2145, loss: 1.3956\n",
            "2022-05-09 07:09:28,388 - mmdet - INFO - Epoch [19][40/100]\tlr: 2.000e-04, eta: 0:45:35, time: 0.285, data_time: 0.197, memory: 1182, loss_cls: 1.3308, loss_bbox: 0.2482, loss: 1.5790\n",
            "2022-05-09 07:09:31,997 - mmdet - INFO - Epoch [19][50/100]\tlr: 2.000e-04, eta: 0:45:33, time: 0.361, data_time: 0.264, memory: 1182, loss_cls: 1.6646, loss_bbox: 0.2943, loss: 1.9590\n",
            "2022-05-09 07:09:35,153 - mmdet - INFO - Epoch [19][60/100]\tlr: 2.000e-04, eta: 0:45:28, time: 0.315, data_time: 0.228, memory: 1182, loss_cls: 1.4021, loss_bbox: 0.2575, loss: 1.6596\n",
            "2022-05-09 07:09:38,517 - mmdet - INFO - Epoch [19][70/100]\tlr: 2.000e-04, eta: 0:45:25, time: 0.337, data_time: 0.241, memory: 1182, loss_cls: 1.8467, loss_bbox: 0.3111, loss: 2.1578\n",
            "2022-05-09 07:09:41,866 - mmdet - INFO - Epoch [19][80/100]\tlr: 2.000e-04, eta: 0:45:22, time: 0.335, data_time: 0.238, memory: 1182, loss_cls: 1.4029, loss_bbox: 0.2223, loss: 1.6251\n",
            "2022-05-09 07:09:44,301 - mmdet - INFO - Epoch [19][90/100]\tlr: 2.000e-04, eta: 0:45:14, time: 0.244, data_time: 0.153, memory: 1182, loss_cls: 1.3056, loss_bbox: 0.2430, loss: 1.5486\n",
            "2022-05-09 07:09:46,395 - mmdet - INFO - Epoch [19][100/100]\tlr: 2.000e-04, eta: 0:45:06, time: 0.209, data_time: 0.123, memory: 1182, loss_cls: 1.6886, loss_bbox: 0.1984, loss: 1.8869\n",
            "2022-05-09 07:09:46,467 - mmdet - INFO - Saving checkpoint at 19 epochs\n"
          ]
        },
        {
          "output_type": "stream",
          "name": "stdout",
          "text": [
            "[>>>>>>>>>>>>>>>>>>>>>>>>>>>>>>] 100/100, 37.9 task/s, elapsed: 3s, ETA:     0s"
          ]
        },
        {
          "output_type": "stream",
          "name": "stderr",
          "text": [
            "2022-05-09 07:09:49,886 - mmdet - INFO - Evaluating bbox...\n"
          ]
        },
        {
          "output_type": "stream",
          "name": "stdout",
          "text": [
            "Loading and preparing results...\n",
            "DONE (t=0.00s)\n",
            "creating index...\n",
            "index created!\n",
            "Running per image evaluation...\n",
            "Evaluate annotation type *bbox*\n",
            "DONE (t=0.08s).\n",
            "Accumulating evaluation results...\n"
          ]
        },
        {
          "output_type": "stream",
          "name": "stderr",
          "text": [
            "2022-05-09 07:09:50,015 - mmdet - INFO - \n",
            " Average Precision  (AP) @[ IoU=0.50:0.95 | area=   all | maxDets=100 ] = 0.652\n",
            " Average Precision  (AP) @[ IoU=0.50      | area=   all | maxDets=1000 ] = 0.849\n",
            " Average Precision  (AP) @[ IoU=0.75      | area=   all | maxDets=1000 ] = 0.790\n",
            " Average Precision  (AP) @[ IoU=0.50:0.95 | area= small | maxDets=1000 ] = -1.000\n",
            " Average Precision  (AP) @[ IoU=0.50:0.95 | area=medium | maxDets=1000 ] = -1.000\n",
            " Average Precision  (AP) @[ IoU=0.50:0.95 | area= large | maxDets=1000 ] = 0.652\n",
            " Average Recall     (AR) @[ IoU=0.50:0.95 | area=   all | maxDets=100 ] = 0.777\n",
            " Average Recall     (AR) @[ IoU=0.50:0.95 | area=   all | maxDets=300 ] = 0.777\n",
            " Average Recall     (AR) @[ IoU=0.50:0.95 | area=   all | maxDets=1000 ] = 0.777\n",
            " Average Recall     (AR) @[ IoU=0.50:0.95 | area= small | maxDets=1000 ] = -1.000\n",
            " Average Recall     (AR) @[ IoU=0.50:0.95 | area=medium | maxDets=1000 ] = -1.000\n",
            " Average Recall     (AR) @[ IoU=0.50:0.95 | area= large | maxDets=1000 ] = 0.777\n",
            "\n",
            "2022-05-09 07:09:50,019 - mmdet - INFO - Epoch(val) [19][100]\tbbox_mAP: 0.6520, bbox_mAP_50: 0.8490, bbox_mAP_75: 0.7900, bbox_mAP_s: -1.0000, bbox_mAP_m: -1.0000, bbox_mAP_l: 0.6520, bbox_mAP_copypaste: 0.652 0.849 0.790 -1.000 -1.000 0.652\n"
          ]
        },
        {
          "output_type": "stream",
          "name": "stdout",
          "text": [
            "DONE (t=0.04s).\n"
          ]
        },
        {
          "output_type": "stream",
          "name": "stderr",
          "text": [
            "2022-05-09 07:09:55,885 - mmdet - INFO - Epoch [20][10/100]\tlr: 2.000e-04, eta: 0:45:13, time: 0.581, data_time: 0.498, memory: 1182, loss_cls: 1.5524, loss_bbox: 0.2477, loss: 1.8001\n",
            "2022-05-09 07:09:59,542 - mmdet - INFO - Epoch [20][20/100]\tlr: 2.000e-04, eta: 0:45:11, time: 0.366, data_time: 0.279, memory: 1182, loss_cls: 1.6191, loss_bbox: 0.2528, loss: 1.8719\n",
            "2022-05-09 07:10:02,273 - mmdet - INFO - Epoch [20][30/100]\tlr: 2.000e-04, eta: 0:45:05, time: 0.273, data_time: 0.178, memory: 1182, loss_cls: 1.4946, loss_bbox: 0.2742, loss: 1.7688\n",
            "2022-05-09 07:10:05,014 - mmdet - INFO - Epoch [20][40/100]\tlr: 2.000e-04, eta: 0:44:59, time: 0.274, data_time: 0.177, memory: 1182, loss_cls: 1.3932, loss_bbox: 0.2212, loss: 1.6144\n",
            "2022-05-09 07:10:08,272 - mmdet - INFO - Epoch [20][50/100]\tlr: 2.000e-04, eta: 0:44:55, time: 0.326, data_time: 0.226, memory: 1182, loss_cls: 1.5551, loss_bbox: 0.2192, loss: 1.7744\n",
            "2022-05-09 07:10:10,974 - mmdet - INFO - Epoch [20][60/100]\tlr: 2.000e-04, eta: 0:44:49, time: 0.270, data_time: 0.171, memory: 1182, loss_cls: 1.2845, loss_bbox: 0.1744, loss: 1.4589\n",
            "2022-05-09 07:10:14,609 - mmdet - INFO - Epoch [20][70/100]\tlr: 2.000e-04, eta: 0:44:47, time: 0.363, data_time: 0.274, memory: 1182, loss_cls: 1.5040, loss_bbox: 0.2534, loss: 1.7574\n",
            "2022-05-09 07:10:17,817 - mmdet - INFO - Epoch [20][80/100]\tlr: 2.000e-04, eta: 0:44:43, time: 0.321, data_time: 0.220, memory: 1182, loss_cls: 1.4311, loss_bbox: 0.2775, loss: 1.7085\n",
            "2022-05-09 07:10:21,105 - mmdet - INFO - Epoch [20][90/100]\tlr: 2.000e-04, eta: 0:44:40, time: 0.328, data_time: 0.240, memory: 1182, loss_cls: 1.4956, loss_bbox: 0.2479, loss: 1.7435\n",
            "2022-05-09 07:10:23,316 - mmdet - INFO - Epoch [20][100/100]\tlr: 2.000e-04, eta: 0:44:32, time: 0.221, data_time: 0.132, memory: 1182, loss_cls: 1.2403, loss_bbox: 0.1819, loss: 1.4223\n",
            "2022-05-09 07:10:23,379 - mmdet - INFO - Saving checkpoint at 20 epochs\n"
          ]
        },
        {
          "output_type": "stream",
          "name": "stdout",
          "text": [
            "[>>>>>>>>>>>>>>>>>>>>>>>>>>>>>>] 100/100, 37.4 task/s, elapsed: 3s, ETA:     0s"
          ]
        },
        {
          "output_type": "stream",
          "name": "stderr",
          "text": [
            "2022-05-09 07:10:26,815 - mmdet - INFO - Evaluating bbox...\n"
          ]
        },
        {
          "output_type": "stream",
          "name": "stdout",
          "text": [
            "Loading and preparing results...\n",
            "DONE (t=0.00s)\n",
            "creating index...\n",
            "index created!\n",
            "Running per image evaluation...\n",
            "Evaluate annotation type *bbox*\n",
            "DONE (t=0.07s).\n",
            "Accumulating evaluation results...\n"
          ]
        },
        {
          "output_type": "stream",
          "name": "stderr",
          "text": [
            "2022-05-09 07:10:26,933 - mmdet - INFO - \n",
            " Average Precision  (AP) @[ IoU=0.50:0.95 | area=   all | maxDets=100 ] = 0.673\n",
            " Average Precision  (AP) @[ IoU=0.50      | area=   all | maxDets=1000 ] = 0.867\n",
            " Average Precision  (AP) @[ IoU=0.75      | area=   all | maxDets=1000 ] = 0.794\n",
            " Average Precision  (AP) @[ IoU=0.50:0.95 | area= small | maxDets=1000 ] = -1.000\n",
            " Average Precision  (AP) @[ IoU=0.50:0.95 | area=medium | maxDets=1000 ] = -1.000\n",
            " Average Precision  (AP) @[ IoU=0.50:0.95 | area= large | maxDets=1000 ] = 0.673\n",
            " Average Recall     (AR) @[ IoU=0.50:0.95 | area=   all | maxDets=100 ] = 0.784\n",
            " Average Recall     (AR) @[ IoU=0.50:0.95 | area=   all | maxDets=300 ] = 0.784\n",
            " Average Recall     (AR) @[ IoU=0.50:0.95 | area=   all | maxDets=1000 ] = 0.784\n",
            " Average Recall     (AR) @[ IoU=0.50:0.95 | area= small | maxDets=1000 ] = -1.000\n",
            " Average Recall     (AR) @[ IoU=0.50:0.95 | area=medium | maxDets=1000 ] = -1.000\n",
            " Average Recall     (AR) @[ IoU=0.50:0.95 | area= large | maxDets=1000 ] = 0.784\n",
            "\n"
          ]
        },
        {
          "output_type": "stream",
          "name": "stdout",
          "text": [
            "DONE (t=0.03s).\n"
          ]
        },
        {
          "output_type": "stream",
          "name": "stderr",
          "text": [
            "2022-05-09 07:10:26,936 - mmdet - INFO - Epoch(val) [20][100]\tbbox_mAP: 0.6730, bbox_mAP_50: 0.8670, bbox_mAP_75: 0.7940, bbox_mAP_s: -1.0000, bbox_mAP_m: -1.0000, bbox_mAP_l: 0.6730, bbox_mAP_copypaste: 0.673 0.867 0.794 -1.000 -1.000 0.673\n",
            "2022-05-09 07:10:33,843 - mmdet - INFO - Epoch [21][10/100]\tlr: 2.000e-04, eta: 0:44:42, time: 0.685, data_time: 0.587, memory: 1182, loss_cls: 1.4225, loss_bbox: 0.2261, loss: 1.6486\n",
            "2022-05-09 07:10:37,046 - mmdet - INFO - Epoch [21][20/100]\tlr: 2.000e-04, eta: 0:44:38, time: 0.320, data_time: 0.224, memory: 1182, loss_cls: 1.3842, loss_bbox: 0.2288, loss: 1.6130\n",
            "2022-05-09 07:10:39,499 - mmdet - INFO - Epoch [21][30/100]\tlr: 2.000e-04, eta: 0:44:31, time: 0.245, data_time: 0.149, memory: 1182, loss_cls: 1.4159, loss_bbox: 0.2808, loss: 1.6967\n",
            "2022-05-09 07:10:42,491 - mmdet - INFO - Epoch [21][40/100]\tlr: 2.000e-04, eta: 0:44:27, time: 0.299, data_time: 0.207, memory: 1182, loss_cls: 1.2395, loss_bbox: 0.1844, loss: 1.4239\n",
            "2022-05-09 07:10:45,566 - mmdet - INFO - Epoch [21][50/100]\tlr: 2.000e-04, eta: 0:44:22, time: 0.307, data_time: 0.212, memory: 1182, loss_cls: 1.4584, loss_bbox: 0.2719, loss: 1.7302\n",
            "2022-05-09 07:10:48,956 - mmdet - INFO - Epoch [21][60/100]\tlr: 2.000e-04, eta: 0:44:19, time: 0.339, data_time: 0.243, memory: 1182, loss_cls: 1.2489, loss_bbox: 0.2291, loss: 1.4780\n",
            "2022-05-09 07:10:51,363 - mmdet - INFO - Epoch [21][70/100]\tlr: 2.000e-04, eta: 0:44:12, time: 0.241, data_time: 0.144, memory: 1182, loss_cls: 1.4411, loss_bbox: 0.2548, loss: 1.6959\n",
            "2022-05-09 07:10:54,776 - mmdet - INFO - Epoch [21][80/100]\tlr: 2.000e-04, eta: 0:44:09, time: 0.341, data_time: 0.246, memory: 1182, loss_cls: 1.7536, loss_bbox: 0.2766, loss: 2.0302\n",
            "2022-05-09 07:10:57,310 - mmdet - INFO - Epoch [21][90/100]\tlr: 2.000e-04, eta: 0:44:03, time: 0.253, data_time: 0.161, memory: 1182, loss_cls: 1.4152, loss_bbox: 0.2429, loss: 1.6581\n",
            "2022-05-09 07:10:59,448 - mmdet - INFO - Epoch [21][100/100]\tlr: 2.000e-04, eta: 0:43:55, time: 0.214, data_time: 0.123, memory: 1182, loss_cls: 1.5020, loss_bbox: 0.2663, loss: 1.7682\n",
            "2022-05-09 07:10:59,509 - mmdet - INFO - Saving checkpoint at 21 epochs\n"
          ]
        },
        {
          "output_type": "stream",
          "name": "stdout",
          "text": [
            "[>>>>>>>>>>>>>>>>>>>>>>>>>>>>>>] 100/100, 38.2 task/s, elapsed: 3s, ETA:     0s"
          ]
        },
        {
          "output_type": "stream",
          "name": "stderr",
          "text": [
            "2022-05-09 07:11:02,893 - mmdet - INFO - Evaluating bbox...\n"
          ]
        },
        {
          "output_type": "stream",
          "name": "stdout",
          "text": [
            "Loading and preparing results...\n",
            "DONE (t=0.00s)\n",
            "creating index...\n",
            "index created!\n",
            "Running per image evaluation...\n",
            "Evaluate annotation type *bbox*\n",
            "DONE (t=0.08s).\n",
            "Accumulating evaluation results...\n"
          ]
        },
        {
          "output_type": "stream",
          "name": "stderr",
          "text": [
            "2022-05-09 07:11:03,018 - mmdet - INFO - \n",
            " Average Precision  (AP) @[ IoU=0.50:0.95 | area=   all | maxDets=100 ] = 0.686\n",
            " Average Precision  (AP) @[ IoU=0.50      | area=   all | maxDets=1000 ] = 0.864\n",
            " Average Precision  (AP) @[ IoU=0.75      | area=   all | maxDets=1000 ] = 0.801\n",
            " Average Precision  (AP) @[ IoU=0.50:0.95 | area= small | maxDets=1000 ] = -1.000\n",
            " Average Precision  (AP) @[ IoU=0.50:0.95 | area=medium | maxDets=1000 ] = -1.000\n",
            " Average Precision  (AP) @[ IoU=0.50:0.95 | area= large | maxDets=1000 ] = 0.686\n",
            " Average Recall     (AR) @[ IoU=0.50:0.95 | area=   all | maxDets=100 ] = 0.799\n",
            " Average Recall     (AR) @[ IoU=0.50:0.95 | area=   all | maxDets=300 ] = 0.799\n",
            " Average Recall     (AR) @[ IoU=0.50:0.95 | area=   all | maxDets=1000 ] = 0.799\n",
            " Average Recall     (AR) @[ IoU=0.50:0.95 | area= small | maxDets=1000 ] = -1.000\n",
            " Average Recall     (AR) @[ IoU=0.50:0.95 | area=medium | maxDets=1000 ] = -1.000\n",
            " Average Recall     (AR) @[ IoU=0.50:0.95 | area= large | maxDets=1000 ] = 0.799\n",
            "\n",
            "2022-05-09 07:11:03,021 - mmdet - INFO - Epoch(val) [21][100]\tbbox_mAP: 0.6860, bbox_mAP_50: 0.8640, bbox_mAP_75: 0.8010, bbox_mAP_s: -1.0000, bbox_mAP_m: -1.0000, bbox_mAP_l: 0.6860, bbox_mAP_copypaste: 0.686 0.864 0.801 -1.000 -1.000 0.686\n"
          ]
        },
        {
          "output_type": "stream",
          "name": "stdout",
          "text": [
            "DONE (t=0.04s).\n"
          ]
        },
        {
          "output_type": "stream",
          "name": "stderr",
          "text": [
            "2022-05-09 07:11:09,126 - mmdet - INFO - Epoch [22][10/100]\tlr: 2.000e-04, eta: 0:44:02, time: 0.605, data_time: 0.510, memory: 1182, loss_cls: 1.4162, loss_bbox: 0.2455, loss: 1.6617\n",
            "2022-05-09 07:11:11,967 - mmdet - INFO - Epoch [22][20/100]\tlr: 2.000e-04, eta: 0:43:56, time: 0.284, data_time: 0.185, memory: 1182, loss_cls: 1.4288, loss_bbox: 0.2361, loss: 1.6649\n",
            "2022-05-09 07:11:16,300 - mmdet - INFO - Epoch [22][30/100]\tlr: 2.000e-04, eta: 0:43:57, time: 0.433, data_time: 0.341, memory: 1182, loss_cls: 1.5217, loss_bbox: 0.2277, loss: 1.7494\n",
            "2022-05-09 07:11:18,943 - mmdet - INFO - Epoch [22][40/100]\tlr: 2.000e-04, eta: 0:43:51, time: 0.264, data_time: 0.168, memory: 1182, loss_cls: 1.4703, loss_bbox: 0.1810, loss: 1.6513\n",
            "2022-05-09 07:11:22,109 - mmdet - INFO - Epoch [22][50/100]\tlr: 2.000e-04, eta: 0:43:47, time: 0.317, data_time: 0.220, memory: 1182, loss_cls: 1.2905, loss_bbox: 0.2016, loss: 1.4921\n",
            "2022-05-09 07:11:25,518 - mmdet - INFO - Epoch [22][60/100]\tlr: 2.000e-04, eta: 0:43:43, time: 0.341, data_time: 0.244, memory: 1182, loss_cls: 1.4906, loss_bbox: 0.2362, loss: 1.7268\n",
            "2022-05-09 07:11:28,590 - mmdet - INFO - Epoch [22][70/100]\tlr: 2.000e-04, eta: 0:43:39, time: 0.307, data_time: 0.212, memory: 1182, loss_cls: 1.4530, loss_bbox: 0.2077, loss: 1.6607\n",
            "2022-05-09 07:11:30,750 - mmdet - INFO - Epoch [22][80/100]\tlr: 2.000e-04, eta: 0:43:32, time: 0.216, data_time: 0.120, memory: 1182, loss_cls: 1.3740, loss_bbox: 0.2213, loss: 1.5953\n",
            "2022-05-09 07:11:33,630 - mmdet - INFO - Epoch [22][90/100]\tlr: 2.000e-04, eta: 0:43:27, time: 0.288, data_time: 0.201, memory: 1182, loss_cls: 1.5530, loss_bbox: 0.3130, loss: 1.8660\n",
            "2022-05-09 07:11:36,986 - mmdet - INFO - Epoch [22][100/100]\tlr: 2.000e-04, eta: 0:43:23, time: 0.335, data_time: 0.242, memory: 1182, loss_cls: 1.5171, loss_bbox: 0.2979, loss: 1.8150\n",
            "2022-05-09 07:11:37,049 - mmdet - INFO - Saving checkpoint at 22 epochs\n"
          ]
        },
        {
          "output_type": "stream",
          "name": "stdout",
          "text": [
            "[>>>>>>>>>>>>>>>>>>>>>>>>>>>>>>] 100/100, 37.2 task/s, elapsed: 3s, ETA:     0s"
          ]
        },
        {
          "output_type": "stream",
          "name": "stderr",
          "text": [
            "2022-05-09 07:11:40,507 - mmdet - INFO - Evaluating bbox...\n"
          ]
        },
        {
          "output_type": "stream",
          "name": "stdout",
          "text": [
            "Loading and preparing results...\n",
            "DONE (t=0.00s)\n",
            "creating index...\n",
            "index created!\n",
            "Running per image evaluation...\n",
            "Evaluate annotation type *bbox*\n",
            "DONE (t=0.08s).\n",
            "Accumulating evaluation results...\n"
          ]
        },
        {
          "output_type": "stream",
          "name": "stderr",
          "text": [
            "2022-05-09 07:11:40,626 - mmdet - INFO - \n",
            " Average Precision  (AP) @[ IoU=0.50:0.95 | area=   all | maxDets=100 ] = 0.693\n",
            " Average Precision  (AP) @[ IoU=0.50      | area=   all | maxDets=1000 ] = 0.853\n",
            " Average Precision  (AP) @[ IoU=0.75      | area=   all | maxDets=1000 ] = 0.807\n",
            " Average Precision  (AP) @[ IoU=0.50:0.95 | area= small | maxDets=1000 ] = -1.000\n",
            " Average Precision  (AP) @[ IoU=0.50:0.95 | area=medium | maxDets=1000 ] = -1.000\n",
            " Average Precision  (AP) @[ IoU=0.50:0.95 | area= large | maxDets=1000 ] = 0.693\n",
            " Average Recall     (AR) @[ IoU=0.50:0.95 | area=   all | maxDets=100 ] = 0.805\n",
            " Average Recall     (AR) @[ IoU=0.50:0.95 | area=   all | maxDets=300 ] = 0.805\n",
            " Average Recall     (AR) @[ IoU=0.50:0.95 | area=   all | maxDets=1000 ] = 0.805\n",
            " Average Recall     (AR) @[ IoU=0.50:0.95 | area= small | maxDets=1000 ] = -1.000\n",
            " Average Recall     (AR) @[ IoU=0.50:0.95 | area=medium | maxDets=1000 ] = -1.000\n",
            " Average Recall     (AR) @[ IoU=0.50:0.95 | area= large | maxDets=1000 ] = 0.805\n",
            "\n",
            "2022-05-09 07:11:40,629 - mmdet - INFO - Epoch(val) [22][100]\tbbox_mAP: 0.6930, bbox_mAP_50: 0.8530, bbox_mAP_75: 0.8070, bbox_mAP_s: -1.0000, bbox_mAP_m: -1.0000, bbox_mAP_l: 0.6930, bbox_mAP_copypaste: 0.693 0.853 0.807 -1.000 -1.000 0.693\n"
          ]
        },
        {
          "output_type": "stream",
          "name": "stdout",
          "text": [
            "DONE (t=0.04s).\n"
          ]
        },
        {
          "output_type": "stream",
          "name": "stderr",
          "text": [
            "2022-05-09 07:11:47,092 - mmdet - INFO - Epoch [23][10/100]\tlr: 2.000e-05, eta: 0:43:31, time: 0.641, data_time: 0.546, memory: 1182, loss_cls: 1.1786, loss_bbox: 0.1767, loss: 1.3553\n",
            "2022-05-09 07:11:49,745 - mmdet - INFO - Epoch [23][20/100]\tlr: 2.000e-05, eta: 0:43:25, time: 0.266, data_time: 0.173, memory: 1182, loss_cls: 1.4889, loss_bbox: 0.2121, loss: 1.7010\n",
            "2022-05-09 07:11:52,384 - mmdet - INFO - Epoch [23][30/100]\tlr: 2.000e-05, eta: 0:43:19, time: 0.264, data_time: 0.167, memory: 1182, loss_cls: 1.1099, loss_bbox: 0.2432, loss: 1.3530\n",
            "2022-05-09 07:11:55,146 - mmdet - INFO - Epoch [23][40/100]\tlr: 2.000e-05, eta: 0:43:14, time: 0.276, data_time: 0.181, memory: 1182, loss_cls: 1.3128, loss_bbox: 0.2021, loss: 1.5149\n",
            "2022-05-09 07:11:58,413 - mmdet - INFO - Epoch [23][50/100]\tlr: 2.000e-05, eta: 0:43:10, time: 0.327, data_time: 0.234, memory: 1182, loss_cls: 1.3824, loss_bbox: 0.2494, loss: 1.6318\n",
            "2022-05-09 07:12:01,121 - mmdet - INFO - Epoch [23][60/100]\tlr: 2.000e-05, eta: 0:43:05, time: 0.271, data_time: 0.186, memory: 1182, loss_cls: 1.2988, loss_bbox: 0.1743, loss: 1.4731\n",
            "2022-05-09 07:12:04,397 - mmdet - INFO - Epoch [23][70/100]\tlr: 2.000e-05, eta: 0:43:01, time: 0.328, data_time: 0.232, memory: 1182, loss_cls: 1.3999, loss_bbox: 0.2285, loss: 1.6284\n",
            "2022-05-09 07:12:07,073 - mmdet - INFO - Epoch [23][80/100]\tlr: 2.000e-05, eta: 0:42:56, time: 0.268, data_time: 0.184, memory: 1182, loss_cls: 1.5955, loss_bbox: 0.3424, loss: 1.9379\n",
            "2022-05-09 07:12:10,363 - mmdet - INFO - Epoch [23][90/100]\tlr: 2.000e-05, eta: 0:42:52, time: 0.329, data_time: 0.239, memory: 1182, loss_cls: 1.3914, loss_bbox: 0.2218, loss: 1.6132\n",
            "2022-05-09 07:12:12,763 - mmdet - INFO - Epoch [23][100/100]\tlr: 2.000e-05, eta: 0:42:46, time: 0.240, data_time: 0.149, memory: 1182, loss_cls: 1.3951, loss_bbox: 0.2451, loss: 1.6402\n",
            "2022-05-09 07:12:12,830 - mmdet - INFO - Saving checkpoint at 23 epochs\n"
          ]
        },
        {
          "output_type": "stream",
          "name": "stdout",
          "text": [
            "[>>>>>>>>>>>>>>>>>>>>>>>>>>>>>>] 100/100, 34.8 task/s, elapsed: 3s, ETA:     0s"
          ]
        },
        {
          "output_type": "stream",
          "name": "stderr",
          "text": [
            "2022-05-09 07:12:16,517 - mmdet - INFO - Evaluating bbox...\n"
          ]
        },
        {
          "output_type": "stream",
          "name": "stdout",
          "text": [
            "Loading and preparing results...\n",
            "DONE (t=0.00s)\n",
            "creating index...\n",
            "index created!\n",
            "Running per image evaluation...\n",
            "Evaluate annotation type *bbox*\n",
            "DONE (t=0.07s).\n",
            "Accumulating evaluation results...\n"
          ]
        },
        {
          "output_type": "stream",
          "name": "stderr",
          "text": [
            "2022-05-09 07:12:16,627 - mmdet - INFO - \n",
            " Average Precision  (AP) @[ IoU=0.50:0.95 | area=   all | maxDets=100 ] = 0.696\n",
            " Average Precision  (AP) @[ IoU=0.50      | area=   all | maxDets=1000 ] = 0.849\n",
            " Average Precision  (AP) @[ IoU=0.75      | area=   all | maxDets=1000 ] = 0.795\n",
            " Average Precision  (AP) @[ IoU=0.50:0.95 | area= small | maxDets=1000 ] = -1.000\n",
            " Average Precision  (AP) @[ IoU=0.50:0.95 | area=medium | maxDets=1000 ] = -1.000\n",
            " Average Precision  (AP) @[ IoU=0.50:0.95 | area= large | maxDets=1000 ] = 0.696\n",
            " Average Recall     (AR) @[ IoU=0.50:0.95 | area=   all | maxDets=100 ] = 0.799\n",
            " Average Recall     (AR) @[ IoU=0.50:0.95 | area=   all | maxDets=300 ] = 0.799\n",
            " Average Recall     (AR) @[ IoU=0.50:0.95 | area=   all | maxDets=1000 ] = 0.799\n",
            " Average Recall     (AR) @[ IoU=0.50:0.95 | area= small | maxDets=1000 ] = -1.000\n",
            " Average Recall     (AR) @[ IoU=0.50:0.95 | area=medium | maxDets=1000 ] = -1.000\n",
            " Average Recall     (AR) @[ IoU=0.50:0.95 | area= large | maxDets=1000 ] = 0.799\n",
            "\n",
            "2022-05-09 07:12:16,630 - mmdet - INFO - Epoch(val) [23][100]\tbbox_mAP: 0.6960, bbox_mAP_50: 0.8490, bbox_mAP_75: 0.7950, bbox_mAP_s: -1.0000, bbox_mAP_m: -1.0000, bbox_mAP_l: 0.6960, bbox_mAP_copypaste: 0.696 0.849 0.795 -1.000 -1.000 0.696\n"
          ]
        },
        {
          "output_type": "stream",
          "name": "stdout",
          "text": [
            "DONE (t=0.03s).\n"
          ]
        },
        {
          "output_type": "stream",
          "name": "stderr",
          "text": [
            "2022-05-09 07:12:23,512 - mmdet - INFO - Epoch [24][10/100]\tlr: 2.000e-05, eta: 0:42:54, time: 0.682, data_time: 0.593, memory: 1182, loss_cls: 1.5366, loss_bbox: 0.2134, loss: 1.7500\n",
            "2022-05-09 07:12:26,672 - mmdet - INFO - Epoch [24][20/100]\tlr: 2.000e-05, eta: 0:42:50, time: 0.316, data_time: 0.226, memory: 1182, loss_cls: 1.2555, loss_bbox: 0.1987, loss: 1.4542\n",
            "2022-05-09 07:12:29,208 - mmdet - INFO - Epoch [24][30/100]\tlr: 2.000e-05, eta: 0:42:44, time: 0.254, data_time: 0.157, memory: 1182, loss_cls: 1.4446, loss_bbox: 0.2483, loss: 1.6928\n",
            "2022-05-09 07:12:31,575 - mmdet - INFO - Epoch [24][40/100]\tlr: 2.000e-05, eta: 0:42:37, time: 0.237, data_time: 0.141, memory: 1182, loss_cls: 1.2792, loss_bbox: 0.1485, loss: 1.4277\n",
            "2022-05-09 07:12:33,809 - mmdet - INFO - Epoch [24][50/100]\tlr: 2.000e-05, eta: 0:42:30, time: 0.224, data_time: 0.124, memory: 1182, loss_cls: 1.4479, loss_bbox: 0.2471, loss: 1.6950\n",
            "2022-05-09 07:12:36,832 - mmdet - INFO - Epoch [24][60/100]\tlr: 2.000e-05, eta: 0:42:26, time: 0.302, data_time: 0.205, memory: 1182, loss_cls: 1.1053, loss_bbox: 0.1582, loss: 1.2635\n",
            "2022-05-09 07:12:39,468 - mmdet - INFO - Epoch [24][70/100]\tlr: 2.000e-05, eta: 0:42:20, time: 0.263, data_time: 0.167, memory: 1182, loss_cls: 1.3375, loss_bbox: 0.1996, loss: 1.5372\n",
            "2022-05-09 07:12:41,908 - mmdet - INFO - Epoch [24][80/100]\tlr: 2.000e-05, eta: 0:42:14, time: 0.244, data_time: 0.153, memory: 1182, loss_cls: 1.1769, loss_bbox: 0.1874, loss: 1.3643\n",
            "2022-05-09 07:12:44,319 - mmdet - INFO - Epoch [24][90/100]\tlr: 2.000e-05, eta: 0:42:08, time: 0.241, data_time: 0.150, memory: 1182, loss_cls: 1.4008, loss_bbox: 0.2710, loss: 1.6718\n",
            "2022-05-09 07:12:47,591 - mmdet - INFO - Epoch [24][100/100]\tlr: 2.000e-05, eta: 0:42:05, time: 0.327, data_time: 0.241, memory: 1182, loss_cls: 1.4045, loss_bbox: 0.2257, loss: 1.6302\n",
            "2022-05-09 07:12:47,652 - mmdet - INFO - Saving checkpoint at 24 epochs\n"
          ]
        },
        {
          "output_type": "stream",
          "name": "stdout",
          "text": [
            "[>>>>>>>>>>>>>>>>>>>>>>>>>>>>>>] 100/100, 37.3 task/s, elapsed: 3s, ETA:     0s"
          ]
        },
        {
          "output_type": "stream",
          "name": "stderr",
          "text": [
            "2022-05-09 07:12:51,125 - mmdet - INFO - Evaluating bbox...\n"
          ]
        },
        {
          "output_type": "stream",
          "name": "stdout",
          "text": [
            "Loading and preparing results...\n",
            "DONE (t=0.00s)\n",
            "creating index...\n",
            "index created!\n",
            "Running per image evaluation...\n",
            "Evaluate annotation type *bbox*\n",
            "DONE (t=0.07s).\n",
            "Accumulating evaluation results...\n"
          ]
        },
        {
          "output_type": "stream",
          "name": "stderr",
          "text": [
            "2022-05-09 07:12:51,236 - mmdet - INFO - \n",
            " Average Precision  (AP) @[ IoU=0.50:0.95 | area=   all | maxDets=100 ] = 0.698\n",
            " Average Precision  (AP) @[ IoU=0.50      | area=   all | maxDets=1000 ] = 0.849\n",
            " Average Precision  (AP) @[ IoU=0.75      | area=   all | maxDets=1000 ] = 0.796\n",
            " Average Precision  (AP) @[ IoU=0.50:0.95 | area= small | maxDets=1000 ] = -1.000\n",
            " Average Precision  (AP) @[ IoU=0.50:0.95 | area=medium | maxDets=1000 ] = -1.000\n",
            " Average Precision  (AP) @[ IoU=0.50:0.95 | area= large | maxDets=1000 ] = 0.698\n",
            " Average Recall     (AR) @[ IoU=0.50:0.95 | area=   all | maxDets=100 ] = 0.801\n",
            " Average Recall     (AR) @[ IoU=0.50:0.95 | area=   all | maxDets=300 ] = 0.801\n",
            " Average Recall     (AR) @[ IoU=0.50:0.95 | area=   all | maxDets=1000 ] = 0.801\n",
            " Average Recall     (AR) @[ IoU=0.50:0.95 | area= small | maxDets=1000 ] = -1.000\n",
            " Average Recall     (AR) @[ IoU=0.50:0.95 | area=medium | maxDets=1000 ] = -1.000\n",
            " Average Recall     (AR) @[ IoU=0.50:0.95 | area= large | maxDets=1000 ] = 0.801\n",
            "\n",
            "2022-05-09 07:12:51,239 - mmdet - INFO - Epoch(val) [24][100]\tbbox_mAP: 0.6980, bbox_mAP_50: 0.8490, bbox_mAP_75: 0.7960, bbox_mAP_s: -1.0000, bbox_mAP_m: -1.0000, bbox_mAP_l: 0.6980, bbox_mAP_copypaste: 0.698 0.849 0.796 -1.000 -1.000 0.698\n"
          ]
        },
        {
          "output_type": "stream",
          "name": "stdout",
          "text": [
            "DONE (t=0.03s).\n"
          ]
        },
        {
          "output_type": "stream",
          "name": "stderr",
          "text": [
            "2022-05-09 07:12:57,310 - mmdet - INFO - Epoch [25][10/100]\tlr: 2.000e-05, eta: 0:42:10, time: 0.602, data_time: 0.505, memory: 1182, loss_cls: 1.6513, loss_bbox: 0.2371, loss: 1.8884\n",
            "2022-05-09 07:13:00,690 - mmdet - INFO - Epoch [25][20/100]\tlr: 2.000e-05, eta: 0:42:07, time: 0.338, data_time: 0.242, memory: 1182, loss_cls: 1.3584, loss_bbox: 0.2580, loss: 1.6164\n",
            "2022-05-09 07:13:03,314 - mmdet - INFO - Epoch [25][30/100]\tlr: 2.000e-05, eta: 0:42:01, time: 0.262, data_time: 0.166, memory: 1182, loss_cls: 1.2594, loss_bbox: 0.1623, loss: 1.4217\n",
            "2022-05-09 07:13:06,816 - mmdet - INFO - Epoch [25][40/100]\tlr: 2.000e-05, eta: 0:41:58, time: 0.350, data_time: 0.254, memory: 1182, loss_cls: 1.2811, loss_bbox: 0.2392, loss: 1.5202\n",
            "2022-05-09 07:13:10,899 - mmdet - INFO - Epoch [25][50/100]\tlr: 2.000e-05, eta: 0:41:57, time: 0.408, data_time: 0.306, memory: 1182, loss_cls: 1.4111, loss_bbox: 0.2358, loss: 1.6469\n",
            "2022-05-09 07:13:14,259 - mmdet - INFO - Epoch [25][60/100]\tlr: 2.000e-05, eta: 0:41:54, time: 0.336, data_time: 0.238, memory: 1182, loss_cls: 1.0710, loss_bbox: 0.1563, loss: 1.2273\n",
            "2022-05-09 07:13:17,149 - mmdet - INFO - Epoch [25][70/100]\tlr: 2.000e-05, eta: 0:41:49, time: 0.289, data_time: 0.203, memory: 1182, loss_cls: 1.4606, loss_bbox: 0.2405, loss: 1.7012\n",
            "2022-05-09 07:13:19,708 - mmdet - INFO - Epoch [25][80/100]\tlr: 2.000e-05, eta: 0:41:44, time: 0.256, data_time: 0.164, memory: 1182, loss_cls: 1.6651, loss_bbox: 0.2034, loss: 1.8685\n",
            "2022-05-09 07:13:22,989 - mmdet - INFO - Epoch [25][90/100]\tlr: 2.000e-05, eta: 0:41:40, time: 0.328, data_time: 0.237, memory: 1182, loss_cls: 1.2101, loss_bbox: 0.2505, loss: 1.4607\n",
            "2022-05-09 07:13:25,966 - mmdet - INFO - Epoch [25][100/100]\tlr: 2.000e-05, eta: 0:41:36, time: 0.297, data_time: 0.215, memory: 1182, loss_cls: 1.2533, loss_bbox: 0.2063, loss: 1.4596\n",
            "2022-05-09 07:13:26,027 - mmdet - INFO - Saving checkpoint at 25 epochs\n"
          ]
        },
        {
          "output_type": "stream",
          "name": "stdout",
          "text": [
            "[>>>>>>>>>>>>>>>>>>>>>>>>>>>>>>] 100/100, 37.0 task/s, elapsed: 3s, ETA:     0s"
          ]
        },
        {
          "output_type": "stream",
          "name": "stderr",
          "text": [
            "2022-05-09 07:13:29,490 - mmdet - INFO - Evaluating bbox...\n"
          ]
        },
        {
          "output_type": "stream",
          "name": "stdout",
          "text": [
            "Loading and preparing results...\n",
            "DONE (t=0.00s)\n",
            "creating index...\n",
            "index created!\n",
            "Running per image evaluation...\n",
            "Evaluate annotation type *bbox*\n",
            "DONE (t=0.07s).\n",
            "Accumulating evaluation results...\n"
          ]
        },
        {
          "output_type": "stream",
          "name": "stderr",
          "text": [
            "2022-05-09 07:13:29,603 - mmdet - INFO - \n",
            " Average Precision  (AP) @[ IoU=0.50:0.95 | area=   all | maxDets=100 ] = 0.709\n",
            " Average Precision  (AP) @[ IoU=0.50      | area=   all | maxDets=1000 ] = 0.856\n",
            " Average Precision  (AP) @[ IoU=0.75      | area=   all | maxDets=1000 ] = 0.818\n",
            " Average Precision  (AP) @[ IoU=0.50:0.95 | area= small | maxDets=1000 ] = -1.000\n",
            " Average Precision  (AP) @[ IoU=0.50:0.95 | area=medium | maxDets=1000 ] = -1.000\n",
            " Average Precision  (AP) @[ IoU=0.50:0.95 | area= large | maxDets=1000 ] = 0.709\n",
            " Average Recall     (AR) @[ IoU=0.50:0.95 | area=   all | maxDets=100 ] = 0.814\n",
            " Average Recall     (AR) @[ IoU=0.50:0.95 | area=   all | maxDets=300 ] = 0.814\n",
            " Average Recall     (AR) @[ IoU=0.50:0.95 | area=   all | maxDets=1000 ] = 0.814\n",
            " Average Recall     (AR) @[ IoU=0.50:0.95 | area= small | maxDets=1000 ] = -1.000\n",
            " Average Recall     (AR) @[ IoU=0.50:0.95 | area=medium | maxDets=1000 ] = -1.000\n",
            " Average Recall     (AR) @[ IoU=0.50:0.95 | area= large | maxDets=1000 ] = 0.814\n",
            "\n",
            "2022-05-09 07:13:29,607 - mmdet - INFO - Epoch(val) [25][100]\tbbox_mAP: 0.7090, bbox_mAP_50: 0.8560, bbox_mAP_75: 0.8180, bbox_mAP_s: -1.0000, bbox_mAP_m: -1.0000, bbox_mAP_l: 0.7090, bbox_mAP_copypaste: 0.709 0.856 0.818 -1.000 -1.000 0.709\n"
          ]
        },
        {
          "output_type": "stream",
          "name": "stdout",
          "text": [
            "DONE (t=0.03s).\n"
          ]
        },
        {
          "output_type": "stream",
          "name": "stderr",
          "text": [
            "2022-05-09 07:13:35,646 - mmdet - INFO - Epoch [26][10/100]\tlr: 2.000e-05, eta: 0:41:40, time: 0.598, data_time: 0.500, memory: 1182, loss_cls: 1.1596, loss_bbox: 0.1971, loss: 1.3567\n",
            "2022-05-09 07:13:38,516 - mmdet - INFO - Epoch [26][20/100]\tlr: 2.000e-05, eta: 0:41:36, time: 0.287, data_time: 0.191, memory: 1182, loss_cls: 1.1424, loss_bbox: 0.1307, loss: 1.2731\n",
            "2022-05-09 07:13:41,553 - mmdet - INFO - Epoch [26][30/100]\tlr: 2.000e-05, eta: 0:41:31, time: 0.304, data_time: 0.207, memory: 1182, loss_cls: 1.4335, loss_bbox: 0.1891, loss: 1.6227\n",
            "2022-05-09 07:13:44,068 - mmdet - INFO - Epoch [26][40/100]\tlr: 2.000e-05, eta: 0:41:26, time: 0.252, data_time: 0.154, memory: 1182, loss_cls: 1.3709, loss_bbox: 0.2166, loss: 1.5875\n",
            "2022-05-09 07:13:47,881 - mmdet - INFO - Epoch [26][50/100]\tlr: 2.000e-05, eta: 0:41:24, time: 0.381, data_time: 0.284, memory: 1182, loss_cls: 1.4397, loss_bbox: 0.2294, loss: 1.6691\n",
            "2022-05-09 07:13:50,288 - mmdet - INFO - Epoch [26][60/100]\tlr: 2.000e-05, eta: 0:41:18, time: 0.241, data_time: 0.153, memory: 1182, loss_cls: 1.2380, loss_bbox: 0.1854, loss: 1.4234\n",
            "2022-05-09 07:13:54,377 - mmdet - INFO - Epoch [26][70/100]\tlr: 2.000e-05, eta: 0:41:16, time: 0.409, data_time: 0.318, memory: 1182, loss_cls: 1.3917, loss_bbox: 0.3343, loss: 1.7260\n",
            "2022-05-09 07:13:57,595 - mmdet - INFO - Epoch [26][80/100]\tlr: 2.000e-05, eta: 0:41:13, time: 0.322, data_time: 0.223, memory: 1182, loss_cls: 1.1519, loss_bbox: 0.1954, loss: 1.3473\n",
            "2022-05-09 07:14:01,687 - mmdet - INFO - Epoch [26][90/100]\tlr: 2.000e-05, eta: 0:41:12, time: 0.409, data_time: 0.314, memory: 1182, loss_cls: 1.1721, loss_bbox: 0.1990, loss: 1.3710\n",
            "2022-05-09 07:14:03,896 - mmdet - INFO - Epoch [26][100/100]\tlr: 2.000e-05, eta: 0:41:05, time: 0.221, data_time: 0.128, memory: 1182, loss_cls: 1.6991, loss_bbox: 0.2871, loss: 1.9863\n",
            "2022-05-09 07:14:03,961 - mmdet - INFO - Saving checkpoint at 26 epochs\n"
          ]
        },
        {
          "output_type": "stream",
          "name": "stdout",
          "text": [
            "[>>>>>>>>>>>>>>>>>>>>>>>>>>>>>>] 100/100, 37.2 task/s, elapsed: 3s, ETA:     0s"
          ]
        },
        {
          "output_type": "stream",
          "name": "stderr",
          "text": [
            "2022-05-09 07:14:07,411 - mmdet - INFO - Evaluating bbox...\n"
          ]
        },
        {
          "output_type": "stream",
          "name": "stdout",
          "text": [
            "Loading and preparing results...\n",
            "DONE (t=0.00s)\n",
            "creating index...\n",
            "index created!\n",
            "Running per image evaluation...\n",
            "Evaluate annotation type *bbox*\n",
            "DONE (t=0.08s).\n",
            "Accumulating evaluation results...\n"
          ]
        },
        {
          "output_type": "stream",
          "name": "stderr",
          "text": [
            "2022-05-09 07:14:07,529 - mmdet - INFO - \n",
            " Average Precision  (AP) @[ IoU=0.50:0.95 | area=   all | maxDets=100 ] = 0.704\n",
            " Average Precision  (AP) @[ IoU=0.50      | area=   all | maxDets=1000 ] = 0.858\n",
            " Average Precision  (AP) @[ IoU=0.75      | area=   all | maxDets=1000 ] = 0.820\n",
            " Average Precision  (AP) @[ IoU=0.50:0.95 | area= small | maxDets=1000 ] = -1.000\n",
            " Average Precision  (AP) @[ IoU=0.50:0.95 | area=medium | maxDets=1000 ] = -1.000\n",
            " Average Precision  (AP) @[ IoU=0.50:0.95 | area= large | maxDets=1000 ] = 0.704\n",
            " Average Recall     (AR) @[ IoU=0.50:0.95 | area=   all | maxDets=100 ] = 0.808\n",
            " Average Recall     (AR) @[ IoU=0.50:0.95 | area=   all | maxDets=300 ] = 0.808\n",
            " Average Recall     (AR) @[ IoU=0.50:0.95 | area=   all | maxDets=1000 ] = 0.808\n",
            " Average Recall     (AR) @[ IoU=0.50:0.95 | area= small | maxDets=1000 ] = -1.000\n",
            " Average Recall     (AR) @[ IoU=0.50:0.95 | area=medium | maxDets=1000 ] = -1.000\n",
            " Average Recall     (AR) @[ IoU=0.50:0.95 | area= large | maxDets=1000 ] = 0.808\n",
            "\n",
            "2022-05-09 07:14:07,532 - mmdet - INFO - Epoch(val) [26][100]\tbbox_mAP: 0.7040, bbox_mAP_50: 0.8580, bbox_mAP_75: 0.8200, bbox_mAP_s: -1.0000, bbox_mAP_m: -1.0000, bbox_mAP_l: 0.7040, bbox_mAP_copypaste: 0.704 0.858 0.820 -1.000 -1.000 0.704\n"
          ]
        },
        {
          "output_type": "stream",
          "name": "stdout",
          "text": [
            "DONE (t=0.04s).\n"
          ]
        },
        {
          "output_type": "stream",
          "name": "stderr",
          "text": [
            "2022-05-09 07:14:14,105 - mmdet - INFO - Epoch [27][10/100]\tlr: 2.000e-05, eta: 0:41:11, time: 0.652, data_time: 0.552, memory: 1182, loss_cls: 1.4797, loss_bbox: 0.1790, loss: 1.6587\n",
            "2022-05-09 07:14:16,176 - mmdet - INFO - Epoch [27][20/100]\tlr: 2.000e-05, eta: 0:41:04, time: 0.207, data_time: 0.107, memory: 1182, loss_cls: 1.0961, loss_bbox: 0.1631, loss: 1.2592\n",
            "2022-05-09 07:14:18,676 - mmdet - INFO - Epoch [27][30/100]\tlr: 2.000e-05, eta: 0:40:58, time: 0.250, data_time: 0.159, memory: 1182, loss_cls: 1.3138, loss_bbox: 0.1876, loss: 1.5015\n",
            "2022-05-09 07:14:21,849 - mmdet - INFO - Epoch [27][40/100]\tlr: 2.000e-05, eta: 0:40:54, time: 0.317, data_time: 0.222, memory: 1182, loss_cls: 1.3300, loss_bbox: 0.1776, loss: 1.5076\n",
            "2022-05-09 07:14:23,811 - mmdet - INFO - Epoch [27][50/100]\tlr: 2.000e-05, eta: 0:40:47, time: 0.196, data_time: 0.105, memory: 1182, loss_cls: 1.1901, loss_bbox: 0.1529, loss: 1.3430\n",
            "2022-05-09 07:14:26,897 - mmdet - INFO - Epoch [27][60/100]\tlr: 2.000e-05, eta: 0:40:43, time: 0.308, data_time: 0.215, memory: 1182, loss_cls: 1.2382, loss_bbox: 0.1927, loss: 1.4310\n",
            "2022-05-09 07:14:29,792 - mmdet - INFO - Epoch [27][70/100]\tlr: 2.000e-05, eta: 0:40:39, time: 0.290, data_time: 0.199, memory: 1182, loss_cls: 1.4147, loss_bbox: 0.2711, loss: 1.6858\n",
            "2022-05-09 07:14:33,474 - mmdet - INFO - Epoch [27][80/100]\tlr: 2.000e-05, eta: 0:40:36, time: 0.368, data_time: 0.273, memory: 1182, loss_cls: 1.4558, loss_bbox: 0.1673, loss: 1.6231\n",
            "2022-05-09 07:14:35,533 - mmdet - INFO - Epoch [27][90/100]\tlr: 2.000e-05, eta: 0:40:30, time: 0.206, data_time: 0.113, memory: 1182, loss_cls: 1.2956, loss_bbox: 0.1660, loss: 1.4616\n",
            "2022-05-09 07:14:37,693 - mmdet - INFO - Epoch [27][100/100]\tlr: 2.000e-05, eta: 0:40:23, time: 0.216, data_time: 0.122, memory: 1182, loss_cls: 1.4044, loss_bbox: 0.2471, loss: 1.6514\n",
            "2022-05-09 07:14:37,756 - mmdet - INFO - Saving checkpoint at 27 epochs\n"
          ]
        },
        {
          "output_type": "stream",
          "name": "stdout",
          "text": [
            "[>>>>>>>>>>>>>>>>>>>>>>>>>>>>>>] 100/100, 36.4 task/s, elapsed: 3s, ETA:     0s"
          ]
        },
        {
          "output_type": "stream",
          "name": "stderr",
          "text": [
            "2022-05-09 07:14:41,264 - mmdet - INFO - Evaluating bbox...\n"
          ]
        },
        {
          "output_type": "stream",
          "name": "stdout",
          "text": [
            "Loading and preparing results...\n",
            "DONE (t=0.00s)\n",
            "creating index...\n",
            "index created!\n",
            "Running per image evaluation...\n",
            "Evaluate annotation type *bbox*\n",
            "DONE (t=0.08s).\n",
            "Accumulating evaluation results...\n"
          ]
        },
        {
          "output_type": "stream",
          "name": "stderr",
          "text": [
            "2022-05-09 07:14:41,387 - mmdet - INFO - \n",
            " Average Precision  (AP) @[ IoU=0.50:0.95 | area=   all | maxDets=100 ] = 0.707\n",
            " Average Precision  (AP) @[ IoU=0.50      | area=   all | maxDets=1000 ] = 0.857\n",
            " Average Precision  (AP) @[ IoU=0.75      | area=   all | maxDets=1000 ] = 0.828\n",
            " Average Precision  (AP) @[ IoU=0.50:0.95 | area= small | maxDets=1000 ] = -1.000\n",
            " Average Precision  (AP) @[ IoU=0.50:0.95 | area=medium | maxDets=1000 ] = -1.000\n",
            " Average Precision  (AP) @[ IoU=0.50:0.95 | area= large | maxDets=1000 ] = 0.707\n",
            " Average Recall     (AR) @[ IoU=0.50:0.95 | area=   all | maxDets=100 ] = 0.815\n",
            " Average Recall     (AR) @[ IoU=0.50:0.95 | area=   all | maxDets=300 ] = 0.815\n",
            " Average Recall     (AR) @[ IoU=0.50:0.95 | area=   all | maxDets=1000 ] = 0.815\n",
            " Average Recall     (AR) @[ IoU=0.50:0.95 | area= small | maxDets=1000 ] = -1.000\n",
            " Average Recall     (AR) @[ IoU=0.50:0.95 | area=medium | maxDets=1000 ] = -1.000\n",
            " Average Recall     (AR) @[ IoU=0.50:0.95 | area= large | maxDets=1000 ] = 0.815\n",
            "\n",
            "2022-05-09 07:14:41,389 - mmdet - INFO - Epoch(val) [27][100]\tbbox_mAP: 0.7070, bbox_mAP_50: 0.8570, bbox_mAP_75: 0.8280, bbox_mAP_s: -1.0000, bbox_mAP_m: -1.0000, bbox_mAP_l: 0.7070, bbox_mAP_copypaste: 0.707 0.857 0.828 -1.000 -1.000 0.707\n"
          ]
        },
        {
          "output_type": "stream",
          "name": "stdout",
          "text": [
            "DONE (t=0.04s).\n"
          ]
        },
        {
          "output_type": "stream",
          "name": "stderr",
          "text": [
            "2022-05-09 07:14:47,574 - mmdet - INFO - Epoch [28][10/100]\tlr: 2.000e-05, eta: 0:40:27, time: 0.613, data_time: 0.515, memory: 1182, loss_cls: 1.4550, loss_bbox: 0.2344, loss: 1.6894\n",
            "2022-05-09 07:14:50,805 - mmdet - INFO - Epoch [28][20/100]\tlr: 2.000e-05, eta: 0:40:24, time: 0.323, data_time: 0.230, memory: 1182, loss_cls: 1.4660, loss_bbox: 0.2196, loss: 1.6857\n",
            "2022-05-09 07:14:53,284 - mmdet - INFO - Epoch [28][30/100]\tlr: 2.000e-05, eta: 0:40:18, time: 0.248, data_time: 0.150, memory: 1182, loss_cls: 1.1764, loss_bbox: 0.1852, loss: 1.3616\n",
            "2022-05-09 07:14:56,148 - mmdet - INFO - Epoch [28][40/100]\tlr: 2.000e-05, eta: 0:40:14, time: 0.286, data_time: 0.194, memory: 1182, loss_cls: 1.4157, loss_bbox: 0.2153, loss: 1.6310\n",
            "2022-05-09 07:14:58,852 - mmdet - INFO - Epoch [28][50/100]\tlr: 2.000e-05, eta: 0:40:09, time: 0.270, data_time: 0.179, memory: 1182, loss_cls: 1.0745, loss_bbox: 0.2215, loss: 1.2960\n",
            "2022-05-09 07:15:01,688 - mmdet - INFO - Epoch [28][60/100]\tlr: 2.000e-05, eta: 0:40:04, time: 0.284, data_time: 0.193, memory: 1182, loss_cls: 1.3892, loss_bbox: 0.2352, loss: 1.6244\n",
            "2022-05-09 07:15:05,258 - mmdet - INFO - Epoch [28][70/100]\tlr: 2.000e-05, eta: 0:40:01, time: 0.357, data_time: 0.265, memory: 1182, loss_cls: 1.4274, loss_bbox: 0.2612, loss: 1.6886\n",
            "2022-05-09 07:15:08,175 - mmdet - INFO - Epoch [28][80/100]\tlr: 2.000e-05, eta: 0:39:57, time: 0.292, data_time: 0.195, memory: 1182, loss_cls: 1.3735, loss_bbox: 0.2308, loss: 1.6043\n",
            "2022-05-09 07:15:11,501 - mmdet - INFO - Epoch [28][90/100]\tlr: 2.000e-05, eta: 0:39:54, time: 0.333, data_time: 0.237, memory: 1182, loss_cls: 1.2139, loss_bbox: 0.2089, loss: 1.4228\n",
            "2022-05-09 07:15:14,388 - mmdet - INFO - Epoch [28][100/100]\tlr: 2.000e-05, eta: 0:39:49, time: 0.288, data_time: 0.204, memory: 1182, loss_cls: 1.2153, loss_bbox: 0.1491, loss: 1.3644\n",
            "2022-05-09 07:15:14,459 - mmdet - INFO - Saving checkpoint at 28 epochs\n"
          ]
        },
        {
          "output_type": "stream",
          "name": "stdout",
          "text": [
            "[>>>>>>>>>>>>>>>>>>>>>>>>>>>>>>] 100/100, 36.3 task/s, elapsed: 3s, ETA:     0s"
          ]
        },
        {
          "output_type": "stream",
          "name": "stderr",
          "text": [
            "2022-05-09 07:15:18,014 - mmdet - INFO - Evaluating bbox...\n"
          ]
        },
        {
          "output_type": "stream",
          "name": "stdout",
          "text": [
            "Loading and preparing results...\n",
            "DONE (t=0.00s)\n",
            "creating index...\n",
            "index created!\n",
            "Running per image evaluation...\n",
            "Evaluate annotation type *bbox*\n",
            "DONE (t=0.08s).\n",
            "Accumulating evaluation results...\n",
            "DONE (t=0.04s).\n"
          ]
        },
        {
          "output_type": "stream",
          "name": "stderr",
          "text": [
            "2022-05-09 07:15:18,136 - mmdet - INFO - \n",
            " Average Precision  (AP) @[ IoU=0.50:0.95 | area=   all | maxDets=100 ] = 0.708\n",
            " Average Precision  (AP) @[ IoU=0.50      | area=   all | maxDets=1000 ] = 0.857\n",
            " Average Precision  (AP) @[ IoU=0.75      | area=   all | maxDets=1000 ] = 0.828\n",
            " Average Precision  (AP) @[ IoU=0.50:0.95 | area= small | maxDets=1000 ] = -1.000\n",
            " Average Precision  (AP) @[ IoU=0.50:0.95 | area=medium | maxDets=1000 ] = -1.000\n",
            " Average Precision  (AP) @[ IoU=0.50:0.95 | area= large | maxDets=1000 ] = 0.708\n",
            " Average Recall     (AR) @[ IoU=0.50:0.95 | area=   all | maxDets=100 ] = 0.819\n",
            " Average Recall     (AR) @[ IoU=0.50:0.95 | area=   all | maxDets=300 ] = 0.819\n",
            " Average Recall     (AR) @[ IoU=0.50:0.95 | area=   all | maxDets=1000 ] = 0.819\n",
            " Average Recall     (AR) @[ IoU=0.50:0.95 | area= small | maxDets=1000 ] = -1.000\n",
            " Average Recall     (AR) @[ IoU=0.50:0.95 | area=medium | maxDets=1000 ] = -1.000\n",
            " Average Recall     (AR) @[ IoU=0.50:0.95 | area= large | maxDets=1000 ] = 0.819\n",
            "\n",
            "2022-05-09 07:15:18,140 - mmdet - INFO - Epoch(val) [28][100]\tbbox_mAP: 0.7080, bbox_mAP_50: 0.8570, bbox_mAP_75: 0.8280, bbox_mAP_s: -1.0000, bbox_mAP_m: -1.0000, bbox_mAP_l: 0.7080, bbox_mAP_copypaste: 0.708 0.857 0.828 -1.000 -1.000 0.708\n",
            "2022-05-09 07:15:24,661 - mmdet - INFO - Epoch [29][10/100]\tlr: 2.000e-05, eta: 0:39:54, time: 0.646, data_time: 0.553, memory: 1182, loss_cls: 1.5932, loss_bbox: 0.2203, loss: 1.8135\n",
            "2022-05-09 07:15:27,206 - mmdet - INFO - Epoch [29][20/100]\tlr: 2.000e-05, eta: 0:39:49, time: 0.255, data_time: 0.154, memory: 1182, loss_cls: 1.2974, loss_bbox: 0.2021, loss: 1.4996\n",
            "2022-05-09 07:15:30,093 - mmdet - INFO - Epoch [29][30/100]\tlr: 2.000e-05, eta: 0:39:44, time: 0.289, data_time: 0.193, memory: 1182, loss_cls: 1.3540, loss_bbox: 0.2589, loss: 1.6130\n",
            "2022-05-09 07:15:33,535 - mmdet - INFO - Epoch [29][40/100]\tlr: 2.000e-05, eta: 0:39:41, time: 0.344, data_time: 0.249, memory: 1182, loss_cls: 1.3746, loss_bbox: 0.2083, loss: 1.5829\n",
            "2022-05-09 07:15:36,061 - mmdet - INFO - Epoch [29][50/100]\tlr: 2.000e-05, eta: 0:39:36, time: 0.253, data_time: 0.155, memory: 1182, loss_cls: 1.1989, loss_bbox: 0.1525, loss: 1.3514\n",
            "2022-05-09 07:15:39,003 - mmdet - INFO - Epoch [29][60/100]\tlr: 2.000e-05, eta: 0:39:32, time: 0.294, data_time: 0.202, memory: 1182, loss_cls: 1.1487, loss_bbox: 0.1415, loss: 1.2903\n",
            "2022-05-09 07:15:40,867 - mmdet - INFO - Epoch [29][70/100]\tlr: 2.000e-05, eta: 0:39:25, time: 0.186, data_time: 0.094, memory: 1182, loss_cls: 1.4715, loss_bbox: 0.2102, loss: 1.6817\n",
            "2022-05-09 07:15:44,395 - mmdet - INFO - Epoch [29][80/100]\tlr: 2.000e-05, eta: 0:39:22, time: 0.353, data_time: 0.264, memory: 1182, loss_cls: 1.3580, loss_bbox: 0.2060, loss: 1.5640\n",
            "2022-05-09 07:15:47,435 - mmdet - INFO - Epoch [29][90/100]\tlr: 2.000e-05, eta: 0:39:18, time: 0.304, data_time: 0.210, memory: 1182, loss_cls: 1.5620, loss_bbox: 0.2604, loss: 1.8224\n",
            "2022-05-09 07:15:50,125 - mmdet - INFO - Epoch [29][100/100]\tlr: 2.000e-05, eta: 0:39:13, time: 0.269, data_time: 0.179, memory: 1182, loss_cls: 1.4051, loss_bbox: 0.2104, loss: 1.6155\n",
            "2022-05-09 07:15:50,188 - mmdet - INFO - Saving checkpoint at 29 epochs\n"
          ]
        },
        {
          "output_type": "stream",
          "name": "stdout",
          "text": [
            "[>>>>>>>>>>>>>>>>>>>>>>>>>>>>>>] 100/100, 37.1 task/s, elapsed: 3s, ETA:     0s"
          ]
        },
        {
          "output_type": "stream",
          "name": "stderr",
          "text": [
            "2022-05-09 07:15:53,638 - mmdet - INFO - Evaluating bbox...\n"
          ]
        },
        {
          "output_type": "stream",
          "name": "stdout",
          "text": [
            "Loading and preparing results...\n",
            "DONE (t=0.00s)\n",
            "creating index...\n",
            "index created!\n",
            "Running per image evaluation...\n",
            "Evaluate annotation type *bbox*\n",
            "DONE (t=0.07s).\n",
            "Accumulating evaluation results...\n"
          ]
        },
        {
          "output_type": "stream",
          "name": "stderr",
          "text": [
            "2022-05-09 07:15:53,752 - mmdet - INFO - \n",
            " Average Precision  (AP) @[ IoU=0.50:0.95 | area=   all | maxDets=100 ] = 0.702\n",
            " Average Precision  (AP) @[ IoU=0.50      | area=   all | maxDets=1000 ] = 0.851\n",
            " Average Precision  (AP) @[ IoU=0.75      | area=   all | maxDets=1000 ] = 0.821\n",
            " Average Precision  (AP) @[ IoU=0.50:0.95 | area= small | maxDets=1000 ] = -1.000\n",
            " Average Precision  (AP) @[ IoU=0.50:0.95 | area=medium | maxDets=1000 ] = -1.000\n",
            " Average Precision  (AP) @[ IoU=0.50:0.95 | area= large | maxDets=1000 ] = 0.702\n",
            " Average Recall     (AR) @[ IoU=0.50:0.95 | area=   all | maxDets=100 ] = 0.807\n",
            " Average Recall     (AR) @[ IoU=0.50:0.95 | area=   all | maxDets=300 ] = 0.807\n",
            " Average Recall     (AR) @[ IoU=0.50:0.95 | area=   all | maxDets=1000 ] = 0.807\n",
            " Average Recall     (AR) @[ IoU=0.50:0.95 | area= small | maxDets=1000 ] = -1.000\n",
            " Average Recall     (AR) @[ IoU=0.50:0.95 | area=medium | maxDets=1000 ] = -1.000\n",
            " Average Recall     (AR) @[ IoU=0.50:0.95 | area= large | maxDets=1000 ] = 0.807\n",
            "\n",
            "2022-05-09 07:15:53,754 - mmdet - INFO - Epoch(val) [29][100]\tbbox_mAP: 0.7020, bbox_mAP_50: 0.8510, bbox_mAP_75: 0.8210, bbox_mAP_s: -1.0000, bbox_mAP_m: -1.0000, bbox_mAP_l: 0.7020, bbox_mAP_copypaste: 0.702 0.851 0.821 -1.000 -1.000 0.702\n"
          ]
        },
        {
          "output_type": "stream",
          "name": "stdout",
          "text": [
            "DONE (t=0.03s).\n"
          ]
        },
        {
          "output_type": "stream",
          "name": "stderr",
          "text": [
            "2022-05-09 07:16:00,767 - mmdet - INFO - Epoch [30][10/100]\tlr: 2.000e-05, eta: 0:39:18, time: 0.696, data_time: 0.603, memory: 1182, loss_cls: 1.4546, loss_bbox: 0.2219, loss: 1.6765\n",
            "2022-05-09 07:16:03,880 - mmdet - INFO - Epoch [30][20/100]\tlr: 2.000e-05, eta: 0:39:15, time: 0.311, data_time: 0.216, memory: 1182, loss_cls: 1.6522, loss_bbox: 0.2023, loss: 1.8545\n",
            "2022-05-09 07:16:05,999 - mmdet - INFO - Epoch [30][30/100]\tlr: 2.000e-05, eta: 0:39:08, time: 0.212, data_time: 0.125, memory: 1182, loss_cls: 1.1583, loss_bbox: 0.2051, loss: 1.3634\n",
            "2022-05-09 07:16:10,275 - mmdet - INFO - Epoch [30][40/100]\tlr: 2.000e-05, eta: 0:39:07, time: 0.427, data_time: 0.339, memory: 1182, loss_cls: 1.5772, loss_bbox: 0.3017, loss: 1.8789\n",
            "2022-05-09 07:16:14,170 - mmdet - INFO - Epoch [30][50/100]\tlr: 2.000e-05, eta: 0:39:05, time: 0.389, data_time: 0.295, memory: 1182, loss_cls: 1.4953, loss_bbox: 0.2014, loss: 1.6967\n",
            "2022-05-09 07:16:17,311 - mmdet - INFO - Epoch [30][60/100]\tlr: 2.000e-05, eta: 0:39:02, time: 0.314, data_time: 0.223, memory: 1182, loss_cls: 1.2683, loss_bbox: 0.1917, loss: 1.4599\n",
            "2022-05-09 07:16:20,210 - mmdet - INFO - Epoch [30][70/100]\tlr: 2.000e-05, eta: 0:38:57, time: 0.290, data_time: 0.199, memory: 1182, loss_cls: 1.1986, loss_bbox: 0.1629, loss: 1.3614\n",
            "2022-05-09 07:16:23,618 - mmdet - INFO - Epoch [30][80/100]\tlr: 2.000e-05, eta: 0:38:54, time: 0.341, data_time: 0.250, memory: 1182, loss_cls: 1.5190, loss_bbox: 0.2817, loss: 1.8008\n",
            "2022-05-09 07:16:26,359 - mmdet - INFO - Epoch [30][90/100]\tlr: 2.000e-05, eta: 0:38:49, time: 0.274, data_time: 0.181, memory: 1182, loss_cls: 1.3383, loss_bbox: 0.2132, loss: 1.5515\n",
            "2022-05-09 07:16:29,613 - mmdet - INFO - Epoch [30][100/100]\tlr: 2.000e-05, eta: 0:38:46, time: 0.325, data_time: 0.230, memory: 1182, loss_cls: 1.5144, loss_bbox: 0.2303, loss: 1.7447\n",
            "2022-05-09 07:16:29,674 - mmdet - INFO - Saving checkpoint at 30 epochs\n"
          ]
        },
        {
          "output_type": "stream",
          "name": "stdout",
          "text": [
            "[>>>>>>>>>>>>>>>>>>>>>>>>>>>>>>] 100/100, 37.2 task/s, elapsed: 3s, ETA:     0s"
          ]
        },
        {
          "output_type": "stream",
          "name": "stderr",
          "text": [
            "2022-05-09 07:16:33,122 - mmdet - INFO - Evaluating bbox...\n"
          ]
        },
        {
          "output_type": "stream",
          "name": "stdout",
          "text": [
            "Loading and preparing results...\n",
            "DONE (t=0.00s)\n",
            "creating index...\n",
            "index created!\n",
            "Running per image evaluation...\n",
            "Evaluate annotation type *bbox*\n",
            "DONE (t=0.09s).\n",
            "Accumulating evaluation results...\n"
          ]
        },
        {
          "output_type": "stream",
          "name": "stderr",
          "text": [
            "2022-05-09 07:16:33,253 - mmdet - INFO - \n",
            " Average Precision  (AP) @[ IoU=0.50:0.95 | area=   all | maxDets=100 ] = 0.704\n",
            " Average Precision  (AP) @[ IoU=0.50      | area=   all | maxDets=1000 ] = 0.864\n",
            " Average Precision  (AP) @[ IoU=0.75      | area=   all | maxDets=1000 ] = 0.827\n",
            " Average Precision  (AP) @[ IoU=0.50:0.95 | area= small | maxDets=1000 ] = -1.000\n",
            " Average Precision  (AP) @[ IoU=0.50:0.95 | area=medium | maxDets=1000 ] = -1.000\n",
            " Average Precision  (AP) @[ IoU=0.50:0.95 | area= large | maxDets=1000 ] = 0.704\n",
            " Average Recall     (AR) @[ IoU=0.50:0.95 | area=   all | maxDets=100 ] = 0.817\n",
            " Average Recall     (AR) @[ IoU=0.50:0.95 | area=   all | maxDets=300 ] = 0.817\n",
            " Average Recall     (AR) @[ IoU=0.50:0.95 | area=   all | maxDets=1000 ] = 0.817\n",
            " Average Recall     (AR) @[ IoU=0.50:0.95 | area= small | maxDets=1000 ] = -1.000\n",
            " Average Recall     (AR) @[ IoU=0.50:0.95 | area=medium | maxDets=1000 ] = -1.000\n",
            " Average Recall     (AR) @[ IoU=0.50:0.95 | area= large | maxDets=1000 ] = 0.817\n",
            "\n",
            "2022-05-09 07:16:33,256 - mmdet - INFO - Epoch(val) [30][100]\tbbox_mAP: 0.7040, bbox_mAP_50: 0.8640, bbox_mAP_75: 0.8270, bbox_mAP_s: -1.0000, bbox_mAP_m: -1.0000, bbox_mAP_l: 0.7040, bbox_mAP_copypaste: 0.704 0.864 0.827 -1.000 -1.000 0.704\n"
          ]
        },
        {
          "output_type": "stream",
          "name": "stdout",
          "text": [
            "DONE (t=0.04s).\n"
          ]
        },
        {
          "output_type": "stream",
          "name": "stderr",
          "text": [
            "2022-05-09 07:16:39,122 - mmdet - INFO - Epoch [31][10/100]\tlr: 2.000e-05, eta: 0:38:48, time: 0.581, data_time: 0.485, memory: 1182, loss_cls: 1.3696, loss_bbox: 0.2117, loss: 1.5813\n",
            "2022-05-09 07:16:42,364 - mmdet - INFO - Epoch [31][20/100]\tlr: 2.000e-05, eta: 0:38:45, time: 0.324, data_time: 0.228, memory: 1182, loss_cls: 1.0534, loss_bbox: 0.1419, loss: 1.1952\n",
            "2022-05-09 07:16:44,815 - mmdet - INFO - Epoch [31][30/100]\tlr: 2.000e-05, eta: 0:38:40, time: 0.245, data_time: 0.156, memory: 1182, loss_cls: 1.1451, loss_bbox: 0.1737, loss: 1.3187\n",
            "2022-05-09 07:16:47,181 - mmdet - INFO - Epoch [31][40/100]\tlr: 2.000e-05, eta: 0:38:34, time: 0.236, data_time: 0.149, memory: 1182, loss_cls: 1.3414, loss_bbox: 0.2137, loss: 1.5551\n",
            "2022-05-09 07:16:50,703 - mmdet - INFO - Epoch [31][50/100]\tlr: 2.000e-05, eta: 0:38:31, time: 0.352, data_time: 0.270, memory: 1182, loss_cls: 1.4306, loss_bbox: 0.2293, loss: 1.6599\n",
            "2022-05-09 07:16:52,929 - mmdet - INFO - Epoch [31][60/100]\tlr: 2.000e-05, eta: 0:38:25, time: 0.222, data_time: 0.129, memory: 1182, loss_cls: 1.2515, loss_bbox: 0.2672, loss: 1.5187\n",
            "2022-05-09 07:16:55,769 - mmdet - INFO - Epoch [31][70/100]\tlr: 2.000e-05, eta: 0:38:21, time: 0.284, data_time: 0.192, memory: 1182, loss_cls: 1.4279, loss_bbox: 0.2530, loss: 1.6809\n",
            "2022-05-09 07:16:58,688 - mmdet - INFO - Epoch [31][80/100]\tlr: 2.000e-05, eta: 0:38:17, time: 0.292, data_time: 0.197, memory: 1182, loss_cls: 1.0473, loss_bbox: 0.1476, loss: 1.1949\n",
            "2022-05-09 07:17:01,726 - mmdet - INFO - Epoch [31][90/100]\tlr: 2.000e-05, eta: 0:38:13, time: 0.304, data_time: 0.208, memory: 1182, loss_cls: 1.3765, loss_bbox: 0.1995, loss: 1.5760\n",
            "2022-05-09 07:17:04,336 - mmdet - INFO - Epoch [31][100/100]\tlr: 2.000e-05, eta: 0:38:08, time: 0.261, data_time: 0.166, memory: 1182, loss_cls: 1.3771, loss_bbox: 0.1763, loss: 1.5534\n",
            "2022-05-09 07:17:04,398 - mmdet - INFO - Saving checkpoint at 31 epochs\n"
          ]
        },
        {
          "output_type": "stream",
          "name": "stdout",
          "text": [
            "[>>>>>>>>>>>>>>>>>>>>>>>>>>>>>>] 100/100, 36.2 task/s, elapsed: 3s, ETA:     0s"
          ]
        },
        {
          "output_type": "stream",
          "name": "stderr",
          "text": [
            "2022-05-09 07:17:07,921 - mmdet - INFO - Evaluating bbox...\n"
          ]
        },
        {
          "output_type": "stream",
          "name": "stdout",
          "text": [
            "Loading and preparing results...\n",
            "DONE (t=0.00s)\n",
            "creating index...\n",
            "index created!\n",
            "Running per image evaluation...\n",
            "Evaluate annotation type *bbox*\n",
            "DONE (t=0.08s).\n",
            "Accumulating evaluation results...\n"
          ]
        },
        {
          "output_type": "stream",
          "name": "stderr",
          "text": [
            "2022-05-09 07:17:08,050 - mmdet - INFO - \n",
            " Average Precision  (AP) @[ IoU=0.50:0.95 | area=   all | maxDets=100 ] = 0.698\n",
            " Average Precision  (AP) @[ IoU=0.50      | area=   all | maxDets=1000 ] = 0.859\n",
            " Average Precision  (AP) @[ IoU=0.75      | area=   all | maxDets=1000 ] = 0.823\n",
            " Average Precision  (AP) @[ IoU=0.50:0.95 | area= small | maxDets=1000 ] = -1.000\n",
            " Average Precision  (AP) @[ IoU=0.50:0.95 | area=medium | maxDets=1000 ] = -1.000\n",
            " Average Precision  (AP) @[ IoU=0.50:0.95 | area= large | maxDets=1000 ] = 0.698\n",
            " Average Recall     (AR) @[ IoU=0.50:0.95 | area=   all | maxDets=100 ] = 0.809\n",
            " Average Recall     (AR) @[ IoU=0.50:0.95 | area=   all | maxDets=300 ] = 0.809\n",
            " Average Recall     (AR) @[ IoU=0.50:0.95 | area=   all | maxDets=1000 ] = 0.809\n",
            " Average Recall     (AR) @[ IoU=0.50:0.95 | area= small | maxDets=1000 ] = -1.000\n",
            " Average Recall     (AR) @[ IoU=0.50:0.95 | area=medium | maxDets=1000 ] = -1.000\n",
            " Average Recall     (AR) @[ IoU=0.50:0.95 | area= large | maxDets=1000 ] = 0.809\n",
            "\n",
            "2022-05-09 07:17:08,053 - mmdet - INFO - Epoch(val) [31][100]\tbbox_mAP: 0.6980, bbox_mAP_50: 0.8590, bbox_mAP_75: 0.8230, bbox_mAP_s: -1.0000, bbox_mAP_m: -1.0000, bbox_mAP_l: 0.6980, bbox_mAP_copypaste: 0.698 0.859 0.823 -1.000 -1.000 0.698\n"
          ]
        },
        {
          "output_type": "stream",
          "name": "stdout",
          "text": [
            "DONE (t=0.04s).\n"
          ]
        },
        {
          "output_type": "stream",
          "name": "stderr",
          "text": [
            "2022-05-09 07:17:13,620 - mmdet - INFO - Epoch [32][10/100]\tlr: 2.000e-05, eta: 0:38:09, time: 0.551, data_time: 0.445, memory: 1182, loss_cls: 1.4147, loss_bbox: 0.2289, loss: 1.6436\n",
            "2022-05-09 07:17:17,125 - mmdet - INFO - Epoch [32][20/100]\tlr: 2.000e-05, eta: 0:38:06, time: 0.350, data_time: 0.254, memory: 1182, loss_cls: 1.4463, loss_bbox: 0.1951, loss: 1.6413\n",
            "2022-05-09 07:17:19,640 - mmdet - INFO - Epoch [32][30/100]\tlr: 2.000e-05, eta: 0:38:01, time: 0.251, data_time: 0.152, memory: 1182, loss_cls: 1.2443, loss_bbox: 0.1855, loss: 1.4298\n",
            "2022-05-09 07:17:23,152 - mmdet - INFO - Epoch [32][40/100]\tlr: 2.000e-05, eta: 0:37:58, time: 0.351, data_time: 0.257, memory: 1182, loss_cls: 1.2705, loss_bbox: 0.2093, loss: 1.4799\n",
            "2022-05-09 07:17:26,172 - mmdet - INFO - Epoch [32][50/100]\tlr: 2.000e-05, eta: 0:37:54, time: 0.302, data_time: 0.209, memory: 1182, loss_cls: 1.2570, loss_bbox: 0.1847, loss: 1.4417\n",
            "2022-05-09 07:17:29,845 - mmdet - INFO - Epoch [32][60/100]\tlr: 2.000e-05, eta: 0:37:52, time: 0.367, data_time: 0.283, memory: 1182, loss_cls: 1.5676, loss_bbox: 0.2699, loss: 1.8375\n",
            "2022-05-09 07:17:32,942 - mmdet - INFO - Epoch [32][70/100]\tlr: 2.000e-05, eta: 0:37:48, time: 0.310, data_time: 0.227, memory: 1182, loss_cls: 1.2867, loss_bbox: 0.1652, loss: 1.4519\n",
            "2022-05-09 07:17:35,742 - mmdet - INFO - Epoch [32][80/100]\tlr: 2.000e-05, eta: 0:37:44, time: 0.280, data_time: 0.191, memory: 1182, loss_cls: 1.2184, loss_bbox: 0.1761, loss: 1.3945\n",
            "2022-05-09 07:17:39,002 - mmdet - INFO - Epoch [32][90/100]\tlr: 2.000e-05, eta: 0:37:40, time: 0.326, data_time: 0.232, memory: 1182, loss_cls: 1.5848, loss_bbox: 0.2429, loss: 1.8277\n",
            "2022-05-09 07:17:41,482 - mmdet - INFO - Epoch [32][100/100]\tlr: 2.000e-05, eta: 0:37:35, time: 0.248, data_time: 0.155, memory: 1182, loss_cls: 1.3467, loss_bbox: 0.1853, loss: 1.5320\n",
            "2022-05-09 07:17:41,544 - mmdet - INFO - Saving checkpoint at 32 epochs\n"
          ]
        },
        {
          "output_type": "stream",
          "name": "stdout",
          "text": [
            "[>>>>>>>>>>>>>>>>>>>>>>>>>>>>>>] 100/100, 37.0 task/s, elapsed: 3s, ETA:     0s"
          ]
        },
        {
          "output_type": "stream",
          "name": "stderr",
          "text": [
            "2022-05-09 07:17:45,007 - mmdet - INFO - Evaluating bbox...\n"
          ]
        },
        {
          "output_type": "stream",
          "name": "stdout",
          "text": [
            "Loading and preparing results...\n",
            "DONE (t=0.00s)\n",
            "creating index...\n",
            "index created!\n",
            "Running per image evaluation...\n",
            "Evaluate annotation type *bbox*\n",
            "DONE (t=0.07s).\n",
            "Accumulating evaluation results...\n",
            "DONE (t=0.03s).\n"
          ]
        },
        {
          "output_type": "stream",
          "name": "stderr",
          "text": [
            "2022-05-09 07:17:45,130 - mmdet - INFO - \n",
            " Average Precision  (AP) @[ IoU=0.50:0.95 | area=   all | maxDets=100 ] = 0.712\n",
            " Average Precision  (AP) @[ IoU=0.50      | area=   all | maxDets=1000 ] = 0.858\n",
            " Average Precision  (AP) @[ IoU=0.75      | area=   all | maxDets=1000 ] = 0.829\n",
            " Average Precision  (AP) @[ IoU=0.50:0.95 | area= small | maxDets=1000 ] = -1.000\n",
            " Average Precision  (AP) @[ IoU=0.50:0.95 | area=medium | maxDets=1000 ] = -1.000\n",
            " Average Precision  (AP) @[ IoU=0.50:0.95 | area= large | maxDets=1000 ] = 0.712\n",
            " Average Recall     (AR) @[ IoU=0.50:0.95 | area=   all | maxDets=100 ] = 0.823\n",
            " Average Recall     (AR) @[ IoU=0.50:0.95 | area=   all | maxDets=300 ] = 0.823\n",
            " Average Recall     (AR) @[ IoU=0.50:0.95 | area=   all | maxDets=1000 ] = 0.823\n",
            " Average Recall     (AR) @[ IoU=0.50:0.95 | area= small | maxDets=1000 ] = -1.000\n",
            " Average Recall     (AR) @[ IoU=0.50:0.95 | area=medium | maxDets=1000 ] = -1.000\n",
            " Average Recall     (AR) @[ IoU=0.50:0.95 | area= large | maxDets=1000 ] = 0.823\n",
            "\n",
            "2022-05-09 07:17:45,134 - mmdet - INFO - Epoch(val) [32][100]\tbbox_mAP: 0.7120, bbox_mAP_50: 0.8580, bbox_mAP_75: 0.8290, bbox_mAP_s: -1.0000, bbox_mAP_m: -1.0000, bbox_mAP_l: 0.7120, bbox_mAP_copypaste: 0.712 0.858 0.829 -1.000 -1.000 0.712\n",
            "2022-05-09 07:17:51,248 - mmdet - INFO - Epoch [33][10/100]\tlr: 2.000e-05, eta: 0:37:38, time: 0.606, data_time: 0.508, memory: 1182, loss_cls: 1.5129, loss_bbox: 0.2283, loss: 1.7412\n",
            "2022-05-09 07:17:55,049 - mmdet - INFO - Epoch [33][20/100]\tlr: 2.000e-05, eta: 0:37:35, time: 0.380, data_time: 0.284, memory: 1182, loss_cls: 1.2928, loss_bbox: 0.2375, loss: 1.5304\n",
            "2022-05-09 07:17:56,975 - mmdet - INFO - Epoch [33][30/100]\tlr: 2.000e-05, eta: 0:37:29, time: 0.192, data_time: 0.100, memory: 1182, loss_cls: 1.3508, loss_bbox: 0.2229, loss: 1.5737\n",
            "2022-05-09 07:18:00,070 - mmdet - INFO - Epoch [33][40/100]\tlr: 2.000e-05, eta: 0:37:25, time: 0.309, data_time: 0.223, memory: 1182, loss_cls: 1.4616, loss_bbox: 0.1995, loss: 1.6612\n",
            "2022-05-09 07:18:02,915 - mmdet - INFO - Epoch [33][50/100]\tlr: 2.000e-05, eta: 0:37:21, time: 0.284, data_time: 0.196, memory: 1182, loss_cls: 1.2568, loss_bbox: 0.1883, loss: 1.4452\n",
            "2022-05-09 07:18:05,296 - mmdet - INFO - Epoch [33][60/100]\tlr: 2.000e-05, eta: 0:37:16, time: 0.238, data_time: 0.142, memory: 1182, loss_cls: 1.3165, loss_bbox: 0.2021, loss: 1.5186\n",
            "2022-05-09 07:18:08,332 - mmdet - INFO - Epoch [33][70/100]\tlr: 2.000e-05, eta: 0:37:12, time: 0.304, data_time: 0.218, memory: 1182, loss_cls: 1.2292, loss_bbox: 0.1812, loss: 1.4104\n",
            "2022-05-09 07:18:11,730 - mmdet - INFO - Epoch [33][80/100]\tlr: 2.000e-05, eta: 0:37:09, time: 0.340, data_time: 0.241, memory: 1182, loss_cls: 1.5120, loss_bbox: 0.2076, loss: 1.7196\n",
            "2022-05-09 07:18:14,804 - mmdet - INFO - Epoch [33][90/100]\tlr: 2.000e-05, eta: 0:37:05, time: 0.307, data_time: 0.215, memory: 1182, loss_cls: 1.0843, loss_bbox: 0.1527, loss: 1.2370\n",
            "2022-05-09 07:18:17,898 - mmdet - INFO - Epoch [33][100/100]\tlr: 2.000e-05, eta: 0:37:01, time: 0.309, data_time: 0.216, memory: 1182, loss_cls: 1.4668, loss_bbox: 0.2325, loss: 1.6993\n",
            "2022-05-09 07:18:17,961 - mmdet - INFO - Saving checkpoint at 33 epochs\n"
          ]
        },
        {
          "output_type": "stream",
          "name": "stdout",
          "text": [
            "[>>>>>>>>>>>>>>>>>>>>>>>>>>>>>>] 100/100, 37.1 task/s, elapsed: 3s, ETA:     0s"
          ]
        },
        {
          "output_type": "stream",
          "name": "stderr",
          "text": [
            "2022-05-09 07:18:21,412 - mmdet - INFO - Evaluating bbox...\n"
          ]
        },
        {
          "output_type": "stream",
          "name": "stdout",
          "text": [
            "Loading and preparing results...\n",
            "DONE (t=0.00s)\n",
            "creating index...\n",
            "index created!\n",
            "Running per image evaluation...\n",
            "Evaluate annotation type *bbox*\n",
            "DONE (t=0.07s).\n",
            "Accumulating evaluation results...\n"
          ]
        },
        {
          "output_type": "stream",
          "name": "stderr",
          "text": [
            "2022-05-09 07:18:21,529 - mmdet - INFO - \n",
            " Average Precision  (AP) @[ IoU=0.50:0.95 | area=   all | maxDets=100 ] = 0.710\n",
            " Average Precision  (AP) @[ IoU=0.50      | area=   all | maxDets=1000 ] = 0.860\n",
            " Average Precision  (AP) @[ IoU=0.75      | area=   all | maxDets=1000 ] = 0.831\n",
            " Average Precision  (AP) @[ IoU=0.50:0.95 | area= small | maxDets=1000 ] = -1.000\n",
            " Average Precision  (AP) @[ IoU=0.50:0.95 | area=medium | maxDets=1000 ] = -1.000\n",
            " Average Precision  (AP) @[ IoU=0.50:0.95 | area= large | maxDets=1000 ] = 0.710\n",
            " Average Recall     (AR) @[ IoU=0.50:0.95 | area=   all | maxDets=100 ] = 0.820\n",
            " Average Recall     (AR) @[ IoU=0.50:0.95 | area=   all | maxDets=300 ] = 0.820\n",
            " Average Recall     (AR) @[ IoU=0.50:0.95 | area=   all | maxDets=1000 ] = 0.820\n",
            " Average Recall     (AR) @[ IoU=0.50:0.95 | area= small | maxDets=1000 ] = -1.000\n",
            " Average Recall     (AR) @[ IoU=0.50:0.95 | area=medium | maxDets=1000 ] = -1.000\n",
            " Average Recall     (AR) @[ IoU=0.50:0.95 | area= large | maxDets=1000 ] = 0.820\n",
            "\n"
          ]
        },
        {
          "output_type": "stream",
          "name": "stdout",
          "text": [
            "DONE (t=0.04s).\n"
          ]
        },
        {
          "output_type": "stream",
          "name": "stderr",
          "text": [
            "2022-05-09 07:18:21,532 - mmdet - INFO - Epoch(val) [33][100]\tbbox_mAP: 0.7100, bbox_mAP_50: 0.8600, bbox_mAP_75: 0.8310, bbox_mAP_s: -1.0000, bbox_mAP_m: -1.0000, bbox_mAP_l: 0.7100, bbox_mAP_copypaste: 0.710 0.860 0.831 -1.000 -1.000 0.710\n",
            "2022-05-09 07:18:27,444 - mmdet - INFO - Epoch [34][10/100]\tlr: 2.000e-05, eta: 0:37:03, time: 0.586, data_time: 0.482, memory: 1182, loss_cls: 1.5369, loss_bbox: 0.2124, loss: 1.7493\n",
            "2022-05-09 07:18:29,854 - mmdet - INFO - Epoch [34][20/100]\tlr: 2.000e-05, eta: 0:36:58, time: 0.241, data_time: 0.141, memory: 1182, loss_cls: 1.2169, loss_bbox: 0.1530, loss: 1.3698\n",
            "2022-05-09 07:18:32,839 - mmdet - INFO - Epoch [34][30/100]\tlr: 2.000e-05, eta: 0:36:54, time: 0.299, data_time: 0.199, memory: 1182, loss_cls: 1.3099, loss_bbox: 0.1595, loss: 1.4695\n",
            "2022-05-09 07:18:36,674 - mmdet - INFO - Epoch [34][40/100]\tlr: 2.000e-05, eta: 0:36:51, time: 0.383, data_time: 0.293, memory: 1182, loss_cls: 1.2764, loss_bbox: 0.1751, loss: 1.4515\n",
            "2022-05-09 07:18:39,135 - mmdet - INFO - Epoch [34][50/100]\tlr: 2.000e-05, eta: 0:36:46, time: 0.246, data_time: 0.152, memory: 1182, loss_cls: 1.4485, loss_bbox: 0.2575, loss: 1.7061\n",
            "2022-05-09 07:18:41,640 - mmdet - INFO - Epoch [34][60/100]\tlr: 2.000e-05, eta: 0:36:41, time: 0.250, data_time: 0.159, memory: 1182, loss_cls: 1.4618, loss_bbox: 0.1814, loss: 1.6431\n",
            "2022-05-09 07:18:44,734 - mmdet - INFO - Epoch [34][70/100]\tlr: 2.000e-05, eta: 0:36:38, time: 0.309, data_time: 0.226, memory: 1182, loss_cls: 1.3460, loss_bbox: 0.1739, loss: 1.5198\n",
            "2022-05-09 07:18:48,491 - mmdet - INFO - Epoch [34][80/100]\tlr: 2.000e-05, eta: 0:36:35, time: 0.376, data_time: 0.280, memory: 1182, loss_cls: 1.2614, loss_bbox: 0.2881, loss: 1.5495\n",
            "2022-05-09 07:18:51,758 - mmdet - INFO - Epoch [34][90/100]\tlr: 2.000e-05, eta: 0:36:32, time: 0.327, data_time: 0.232, memory: 1182, loss_cls: 1.1147, loss_bbox: 0.1535, loss: 1.2682\n",
            "2022-05-09 07:18:54,013 - mmdet - INFO - Epoch [34][100/100]\tlr: 2.000e-05, eta: 0:36:26, time: 0.225, data_time: 0.144, memory: 1182, loss_cls: 1.6499, loss_bbox: 0.2103, loss: 1.8602\n",
            "2022-05-09 07:18:54,075 - mmdet - INFO - Saving checkpoint at 34 epochs\n"
          ]
        },
        {
          "output_type": "stream",
          "name": "stdout",
          "text": [
            "[>>>>>>>>>>>>>>>>>>>>>>>>>>>>>>] 100/100, 37.3 task/s, elapsed: 3s, ETA:     0s"
          ]
        },
        {
          "output_type": "stream",
          "name": "stderr",
          "text": [
            "2022-05-09 07:18:57,515 - mmdet - INFO - Evaluating bbox...\n"
          ]
        },
        {
          "output_type": "stream",
          "name": "stdout",
          "text": [
            "Loading and preparing results...\n",
            "DONE (t=0.00s)\n",
            "creating index...\n",
            "index created!\n",
            "Running per image evaluation...\n",
            "Evaluate annotation type *bbox*\n",
            "DONE (t=0.20s).\n",
            "Accumulating evaluation results...\n"
          ]
        },
        {
          "output_type": "stream",
          "name": "stderr",
          "text": [
            "2022-05-09 07:18:57,759 - mmdet - INFO - \n",
            " Average Precision  (AP) @[ IoU=0.50:0.95 | area=   all | maxDets=100 ] = 0.704\n",
            " Average Precision  (AP) @[ IoU=0.50      | area=   all | maxDets=1000 ] = 0.858\n",
            " Average Precision  (AP) @[ IoU=0.75      | area=   all | maxDets=1000 ] = 0.824\n",
            " Average Precision  (AP) @[ IoU=0.50:0.95 | area= small | maxDets=1000 ] = -1.000\n",
            " Average Precision  (AP) @[ IoU=0.50:0.95 | area=medium | maxDets=1000 ] = -1.000\n",
            " Average Precision  (AP) @[ IoU=0.50:0.95 | area= large | maxDets=1000 ] = 0.704\n",
            " Average Recall     (AR) @[ IoU=0.50:0.95 | area=   all | maxDets=100 ] = 0.812\n",
            " Average Recall     (AR) @[ IoU=0.50:0.95 | area=   all | maxDets=300 ] = 0.812\n",
            " Average Recall     (AR) @[ IoU=0.50:0.95 | area=   all | maxDets=1000 ] = 0.812\n",
            " Average Recall     (AR) @[ IoU=0.50:0.95 | area= small | maxDets=1000 ] = -1.000\n",
            " Average Recall     (AR) @[ IoU=0.50:0.95 | area=medium | maxDets=1000 ] = -1.000\n",
            " Average Recall     (AR) @[ IoU=0.50:0.95 | area= large | maxDets=1000 ] = 0.812\n",
            "\n",
            "2022-05-09 07:18:57,761 - mmdet - INFO - Epoch(val) [34][100]\tbbox_mAP: 0.7040, bbox_mAP_50: 0.8580, bbox_mAP_75: 0.8240, bbox_mAP_s: -1.0000, bbox_mAP_m: -1.0000, bbox_mAP_l: 0.7040, bbox_mAP_copypaste: 0.704 0.858 0.824 -1.000 -1.000 0.704\n"
          ]
        },
        {
          "output_type": "stream",
          "name": "stdout",
          "text": [
            "DONE (t=0.04s).\n"
          ]
        },
        {
          "output_type": "stream",
          "name": "stderr",
          "text": [
            "2022-05-09 07:19:03,422 - mmdet - INFO - Epoch [35][10/100]\tlr: 2.000e-05, eta: 0:36:27, time: 0.561, data_time: 0.468, memory: 1182, loss_cls: 1.0939, loss_bbox: 0.1405, loss: 1.2344\n",
            "2022-05-09 07:19:08,184 - mmdet - INFO - Epoch [35][20/100]\tlr: 2.000e-05, eta: 0:36:27, time: 0.476, data_time: 0.383, memory: 1182, loss_cls: 1.3789, loss_bbox: 0.2305, loss: 1.6094\n",
            "2022-05-09 07:19:11,128 - mmdet - INFO - Epoch [35][30/100]\tlr: 2.000e-05, eta: 0:36:23, time: 0.294, data_time: 0.195, memory: 1182, loss_cls: 1.6884, loss_bbox: 0.2594, loss: 1.9478\n",
            "2022-05-09 07:19:15,165 - mmdet - INFO - Epoch [35][40/100]\tlr: 2.000e-05, eta: 0:36:21, time: 0.404, data_time: 0.306, memory: 1182, loss_cls: 1.2039, loss_bbox: 0.2056, loss: 1.4095\n",
            "2022-05-09 07:19:18,797 - mmdet - INFO - Epoch [35][50/100]\tlr: 2.000e-05, eta: 0:36:18, time: 0.363, data_time: 0.265, memory: 1182, loss_cls: 1.1527, loss_bbox: 0.1554, loss: 1.3081\n",
            "2022-05-09 07:19:20,975 - mmdet - INFO - Epoch [35][60/100]\tlr: 2.000e-05, eta: 0:36:13, time: 0.218, data_time: 0.125, memory: 1182, loss_cls: 1.1599, loss_bbox: 0.1610, loss: 1.3209\n",
            "2022-05-09 07:19:24,210 - mmdet - INFO - Epoch [35][70/100]\tlr: 2.000e-05, eta: 0:36:09, time: 0.324, data_time: 0.232, memory: 1182, loss_cls: 1.4555, loss_bbox: 0.2928, loss: 1.7483\n",
            "2022-05-09 07:19:27,915 - mmdet - INFO - Epoch [35][80/100]\tlr: 2.000e-05, eta: 0:36:07, time: 0.370, data_time: 0.274, memory: 1182, loss_cls: 1.4961, loss_bbox: 0.1741, loss: 1.6702\n",
            "2022-05-09 07:19:30,665 - mmdet - INFO - Epoch [35][90/100]\tlr: 2.000e-05, eta: 0:36:02, time: 0.275, data_time: 0.191, memory: 1182, loss_cls: 1.5426, loss_bbox: 0.2728, loss: 1.8154\n",
            "2022-05-09 07:19:32,793 - mmdet - INFO - Epoch [35][100/100]\tlr: 2.000e-05, eta: 0:35:57, time: 0.213, data_time: 0.129, memory: 1182, loss_cls: 1.4370, loss_bbox: 0.3010, loss: 1.7380\n",
            "2022-05-09 07:19:32,855 - mmdet - INFO - Saving checkpoint at 35 epochs\n"
          ]
        },
        {
          "output_type": "stream",
          "name": "stdout",
          "text": [
            "[>>>>>>>>>>>>>>>>>>>>>>>>>>>>>>] 100/100, 36.8 task/s, elapsed: 3s, ETA:     0s"
          ]
        },
        {
          "output_type": "stream",
          "name": "stderr",
          "text": [
            "2022-05-09 07:19:36,342 - mmdet - INFO - Evaluating bbox...\n"
          ]
        },
        {
          "output_type": "stream",
          "name": "stdout",
          "text": [
            "Loading and preparing results...\n",
            "DONE (t=0.00s)\n",
            "creating index...\n",
            "index created!\n",
            "Running per image evaluation...\n",
            "Evaluate annotation type *bbox*\n",
            "DONE (t=0.07s).\n",
            "Accumulating evaluation results...\n"
          ]
        },
        {
          "output_type": "stream",
          "name": "stderr",
          "text": [
            "2022-05-09 07:19:36,458 - mmdet - INFO - \n",
            " Average Precision  (AP) @[ IoU=0.50:0.95 | area=   all | maxDets=100 ] = 0.708\n",
            " Average Precision  (AP) @[ IoU=0.50      | area=   all | maxDets=1000 ] = 0.864\n",
            " Average Precision  (AP) @[ IoU=0.75      | area=   all | maxDets=1000 ] = 0.830\n",
            " Average Precision  (AP) @[ IoU=0.50:0.95 | area= small | maxDets=1000 ] = -1.000\n",
            " Average Precision  (AP) @[ IoU=0.50:0.95 | area=medium | maxDets=1000 ] = -1.000\n",
            " Average Precision  (AP) @[ IoU=0.50:0.95 | area= large | maxDets=1000 ] = 0.708\n",
            " Average Recall     (AR) @[ IoU=0.50:0.95 | area=   all | maxDets=100 ] = 0.819\n",
            " Average Recall     (AR) @[ IoU=0.50:0.95 | area=   all | maxDets=300 ] = 0.819\n",
            " Average Recall     (AR) @[ IoU=0.50:0.95 | area=   all | maxDets=1000 ] = 0.819\n",
            " Average Recall     (AR) @[ IoU=0.50:0.95 | area= small | maxDets=1000 ] = -1.000\n",
            " Average Recall     (AR) @[ IoU=0.50:0.95 | area=medium | maxDets=1000 ] = -1.000\n",
            " Average Recall     (AR) @[ IoU=0.50:0.95 | area= large | maxDets=1000 ] = 0.819\n",
            "\n",
            "2022-05-09 07:19:36,460 - mmdet - INFO - Epoch(val) [35][100]\tbbox_mAP: 0.7080, bbox_mAP_50: 0.8640, bbox_mAP_75: 0.8300, bbox_mAP_s: -1.0000, bbox_mAP_m: -1.0000, bbox_mAP_l: 0.7080, bbox_mAP_copypaste: 0.708 0.864 0.830 -1.000 -1.000 0.708\n"
          ]
        },
        {
          "output_type": "stream",
          "name": "stdout",
          "text": [
            "DONE (t=0.03s).\n"
          ]
        },
        {
          "output_type": "stream",
          "name": "stderr",
          "text": [
            "2022-05-09 07:19:42,134 - mmdet - INFO - Epoch [36][10/100]\tlr: 2.000e-05, eta: 0:35:58, time: 0.561, data_time: 0.473, memory: 1182, loss_cls: 1.0467, loss_bbox: 0.1715, loss: 1.2182\n",
            "2022-05-09 07:19:44,915 - mmdet - INFO - Epoch [36][20/100]\tlr: 2.000e-05, eta: 0:35:53, time: 0.278, data_time: 0.191, memory: 1182, loss_cls: 1.0274, loss_bbox: 0.1584, loss: 1.1858\n",
            "2022-05-09 07:19:48,233 - mmdet - INFO - Epoch [36][30/100]\tlr: 2.000e-05, eta: 0:35:50, time: 0.332, data_time: 0.241, memory: 1182, loss_cls: 1.1713, loss_bbox: 0.1728, loss: 1.3441\n",
            "2022-05-09 07:19:51,084 - mmdet - INFO - Epoch [36][40/100]\tlr: 2.000e-05, eta: 0:35:46, time: 0.285, data_time: 0.190, memory: 1182, loss_cls: 1.3609, loss_bbox: 0.1844, loss: 1.5453\n",
            "2022-05-09 07:19:54,121 - mmdet - INFO - Epoch [36][50/100]\tlr: 2.000e-05, eta: 0:35:42, time: 0.304, data_time: 0.208, memory: 1182, loss_cls: 1.4212, loss_bbox: 0.1890, loss: 1.6102\n",
            "2022-05-09 07:19:57,337 - mmdet - INFO - Epoch [36][60/100]\tlr: 2.000e-05, eta: 0:35:38, time: 0.322, data_time: 0.233, memory: 1182, loss_cls: 1.2144, loss_bbox: 0.2171, loss: 1.4316\n",
            "2022-05-09 07:20:00,493 - mmdet - INFO - Epoch [36][70/100]\tlr: 2.000e-05, eta: 0:35:35, time: 0.316, data_time: 0.223, memory: 1182, loss_cls: 1.3539, loss_bbox: 0.2073, loss: 1.5611\n",
            "2022-05-09 07:20:03,499 - mmdet - INFO - Epoch [36][80/100]\tlr: 2.000e-05, eta: 0:35:31, time: 0.301, data_time: 0.215, memory: 1182, loss_cls: 1.6060, loss_bbox: 0.2411, loss: 1.8471\n",
            "2022-05-09 07:20:06,306 - mmdet - INFO - Epoch [36][90/100]\tlr: 2.000e-05, eta: 0:35:27, time: 0.281, data_time: 0.191, memory: 1182, loss_cls: 1.1303, loss_bbox: 0.1754, loss: 1.3057\n",
            "2022-05-09 07:20:09,209 - mmdet - INFO - Epoch [36][100/100]\tlr: 2.000e-05, eta: 0:35:23, time: 0.290, data_time: 0.194, memory: 1182, loss_cls: 1.1926, loss_bbox: 0.1355, loss: 1.3281\n",
            "2022-05-09 07:20:09,278 - mmdet - INFO - Saving checkpoint at 36 epochs\n"
          ]
        },
        {
          "output_type": "stream",
          "name": "stdout",
          "text": [
            "[>>>>>>>>>>>>>>>>>>>>>>>>>>>>>>] 100/100, 33.5 task/s, elapsed: 3s, ETA:     0s"
          ]
        },
        {
          "output_type": "stream",
          "name": "stderr",
          "text": [
            "2022-05-09 07:20:13,079 - mmdet - INFO - Evaluating bbox...\n"
          ]
        },
        {
          "output_type": "stream",
          "name": "stdout",
          "text": [
            "Loading and preparing results...\n",
            "DONE (t=0.00s)\n",
            "creating index...\n",
            "index created!\n",
            "Running per image evaluation...\n",
            "Evaluate annotation type *bbox*\n",
            "DONE (t=0.08s).\n",
            "Accumulating evaluation results...\n"
          ]
        },
        {
          "output_type": "stream",
          "name": "stderr",
          "text": [
            "2022-05-09 07:20:13,213 - mmdet - INFO - \n",
            " Average Precision  (AP) @[ IoU=0.50:0.95 | area=   all | maxDets=100 ] = 0.706\n",
            " Average Precision  (AP) @[ IoU=0.50      | area=   all | maxDets=1000 ] = 0.869\n",
            " Average Precision  (AP) @[ IoU=0.75      | area=   all | maxDets=1000 ] = 0.829\n",
            " Average Precision  (AP) @[ IoU=0.50:0.95 | area= small | maxDets=1000 ] = -1.000\n",
            " Average Precision  (AP) @[ IoU=0.50:0.95 | area=medium | maxDets=1000 ] = -1.000\n",
            " Average Precision  (AP) @[ IoU=0.50:0.95 | area= large | maxDets=1000 ] = 0.706\n",
            " Average Recall     (AR) @[ IoU=0.50:0.95 | area=   all | maxDets=100 ] = 0.818\n",
            " Average Recall     (AR) @[ IoU=0.50:0.95 | area=   all | maxDets=300 ] = 0.818\n",
            " Average Recall     (AR) @[ IoU=0.50:0.95 | area=   all | maxDets=1000 ] = 0.818\n",
            " Average Recall     (AR) @[ IoU=0.50:0.95 | area= small | maxDets=1000 ] = -1.000\n",
            " Average Recall     (AR) @[ IoU=0.50:0.95 | area=medium | maxDets=1000 ] = -1.000\n",
            " Average Recall     (AR) @[ IoU=0.50:0.95 | area= large | maxDets=1000 ] = 0.818\n",
            "\n"
          ]
        },
        {
          "output_type": "stream",
          "name": "stdout",
          "text": [
            "DONE (t=0.04s).\n"
          ]
        },
        {
          "output_type": "stream",
          "name": "stderr",
          "text": [
            "2022-05-09 07:20:13,217 - mmdet - INFO - Epoch(val) [36][100]\tbbox_mAP: 0.7060, bbox_mAP_50: 0.8690, bbox_mAP_75: 0.8290, bbox_mAP_s: -1.0000, bbox_mAP_m: -1.0000, bbox_mAP_l: 0.7060, bbox_mAP_copypaste: 0.706 0.869 0.829 -1.000 -1.000 0.706\n",
            "2022-05-09 07:20:19,041 - mmdet - INFO - Epoch [37][10/100]\tlr: 2.000e-05, eta: 0:35:24, time: 0.577, data_time: 0.481, memory: 1182, loss_cls: 1.3142, loss_bbox: 0.2838, loss: 1.5980\n",
            "2022-05-09 07:20:21,671 - mmdet - INFO - Epoch [37][20/100]\tlr: 2.000e-05, eta: 0:35:19, time: 0.263, data_time: 0.163, memory: 1182, loss_cls: 1.2123, loss_bbox: 0.1549, loss: 1.3672\n",
            "2022-05-09 07:20:24,004 - mmdet - INFO - Epoch [37][30/100]\tlr: 2.000e-05, eta: 0:35:14, time: 0.233, data_time: 0.141, memory: 1182, loss_cls: 1.3863, loss_bbox: 0.2227, loss: 1.6090\n",
            "2022-05-09 07:20:26,820 - mmdet - INFO - Epoch [37][40/100]\tlr: 2.000e-05, eta: 0:35:10, time: 0.282, data_time: 0.185, memory: 1182, loss_cls: 1.2350, loss_bbox: 0.1975, loss: 1.4325\n",
            "2022-05-09 07:20:29,631 - mmdet - INFO - Epoch [37][50/100]\tlr: 2.000e-05, eta: 0:35:06, time: 0.281, data_time: 0.186, memory: 1182, loss_cls: 1.0731, loss_bbox: 0.1604, loss: 1.2335\n",
            "2022-05-09 07:20:33,060 - mmdet - INFO - Epoch [37][60/100]\tlr: 2.000e-05, eta: 0:35:02, time: 0.343, data_time: 0.252, memory: 1182, loss_cls: 1.2077, loss_bbox: 0.1796, loss: 1.3873\n",
            "2022-05-09 07:20:35,497 - mmdet - INFO - Epoch [37][70/100]\tlr: 2.000e-05, eta: 0:34:58, time: 0.244, data_time: 0.155, memory: 1182, loss_cls: 1.2189, loss_bbox: 0.1782, loss: 1.3971\n",
            "2022-05-09 07:20:38,574 - mmdet - INFO - Epoch [37][80/100]\tlr: 2.000e-05, eta: 0:34:54, time: 0.308, data_time: 0.211, memory: 1182, loss_cls: 1.3954, loss_bbox: 0.2531, loss: 1.6484\n",
            "2022-05-09 07:20:41,273 - mmdet - INFO - Epoch [37][90/100]\tlr: 2.000e-05, eta: 0:34:50, time: 0.270, data_time: 0.177, memory: 1182, loss_cls: 1.1748, loss_bbox: 0.1747, loss: 1.3495\n",
            "2022-05-09 07:20:44,331 - mmdet - INFO - Epoch [37][100/100]\tlr: 2.000e-05, eta: 0:34:46, time: 0.306, data_time: 0.213, memory: 1182, loss_cls: 1.2339, loss_bbox: 0.1732, loss: 1.4070\n",
            "2022-05-09 07:20:44,391 - mmdet - INFO - Saving checkpoint at 37 epochs\n"
          ]
        },
        {
          "output_type": "stream",
          "name": "stdout",
          "text": [
            "[>>>>>>>>>>>>>>>>>>>>>>>>>>>>>>] 100/100, 36.7 task/s, elapsed: 3s, ETA:     0s"
          ]
        },
        {
          "output_type": "stream",
          "name": "stderr",
          "text": [
            "2022-05-09 07:20:47,887 - mmdet - INFO - Evaluating bbox...\n"
          ]
        },
        {
          "output_type": "stream",
          "name": "stdout",
          "text": [
            "Loading and preparing results...\n",
            "DONE (t=0.00s)\n",
            "creating index...\n",
            "index created!\n",
            "Running per image evaluation...\n",
            "Evaluate annotation type *bbox*\n",
            "DONE (t=0.07s).\n",
            "Accumulating evaluation results...\n"
          ]
        },
        {
          "output_type": "stream",
          "name": "stderr",
          "text": [
            "2022-05-09 07:20:47,995 - mmdet - INFO - \n",
            " Average Precision  (AP) @[ IoU=0.50:0.95 | area=   all | maxDets=100 ] = 0.702\n",
            " Average Precision  (AP) @[ IoU=0.50      | area=   all | maxDets=1000 ] = 0.860\n",
            " Average Precision  (AP) @[ IoU=0.75      | area=   all | maxDets=1000 ] = 0.823\n",
            " Average Precision  (AP) @[ IoU=0.50:0.95 | area= small | maxDets=1000 ] = -1.000\n",
            " Average Precision  (AP) @[ IoU=0.50:0.95 | area=medium | maxDets=1000 ] = -1.000\n",
            " Average Precision  (AP) @[ IoU=0.50:0.95 | area= large | maxDets=1000 ] = 0.702\n",
            " Average Recall     (AR) @[ IoU=0.50:0.95 | area=   all | maxDets=100 ] = 0.812\n",
            " Average Recall     (AR) @[ IoU=0.50:0.95 | area=   all | maxDets=300 ] = 0.812\n",
            " Average Recall     (AR) @[ IoU=0.50:0.95 | area=   all | maxDets=1000 ] = 0.812\n",
            " Average Recall     (AR) @[ IoU=0.50:0.95 | area= small | maxDets=1000 ] = -1.000\n",
            " Average Recall     (AR) @[ IoU=0.50:0.95 | area=medium | maxDets=1000 ] = -1.000\n",
            " Average Recall     (AR) @[ IoU=0.50:0.95 | area= large | maxDets=1000 ] = 0.812\n",
            "\n",
            "2022-05-09 07:20:47,998 - mmdet - INFO - Epoch(val) [37][100]\tbbox_mAP: 0.7020, bbox_mAP_50: 0.8600, bbox_mAP_75: 0.8230, bbox_mAP_s: -1.0000, bbox_mAP_m: -1.0000, bbox_mAP_l: 0.7020, bbox_mAP_copypaste: 0.702 0.860 0.823 -1.000 -1.000 0.702\n"
          ]
        },
        {
          "output_type": "stream",
          "name": "stdout",
          "text": [
            "DONE (t=0.03s).\n"
          ]
        },
        {
          "output_type": "stream",
          "name": "stderr",
          "text": [
            "2022-05-09 07:20:53,463 - mmdet - INFO - Epoch [38][10/100]\tlr: 2.000e-05, eta: 0:34:46, time: 0.542, data_time: 0.447, memory: 1182, loss_cls: 1.3896, loss_bbox: 0.1930, loss: 1.5826\n",
            "2022-05-09 07:20:55,906 - mmdet - INFO - Epoch [38][20/100]\tlr: 2.000e-05, eta: 0:34:41, time: 0.243, data_time: 0.156, memory: 1182, loss_cls: 1.1549, loss_bbox: 0.1868, loss: 1.3416\n",
            "2022-05-09 07:20:58,810 - mmdet - INFO - Epoch [38][30/100]\tlr: 2.000e-05, eta: 0:34:37, time: 0.291, data_time: 0.199, memory: 1182, loss_cls: 1.2867, loss_bbox: 0.1971, loss: 1.4838\n",
            "2022-05-09 07:21:02,385 - mmdet - INFO - Epoch [38][40/100]\tlr: 2.000e-05, eta: 0:34:34, time: 0.357, data_time: 0.263, memory: 1182, loss_cls: 1.2877, loss_bbox: 0.2140, loss: 1.5017\n",
            "2022-05-09 07:21:04,834 - mmdet - INFO - Epoch [38][50/100]\tlr: 2.000e-05, eta: 0:34:30, time: 0.245, data_time: 0.143, memory: 1182, loss_cls: 1.3229, loss_bbox: 0.2919, loss: 1.6147\n",
            "2022-05-09 07:21:07,501 - mmdet - INFO - Epoch [38][60/100]\tlr: 2.000e-05, eta: 0:34:25, time: 0.267, data_time: 0.171, memory: 1182, loss_cls: 1.3363, loss_bbox: 0.1861, loss: 1.5224\n",
            "2022-05-09 07:21:12,355 - mmdet - INFO - Epoch [38][70/100]\tlr: 2.000e-05, eta: 0:34:24, time: 0.485, data_time: 0.393, memory: 1182, loss_cls: 1.5595, loss_bbox: 0.2860, loss: 1.8455\n",
            "2022-05-09 07:21:15,910 - mmdet - INFO - Epoch [38][80/100]\tlr: 2.000e-05, eta: 0:34:22, time: 0.356, data_time: 0.259, memory: 1182, loss_cls: 1.3112, loss_bbox: 0.1566, loss: 1.4678\n",
            "2022-05-09 07:21:19,746 - mmdet - INFO - Epoch [38][90/100]\tlr: 2.000e-05, eta: 0:34:19, time: 0.383, data_time: 0.298, memory: 1182, loss_cls: 1.3888, loss_bbox: 0.2448, loss: 1.6335\n",
            "2022-05-09 07:21:22,637 - mmdet - INFO - Epoch [38][100/100]\tlr: 2.000e-05, eta: 0:34:15, time: 0.289, data_time: 0.199, memory: 1182, loss_cls: 1.2749, loss_bbox: 0.2009, loss: 1.4759\n",
            "2022-05-09 07:21:22,700 - mmdet - INFO - Saving checkpoint at 38 epochs\n"
          ]
        },
        {
          "output_type": "stream",
          "name": "stdout",
          "text": [
            "[>>>>>>>>>>>>>>>>>>>>>>>>>>>>>>] 100/100, 36.9 task/s, elapsed: 3s, ETA:     0s"
          ]
        },
        {
          "output_type": "stream",
          "name": "stderr",
          "text": [
            "2022-05-09 07:21:26,180 - mmdet - INFO - Evaluating bbox...\n"
          ]
        },
        {
          "output_type": "stream",
          "name": "stdout",
          "text": [
            "Loading and preparing results...\n",
            "DONE (t=0.00s)\n",
            "creating index...\n",
            "index created!\n",
            "Running per image evaluation...\n",
            "Evaluate annotation type *bbox*\n",
            "DONE (t=0.08s).\n",
            "Accumulating evaluation results...\n"
          ]
        },
        {
          "output_type": "stream",
          "name": "stderr",
          "text": [
            "2022-05-09 07:21:26,303 - mmdet - INFO - \n",
            " Average Precision  (AP) @[ IoU=0.50:0.95 | area=   all | maxDets=100 ] = 0.703\n",
            " Average Precision  (AP) @[ IoU=0.50      | area=   all | maxDets=1000 ] = 0.859\n",
            " Average Precision  (AP) @[ IoU=0.75      | area=   all | maxDets=1000 ] = 0.823\n",
            " Average Precision  (AP) @[ IoU=0.50:0.95 | area= small | maxDets=1000 ] = -1.000\n",
            " Average Precision  (AP) @[ IoU=0.50:0.95 | area=medium | maxDets=1000 ] = -1.000\n",
            " Average Precision  (AP) @[ IoU=0.50:0.95 | area= large | maxDets=1000 ] = 0.703\n",
            " Average Recall     (AR) @[ IoU=0.50:0.95 | area=   all | maxDets=100 ] = 0.811\n",
            " Average Recall     (AR) @[ IoU=0.50:0.95 | area=   all | maxDets=300 ] = 0.811\n",
            " Average Recall     (AR) @[ IoU=0.50:0.95 | area=   all | maxDets=1000 ] = 0.811\n",
            " Average Recall     (AR) @[ IoU=0.50:0.95 | area= small | maxDets=1000 ] = -1.000\n",
            " Average Recall     (AR) @[ IoU=0.50:0.95 | area=medium | maxDets=1000 ] = -1.000\n",
            " Average Recall     (AR) @[ IoU=0.50:0.95 | area= large | maxDets=1000 ] = 0.811\n",
            "\n",
            "2022-05-09 07:21:26,305 - mmdet - INFO - Epoch(val) [38][100]\tbbox_mAP: 0.7030, bbox_mAP_50: 0.8590, bbox_mAP_75: 0.8230, bbox_mAP_s: -1.0000, bbox_mAP_m: -1.0000, bbox_mAP_l: 0.7030, bbox_mAP_copypaste: 0.703 0.859 0.823 -1.000 -1.000 0.703\n"
          ]
        },
        {
          "output_type": "stream",
          "name": "stdout",
          "text": [
            "DONE (t=0.04s).\n"
          ]
        },
        {
          "output_type": "stream",
          "name": "stderr",
          "text": [
            "2022-05-09 07:21:32,833 - mmdet - INFO - Epoch [39][10/100]\tlr: 2.000e-05, eta: 0:34:17, time: 0.647, data_time: 0.552, memory: 1182, loss_cls: 1.2210, loss_bbox: 0.3034, loss: 1.5243\n",
            "2022-05-09 07:21:34,835 - mmdet - INFO - Epoch [39][20/100]\tlr: 2.000e-05, eta: 0:34:11, time: 0.200, data_time: 0.104, memory: 1182, loss_cls: 1.4652, loss_bbox: 0.2298, loss: 1.6949\n",
            "2022-05-09 07:21:37,711 - mmdet - INFO - Epoch [39][30/100]\tlr: 2.000e-05, eta: 0:34:07, time: 0.288, data_time: 0.209, memory: 1182, loss_cls: 1.3364, loss_bbox: 0.2527, loss: 1.5891\n",
            "2022-05-09 07:21:40,997 - mmdet - INFO - Epoch [39][40/100]\tlr: 2.000e-05, eta: 0:34:04, time: 0.328, data_time: 0.246, memory: 1182, loss_cls: 1.3163, loss_bbox: 0.1713, loss: 1.4876\n",
            "2022-05-09 07:21:43,766 - mmdet - INFO - Epoch [39][50/100]\tlr: 2.000e-05, eta: 0:34:00, time: 0.277, data_time: 0.181, memory: 1182, loss_cls: 1.2264, loss_bbox: 0.1399, loss: 1.3663\n",
            "2022-05-09 07:21:46,413 - mmdet - INFO - Epoch [39][60/100]\tlr: 2.000e-05, eta: 0:33:55, time: 0.265, data_time: 0.170, memory: 1182, loss_cls: 1.4680, loss_bbox: 0.2710, loss: 1.7391\n",
            "2022-05-09 07:21:49,940 - mmdet - INFO - Epoch [39][70/100]\tlr: 2.000e-05, eta: 0:33:52, time: 0.353, data_time: 0.258, memory: 1182, loss_cls: 1.0750, loss_bbox: 0.1650, loss: 1.2400\n",
            "2022-05-09 07:21:52,284 - mmdet - INFO - Epoch [39][80/100]\tlr: 2.000e-05, eta: 0:33:48, time: 0.234, data_time: 0.138, memory: 1182, loss_cls: 1.3436, loss_bbox: 0.1785, loss: 1.5221\n",
            "2022-05-09 07:21:54,980 - mmdet - INFO - Epoch [39][90/100]\tlr: 2.000e-05, eta: 0:33:43, time: 0.270, data_time: 0.185, memory: 1182, loss_cls: 1.3327, loss_bbox: 0.2348, loss: 1.5676\n",
            "2022-05-09 07:21:57,343 - mmdet - INFO - Epoch [39][100/100]\tlr: 2.000e-05, eta: 0:33:39, time: 0.236, data_time: 0.146, memory: 1182, loss_cls: 1.2418, loss_bbox: 0.1757, loss: 1.4175\n",
            "2022-05-09 07:21:57,405 - mmdet - INFO - Saving checkpoint at 39 epochs\n"
          ]
        },
        {
          "output_type": "stream",
          "name": "stdout",
          "text": [
            "[>>>>>>>>>>>>>>>>>>>>>>>>>>>>>>] 100/100, 36.7 task/s, elapsed: 3s, ETA:     0s"
          ]
        },
        {
          "output_type": "stream",
          "name": "stderr",
          "text": [
            "2022-05-09 07:22:00,879 - mmdet - INFO - Evaluating bbox...\n"
          ]
        },
        {
          "output_type": "stream",
          "name": "stdout",
          "text": [
            "Loading and preparing results...\n",
            "DONE (t=0.00s)\n",
            "creating index...\n",
            "index created!\n",
            "Running per image evaluation...\n",
            "Evaluate annotation type *bbox*\n",
            "DONE (t=0.07s).\n",
            "Accumulating evaluation results...\n"
          ]
        },
        {
          "output_type": "stream",
          "name": "stderr",
          "text": [
            "2022-05-09 07:22:00,994 - mmdet - INFO - \n",
            " Average Precision  (AP) @[ IoU=0.50:0.95 | area=   all | maxDets=100 ] = 0.706\n",
            " Average Precision  (AP) @[ IoU=0.50      | area=   all | maxDets=1000 ] = 0.865\n",
            " Average Precision  (AP) @[ IoU=0.75      | area=   all | maxDets=1000 ] = 0.825\n",
            " Average Precision  (AP) @[ IoU=0.50:0.95 | area= small | maxDets=1000 ] = -1.000\n",
            " Average Precision  (AP) @[ IoU=0.50:0.95 | area=medium | maxDets=1000 ] = -1.000\n",
            " Average Precision  (AP) @[ IoU=0.50:0.95 | area= large | maxDets=1000 ] = 0.706\n",
            " Average Recall     (AR) @[ IoU=0.50:0.95 | area=   all | maxDets=100 ] = 0.816\n",
            " Average Recall     (AR) @[ IoU=0.50:0.95 | area=   all | maxDets=300 ] = 0.816\n",
            " Average Recall     (AR) @[ IoU=0.50:0.95 | area=   all | maxDets=1000 ] = 0.816\n",
            " Average Recall     (AR) @[ IoU=0.50:0.95 | area= small | maxDets=1000 ] = -1.000\n",
            " Average Recall     (AR) @[ IoU=0.50:0.95 | area=medium | maxDets=1000 ] = -1.000\n",
            " Average Recall     (AR) @[ IoU=0.50:0.95 | area= large | maxDets=1000 ] = 0.816\n",
            "\n"
          ]
        },
        {
          "output_type": "stream",
          "name": "stdout",
          "text": [
            "DONE (t=0.03s).\n"
          ]
        },
        {
          "output_type": "stream",
          "name": "stderr",
          "text": [
            "2022-05-09 07:22:00,997 - mmdet - INFO - Epoch(val) [39][100]\tbbox_mAP: 0.7060, bbox_mAP_50: 0.8650, bbox_mAP_75: 0.8250, bbox_mAP_s: -1.0000, bbox_mAP_m: -1.0000, bbox_mAP_l: 0.7060, bbox_mAP_copypaste: 0.706 0.865 0.825 -1.000 -1.000 0.706\n",
            "2022-05-09 07:22:07,907 - mmdet - INFO - Epoch [40][10/100]\tlr: 2.000e-05, eta: 0:33:41, time: 0.685, data_time: 0.592, memory: 1182, loss_cls: 1.6116, loss_bbox: 0.3147, loss: 1.9263\n",
            "2022-05-09 07:22:11,371 - mmdet - INFO - Epoch [40][20/100]\tlr: 2.000e-05, eta: 0:33:38, time: 0.346, data_time: 0.257, memory: 1182, loss_cls: 1.1355, loss_bbox: 0.1783, loss: 1.3138\n",
            "2022-05-09 07:22:14,747 - mmdet - INFO - Epoch [40][30/100]\tlr: 2.000e-05, eta: 0:33:34, time: 0.338, data_time: 0.242, memory: 1182, loss_cls: 1.4129, loss_bbox: 0.2423, loss: 1.6552\n",
            "2022-05-09 07:22:17,748 - mmdet - INFO - Epoch [40][40/100]\tlr: 2.000e-05, eta: 0:33:31, time: 0.300, data_time: 0.212, memory: 1182, loss_cls: 1.2290, loss_bbox: 0.1628, loss: 1.3918\n",
            "2022-05-09 07:22:20,424 - mmdet - INFO - Epoch [40][50/100]\tlr: 2.000e-05, eta: 0:33:26, time: 0.268, data_time: 0.173, memory: 1182, loss_cls: 1.3145, loss_bbox: 0.1646, loss: 1.4791\n",
            "2022-05-09 07:22:24,193 - mmdet - INFO - Epoch [40][60/100]\tlr: 2.000e-05, eta: 0:33:24, time: 0.377, data_time: 0.288, memory: 1182, loss_cls: 1.0856, loss_bbox: 0.1721, loss: 1.2577\n",
            "2022-05-09 07:22:26,594 - mmdet - INFO - Epoch [40][70/100]\tlr: 2.000e-05, eta: 0:33:19, time: 0.240, data_time: 0.147, memory: 1182, loss_cls: 1.0131, loss_bbox: 0.1686, loss: 1.1817\n",
            "2022-05-09 07:22:29,106 - mmdet - INFO - Epoch [40][80/100]\tlr: 2.000e-05, eta: 0:33:14, time: 0.251, data_time: 0.159, memory: 1182, loss_cls: 1.2583, loss_bbox: 0.1433, loss: 1.4016\n",
            "2022-05-09 07:22:33,415 - mmdet - INFO - Epoch [40][90/100]\tlr: 2.000e-05, eta: 0:33:13, time: 0.431, data_time: 0.342, memory: 1182, loss_cls: 1.3560, loss_bbox: 0.2154, loss: 1.5714\n",
            "2022-05-09 07:22:37,652 - mmdet - INFO - Epoch [40][100/100]\tlr: 2.000e-05, eta: 0:33:11, time: 0.423, data_time: 0.332, memory: 1182, loss_cls: 1.4506, loss_bbox: 0.2164, loss: 1.6670\n",
            "2022-05-09 07:22:37,716 - mmdet - INFO - Saving checkpoint at 40 epochs\n"
          ]
        },
        {
          "output_type": "stream",
          "name": "stdout",
          "text": [
            "[>>>>>>>>>>>>>>>>>>>>>>>>>>>>>>] 100/100, 36.8 task/s, elapsed: 3s, ETA:     0s"
          ]
        },
        {
          "output_type": "stream",
          "name": "stderr",
          "text": [
            "2022-05-09 07:22:41,191 - mmdet - INFO - Evaluating bbox...\n"
          ]
        },
        {
          "output_type": "stream",
          "name": "stdout",
          "text": [
            "Loading and preparing results...\n",
            "DONE (t=0.00s)\n",
            "creating index...\n",
            "index created!\n",
            "Running per image evaluation...\n",
            "Evaluate annotation type *bbox*\n",
            "DONE (t=0.07s).\n",
            "Accumulating evaluation results...\n"
          ]
        },
        {
          "output_type": "stream",
          "name": "stderr",
          "text": [
            "2022-05-09 07:22:41,303 - mmdet - INFO - \n",
            " Average Precision  (AP) @[ IoU=0.50:0.95 | area=   all | maxDets=100 ] = 0.707\n",
            " Average Precision  (AP) @[ IoU=0.50      | area=   all | maxDets=1000 ] = 0.863\n",
            " Average Precision  (AP) @[ IoU=0.75      | area=   all | maxDets=1000 ] = 0.826\n",
            " Average Precision  (AP) @[ IoU=0.50:0.95 | area= small | maxDets=1000 ] = -1.000\n",
            " Average Precision  (AP) @[ IoU=0.50:0.95 | area=medium | maxDets=1000 ] = -1.000\n",
            " Average Precision  (AP) @[ IoU=0.50:0.95 | area= large | maxDets=1000 ] = 0.707\n",
            " Average Recall     (AR) @[ IoU=0.50:0.95 | area=   all | maxDets=100 ] = 0.817\n",
            " Average Recall     (AR) @[ IoU=0.50:0.95 | area=   all | maxDets=300 ] = 0.817\n",
            " Average Recall     (AR) @[ IoU=0.50:0.95 | area=   all | maxDets=1000 ] = 0.817\n",
            " Average Recall     (AR) @[ IoU=0.50:0.95 | area= small | maxDets=1000 ] = -1.000\n",
            " Average Recall     (AR) @[ IoU=0.50:0.95 | area=medium | maxDets=1000 ] = -1.000\n",
            " Average Recall     (AR) @[ IoU=0.50:0.95 | area= large | maxDets=1000 ] = 0.817\n",
            "\n",
            "2022-05-09 07:22:41,306 - mmdet - INFO - Epoch(val) [40][100]\tbbox_mAP: 0.7070, bbox_mAP_50: 0.8630, bbox_mAP_75: 0.8260, bbox_mAP_s: -1.0000, bbox_mAP_m: -1.0000, bbox_mAP_l: 0.7070, bbox_mAP_copypaste: 0.707 0.863 0.826 -1.000 -1.000 0.707\n"
          ]
        },
        {
          "output_type": "stream",
          "name": "stdout",
          "text": [
            "DONE (t=0.03s).\n"
          ]
        },
        {
          "output_type": "stream",
          "name": "stderr",
          "text": [
            "2022-05-09 07:22:47,843 - mmdet - INFO - Epoch [41][10/100]\tlr: 2.000e-05, eta: 0:33:12, time: 0.648, data_time: 0.553, memory: 1182, loss_cls: 1.6394, loss_bbox: 0.2253, loss: 1.8646\n",
            "2022-05-09 07:22:50,572 - mmdet - INFO - Epoch [41][20/100]\tlr: 2.000e-05, eta: 0:33:08, time: 0.273, data_time: 0.182, memory: 1182, loss_cls: 1.4804, loss_bbox: 0.2811, loss: 1.7615\n",
            "2022-05-09 07:22:53,802 - mmdet - INFO - Epoch [41][30/100]\tlr: 2.000e-05, eta: 0:33:04, time: 0.323, data_time: 0.228, memory: 1182, loss_cls: 1.5754, loss_bbox: 0.2210, loss: 1.7964\n",
            "2022-05-09 07:22:57,229 - mmdet - INFO - Epoch [41][40/100]\tlr: 2.000e-05, eta: 0:33:01, time: 0.343, data_time: 0.250, memory: 1182, loss_cls: 1.0841, loss_bbox: 0.1823, loss: 1.2664\n",
            "2022-05-09 07:22:59,434 - mmdet - INFO - Epoch [41][50/100]\tlr: 2.000e-05, eta: 0:32:56, time: 0.220, data_time: 0.139, memory: 1182, loss_cls: 1.1802, loss_bbox: 0.1645, loss: 1.3447\n",
            "2022-05-09 07:23:02,362 - mmdet - INFO - Epoch [41][60/100]\tlr: 2.000e-05, eta: 0:32:52, time: 0.293, data_time: 0.209, memory: 1182, loss_cls: 1.2648, loss_bbox: 0.2049, loss: 1.4697\n",
            "2022-05-09 07:23:05,802 - mmdet - INFO - Epoch [41][70/100]\tlr: 2.000e-05, eta: 0:32:49, time: 0.344, data_time: 0.253, memory: 1182, loss_cls: 1.0786, loss_bbox: 0.1352, loss: 1.2139\n",
            "2022-05-09 07:23:08,136 - mmdet - INFO - Epoch [41][80/100]\tlr: 2.000e-05, eta: 0:32:44, time: 0.233, data_time: 0.140, memory: 1182, loss_cls: 1.2397, loss_bbox: 0.1866, loss: 1.4263\n",
            "2022-05-09 07:23:12,111 - mmdet - INFO - Epoch [41][90/100]\tlr: 2.000e-05, eta: 0:32:42, time: 0.397, data_time: 0.301, memory: 1182, loss_cls: 1.4857, loss_bbox: 0.2381, loss: 1.7238\n",
            "2022-05-09 07:23:14,792 - mmdet - INFO - Epoch [41][100/100]\tlr: 2.000e-05, eta: 0:32:38, time: 0.268, data_time: 0.188, memory: 1182, loss_cls: 1.1139, loss_bbox: 0.1770, loss: 1.2909\n",
            "2022-05-09 07:23:14,860 - mmdet - INFO - Saving checkpoint at 41 epochs\n"
          ]
        },
        {
          "output_type": "stream",
          "name": "stdout",
          "text": [
            "[>>>>>>>>>>>>>>>>>>>>>>>>>>>>>>] 100/100, 36.2 task/s, elapsed: 3s, ETA:     0s"
          ]
        },
        {
          "output_type": "stream",
          "name": "stderr",
          "text": [
            "2022-05-09 07:23:18,407 - mmdet - INFO - Evaluating bbox...\n"
          ]
        },
        {
          "output_type": "stream",
          "name": "stdout",
          "text": [
            "Loading and preparing results...\n",
            "DONE (t=0.00s)\n",
            "creating index...\n",
            "index created!\n",
            "Running per image evaluation...\n",
            "Evaluate annotation type *bbox*\n",
            "DONE (t=0.07s).\n",
            "Accumulating evaluation results...\n"
          ]
        },
        {
          "output_type": "stream",
          "name": "stderr",
          "text": [
            "2022-05-09 07:23:18,514 - mmdet - INFO - \n",
            " Average Precision  (AP) @[ IoU=0.50:0.95 | area=   all | maxDets=100 ] = 0.705\n",
            " Average Precision  (AP) @[ IoU=0.50      | area=   all | maxDets=1000 ] = 0.867\n",
            " Average Precision  (AP) @[ IoU=0.75      | area=   all | maxDets=1000 ] = 0.821\n",
            " Average Precision  (AP) @[ IoU=0.50:0.95 | area= small | maxDets=1000 ] = -1.000\n",
            " Average Precision  (AP) @[ IoU=0.50:0.95 | area=medium | maxDets=1000 ] = -1.000\n",
            " Average Precision  (AP) @[ IoU=0.50:0.95 | area= large | maxDets=1000 ] = 0.705\n",
            " Average Recall     (AR) @[ IoU=0.50:0.95 | area=   all | maxDets=100 ] = 0.807\n",
            " Average Recall     (AR) @[ IoU=0.50:0.95 | area=   all | maxDets=300 ] = 0.807\n",
            " Average Recall     (AR) @[ IoU=0.50:0.95 | area=   all | maxDets=1000 ] = 0.807\n",
            " Average Recall     (AR) @[ IoU=0.50:0.95 | area= small | maxDets=1000 ] = -1.000\n",
            " Average Recall     (AR) @[ IoU=0.50:0.95 | area=medium | maxDets=1000 ] = -1.000\n",
            " Average Recall     (AR) @[ IoU=0.50:0.95 | area= large | maxDets=1000 ] = 0.807\n",
            "\n",
            "2022-05-09 07:23:18,516 - mmdet - INFO - Epoch(val) [41][100]\tbbox_mAP: 0.7050, bbox_mAP_50: 0.8670, bbox_mAP_75: 0.8210, bbox_mAP_s: -1.0000, bbox_mAP_m: -1.0000, bbox_mAP_l: 0.7050, bbox_mAP_copypaste: 0.705 0.867 0.821 -1.000 -1.000 0.705\n"
          ]
        },
        {
          "output_type": "stream",
          "name": "stdout",
          "text": [
            "DONE (t=0.03s).\n"
          ]
        },
        {
          "output_type": "stream",
          "name": "stderr",
          "text": [
            "2022-05-09 07:23:24,149 - mmdet - INFO - Epoch [42][10/100]\tlr: 2.000e-05, eta: 0:32:38, time: 0.558, data_time: 0.465, memory: 1182, loss_cls: 1.4162, loss_bbox: 0.1589, loss: 1.5750\n",
            "2022-05-09 07:23:28,246 - mmdet - INFO - Epoch [42][20/100]\tlr: 2.000e-05, eta: 0:32:36, time: 0.409, data_time: 0.319, memory: 1182, loss_cls: 1.2774, loss_bbox: 0.2744, loss: 1.5518\n",
            "2022-05-09 07:23:30,704 - mmdet - INFO - Epoch [42][30/100]\tlr: 2.000e-05, eta: 0:32:31, time: 0.246, data_time: 0.151, memory: 1182, loss_cls: 1.2035, loss_bbox: 0.1930, loss: 1.3965\n",
            "2022-05-09 07:23:33,826 - mmdet - INFO - Epoch [42][40/100]\tlr: 2.000e-05, eta: 0:32:27, time: 0.312, data_time: 0.217, memory: 1182, loss_cls: 1.1961, loss_bbox: 0.1445, loss: 1.3405\n",
            "2022-05-09 07:23:36,860 - mmdet - INFO - Epoch [42][50/100]\tlr: 2.000e-05, eta: 0:32:24, time: 0.303, data_time: 0.207, memory: 1182, loss_cls: 1.5079, loss_bbox: 0.2379, loss: 1.7459\n",
            "2022-05-09 07:23:39,058 - mmdet - INFO - Epoch [42][60/100]\tlr: 2.000e-05, eta: 0:32:19, time: 0.220, data_time: 0.134, memory: 1182, loss_cls: 1.3921, loss_bbox: 0.2270, loss: 1.6190\n",
            "2022-05-09 07:23:43,184 - mmdet - INFO - Epoch [42][70/100]\tlr: 2.000e-05, eta: 0:32:17, time: 0.412, data_time: 0.317, memory: 1182, loss_cls: 1.2986, loss_bbox: 0.2736, loss: 1.5723\n",
            "2022-05-09 07:23:45,704 - mmdet - INFO - Epoch [42][80/100]\tlr: 2.000e-05, eta: 0:32:12, time: 0.252, data_time: 0.161, memory: 1182, loss_cls: 1.0940, loss_bbox: 0.1593, loss: 1.2533\n",
            "2022-05-09 07:23:49,711 - mmdet - INFO - Epoch [42][90/100]\tlr: 2.000e-05, eta: 0:32:10, time: 0.401, data_time: 0.319, memory: 1182, loss_cls: 1.6320, loss_bbox: 0.3028, loss: 1.9349\n",
            "2022-05-09 07:23:52,645 - mmdet - INFO - Epoch [42][100/100]\tlr: 2.000e-05, eta: 0:32:06, time: 0.293, data_time: 0.218, memory: 1182, loss_cls: 1.1304, loss_bbox: 0.1588, loss: 1.2893\n",
            "2022-05-09 07:23:52,710 - mmdet - INFO - Saving checkpoint at 42 epochs\n"
          ]
        },
        {
          "output_type": "stream",
          "name": "stdout",
          "text": [
            "[>>>>>>>>>>>>>>>>>>>>>>>>>>>>>>] 100/100, 37.0 task/s, elapsed: 3s, ETA:     0s"
          ]
        },
        {
          "output_type": "stream",
          "name": "stderr",
          "text": [
            "2022-05-09 07:23:56,175 - mmdet - INFO - Evaluating bbox...\n"
          ]
        },
        {
          "output_type": "stream",
          "name": "stdout",
          "text": [
            "Loading and preparing results...\n",
            "DONE (t=0.00s)\n",
            "creating index...\n",
            "index created!\n",
            "Running per image evaluation...\n",
            "Evaluate annotation type *bbox*\n",
            "DONE (t=0.08s).\n",
            "Accumulating evaluation results...\n"
          ]
        },
        {
          "output_type": "stream",
          "name": "stderr",
          "text": [
            "2022-05-09 07:23:56,296 - mmdet - INFO - \n",
            " Average Precision  (AP) @[ IoU=0.50:0.95 | area=   all | maxDets=100 ] = 0.711\n",
            " Average Precision  (AP) @[ IoU=0.50      | area=   all | maxDets=1000 ] = 0.865\n",
            " Average Precision  (AP) @[ IoU=0.75      | area=   all | maxDets=1000 ] = 0.820\n",
            " Average Precision  (AP) @[ IoU=0.50:0.95 | area= small | maxDets=1000 ] = -1.000\n",
            " Average Precision  (AP) @[ IoU=0.50:0.95 | area=medium | maxDets=1000 ] = -1.000\n",
            " Average Precision  (AP) @[ IoU=0.50:0.95 | area= large | maxDets=1000 ] = 0.711\n",
            " Average Recall     (AR) @[ IoU=0.50:0.95 | area=   all | maxDets=100 ] = 0.816\n",
            " Average Recall     (AR) @[ IoU=0.50:0.95 | area=   all | maxDets=300 ] = 0.816\n",
            " Average Recall     (AR) @[ IoU=0.50:0.95 | area=   all | maxDets=1000 ] = 0.816\n",
            " Average Recall     (AR) @[ IoU=0.50:0.95 | area= small | maxDets=1000 ] = -1.000\n",
            " Average Recall     (AR) @[ IoU=0.50:0.95 | area=medium | maxDets=1000 ] = -1.000\n",
            " Average Recall     (AR) @[ IoU=0.50:0.95 | area= large | maxDets=1000 ] = 0.816\n",
            "\n",
            "2022-05-09 07:23:56,299 - mmdet - INFO - Epoch(val) [42][100]\tbbox_mAP: 0.7110, bbox_mAP_50: 0.8650, bbox_mAP_75: 0.8200, bbox_mAP_s: -1.0000, bbox_mAP_m: -1.0000, bbox_mAP_l: 0.7110, bbox_mAP_copypaste: 0.711 0.865 0.820 -1.000 -1.000 0.711\n"
          ]
        },
        {
          "output_type": "stream",
          "name": "stdout",
          "text": [
            "DONE (t=0.04s).\n"
          ]
        },
        {
          "output_type": "stream",
          "name": "stderr",
          "text": [
            "2022-05-09 07:24:02,898 - mmdet - INFO - Epoch [43][10/100]\tlr: 2.000e-05, eta: 0:32:07, time: 0.654, data_time: 0.557, memory: 1182, loss_cls: 1.4145, loss_bbox: 0.2132, loss: 1.6277\n",
            "2022-05-09 07:24:06,145 - mmdet - INFO - Epoch [43][20/100]\tlr: 2.000e-05, eta: 0:32:04, time: 0.325, data_time: 0.228, memory: 1182, loss_cls: 1.3510, loss_bbox: 0.1967, loss: 1.5477\n",
            "2022-05-09 07:24:09,141 - mmdet - INFO - Epoch [43][30/100]\tlr: 2.000e-05, eta: 0:32:00, time: 0.300, data_time: 0.203, memory: 1182, loss_cls: 1.1773, loss_bbox: 0.1545, loss: 1.3319\n",
            "2022-05-09 07:24:12,145 - mmdet - INFO - Epoch [43][40/100]\tlr: 2.000e-05, eta: 0:31:56, time: 0.300, data_time: 0.211, memory: 1182, loss_cls: 1.1666, loss_bbox: 0.1741, loss: 1.3406\n",
            "2022-05-09 07:24:16,072 - mmdet - INFO - Epoch [43][50/100]\tlr: 2.000e-05, eta: 0:31:53, time: 0.393, data_time: 0.301, memory: 1182, loss_cls: 1.1657, loss_bbox: 0.1875, loss: 1.3532\n",
            "2022-05-09 07:24:19,548 - mmdet - INFO - Epoch [43][60/100]\tlr: 2.000e-05, eta: 0:31:50, time: 0.348, data_time: 0.254, memory: 1182, loss_cls: 1.3672, loss_bbox: 0.2370, loss: 1.6042\n",
            "2022-05-09 07:24:22,405 - mmdet - INFO - Epoch [43][70/100]\tlr: 2.000e-05, eta: 0:31:46, time: 0.286, data_time: 0.191, memory: 1182, loss_cls: 1.0991, loss_bbox: 0.1599, loss: 1.2589\n",
            "2022-05-09 07:24:25,371 - mmdet - INFO - Epoch [43][80/100]\tlr: 2.000e-05, eta: 0:31:43, time: 0.297, data_time: 0.210, memory: 1182, loss_cls: 1.5606, loss_bbox: 0.2105, loss: 1.7711\n",
            "2022-05-09 07:24:28,247 - mmdet - INFO - Epoch [43][90/100]\tlr: 2.000e-05, eta: 0:31:39, time: 0.287, data_time: 0.200, memory: 1182, loss_cls: 1.1885, loss_bbox: 0.1868, loss: 1.3753\n",
            "2022-05-09 07:24:30,411 - mmdet - INFO - Epoch [43][100/100]\tlr: 2.000e-05, eta: 0:31:34, time: 0.216, data_time: 0.122, memory: 1182, loss_cls: 1.4148, loss_bbox: 0.2380, loss: 1.6527\n",
            "2022-05-09 07:24:30,478 - mmdet - INFO - Saving checkpoint at 43 epochs\n"
          ]
        },
        {
          "output_type": "stream",
          "name": "stdout",
          "text": [
            "[>>>>>>>>>>>>>>>>>>>>>>>>>>>>>>] 100/100, 36.9 task/s, elapsed: 3s, ETA:     0s"
          ]
        },
        {
          "output_type": "stream",
          "name": "stderr",
          "text": [
            "2022-05-09 07:24:33,947 - mmdet - INFO - Evaluating bbox...\n"
          ]
        },
        {
          "output_type": "stream",
          "name": "stdout",
          "text": [
            "Loading and preparing results...\n",
            "DONE (t=0.00s)\n",
            "creating index...\n",
            "index created!\n",
            "Running per image evaluation...\n",
            "Evaluate annotation type *bbox*\n",
            "DONE (t=0.07s).\n",
            "Accumulating evaluation results...\n"
          ]
        },
        {
          "output_type": "stream",
          "name": "stderr",
          "text": [
            "2022-05-09 07:24:34,062 - mmdet - INFO - \n",
            " Average Precision  (AP) @[ IoU=0.50:0.95 | area=   all | maxDets=100 ] = 0.711\n",
            " Average Precision  (AP) @[ IoU=0.50      | area=   all | maxDets=1000 ] = 0.867\n",
            " Average Precision  (AP) @[ IoU=0.75      | area=   all | maxDets=1000 ] = 0.830\n",
            " Average Precision  (AP) @[ IoU=0.50:0.95 | area= small | maxDets=1000 ] = -1.000\n",
            " Average Precision  (AP) @[ IoU=0.50:0.95 | area=medium | maxDets=1000 ] = -1.000\n",
            " Average Precision  (AP) @[ IoU=0.50:0.95 | area= large | maxDets=1000 ] = 0.711\n",
            " Average Recall     (AR) @[ IoU=0.50:0.95 | area=   all | maxDets=100 ] = 0.826\n",
            " Average Recall     (AR) @[ IoU=0.50:0.95 | area=   all | maxDets=300 ] = 0.826\n",
            " Average Recall     (AR) @[ IoU=0.50:0.95 | area=   all | maxDets=1000 ] = 0.826\n",
            " Average Recall     (AR) @[ IoU=0.50:0.95 | area= small | maxDets=1000 ] = -1.000\n",
            " Average Recall     (AR) @[ IoU=0.50:0.95 | area=medium | maxDets=1000 ] = -1.000\n",
            " Average Recall     (AR) @[ IoU=0.50:0.95 | area= large | maxDets=1000 ] = 0.826\n",
            "\n",
            "2022-05-09 07:24:34,064 - mmdet - INFO - Epoch(val) [43][100]\tbbox_mAP: 0.7110, bbox_mAP_50: 0.8670, bbox_mAP_75: 0.8300, bbox_mAP_s: -1.0000, bbox_mAP_m: -1.0000, bbox_mAP_l: 0.7110, bbox_mAP_copypaste: 0.711 0.867 0.830 -1.000 -1.000 0.711\n"
          ]
        },
        {
          "output_type": "stream",
          "name": "stdout",
          "text": [
            "DONE (t=0.03s).\n"
          ]
        },
        {
          "output_type": "stream",
          "name": "stderr",
          "text": [
            "2022-05-09 07:24:39,978 - mmdet - INFO - Epoch [44][10/100]\tlr: 2.000e-05, eta: 0:31:34, time: 0.586, data_time: 0.485, memory: 1182, loss_cls: 1.2758, loss_bbox: 0.2087, loss: 1.4845\n",
            "2022-05-09 07:24:43,007 - mmdet - INFO - Epoch [44][20/100]\tlr: 2.000e-05, eta: 0:31:30, time: 0.303, data_time: 0.215, memory: 1182, loss_cls: 1.2440, loss_bbox: 0.1796, loss: 1.4236\n",
            "2022-05-09 07:24:46,439 - mmdet - INFO - Epoch [44][30/100]\tlr: 2.000e-05, eta: 0:31:27, time: 0.343, data_time: 0.250, memory: 1182, loss_cls: 1.7216, loss_bbox: 0.2996, loss: 2.0212\n",
            "2022-05-09 07:24:48,563 - mmdet - INFO - Epoch [44][40/100]\tlr: 2.000e-05, eta: 0:31:22, time: 0.212, data_time: 0.117, memory: 1182, loss_cls: 1.3522, loss_bbox: 0.2047, loss: 1.5570\n",
            "2022-05-09 07:24:51,412 - mmdet - INFO - Epoch [44][50/100]\tlr: 2.000e-05, eta: 0:31:18, time: 0.285, data_time: 0.198, memory: 1182, loss_cls: 1.1617, loss_bbox: 0.1755, loss: 1.3372\n",
            "2022-05-09 07:24:55,566 - mmdet - INFO - Epoch [44][60/100]\tlr: 2.000e-05, eta: 0:31:16, time: 0.415, data_time: 0.322, memory: 1182, loss_cls: 1.3265, loss_bbox: 0.2188, loss: 1.5454\n",
            "2022-05-09 07:24:57,613 - mmdet - INFO - Epoch [44][70/100]\tlr: 2.000e-05, eta: 0:31:11, time: 0.205, data_time: 0.109, memory: 1182, loss_cls: 1.3365, loss_bbox: 0.2278, loss: 1.5643\n",
            "2022-05-09 07:25:01,036 - mmdet - INFO - Epoch [44][80/100]\tlr: 2.000e-05, eta: 0:31:08, time: 0.342, data_time: 0.250, memory: 1182, loss_cls: 1.8859, loss_bbox: 0.1834, loss: 2.0692\n",
            "2022-05-09 07:25:03,240 - mmdet - INFO - Epoch [44][90/100]\tlr: 2.000e-05, eta: 0:31:03, time: 0.220, data_time: 0.126, memory: 1182, loss_cls: 1.2169, loss_bbox: 0.1768, loss: 1.3937\n",
            "2022-05-09 07:25:06,370 - mmdet - INFO - Epoch [44][100/100]\tlr: 2.000e-05, eta: 0:30:59, time: 0.313, data_time: 0.215, memory: 1182, loss_cls: 1.5082, loss_bbox: 0.1777, loss: 1.6860\n",
            "2022-05-09 07:25:06,446 - mmdet - INFO - Saving checkpoint at 44 epochs\n"
          ]
        },
        {
          "output_type": "stream",
          "name": "stdout",
          "text": [
            "[>>>>>>>>>>>>>>>>>>>>>>>>>>>>>>] 100/100, 33.2 task/s, elapsed: 3s, ETA:     0s"
          ]
        },
        {
          "output_type": "stream",
          "name": "stderr",
          "text": [
            "2022-05-09 07:25:10,296 - mmdet - INFO - Evaluating bbox...\n"
          ]
        },
        {
          "output_type": "stream",
          "name": "stdout",
          "text": [
            "Loading and preparing results...\n",
            "DONE (t=0.00s)\n",
            "creating index...\n",
            "index created!\n",
            "Running per image evaluation...\n",
            "Evaluate annotation type *bbox*\n",
            "DONE (t=0.08s).\n",
            "Accumulating evaluation results...\n"
          ]
        },
        {
          "output_type": "stream",
          "name": "stderr",
          "text": [
            "2022-05-09 07:25:10,424 - mmdet - INFO - \n",
            " Average Precision  (AP) @[ IoU=0.50:0.95 | area=   all | maxDets=100 ] = 0.714\n",
            " Average Precision  (AP) @[ IoU=0.50      | area=   all | maxDets=1000 ] = 0.871\n",
            " Average Precision  (AP) @[ IoU=0.75      | area=   all | maxDets=1000 ] = 0.832\n",
            " Average Precision  (AP) @[ IoU=0.50:0.95 | area= small | maxDets=1000 ] = -1.000\n",
            " Average Precision  (AP) @[ IoU=0.50:0.95 | area=medium | maxDets=1000 ] = -1.000\n",
            " Average Precision  (AP) @[ IoU=0.50:0.95 | area= large | maxDets=1000 ] = 0.714\n",
            " Average Recall     (AR) @[ IoU=0.50:0.95 | area=   all | maxDets=100 ] = 0.824\n",
            " Average Recall     (AR) @[ IoU=0.50:0.95 | area=   all | maxDets=300 ] = 0.824\n",
            " Average Recall     (AR) @[ IoU=0.50:0.95 | area=   all | maxDets=1000 ] = 0.824\n",
            " Average Recall     (AR) @[ IoU=0.50:0.95 | area= small | maxDets=1000 ] = -1.000\n",
            " Average Recall     (AR) @[ IoU=0.50:0.95 | area=medium | maxDets=1000 ] = -1.000\n",
            " Average Recall     (AR) @[ IoU=0.50:0.95 | area= large | maxDets=1000 ] = 0.824\n",
            "\n",
            "2022-05-09 07:25:10,426 - mmdet - INFO - Epoch(val) [44][100]\tbbox_mAP: 0.7140, bbox_mAP_50: 0.8710, bbox_mAP_75: 0.8320, bbox_mAP_s: -1.0000, bbox_mAP_m: -1.0000, bbox_mAP_l: 0.7140, bbox_mAP_copypaste: 0.714 0.871 0.832 -1.000 -1.000 0.714\n"
          ]
        },
        {
          "output_type": "stream",
          "name": "stdout",
          "text": [
            "DONE (t=0.04s).\n"
          ]
        },
        {
          "output_type": "stream",
          "name": "stderr",
          "text": [
            "2022-05-09 07:25:16,666 - mmdet - INFO - Epoch [45][10/100]\tlr: 2.000e-05, eta: 0:31:00, time: 0.618, data_time: 0.530, memory: 1182, loss_cls: 1.4108, loss_bbox: 0.2442, loss: 1.6551\n",
            "2022-05-09 07:25:20,015 - mmdet - INFO - Epoch [45][20/100]\tlr: 2.000e-05, eta: 0:30:56, time: 0.335, data_time: 0.240, memory: 1182, loss_cls: 1.5932, loss_bbox: 0.2104, loss: 1.8037\n",
            "2022-05-09 07:25:23,582 - mmdet - INFO - Epoch [45][30/100]\tlr: 2.000e-05, eta: 0:30:53, time: 0.357, data_time: 0.262, memory: 1182, loss_cls: 1.2632, loss_bbox: 0.1571, loss: 1.4203\n",
            "2022-05-09 07:25:26,199 - mmdet - INFO - Epoch [45][40/100]\tlr: 2.000e-05, eta: 0:30:49, time: 0.262, data_time: 0.166, memory: 1182, loss_cls: 1.2962, loss_bbox: 0.2031, loss: 1.4993\n",
            "2022-05-09 07:25:29,895 - mmdet - INFO - Epoch [45][50/100]\tlr: 2.000e-05, eta: 0:30:46, time: 0.370, data_time: 0.284, memory: 1182, loss_cls: 1.3160, loss_bbox: 0.1630, loss: 1.4791\n",
            "2022-05-09 07:25:32,334 - mmdet - INFO - Epoch [45][60/100]\tlr: 2.000e-05, eta: 0:30:42, time: 0.244, data_time: 0.153, memory: 1182, loss_cls: 1.1418, loss_bbox: 0.1156, loss: 1.2573\n",
            "2022-05-09 07:25:34,735 - mmdet - INFO - Epoch [45][70/100]\tlr: 2.000e-05, eta: 0:30:37, time: 0.240, data_time: 0.149, memory: 1182, loss_cls: 1.1757, loss_bbox: 0.1727, loss: 1.3484\n",
            "2022-05-09 07:25:37,128 - mmdet - INFO - Epoch [45][80/100]\tlr: 2.000e-05, eta: 0:30:33, time: 0.239, data_time: 0.149, memory: 1182, loss_cls: 1.3794, loss_bbox: 0.2114, loss: 1.5908\n",
            "2022-05-09 07:25:40,868 - mmdet - INFO - Epoch [45][90/100]\tlr: 2.000e-05, eta: 0:30:30, time: 0.374, data_time: 0.277, memory: 1182, loss_cls: 1.3755, loss_bbox: 0.2774, loss: 1.6529\n",
            "2022-05-09 07:25:43,865 - mmdet - INFO - Epoch [45][100/100]\tlr: 2.000e-05, eta: 0:30:26, time: 0.299, data_time: 0.207, memory: 1182, loss_cls: 1.2458, loss_bbox: 0.2909, loss: 1.5367\n",
            "2022-05-09 07:25:43,929 - mmdet - INFO - Saving checkpoint at 45 epochs\n"
          ]
        },
        {
          "output_type": "stream",
          "name": "stdout",
          "text": [
            "[>>>>>>>>>>>>>>>>>>>>>>>>>>>>>>] 100/100, 36.6 task/s, elapsed: 3s, ETA:     0s"
          ]
        },
        {
          "output_type": "stream",
          "name": "stderr",
          "text": [
            "2022-05-09 07:25:47,422 - mmdet - INFO - Evaluating bbox...\n"
          ]
        },
        {
          "output_type": "stream",
          "name": "stdout",
          "text": [
            "Loading and preparing results...\n",
            "DONE (t=0.00s)\n",
            "creating index...\n",
            "index created!\n",
            "Running per image evaluation...\n",
            "Evaluate annotation type *bbox*\n"
          ]
        },
        {
          "output_type": "stream",
          "name": "stderr",
          "text": [
            "2022-05-09 07:25:47,654 - mmdet - INFO - \n",
            " Average Precision  (AP) @[ IoU=0.50:0.95 | area=   all | maxDets=100 ] = 0.706\n",
            " Average Precision  (AP) @[ IoU=0.50      | area=   all | maxDets=1000 ] = 0.867\n",
            " Average Precision  (AP) @[ IoU=0.75      | area=   all | maxDets=1000 ] = 0.827\n",
            " Average Precision  (AP) @[ IoU=0.50:0.95 | area= small | maxDets=1000 ] = -1.000\n",
            " Average Precision  (AP) @[ IoU=0.50:0.95 | area=medium | maxDets=1000 ] = -1.000\n",
            " Average Precision  (AP) @[ IoU=0.50:0.95 | area= large | maxDets=1000 ] = 0.706\n",
            " Average Recall     (AR) @[ IoU=0.50:0.95 | area=   all | maxDets=100 ] = 0.811\n",
            " Average Recall     (AR) @[ IoU=0.50:0.95 | area=   all | maxDets=300 ] = 0.811\n",
            " Average Recall     (AR) @[ IoU=0.50:0.95 | area=   all | maxDets=1000 ] = 0.811\n",
            " Average Recall     (AR) @[ IoU=0.50:0.95 | area= small | maxDets=1000 ] = -1.000\n",
            " Average Recall     (AR) @[ IoU=0.50:0.95 | area=medium | maxDets=1000 ] = -1.000\n",
            " Average Recall     (AR) @[ IoU=0.50:0.95 | area= large | maxDets=1000 ] = 0.811\n",
            "\n",
            "2022-05-09 07:25:47,657 - mmdet - INFO - Epoch(val) [45][100]\tbbox_mAP: 0.7060, bbox_mAP_50: 0.8670, bbox_mAP_75: 0.8270, bbox_mAP_s: -1.0000, bbox_mAP_m: -1.0000, bbox_mAP_l: 0.7060, bbox_mAP_copypaste: 0.706 0.867 0.827 -1.000 -1.000 0.706\n"
          ]
        },
        {
          "output_type": "stream",
          "name": "stdout",
          "text": [
            "DONE (t=0.07s).\n",
            "Accumulating evaluation results...\n",
            "DONE (t=0.03s).\n"
          ]
        },
        {
          "output_type": "stream",
          "name": "stderr",
          "text": [
            "2022-05-09 07:25:53,821 - mmdet - INFO - Epoch [46][10/100]\tlr: 2.000e-05, eta: 0:30:26, time: 0.611, data_time: 0.513, memory: 1182, loss_cls: 1.3711, loss_bbox: 0.2321, loss: 1.6032\n",
            "2022-05-09 07:25:56,670 - mmdet - INFO - Epoch [46][20/100]\tlr: 2.000e-05, eta: 0:30:22, time: 0.285, data_time: 0.192, memory: 1182, loss_cls: 1.1593, loss_bbox: 0.1576, loss: 1.3169\n",
            "2022-05-09 07:25:59,681 - mmdet - INFO - Epoch [46][30/100]\tlr: 2.000e-05, eta: 0:30:19, time: 0.301, data_time: 0.205, memory: 1182, loss_cls: 1.1110, loss_bbox: 0.1577, loss: 1.2688\n",
            "2022-05-09 07:26:02,322 - mmdet - INFO - Epoch [46][40/100]\tlr: 2.000e-05, eta: 0:30:15, time: 0.264, data_time: 0.182, memory: 1182, loss_cls: 0.9208, loss_bbox: 0.1322, loss: 1.0530\n",
            "2022-05-09 07:26:05,488 - mmdet - INFO - Epoch [46][50/100]\tlr: 2.000e-05, eta: 0:30:11, time: 0.316, data_time: 0.231, memory: 1182, loss_cls: 1.2130, loss_bbox: 0.1945, loss: 1.4076\n",
            "2022-05-09 07:26:09,741 - mmdet - INFO - Epoch [46][60/100]\tlr: 2.000e-05, eta: 0:30:09, time: 0.426, data_time: 0.330, memory: 1182, loss_cls: 1.3601, loss_bbox: 0.2214, loss: 1.5815\n",
            "2022-05-09 07:26:13,179 - mmdet - INFO - Epoch [46][70/100]\tlr: 2.000e-05, eta: 0:30:06, time: 0.344, data_time: 0.245, memory: 1182, loss_cls: 1.2430, loss_bbox: 0.2015, loss: 1.4444\n",
            "2022-05-09 07:26:16,135 - mmdet - INFO - Epoch [46][80/100]\tlr: 2.000e-05, eta: 0:30:02, time: 0.296, data_time: 0.193, memory: 1182, loss_cls: 1.3547, loss_bbox: 0.2832, loss: 1.6378\n",
            "2022-05-09 07:26:19,149 - mmdet - INFO - Epoch [46][90/100]\tlr: 2.000e-05, eta: 0:29:58, time: 0.301, data_time: 0.206, memory: 1182, loss_cls: 1.4239, loss_bbox: 0.2055, loss: 1.6294\n",
            "2022-05-09 07:26:21,346 - mmdet - INFO - Epoch [46][100/100]\tlr: 2.000e-05, eta: 0:29:54, time: 0.219, data_time: 0.130, memory: 1182, loss_cls: 1.3368, loss_bbox: 0.2237, loss: 1.5605\n",
            "2022-05-09 07:26:21,411 - mmdet - INFO - Saving checkpoint at 46 epochs\n"
          ]
        },
        {
          "output_type": "stream",
          "name": "stdout",
          "text": [
            "[>>>>>>>>>>>>>>>>>>>>>>>>>>>>>>] 100/100, 36.0 task/s, elapsed: 3s, ETA:     0s"
          ]
        },
        {
          "output_type": "stream",
          "name": "stderr",
          "text": [
            "2022-05-09 07:26:24,962 - mmdet - INFO - Evaluating bbox...\n"
          ]
        },
        {
          "output_type": "stream",
          "name": "stdout",
          "text": [
            "Loading and preparing results...\n",
            "DONE (t=0.00s)\n",
            "creating index...\n",
            "index created!\n",
            "Running per image evaluation...\n",
            "Evaluate annotation type *bbox*\n",
            "DONE (t=0.07s).\n",
            "Accumulating evaluation results...\n"
          ]
        },
        {
          "output_type": "stream",
          "name": "stderr",
          "text": [
            "2022-05-09 07:26:25,075 - mmdet - INFO - \n",
            " Average Precision  (AP) @[ IoU=0.50:0.95 | area=   all | maxDets=100 ] = 0.703\n",
            " Average Precision  (AP) @[ IoU=0.50      | area=   all | maxDets=1000 ] = 0.870\n",
            " Average Precision  (AP) @[ IoU=0.75      | area=   all | maxDets=1000 ] = 0.826\n",
            " Average Precision  (AP) @[ IoU=0.50:0.95 | area= small | maxDets=1000 ] = -1.000\n",
            " Average Precision  (AP) @[ IoU=0.50:0.95 | area=medium | maxDets=1000 ] = -1.000\n",
            " Average Precision  (AP) @[ IoU=0.50:0.95 | area= large | maxDets=1000 ] = 0.703\n",
            " Average Recall     (AR) @[ IoU=0.50:0.95 | area=   all | maxDets=100 ] = 0.805\n",
            " Average Recall     (AR) @[ IoU=0.50:0.95 | area=   all | maxDets=300 ] = 0.805\n",
            " Average Recall     (AR) @[ IoU=0.50:0.95 | area=   all | maxDets=1000 ] = 0.805\n",
            " Average Recall     (AR) @[ IoU=0.50:0.95 | area= small | maxDets=1000 ] = -1.000\n",
            " Average Recall     (AR) @[ IoU=0.50:0.95 | area=medium | maxDets=1000 ] = -1.000\n",
            " Average Recall     (AR) @[ IoU=0.50:0.95 | area= large | maxDets=1000 ] = 0.805\n",
            "\n",
            "2022-05-09 07:26:25,078 - mmdet - INFO - Epoch(val) [46][100]\tbbox_mAP: 0.7030, bbox_mAP_50: 0.8700, bbox_mAP_75: 0.8260, bbox_mAP_s: -1.0000, bbox_mAP_m: -1.0000, bbox_mAP_l: 0.7030, bbox_mAP_copypaste: 0.703 0.870 0.826 -1.000 -1.000 0.703\n"
          ]
        },
        {
          "output_type": "stream",
          "name": "stdout",
          "text": [
            "DONE (t=0.03s).\n"
          ]
        },
        {
          "output_type": "stream",
          "name": "stderr",
          "text": [
            "2022-05-09 07:26:30,760 - mmdet - INFO - Epoch [47][10/100]\tlr: 2.000e-05, eta: 0:29:53, time: 0.563, data_time: 0.477, memory: 1182, loss_cls: 1.3001, loss_bbox: 0.2164, loss: 1.5165\n",
            "2022-05-09 07:26:34,472 - mmdet - INFO - Epoch [47][20/100]\tlr: 2.000e-05, eta: 0:29:50, time: 0.371, data_time: 0.285, memory: 1182, loss_cls: 1.1517, loss_bbox: 0.1670, loss: 1.3186\n",
            "2022-05-09 07:26:36,810 - mmdet - INFO - Epoch [47][30/100]\tlr: 2.000e-05, eta: 0:29:46, time: 0.234, data_time: 0.142, memory: 1182, loss_cls: 1.1446, loss_bbox: 0.1524, loss: 1.2969\n",
            "2022-05-09 07:26:39,984 - mmdet - INFO - Epoch [47][40/100]\tlr: 2.000e-05, eta: 0:29:42, time: 0.317, data_time: 0.226, memory: 1182, loss_cls: 1.2922, loss_bbox: 0.1802, loss: 1.4724\n",
            "2022-05-09 07:26:43,252 - mmdet - INFO - Epoch [47][50/100]\tlr: 2.000e-05, eta: 0:29:39, time: 0.327, data_time: 0.227, memory: 1182, loss_cls: 1.4493, loss_bbox: 0.2088, loss: 1.6581\n",
            "2022-05-09 07:26:46,132 - mmdet - INFO - Epoch [47][60/100]\tlr: 2.000e-05, eta: 0:29:35, time: 0.288, data_time: 0.197, memory: 1182, loss_cls: 1.0924, loss_bbox: 0.1889, loss: 1.2813\n",
            "2022-05-09 07:26:49,067 - mmdet - INFO - Epoch [47][70/100]\tlr: 2.000e-05, eta: 0:29:31, time: 0.294, data_time: 0.203, memory: 1182, loss_cls: 1.2937, loss_bbox: 0.2026, loss: 1.4963\n",
            "2022-05-09 07:26:51,685 - mmdet - INFO - Epoch [47][80/100]\tlr: 2.000e-05, eta: 0:29:27, time: 0.262, data_time: 0.168, memory: 1182, loss_cls: 1.2696, loss_bbox: 0.2527, loss: 1.5223\n",
            "2022-05-09 07:26:54,880 - mmdet - INFO - Epoch [47][90/100]\tlr: 2.000e-05, eta: 0:29:23, time: 0.320, data_time: 0.235, memory: 1182, loss_cls: 1.4666, loss_bbox: 0.2589, loss: 1.7255\n",
            "2022-05-09 07:26:58,158 - mmdet - INFO - Epoch [47][100/100]\tlr: 2.000e-05, eta: 0:29:20, time: 0.328, data_time: 0.238, memory: 1182, loss_cls: 1.5612, loss_bbox: 0.2257, loss: 1.7869\n",
            "2022-05-09 07:26:58,225 - mmdet - INFO - Saving checkpoint at 47 epochs\n"
          ]
        },
        {
          "output_type": "stream",
          "name": "stdout",
          "text": [
            "[>>>>>>>>>>>>>>>>>>>>>>>>>>>>>>] 100/100, 36.5 task/s, elapsed: 3s, ETA:     0s"
          ]
        },
        {
          "output_type": "stream",
          "name": "stderr",
          "text": [
            "2022-05-09 07:27:01,739 - mmdet - INFO - Evaluating bbox...\n"
          ]
        },
        {
          "output_type": "stream",
          "name": "stdout",
          "text": [
            "Loading and preparing results...\n",
            "DONE (t=0.00s)\n",
            "creating index...\n",
            "index created!\n",
            "Running per image evaluation...\n",
            "Evaluate annotation type *bbox*\n",
            "DONE (t=0.08s).\n",
            "Accumulating evaluation results...\n"
          ]
        },
        {
          "output_type": "stream",
          "name": "stderr",
          "text": [
            "2022-05-09 07:27:01,871 - mmdet - INFO - \n",
            " Average Precision  (AP) @[ IoU=0.50:0.95 | area=   all | maxDets=100 ] = 0.710\n",
            " Average Precision  (AP) @[ IoU=0.50      | area=   all | maxDets=1000 ] = 0.871\n",
            " Average Precision  (AP) @[ IoU=0.75      | area=   all | maxDets=1000 ] = 0.832\n",
            " Average Precision  (AP) @[ IoU=0.50:0.95 | area= small | maxDets=1000 ] = -1.000\n",
            " Average Precision  (AP) @[ IoU=0.50:0.95 | area=medium | maxDets=1000 ] = -1.000\n",
            " Average Precision  (AP) @[ IoU=0.50:0.95 | area= large | maxDets=1000 ] = 0.710\n",
            " Average Recall     (AR) @[ IoU=0.50:0.95 | area=   all | maxDets=100 ] = 0.813\n",
            " Average Recall     (AR) @[ IoU=0.50:0.95 | area=   all | maxDets=300 ] = 0.813\n",
            " Average Recall     (AR) @[ IoU=0.50:0.95 | area=   all | maxDets=1000 ] = 0.813\n",
            " Average Recall     (AR) @[ IoU=0.50:0.95 | area= small | maxDets=1000 ] = -1.000\n",
            " Average Recall     (AR) @[ IoU=0.50:0.95 | area=medium | maxDets=1000 ] = -1.000\n",
            " Average Recall     (AR) @[ IoU=0.50:0.95 | area= large | maxDets=1000 ] = 0.813\n",
            "\n",
            "2022-05-09 07:27:01,874 - mmdet - INFO - Epoch(val) [47][100]\tbbox_mAP: 0.7100, bbox_mAP_50: 0.8710, bbox_mAP_75: 0.8320, bbox_mAP_s: -1.0000, bbox_mAP_m: -1.0000, bbox_mAP_l: 0.7100, bbox_mAP_copypaste: 0.710 0.871 0.832 -1.000 -1.000 0.710\n"
          ]
        },
        {
          "output_type": "stream",
          "name": "stdout",
          "text": [
            "DONE (t=0.04s).\n"
          ]
        },
        {
          "output_type": "stream",
          "name": "stderr",
          "text": [
            "2022-05-09 07:27:08,109 - mmdet - INFO - Epoch [48][10/100]\tlr: 2.000e-05, eta: 0:29:20, time: 0.618, data_time: 0.523, memory: 1182, loss_cls: 1.3869, loss_bbox: 0.3275, loss: 1.7144\n",
            "2022-05-09 07:27:11,552 - mmdet - INFO - Epoch [48][20/100]\tlr: 2.000e-05, eta: 0:29:17, time: 0.345, data_time: 0.247, memory: 1182, loss_cls: 1.1434, loss_bbox: 0.1330, loss: 1.2765\n",
            "2022-05-09 07:27:14,189 - mmdet - INFO - Epoch [48][30/100]\tlr: 2.000e-05, eta: 0:29:13, time: 0.264, data_time: 0.178, memory: 1182, loss_cls: 1.1539, loss_bbox: 0.1566, loss: 1.3105\n",
            "2022-05-09 07:27:16,967 - mmdet - INFO - Epoch [48][40/100]\tlr: 2.000e-05, eta: 0:29:09, time: 0.278, data_time: 0.186, memory: 1182, loss_cls: 1.2156, loss_bbox: 0.1590, loss: 1.3746\n",
            "2022-05-09 07:27:19,017 - mmdet - INFO - Epoch [48][50/100]\tlr: 2.000e-05, eta: 0:29:04, time: 0.205, data_time: 0.113, memory: 1182, loss_cls: 1.2309, loss_bbox: 0.1498, loss: 1.3807\n",
            "2022-05-09 07:27:22,266 - mmdet - INFO - Epoch [48][60/100]\tlr: 2.000e-05, eta: 0:29:01, time: 0.325, data_time: 0.230, memory: 1182, loss_cls: 1.5485, loss_bbox: 0.2447, loss: 1.7932\n",
            "2022-05-09 07:27:25,571 - mmdet - INFO - Epoch [48][70/100]\tlr: 2.000e-05, eta: 0:28:57, time: 0.330, data_time: 0.235, memory: 1182, loss_cls: 1.3042, loss_bbox: 0.1933, loss: 1.4974\n",
            "2022-05-09 07:27:28,965 - mmdet - INFO - Epoch [48][80/100]\tlr: 2.000e-05, eta: 0:28:54, time: 0.340, data_time: 0.244, memory: 1182, loss_cls: 1.3447, loss_bbox: 0.1741, loss: 1.5188\n",
            "2022-05-09 07:27:31,708 - mmdet - INFO - Epoch [48][90/100]\tlr: 2.000e-05, eta: 0:28:50, time: 0.274, data_time: 0.183, memory: 1182, loss_cls: 1.5566, loss_bbox: 0.2464, loss: 1.8030\n",
            "2022-05-09 07:27:34,307 - mmdet - INFO - Epoch [48][100/100]\tlr: 2.000e-05, eta: 0:28:46, time: 0.260, data_time: 0.171, memory: 1182, loss_cls: 1.1130, loss_bbox: 0.2262, loss: 1.3393\n",
            "2022-05-09 07:27:34,370 - mmdet - INFO - Saving checkpoint at 48 epochs\n"
          ]
        },
        {
          "output_type": "stream",
          "name": "stdout",
          "text": [
            "[>>>>>>>>>>>>>>>>>>>>>>>>>>>>>>] 100/100, 36.6 task/s, elapsed: 3s, ETA:     0s"
          ]
        },
        {
          "output_type": "stream",
          "name": "stderr",
          "text": [
            "2022-05-09 07:27:37,890 - mmdet - INFO - Evaluating bbox...\n"
          ]
        },
        {
          "output_type": "stream",
          "name": "stdout",
          "text": [
            "Loading and preparing results...\n",
            "DONE (t=0.00s)\n",
            "creating index...\n",
            "index created!\n",
            "Running per image evaluation...\n",
            "Evaluate annotation type *bbox*\n",
            "DONE (t=0.06s).\n",
            "Accumulating evaluation results...\n"
          ]
        },
        {
          "output_type": "stream",
          "name": "stderr",
          "text": [
            "2022-05-09 07:27:37,993 - mmdet - INFO - \n",
            " Average Precision  (AP) @[ IoU=0.50:0.95 | area=   all | maxDets=100 ] = 0.717\n",
            " Average Precision  (AP) @[ IoU=0.50      | area=   all | maxDets=1000 ] = 0.877\n",
            " Average Precision  (AP) @[ IoU=0.75      | area=   all | maxDets=1000 ] = 0.835\n",
            " Average Precision  (AP) @[ IoU=0.50:0.95 | area= small | maxDets=1000 ] = -1.000\n",
            " Average Precision  (AP) @[ IoU=0.50:0.95 | area=medium | maxDets=1000 ] = -1.000\n",
            " Average Precision  (AP) @[ IoU=0.50:0.95 | area= large | maxDets=1000 ] = 0.717\n",
            " Average Recall     (AR) @[ IoU=0.50:0.95 | area=   all | maxDets=100 ] = 0.820\n",
            " Average Recall     (AR) @[ IoU=0.50:0.95 | area=   all | maxDets=300 ] = 0.820\n",
            " Average Recall     (AR) @[ IoU=0.50:0.95 | area=   all | maxDets=1000 ] = 0.820\n",
            " Average Recall     (AR) @[ IoU=0.50:0.95 | area= small | maxDets=1000 ] = -1.000\n",
            " Average Recall     (AR) @[ IoU=0.50:0.95 | area=medium | maxDets=1000 ] = -1.000\n",
            " Average Recall     (AR) @[ IoU=0.50:0.95 | area= large | maxDets=1000 ] = 0.820\n",
            "\n"
          ]
        },
        {
          "output_type": "stream",
          "name": "stdout",
          "text": [
            "DONE (t=0.03s).\n"
          ]
        },
        {
          "output_type": "stream",
          "name": "stderr",
          "text": [
            "2022-05-09 07:27:37,996 - mmdet - INFO - Epoch(val) [48][100]\tbbox_mAP: 0.7170, bbox_mAP_50: 0.8770, bbox_mAP_75: 0.8350, bbox_mAP_s: -1.0000, bbox_mAP_m: -1.0000, bbox_mAP_l: 0.7170, bbox_mAP_copypaste: 0.717 0.877 0.835 -1.000 -1.000 0.717\n",
            "2022-05-09 07:27:44,166 - mmdet - INFO - Epoch [49][10/100]\tlr: 2.000e-05, eta: 0:28:46, time: 0.612, data_time: 0.516, memory: 1182, loss_cls: 1.1589, loss_bbox: 0.2208, loss: 1.3797\n",
            "2022-05-09 07:27:46,926 - mmdet - INFO - Epoch [49][20/100]\tlr: 2.000e-05, eta: 0:28:42, time: 0.275, data_time: 0.181, memory: 1182, loss_cls: 1.3669, loss_bbox: 0.1926, loss: 1.5595\n",
            "2022-05-09 07:27:50,822 - mmdet - INFO - Epoch [49][30/100]\tlr: 2.000e-05, eta: 0:28:39, time: 0.390, data_time: 0.298, memory: 1182, loss_cls: 1.3558, loss_bbox: 0.1965, loss: 1.5523\n",
            "2022-05-09 07:27:53,532 - mmdet - INFO - Epoch [49][40/100]\tlr: 2.000e-05, eta: 0:28:35, time: 0.271, data_time: 0.176, memory: 1182, loss_cls: 1.3012, loss_bbox: 0.2368, loss: 1.5380\n",
            "2022-05-09 07:27:56,666 - mmdet - INFO - Epoch [49][50/100]\tlr: 2.000e-05, eta: 0:28:31, time: 0.313, data_time: 0.223, memory: 1182, loss_cls: 1.4196, loss_bbox: 0.2186, loss: 1.6382\n",
            "2022-05-09 07:28:00,509 - mmdet - INFO - Epoch [49][60/100]\tlr: 2.000e-05, eta: 0:28:29, time: 0.384, data_time: 0.288, memory: 1182, loss_cls: 1.3586, loss_bbox: 0.2104, loss: 1.5690\n",
            "2022-05-09 07:28:03,101 - mmdet - INFO - Epoch [49][70/100]\tlr: 2.000e-05, eta: 0:28:25, time: 0.259, data_time: 0.168, memory: 1182, loss_cls: 1.2548, loss_bbox: 0.2056, loss: 1.4604\n",
            "2022-05-09 07:28:06,648 - mmdet - INFO - Epoch [49][80/100]\tlr: 2.000e-05, eta: 0:28:22, time: 0.355, data_time: 0.261, memory: 1182, loss_cls: 1.3987, loss_bbox: 0.1916, loss: 1.5903\n",
            "2022-05-09 07:28:08,738 - mmdet - INFO - Epoch [49][90/100]\tlr: 2.000e-05, eta: 0:28:17, time: 0.209, data_time: 0.108, memory: 1182, loss_cls: 1.3016, loss_bbox: 0.2151, loss: 1.5167\n",
            "2022-05-09 07:28:11,476 - mmdet - INFO - Epoch [49][100/100]\tlr: 2.000e-05, eta: 0:28:13, time: 0.273, data_time: 0.183, memory: 1182, loss_cls: 1.2129, loss_bbox: 0.1725, loss: 1.3854\n",
            "2022-05-09 07:28:11,544 - mmdet - INFO - Saving checkpoint at 49 epochs\n"
          ]
        },
        {
          "output_type": "stream",
          "name": "stdout",
          "text": [
            "[>>>>>>>>>>>>>>>>>>>>>>>>>>>>>>] 100/100, 33.3 task/s, elapsed: 3s, ETA:     0s"
          ]
        },
        {
          "output_type": "stream",
          "name": "stderr",
          "text": [
            "2022-05-09 07:28:15,440 - mmdet - INFO - Evaluating bbox...\n"
          ]
        },
        {
          "output_type": "stream",
          "name": "stdout",
          "text": [
            "Loading and preparing results...\n",
            "DONE (t=0.00s)\n",
            "creating index...\n",
            "index created!\n",
            "Running per image evaluation...\n",
            "Evaluate annotation type *bbox*\n",
            "DONE (t=0.07s).\n",
            "Accumulating evaluation results...\n"
          ]
        },
        {
          "output_type": "stream",
          "name": "stderr",
          "text": [
            "2022-05-09 07:28:15,548 - mmdet - INFO - \n",
            " Average Precision  (AP) @[ IoU=0.50:0.95 | area=   all | maxDets=100 ] = 0.710\n",
            " Average Precision  (AP) @[ IoU=0.50      | area=   all | maxDets=1000 ] = 0.875\n",
            " Average Precision  (AP) @[ IoU=0.75      | area=   all | maxDets=1000 ] = 0.835\n",
            " Average Precision  (AP) @[ IoU=0.50:0.95 | area= small | maxDets=1000 ] = -1.000\n",
            " Average Precision  (AP) @[ IoU=0.50:0.95 | area=medium | maxDets=1000 ] = -1.000\n",
            " Average Precision  (AP) @[ IoU=0.50:0.95 | area= large | maxDets=1000 ] = 0.710\n",
            " Average Recall     (AR) @[ IoU=0.50:0.95 | area=   all | maxDets=100 ] = 0.813\n",
            " Average Recall     (AR) @[ IoU=0.50:0.95 | area=   all | maxDets=300 ] = 0.813\n",
            " Average Recall     (AR) @[ IoU=0.50:0.95 | area=   all | maxDets=1000 ] = 0.813\n",
            " Average Recall     (AR) @[ IoU=0.50:0.95 | area= small | maxDets=1000 ] = -1.000\n",
            " Average Recall     (AR) @[ IoU=0.50:0.95 | area=medium | maxDets=1000 ] = -1.000\n",
            " Average Recall     (AR) @[ IoU=0.50:0.95 | area= large | maxDets=1000 ] = 0.813\n",
            "\n",
            "2022-05-09 07:28:15,550 - mmdet - INFO - Epoch(val) [49][100]\tbbox_mAP: 0.7100, bbox_mAP_50: 0.8750, bbox_mAP_75: 0.8350, bbox_mAP_s: -1.0000, bbox_mAP_m: -1.0000, bbox_mAP_l: 0.7100, bbox_mAP_copypaste: 0.710 0.875 0.835 -1.000 -1.000 0.710\n"
          ]
        },
        {
          "output_type": "stream",
          "name": "stdout",
          "text": [
            "DONE (t=0.03s).\n"
          ]
        },
        {
          "output_type": "stream",
          "name": "stderr",
          "text": [
            "2022-05-09 07:28:21,980 - mmdet - INFO - Epoch [50][10/100]\tlr: 2.000e-05, eta: 0:28:13, time: 0.637, data_time: 0.542, memory: 1182, loss_cls: 1.3201, loss_bbox: 0.2003, loss: 1.5204\n",
            "2022-05-09 07:28:25,055 - mmdet - INFO - Epoch [50][20/100]\tlr: 2.000e-05, eta: 0:28:09, time: 0.307, data_time: 0.222, memory: 1182, loss_cls: 1.2895, loss_bbox: 0.1776, loss: 1.4671\n",
            "2022-05-09 07:28:27,621 - mmdet - INFO - Epoch [50][30/100]\tlr: 2.000e-05, eta: 0:28:05, time: 0.256, data_time: 0.163, memory: 1182, loss_cls: 1.3087, loss_bbox: 0.1766, loss: 1.4852\n",
            "2022-05-09 07:28:31,609 - mmdet - INFO - Epoch [50][40/100]\tlr: 2.000e-05, eta: 0:28:02, time: 0.399, data_time: 0.304, memory: 1182, loss_cls: 1.6173, loss_bbox: 0.1802, loss: 1.7975\n",
            "2022-05-09 07:28:35,111 - mmdet - INFO - Epoch [50][50/100]\tlr: 2.000e-05, eta: 0:27:59, time: 0.350, data_time: 0.257, memory: 1182, loss_cls: 1.4147, loss_bbox: 0.1938, loss: 1.6084\n",
            "2022-05-09 07:28:37,707 - mmdet - INFO - Epoch [50][60/100]\tlr: 2.000e-05, eta: 0:27:55, time: 0.260, data_time: 0.180, memory: 1182, loss_cls: 1.2821, loss_bbox: 0.1408, loss: 1.4228\n",
            "2022-05-09 07:28:40,641 - mmdet - INFO - Epoch [50][70/100]\tlr: 2.000e-05, eta: 0:27:52, time: 0.293, data_time: 0.202, memory: 1182, loss_cls: 1.3735, loss_bbox: 0.2706, loss: 1.6441\n",
            "2022-05-09 07:28:44,061 - mmdet - INFO - Epoch [50][80/100]\tlr: 2.000e-05, eta: 0:27:48, time: 0.342, data_time: 0.248, memory: 1182, loss_cls: 1.2867, loss_bbox: 0.1989, loss: 1.4856\n",
            "2022-05-09 07:28:46,693 - mmdet - INFO - Epoch [50][90/100]\tlr: 2.000e-05, eta: 0:27:44, time: 0.263, data_time: 0.184, memory: 1182, loss_cls: 1.3428, loss_bbox: 0.2179, loss: 1.5606\n",
            "2022-05-09 07:28:49,153 - mmdet - INFO - Epoch [50][100/100]\tlr: 2.000e-05, eta: 0:27:40, time: 0.246, data_time: 0.160, memory: 1182, loss_cls: 1.0822, loss_bbox: 0.1798, loss: 1.2620\n",
            "2022-05-09 07:28:49,218 - mmdet - INFO - Saving checkpoint at 50 epochs\n"
          ]
        },
        {
          "output_type": "stream",
          "name": "stdout",
          "text": [
            "[>>>>>>>>>>>>>>>>>>>>>>>>>>>>>>] 100/100, 36.5 task/s, elapsed: 3s, ETA:     0s"
          ]
        },
        {
          "output_type": "stream",
          "name": "stderr",
          "text": [
            "2022-05-09 07:28:52,735 - mmdet - INFO - Evaluating bbox...\n"
          ]
        },
        {
          "output_type": "stream",
          "name": "stdout",
          "text": [
            "Loading and preparing results...\n",
            "DONE (t=0.00s)\n",
            "creating index...\n",
            "index created!\n",
            "Running per image evaluation...\n",
            "Evaluate annotation type *bbox*\n",
            "DONE (t=0.07s).\n",
            "Accumulating evaluation results...\n"
          ]
        },
        {
          "output_type": "stream",
          "name": "stderr",
          "text": [
            "2022-05-09 07:28:52,842 - mmdet - INFO - \n",
            " Average Precision  (AP) @[ IoU=0.50:0.95 | area=   all | maxDets=100 ] = 0.711\n",
            " Average Precision  (AP) @[ IoU=0.50      | area=   all | maxDets=1000 ] = 0.878\n",
            " Average Precision  (AP) @[ IoU=0.75      | area=   all | maxDets=1000 ] = 0.832\n",
            " Average Precision  (AP) @[ IoU=0.50:0.95 | area= small | maxDets=1000 ] = -1.000\n",
            " Average Precision  (AP) @[ IoU=0.50:0.95 | area=medium | maxDets=1000 ] = -1.000\n",
            " Average Precision  (AP) @[ IoU=0.50:0.95 | area= large | maxDets=1000 ] = 0.711\n",
            " Average Recall     (AR) @[ IoU=0.50:0.95 | area=   all | maxDets=100 ] = 0.811\n",
            " Average Recall     (AR) @[ IoU=0.50:0.95 | area=   all | maxDets=300 ] = 0.811\n",
            " Average Recall     (AR) @[ IoU=0.50:0.95 | area=   all | maxDets=1000 ] = 0.811\n",
            " Average Recall     (AR) @[ IoU=0.50:0.95 | area= small | maxDets=1000 ] = -1.000\n",
            " Average Recall     (AR) @[ IoU=0.50:0.95 | area=medium | maxDets=1000 ] = -1.000\n",
            " Average Recall     (AR) @[ IoU=0.50:0.95 | area= large | maxDets=1000 ] = 0.811\n",
            "\n",
            "2022-05-09 07:28:52,845 - mmdet - INFO - Epoch(val) [50][100]\tbbox_mAP: 0.7110, bbox_mAP_50: 0.8780, bbox_mAP_75: 0.8320, bbox_mAP_s: -1.0000, bbox_mAP_m: -1.0000, bbox_mAP_l: 0.7110, bbox_mAP_copypaste: 0.711 0.878 0.832 -1.000 -1.000 0.711\n"
          ]
        },
        {
          "output_type": "stream",
          "name": "stdout",
          "text": [
            "DONE (t=0.03s).\n"
          ]
        },
        {
          "output_type": "stream",
          "name": "stderr",
          "text": [
            "2022-05-09 07:28:59,209 - mmdet - INFO - Epoch [51][10/100]\tlr: 2.000e-05, eta: 0:27:40, time: 0.631, data_time: 0.536, memory: 1182, loss_cls: 1.3134, loss_bbox: 0.2244, loss: 1.5377\n",
            "2022-05-09 07:29:03,229 - mmdet - INFO - Epoch [51][20/100]\tlr: 2.000e-05, eta: 0:27:37, time: 0.402, data_time: 0.309, memory: 1182, loss_cls: 1.2028, loss_bbox: 0.1793, loss: 1.3821\n",
            "2022-05-09 07:29:05,193 - mmdet - INFO - Epoch [51][30/100]\tlr: 2.000e-05, eta: 0:27:32, time: 0.196, data_time: 0.101, memory: 1182, loss_cls: 1.0954, loss_bbox: 0.2025, loss: 1.2979\n",
            "2022-05-09 07:29:08,305 - mmdet - INFO - Epoch [51][40/100]\tlr: 2.000e-05, eta: 0:27:29, time: 0.311, data_time: 0.214, memory: 1182, loss_cls: 1.1600, loss_bbox: 0.2027, loss: 1.3627\n",
            "2022-05-09 07:29:11,898 - mmdet - INFO - Epoch [51][50/100]\tlr: 2.000e-05, eta: 0:27:26, time: 0.359, data_time: 0.269, memory: 1182, loss_cls: 1.4487, loss_bbox: 0.2160, loss: 1.6647\n",
            "2022-05-09 07:29:14,604 - mmdet - INFO - Epoch [51][60/100]\tlr: 2.000e-05, eta: 0:27:22, time: 0.271, data_time: 0.168, memory: 1182, loss_cls: 1.3902, loss_bbox: 0.2376, loss: 1.6278\n",
            "2022-05-09 07:29:17,138 - mmdet - INFO - Epoch [51][70/100]\tlr: 2.000e-05, eta: 0:27:18, time: 0.254, data_time: 0.162, memory: 1182, loss_cls: 1.1766, loss_bbox: 0.1405, loss: 1.3171\n",
            "2022-05-09 07:29:20,260 - mmdet - INFO - Epoch [51][80/100]\tlr: 2.000e-05, eta: 0:27:14, time: 0.312, data_time: 0.214, memory: 1182, loss_cls: 1.3803, loss_bbox: 0.2167, loss: 1.5970\n",
            "2022-05-09 07:29:23,981 - mmdet - INFO - Epoch [51][90/100]\tlr: 2.000e-05, eta: 0:27:11, time: 0.372, data_time: 0.278, memory: 1182, loss_cls: 1.3924, loss_bbox: 0.2416, loss: 1.6341\n",
            "2022-05-09 07:29:26,311 - mmdet - INFO - Epoch [51][100/100]\tlr: 2.000e-05, eta: 0:27:07, time: 0.233, data_time: 0.147, memory: 1182, loss_cls: 1.5571, loss_bbox: 0.1749, loss: 1.7320\n",
            "2022-05-09 07:29:26,377 - mmdet - INFO - Saving checkpoint at 51 epochs\n"
          ]
        },
        {
          "output_type": "stream",
          "name": "stdout",
          "text": [
            "[>>>>>>>>>>>>>>>>>>>>>>>>>>>>>>] 100/100, 36.4 task/s, elapsed: 3s, ETA:     0s"
          ]
        },
        {
          "output_type": "stream",
          "name": "stderr",
          "text": [
            "2022-05-09 07:29:29,897 - mmdet - INFO - Evaluating bbox...\n"
          ]
        },
        {
          "output_type": "stream",
          "name": "stdout",
          "text": [
            "Loading and preparing results...\n",
            "DONE (t=0.00s)\n",
            "creating index...\n",
            "index created!\n",
            "Running per image evaluation...\n",
            "Evaluate annotation type *bbox*\n",
            "DONE (t=0.06s).\n",
            "Accumulating evaluation results...\n"
          ]
        },
        {
          "output_type": "stream",
          "name": "stderr",
          "text": [
            "2022-05-09 07:29:30,003 - mmdet - INFO - \n",
            " Average Precision  (AP) @[ IoU=0.50:0.95 | area=   all | maxDets=100 ] = 0.715\n",
            " Average Precision  (AP) @[ IoU=0.50      | area=   all | maxDets=1000 ] = 0.873\n",
            " Average Precision  (AP) @[ IoU=0.75      | area=   all | maxDets=1000 ] = 0.827\n",
            " Average Precision  (AP) @[ IoU=0.50:0.95 | area= small | maxDets=1000 ] = -1.000\n",
            " Average Precision  (AP) @[ IoU=0.50:0.95 | area=medium | maxDets=1000 ] = -1.000\n",
            " Average Precision  (AP) @[ IoU=0.50:0.95 | area= large | maxDets=1000 ] = 0.715\n",
            " Average Recall     (AR) @[ IoU=0.50:0.95 | area=   all | maxDets=100 ] = 0.818\n",
            " Average Recall     (AR) @[ IoU=0.50:0.95 | area=   all | maxDets=300 ] = 0.818\n",
            " Average Recall     (AR) @[ IoU=0.50:0.95 | area=   all | maxDets=1000 ] = 0.818\n",
            " Average Recall     (AR) @[ IoU=0.50:0.95 | area= small | maxDets=1000 ] = -1.000\n",
            " Average Recall     (AR) @[ IoU=0.50:0.95 | area=medium | maxDets=1000 ] = -1.000\n",
            " Average Recall     (AR) @[ IoU=0.50:0.95 | area= large | maxDets=1000 ] = 0.818\n",
            "\n",
            "2022-05-09 07:29:30,005 - mmdet - INFO - Epoch(val) [51][100]\tbbox_mAP: 0.7150, bbox_mAP_50: 0.8730, bbox_mAP_75: 0.8270, bbox_mAP_s: -1.0000, bbox_mAP_m: -1.0000, bbox_mAP_l: 0.7150, bbox_mAP_copypaste: 0.715 0.873 0.827 -1.000 -1.000 0.715\n"
          ]
        },
        {
          "output_type": "stream",
          "name": "stdout",
          "text": [
            "DONE (t=0.04s).\n"
          ]
        },
        {
          "output_type": "stream",
          "name": "stderr",
          "text": [
            "2022-05-09 07:29:36,719 - mmdet - INFO - Epoch [52][10/100]\tlr: 2.000e-05, eta: 0:27:07, time: 0.666, data_time: 0.570, memory: 1182, loss_cls: 1.2678, loss_bbox: 0.2263, loss: 1.4941\n",
            "2022-05-09 07:29:39,880 - mmdet - INFO - Epoch [52][20/100]\tlr: 2.000e-05, eta: 0:27:03, time: 0.316, data_time: 0.224, memory: 1182, loss_cls: 1.5785, loss_bbox: 0.2977, loss: 1.8762\n",
            "2022-05-09 07:29:42,251 - mmdet - INFO - Epoch [52][30/100]\tlr: 2.000e-05, eta: 0:26:59, time: 0.237, data_time: 0.147, memory: 1182, loss_cls: 1.2052, loss_bbox: 0.2032, loss: 1.4084\n",
            "2022-05-09 07:29:45,253 - mmdet - INFO - Epoch [52][40/100]\tlr: 2.000e-05, eta: 0:26:56, time: 0.300, data_time: 0.215, memory: 1182, loss_cls: 1.1570, loss_bbox: 0.1794, loss: 1.3364\n",
            "2022-05-09 07:29:49,822 - mmdet - INFO - Epoch [52][50/100]\tlr: 2.000e-05, eta: 0:26:53, time: 0.457, data_time: 0.373, memory: 1182, loss_cls: 1.3338, loss_bbox: 0.1325, loss: 1.4663\n",
            "2022-05-09 07:29:52,985 - mmdet - INFO - Epoch [52][60/100]\tlr: 2.000e-05, eta: 0:26:50, time: 0.316, data_time: 0.226, memory: 1182, loss_cls: 1.3478, loss_bbox: 0.2772, loss: 1.6250\n",
            "2022-05-09 07:29:56,143 - mmdet - INFO - Epoch [52][70/100]\tlr: 2.000e-05, eta: 0:26:46, time: 0.316, data_time: 0.226, memory: 1182, loss_cls: 1.1510, loss_bbox: 0.1597, loss: 1.3107\n",
            "2022-05-09 07:29:59,125 - mmdet - INFO - Epoch [52][80/100]\tlr: 2.000e-05, eta: 0:26:43, time: 0.298, data_time: 0.203, memory: 1182, loss_cls: 1.2319, loss_bbox: 0.1951, loss: 1.4270\n",
            "2022-05-09 07:30:01,988 - mmdet - INFO - Epoch [52][90/100]\tlr: 2.000e-05, eta: 0:26:39, time: 0.286, data_time: 0.190, memory: 1182, loss_cls: 1.5438, loss_bbox: 0.2350, loss: 1.7788\n",
            "2022-05-09 07:30:04,309 - mmdet - INFO - Epoch [52][100/100]\tlr: 2.000e-05, eta: 0:26:35, time: 0.232, data_time: 0.138, memory: 1182, loss_cls: 1.2232, loss_bbox: 0.2606, loss: 1.4838\n",
            "2022-05-09 07:30:04,373 - mmdet - INFO - Saving checkpoint at 52 epochs\n"
          ]
        },
        {
          "output_type": "stream",
          "name": "stdout",
          "text": [
            "[>>>>>>>>>>>>>>>>>>>>>>>>>>>>>>] 100/100, 34.6 task/s, elapsed: 3s, ETA:     0s"
          ]
        },
        {
          "output_type": "stream",
          "name": "stderr",
          "text": [
            "2022-05-09 07:30:08,041 - mmdet - INFO - Evaluating bbox...\n"
          ]
        },
        {
          "output_type": "stream",
          "name": "stdout",
          "text": [
            "Loading and preparing results...\n",
            "DONE (t=0.00s)\n",
            "creating index...\n",
            "index created!\n",
            "Running per image evaluation...\n",
            "Evaluate annotation type *bbox*\n",
            "DONE (t=0.08s).\n",
            "Accumulating evaluation results...\n"
          ]
        },
        {
          "output_type": "stream",
          "name": "stderr",
          "text": [
            "2022-05-09 07:30:08,168 - mmdet - INFO - \n",
            " Average Precision  (AP) @[ IoU=0.50:0.95 | area=   all | maxDets=100 ] = 0.712\n",
            " Average Precision  (AP) @[ IoU=0.50      | area=   all | maxDets=1000 ] = 0.872\n",
            " Average Precision  (AP) @[ IoU=0.75      | area=   all | maxDets=1000 ] = 0.827\n",
            " Average Precision  (AP) @[ IoU=0.50:0.95 | area= small | maxDets=1000 ] = -1.000\n",
            " Average Precision  (AP) @[ IoU=0.50:0.95 | area=medium | maxDets=1000 ] = -1.000\n",
            " Average Precision  (AP) @[ IoU=0.50:0.95 | area= large | maxDets=1000 ] = 0.712\n",
            " Average Recall     (AR) @[ IoU=0.50:0.95 | area=   all | maxDets=100 ] = 0.813\n",
            " Average Recall     (AR) @[ IoU=0.50:0.95 | area=   all | maxDets=300 ] = 0.813\n",
            " Average Recall     (AR) @[ IoU=0.50:0.95 | area=   all | maxDets=1000 ] = 0.813\n",
            " Average Recall     (AR) @[ IoU=0.50:0.95 | area= small | maxDets=1000 ] = -1.000\n",
            " Average Recall     (AR) @[ IoU=0.50:0.95 | area=medium | maxDets=1000 ] = -1.000\n",
            " Average Recall     (AR) @[ IoU=0.50:0.95 | area= large | maxDets=1000 ] = 0.813\n",
            "\n",
            "2022-05-09 07:30:08,171 - mmdet - INFO - Epoch(val) [52][100]\tbbox_mAP: 0.7120, bbox_mAP_50: 0.8720, bbox_mAP_75: 0.8270, bbox_mAP_s: -1.0000, bbox_mAP_m: -1.0000, bbox_mAP_l: 0.7120, bbox_mAP_copypaste: 0.712 0.872 0.827 -1.000 -1.000 0.712\n"
          ]
        },
        {
          "output_type": "stream",
          "name": "stdout",
          "text": [
            "DONE (t=0.04s).\n"
          ]
        },
        {
          "output_type": "stream",
          "name": "stderr",
          "text": [
            "2022-05-09 07:30:14,812 - mmdet - INFO - Epoch [53][10/100]\tlr: 2.000e-05, eta: 0:26:34, time: 0.658, data_time: 0.560, memory: 1182, loss_cls: 1.0370, loss_bbox: 0.1395, loss: 1.1765\n",
            "2022-05-09 07:30:18,080 - mmdet - INFO - Epoch [53][20/100]\tlr: 2.000e-05, eta: 0:26:31, time: 0.327, data_time: 0.231, memory: 1182, loss_cls: 1.5325, loss_bbox: 0.1814, loss: 1.7139\n",
            "2022-05-09 07:30:21,921 - mmdet - INFO - Epoch [53][30/100]\tlr: 2.000e-05, eta: 0:26:28, time: 0.384, data_time: 0.297, memory: 1182, loss_cls: 1.5590, loss_bbox: 0.2268, loss: 1.7858\n",
            "2022-05-09 07:30:23,902 - mmdet - INFO - Epoch [53][40/100]\tlr: 2.000e-05, eta: 0:26:24, time: 0.198, data_time: 0.101, memory: 1182, loss_cls: 1.2852, loss_bbox: 0.2244, loss: 1.5095\n",
            "2022-05-09 07:30:27,765 - mmdet - INFO - Epoch [53][50/100]\tlr: 2.000e-05, eta: 0:26:21, time: 0.387, data_time: 0.295, memory: 1182, loss_cls: 1.0871, loss_bbox: 0.1240, loss: 1.2111\n",
            "2022-05-09 07:30:30,998 - mmdet - INFO - Epoch [53][60/100]\tlr: 2.000e-05, eta: 0:26:17, time: 0.323, data_time: 0.231, memory: 1182, loss_cls: 1.1194, loss_bbox: 0.2184, loss: 1.3378\n",
            "2022-05-09 07:30:33,611 - mmdet - INFO - Epoch [53][70/100]\tlr: 2.000e-05, eta: 0:26:13, time: 0.261, data_time: 0.174, memory: 1182, loss_cls: 1.4768, loss_bbox: 0.2753, loss: 1.7521\n",
            "2022-05-09 07:30:37,073 - mmdet - INFO - Epoch [53][80/100]\tlr: 2.000e-05, eta: 0:26:10, time: 0.346, data_time: 0.262, memory: 1182, loss_cls: 1.3855, loss_bbox: 0.2801, loss: 1.6656\n",
            "2022-05-09 07:30:39,752 - mmdet - INFO - Epoch [53][90/100]\tlr: 2.000e-05, eta: 0:26:06, time: 0.268, data_time: 0.172, memory: 1182, loss_cls: 1.1192, loss_bbox: 0.1597, loss: 1.2790\n",
            "2022-05-09 07:30:42,808 - mmdet - INFO - Epoch [53][100/100]\tlr: 2.000e-05, eta: 0:26:03, time: 0.305, data_time: 0.217, memory: 1182, loss_cls: 1.3857, loss_bbox: 0.2254, loss: 1.6111\n",
            "2022-05-09 07:30:42,870 - mmdet - INFO - Saving checkpoint at 53 epochs\n"
          ]
        },
        {
          "output_type": "stream",
          "name": "stdout",
          "text": [
            "[>>>>>>>>>>>>>>>>>>>>>>>>>>>>>>] 100/100, 36.3 task/s, elapsed: 3s, ETA:     0s"
          ]
        },
        {
          "output_type": "stream",
          "name": "stderr",
          "text": [
            "2022-05-09 07:30:46,390 - mmdet - INFO - Evaluating bbox...\n"
          ]
        },
        {
          "output_type": "stream",
          "name": "stdout",
          "text": [
            "Loading and preparing results...\n",
            "DONE (t=0.00s)\n",
            "creating index...\n",
            "index created!\n",
            "Running per image evaluation...\n",
            "Evaluate annotation type *bbox*\n",
            "DONE (t=0.07s).\n",
            "Accumulating evaluation results...\n"
          ]
        },
        {
          "output_type": "stream",
          "name": "stderr",
          "text": [
            "2022-05-09 07:30:46,512 - mmdet - INFO - \n",
            " Average Precision  (AP) @[ IoU=0.50:0.95 | area=   all | maxDets=100 ] = 0.714\n",
            " Average Precision  (AP) @[ IoU=0.50      | area=   all | maxDets=1000 ] = 0.872\n",
            " Average Precision  (AP) @[ IoU=0.75      | area=   all | maxDets=1000 ] = 0.827\n",
            " Average Precision  (AP) @[ IoU=0.50:0.95 | area= small | maxDets=1000 ] = -1.000\n",
            " Average Precision  (AP) @[ IoU=0.50:0.95 | area=medium | maxDets=1000 ] = -1.000\n",
            " Average Precision  (AP) @[ IoU=0.50:0.95 | area= large | maxDets=1000 ] = 0.714\n",
            " Average Recall     (AR) @[ IoU=0.50:0.95 | area=   all | maxDets=100 ] = 0.815\n",
            " Average Recall     (AR) @[ IoU=0.50:0.95 | area=   all | maxDets=300 ] = 0.815\n",
            " Average Recall     (AR) @[ IoU=0.50:0.95 | area=   all | maxDets=1000 ] = 0.815\n",
            " Average Recall     (AR) @[ IoU=0.50:0.95 | area= small | maxDets=1000 ] = -1.000\n",
            " Average Recall     (AR) @[ IoU=0.50:0.95 | area=medium | maxDets=1000 ] = -1.000\n",
            " Average Recall     (AR) @[ IoU=0.50:0.95 | area= large | maxDets=1000 ] = 0.815\n",
            "\n",
            "2022-05-09 07:30:46,516 - mmdet - INFO - Epoch(val) [53][100]\tbbox_mAP: 0.7140, bbox_mAP_50: 0.8720, bbox_mAP_75: 0.8270, bbox_mAP_s: -1.0000, bbox_mAP_m: -1.0000, bbox_mAP_l: 0.7140, bbox_mAP_copypaste: 0.714 0.872 0.827 -1.000 -1.000 0.714\n"
          ]
        },
        {
          "output_type": "stream",
          "name": "stdout",
          "text": [
            "DONE (t=0.04s).\n"
          ]
        },
        {
          "output_type": "stream",
          "name": "stderr",
          "text": [
            "2022-05-09 07:30:53,077 - mmdet - INFO - Epoch [54][10/100]\tlr: 2.000e-05, eta: 0:26:02, time: 0.650, data_time: 0.557, memory: 1182, loss_cls: 1.3051, loss_bbox: 0.2323, loss: 1.5374\n",
            "2022-05-09 07:30:55,822 - mmdet - INFO - Epoch [54][20/100]\tlr: 2.000e-05, eta: 0:25:58, time: 0.274, data_time: 0.179, memory: 1182, loss_cls: 1.1614, loss_bbox: 0.1708, loss: 1.3322\n",
            "2022-05-09 07:30:58,498 - mmdet - INFO - Epoch [54][30/100]\tlr: 2.000e-05, eta: 0:25:55, time: 0.268, data_time: 0.172, memory: 1182, loss_cls: 1.2805, loss_bbox: 0.1796, loss: 1.4601\n",
            "2022-05-09 07:31:02,037 - mmdet - INFO - Epoch [54][40/100]\tlr: 2.000e-05, eta: 0:25:51, time: 0.353, data_time: 0.259, memory: 1182, loss_cls: 1.0891, loss_bbox: 0.1614, loss: 1.2505\n",
            "2022-05-09 07:31:04,378 - mmdet - INFO - Epoch [54][50/100]\tlr: 2.000e-05, eta: 0:25:47, time: 0.234, data_time: 0.144, memory: 1182, loss_cls: 1.3083, loss_bbox: 0.2590, loss: 1.5673\n",
            "2022-05-09 07:31:07,389 - mmdet - INFO - Epoch [54][60/100]\tlr: 2.000e-05, eta: 0:25:44, time: 0.301, data_time: 0.206, memory: 1182, loss_cls: 1.5336, loss_bbox: 0.2542, loss: 1.7877\n",
            "2022-05-09 07:31:10,326 - mmdet - INFO - Epoch [54][70/100]\tlr: 2.000e-05, eta: 0:25:40, time: 0.294, data_time: 0.204, memory: 1182, loss_cls: 1.1011, loss_bbox: 0.1744, loss: 1.2755\n",
            "2022-05-09 07:31:13,712 - mmdet - INFO - Epoch [54][80/100]\tlr: 2.000e-05, eta: 0:25:37, time: 0.338, data_time: 0.250, memory: 1182, loss_cls: 1.2883, loss_bbox: 0.1782, loss: 1.4665\n",
            "2022-05-09 07:31:16,741 - mmdet - INFO - Epoch [54][90/100]\tlr: 2.000e-05, eta: 0:25:33, time: 0.303, data_time: 0.207, memory: 1182, loss_cls: 1.4818, loss_bbox: 0.2194, loss: 1.7012\n",
            "2022-05-09 07:31:19,726 - mmdet - INFO - Epoch [54][100/100]\tlr: 2.000e-05, eta: 0:25:29, time: 0.298, data_time: 0.208, memory: 1182, loss_cls: 1.2314, loss_bbox: 0.2021, loss: 1.4335\n",
            "2022-05-09 07:31:19,790 - mmdet - INFO - Saving checkpoint at 54 epochs\n"
          ]
        },
        {
          "output_type": "stream",
          "name": "stdout",
          "text": [
            "[>>>>>>>>>>>>>>>>>>>>>>>>>>>>>>] 100/100, 36.1 task/s, elapsed: 3s, ETA:     0s"
          ]
        },
        {
          "output_type": "stream",
          "name": "stderr",
          "text": [
            "2022-05-09 07:31:23,325 - mmdet - INFO - Evaluating bbox...\n"
          ]
        },
        {
          "output_type": "stream",
          "name": "stdout",
          "text": [
            "Loading and preparing results...\n",
            "DONE (t=0.00s)\n",
            "creating index...\n",
            "index created!\n",
            "Running per image evaluation...\n",
            "Evaluate annotation type *bbox*\n",
            "DONE (t=0.07s).\n",
            "Accumulating evaluation results...\n"
          ]
        },
        {
          "output_type": "stream",
          "name": "stderr",
          "text": [
            "2022-05-09 07:31:23,431 - mmdet - INFO - \n",
            " Average Precision  (AP) @[ IoU=0.50:0.95 | area=   all | maxDets=100 ] = 0.717\n",
            " Average Precision  (AP) @[ IoU=0.50      | area=   all | maxDets=1000 ] = 0.876\n",
            " Average Precision  (AP) @[ IoU=0.75      | area=   all | maxDets=1000 ] = 0.831\n",
            " Average Precision  (AP) @[ IoU=0.50:0.95 | area= small | maxDets=1000 ] = -1.000\n",
            " Average Precision  (AP) @[ IoU=0.50:0.95 | area=medium | maxDets=1000 ] = -1.000\n",
            " Average Precision  (AP) @[ IoU=0.50:0.95 | area= large | maxDets=1000 ] = 0.717\n",
            " Average Recall     (AR) @[ IoU=0.50:0.95 | area=   all | maxDets=100 ] = 0.811\n",
            " Average Recall     (AR) @[ IoU=0.50:0.95 | area=   all | maxDets=300 ] = 0.811\n",
            " Average Recall     (AR) @[ IoU=0.50:0.95 | area=   all | maxDets=1000 ] = 0.811\n",
            " Average Recall     (AR) @[ IoU=0.50:0.95 | area= small | maxDets=1000 ] = -1.000\n",
            " Average Recall     (AR) @[ IoU=0.50:0.95 | area=medium | maxDets=1000 ] = -1.000\n",
            " Average Recall     (AR) @[ IoU=0.50:0.95 | area= large | maxDets=1000 ] = 0.811\n",
            "\n",
            "2022-05-09 07:31:23,434 - mmdet - INFO - Epoch(val) [54][100]\tbbox_mAP: 0.7170, bbox_mAP_50: 0.8760, bbox_mAP_75: 0.8310, bbox_mAP_s: -1.0000, bbox_mAP_m: -1.0000, bbox_mAP_l: 0.7170, bbox_mAP_copypaste: 0.717 0.876 0.831 -1.000 -1.000 0.717\n"
          ]
        },
        {
          "output_type": "stream",
          "name": "stdout",
          "text": [
            "DONE (t=0.03s).\n"
          ]
        },
        {
          "output_type": "stream",
          "name": "stderr",
          "text": [
            "2022-05-09 07:31:30,194 - mmdet - INFO - Epoch [55][10/100]\tlr: 2.000e-05, eta: 0:25:29, time: 0.670, data_time: 0.580, memory: 1182, loss_cls: 1.1669, loss_bbox: 0.2050, loss: 1.3720\n",
            "2022-05-09 07:31:32,387 - mmdet - INFO - Epoch [55][20/100]\tlr: 2.000e-05, eta: 0:25:25, time: 0.219, data_time: 0.127, memory: 1182, loss_cls: 1.0249, loss_bbox: 0.1191, loss: 1.1440\n",
            "2022-05-09 07:31:35,447 - mmdet - INFO - Epoch [55][30/100]\tlr: 2.000e-05, eta: 0:25:21, time: 0.306, data_time: 0.211, memory: 1182, loss_cls: 1.3018, loss_bbox: 0.1463, loss: 1.4481\n",
            "2022-05-09 07:31:38,533 - mmdet - INFO - Epoch [55][40/100]\tlr: 2.000e-05, eta: 0:25:18, time: 0.308, data_time: 0.214, memory: 1182, loss_cls: 1.2864, loss_bbox: 0.1794, loss: 1.4658\n",
            "2022-05-09 07:31:40,932 - mmdet - INFO - Epoch [55][50/100]\tlr: 2.000e-05, eta: 0:25:13, time: 0.240, data_time: 0.144, memory: 1182, loss_cls: 1.4162, loss_bbox: 0.1428, loss: 1.5589\n",
            "2022-05-09 07:31:43,867 - mmdet - INFO - Epoch [55][60/100]\tlr: 2.000e-05, eta: 0:25:10, time: 0.293, data_time: 0.199, memory: 1182, loss_cls: 1.3932, loss_bbox: 0.2110, loss: 1.6042\n",
            "2022-05-09 07:31:46,842 - mmdet - INFO - Epoch [55][70/100]\tlr: 2.000e-05, eta: 0:25:06, time: 0.298, data_time: 0.205, memory: 1182, loss_cls: 1.2864, loss_bbox: 0.1948, loss: 1.4812\n",
            "2022-05-09 07:31:51,077 - mmdet - INFO - Epoch [55][80/100]\tlr: 2.000e-05, eta: 0:25:04, time: 0.423, data_time: 0.333, memory: 1182, loss_cls: 1.3153, loss_bbox: 0.1846, loss: 1.4998\n",
            "2022-05-09 07:31:53,922 - mmdet - INFO - Epoch [55][90/100]\tlr: 2.000e-05, eta: 0:25:00, time: 0.284, data_time: 0.194, memory: 1182, loss_cls: 1.3730, loss_bbox: 0.1913, loss: 1.5642\n",
            "2022-05-09 07:31:56,176 - mmdet - INFO - Epoch [55][100/100]\tlr: 2.000e-05, eta: 0:24:56, time: 0.225, data_time: 0.132, memory: 1182, loss_cls: 1.2306, loss_bbox: 0.2245, loss: 1.4551\n",
            "2022-05-09 07:31:56,243 - mmdet - INFO - Saving checkpoint at 55 epochs\n"
          ]
        },
        {
          "output_type": "stream",
          "name": "stdout",
          "text": [
            "[>>>>>>>>>>>>>>>>>>>>>>>>>>>>>>] 100/100, 36.1 task/s, elapsed: 3s, ETA:     0s"
          ]
        },
        {
          "output_type": "stream",
          "name": "stderr",
          "text": [
            "2022-05-09 07:31:59,778 - mmdet - INFO - Evaluating bbox...\n"
          ]
        },
        {
          "output_type": "stream",
          "name": "stdout",
          "text": [
            "Loading and preparing results...\n",
            "DONE (t=0.00s)\n",
            "creating index...\n",
            "index created!\n",
            "Running per image evaluation...\n",
            "Evaluate annotation type *bbox*\n",
            "DONE (t=0.07s).\n",
            "Accumulating evaluation results...\n"
          ]
        },
        {
          "output_type": "stream",
          "name": "stderr",
          "text": [
            "2022-05-09 07:31:59,891 - mmdet - INFO - \n",
            " Average Precision  (AP) @[ IoU=0.50:0.95 | area=   all | maxDets=100 ] = 0.714\n",
            " Average Precision  (AP) @[ IoU=0.50      | area=   all | maxDets=1000 ] = 0.874\n",
            " Average Precision  (AP) @[ IoU=0.75      | area=   all | maxDets=1000 ] = 0.828\n",
            " Average Precision  (AP) @[ IoU=0.50:0.95 | area= small | maxDets=1000 ] = -1.000\n",
            " Average Precision  (AP) @[ IoU=0.50:0.95 | area=medium | maxDets=1000 ] = -1.000\n",
            " Average Precision  (AP) @[ IoU=0.50:0.95 | area= large | maxDets=1000 ] = 0.714\n",
            " Average Recall     (AR) @[ IoU=0.50:0.95 | area=   all | maxDets=100 ] = 0.810\n",
            " Average Recall     (AR) @[ IoU=0.50:0.95 | area=   all | maxDets=300 ] = 0.810\n",
            " Average Recall     (AR) @[ IoU=0.50:0.95 | area=   all | maxDets=1000 ] = 0.810\n",
            " Average Recall     (AR) @[ IoU=0.50:0.95 | area= small | maxDets=1000 ] = -1.000\n",
            " Average Recall     (AR) @[ IoU=0.50:0.95 | area=medium | maxDets=1000 ] = -1.000\n",
            " Average Recall     (AR) @[ IoU=0.50:0.95 | area= large | maxDets=1000 ] = 0.810\n",
            "\n",
            "2022-05-09 07:31:59,893 - mmdet - INFO - Epoch(val) [55][100]\tbbox_mAP: 0.7140, bbox_mAP_50: 0.8740, bbox_mAP_75: 0.8280, bbox_mAP_s: -1.0000, bbox_mAP_m: -1.0000, bbox_mAP_l: 0.7140, bbox_mAP_copypaste: 0.714 0.874 0.828 -1.000 -1.000 0.714\n"
          ]
        },
        {
          "output_type": "stream",
          "name": "stdout",
          "text": [
            "DONE (t=0.04s).\n"
          ]
        },
        {
          "output_type": "stream",
          "name": "stderr",
          "text": [
            "2022-05-09 07:32:05,836 - mmdet - INFO - Epoch [56][10/100]\tlr: 2.000e-05, eta: 0:24:54, time: 0.589, data_time: 0.494, memory: 1182, loss_cls: 1.2261, loss_bbox: 0.1808, loss: 1.4069\n",
            "2022-05-09 07:32:09,660 - mmdet - INFO - Epoch [56][20/100]\tlr: 2.000e-05, eta: 0:24:52, time: 0.383, data_time: 0.284, memory: 1182, loss_cls: 1.2082, loss_bbox: 0.1603, loss: 1.3685\n",
            "2022-05-09 07:32:13,152 - mmdet - INFO - Epoch [56][30/100]\tlr: 2.000e-05, eta: 0:24:48, time: 0.349, data_time: 0.252, memory: 1182, loss_cls: 1.2769, loss_bbox: 0.1897, loss: 1.4665\n",
            "2022-05-09 07:32:15,633 - mmdet - INFO - Epoch [56][40/100]\tlr: 2.000e-05, eta: 0:24:44, time: 0.248, data_time: 0.153, memory: 1182, loss_cls: 1.6605, loss_bbox: 0.2756, loss: 1.9361\n",
            "2022-05-09 07:32:18,713 - mmdet - INFO - Epoch [56][50/100]\tlr: 2.000e-05, eta: 0:24:41, time: 0.308, data_time: 0.215, memory: 1182, loss_cls: 1.2565, loss_bbox: 0.2173, loss: 1.4737\n",
            "2022-05-09 07:32:22,309 - mmdet - INFO - Epoch [56][60/100]\tlr: 2.000e-05, eta: 0:24:38, time: 0.360, data_time: 0.274, memory: 1182, loss_cls: 1.4008, loss_bbox: 0.2754, loss: 1.6762\n",
            "2022-05-09 07:32:25,124 - mmdet - INFO - Epoch [56][70/100]\tlr: 2.000e-05, eta: 0:24:34, time: 0.282, data_time: 0.182, memory: 1182, loss_cls: 1.1340, loss_bbox: 0.1965, loss: 1.3305\n",
            "2022-05-09 07:32:27,888 - mmdet - INFO - Epoch [56][80/100]\tlr: 2.000e-05, eta: 0:24:30, time: 0.276, data_time: 0.182, memory: 1182, loss_cls: 1.7013, loss_bbox: 0.1958, loss: 1.8970\n",
            "2022-05-09 07:32:31,045 - mmdet - INFO - Epoch [56][90/100]\tlr: 2.000e-05, eta: 0:24:27, time: 0.316, data_time: 0.224, memory: 1182, loss_cls: 1.1969, loss_bbox: 0.1573, loss: 1.3542\n",
            "2022-05-09 07:32:33,399 - mmdet - INFO - Epoch [56][100/100]\tlr: 2.000e-05, eta: 0:24:23, time: 0.235, data_time: 0.155, memory: 1182, loss_cls: 1.2143, loss_bbox: 0.2171, loss: 1.4314\n",
            "2022-05-09 07:32:33,463 - mmdet - INFO - Saving checkpoint at 56 epochs\n"
          ]
        },
        {
          "output_type": "stream",
          "name": "stdout",
          "text": [
            "[>>>>>>>>>>>>>>>>>>>>>>>>>>>>>>] 100/100, 36.5 task/s, elapsed: 3s, ETA:     0s"
          ]
        },
        {
          "output_type": "stream",
          "name": "stderr",
          "text": [
            "2022-05-09 07:32:36,965 - mmdet - INFO - Evaluating bbox...\n"
          ]
        },
        {
          "output_type": "stream",
          "name": "stdout",
          "text": [
            "Loading and preparing results...\n",
            "DONE (t=0.00s)\n",
            "creating index...\n",
            "index created!\n",
            "Running per image evaluation...\n",
            "Evaluate annotation type *bbox*\n",
            "DONE (t=0.07s).\n",
            "Accumulating evaluation results...\n"
          ]
        },
        {
          "output_type": "stream",
          "name": "stderr",
          "text": [
            "2022-05-09 07:32:37,084 - mmdet - INFO - \n",
            " Average Precision  (AP) @[ IoU=0.50:0.95 | area=   all | maxDets=100 ] = 0.713\n",
            " Average Precision  (AP) @[ IoU=0.50      | area=   all | maxDets=1000 ] = 0.873\n",
            " Average Precision  (AP) @[ IoU=0.75      | area=   all | maxDets=1000 ] = 0.827\n",
            " Average Precision  (AP) @[ IoU=0.50:0.95 | area= small | maxDets=1000 ] = -1.000\n",
            " Average Precision  (AP) @[ IoU=0.50:0.95 | area=medium | maxDets=1000 ] = -1.000\n",
            " Average Precision  (AP) @[ IoU=0.50:0.95 | area= large | maxDets=1000 ] = 0.713\n",
            " Average Recall     (AR) @[ IoU=0.50:0.95 | area=   all | maxDets=100 ] = 0.812\n",
            " Average Recall     (AR) @[ IoU=0.50:0.95 | area=   all | maxDets=300 ] = 0.812\n",
            " Average Recall     (AR) @[ IoU=0.50:0.95 | area=   all | maxDets=1000 ] = 0.812\n",
            " Average Recall     (AR) @[ IoU=0.50:0.95 | area= small | maxDets=1000 ] = -1.000\n",
            " Average Recall     (AR) @[ IoU=0.50:0.95 | area=medium | maxDets=1000 ] = -1.000\n",
            " Average Recall     (AR) @[ IoU=0.50:0.95 | area= large | maxDets=1000 ] = 0.812\n",
            "\n",
            "2022-05-09 07:32:37,087 - mmdet - INFO - Epoch(val) [56][100]\tbbox_mAP: 0.7130, bbox_mAP_50: 0.8730, bbox_mAP_75: 0.8270, bbox_mAP_s: -1.0000, bbox_mAP_m: -1.0000, bbox_mAP_l: 0.7130, bbox_mAP_copypaste: 0.713 0.873 0.827 -1.000 -1.000 0.713\n"
          ]
        },
        {
          "output_type": "stream",
          "name": "stdout",
          "text": [
            "DONE (t=0.04s).\n"
          ]
        },
        {
          "output_type": "stream",
          "name": "stderr",
          "text": [
            "2022-05-09 07:32:44,072 - mmdet - INFO - Epoch [57][10/100]\tlr: 2.000e-05, eta: 0:24:22, time: 0.693, data_time: 0.597, memory: 1182, loss_cls: 1.3116, loss_bbox: 0.2409, loss: 1.5525\n",
            "2022-05-09 07:32:46,567 - mmdet - INFO - Epoch [57][20/100]\tlr: 2.000e-05, eta: 0:24:18, time: 0.250, data_time: 0.154, memory: 1182, loss_cls: 1.0139, loss_bbox: 0.1537, loss: 1.1676\n",
            "2022-05-09 07:32:49,581 - mmdet - INFO - Epoch [57][30/100]\tlr: 2.000e-05, eta: 0:24:15, time: 0.302, data_time: 0.208, memory: 1182, loss_cls: 1.2119, loss_bbox: 0.1660, loss: 1.3779\n",
            "2022-05-09 07:32:53,156 - mmdet - INFO - Epoch [57][40/100]\tlr: 2.000e-05, eta: 0:24:11, time: 0.358, data_time: 0.269, memory: 1182, loss_cls: 1.1722, loss_bbox: 0.1997, loss: 1.3718\n",
            "2022-05-09 07:32:55,468 - mmdet - INFO - Epoch [57][50/100]\tlr: 2.000e-05, eta: 0:24:07, time: 0.231, data_time: 0.136, memory: 1182, loss_cls: 1.1493, loss_bbox: 0.2077, loss: 1.3570\n",
            "2022-05-09 07:32:58,483 - mmdet - INFO - Epoch [57][60/100]\tlr: 2.000e-05, eta: 0:24:04, time: 0.301, data_time: 0.211, memory: 1182, loss_cls: 1.4525, loss_bbox: 0.2195, loss: 1.6720\n",
            "2022-05-09 07:33:01,349 - mmdet - INFO - Epoch [57][70/100]\tlr: 2.000e-05, eta: 0:24:00, time: 0.287, data_time: 0.194, memory: 1182, loss_cls: 1.3104, loss_bbox: 0.1922, loss: 1.5026\n",
            "2022-05-09 07:33:04,344 - mmdet - INFO - Epoch [57][80/100]\tlr: 2.000e-05, eta: 0:23:56, time: 0.299, data_time: 0.205, memory: 1182, loss_cls: 1.1943, loss_bbox: 0.1957, loss: 1.3900\n",
            "2022-05-09 07:33:08,582 - mmdet - INFO - Epoch [57][90/100]\tlr: 2.000e-05, eta: 0:23:54, time: 0.424, data_time: 0.331, memory: 1182, loss_cls: 1.5743, loss_bbox: 0.2392, loss: 1.8134\n",
            "2022-05-09 07:33:10,115 - mmdet - INFO - Epoch [57][100/100]\tlr: 2.000e-05, eta: 0:23:49, time: 0.153, data_time: 0.053, memory: 1182, loss_cls: 1.1880, loss_bbox: 0.1861, loss: 1.3741\n",
            "2022-05-09 07:33:10,187 - mmdet - INFO - Saving checkpoint at 57 epochs\n"
          ]
        },
        {
          "output_type": "stream",
          "name": "stdout",
          "text": [
            "[>>>>>>>>>>>>>>>>>>>>>>>>>>>>>>] 100/100, 33.4 task/s, elapsed: 3s, ETA:     0s"
          ]
        },
        {
          "output_type": "stream",
          "name": "stderr",
          "text": [
            "2022-05-09 07:33:13,999 - mmdet - INFO - Evaluating bbox...\n"
          ]
        },
        {
          "output_type": "stream",
          "name": "stdout",
          "text": [
            "Loading and preparing results...\n",
            "DONE (t=0.00s)\n",
            "creating index...\n",
            "index created!\n",
            "Running per image evaluation...\n",
            "Evaluate annotation type *bbox*\n",
            "DONE (t=0.07s).\n",
            "Accumulating evaluation results...\n"
          ]
        },
        {
          "output_type": "stream",
          "name": "stderr",
          "text": [
            "2022-05-09 07:33:14,129 - mmdet - INFO - \n",
            " Average Precision  (AP) @[ IoU=0.50:0.95 | area=   all | maxDets=100 ] = 0.719\n",
            " Average Precision  (AP) @[ IoU=0.50      | area=   all | maxDets=1000 ] = 0.872\n",
            " Average Precision  (AP) @[ IoU=0.75      | area=   all | maxDets=1000 ] = 0.826\n",
            " Average Precision  (AP) @[ IoU=0.50:0.95 | area= small | maxDets=1000 ] = -1.000\n",
            " Average Precision  (AP) @[ IoU=0.50:0.95 | area=medium | maxDets=1000 ] = -1.000\n",
            " Average Precision  (AP) @[ IoU=0.50:0.95 | area= large | maxDets=1000 ] = 0.719\n",
            " Average Recall     (AR) @[ IoU=0.50:0.95 | area=   all | maxDets=100 ] = 0.818\n",
            " Average Recall     (AR) @[ IoU=0.50:0.95 | area=   all | maxDets=300 ] = 0.818\n",
            " Average Recall     (AR) @[ IoU=0.50:0.95 | area=   all | maxDets=1000 ] = 0.818\n",
            " Average Recall     (AR) @[ IoU=0.50:0.95 | area= small | maxDets=1000 ] = -1.000\n",
            " Average Recall     (AR) @[ IoU=0.50:0.95 | area=medium | maxDets=1000 ] = -1.000\n",
            " Average Recall     (AR) @[ IoU=0.50:0.95 | area= large | maxDets=1000 ] = 0.818\n",
            "\n",
            "2022-05-09 07:33:14,132 - mmdet - INFO - Epoch(val) [57][100]\tbbox_mAP: 0.7190, bbox_mAP_50: 0.8720, bbox_mAP_75: 0.8260, bbox_mAP_s: -1.0000, bbox_mAP_m: -1.0000, bbox_mAP_l: 0.7190, bbox_mAP_copypaste: 0.719 0.872 0.826 -1.000 -1.000 0.719\n"
          ]
        },
        {
          "output_type": "stream",
          "name": "stdout",
          "text": [
            "DONE (t=0.05s).\n"
          ]
        },
        {
          "output_type": "stream",
          "name": "stderr",
          "text": [
            "2022-05-09 07:33:20,876 - mmdet - INFO - Epoch [58][10/100]\tlr: 2.000e-05, eta: 0:23:48, time: 0.669, data_time: 0.576, memory: 1182, loss_cls: 1.4064, loss_bbox: 0.2265, loss: 1.6329\n",
            "2022-05-09 07:33:23,730 - mmdet - INFO - Epoch [58][20/100]\tlr: 2.000e-05, eta: 0:23:45, time: 0.286, data_time: 0.200, memory: 1182, loss_cls: 1.2179, loss_bbox: 0.2484, loss: 1.4662\n",
            "2022-05-09 07:33:26,987 - mmdet - INFO - Epoch [58][30/100]\tlr: 2.000e-05, eta: 0:23:41, time: 0.326, data_time: 0.238, memory: 1182, loss_cls: 1.1809, loss_bbox: 0.1652, loss: 1.3460\n",
            "2022-05-09 07:33:29,343 - mmdet - INFO - Epoch [58][40/100]\tlr: 2.000e-05, eta: 0:23:37, time: 0.236, data_time: 0.142, memory: 1182, loss_cls: 1.3758, loss_bbox: 0.2314, loss: 1.6072\n",
            "2022-05-09 07:33:33,120 - mmdet - INFO - Epoch [58][50/100]\tlr: 2.000e-05, eta: 0:23:34, time: 0.378, data_time: 0.284, memory: 1182, loss_cls: 1.5098, loss_bbox: 0.2096, loss: 1.7194\n",
            "2022-05-09 07:33:35,604 - mmdet - INFO - Epoch [58][60/100]\tlr: 2.000e-05, eta: 0:23:30, time: 0.248, data_time: 0.150, memory: 1182, loss_cls: 1.0582, loss_bbox: 0.1234, loss: 1.1816\n",
            "2022-05-09 07:33:38,712 - mmdet - INFO - Epoch [58][70/100]\tlr: 2.000e-05, eta: 0:23:27, time: 0.311, data_time: 0.229, memory: 1182, loss_cls: 1.2351, loss_bbox: 0.2348, loss: 1.4699\n",
            "2022-05-09 07:33:41,179 - mmdet - INFO - Epoch [58][80/100]\tlr: 2.000e-05, eta: 0:23:23, time: 0.247, data_time: 0.160, memory: 1182, loss_cls: 1.1272, loss_bbox: 0.1379, loss: 1.2650\n",
            "2022-05-09 07:33:44,298 - mmdet - INFO - Epoch [58][90/100]\tlr: 2.000e-05, eta: 0:23:19, time: 0.312, data_time: 0.218, memory: 1182, loss_cls: 1.1280, loss_bbox: 0.1583, loss: 1.2864\n",
            "2022-05-09 07:33:47,419 - mmdet - INFO - Epoch [58][100/100]\tlr: 2.000e-05, eta: 0:23:16, time: 0.312, data_time: 0.222, memory: 1182, loss_cls: 1.5174, loss_bbox: 0.2274, loss: 1.7448\n",
            "2022-05-09 07:33:47,482 - mmdet - INFO - Saving checkpoint at 58 epochs\n"
          ]
        },
        {
          "output_type": "stream",
          "name": "stdout",
          "text": [
            "[>>>>>>>>>>>>>>>>>>>>>>>>>>>>>>] 100/100, 36.2 task/s, elapsed: 3s, ETA:     0s"
          ]
        },
        {
          "output_type": "stream",
          "name": "stderr",
          "text": [
            "2022-05-09 07:33:50,993 - mmdet - INFO - Evaluating bbox...\n"
          ]
        },
        {
          "output_type": "stream",
          "name": "stdout",
          "text": [
            "Loading and preparing results...\n",
            "DONE (t=0.00s)\n",
            "creating index...\n",
            "index created!\n",
            "Running per image evaluation...\n",
            "Evaluate annotation type *bbox*\n"
          ]
        },
        {
          "output_type": "stream",
          "name": "stderr",
          "text": [
            "2022-05-09 07:33:51,254 - mmdet - INFO - \n",
            " Average Precision  (AP) @[ IoU=0.50:0.95 | area=   all | maxDets=100 ] = 0.714\n",
            " Average Precision  (AP) @[ IoU=0.50      | area=   all | maxDets=1000 ] = 0.874\n",
            " Average Precision  (AP) @[ IoU=0.75      | area=   all | maxDets=1000 ] = 0.828\n",
            " Average Precision  (AP) @[ IoU=0.50:0.95 | area= small | maxDets=1000 ] = -1.000\n",
            " Average Precision  (AP) @[ IoU=0.50:0.95 | area=medium | maxDets=1000 ] = -1.000\n",
            " Average Precision  (AP) @[ IoU=0.50:0.95 | area= large | maxDets=1000 ] = 0.714\n",
            " Average Recall     (AR) @[ IoU=0.50:0.95 | area=   all | maxDets=100 ] = 0.811\n",
            " Average Recall     (AR) @[ IoU=0.50:0.95 | area=   all | maxDets=300 ] = 0.811\n",
            " Average Recall     (AR) @[ IoU=0.50:0.95 | area=   all | maxDets=1000 ] = 0.811\n",
            " Average Recall     (AR) @[ IoU=0.50:0.95 | area= small | maxDets=1000 ] = -1.000\n",
            " Average Recall     (AR) @[ IoU=0.50:0.95 | area=medium | maxDets=1000 ] = -1.000\n",
            " Average Recall     (AR) @[ IoU=0.50:0.95 | area= large | maxDets=1000 ] = 0.811\n",
            "\n",
            "2022-05-09 07:33:51,257 - mmdet - INFO - Epoch(val) [58][100]\tbbox_mAP: 0.7140, bbox_mAP_50: 0.8740, bbox_mAP_75: 0.8280, bbox_mAP_s: -1.0000, bbox_mAP_m: -1.0000, bbox_mAP_l: 0.7140, bbox_mAP_copypaste: 0.714 0.874 0.828 -1.000 -1.000 0.714\n"
          ]
        },
        {
          "output_type": "stream",
          "name": "stdout",
          "text": [
            "DONE (t=0.23s).\n",
            "Accumulating evaluation results...\n",
            "DONE (t=0.03s).\n"
          ]
        },
        {
          "output_type": "stream",
          "name": "stderr",
          "text": [
            "2022-05-09 07:33:57,398 - mmdet - INFO - Epoch [59][10/100]\tlr: 2.000e-05, eta: 0:23:15, time: 0.609, data_time: 0.512, memory: 1182, loss_cls: 1.2840, loss_bbox: 0.2038, loss: 1.4878\n",
            "2022-05-09 07:34:00,275 - mmdet - INFO - Epoch [59][20/100]\tlr: 2.000e-05, eta: 0:23:11, time: 0.287, data_time: 0.187, memory: 1182, loss_cls: 1.1250, loss_bbox: 0.1706, loss: 1.2956\n",
            "2022-05-09 07:34:03,312 - mmdet - INFO - Epoch [59][30/100]\tlr: 2.000e-05, eta: 0:23:07, time: 0.304, data_time: 0.221, memory: 1182, loss_cls: 1.2956, loss_bbox: 0.1856, loss: 1.4812\n",
            "2022-05-09 07:34:06,671 - mmdet - INFO - Epoch [59][40/100]\tlr: 2.000e-05, eta: 0:23:04, time: 0.336, data_time: 0.240, memory: 1182, loss_cls: 1.2043, loss_bbox: 0.1502, loss: 1.3545\n",
            "2022-05-09 07:34:09,730 - mmdet - INFO - Epoch [59][50/100]\tlr: 2.000e-05, eta: 0:23:01, time: 0.306, data_time: 0.216, memory: 1182, loss_cls: 1.3215, loss_bbox: 0.1781, loss: 1.4996\n",
            "2022-05-09 07:34:12,593 - mmdet - INFO - Epoch [59][60/100]\tlr: 2.000e-05, eta: 0:22:57, time: 0.286, data_time: 0.193, memory: 1182, loss_cls: 1.0891, loss_bbox: 0.1536, loss: 1.2427\n",
            "2022-05-09 07:34:15,665 - mmdet - INFO - Epoch [59][70/100]\tlr: 2.000e-05, eta: 0:22:53, time: 0.307, data_time: 0.208, memory: 1182, loss_cls: 1.2237, loss_bbox: 0.1925, loss: 1.4162\n",
            "2022-05-09 07:34:18,083 - mmdet - INFO - Epoch [59][80/100]\tlr: 2.000e-05, eta: 0:22:49, time: 0.242, data_time: 0.146, memory: 1182, loss_cls: 1.2783, loss_bbox: 0.2559, loss: 1.5342\n",
            "2022-05-09 07:34:21,098 - mmdet - INFO - Epoch [59][90/100]\tlr: 2.000e-05, eta: 0:22:46, time: 0.302, data_time: 0.207, memory: 1182, loss_cls: 1.2531, loss_bbox: 0.1916, loss: 1.4447\n",
            "2022-05-09 07:34:23,638 - mmdet - INFO - Epoch [59][100/100]\tlr: 2.000e-05, eta: 0:22:42, time: 0.254, data_time: 0.174, memory: 1182, loss_cls: 1.3793, loss_bbox: 0.2099, loss: 1.5891\n",
            "2022-05-09 07:34:23,703 - mmdet - INFO - Saving checkpoint at 59 epochs\n"
          ]
        },
        {
          "output_type": "stream",
          "name": "stdout",
          "text": [
            "[>>>>>>>>>>>>>>>>>>>>>>>>>>>>>>] 100/100, 35.9 task/s, elapsed: 3s, ETA:     0s"
          ]
        },
        {
          "output_type": "stream",
          "name": "stderr",
          "text": [
            "2022-05-09 07:34:27,253 - mmdet - INFO - Evaluating bbox...\n"
          ]
        },
        {
          "output_type": "stream",
          "name": "stdout",
          "text": [
            "Loading and preparing results...\n",
            "DONE (t=0.00s)\n",
            "creating index...\n",
            "index created!\n",
            "Running per image evaluation...\n",
            "Evaluate annotation type *bbox*\n",
            "DONE (t=0.07s).\n",
            "Accumulating evaluation results...\n"
          ]
        },
        {
          "output_type": "stream",
          "name": "stderr",
          "text": [
            "2022-05-09 07:34:27,364 - mmdet - INFO - \n",
            " Average Precision  (AP) @[ IoU=0.50:0.95 | area=   all | maxDets=100 ] = 0.714\n",
            " Average Precision  (AP) @[ IoU=0.50      | area=   all | maxDets=1000 ] = 0.869\n",
            " Average Precision  (AP) @[ IoU=0.75      | area=   all | maxDets=1000 ] = 0.823\n",
            " Average Precision  (AP) @[ IoU=0.50:0.95 | area= small | maxDets=1000 ] = -1.000\n",
            " Average Precision  (AP) @[ IoU=0.50:0.95 | area=medium | maxDets=1000 ] = -1.000\n",
            " Average Precision  (AP) @[ IoU=0.50:0.95 | area= large | maxDets=1000 ] = 0.714\n",
            " Average Recall     (AR) @[ IoU=0.50:0.95 | area=   all | maxDets=100 ] = 0.816\n",
            " Average Recall     (AR) @[ IoU=0.50:0.95 | area=   all | maxDets=300 ] = 0.816\n",
            " Average Recall     (AR) @[ IoU=0.50:0.95 | area=   all | maxDets=1000 ] = 0.816\n",
            " Average Recall     (AR) @[ IoU=0.50:0.95 | area= small | maxDets=1000 ] = -1.000\n",
            " Average Recall     (AR) @[ IoU=0.50:0.95 | area=medium | maxDets=1000 ] = -1.000\n",
            " Average Recall     (AR) @[ IoU=0.50:0.95 | area= large | maxDets=1000 ] = 0.816\n",
            "\n",
            "2022-05-09 07:34:27,366 - mmdet - INFO - Epoch(val) [59][100]\tbbox_mAP: 0.7140, bbox_mAP_50: 0.8690, bbox_mAP_75: 0.8230, bbox_mAP_s: -1.0000, bbox_mAP_m: -1.0000, bbox_mAP_l: 0.7140, bbox_mAP_copypaste: 0.714 0.869 0.823 -1.000 -1.000 0.714\n"
          ]
        },
        {
          "output_type": "stream",
          "name": "stdout",
          "text": [
            "DONE (t=0.03s).\n"
          ]
        },
        {
          "output_type": "stream",
          "name": "stderr",
          "text": [
            "2022-05-09 07:34:33,235 - mmdet - INFO - Epoch [60][10/100]\tlr: 2.000e-05, eta: 0:22:40, time: 0.581, data_time: 0.489, memory: 1182, loss_cls: 1.2611, loss_bbox: 0.1583, loss: 1.4194\n",
            "2022-05-09 07:34:36,644 - mmdet - INFO - Epoch [60][20/100]\tlr: 2.000e-05, eta: 0:22:37, time: 0.341, data_time: 0.254, memory: 1182, loss_cls: 1.3962, loss_bbox: 0.2188, loss: 1.6151\n",
            "2022-05-09 07:34:39,077 - mmdet - INFO - Epoch [60][30/100]\tlr: 2.000e-05, eta: 0:22:33, time: 0.243, data_time: 0.153, memory: 1182, loss_cls: 1.4838, loss_bbox: 0.2562, loss: 1.7400\n",
            "2022-05-09 07:34:42,208 - mmdet - INFO - Epoch [60][40/100]\tlr: 2.000e-05, eta: 0:22:30, time: 0.313, data_time: 0.231, memory: 1182, loss_cls: 1.4501, loss_bbox: 0.1610, loss: 1.6111\n",
            "2022-05-09 07:34:45,864 - mmdet - INFO - Epoch [60][50/100]\tlr: 2.000e-05, eta: 0:22:27, time: 0.366, data_time: 0.276, memory: 1182, loss_cls: 1.3462, loss_bbox: 0.2219, loss: 1.5680\n",
            "2022-05-09 07:34:48,881 - mmdet - INFO - Epoch [60][60/100]\tlr: 2.000e-05, eta: 0:22:23, time: 0.302, data_time: 0.213, memory: 1182, loss_cls: 1.1775, loss_bbox: 0.2198, loss: 1.3972\n",
            "2022-05-09 07:34:52,514 - mmdet - INFO - Epoch [60][70/100]\tlr: 2.000e-05, eta: 0:22:20, time: 0.363, data_time: 0.270, memory: 1182, loss_cls: 1.1390, loss_bbox: 0.1816, loss: 1.3207\n",
            "2022-05-09 07:34:55,530 - mmdet - INFO - Epoch [60][80/100]\tlr: 2.000e-05, eta: 0:22:16, time: 0.302, data_time: 0.209, memory: 1182, loss_cls: 1.0300, loss_bbox: 0.1221, loss: 1.1522\n",
            "2022-05-09 07:34:58,518 - mmdet - INFO - Epoch [60][90/100]\tlr: 2.000e-05, eta: 0:22:13, time: 0.299, data_time: 0.202, memory: 1182, loss_cls: 1.3214, loss_bbox: 0.2313, loss: 1.5527\n",
            "2022-05-09 07:35:01,341 - mmdet - INFO - Epoch [60][100/100]\tlr: 2.000e-05, eta: 0:22:09, time: 0.282, data_time: 0.192, memory: 1182, loss_cls: 1.2094, loss_bbox: 0.1705, loss: 1.3799\n",
            "2022-05-09 07:35:01,405 - mmdet - INFO - Saving checkpoint at 60 epochs\n"
          ]
        },
        {
          "output_type": "stream",
          "name": "stdout",
          "text": [
            "[>>>>>>>>>>>>>>>>>>>>>>>>>>>>>>] 100/100, 36.2 task/s, elapsed: 3s, ETA:     0s"
          ]
        },
        {
          "output_type": "stream",
          "name": "stderr",
          "text": [
            "2022-05-09 07:35:04,931 - mmdet - INFO - Evaluating bbox...\n"
          ]
        },
        {
          "output_type": "stream",
          "name": "stdout",
          "text": [
            "Loading and preparing results...\n",
            "DONE (t=0.00s)\n",
            "creating index...\n",
            "index created!\n",
            "Running per image evaluation...\n",
            "Evaluate annotation type *bbox*\n",
            "DONE (t=0.06s).\n",
            "Accumulating evaluation results...\n"
          ]
        },
        {
          "output_type": "stream",
          "name": "stderr",
          "text": [
            "2022-05-09 07:35:05,035 - mmdet - INFO - \n",
            " Average Precision  (AP) @[ IoU=0.50:0.95 | area=   all | maxDets=100 ] = 0.721\n",
            " Average Precision  (AP) @[ IoU=0.50      | area=   all | maxDets=1000 ] = 0.875\n",
            " Average Precision  (AP) @[ IoU=0.75      | area=   all | maxDets=1000 ] = 0.828\n",
            " Average Precision  (AP) @[ IoU=0.50:0.95 | area= small | maxDets=1000 ] = -1.000\n",
            " Average Precision  (AP) @[ IoU=0.50:0.95 | area=medium | maxDets=1000 ] = -1.000\n",
            " Average Precision  (AP) @[ IoU=0.50:0.95 | area= large | maxDets=1000 ] = 0.721\n",
            " Average Recall     (AR) @[ IoU=0.50:0.95 | area=   all | maxDets=100 ] = 0.818\n",
            " Average Recall     (AR) @[ IoU=0.50:0.95 | area=   all | maxDets=300 ] = 0.818\n",
            " Average Recall     (AR) @[ IoU=0.50:0.95 | area=   all | maxDets=1000 ] = 0.818\n",
            " Average Recall     (AR) @[ IoU=0.50:0.95 | area= small | maxDets=1000 ] = -1.000\n",
            " Average Recall     (AR) @[ IoU=0.50:0.95 | area=medium | maxDets=1000 ] = -1.000\n",
            " Average Recall     (AR) @[ IoU=0.50:0.95 | area= large | maxDets=1000 ] = 0.818\n",
            "\n",
            "2022-05-09 07:35:05,039 - mmdet - INFO - Epoch(val) [60][100]\tbbox_mAP: 0.7210, bbox_mAP_50: 0.8750, bbox_mAP_75: 0.8280, bbox_mAP_s: -1.0000, bbox_mAP_m: -1.0000, bbox_mAP_l: 0.7210, bbox_mAP_copypaste: 0.721 0.875 0.828 -1.000 -1.000 0.721\n"
          ]
        },
        {
          "output_type": "stream",
          "name": "stdout",
          "text": [
            "DONE (t=0.03s).\n"
          ]
        },
        {
          "output_type": "stream",
          "name": "stderr",
          "text": [
            "2022-05-09 07:35:12,316 - mmdet - INFO - Epoch [61][10/100]\tlr: 2.000e-05, eta: 0:22:08, time: 0.722, data_time: 0.624, memory: 1182, loss_cls: 1.5013, loss_bbox: 0.2041, loss: 1.7054\n",
            "2022-05-09 07:35:15,518 - mmdet - INFO - Epoch [61][20/100]\tlr: 2.000e-05, eta: 0:22:05, time: 0.320, data_time: 0.228, memory: 1182, loss_cls: 0.8687, loss_bbox: 0.1579, loss: 1.0266\n",
            "2022-05-09 07:35:19,259 - mmdet - INFO - Epoch [61][30/100]\tlr: 2.000e-05, eta: 0:22:02, time: 0.374, data_time: 0.287, memory: 1182, loss_cls: 1.3431, loss_bbox: 0.2529, loss: 1.5959\n",
            "2022-05-09 07:35:21,950 - mmdet - INFO - Epoch [61][40/100]\tlr: 2.000e-05, eta: 0:21:58, time: 0.269, data_time: 0.174, memory: 1182, loss_cls: 1.4257, loss_bbox: 0.2300, loss: 1.6558\n",
            "2022-05-09 07:35:25,144 - mmdet - INFO - Epoch [61][50/100]\tlr: 2.000e-05, eta: 0:21:55, time: 0.319, data_time: 0.238, memory: 1182, loss_cls: 1.5104, loss_bbox: 0.2378, loss: 1.7481\n",
            "2022-05-09 07:35:28,184 - mmdet - INFO - Epoch [61][60/100]\tlr: 2.000e-05, eta: 0:21:51, time: 0.304, data_time: 0.208, memory: 1182, loss_cls: 1.4533, loss_bbox: 0.1725, loss: 1.6258\n",
            "2022-05-09 07:35:30,619 - mmdet - INFO - Epoch [61][70/100]\tlr: 2.000e-05, eta: 0:21:47, time: 0.243, data_time: 0.149, memory: 1182, loss_cls: 0.9855, loss_bbox: 0.1305, loss: 1.1160\n",
            "2022-05-09 07:35:33,053 - mmdet - INFO - Epoch [61][80/100]\tlr: 2.000e-05, eta: 0:21:43, time: 0.243, data_time: 0.157, memory: 1182, loss_cls: 1.1647, loss_bbox: 0.2476, loss: 1.4123\n",
            "2022-05-09 07:35:37,566 - mmdet - INFO - Epoch [61][90/100]\tlr: 2.000e-05, eta: 0:21:41, time: 0.451, data_time: 0.360, memory: 1182, loss_cls: 1.2857, loss_bbox: 0.1767, loss: 1.4624\n",
            "2022-05-09 07:35:40,075 - mmdet - INFO - Epoch [61][100/100]\tlr: 2.000e-05, eta: 0:21:37, time: 0.251, data_time: 0.170, memory: 1182, loss_cls: 1.3798, loss_bbox: 0.1955, loss: 1.5753\n",
            "2022-05-09 07:35:40,139 - mmdet - INFO - Saving checkpoint at 61 epochs\n"
          ]
        },
        {
          "output_type": "stream",
          "name": "stdout",
          "text": [
            "[>>>>>>>>>>>>>>>>>>>>>>>>>>>>>>] 100/100, 36.1 task/s, elapsed: 3s, ETA:     0s"
          ]
        },
        {
          "output_type": "stream",
          "name": "stderr",
          "text": [
            "2022-05-09 07:35:43,676 - mmdet - INFO - Evaluating bbox...\n"
          ]
        },
        {
          "output_type": "stream",
          "name": "stdout",
          "text": [
            "Loading and preparing results...\n",
            "DONE (t=0.00s)\n",
            "creating index...\n",
            "index created!\n",
            "Running per image evaluation...\n",
            "Evaluate annotation type *bbox*\n",
            "DONE (t=0.06s).\n",
            "Accumulating evaluation results...\n"
          ]
        },
        {
          "output_type": "stream",
          "name": "stderr",
          "text": [
            "2022-05-09 07:35:43,778 - mmdet - INFO - \n",
            " Average Precision  (AP) @[ IoU=0.50:0.95 | area=   all | maxDets=100 ] = 0.715\n",
            " Average Precision  (AP) @[ IoU=0.50      | area=   all | maxDets=1000 ] = 0.870\n",
            " Average Precision  (AP) @[ IoU=0.75      | area=   all | maxDets=1000 ] = 0.825\n",
            " Average Precision  (AP) @[ IoU=0.50:0.95 | area= small | maxDets=1000 ] = -1.000\n",
            " Average Precision  (AP) @[ IoU=0.50:0.95 | area=medium | maxDets=1000 ] = -1.000\n",
            " Average Precision  (AP) @[ IoU=0.50:0.95 | area= large | maxDets=1000 ] = 0.715\n",
            " Average Recall     (AR) @[ IoU=0.50:0.95 | area=   all | maxDets=100 ] = 0.820\n",
            " Average Recall     (AR) @[ IoU=0.50:0.95 | area=   all | maxDets=300 ] = 0.820\n",
            " Average Recall     (AR) @[ IoU=0.50:0.95 | area=   all | maxDets=1000 ] = 0.820\n",
            " Average Recall     (AR) @[ IoU=0.50:0.95 | area= small | maxDets=1000 ] = -1.000\n",
            " Average Recall     (AR) @[ IoU=0.50:0.95 | area=medium | maxDets=1000 ] = -1.000\n",
            " Average Recall     (AR) @[ IoU=0.50:0.95 | area= large | maxDets=1000 ] = 0.820\n",
            "\n",
            "2022-05-09 07:35:43,780 - mmdet - INFO - Epoch(val) [61][100]\tbbox_mAP: 0.7150, bbox_mAP_50: 0.8700, bbox_mAP_75: 0.8250, bbox_mAP_s: -1.0000, bbox_mAP_m: -1.0000, bbox_mAP_l: 0.7150, bbox_mAP_copypaste: 0.715 0.870 0.825 -1.000 -1.000 0.715\n"
          ]
        },
        {
          "output_type": "stream",
          "name": "stdout",
          "text": [
            "DONE (t=0.03s).\n"
          ]
        },
        {
          "output_type": "stream",
          "name": "stderr",
          "text": [
            "2022-05-09 07:35:49,469 - mmdet - INFO - Epoch [62][10/100]\tlr: 2.000e-05, eta: 0:21:35, time: 0.563, data_time: 0.469, memory: 1182, loss_cls: 1.3248, loss_bbox: 0.2091, loss: 1.5339\n",
            "2022-05-09 07:35:52,917 - mmdet - INFO - Epoch [62][20/100]\tlr: 2.000e-05, eta: 0:21:32, time: 0.345, data_time: 0.252, memory: 1182, loss_cls: 1.5137, loss_bbox: 0.2030, loss: 1.7167\n",
            "2022-05-09 07:35:55,754 - mmdet - INFO - Epoch [62][30/100]\tlr: 2.000e-05, eta: 0:21:28, time: 0.284, data_time: 0.191, memory: 1182, loss_cls: 1.1492, loss_bbox: 0.1848, loss: 1.3340\n",
            "2022-05-09 07:35:58,464 - mmdet - INFO - Epoch [62][40/100]\tlr: 2.000e-05, eta: 0:21:25, time: 0.271, data_time: 0.184, memory: 1182, loss_cls: 1.4263, loss_bbox: 0.1447, loss: 1.5710\n",
            "2022-05-09 07:36:01,168 - mmdet - INFO - Epoch [62][50/100]\tlr: 2.000e-05, eta: 0:21:21, time: 0.271, data_time: 0.173, memory: 1182, loss_cls: 1.3316, loss_bbox: 0.2457, loss: 1.5773\n",
            "2022-05-09 07:36:04,212 - mmdet - INFO - Epoch [62][60/100]\tlr: 2.000e-05, eta: 0:21:17, time: 0.304, data_time: 0.209, memory: 1182, loss_cls: 1.1608, loss_bbox: 0.1377, loss: 1.2985\n",
            "2022-05-09 07:36:08,206 - mmdet - INFO - Epoch [62][70/100]\tlr: 2.000e-05, eta: 0:21:14, time: 0.400, data_time: 0.311, memory: 1182, loss_cls: 1.3301, loss_bbox: 0.2171, loss: 1.5472\n",
            "2022-05-09 07:36:11,684 - mmdet - INFO - Epoch [62][80/100]\tlr: 2.000e-05, eta: 0:21:11, time: 0.348, data_time: 0.255, memory: 1182, loss_cls: 1.3571, loss_bbox: 0.2352, loss: 1.5923\n",
            "2022-05-09 07:36:15,183 - mmdet - INFO - Epoch [62][90/100]\tlr: 2.000e-05, eta: 0:21:08, time: 0.350, data_time: 0.261, memory: 1182, loss_cls: 1.1440, loss_bbox: 0.1547, loss: 1.2987\n",
            "2022-05-09 07:36:17,501 - mmdet - INFO - Epoch [62][100/100]\tlr: 2.000e-05, eta: 0:21:04, time: 0.231, data_time: 0.137, memory: 1182, loss_cls: 1.0913, loss_bbox: 0.1665, loss: 1.2578\n",
            "2022-05-09 07:36:17,568 - mmdet - INFO - Saving checkpoint at 62 epochs\n"
          ]
        },
        {
          "output_type": "stream",
          "name": "stdout",
          "text": [
            "[>>>>>>>>>>>>>>>>>>>>>>>>>>>>>>] 100/100, 35.0 task/s, elapsed: 3s, ETA:     0s"
          ]
        },
        {
          "output_type": "stream",
          "name": "stderr",
          "text": [
            "2022-05-09 07:36:21,191 - mmdet - INFO - Evaluating bbox...\n"
          ]
        },
        {
          "output_type": "stream",
          "name": "stdout",
          "text": [
            "Loading and preparing results...\n",
            "DONE (t=0.00s)\n",
            "creating index...\n",
            "index created!\n",
            "Running per image evaluation...\n",
            "Evaluate annotation type *bbox*\n",
            "DONE (t=0.07s).\n",
            "Accumulating evaluation results...\n"
          ]
        },
        {
          "output_type": "stream",
          "name": "stderr",
          "text": [
            "2022-05-09 07:36:21,301 - mmdet - INFO - \n",
            " Average Precision  (AP) @[ IoU=0.50:0.95 | area=   all | maxDets=100 ] = 0.715\n",
            " Average Precision  (AP) @[ IoU=0.50      | area=   all | maxDets=1000 ] = 0.871\n",
            " Average Precision  (AP) @[ IoU=0.75      | area=   all | maxDets=1000 ] = 0.830\n",
            " Average Precision  (AP) @[ IoU=0.50:0.95 | area= small | maxDets=1000 ] = -1.000\n",
            " Average Precision  (AP) @[ IoU=0.50:0.95 | area=medium | maxDets=1000 ] = -1.000\n",
            " Average Precision  (AP) @[ IoU=0.50:0.95 | area= large | maxDets=1000 ] = 0.715\n",
            " Average Recall     (AR) @[ IoU=0.50:0.95 | area=   all | maxDets=100 ] = 0.820\n",
            " Average Recall     (AR) @[ IoU=0.50:0.95 | area=   all | maxDets=300 ] = 0.820\n",
            " Average Recall     (AR) @[ IoU=0.50:0.95 | area=   all | maxDets=1000 ] = 0.820\n",
            " Average Recall     (AR) @[ IoU=0.50:0.95 | area= small | maxDets=1000 ] = -1.000\n",
            " Average Recall     (AR) @[ IoU=0.50:0.95 | area=medium | maxDets=1000 ] = -1.000\n",
            " Average Recall     (AR) @[ IoU=0.50:0.95 | area= large | maxDets=1000 ] = 0.820\n",
            "\n",
            "2022-05-09 07:36:21,304 - mmdet - INFO - Epoch(val) [62][100]\tbbox_mAP: 0.7150, bbox_mAP_50: 0.8710, bbox_mAP_75: 0.8300, bbox_mAP_s: -1.0000, bbox_mAP_m: -1.0000, bbox_mAP_l: 0.7150, bbox_mAP_copypaste: 0.715 0.871 0.830 -1.000 -1.000 0.715\n"
          ]
        },
        {
          "output_type": "stream",
          "name": "stdout",
          "text": [
            "DONE (t=0.04s).\n"
          ]
        },
        {
          "output_type": "stream",
          "name": "stderr",
          "text": [
            "2022-05-09 07:36:27,843 - mmdet - INFO - Epoch [63][10/100]\tlr: 2.000e-05, eta: 0:21:03, time: 0.648, data_time: 0.558, memory: 1182, loss_cls: 1.1058, loss_bbox: 0.1490, loss: 1.2547\n",
            "2022-05-09 07:36:30,979 - mmdet - INFO - Epoch [63][20/100]\tlr: 2.000e-05, eta: 0:20:59, time: 0.313, data_time: 0.220, memory: 1182, loss_cls: 1.1366, loss_bbox: 0.1685, loss: 1.3051\n",
            "2022-05-09 07:36:33,227 - mmdet - INFO - Epoch [63][30/100]\tlr: 2.000e-05, eta: 0:20:55, time: 0.225, data_time: 0.133, memory: 1182, loss_cls: 1.5485, loss_bbox: 0.2398, loss: 1.7883\n",
            "2022-05-09 07:36:36,339 - mmdet - INFO - Epoch [63][40/100]\tlr: 2.000e-05, eta: 0:20:52, time: 0.311, data_time: 0.216, memory: 1182, loss_cls: 1.5760, loss_bbox: 0.2398, loss: 1.8158\n",
            "2022-05-09 07:36:39,045 - mmdet - INFO - Epoch [63][50/100]\tlr: 2.000e-05, eta: 0:20:48, time: 0.271, data_time: 0.181, memory: 1182, loss_cls: 1.5862, loss_bbox: 0.2563, loss: 1.8424\n",
            "2022-05-09 07:36:42,595 - mmdet - INFO - Epoch [63][60/100]\tlr: 2.000e-05, eta: 0:20:45, time: 0.355, data_time: 0.264, memory: 1182, loss_cls: 1.2526, loss_bbox: 0.2004, loss: 1.4531\n",
            "2022-05-09 07:36:44,756 - mmdet - INFO - Epoch [63][70/100]\tlr: 2.000e-05, eta: 0:20:41, time: 0.216, data_time: 0.131, memory: 1182, loss_cls: 1.3700, loss_bbox: 0.2387, loss: 1.6087\n",
            "2022-05-09 07:36:46,805 - mmdet - INFO - Epoch [63][80/100]\tlr: 2.000e-05, eta: 0:20:37, time: 0.205, data_time: 0.112, memory: 1182, loss_cls: 1.0405, loss_bbox: 0.1300, loss: 1.1705\n",
            "2022-05-09 07:36:50,397 - mmdet - INFO - Epoch [63][90/100]\tlr: 2.000e-05, eta: 0:20:34, time: 0.359, data_time: 0.271, memory: 1182, loss_cls: 1.2934, loss_bbox: 0.1687, loss: 1.4620\n",
            "2022-05-09 07:36:52,903 - mmdet - INFO - Epoch [63][100/100]\tlr: 2.000e-05, eta: 0:20:30, time: 0.250, data_time: 0.162, memory: 1182, loss_cls: 1.0934, loss_bbox: 0.1733, loss: 1.2667\n",
            "2022-05-09 07:36:52,967 - mmdet - INFO - Saving checkpoint at 63 epochs\n"
          ]
        },
        {
          "output_type": "stream",
          "name": "stdout",
          "text": [
            "[>>>>>>>>>>>>>>>>>>>>>>>>>>>>>>] 100/100, 35.9 task/s, elapsed: 3s, ETA:     0s"
          ]
        },
        {
          "output_type": "stream",
          "name": "stderr",
          "text": [
            "2022-05-09 07:36:56,512 - mmdet - INFO - Evaluating bbox...\n"
          ]
        },
        {
          "output_type": "stream",
          "name": "stdout",
          "text": [
            "Loading and preparing results...\n",
            "DONE (t=0.00s)\n",
            "creating index...\n",
            "index created!\n",
            "Running per image evaluation...\n",
            "Evaluate annotation type *bbox*\n",
            "DONE (t=0.07s).\n",
            "Accumulating evaluation results...\n"
          ]
        },
        {
          "output_type": "stream",
          "name": "stderr",
          "text": [
            "2022-05-09 07:36:56,621 - mmdet - INFO - \n",
            " Average Precision  (AP) @[ IoU=0.50:0.95 | area=   all | maxDets=100 ] = 0.718\n",
            " Average Precision  (AP) @[ IoU=0.50      | area=   all | maxDets=1000 ] = 0.870\n",
            " Average Precision  (AP) @[ IoU=0.75      | area=   all | maxDets=1000 ] = 0.824\n",
            " Average Precision  (AP) @[ IoU=0.50:0.95 | area= small | maxDets=1000 ] = -1.000\n",
            " Average Precision  (AP) @[ IoU=0.50:0.95 | area=medium | maxDets=1000 ] = -1.000\n",
            " Average Precision  (AP) @[ IoU=0.50:0.95 | area= large | maxDets=1000 ] = 0.718\n",
            " Average Recall     (AR) @[ IoU=0.50:0.95 | area=   all | maxDets=100 ] = 0.821\n",
            " Average Recall     (AR) @[ IoU=0.50:0.95 | area=   all | maxDets=300 ] = 0.821\n",
            " Average Recall     (AR) @[ IoU=0.50:0.95 | area=   all | maxDets=1000 ] = 0.821\n",
            " Average Recall     (AR) @[ IoU=0.50:0.95 | area= small | maxDets=1000 ] = -1.000\n",
            " Average Recall     (AR) @[ IoU=0.50:0.95 | area=medium | maxDets=1000 ] = -1.000\n",
            " Average Recall     (AR) @[ IoU=0.50:0.95 | area= large | maxDets=1000 ] = 0.821\n",
            "\n",
            "2022-05-09 07:36:56,624 - mmdet - INFO - Epoch(val) [63][100]\tbbox_mAP: 0.7180, bbox_mAP_50: 0.8700, bbox_mAP_75: 0.8240, bbox_mAP_s: -1.0000, bbox_mAP_m: -1.0000, bbox_mAP_l: 0.7180, bbox_mAP_copypaste: 0.718 0.870 0.824 -1.000 -1.000 0.718\n"
          ]
        },
        {
          "output_type": "stream",
          "name": "stdout",
          "text": [
            "DONE (t=0.03s).\n"
          ]
        },
        {
          "output_type": "stream",
          "name": "stderr",
          "text": [
            "2022-05-09 07:37:03,228 - mmdet - INFO - Epoch [64][10/100]\tlr: 2.000e-05, eta: 0:20:28, time: 0.655, data_time: 0.562, memory: 1182, loss_cls: 1.1651, loss_bbox: 0.2292, loss: 1.3943\n",
            "2022-05-09 07:37:06,444 - mmdet - INFO - Epoch [64][20/100]\tlr: 2.000e-05, eta: 0:20:25, time: 0.321, data_time: 0.233, memory: 1182, loss_cls: 1.3283, loss_bbox: 0.1269, loss: 1.4553\n",
            "2022-05-09 07:37:09,409 - mmdet - INFO - Epoch [64][30/100]\tlr: 2.000e-05, eta: 0:20:21, time: 0.297, data_time: 0.209, memory: 1182, loss_cls: 0.9893, loss_bbox: 0.1380, loss: 1.1273\n",
            "2022-05-09 07:37:13,774 - mmdet - INFO - Epoch [64][40/100]\tlr: 2.000e-05, eta: 0:20:19, time: 0.436, data_time: 0.342, memory: 1182, loss_cls: 1.2826, loss_bbox: 0.1516, loss: 1.4342\n",
            "2022-05-09 07:37:16,626 - mmdet - INFO - Epoch [64][50/100]\tlr: 2.000e-05, eta: 0:20:15, time: 0.285, data_time: 0.193, memory: 1182, loss_cls: 1.2545, loss_bbox: 0.2247, loss: 1.4792\n",
            "2022-05-09 07:37:20,679 - mmdet - INFO - Epoch [64][60/100]\tlr: 2.000e-05, eta: 0:20:12, time: 0.405, data_time: 0.315, memory: 1182, loss_cls: 1.2771, loss_bbox: 0.1858, loss: 1.4630\n",
            "2022-05-09 07:37:22,890 - mmdet - INFO - Epoch [64][70/100]\tlr: 2.000e-05, eta: 0:20:08, time: 0.221, data_time: 0.125, memory: 1182, loss_cls: 1.2727, loss_bbox: 0.2110, loss: 1.4836\n",
            "2022-05-09 07:37:25,851 - mmdet - INFO - Epoch [64][80/100]\tlr: 2.000e-05, eta: 0:20:05, time: 0.296, data_time: 0.197, memory: 1182, loss_cls: 1.2404, loss_bbox: 0.1857, loss: 1.4261\n",
            "2022-05-09 07:37:28,059 - mmdet - INFO - Epoch [64][90/100]\tlr: 2.000e-05, eta: 0:20:01, time: 0.221, data_time: 0.135, memory: 1182, loss_cls: 1.2885, loss_bbox: 0.2229, loss: 1.5113\n",
            "2022-05-09 07:37:31,426 - mmdet - INFO - Epoch [64][100/100]\tlr: 2.000e-05, eta: 0:19:57, time: 0.337, data_time: 0.245, memory: 1182, loss_cls: 1.5253, loss_bbox: 0.2160, loss: 1.7413\n",
            "2022-05-09 07:37:31,491 - mmdet - INFO - Saving checkpoint at 64 epochs\n"
          ]
        },
        {
          "output_type": "stream",
          "name": "stdout",
          "text": [
            "[>>>>>>>>>>>>>>>>>>>>>>>>>>>>>>] 100/100, 36.4 task/s, elapsed: 3s, ETA:     0s"
          ]
        },
        {
          "output_type": "stream",
          "name": "stderr",
          "text": [
            "2022-05-09 07:37:34,997 - mmdet - INFO - Evaluating bbox...\n"
          ]
        },
        {
          "output_type": "stream",
          "name": "stdout",
          "text": [
            "Loading and preparing results...\n",
            "DONE (t=0.00s)\n",
            "creating index...\n",
            "index created!\n",
            "Running per image evaluation...\n",
            "Evaluate annotation type *bbox*\n",
            "DONE (t=0.06s).\n",
            "Accumulating evaluation results...\n"
          ]
        },
        {
          "output_type": "stream",
          "name": "stderr",
          "text": [
            "2022-05-09 07:37:35,104 - mmdet - INFO - \n",
            " Average Precision  (AP) @[ IoU=0.50:0.95 | area=   all | maxDets=100 ] = 0.718\n",
            " Average Precision  (AP) @[ IoU=0.50      | area=   all | maxDets=1000 ] = 0.874\n",
            " Average Precision  (AP) @[ IoU=0.75      | area=   all | maxDets=1000 ] = 0.827\n",
            " Average Precision  (AP) @[ IoU=0.50:0.95 | area= small | maxDets=1000 ] = -1.000\n",
            " Average Precision  (AP) @[ IoU=0.50:0.95 | area=medium | maxDets=1000 ] = -1.000\n",
            " Average Precision  (AP) @[ IoU=0.50:0.95 | area= large | maxDets=1000 ] = 0.718\n",
            " Average Recall     (AR) @[ IoU=0.50:0.95 | area=   all | maxDets=100 ] = 0.818\n",
            " Average Recall     (AR) @[ IoU=0.50:0.95 | area=   all | maxDets=300 ] = 0.818\n",
            " Average Recall     (AR) @[ IoU=0.50:0.95 | area=   all | maxDets=1000 ] = 0.818\n",
            " Average Recall     (AR) @[ IoU=0.50:0.95 | area= small | maxDets=1000 ] = -1.000\n",
            " Average Recall     (AR) @[ IoU=0.50:0.95 | area=medium | maxDets=1000 ] = -1.000\n",
            " Average Recall     (AR) @[ IoU=0.50:0.95 | area= large | maxDets=1000 ] = 0.818\n",
            "\n",
            "2022-05-09 07:37:35,107 - mmdet - INFO - Epoch(val) [64][100]\tbbox_mAP: 0.7180, bbox_mAP_50: 0.8740, bbox_mAP_75: 0.8270, bbox_mAP_s: -1.0000, bbox_mAP_m: -1.0000, bbox_mAP_l: 0.7180, bbox_mAP_copypaste: 0.718 0.874 0.827 -1.000 -1.000 0.718\n"
          ]
        },
        {
          "output_type": "stream",
          "name": "stdout",
          "text": [
            "DONE (t=0.04s).\n"
          ]
        },
        {
          "output_type": "stream",
          "name": "stderr",
          "text": [
            "2022-05-09 07:37:41,269 - mmdet - INFO - Epoch [65][10/100]\tlr: 2.000e-05, eta: 0:19:56, time: 0.610, data_time: 0.514, memory: 1182, loss_cls: 1.2027, loss_bbox: 0.1965, loss: 1.3993\n",
            "2022-05-09 07:37:44,715 - mmdet - INFO - Epoch [65][20/100]\tlr: 2.000e-05, eta: 0:19:52, time: 0.344, data_time: 0.250, memory: 1182, loss_cls: 1.3605, loss_bbox: 0.1823, loss: 1.5428\n",
            "2022-05-09 07:37:46,702 - mmdet - INFO - Epoch [65][30/100]\tlr: 2.000e-05, eta: 0:19:48, time: 0.199, data_time: 0.102, memory: 1182, loss_cls: 1.1804, loss_bbox: 0.1506, loss: 1.3310\n",
            "2022-05-09 07:37:50,044 - mmdet - INFO - Epoch [65][40/100]\tlr: 2.000e-05, eta: 0:19:45, time: 0.334, data_time: 0.239, memory: 1182, loss_cls: 1.2356, loss_bbox: 0.1633, loss: 1.3989\n",
            "2022-05-09 07:37:53,041 - mmdet - INFO - Epoch [65][50/100]\tlr: 2.000e-05, eta: 0:19:41, time: 0.300, data_time: 0.204, memory: 1182, loss_cls: 1.3261, loss_bbox: 0.1800, loss: 1.5061\n",
            "2022-05-09 07:37:56,016 - mmdet - INFO - Epoch [65][60/100]\tlr: 2.000e-05, eta: 0:19:38, time: 0.297, data_time: 0.215, memory: 1182, loss_cls: 1.0669, loss_bbox: 0.1457, loss: 1.2126\n",
            "2022-05-09 07:37:59,460 - mmdet - INFO - Epoch [65][70/100]\tlr: 2.000e-05, eta: 0:19:35, time: 0.344, data_time: 0.252, memory: 1182, loss_cls: 1.0484, loss_bbox: 0.1938, loss: 1.2422\n",
            "2022-05-09 07:38:02,211 - mmdet - INFO - Epoch [65][80/100]\tlr: 2.000e-05, eta: 0:19:31, time: 0.275, data_time: 0.185, memory: 1182, loss_cls: 1.0799, loss_bbox: 0.1726, loss: 1.2525\n",
            "2022-05-09 07:38:05,176 - mmdet - INFO - Epoch [65][90/100]\tlr: 2.000e-05, eta: 0:19:27, time: 0.296, data_time: 0.201, memory: 1182, loss_cls: 1.4464, loss_bbox: 0.2785, loss: 1.7248\n",
            "2022-05-09 07:38:07,506 - mmdet - INFO - Epoch [65][100/100]\tlr: 2.000e-05, eta: 0:19:24, time: 0.233, data_time: 0.140, memory: 1182, loss_cls: 1.2160, loss_bbox: 0.2316, loss: 1.4476\n",
            "2022-05-09 07:38:07,576 - mmdet - INFO - Saving checkpoint at 65 epochs\n"
          ]
        },
        {
          "output_type": "stream",
          "name": "stdout",
          "text": [
            "[>>>>>>>>>>>>>>>>>>>>>>>>>>>>>>] 100/100, 32.5 task/s, elapsed: 3s, ETA:     0s"
          ]
        },
        {
          "output_type": "stream",
          "name": "stderr",
          "text": [
            "2022-05-09 07:38:11,464 - mmdet - INFO - Evaluating bbox...\n"
          ]
        },
        {
          "output_type": "stream",
          "name": "stdout",
          "text": [
            "Loading and preparing results...\n",
            "DONE (t=0.00s)\n",
            "creating index...\n",
            "index created!\n",
            "Running per image evaluation...\n",
            "Evaluate annotation type *bbox*\n",
            "DONE (t=0.08s).\n",
            "Accumulating evaluation results...\n"
          ]
        },
        {
          "output_type": "stream",
          "name": "stderr",
          "text": [
            "2022-05-09 07:38:11,591 - mmdet - INFO - \n",
            " Average Precision  (AP) @[ IoU=0.50:0.95 | area=   all | maxDets=100 ] = 0.717\n",
            " Average Precision  (AP) @[ IoU=0.50      | area=   all | maxDets=1000 ] = 0.871\n",
            " Average Precision  (AP) @[ IoU=0.75      | area=   all | maxDets=1000 ] = 0.824\n",
            " Average Precision  (AP) @[ IoU=0.50:0.95 | area= small | maxDets=1000 ] = -1.000\n",
            " Average Precision  (AP) @[ IoU=0.50:0.95 | area=medium | maxDets=1000 ] = -1.000\n",
            " Average Precision  (AP) @[ IoU=0.50:0.95 | area= large | maxDets=1000 ] = 0.717\n",
            " Average Recall     (AR) @[ IoU=0.50:0.95 | area=   all | maxDets=100 ] = 0.819\n",
            " Average Recall     (AR) @[ IoU=0.50:0.95 | area=   all | maxDets=300 ] = 0.819\n",
            " Average Recall     (AR) @[ IoU=0.50:0.95 | area=   all | maxDets=1000 ] = 0.819\n",
            " Average Recall     (AR) @[ IoU=0.50:0.95 | area= small | maxDets=1000 ] = -1.000\n",
            " Average Recall     (AR) @[ IoU=0.50:0.95 | area=medium | maxDets=1000 ] = -1.000\n",
            " Average Recall     (AR) @[ IoU=0.50:0.95 | area= large | maxDets=1000 ] = 0.819\n",
            "\n",
            "2022-05-09 07:38:11,594 - mmdet - INFO - Epoch(val) [65][100]\tbbox_mAP: 0.7170, bbox_mAP_50: 0.8710, bbox_mAP_75: 0.8240, bbox_mAP_s: -1.0000, bbox_mAP_m: -1.0000, bbox_mAP_l: 0.7170, bbox_mAP_copypaste: 0.717 0.871 0.824 -1.000 -1.000 0.717\n"
          ]
        },
        {
          "output_type": "stream",
          "name": "stdout",
          "text": [
            "DONE (t=0.04s).\n"
          ]
        },
        {
          "output_type": "stream",
          "name": "stderr",
          "text": [
            "2022-05-09 07:38:18,190 - mmdet - INFO - Epoch [66][10/100]\tlr: 2.000e-05, eta: 0:19:22, time: 0.654, data_time: 0.554, memory: 1182, loss_cls: 1.1116, loss_bbox: 0.1854, loss: 1.2971\n",
            "2022-05-09 07:38:21,163 - mmdet - INFO - Epoch [66][20/100]\tlr: 2.000e-05, eta: 0:19:18, time: 0.298, data_time: 0.200, memory: 1182, loss_cls: 1.3956, loss_bbox: 0.2085, loss: 1.6041\n",
            "2022-05-09 07:38:23,760 - mmdet - INFO - Epoch [66][30/100]\tlr: 2.000e-05, eta: 0:19:15, time: 0.259, data_time: 0.166, memory: 1182, loss_cls: 1.3248, loss_bbox: 0.1942, loss: 1.5191\n",
            "2022-05-09 07:38:26,806 - mmdet - INFO - Epoch [66][40/100]\tlr: 2.000e-05, eta: 0:19:11, time: 0.305, data_time: 0.214, memory: 1182, loss_cls: 1.4425, loss_bbox: 0.2330, loss: 1.6755\n",
            "2022-05-09 07:38:29,190 - mmdet - INFO - Epoch [66][50/100]\tlr: 2.000e-05, eta: 0:19:07, time: 0.238, data_time: 0.139, memory: 1182, loss_cls: 1.1795, loss_bbox: 0.1730, loss: 1.3525\n",
            "2022-05-09 07:38:32,770 - mmdet - INFO - Epoch [66][60/100]\tlr: 2.000e-05, eta: 0:19:04, time: 0.358, data_time: 0.271, memory: 1182, loss_cls: 1.1935, loss_bbox: 0.1825, loss: 1.3760\n",
            "2022-05-09 07:38:36,389 - mmdet - INFO - Epoch [66][70/100]\tlr: 2.000e-05, eta: 0:19:01, time: 0.362, data_time: 0.266, memory: 1182, loss_cls: 1.4064, loss_bbox: 0.1747, loss: 1.5811\n",
            "2022-05-09 07:38:39,121 - mmdet - INFO - Epoch [66][80/100]\tlr: 2.000e-05, eta: 0:18:57, time: 0.273, data_time: 0.179, memory: 1182, loss_cls: 1.0914, loss_bbox: 0.1311, loss: 1.2226\n",
            "2022-05-09 07:38:42,836 - mmdet - INFO - Epoch [66][90/100]\tlr: 2.000e-05, eta: 0:18:54, time: 0.372, data_time: 0.276, memory: 1182, loss_cls: 1.3032, loss_bbox: 0.1778, loss: 1.4811\n",
            "2022-05-09 07:38:45,599 - mmdet - INFO - Epoch [66][100/100]\tlr: 2.000e-05, eta: 0:18:51, time: 0.276, data_time: 0.186, memory: 1182, loss_cls: 1.1331, loss_bbox: 0.1796, loss: 1.3126\n",
            "2022-05-09 07:38:45,663 - mmdet - INFO - Saving checkpoint at 66 epochs\n"
          ]
        },
        {
          "output_type": "stream",
          "name": "stdout",
          "text": [
            "[>>>>>>>>>>>>>>>>>>>>>>>>>>>>>>] 100/100, 35.5 task/s, elapsed: 3s, ETA:     0s"
          ]
        },
        {
          "output_type": "stream",
          "name": "stderr",
          "text": [
            "2022-05-09 07:38:49,249 - mmdet - INFO - Evaluating bbox...\n"
          ]
        },
        {
          "output_type": "stream",
          "name": "stdout",
          "text": [
            "Loading and preparing results...\n",
            "DONE (t=0.00s)\n",
            "creating index...\n",
            "index created!\n",
            "Running per image evaluation...\n",
            "Evaluate annotation type *bbox*\n",
            "DONE (t=0.07s).\n",
            "Accumulating evaluation results...\n"
          ]
        },
        {
          "output_type": "stream",
          "name": "stderr",
          "text": [
            "2022-05-09 07:38:49,360 - mmdet - INFO - \n",
            " Average Precision  (AP) @[ IoU=0.50:0.95 | area=   all | maxDets=100 ] = 0.719\n",
            " Average Precision  (AP) @[ IoU=0.50      | area=   all | maxDets=1000 ] = 0.872\n",
            " Average Precision  (AP) @[ IoU=0.75      | area=   all | maxDets=1000 ] = 0.826\n",
            " Average Precision  (AP) @[ IoU=0.50:0.95 | area= small | maxDets=1000 ] = -1.000\n",
            " Average Precision  (AP) @[ IoU=0.50:0.95 | area=medium | maxDets=1000 ] = -1.000\n",
            " Average Precision  (AP) @[ IoU=0.50:0.95 | area= large | maxDets=1000 ] = 0.719\n",
            " Average Recall     (AR) @[ IoU=0.50:0.95 | area=   all | maxDets=100 ] = 0.821\n",
            " Average Recall     (AR) @[ IoU=0.50:0.95 | area=   all | maxDets=300 ] = 0.821\n",
            " Average Recall     (AR) @[ IoU=0.50:0.95 | area=   all | maxDets=1000 ] = 0.821\n",
            " Average Recall     (AR) @[ IoU=0.50:0.95 | area= small | maxDets=1000 ] = -1.000\n",
            " Average Recall     (AR) @[ IoU=0.50:0.95 | area=medium | maxDets=1000 ] = -1.000\n",
            " Average Recall     (AR) @[ IoU=0.50:0.95 | area= large | maxDets=1000 ] = 0.821\n",
            "\n",
            "2022-05-09 07:38:49,363 - mmdet - INFO - Epoch(val) [66][100]\tbbox_mAP: 0.7190, bbox_mAP_50: 0.8720, bbox_mAP_75: 0.8260, bbox_mAP_s: -1.0000, bbox_mAP_m: -1.0000, bbox_mAP_l: 0.7190, bbox_mAP_copypaste: 0.719 0.872 0.826 -1.000 -1.000 0.719\n"
          ]
        },
        {
          "output_type": "stream",
          "name": "stdout",
          "text": [
            "DONE (t=0.04s).\n"
          ]
        },
        {
          "output_type": "stream",
          "name": "stderr",
          "text": [
            "2022-05-09 07:38:55,794 - mmdet - INFO - Epoch [67][10/100]\tlr: 2.000e-05, eta: 0:18:49, time: 0.638, data_time: 0.541, memory: 1182, loss_cls: 1.2788, loss_bbox: 0.1564, loss: 1.4351\n",
            "2022-05-09 07:38:58,947 - mmdet - INFO - Epoch [67][20/100]\tlr: 2.000e-05, eta: 0:18:45, time: 0.315, data_time: 0.217, memory: 1182, loss_cls: 1.2169, loss_bbox: 0.1559, loss: 1.3728\n",
            "2022-05-09 07:39:01,714 - mmdet - INFO - Epoch [67][30/100]\tlr: 2.000e-05, eta: 0:18:42, time: 0.277, data_time: 0.190, memory: 1182, loss_cls: 1.1649, loss_bbox: 0.1760, loss: 1.3410\n",
            "2022-05-09 07:39:04,497 - mmdet - INFO - Epoch [67][40/100]\tlr: 2.000e-05, eta: 0:18:38, time: 0.278, data_time: 0.187, memory: 1182, loss_cls: 1.5109, loss_bbox: 0.3216, loss: 1.8325\n",
            "2022-05-09 07:39:08,574 - mmdet - INFO - Epoch [67][50/100]\tlr: 2.000e-05, eta: 0:18:35, time: 0.408, data_time: 0.312, memory: 1182, loss_cls: 1.1158, loss_bbox: 0.1841, loss: 1.3000\n",
            "2022-05-09 07:39:13,055 - mmdet - INFO - Epoch [67][60/100]\tlr: 2.000e-05, eta: 0:18:33, time: 0.448, data_time: 0.350, memory: 1182, loss_cls: 1.4983, loss_bbox: 0.2146, loss: 1.7129\n",
            "2022-05-09 07:39:15,514 - mmdet - INFO - Epoch [67][70/100]\tlr: 2.000e-05, eta: 0:18:29, time: 0.245, data_time: 0.148, memory: 1182, loss_cls: 1.1800, loss_bbox: 0.1579, loss: 1.3379\n",
            "2022-05-09 07:39:18,882 - mmdet - INFO - Epoch [67][80/100]\tlr: 2.000e-05, eta: 0:18:25, time: 0.337, data_time: 0.246, memory: 1182, loss_cls: 1.2401, loss_bbox: 0.2095, loss: 1.4496\n",
            "2022-05-09 07:39:21,992 - mmdet - INFO - Epoch [67][90/100]\tlr: 2.000e-05, eta: 0:18:22, time: 0.311, data_time: 0.217, memory: 1182, loss_cls: 1.3214, loss_bbox: 0.1554, loss: 1.4768\n",
            "2022-05-09 07:39:24,586 - mmdet - INFO - Epoch [67][100/100]\tlr: 2.000e-05, eta: 0:18:18, time: 0.259, data_time: 0.175, memory: 1182, loss_cls: 1.1883, loss_bbox: 0.2591, loss: 1.4474\n",
            "2022-05-09 07:39:24,654 - mmdet - INFO - Saving checkpoint at 67 epochs\n"
          ]
        },
        {
          "output_type": "stream",
          "name": "stdout",
          "text": [
            "[>>>>>>>>>>>>>>>>>>>>>>>>>>>>>>] 100/100, 35.5 task/s, elapsed: 3s, ETA:     0s"
          ]
        },
        {
          "output_type": "stream",
          "name": "stderr",
          "text": [
            "2022-05-09 07:39:28,232 - mmdet - INFO - Evaluating bbox...\n"
          ]
        },
        {
          "output_type": "stream",
          "name": "stdout",
          "text": [
            "Loading and preparing results...\n",
            "DONE (t=0.00s)\n",
            "creating index...\n",
            "index created!\n",
            "Running per image evaluation...\n",
            "Evaluate annotation type *bbox*\n",
            "DONE (t=0.07s).\n",
            "Accumulating evaluation results...\n"
          ]
        },
        {
          "output_type": "stream",
          "name": "stderr",
          "text": [
            "2022-05-09 07:39:28,340 - mmdet - INFO - \n",
            " Average Precision  (AP) @[ IoU=0.50:0.95 | area=   all | maxDets=100 ] = 0.721\n",
            " Average Precision  (AP) @[ IoU=0.50      | area=   all | maxDets=1000 ] = 0.871\n",
            " Average Precision  (AP) @[ IoU=0.75      | area=   all | maxDets=1000 ] = 0.826\n",
            " Average Precision  (AP) @[ IoU=0.50:0.95 | area= small | maxDets=1000 ] = -1.000\n",
            " Average Precision  (AP) @[ IoU=0.50:0.95 | area=medium | maxDets=1000 ] = -1.000\n",
            " Average Precision  (AP) @[ IoU=0.50:0.95 | area= large | maxDets=1000 ] = 0.721\n",
            " Average Recall     (AR) @[ IoU=0.50:0.95 | area=   all | maxDets=100 ] = 0.822\n",
            " Average Recall     (AR) @[ IoU=0.50:0.95 | area=   all | maxDets=300 ] = 0.822\n",
            " Average Recall     (AR) @[ IoU=0.50:0.95 | area=   all | maxDets=1000 ] = 0.822\n",
            " Average Recall     (AR) @[ IoU=0.50:0.95 | area= small | maxDets=1000 ] = -1.000\n",
            " Average Recall     (AR) @[ IoU=0.50:0.95 | area=medium | maxDets=1000 ] = -1.000\n",
            " Average Recall     (AR) @[ IoU=0.50:0.95 | area= large | maxDets=1000 ] = 0.822\n",
            "\n",
            "2022-05-09 07:39:28,342 - mmdet - INFO - Epoch(val) [67][100]\tbbox_mAP: 0.7210, bbox_mAP_50: 0.8710, bbox_mAP_75: 0.8260, bbox_mAP_s: -1.0000, bbox_mAP_m: -1.0000, bbox_mAP_l: 0.7210, bbox_mAP_copypaste: 0.721 0.871 0.826 -1.000 -1.000 0.721\n"
          ]
        },
        {
          "output_type": "stream",
          "name": "stdout",
          "text": [
            "DONE (t=0.03s).\n"
          ]
        },
        {
          "output_type": "stream",
          "name": "stderr",
          "text": [
            "2022-05-09 07:39:34,841 - mmdet - INFO - Epoch [68][10/100]\tlr: 2.000e-05, eta: 0:18:17, time: 0.644, data_time: 0.548, memory: 1182, loss_cls: 1.0791, loss_bbox: 0.1635, loss: 1.2427\n",
            "2022-05-09 07:39:37,731 - mmdet - INFO - Epoch [68][20/100]\tlr: 2.000e-05, eta: 0:18:13, time: 0.289, data_time: 0.194, memory: 1182, loss_cls: 1.3247, loss_bbox: 0.1977, loss: 1.5224\n",
            "2022-05-09 07:39:40,448 - mmdet - INFO - Epoch [68][30/100]\tlr: 2.000e-05, eta: 0:18:09, time: 0.272, data_time: 0.175, memory: 1182, loss_cls: 1.3819, loss_bbox: 0.1735, loss: 1.5553\n",
            "2022-05-09 07:39:43,103 - mmdet - INFO - Epoch [68][40/100]\tlr: 2.000e-05, eta: 0:18:06, time: 0.266, data_time: 0.171, memory: 1182, loss_cls: 1.2467, loss_bbox: 0.2130, loss: 1.4597\n",
            "2022-05-09 07:39:47,250 - mmdet - INFO - Epoch [68][50/100]\tlr: 2.000e-05, eta: 0:18:03, time: 0.415, data_time: 0.321, memory: 1182, loss_cls: 1.3466, loss_bbox: 0.1499, loss: 1.4965\n",
            "2022-05-09 07:39:48,772 - mmdet - INFO - Epoch [68][60/100]\tlr: 2.000e-05, eta: 0:17:59, time: 0.152, data_time: 0.048, memory: 1182, loss_cls: 0.9737, loss_bbox: 0.1322, loss: 1.1059\n",
            "2022-05-09 07:39:51,555 - mmdet - INFO - Epoch [68][70/100]\tlr: 2.000e-05, eta: 0:17:55, time: 0.278, data_time: 0.191, memory: 1182, loss_cls: 1.3817, loss_bbox: 0.2610, loss: 1.6427\n",
            "2022-05-09 07:39:55,395 - mmdet - INFO - Epoch [68][80/100]\tlr: 2.000e-05, eta: 0:17:52, time: 0.384, data_time: 0.294, memory: 1182, loss_cls: 1.3175, loss_bbox: 0.2238, loss: 1.5413\n",
            "2022-05-09 07:39:57,044 - mmdet - INFO - Epoch [68][90/100]\tlr: 2.000e-05, eta: 0:17:48, time: 0.165, data_time: 0.071, memory: 1182, loss_cls: 1.2342, loss_bbox: 0.2128, loss: 1.4470\n",
            "2022-05-09 07:40:00,222 - mmdet - INFO - Epoch [68][100/100]\tlr: 2.000e-05, eta: 0:17:44, time: 0.318, data_time: 0.238, memory: 1182, loss_cls: 1.0655, loss_bbox: 0.1675, loss: 1.2330\n",
            "2022-05-09 07:40:00,285 - mmdet - INFO - Saving checkpoint at 68 epochs\n"
          ]
        },
        {
          "output_type": "stream",
          "name": "stdout",
          "text": [
            "[>>>>>>>>>>>>>>>>>>>>>>>>>>>>>>] 100/100, 35.4 task/s, elapsed: 3s, ETA:     0s"
          ]
        },
        {
          "output_type": "stream",
          "name": "stderr",
          "text": [
            "2022-05-09 07:40:03,872 - mmdet - INFO - Evaluating bbox...\n"
          ]
        },
        {
          "output_type": "stream",
          "name": "stdout",
          "text": [
            "Loading and preparing results...\n",
            "DONE (t=0.00s)\n",
            "creating index...\n",
            "index created!\n",
            "Running per image evaluation...\n",
            "Evaluate annotation type *bbox*\n",
            "DONE (t=0.06s).\n",
            "Accumulating evaluation results...\n"
          ]
        },
        {
          "output_type": "stream",
          "name": "stderr",
          "text": [
            "2022-05-09 07:40:03,976 - mmdet - INFO - \n",
            " Average Precision  (AP) @[ IoU=0.50:0.95 | area=   all | maxDets=100 ] = 0.723\n",
            " Average Precision  (AP) @[ IoU=0.50      | area=   all | maxDets=1000 ] = 0.873\n",
            " Average Precision  (AP) @[ IoU=0.75      | area=   all | maxDets=1000 ] = 0.827\n",
            " Average Precision  (AP) @[ IoU=0.50:0.95 | area= small | maxDets=1000 ] = -1.000\n",
            " Average Precision  (AP) @[ IoU=0.50:0.95 | area=medium | maxDets=1000 ] = -1.000\n",
            " Average Precision  (AP) @[ IoU=0.50:0.95 | area= large | maxDets=1000 ] = 0.723\n",
            " Average Recall     (AR) @[ IoU=0.50:0.95 | area=   all | maxDets=100 ] = 0.823\n",
            " Average Recall     (AR) @[ IoU=0.50:0.95 | area=   all | maxDets=300 ] = 0.823\n",
            " Average Recall     (AR) @[ IoU=0.50:0.95 | area=   all | maxDets=1000 ] = 0.823\n",
            " Average Recall     (AR) @[ IoU=0.50:0.95 | area= small | maxDets=1000 ] = -1.000\n",
            " Average Recall     (AR) @[ IoU=0.50:0.95 | area=medium | maxDets=1000 ] = -1.000\n",
            " Average Recall     (AR) @[ IoU=0.50:0.95 | area= large | maxDets=1000 ] = 0.823\n",
            "\n",
            "2022-05-09 07:40:03,979 - mmdet - INFO - Epoch(val) [68][100]\tbbox_mAP: 0.7230, bbox_mAP_50: 0.8730, bbox_mAP_75: 0.8270, bbox_mAP_s: -1.0000, bbox_mAP_m: -1.0000, bbox_mAP_l: 0.7230, bbox_mAP_copypaste: 0.723 0.873 0.827 -1.000 -1.000 0.723\n"
          ]
        },
        {
          "output_type": "stream",
          "name": "stdout",
          "text": [
            "DONE (t=0.03s).\n"
          ]
        },
        {
          "output_type": "stream",
          "name": "stderr",
          "text": [
            "2022-05-09 07:40:10,812 - mmdet - INFO - Epoch [69][10/100]\tlr: 2.000e-05, eta: 0:17:43, time: 0.678, data_time: 0.576, memory: 1182, loss_cls: 1.1016, loss_bbox: 0.1716, loss: 1.2732\n",
            "2022-05-09 07:40:14,026 - mmdet - INFO - Epoch [69][20/100]\tlr: 2.000e-05, eta: 0:17:39, time: 0.321, data_time: 0.224, memory: 1182, loss_cls: 1.4164, loss_bbox: 0.2407, loss: 1.6571\n",
            "2022-05-09 07:40:17,714 - mmdet - INFO - Epoch [69][30/100]\tlr: 2.000e-05, eta: 0:17:36, time: 0.369, data_time: 0.273, memory: 1182, loss_cls: 1.3137, loss_bbox: 0.1900, loss: 1.5037\n",
            "2022-05-09 07:40:20,378 - mmdet - INFO - Epoch [69][40/100]\tlr: 2.000e-05, eta: 0:17:32, time: 0.266, data_time: 0.172, memory: 1182, loss_cls: 1.3087, loss_bbox: 0.1951, loss: 1.5039\n",
            "2022-05-09 07:40:23,031 - mmdet - INFO - Epoch [69][50/100]\tlr: 2.000e-05, eta: 0:17:29, time: 0.265, data_time: 0.168, memory: 1182, loss_cls: 1.1256, loss_bbox: 0.2305, loss: 1.3560\n",
            "2022-05-09 07:40:26,138 - mmdet - INFO - Epoch [69][60/100]\tlr: 2.000e-05, eta: 0:17:25, time: 0.311, data_time: 0.221, memory: 1182, loss_cls: 1.0011, loss_bbox: 0.1310, loss: 1.1322\n",
            "2022-05-09 07:40:28,649 - mmdet - INFO - Epoch [69][70/100]\tlr: 2.000e-05, eta: 0:17:22, time: 0.251, data_time: 0.157, memory: 1182, loss_cls: 1.1790, loss_bbox: 0.1554, loss: 1.3344\n",
            "2022-05-09 07:40:31,365 - mmdet - INFO - Epoch [69][80/100]\tlr: 2.000e-05, eta: 0:17:18, time: 0.272, data_time: 0.180, memory: 1182, loss_cls: 1.4525, loss_bbox: 0.1754, loss: 1.6279\n",
            "2022-05-09 07:40:33,994 - mmdet - INFO - Epoch [69][90/100]\tlr: 2.000e-05, eta: 0:17:14, time: 0.263, data_time: 0.168, memory: 1182, loss_cls: 1.0194, loss_bbox: 0.1268, loss: 1.1462\n",
            "2022-05-09 07:40:37,268 - mmdet - INFO - Epoch [69][100/100]\tlr: 2.000e-05, eta: 0:17:11, time: 0.327, data_time: 0.233, memory: 1182, loss_cls: 1.1562, loss_bbox: 0.1658, loss: 1.3220\n",
            "2022-05-09 07:40:37,331 - mmdet - INFO - Saving checkpoint at 69 epochs\n"
          ]
        },
        {
          "output_type": "stream",
          "name": "stdout",
          "text": [
            "[>>>>>>>>>>>>>>>>>>>>>>>>>>>>>>] 100/100, 35.8 task/s, elapsed: 3s, ETA:     0s"
          ]
        },
        {
          "output_type": "stream",
          "name": "stderr",
          "text": [
            "2022-05-09 07:40:40,880 - mmdet - INFO - Evaluating bbox...\n"
          ]
        },
        {
          "output_type": "stream",
          "name": "stdout",
          "text": [
            "Loading and preparing results...\n",
            "DONE (t=0.00s)\n",
            "creating index...\n",
            "index created!\n",
            "Running per image evaluation...\n",
            "Evaluate annotation type *bbox*\n",
            "DONE (t=0.09s).\n",
            "Accumulating evaluation results...\n"
          ]
        },
        {
          "output_type": "stream",
          "name": "stderr",
          "text": [
            "2022-05-09 07:40:41,005 - mmdet - INFO - \n",
            " Average Precision  (AP) @[ IoU=0.50:0.95 | area=   all | maxDets=100 ] = 0.714\n",
            " Average Precision  (AP) @[ IoU=0.50      | area=   all | maxDets=1000 ] = 0.868\n",
            " Average Precision  (AP) @[ IoU=0.75      | area=   all | maxDets=1000 ] = 0.823\n",
            " Average Precision  (AP) @[ IoU=0.50:0.95 | area= small | maxDets=1000 ] = -1.000\n",
            " Average Precision  (AP) @[ IoU=0.50:0.95 | area=medium | maxDets=1000 ] = -1.000\n",
            " Average Precision  (AP) @[ IoU=0.50:0.95 | area= large | maxDets=1000 ] = 0.714\n",
            " Average Recall     (AR) @[ IoU=0.50:0.95 | area=   all | maxDets=100 ] = 0.811\n",
            " Average Recall     (AR) @[ IoU=0.50:0.95 | area=   all | maxDets=300 ] = 0.811\n",
            " Average Recall     (AR) @[ IoU=0.50:0.95 | area=   all | maxDets=1000 ] = 0.811\n",
            " Average Recall     (AR) @[ IoU=0.50:0.95 | area= small | maxDets=1000 ] = -1.000\n",
            " Average Recall     (AR) @[ IoU=0.50:0.95 | area=medium | maxDets=1000 ] = -1.000\n",
            " Average Recall     (AR) @[ IoU=0.50:0.95 | area= large | maxDets=1000 ] = 0.811\n",
            "\n",
            "2022-05-09 07:40:41,007 - mmdet - INFO - Epoch(val) [69][100]\tbbox_mAP: 0.7140, bbox_mAP_50: 0.8680, bbox_mAP_75: 0.8230, bbox_mAP_s: -1.0000, bbox_mAP_m: -1.0000, bbox_mAP_l: 0.7140, bbox_mAP_copypaste: 0.714 0.868 0.823 -1.000 -1.000 0.714\n"
          ]
        },
        {
          "output_type": "stream",
          "name": "stdout",
          "text": [
            "DONE (t=0.03s).\n"
          ]
        },
        {
          "output_type": "stream",
          "name": "stderr",
          "text": [
            "2022-05-09 07:40:47,508 - mmdet - INFO - Epoch [70][10/100]\tlr: 2.000e-05, eta: 0:17:09, time: 0.644, data_time: 0.552, memory: 1182, loss_cls: 1.2964, loss_bbox: 0.2283, loss: 1.5248\n",
            "2022-05-09 07:40:50,076 - mmdet - INFO - Epoch [70][20/100]\tlr: 2.000e-05, eta: 0:17:05, time: 0.257, data_time: 0.165, memory: 1182, loss_cls: 1.2459, loss_bbox: 0.2035, loss: 1.4494\n",
            "2022-05-09 07:40:52,381 - mmdet - INFO - Epoch [70][30/100]\tlr: 2.000e-05, eta: 0:17:02, time: 0.230, data_time: 0.139, memory: 1182, loss_cls: 1.1033, loss_bbox: 0.1587, loss: 1.2620\n",
            "2022-05-09 07:40:56,109 - mmdet - INFO - Epoch [70][40/100]\tlr: 2.000e-05, eta: 0:16:58, time: 0.373, data_time: 0.281, memory: 1182, loss_cls: 1.2509, loss_bbox: 0.1996, loss: 1.4505\n",
            "2022-05-09 07:40:58,893 - mmdet - INFO - Epoch [70][50/100]\tlr: 2.000e-05, eta: 0:16:55, time: 0.279, data_time: 0.196, memory: 1182, loss_cls: 1.3699, loss_bbox: 0.1575, loss: 1.5275\n",
            "2022-05-09 07:41:01,851 - mmdet - INFO - Epoch [70][60/100]\tlr: 2.000e-05, eta: 0:16:51, time: 0.296, data_time: 0.204, memory: 1182, loss_cls: 1.0772, loss_bbox: 0.1331, loss: 1.2103\n",
            "2022-05-09 07:41:04,210 - mmdet - INFO - Epoch [70][70/100]\tlr: 2.000e-05, eta: 0:16:48, time: 0.236, data_time: 0.144, memory: 1182, loss_cls: 1.0816, loss_bbox: 0.2141, loss: 1.2957\n",
            "2022-05-09 07:41:07,104 - mmdet - INFO - Epoch [70][80/100]\tlr: 2.000e-05, eta: 0:16:44, time: 0.290, data_time: 0.194, memory: 1182, loss_cls: 1.1089, loss_bbox: 0.1685, loss: 1.2775\n",
            "2022-05-09 07:41:11,272 - mmdet - INFO - Epoch [70][90/100]\tlr: 2.000e-05, eta: 0:16:41, time: 0.417, data_time: 0.327, memory: 1182, loss_cls: 1.4976, loss_bbox: 0.2190, loss: 1.7166\n",
            "2022-05-09 07:41:13,477 - mmdet - INFO - Epoch [70][100/100]\tlr: 2.000e-05, eta: 0:16:37, time: 0.220, data_time: 0.128, memory: 1182, loss_cls: 1.3634, loss_bbox: 0.1924, loss: 1.5558\n",
            "2022-05-09 07:41:13,546 - mmdet - INFO - Saving checkpoint at 70 epochs\n"
          ]
        },
        {
          "output_type": "stream",
          "name": "stdout",
          "text": [
            "[>>>>>>>>>>>>>>>>>>>>>>>>>>>>>>] 100/100, 34.1 task/s, elapsed: 3s, ETA:     0s"
          ]
        },
        {
          "output_type": "stream",
          "name": "stderr",
          "text": [
            "2022-05-09 07:41:17,293 - mmdet - INFO - Evaluating bbox...\n"
          ]
        },
        {
          "output_type": "stream",
          "name": "stdout",
          "text": [
            "Loading and preparing results...\n",
            "DONE (t=0.00s)\n",
            "creating index...\n",
            "index created!\n",
            "Running per image evaluation...\n",
            "Evaluate annotation type *bbox*\n",
            "DONE (t=0.06s).\n",
            "Accumulating evaluation results...\n"
          ]
        },
        {
          "output_type": "stream",
          "name": "stderr",
          "text": [
            "2022-05-09 07:41:17,397 - mmdet - INFO - \n",
            " Average Precision  (AP) @[ IoU=0.50:0.95 | area=   all | maxDets=100 ] = 0.714\n",
            " Average Precision  (AP) @[ IoU=0.50      | area=   all | maxDets=1000 ] = 0.865\n",
            " Average Precision  (AP) @[ IoU=0.75      | area=   all | maxDets=1000 ] = 0.825\n",
            " Average Precision  (AP) @[ IoU=0.50:0.95 | area= small | maxDets=1000 ] = -1.000\n",
            " Average Precision  (AP) @[ IoU=0.50:0.95 | area=medium | maxDets=1000 ] = -1.000\n",
            " Average Precision  (AP) @[ IoU=0.50:0.95 | area= large | maxDets=1000 ] = 0.714\n",
            " Average Recall     (AR) @[ IoU=0.50:0.95 | area=   all | maxDets=100 ] = 0.807\n",
            " Average Recall     (AR) @[ IoU=0.50:0.95 | area=   all | maxDets=300 ] = 0.807\n",
            " Average Recall     (AR) @[ IoU=0.50:0.95 | area=   all | maxDets=1000 ] = 0.807\n",
            " Average Recall     (AR) @[ IoU=0.50:0.95 | area= small | maxDets=1000 ] = -1.000\n",
            " Average Recall     (AR) @[ IoU=0.50:0.95 | area=medium | maxDets=1000 ] = -1.000\n",
            " Average Recall     (AR) @[ IoU=0.50:0.95 | area= large | maxDets=1000 ] = 0.807\n",
            "\n",
            "2022-05-09 07:41:17,399 - mmdet - INFO - Epoch(val) [70][100]\tbbox_mAP: 0.7140, bbox_mAP_50: 0.8650, bbox_mAP_75: 0.8250, bbox_mAP_s: -1.0000, bbox_mAP_m: -1.0000, bbox_mAP_l: 0.7140, bbox_mAP_copypaste: 0.714 0.865 0.825 -1.000 -1.000 0.714\n"
          ]
        },
        {
          "output_type": "stream",
          "name": "stdout",
          "text": [
            "DONE (t=0.03s).\n"
          ]
        },
        {
          "output_type": "stream",
          "name": "stderr",
          "text": [
            "2022-05-09 07:41:23,757 - mmdet - INFO - Epoch [71][10/100]\tlr: 2.000e-05, eta: 0:16:35, time: 0.630, data_time: 0.541, memory: 1182, loss_cls: 1.3440, loss_bbox: 0.1563, loss: 1.5003\n",
            "2022-05-09 07:41:26,322 - mmdet - INFO - Epoch [71][20/100]\tlr: 2.000e-05, eta: 0:16:32, time: 0.257, data_time: 0.165, memory: 1182, loss_cls: 1.1058, loss_bbox: 0.1694, loss: 1.2752\n",
            "2022-05-09 07:41:28,453 - mmdet - INFO - Epoch [71][30/100]\tlr: 2.000e-05, eta: 0:16:28, time: 0.213, data_time: 0.122, memory: 1182, loss_cls: 1.2229, loss_bbox: 0.1429, loss: 1.3658\n",
            "2022-05-09 07:41:32,341 - mmdet - INFO - Epoch [71][40/100]\tlr: 2.000e-05, eta: 0:16:25, time: 0.389, data_time: 0.294, memory: 1182, loss_cls: 1.1343, loss_bbox: 0.1643, loss: 1.2985\n",
            "2022-05-09 07:41:34,443 - mmdet - INFO - Epoch [71][50/100]\tlr: 2.000e-05, eta: 0:16:21, time: 0.210, data_time: 0.119, memory: 1182, loss_cls: 1.1979, loss_bbox: 0.2461, loss: 1.4440\n",
            "2022-05-09 07:41:36,913 - mmdet - INFO - Epoch [71][60/100]\tlr: 2.000e-05, eta: 0:16:17, time: 0.247, data_time: 0.153, memory: 1182, loss_cls: 1.3078, loss_bbox: 0.1645, loss: 1.4722\n",
            "2022-05-09 07:41:40,006 - mmdet - INFO - Epoch [71][70/100]\tlr: 2.000e-05, eta: 0:16:14, time: 0.309, data_time: 0.213, memory: 1182, loss_cls: 1.1836, loss_bbox: 0.1761, loss: 1.3597\n",
            "2022-05-09 07:41:43,529 - mmdet - INFO - Epoch [71][80/100]\tlr: 2.000e-05, eta: 0:16:11, time: 0.352, data_time: 0.257, memory: 1182, loss_cls: 1.2772, loss_bbox: 0.1708, loss: 1.4481\n",
            "2022-05-09 07:41:46,065 - mmdet - INFO - Epoch [71][90/100]\tlr: 2.000e-05, eta: 0:16:07, time: 0.254, data_time: 0.167, memory: 1182, loss_cls: 1.2481, loss_bbox: 0.1801, loss: 1.4282\n",
            "2022-05-09 07:41:49,100 - mmdet - INFO - Epoch [71][100/100]\tlr: 2.000e-05, eta: 0:16:03, time: 0.303, data_time: 0.211, memory: 1182, loss_cls: 1.1732, loss_bbox: 0.1599, loss: 1.3331\n",
            "2022-05-09 07:41:49,165 - mmdet - INFO - Saving checkpoint at 71 epochs\n"
          ]
        },
        {
          "output_type": "stream",
          "name": "stdout",
          "text": [
            "[>>>>>>>>>>>>>>>>>>>>>>>>>>>>>>] 100/100, 34.3 task/s, elapsed: 3s, ETA:     0s"
          ]
        },
        {
          "output_type": "stream",
          "name": "stderr",
          "text": [
            "2022-05-09 07:41:52,842 - mmdet - INFO - Evaluating bbox...\n"
          ]
        },
        {
          "output_type": "stream",
          "name": "stdout",
          "text": [
            "Loading and preparing results...\n",
            "DONE (t=0.00s)\n",
            "creating index...\n",
            "index created!\n",
            "Running per image evaluation...\n",
            "Evaluate annotation type *bbox*\n",
            "DONE (t=0.07s).\n",
            "Accumulating evaluation results...\n"
          ]
        },
        {
          "output_type": "stream",
          "name": "stderr",
          "text": [
            "2022-05-09 07:41:52,948 - mmdet - INFO - \n",
            " Average Precision  (AP) @[ IoU=0.50:0.95 | area=   all | maxDets=100 ] = 0.711\n",
            " Average Precision  (AP) @[ IoU=0.50      | area=   all | maxDets=1000 ] = 0.864\n",
            " Average Precision  (AP) @[ IoU=0.75      | area=   all | maxDets=1000 ] = 0.821\n",
            " Average Precision  (AP) @[ IoU=0.50:0.95 | area= small | maxDets=1000 ] = -1.000\n",
            " Average Precision  (AP) @[ IoU=0.50:0.95 | area=medium | maxDets=1000 ] = -1.000\n",
            " Average Precision  (AP) @[ IoU=0.50:0.95 | area= large | maxDets=1000 ] = 0.711\n",
            " Average Recall     (AR) @[ IoU=0.50:0.95 | area=   all | maxDets=100 ] = 0.800\n",
            " Average Recall     (AR) @[ IoU=0.50:0.95 | area=   all | maxDets=300 ] = 0.800\n",
            " Average Recall     (AR) @[ IoU=0.50:0.95 | area=   all | maxDets=1000 ] = 0.800\n",
            " Average Recall     (AR) @[ IoU=0.50:0.95 | area= small | maxDets=1000 ] = -1.000\n",
            " Average Recall     (AR) @[ IoU=0.50:0.95 | area=medium | maxDets=1000 ] = -1.000\n",
            " Average Recall     (AR) @[ IoU=0.50:0.95 | area= large | maxDets=1000 ] = 0.800\n",
            "\n",
            "2022-05-09 07:41:52,951 - mmdet - INFO - Epoch(val) [71][100]\tbbox_mAP: 0.7110, bbox_mAP_50: 0.8640, bbox_mAP_75: 0.8210, bbox_mAP_s: -1.0000, bbox_mAP_m: -1.0000, bbox_mAP_l: 0.7110, bbox_mAP_copypaste: 0.711 0.864 0.821 -1.000 -1.000 0.711\n"
          ]
        },
        {
          "output_type": "stream",
          "name": "stdout",
          "text": [
            "DONE (t=0.03s).\n"
          ]
        },
        {
          "output_type": "stream",
          "name": "stderr",
          "text": [
            "2022-05-09 07:41:58,983 - mmdet - INFO - Epoch [72][10/100]\tlr: 2.000e-05, eta: 0:16:01, time: 0.598, data_time: 0.503, memory: 1182, loss_cls: 1.2273, loss_bbox: 0.1955, loss: 1.4229\n",
            "2022-05-09 07:42:02,643 - mmdet - INFO - Epoch [72][20/100]\tlr: 2.000e-05, eta: 0:15:58, time: 0.366, data_time: 0.273, memory: 1182, loss_cls: 1.1443, loss_bbox: 0.2171, loss: 1.3615\n",
            "2022-05-09 07:42:05,482 - mmdet - INFO - Epoch [72][30/100]\tlr: 2.000e-05, eta: 0:15:54, time: 0.284, data_time: 0.191, memory: 1182, loss_cls: 1.1613, loss_bbox: 0.2175, loss: 1.3788\n",
            "2022-05-09 07:42:07,749 - mmdet - INFO - Epoch [72][40/100]\tlr: 2.000e-05, eta: 0:15:51, time: 0.227, data_time: 0.130, memory: 1182, loss_cls: 1.2214, loss_bbox: 0.1625, loss: 1.3839\n",
            "2022-05-09 07:42:11,506 - mmdet - INFO - Epoch [72][50/100]\tlr: 2.000e-05, eta: 0:15:48, time: 0.376, data_time: 0.278, memory: 1182, loss_cls: 1.1355, loss_bbox: 0.1737, loss: 1.3093\n",
            "2022-05-09 07:42:15,556 - mmdet - INFO - Epoch [72][60/100]\tlr: 2.000e-05, eta: 0:15:45, time: 0.405, data_time: 0.308, memory: 1182, loss_cls: 1.4317, loss_bbox: 0.2249, loss: 1.6566\n",
            "2022-05-09 07:42:18,787 - mmdet - INFO - Epoch [72][70/100]\tlr: 2.000e-05, eta: 0:15:41, time: 0.323, data_time: 0.229, memory: 1182, loss_cls: 1.1344, loss_bbox: 0.1592, loss: 1.2936\n",
            "2022-05-09 07:42:20,806 - mmdet - INFO - Epoch [72][80/100]\tlr: 2.000e-05, eta: 0:15:37, time: 0.202, data_time: 0.107, memory: 1182, loss_cls: 1.0827, loss_bbox: 0.1668, loss: 1.2495\n",
            "2022-05-09 07:42:24,180 - mmdet - INFO - Epoch [72][90/100]\tlr: 2.000e-05, eta: 0:15:34, time: 0.338, data_time: 0.243, memory: 1182, loss_cls: 1.0914, loss_bbox: 0.1642, loss: 1.2556\n",
            "2022-05-09 07:42:26,943 - mmdet - INFO - Epoch [72][100/100]\tlr: 2.000e-05, eta: 0:15:30, time: 0.276, data_time: 0.187, memory: 1182, loss_cls: 1.1650, loss_bbox: 0.1342, loss: 1.2992\n",
            "2022-05-09 07:42:27,009 - mmdet - INFO - Saving checkpoint at 72 epochs\n"
          ]
        },
        {
          "output_type": "stream",
          "name": "stdout",
          "text": [
            "[>>>>>>>>>>>>>>>>>>>>>>>>>>>>>>] 100/100, 36.1 task/s, elapsed: 3s, ETA:     0s"
          ]
        },
        {
          "output_type": "stream",
          "name": "stderr",
          "text": [
            "2022-05-09 07:42:30,551 - mmdet - INFO - Evaluating bbox...\n"
          ]
        },
        {
          "output_type": "stream",
          "name": "stdout",
          "text": [
            "Loading and preparing results...\n",
            "DONE (t=0.00s)\n",
            "creating index...\n",
            "index created!\n",
            "Running per image evaluation...\n",
            "Evaluate annotation type *bbox*\n",
            "DONE (t=0.07s).\n",
            "Accumulating evaluation results...\n"
          ]
        },
        {
          "output_type": "stream",
          "name": "stderr",
          "text": [
            "2022-05-09 07:42:30,667 - mmdet - INFO - \n",
            " Average Precision  (AP) @[ IoU=0.50:0.95 | area=   all | maxDets=100 ] = 0.714\n",
            " Average Precision  (AP) @[ IoU=0.50      | area=   all | maxDets=1000 ] = 0.865\n",
            " Average Precision  (AP) @[ IoU=0.75      | area=   all | maxDets=1000 ] = 0.827\n",
            " Average Precision  (AP) @[ IoU=0.50:0.95 | area= small | maxDets=1000 ] = -1.000\n",
            " Average Precision  (AP) @[ IoU=0.50:0.95 | area=medium | maxDets=1000 ] = -1.000\n",
            " Average Precision  (AP) @[ IoU=0.50:0.95 | area= large | maxDets=1000 ] = 0.714\n",
            " Average Recall     (AR) @[ IoU=0.50:0.95 | area=   all | maxDets=100 ] = 0.805\n",
            " Average Recall     (AR) @[ IoU=0.50:0.95 | area=   all | maxDets=300 ] = 0.805\n",
            " Average Recall     (AR) @[ IoU=0.50:0.95 | area=   all | maxDets=1000 ] = 0.805\n",
            " Average Recall     (AR) @[ IoU=0.50:0.95 | area= small | maxDets=1000 ] = -1.000\n",
            " Average Recall     (AR) @[ IoU=0.50:0.95 | area=medium | maxDets=1000 ] = -1.000\n",
            " Average Recall     (AR) @[ IoU=0.50:0.95 | area= large | maxDets=1000 ] = 0.805\n",
            "\n",
            "2022-05-09 07:42:30,669 - mmdet - INFO - Epoch(val) [72][100]\tbbox_mAP: 0.7140, bbox_mAP_50: 0.8650, bbox_mAP_75: 0.8270, bbox_mAP_s: -1.0000, bbox_mAP_m: -1.0000, bbox_mAP_l: 0.7140, bbox_mAP_copypaste: 0.714 0.865 0.827 -1.000 -1.000 0.714\n"
          ]
        },
        {
          "output_type": "stream",
          "name": "stdout",
          "text": [
            "DONE (t=0.03s).\n"
          ]
        },
        {
          "output_type": "stream",
          "name": "stderr",
          "text": [
            "2022-05-09 07:42:37,884 - mmdet - INFO - Epoch [73][10/100]\tlr: 2.000e-05, eta: 0:15:29, time: 0.716, data_time: 0.633, memory: 1182, loss_cls: 1.0713, loss_bbox: 0.1266, loss: 1.1978\n",
            "2022-05-09 07:42:40,936 - mmdet - INFO - Epoch [73][20/100]\tlr: 2.000e-05, eta: 0:15:25, time: 0.305, data_time: 0.212, memory: 1182, loss_cls: 1.1542, loss_bbox: 0.1498, loss: 1.3040\n",
            "2022-05-09 07:42:44,368 - mmdet - INFO - Epoch [73][30/100]\tlr: 2.000e-05, eta: 0:15:22, time: 0.343, data_time: 0.249, memory: 1182, loss_cls: 1.4547, loss_bbox: 0.1837, loss: 1.6384\n",
            "2022-05-09 07:42:48,438 - mmdet - INFO - Epoch [73][40/100]\tlr: 2.000e-05, eta: 0:15:19, time: 0.407, data_time: 0.312, memory: 1182, loss_cls: 1.3663, loss_bbox: 0.2022, loss: 1.5684\n",
            "2022-05-09 07:42:51,751 - mmdet - INFO - Epoch [73][50/100]\tlr: 2.000e-05, eta: 0:15:16, time: 0.331, data_time: 0.237, memory: 1182, loss_cls: 1.3840, loss_bbox: 0.2291, loss: 1.6131\n",
            "2022-05-09 07:42:53,752 - mmdet - INFO - Epoch [73][60/100]\tlr: 2.000e-05, eta: 0:15:12, time: 0.200, data_time: 0.105, memory: 1182, loss_cls: 1.1161, loss_bbox: 0.1708, loss: 1.2869\n",
            "2022-05-09 07:42:56,367 - mmdet - INFO - Epoch [73][70/100]\tlr: 2.000e-05, eta: 0:15:08, time: 0.262, data_time: 0.165, memory: 1182, loss_cls: 1.3236, loss_bbox: 0.1747, loss: 1.4982\n",
            "2022-05-09 07:43:00,277 - mmdet - INFO - Epoch [73][80/100]\tlr: 2.000e-05, eta: 0:15:05, time: 0.391, data_time: 0.306, memory: 1182, loss_cls: 1.2946, loss_bbox: 0.2395, loss: 1.5341\n",
            "2022-05-09 07:43:02,930 - mmdet - INFO - Epoch [73][90/100]\tlr: 2.000e-05, eta: 0:15:01, time: 0.265, data_time: 0.170, memory: 1182, loss_cls: 1.2000, loss_bbox: 0.1525, loss: 1.3525\n",
            "2022-05-09 07:43:06,494 - mmdet - INFO - Epoch [73][100/100]\tlr: 2.000e-05, eta: 0:14:58, time: 0.356, data_time: 0.262, memory: 1182, loss_cls: 1.2249, loss_bbox: 0.1759, loss: 1.4008\n",
            "2022-05-09 07:43:06,558 - mmdet - INFO - Saving checkpoint at 73 epochs\n"
          ]
        },
        {
          "output_type": "stream",
          "name": "stdout",
          "text": [
            "[>>>>>>>>>>>>>>>>>>>>>>>>>>>>>>] 100/100, 32.5 task/s, elapsed: 3s, ETA:     0s"
          ]
        },
        {
          "output_type": "stream",
          "name": "stderr",
          "text": [
            "2022-05-09 07:43:10,405 - mmdet - INFO - Evaluating bbox...\n"
          ]
        },
        {
          "output_type": "stream",
          "name": "stdout",
          "text": [
            "Loading and preparing results...\n",
            "DONE (t=0.00s)\n",
            "creating index...\n",
            "index created!\n",
            "Running per image evaluation...\n",
            "Evaluate annotation type *bbox*\n",
            "DONE (t=0.07s).\n",
            "Accumulating evaluation results...\n"
          ]
        },
        {
          "output_type": "stream",
          "name": "stderr",
          "text": [
            "2022-05-09 07:43:10,537 - mmdet - INFO - \n",
            " Average Precision  (AP) @[ IoU=0.50:0.95 | area=   all | maxDets=100 ] = 0.716\n",
            " Average Precision  (AP) @[ IoU=0.50      | area=   all | maxDets=1000 ] = 0.866\n",
            " Average Precision  (AP) @[ IoU=0.75      | area=   all | maxDets=1000 ] = 0.826\n",
            " Average Precision  (AP) @[ IoU=0.50:0.95 | area= small | maxDets=1000 ] = -1.000\n",
            " Average Precision  (AP) @[ IoU=0.50:0.95 | area=medium | maxDets=1000 ] = -1.000\n",
            " Average Precision  (AP) @[ IoU=0.50:0.95 | area= large | maxDets=1000 ] = 0.716\n",
            " Average Recall     (AR) @[ IoU=0.50:0.95 | area=   all | maxDets=100 ] = 0.806\n",
            " Average Recall     (AR) @[ IoU=0.50:0.95 | area=   all | maxDets=300 ] = 0.806\n",
            " Average Recall     (AR) @[ IoU=0.50:0.95 | area=   all | maxDets=1000 ] = 0.806\n",
            " Average Recall     (AR) @[ IoU=0.50:0.95 | area= small | maxDets=1000 ] = -1.000\n",
            " Average Recall     (AR) @[ IoU=0.50:0.95 | area=medium | maxDets=1000 ] = -1.000\n",
            " Average Recall     (AR) @[ IoU=0.50:0.95 | area= large | maxDets=1000 ] = 0.806\n",
            "\n",
            "2022-05-09 07:43:10,540 - mmdet - INFO - Epoch(val) [73][100]\tbbox_mAP: 0.7160, bbox_mAP_50: 0.8660, bbox_mAP_75: 0.8260, bbox_mAP_s: -1.0000, bbox_mAP_m: -1.0000, bbox_mAP_l: 0.7160, bbox_mAP_copypaste: 0.716 0.866 0.826 -1.000 -1.000 0.716\n"
          ]
        },
        {
          "output_type": "stream",
          "name": "stdout",
          "text": [
            "DONE (t=0.04s).\n"
          ]
        },
        {
          "output_type": "stream",
          "name": "stderr",
          "text": [
            "2022-05-09 07:43:17,696 - mmdet - INFO - Epoch [74][10/100]\tlr: 2.000e-05, eta: 0:14:56, time: 0.710, data_time: 0.624, memory: 1182, loss_cls: 1.4766, loss_bbox: 0.2504, loss: 1.7271\n",
            "2022-05-09 07:43:21,203 - mmdet - INFO - Epoch [74][20/100]\tlr: 2.000e-05, eta: 0:14:53, time: 0.351, data_time: 0.256, memory: 1182, loss_cls: 1.3566, loss_bbox: 0.1888, loss: 1.5453\n",
            "2022-05-09 07:43:24,095 - mmdet - INFO - Epoch [74][30/100]\tlr: 2.000e-05, eta: 0:14:49, time: 0.289, data_time: 0.194, memory: 1182, loss_cls: 1.2029, loss_bbox: 0.1528, loss: 1.3558\n",
            "2022-05-09 07:43:27,119 - mmdet - INFO - Epoch [74][40/100]\tlr: 2.000e-05, eta: 0:14:46, time: 0.302, data_time: 0.213, memory: 1182, loss_cls: 1.1271, loss_bbox: 0.1767, loss: 1.3039\n",
            "2022-05-09 07:43:29,975 - mmdet - INFO - Epoch [74][50/100]\tlr: 2.000e-05, eta: 0:14:43, time: 0.285, data_time: 0.190, memory: 1182, loss_cls: 1.4376, loss_bbox: 0.2160, loss: 1.6535\n",
            "2022-05-09 07:43:32,469 - mmdet - INFO - Epoch [74][60/100]\tlr: 2.000e-05, eta: 0:14:39, time: 0.250, data_time: 0.156, memory: 1182, loss_cls: 1.3125, loss_bbox: 0.2252, loss: 1.5377\n",
            "2022-05-09 07:43:35,648 - mmdet - INFO - Epoch [74][70/100]\tlr: 2.000e-05, eta: 0:14:36, time: 0.318, data_time: 0.220, memory: 1182, loss_cls: 1.3281, loss_bbox: 0.1889, loss: 1.5170\n",
            "2022-05-09 07:43:39,189 - mmdet - INFO - Epoch [74][80/100]\tlr: 2.000e-05, eta: 0:14:32, time: 0.354, data_time: 0.261, memory: 1182, loss_cls: 1.2704, loss_bbox: 0.2042, loss: 1.4745\n",
            "2022-05-09 07:43:42,169 - mmdet - INFO - Epoch [74][90/100]\tlr: 2.000e-05, eta: 0:14:29, time: 0.298, data_time: 0.208, memory: 1182, loss_cls: 1.3109, loss_bbox: 0.1579, loss: 1.4688\n",
            "2022-05-09 07:43:44,462 - mmdet - INFO - Epoch [74][100/100]\tlr: 2.000e-05, eta: 0:14:25, time: 0.229, data_time: 0.136, memory: 1182, loss_cls: 1.2190, loss_bbox: 0.1568, loss: 1.3758\n",
            "2022-05-09 07:43:44,531 - mmdet - INFO - Saving checkpoint at 74 epochs\n"
          ]
        },
        {
          "output_type": "stream",
          "name": "stdout",
          "text": [
            "[>>>>>>>>>>>>>>>>>>>>>>>>>>>>>>] 100/100, 35.3 task/s, elapsed: 3s, ETA:     0s"
          ]
        },
        {
          "output_type": "stream",
          "name": "stderr",
          "text": [
            "2022-05-09 07:43:48,132 - mmdet - INFO - Evaluating bbox...\n"
          ]
        },
        {
          "output_type": "stream",
          "name": "stdout",
          "text": [
            "Loading and preparing results...\n",
            "DONE (t=0.00s)\n",
            "creating index...\n",
            "index created!\n",
            "Running per image evaluation...\n",
            "Evaluate annotation type *bbox*\n",
            "DONE (t=0.07s).\n",
            "Accumulating evaluation results...\n"
          ]
        },
        {
          "output_type": "stream",
          "name": "stderr",
          "text": [
            "2022-05-09 07:43:48,246 - mmdet - INFO - \n",
            " Average Precision  (AP) @[ IoU=0.50:0.95 | area=   all | maxDets=100 ] = 0.716\n",
            " Average Precision  (AP) @[ IoU=0.50      | area=   all | maxDets=1000 ] = 0.865\n",
            " Average Precision  (AP) @[ IoU=0.75      | area=   all | maxDets=1000 ] = 0.828\n",
            " Average Precision  (AP) @[ IoU=0.50:0.95 | area= small | maxDets=1000 ] = -1.000\n",
            " Average Precision  (AP) @[ IoU=0.50:0.95 | area=medium | maxDets=1000 ] = -1.000\n",
            " Average Precision  (AP) @[ IoU=0.50:0.95 | area= large | maxDets=1000 ] = 0.716\n",
            " Average Recall     (AR) @[ IoU=0.50:0.95 | area=   all | maxDets=100 ] = 0.805\n",
            " Average Recall     (AR) @[ IoU=0.50:0.95 | area=   all | maxDets=300 ] = 0.805\n",
            " Average Recall     (AR) @[ IoU=0.50:0.95 | area=   all | maxDets=1000 ] = 0.805\n",
            " Average Recall     (AR) @[ IoU=0.50:0.95 | area= small | maxDets=1000 ] = -1.000\n",
            " Average Recall     (AR) @[ IoU=0.50:0.95 | area=medium | maxDets=1000 ] = -1.000\n",
            " Average Recall     (AR) @[ IoU=0.50:0.95 | area= large | maxDets=1000 ] = 0.805\n",
            "\n",
            "2022-05-09 07:43:48,248 - mmdet - INFO - Epoch(val) [74][100]\tbbox_mAP: 0.7160, bbox_mAP_50: 0.8650, bbox_mAP_75: 0.8280, bbox_mAP_s: -1.0000, bbox_mAP_m: -1.0000, bbox_mAP_l: 0.7160, bbox_mAP_copypaste: 0.716 0.865 0.828 -1.000 -1.000 0.716\n"
          ]
        },
        {
          "output_type": "stream",
          "name": "stdout",
          "text": [
            "DONE (t=0.04s).\n"
          ]
        },
        {
          "output_type": "stream",
          "name": "stderr",
          "text": [
            "2022-05-09 07:43:53,995 - mmdet - INFO - Epoch [75][10/100]\tlr: 2.000e-05, eta: 0:14:23, time: 0.569, data_time: 0.472, memory: 1182, loss_cls: 1.1450, loss_bbox: 0.1533, loss: 1.2983\n",
            "2022-05-09 07:43:57,249 - mmdet - INFO - Epoch [75][20/100]\tlr: 2.000e-05, eta: 0:14:19, time: 0.325, data_time: 0.229, memory: 1182, loss_cls: 1.5554, loss_bbox: 0.2787, loss: 1.8341\n",
            "2022-05-09 07:44:00,302 - mmdet - INFO - Epoch [75][30/100]\tlr: 2.000e-05, eta: 0:14:16, time: 0.305, data_time: 0.211, memory: 1182, loss_cls: 1.1450, loss_bbox: 0.1831, loss: 1.3281\n",
            "2022-05-09 07:44:03,108 - mmdet - INFO - Epoch [75][40/100]\tlr: 2.000e-05, eta: 0:14:12, time: 0.280, data_time: 0.185, memory: 1182, loss_cls: 1.0939, loss_bbox: 0.1819, loss: 1.2759\n",
            "2022-05-09 07:44:06,427 - mmdet - INFO - Epoch [75][50/100]\tlr: 2.000e-05, eta: 0:14:09, time: 0.332, data_time: 0.239, memory: 1182, loss_cls: 1.2680, loss_bbox: 0.1701, loss: 1.4380\n",
            "2022-05-09 07:44:09,177 - mmdet - INFO - Epoch [75][60/100]\tlr: 2.000e-05, eta: 0:14:05, time: 0.275, data_time: 0.182, memory: 1182, loss_cls: 0.9857, loss_bbox: 0.1583, loss: 1.1440\n",
            "2022-05-09 07:44:12,511 - mmdet - INFO - Epoch [75][70/100]\tlr: 2.000e-05, eta: 0:14:02, time: 0.334, data_time: 0.247, memory: 1182, loss_cls: 1.1478, loss_bbox: 0.2523, loss: 1.4001\n",
            "2022-05-09 07:44:15,890 - mmdet - INFO - Epoch [75][80/100]\tlr: 2.000e-05, eta: 0:13:59, time: 0.338, data_time: 0.243, memory: 1182, loss_cls: 1.2264, loss_bbox: 0.1770, loss: 1.4035\n",
            "2022-05-09 07:44:18,651 - mmdet - INFO - Epoch [75][90/100]\tlr: 2.000e-05, eta: 0:13:55, time: 0.276, data_time: 0.185, memory: 1182, loss_cls: 1.4367, loss_bbox: 0.2184, loss: 1.6552\n",
            "2022-05-09 07:44:21,124 - mmdet - INFO - Epoch [75][100/100]\tlr: 2.000e-05, eta: 0:13:52, time: 0.247, data_time: 0.158, memory: 1182, loss_cls: 1.4202, loss_bbox: 0.1800, loss: 1.6001\n",
            "2022-05-09 07:44:21,190 - mmdet - INFO - Saving checkpoint at 75 epochs\n"
          ]
        },
        {
          "output_type": "stream",
          "name": "stdout",
          "text": [
            "[>>>>>>>>>>>>>>>>>>>>>>>>>>>>>>] 100/100, 35.9 task/s, elapsed: 3s, ETA:     0s"
          ]
        },
        {
          "output_type": "stream",
          "name": "stderr",
          "text": [
            "2022-05-09 07:44:24,734 - mmdet - INFO - Evaluating bbox...\n"
          ]
        },
        {
          "output_type": "stream",
          "name": "stdout",
          "text": [
            "Loading and preparing results...\n",
            "DONE (t=0.00s)\n",
            "creating index...\n",
            "index created!\n",
            "Running per image evaluation...\n",
            "Evaluate annotation type *bbox*\n",
            "DONE (t=0.06s).\n",
            "Accumulating evaluation results...\n"
          ]
        },
        {
          "output_type": "stream",
          "name": "stderr",
          "text": [
            "2022-05-09 07:44:24,838 - mmdet - INFO - \n",
            " Average Precision  (AP) @[ IoU=0.50:0.95 | area=   all | maxDets=100 ] = 0.714\n",
            " Average Precision  (AP) @[ IoU=0.50      | area=   all | maxDets=1000 ] = 0.866\n",
            " Average Precision  (AP) @[ IoU=0.75      | area=   all | maxDets=1000 ] = 0.826\n",
            " Average Precision  (AP) @[ IoU=0.50:0.95 | area= small | maxDets=1000 ] = -1.000\n",
            " Average Precision  (AP) @[ IoU=0.50:0.95 | area=medium | maxDets=1000 ] = -1.000\n",
            " Average Precision  (AP) @[ IoU=0.50:0.95 | area= large | maxDets=1000 ] = 0.714\n",
            " Average Recall     (AR) @[ IoU=0.50:0.95 | area=   all | maxDets=100 ] = 0.807\n",
            " Average Recall     (AR) @[ IoU=0.50:0.95 | area=   all | maxDets=300 ] = 0.807\n",
            " Average Recall     (AR) @[ IoU=0.50:0.95 | area=   all | maxDets=1000 ] = 0.807\n",
            " Average Recall     (AR) @[ IoU=0.50:0.95 | area= small | maxDets=1000 ] = -1.000\n",
            " Average Recall     (AR) @[ IoU=0.50:0.95 | area=medium | maxDets=1000 ] = -1.000\n",
            " Average Recall     (AR) @[ IoU=0.50:0.95 | area= large | maxDets=1000 ] = 0.807\n",
            "\n",
            "2022-05-09 07:44:24,840 - mmdet - INFO - Epoch(val) [75][100]\tbbox_mAP: 0.7140, bbox_mAP_50: 0.8660, bbox_mAP_75: 0.8260, bbox_mAP_s: -1.0000, bbox_mAP_m: -1.0000, bbox_mAP_l: 0.7140, bbox_mAP_copypaste: 0.714 0.866 0.826 -1.000 -1.000 0.714\n"
          ]
        },
        {
          "output_type": "stream",
          "name": "stdout",
          "text": [
            "DONE (t=0.03s).\n"
          ]
        },
        {
          "output_type": "stream",
          "name": "stderr",
          "text": [
            "2022-05-09 07:44:31,171 - mmdet - INFO - Epoch [76][10/100]\tlr: 2.000e-05, eta: 0:13:49, time: 0.627, data_time: 0.532, memory: 1182, loss_cls: 1.6513, loss_bbox: 0.3276, loss: 1.9789\n",
            "2022-05-09 07:44:33,906 - mmdet - INFO - Epoch [76][20/100]\tlr: 2.000e-05, eta: 0:13:46, time: 0.273, data_time: 0.183, memory: 1182, loss_cls: 1.2291, loss_bbox: 0.1684, loss: 1.3975\n",
            "2022-05-09 07:44:36,230 - mmdet - INFO - Epoch [76][30/100]\tlr: 2.000e-05, eta: 0:13:42, time: 0.233, data_time: 0.140, memory: 1182, loss_cls: 1.3746, loss_bbox: 0.1555, loss: 1.5301\n",
            "2022-05-09 07:44:39,974 - mmdet - INFO - Epoch [76][40/100]\tlr: 2.000e-05, eta: 0:13:39, time: 0.374, data_time: 0.292, memory: 1182, loss_cls: 1.1708, loss_bbox: 0.1650, loss: 1.3358\n",
            "2022-05-09 07:44:43,075 - mmdet - INFO - Epoch [76][50/100]\tlr: 2.000e-05, eta: 0:13:35, time: 0.310, data_time: 0.229, memory: 1182, loss_cls: 1.0582, loss_bbox: 0.1778, loss: 1.2360\n",
            "2022-05-09 07:44:45,401 - mmdet - INFO - Epoch [76][60/100]\tlr: 2.000e-05, eta: 0:13:32, time: 0.232, data_time: 0.141, memory: 1182, loss_cls: 1.0293, loss_bbox: 0.1459, loss: 1.1751\n",
            "2022-05-09 07:44:47,820 - mmdet - INFO - Epoch [76][70/100]\tlr: 2.000e-05, eta: 0:13:28, time: 0.242, data_time: 0.148, memory: 1182, loss_cls: 1.3435, loss_bbox: 0.2183, loss: 1.5619\n",
            "2022-05-09 07:44:51,400 - mmdet - INFO - Epoch [76][80/100]\tlr: 2.000e-05, eta: 0:13:25, time: 0.358, data_time: 0.264, memory: 1182, loss_cls: 1.4200, loss_bbox: 0.1931, loss: 1.6130\n",
            "2022-05-09 07:44:54,623 - mmdet - INFO - Epoch [76][90/100]\tlr: 2.000e-05, eta: 0:13:22, time: 0.322, data_time: 0.226, memory: 1182, loss_cls: 1.1044, loss_bbox: 0.1978, loss: 1.3022\n",
            "2022-05-09 07:44:57,087 - mmdet - INFO - Epoch [76][100/100]\tlr: 2.000e-05, eta: 0:13:18, time: 0.246, data_time: 0.159, memory: 1182, loss_cls: 1.5920, loss_bbox: 0.2523, loss: 1.8443\n",
            "2022-05-09 07:44:57,151 - mmdet - INFO - Saving checkpoint at 76 epochs\n"
          ]
        },
        {
          "output_type": "stream",
          "name": "stdout",
          "text": [
            "[>>>>>>>>>>>>>>>>>>>>>>>>>>>>>>] 100/100, 35.5 task/s, elapsed: 3s, ETA:     0s"
          ]
        },
        {
          "output_type": "stream",
          "name": "stderr",
          "text": [
            "2022-05-09 07:45:00,732 - mmdet - INFO - Evaluating bbox...\n"
          ]
        },
        {
          "output_type": "stream",
          "name": "stdout",
          "text": [
            "Loading and preparing results...\n",
            "DONE (t=0.00s)\n",
            "creating index...\n",
            "index created!\n",
            "Running per image evaluation...\n",
            "Evaluate annotation type *bbox*\n",
            "DONE (t=0.08s).\n",
            "Accumulating evaluation results...\n"
          ]
        },
        {
          "output_type": "stream",
          "name": "stderr",
          "text": [
            "2022-05-09 07:45:00,848 - mmdet - INFO - \n",
            " Average Precision  (AP) @[ IoU=0.50:0.95 | area=   all | maxDets=100 ] = 0.719\n",
            " Average Precision  (AP) @[ IoU=0.50      | area=   all | maxDets=1000 ] = 0.871\n",
            " Average Precision  (AP) @[ IoU=0.75      | area=   all | maxDets=1000 ] = 0.834\n",
            " Average Precision  (AP) @[ IoU=0.50:0.95 | area= small | maxDets=1000 ] = -1.000\n",
            " Average Precision  (AP) @[ IoU=0.50:0.95 | area=medium | maxDets=1000 ] = -1.000\n",
            " Average Precision  (AP) @[ IoU=0.50:0.95 | area= large | maxDets=1000 ] = 0.719\n",
            " Average Recall     (AR) @[ IoU=0.50:0.95 | area=   all | maxDets=100 ] = 0.812\n",
            " Average Recall     (AR) @[ IoU=0.50:0.95 | area=   all | maxDets=300 ] = 0.812\n",
            " Average Recall     (AR) @[ IoU=0.50:0.95 | area=   all | maxDets=1000 ] = 0.812\n",
            " Average Recall     (AR) @[ IoU=0.50:0.95 | area= small | maxDets=1000 ] = -1.000\n",
            " Average Recall     (AR) @[ IoU=0.50:0.95 | area=medium | maxDets=1000 ] = -1.000\n",
            " Average Recall     (AR) @[ IoU=0.50:0.95 | area= large | maxDets=1000 ] = 0.812\n",
            "\n",
            "2022-05-09 07:45:00,851 - mmdet - INFO - Epoch(val) [76][100]\tbbox_mAP: 0.7190, bbox_mAP_50: 0.8710, bbox_mAP_75: 0.8340, bbox_mAP_s: -1.0000, bbox_mAP_m: -1.0000, bbox_mAP_l: 0.7190, bbox_mAP_copypaste: 0.719 0.871 0.834 -1.000 -1.000 0.719\n"
          ]
        },
        {
          "output_type": "stream",
          "name": "stdout",
          "text": [
            "DONE (t=0.03s).\n"
          ]
        },
        {
          "output_type": "stream",
          "name": "stderr",
          "text": [
            "2022-05-09 07:45:06,490 - mmdet - INFO - Epoch [77][10/100]\tlr: 2.000e-05, eta: 0:13:15, time: 0.558, data_time: 0.460, memory: 1182, loss_cls: 1.1293, loss_bbox: 0.1743, loss: 1.3037\n",
            "2022-05-09 07:45:10,391 - mmdet - INFO - Epoch [77][20/100]\tlr: 2.000e-05, eta: 0:13:12, time: 0.390, data_time: 0.291, memory: 1182, loss_cls: 1.0819, loss_bbox: 0.1614, loss: 1.2433\n",
            "2022-05-09 07:45:12,948 - mmdet - INFO - Epoch [77][30/100]\tlr: 2.000e-05, eta: 0:13:09, time: 0.256, data_time: 0.158, memory: 1182, loss_cls: 1.0825, loss_bbox: 0.1070, loss: 1.1895\n",
            "2022-05-09 07:45:16,081 - mmdet - INFO - Epoch [77][40/100]\tlr: 2.000e-05, eta: 0:13:05, time: 0.313, data_time: 0.222, memory: 1182, loss_cls: 1.1865, loss_bbox: 0.1671, loss: 1.3535\n",
            "2022-05-09 07:45:18,967 - mmdet - INFO - Epoch [77][50/100]\tlr: 2.000e-05, eta: 0:13:02, time: 0.289, data_time: 0.203, memory: 1182, loss_cls: 1.1947, loss_bbox: 0.1601, loss: 1.3548\n",
            "2022-05-09 07:45:21,982 - mmdet - INFO - Epoch [77][60/100]\tlr: 2.000e-05, eta: 0:12:58, time: 0.302, data_time: 0.216, memory: 1182, loss_cls: 1.2981, loss_bbox: 0.2169, loss: 1.5150\n",
            "2022-05-09 07:45:24,512 - mmdet - INFO - Epoch [77][70/100]\tlr: 2.000e-05, eta: 0:12:55, time: 0.253, data_time: 0.157, memory: 1182, loss_cls: 0.9714, loss_bbox: 0.1278, loss: 1.0992\n",
            "2022-05-09 07:45:27,044 - mmdet - INFO - Epoch [77][80/100]\tlr: 2.000e-05, eta: 0:12:51, time: 0.253, data_time: 0.162, memory: 1182, loss_cls: 1.1830, loss_bbox: 0.1653, loss: 1.3483\n",
            "2022-05-09 07:45:30,499 - mmdet - INFO - Epoch [77][90/100]\tlr: 2.000e-05, eta: 0:12:48, time: 0.346, data_time: 0.256, memory: 1182, loss_cls: 1.4079, loss_bbox: 0.1814, loss: 1.5893\n",
            "2022-05-09 07:45:33,248 - mmdet - INFO - Epoch [77][100/100]\tlr: 2.000e-05, eta: 0:12:44, time: 0.275, data_time: 0.182, memory: 1182, loss_cls: 1.3411, loss_bbox: 0.2239, loss: 1.5650\n",
            "2022-05-09 07:45:33,314 - mmdet - INFO - Saving checkpoint at 77 epochs\n"
          ]
        },
        {
          "output_type": "stream",
          "name": "stdout",
          "text": [
            "[>>>>>>>>>>>>>>>>>>>>>>>>>>>>>>] 100/100, 35.3 task/s, elapsed: 3s, ETA:     0s"
          ]
        },
        {
          "output_type": "stream",
          "name": "stderr",
          "text": [
            "2022-05-09 07:45:36,909 - mmdet - INFO - Evaluating bbox...\n"
          ]
        },
        {
          "output_type": "stream",
          "name": "stdout",
          "text": [
            "Loading and preparing results...\n",
            "DONE (t=0.00s)\n",
            "creating index...\n",
            "index created!\n",
            "Running per image evaluation...\n",
            "Evaluate annotation type *bbox*\n",
            "DONE (t=0.07s).\n",
            "Accumulating evaluation results...\n"
          ]
        },
        {
          "output_type": "stream",
          "name": "stderr",
          "text": [
            "2022-05-09 07:45:37,021 - mmdet - INFO - \n",
            " Average Precision  (AP) @[ IoU=0.50:0.95 | area=   all | maxDets=100 ] = 0.721\n",
            " Average Precision  (AP) @[ IoU=0.50      | area=   all | maxDets=1000 ] = 0.870\n",
            " Average Precision  (AP) @[ IoU=0.75      | area=   all | maxDets=1000 ] = 0.833\n",
            " Average Precision  (AP) @[ IoU=0.50:0.95 | area= small | maxDets=1000 ] = -1.000\n",
            " Average Precision  (AP) @[ IoU=0.50:0.95 | area=medium | maxDets=1000 ] = -1.000\n",
            " Average Precision  (AP) @[ IoU=0.50:0.95 | area= large | maxDets=1000 ] = 0.721\n",
            " Average Recall     (AR) @[ IoU=0.50:0.95 | area=   all | maxDets=100 ] = 0.808\n",
            " Average Recall     (AR) @[ IoU=0.50:0.95 | area=   all | maxDets=300 ] = 0.808\n",
            " Average Recall     (AR) @[ IoU=0.50:0.95 | area=   all | maxDets=1000 ] = 0.808\n",
            " Average Recall     (AR) @[ IoU=0.50:0.95 | area= small | maxDets=1000 ] = -1.000\n",
            " Average Recall     (AR) @[ IoU=0.50:0.95 | area=medium | maxDets=1000 ] = -1.000\n",
            " Average Recall     (AR) @[ IoU=0.50:0.95 | area= large | maxDets=1000 ] = 0.808\n",
            "\n",
            "2022-05-09 07:45:37,024 - mmdet - INFO - Epoch(val) [77][100]\tbbox_mAP: 0.7210, bbox_mAP_50: 0.8700, bbox_mAP_75: 0.8330, bbox_mAP_s: -1.0000, bbox_mAP_m: -1.0000, bbox_mAP_l: 0.7210, bbox_mAP_copypaste: 0.721 0.870 0.833 -1.000 -1.000 0.721\n"
          ]
        },
        {
          "output_type": "stream",
          "name": "stdout",
          "text": [
            "DONE (t=0.03s).\n"
          ]
        },
        {
          "output_type": "stream",
          "name": "stderr",
          "text": [
            "2022-05-09 07:45:43,770 - mmdet - INFO - Epoch [78][10/100]\tlr: 2.000e-05, eta: 0:12:42, time: 0.669, data_time: 0.589, memory: 1182, loss_cls: 1.4713, loss_bbox: 0.2712, loss: 1.7425\n",
            "2022-05-09 07:45:46,251 - mmdet - INFO - Epoch [78][20/100]\tlr: 2.000e-05, eta: 0:12:39, time: 0.248, data_time: 0.146, memory: 1182, loss_cls: 1.1032, loss_bbox: 0.1488, loss: 1.2520\n",
            "2022-05-09 07:45:49,466 - mmdet - INFO - Epoch [78][30/100]\tlr: 2.000e-05, eta: 0:12:35, time: 0.322, data_time: 0.228, memory: 1182, loss_cls: 1.2453, loss_bbox: 0.1734, loss: 1.4188\n",
            "2022-05-09 07:45:52,369 - mmdet - INFO - Epoch [78][40/100]\tlr: 2.000e-05, eta: 0:12:32, time: 0.290, data_time: 0.193, memory: 1182, loss_cls: 1.2049, loss_bbox: 0.1724, loss: 1.3773\n",
            "2022-05-09 07:45:54,582 - mmdet - INFO - Epoch [78][50/100]\tlr: 2.000e-05, eta: 0:12:28, time: 0.221, data_time: 0.131, memory: 1182, loss_cls: 1.2330, loss_bbox: 0.1242, loss: 1.3572\n",
            "2022-05-09 07:45:57,597 - mmdet - INFO - Epoch [78][60/100]\tlr: 2.000e-05, eta: 0:12:25, time: 0.301, data_time: 0.206, memory: 1182, loss_cls: 1.0187, loss_bbox: 0.2010, loss: 1.2196\n",
            "2022-05-09 07:46:01,451 - mmdet - INFO - Epoch [78][70/100]\tlr: 2.000e-05, eta: 0:12:21, time: 0.385, data_time: 0.295, memory: 1182, loss_cls: 1.5098, loss_bbox: 0.2352, loss: 1.7450\n",
            "2022-05-09 07:46:05,045 - mmdet - INFO - Epoch [78][80/100]\tlr: 2.000e-05, eta: 0:12:18, time: 0.359, data_time: 0.260, memory: 1182, loss_cls: 1.1164, loss_bbox: 0.1393, loss: 1.2557\n",
            "2022-05-09 07:46:08,798 - mmdet - INFO - Epoch [78][90/100]\tlr: 2.000e-05, eta: 0:12:15, time: 0.375, data_time: 0.281, memory: 1182, loss_cls: 1.0939, loss_bbox: 0.1535, loss: 1.2475\n",
            "2022-05-09 07:46:11,513 - mmdet - INFO - Epoch [78][100/100]\tlr: 2.000e-05, eta: 0:12:12, time: 0.271, data_time: 0.177, memory: 1182, loss_cls: 1.7628, loss_bbox: 0.2827, loss: 2.0455\n",
            "2022-05-09 07:46:11,583 - mmdet - INFO - Saving checkpoint at 78 epochs\n"
          ]
        },
        {
          "output_type": "stream",
          "name": "stdout",
          "text": [
            "[>>>>>>>>>>>>>>>>>>>>>>>>>>>>>>] 100/100, 32.3 task/s, elapsed: 3s, ETA:     0s"
          ]
        },
        {
          "output_type": "stream",
          "name": "stderr",
          "text": [
            "2022-05-09 07:46:15,490 - mmdet - INFO - Evaluating bbox...\n"
          ]
        },
        {
          "output_type": "stream",
          "name": "stdout",
          "text": [
            "Loading and preparing results...\n",
            "DONE (t=0.00s)\n",
            "creating index...\n",
            "index created!\n",
            "Running per image evaluation...\n",
            "Evaluate annotation type *bbox*\n",
            "DONE (t=0.06s).\n",
            "Accumulating evaluation results...\n"
          ]
        },
        {
          "output_type": "stream",
          "name": "stderr",
          "text": [
            "2022-05-09 07:46:15,596 - mmdet - INFO - \n",
            " Average Precision  (AP) @[ IoU=0.50:0.95 | area=   all | maxDets=100 ] = 0.727\n",
            " Average Precision  (AP) @[ IoU=0.50      | area=   all | maxDets=1000 ] = 0.876\n",
            " Average Precision  (AP) @[ IoU=0.75      | area=   all | maxDets=1000 ] = 0.838\n",
            " Average Precision  (AP) @[ IoU=0.50:0.95 | area= small | maxDets=1000 ] = -1.000\n",
            " Average Precision  (AP) @[ IoU=0.50:0.95 | area=medium | maxDets=1000 ] = -1.000\n",
            " Average Precision  (AP) @[ IoU=0.50:0.95 | area= large | maxDets=1000 ] = 0.727\n",
            " Average Recall     (AR) @[ IoU=0.50:0.95 | area=   all | maxDets=100 ] = 0.819\n",
            " Average Recall     (AR) @[ IoU=0.50:0.95 | area=   all | maxDets=300 ] = 0.819\n",
            " Average Recall     (AR) @[ IoU=0.50:0.95 | area=   all | maxDets=1000 ] = 0.819\n",
            " Average Recall     (AR) @[ IoU=0.50:0.95 | area= small | maxDets=1000 ] = -1.000\n",
            " Average Recall     (AR) @[ IoU=0.50:0.95 | area=medium | maxDets=1000 ] = -1.000\n",
            " Average Recall     (AR) @[ IoU=0.50:0.95 | area= large | maxDets=1000 ] = 0.819\n",
            "\n",
            "2022-05-09 07:46:15,598 - mmdet - INFO - Epoch(val) [78][100]\tbbox_mAP: 0.7270, bbox_mAP_50: 0.8760, bbox_mAP_75: 0.8380, bbox_mAP_s: -1.0000, bbox_mAP_m: -1.0000, bbox_mAP_l: 0.7270, bbox_mAP_copypaste: 0.727 0.876 0.838 -1.000 -1.000 0.727\n"
          ]
        },
        {
          "output_type": "stream",
          "name": "stdout",
          "text": [
            "DONE (t=0.03s).\n"
          ]
        },
        {
          "output_type": "stream",
          "name": "stderr",
          "text": [
            "2022-05-09 07:46:22,335 - mmdet - INFO - Epoch [79][10/100]\tlr: 2.000e-05, eta: 0:12:09, time: 0.668, data_time: 0.579, memory: 1182, loss_cls: 1.5356, loss_bbox: 0.2657, loss: 1.8013\n",
            "2022-05-09 07:46:25,605 - mmdet - INFO - Epoch [79][20/100]\tlr: 2.000e-05, eta: 0:12:06, time: 0.327, data_time: 0.230, memory: 1182, loss_cls: 1.3030, loss_bbox: 0.1590, loss: 1.4620\n",
            "2022-05-09 07:46:28,892 - mmdet - INFO - Epoch [79][30/100]\tlr: 2.000e-05, eta: 0:12:02, time: 0.329, data_time: 0.235, memory: 1182, loss_cls: 1.3980, loss_bbox: 0.1713, loss: 1.5693\n",
            "2022-05-09 07:46:32,472 - mmdet - INFO - Epoch [79][40/100]\tlr: 2.000e-05, eta: 0:11:59, time: 0.358, data_time: 0.262, memory: 1182, loss_cls: 1.0055, loss_bbox: 0.1410, loss: 1.1465\n",
            "2022-05-09 07:46:34,908 - mmdet - INFO - Epoch [79][50/100]\tlr: 2.000e-05, eta: 0:11:56, time: 0.244, data_time: 0.152, memory: 1182, loss_cls: 1.2317, loss_bbox: 0.1853, loss: 1.4170\n",
            "2022-05-09 07:46:38,098 - mmdet - INFO - Epoch [79][60/100]\tlr: 2.000e-05, eta: 0:11:52, time: 0.319, data_time: 0.222, memory: 1182, loss_cls: 1.1335, loss_bbox: 0.2026, loss: 1.3361\n",
            "2022-05-09 07:46:42,090 - mmdet - INFO - Epoch [79][70/100]\tlr: 2.000e-05, eta: 0:11:49, time: 0.399, data_time: 0.312, memory: 1182, loss_cls: 1.0495, loss_bbox: 0.2497, loss: 1.2992\n",
            "2022-05-09 07:46:45,637 - mmdet - INFO - Epoch [79][80/100]\tlr: 2.000e-05, eta: 0:11:46, time: 0.354, data_time: 0.263, memory: 1182, loss_cls: 1.2081, loss_bbox: 0.1811, loss: 1.3892\n",
            "2022-05-09 07:46:48,014 - mmdet - INFO - Epoch [79][90/100]\tlr: 2.000e-05, eta: 0:11:42, time: 0.238, data_time: 0.148, memory: 1182, loss_cls: 1.0791, loss_bbox: 0.1665, loss: 1.2456\n",
            "2022-05-09 07:46:51,139 - mmdet - INFO - Epoch [79][100/100]\tlr: 2.000e-05, eta: 0:11:39, time: 0.312, data_time: 0.221, memory: 1182, loss_cls: 1.2768, loss_bbox: 0.2270, loss: 1.5038\n",
            "2022-05-09 07:46:51,210 - mmdet - INFO - Saving checkpoint at 79 epochs\n"
          ]
        },
        {
          "output_type": "stream",
          "name": "stdout",
          "text": [
            "[>>>>>>>>>>>>>>>>>>>>>>>>>>>>>>] 100/100, 35.7 task/s, elapsed: 3s, ETA:     0s"
          ]
        },
        {
          "output_type": "stream",
          "name": "stderr",
          "text": [
            "2022-05-09 07:46:54,760 - mmdet - INFO - Evaluating bbox...\n"
          ]
        },
        {
          "output_type": "stream",
          "name": "stdout",
          "text": [
            "Loading and preparing results...\n",
            "DONE (t=0.00s)\n",
            "creating index...\n",
            "index created!\n",
            "Running per image evaluation...\n",
            "Evaluate annotation type *bbox*\n",
            "DONE (t=0.07s).\n",
            "Accumulating evaluation results...\n"
          ]
        },
        {
          "output_type": "stream",
          "name": "stderr",
          "text": [
            "2022-05-09 07:46:54,875 - mmdet - INFO - \n",
            " Average Precision  (AP) @[ IoU=0.50:0.95 | area=   all | maxDets=100 ] = 0.726\n",
            " Average Precision  (AP) @[ IoU=0.50      | area=   all | maxDets=1000 ] = 0.875\n",
            " Average Precision  (AP) @[ IoU=0.75      | area=   all | maxDets=1000 ] = 0.837\n",
            " Average Precision  (AP) @[ IoU=0.50:0.95 | area= small | maxDets=1000 ] = -1.000\n",
            " Average Precision  (AP) @[ IoU=0.50:0.95 | area=medium | maxDets=1000 ] = -1.000\n",
            " Average Precision  (AP) @[ IoU=0.50:0.95 | area= large | maxDets=1000 ] = 0.726\n",
            " Average Recall     (AR) @[ IoU=0.50:0.95 | area=   all | maxDets=100 ] = 0.819\n",
            " Average Recall     (AR) @[ IoU=0.50:0.95 | area=   all | maxDets=300 ] = 0.819\n",
            " Average Recall     (AR) @[ IoU=0.50:0.95 | area=   all | maxDets=1000 ] = 0.819\n",
            " Average Recall     (AR) @[ IoU=0.50:0.95 | area= small | maxDets=1000 ] = -1.000\n",
            " Average Recall     (AR) @[ IoU=0.50:0.95 | area=medium | maxDets=1000 ] = -1.000\n",
            " Average Recall     (AR) @[ IoU=0.50:0.95 | area= large | maxDets=1000 ] = 0.819\n",
            "\n",
            "2022-05-09 07:46:54,878 - mmdet - INFO - Epoch(val) [79][100]\tbbox_mAP: 0.7260, bbox_mAP_50: 0.8750, bbox_mAP_75: 0.8370, bbox_mAP_s: -1.0000, bbox_mAP_m: -1.0000, bbox_mAP_l: 0.7260, bbox_mAP_copypaste: 0.726 0.875 0.837 -1.000 -1.000 0.726\n"
          ]
        },
        {
          "output_type": "stream",
          "name": "stdout",
          "text": [
            "DONE (t=0.03s).\n"
          ]
        },
        {
          "output_type": "stream",
          "name": "stderr",
          "text": [
            "2022-05-09 07:47:01,148 - mmdet - INFO - Epoch [80][10/100]\tlr: 2.000e-05, eta: 0:11:36, time: 0.621, data_time: 0.526, memory: 1182, loss_cls: 1.4850, loss_bbox: 0.1928, loss: 1.6778\n",
            "2022-05-09 07:47:04,185 - mmdet - INFO - Epoch [80][20/100]\tlr: 2.000e-05, eta: 0:11:33, time: 0.304, data_time: 0.210, memory: 1182, loss_cls: 1.2506, loss_bbox: 0.1849, loss: 1.4356\n",
            "2022-05-09 07:47:07,374 - mmdet - INFO - Epoch [80][30/100]\tlr: 2.000e-05, eta: 0:11:29, time: 0.319, data_time: 0.232, memory: 1182, loss_cls: 1.3128, loss_bbox: 0.1751, loss: 1.4880\n",
            "2022-05-09 07:47:10,290 - mmdet - INFO - Epoch [80][40/100]\tlr: 2.000e-05, eta: 0:11:26, time: 0.291, data_time: 0.194, memory: 1182, loss_cls: 1.3536, loss_bbox: 0.2108, loss: 1.5644\n",
            "2022-05-09 07:47:13,734 - mmdet - INFO - Epoch [80][50/100]\tlr: 2.000e-05, eta: 0:11:23, time: 0.344, data_time: 0.256, memory: 1182, loss_cls: 1.3785, loss_bbox: 0.2605, loss: 1.6391\n",
            "2022-05-09 07:47:16,307 - mmdet - INFO - Epoch [80][60/100]\tlr: 2.000e-05, eta: 0:11:19, time: 0.257, data_time: 0.164, memory: 1182, loss_cls: 1.0112, loss_bbox: 0.1218, loss: 1.1330\n",
            "2022-05-09 07:47:19,260 - mmdet - INFO - Epoch [80][70/100]\tlr: 2.000e-05, eta: 0:11:16, time: 0.295, data_time: 0.194, memory: 1182, loss_cls: 0.9702, loss_bbox: 0.1442, loss: 1.1144\n",
            "2022-05-09 07:47:22,637 - mmdet - INFO - Epoch [80][80/100]\tlr: 2.000e-05, eta: 0:11:12, time: 0.338, data_time: 0.241, memory: 1182, loss_cls: 1.0907, loss_bbox: 0.1473, loss: 1.2380\n",
            "2022-05-09 07:47:25,121 - mmdet - INFO - Epoch [80][90/100]\tlr: 2.000e-05, eta: 0:11:09, time: 0.248, data_time: 0.154, memory: 1182, loss_cls: 1.1752, loss_bbox: 0.2079, loss: 1.3831\n",
            "2022-05-09 07:47:27,716 - mmdet - INFO - Epoch [80][100/100]\tlr: 2.000e-05, eta: 0:11:05, time: 0.259, data_time: 0.170, memory: 1182, loss_cls: 1.2051, loss_bbox: 0.1660, loss: 1.3711\n",
            "2022-05-09 07:47:27,779 - mmdet - INFO - Saving checkpoint at 80 epochs\n"
          ]
        },
        {
          "output_type": "stream",
          "name": "stdout",
          "text": [
            "[>>>>>>>>>>>>>>>>>>>>>>>>>>>>>>] 100/100, 35.6 task/s, elapsed: 3s, ETA:     0s"
          ]
        },
        {
          "output_type": "stream",
          "name": "stderr",
          "text": [
            "2022-05-09 07:47:31,349 - mmdet - INFO - Evaluating bbox...\n"
          ]
        },
        {
          "output_type": "stream",
          "name": "stdout",
          "text": [
            "Loading and preparing results...\n",
            "DONE (t=0.00s)\n",
            "creating index...\n",
            "index created!\n",
            "Running per image evaluation...\n",
            "Evaluate annotation type *bbox*\n",
            "DONE (t=0.07s).\n",
            "Accumulating evaluation results...\n"
          ]
        },
        {
          "output_type": "stream",
          "name": "stderr",
          "text": [
            "2022-05-09 07:47:31,462 - mmdet - INFO - \n",
            " Average Precision  (AP) @[ IoU=0.50:0.95 | area=   all | maxDets=100 ] = 0.721\n",
            " Average Precision  (AP) @[ IoU=0.50      | area=   all | maxDets=1000 ] = 0.870\n",
            " Average Precision  (AP) @[ IoU=0.75      | area=   all | maxDets=1000 ] = 0.833\n",
            " Average Precision  (AP) @[ IoU=0.50:0.95 | area= small | maxDets=1000 ] = -1.000\n",
            " Average Precision  (AP) @[ IoU=0.50:0.95 | area=medium | maxDets=1000 ] = -1.000\n",
            " Average Precision  (AP) @[ IoU=0.50:0.95 | area= large | maxDets=1000 ] = 0.721\n",
            " Average Recall     (AR) @[ IoU=0.50:0.95 | area=   all | maxDets=100 ] = 0.809\n",
            " Average Recall     (AR) @[ IoU=0.50:0.95 | area=   all | maxDets=300 ] = 0.809\n",
            " Average Recall     (AR) @[ IoU=0.50:0.95 | area=   all | maxDets=1000 ] = 0.809\n",
            " Average Recall     (AR) @[ IoU=0.50:0.95 | area= small | maxDets=1000 ] = -1.000\n",
            " Average Recall     (AR) @[ IoU=0.50:0.95 | area=medium | maxDets=1000 ] = -1.000\n",
            " Average Recall     (AR) @[ IoU=0.50:0.95 | area= large | maxDets=1000 ] = 0.809\n",
            "\n",
            "2022-05-09 07:47:31,464 - mmdet - INFO - Epoch(val) [80][100]\tbbox_mAP: 0.7210, bbox_mAP_50: 0.8700, bbox_mAP_75: 0.8330, bbox_mAP_s: -1.0000, bbox_mAP_m: -1.0000, bbox_mAP_l: 0.7210, bbox_mAP_copypaste: 0.721 0.870 0.833 -1.000 -1.000 0.721\n"
          ]
        },
        {
          "output_type": "stream",
          "name": "stdout",
          "text": [
            "DONE (t=0.04s).\n"
          ]
        },
        {
          "output_type": "stream",
          "name": "stderr",
          "text": [
            "2022-05-09 07:47:37,426 - mmdet - INFO - Epoch [81][10/100]\tlr: 2.000e-05, eta: 0:11:03, time: 0.591, data_time: 0.486, memory: 1182, loss_cls: 1.1047, loss_bbox: 0.2151, loss: 1.3197\n",
            "2022-05-09 07:47:40,872 - mmdet - INFO - Epoch [81][20/100]\tlr: 2.000e-05, eta: 0:10:59, time: 0.344, data_time: 0.246, memory: 1182, loss_cls: 1.2951, loss_bbox: 0.1642, loss: 1.4593\n",
            "2022-05-09 07:47:44,048 - mmdet - INFO - Epoch [81][30/100]\tlr: 2.000e-05, eta: 0:10:56, time: 0.318, data_time: 0.224, memory: 1182, loss_cls: 1.3322, loss_bbox: 0.2389, loss: 1.5711\n",
            "2022-05-09 07:47:47,126 - mmdet - INFO - Epoch [81][40/100]\tlr: 2.000e-05, eta: 0:10:53, time: 0.308, data_time: 0.217, memory: 1182, loss_cls: 1.2873, loss_bbox: 0.1776, loss: 1.4649\n",
            "2022-05-09 07:47:50,101 - mmdet - INFO - Epoch [81][50/100]\tlr: 2.000e-05, eta: 0:10:49, time: 0.298, data_time: 0.201, memory: 1182, loss_cls: 1.1976, loss_bbox: 0.1957, loss: 1.3933\n",
            "2022-05-09 07:47:53,401 - mmdet - INFO - Epoch [81][60/100]\tlr: 2.000e-05, eta: 0:10:46, time: 0.329, data_time: 0.237, memory: 1182, loss_cls: 1.0356, loss_bbox: 0.1717, loss: 1.2072\n",
            "2022-05-09 07:47:55,749 - mmdet - INFO - Epoch [81][70/100]\tlr: 2.000e-05, eta: 0:10:42, time: 0.235, data_time: 0.140, memory: 1182, loss_cls: 1.1353, loss_bbox: 0.1821, loss: 1.3174\n",
            "2022-05-09 07:47:57,997 - mmdet - INFO - Epoch [81][80/100]\tlr: 2.000e-05, eta: 0:10:39, time: 0.225, data_time: 0.125, memory: 1182, loss_cls: 1.0604, loss_bbox: 0.1531, loss: 1.2134\n",
            "2022-05-09 07:48:00,822 - mmdet - INFO - Epoch [81][90/100]\tlr: 2.000e-05, eta: 0:10:35, time: 0.282, data_time: 0.191, memory: 1182, loss_cls: 1.5065, loss_bbox: 0.1652, loss: 1.6717\n",
            "2022-05-09 07:48:04,207 - mmdet - INFO - Epoch [81][100/100]\tlr: 2.000e-05, eta: 0:10:32, time: 0.338, data_time: 0.247, memory: 1182, loss_cls: 1.3914, loss_bbox: 0.1836, loss: 1.5750\n",
            "2022-05-09 07:48:04,273 - mmdet - INFO - Saving checkpoint at 81 epochs\n"
          ]
        },
        {
          "output_type": "stream",
          "name": "stdout",
          "text": [
            "[>>>>>>>>>>>>>>>>>>>>>>>>>>>>>>] 100/100, 35.0 task/s, elapsed: 3s, ETA:     0s"
          ]
        },
        {
          "output_type": "stream",
          "name": "stderr",
          "text": [
            "2022-05-09 07:48:07,892 - mmdet - INFO - Evaluating bbox...\n"
          ]
        },
        {
          "output_type": "stream",
          "name": "stdout",
          "text": [
            "Loading and preparing results...\n",
            "DONE (t=0.00s)\n",
            "creating index...\n",
            "index created!\n",
            "Running per image evaluation...\n",
            "Evaluate annotation type *bbox*\n",
            "DONE (t=0.07s).\n",
            "Accumulating evaluation results...\n"
          ]
        },
        {
          "output_type": "stream",
          "name": "stderr",
          "text": [
            "2022-05-09 07:48:08,011 - mmdet - INFO - \n",
            " Average Precision  (AP) @[ IoU=0.50:0.95 | area=   all | maxDets=100 ] = 0.724\n",
            " Average Precision  (AP) @[ IoU=0.50      | area=   all | maxDets=1000 ] = 0.875\n",
            " Average Precision  (AP) @[ IoU=0.75      | area=   all | maxDets=1000 ] = 0.837\n",
            " Average Precision  (AP) @[ IoU=0.50:0.95 | area= small | maxDets=1000 ] = -1.000\n",
            " Average Precision  (AP) @[ IoU=0.50:0.95 | area=medium | maxDets=1000 ] = -1.000\n",
            " Average Precision  (AP) @[ IoU=0.50:0.95 | area= large | maxDets=1000 ] = 0.724\n",
            " Average Recall     (AR) @[ IoU=0.50:0.95 | area=   all | maxDets=100 ] = 0.815\n",
            " Average Recall     (AR) @[ IoU=0.50:0.95 | area=   all | maxDets=300 ] = 0.815\n",
            " Average Recall     (AR) @[ IoU=0.50:0.95 | area=   all | maxDets=1000 ] = 0.815\n",
            " Average Recall     (AR) @[ IoU=0.50:0.95 | area= small | maxDets=1000 ] = -1.000\n",
            " Average Recall     (AR) @[ IoU=0.50:0.95 | area=medium | maxDets=1000 ] = -1.000\n",
            " Average Recall     (AR) @[ IoU=0.50:0.95 | area= large | maxDets=1000 ] = 0.815\n",
            "\n",
            "2022-05-09 07:48:08,014 - mmdet - INFO - Epoch(val) [81][100]\tbbox_mAP: 0.7240, bbox_mAP_50: 0.8750, bbox_mAP_75: 0.8370, bbox_mAP_s: -1.0000, bbox_mAP_m: -1.0000, bbox_mAP_l: 0.7240, bbox_mAP_copypaste: 0.724 0.875 0.837 -1.000 -1.000 0.724\n"
          ]
        },
        {
          "output_type": "stream",
          "name": "stdout",
          "text": [
            "DONE (t=0.04s).\n"
          ]
        },
        {
          "output_type": "stream",
          "name": "stderr",
          "text": [
            "2022-05-09 07:48:14,639 - mmdet - INFO - Epoch [82][10/100]\tlr: 2.000e-05, eta: 0:10:29, time: 0.657, data_time: 0.572, memory: 1182, loss_cls: 1.2578, loss_bbox: 0.1656, loss: 1.4234\n",
            "2022-05-09 07:48:17,439 - mmdet - INFO - Epoch [82][20/100]\tlr: 2.000e-05, eta: 0:10:26, time: 0.280, data_time: 0.192, memory: 1182, loss_cls: 1.3581, loss_bbox: 0.2115, loss: 1.5696\n",
            "2022-05-09 07:48:20,771 - mmdet - INFO - Epoch [82][30/100]\tlr: 2.000e-05, eta: 0:10:23, time: 0.333, data_time: 0.237, memory: 1182, loss_cls: 1.2934, loss_bbox: 0.1973, loss: 1.4907\n",
            "2022-05-09 07:48:24,580 - mmdet - INFO - Epoch [82][40/100]\tlr: 2.000e-05, eta: 0:10:19, time: 0.381, data_time: 0.287, memory: 1182, loss_cls: 1.2153, loss_bbox: 0.2102, loss: 1.4255\n",
            "2022-05-09 07:48:28,415 - mmdet - INFO - Epoch [82][50/100]\tlr: 2.000e-05, eta: 0:10:16, time: 0.383, data_time: 0.294, memory: 1182, loss_cls: 1.3166, loss_bbox: 0.1547, loss: 1.4712\n",
            "2022-05-09 07:48:31,358 - mmdet - INFO - Epoch [82][60/100]\tlr: 2.000e-05, eta: 0:10:13, time: 0.295, data_time: 0.208, memory: 1182, loss_cls: 1.4278, loss_bbox: 0.2094, loss: 1.6373\n",
            "2022-05-09 07:48:34,374 - mmdet - INFO - Epoch [82][70/100]\tlr: 2.000e-05, eta: 0:10:09, time: 0.302, data_time: 0.206, memory: 1182, loss_cls: 1.2941, loss_bbox: 0.1851, loss: 1.4792\n",
            "2022-05-09 07:48:38,127 - mmdet - INFO - Epoch [82][80/100]\tlr: 2.000e-05, eta: 0:10:06, time: 0.375, data_time: 0.281, memory: 1182, loss_cls: 1.0494, loss_bbox: 0.1397, loss: 1.1891\n",
            "2022-05-09 07:48:40,349 - mmdet - INFO - Epoch [82][90/100]\tlr: 2.000e-05, eta: 0:10:03, time: 0.222, data_time: 0.126, memory: 1182, loss_cls: 1.1142, loss_bbox: 0.1627, loss: 1.2768\n",
            "2022-05-09 07:48:44,081 - mmdet - INFO - Epoch [82][100/100]\tlr: 2.000e-05, eta: 0:09:59, time: 0.373, data_time: 0.284, memory: 1182, loss_cls: 1.2150, loss_bbox: 0.1736, loss: 1.3886\n",
            "2022-05-09 07:48:44,144 - mmdet - INFO - Saving checkpoint at 82 epochs\n"
          ]
        },
        {
          "output_type": "stream",
          "name": "stdout",
          "text": [
            "[>>>>>>>>>>>>>>>>>>>>>>>>>>>>>>] 100/100, 35.1 task/s, elapsed: 3s, ETA:     0s"
          ]
        },
        {
          "output_type": "stream",
          "name": "stderr",
          "text": [
            "2022-05-09 07:48:47,754 - mmdet - INFO - Evaluating bbox...\n"
          ]
        },
        {
          "output_type": "stream",
          "name": "stdout",
          "text": [
            "Loading and preparing results...\n",
            "DONE (t=0.00s)\n",
            "creating index...\n",
            "index created!\n",
            "Running per image evaluation...\n",
            "Evaluate annotation type *bbox*\n",
            "DONE (t=0.06s).\n",
            "Accumulating evaluation results...\n"
          ]
        },
        {
          "output_type": "stream",
          "name": "stderr",
          "text": [
            "2022-05-09 07:48:47,855 - mmdet - INFO - \n",
            " Average Precision  (AP) @[ IoU=0.50:0.95 | area=   all | maxDets=100 ] = 0.721\n",
            " Average Precision  (AP) @[ IoU=0.50      | area=   all | maxDets=1000 ] = 0.873\n",
            " Average Precision  (AP) @[ IoU=0.75      | area=   all | maxDets=1000 ] = 0.833\n",
            " Average Precision  (AP) @[ IoU=0.50:0.95 | area= small | maxDets=1000 ] = -1.000\n",
            " Average Precision  (AP) @[ IoU=0.50:0.95 | area=medium | maxDets=1000 ] = -1.000\n",
            " Average Precision  (AP) @[ IoU=0.50:0.95 | area= large | maxDets=1000 ] = 0.721\n",
            " Average Recall     (AR) @[ IoU=0.50:0.95 | area=   all | maxDets=100 ] = 0.814\n",
            " Average Recall     (AR) @[ IoU=0.50:0.95 | area=   all | maxDets=300 ] = 0.814\n",
            " Average Recall     (AR) @[ IoU=0.50:0.95 | area=   all | maxDets=1000 ] = 0.814\n",
            " Average Recall     (AR) @[ IoU=0.50:0.95 | area= small | maxDets=1000 ] = -1.000\n",
            " Average Recall     (AR) @[ IoU=0.50:0.95 | area=medium | maxDets=1000 ] = -1.000\n",
            " Average Recall     (AR) @[ IoU=0.50:0.95 | area= large | maxDets=1000 ] = 0.814\n",
            "\n"
          ]
        },
        {
          "output_type": "stream",
          "name": "stdout",
          "text": [
            "DONE (t=0.03s).\n"
          ]
        },
        {
          "output_type": "stream",
          "name": "stderr",
          "text": [
            "2022-05-09 07:48:47,858 - mmdet - INFO - Epoch(val) [82][100]\tbbox_mAP: 0.7210, bbox_mAP_50: 0.8730, bbox_mAP_75: 0.8330, bbox_mAP_s: -1.0000, bbox_mAP_m: -1.0000, bbox_mAP_l: 0.7210, bbox_mAP_copypaste: 0.721 0.873 0.833 -1.000 -1.000 0.721\n",
            "2022-05-09 07:48:53,795 - mmdet - INFO - Epoch [83][10/100]\tlr: 2.000e-05, eta: 0:09:57, time: 0.588, data_time: 0.493, memory: 1182, loss_cls: 1.0670, loss_bbox: 0.1185, loss: 1.1855\n",
            "2022-05-09 07:48:56,976 - mmdet - INFO - Epoch [83][20/100]\tlr: 2.000e-05, eta: 0:09:53, time: 0.318, data_time: 0.223, memory: 1182, loss_cls: 1.3207, loss_bbox: 0.3439, loss: 1.6647\n",
            "2022-05-09 07:49:00,009 - mmdet - INFO - Epoch [83][30/100]\tlr: 2.000e-05, eta: 0:09:50, time: 0.303, data_time: 0.214, memory: 1182, loss_cls: 1.1586, loss_bbox: 0.1834, loss: 1.3420\n",
            "2022-05-09 07:49:03,223 - mmdet - INFO - Epoch [83][40/100]\tlr: 2.000e-05, eta: 0:09:46, time: 0.321, data_time: 0.232, memory: 1182, loss_cls: 1.2038, loss_bbox: 0.1711, loss: 1.3749\n",
            "2022-05-09 07:49:06,500 - mmdet - INFO - Epoch [83][50/100]\tlr: 2.000e-05, eta: 0:09:43, time: 0.327, data_time: 0.237, memory: 1182, loss_cls: 1.3154, loss_bbox: 0.2013, loss: 1.5167\n",
            "2022-05-09 07:49:08,738 - mmdet - INFO - Epoch [83][60/100]\tlr: 2.000e-05, eta: 0:09:39, time: 0.224, data_time: 0.140, memory: 1182, loss_cls: 1.1241, loss_bbox: 0.1890, loss: 1.3131\n",
            "2022-05-09 07:49:13,012 - mmdet - INFO - Epoch [83][70/100]\tlr: 2.000e-05, eta: 0:09:36, time: 0.427, data_time: 0.332, memory: 1182, loss_cls: 1.2372, loss_bbox: 0.1557, loss: 1.3930\n",
            "2022-05-09 07:49:16,044 - mmdet - INFO - Epoch [83][80/100]\tlr: 2.000e-05, eta: 0:09:33, time: 0.303, data_time: 0.207, memory: 1182, loss_cls: 1.4362, loss_bbox: 0.2041, loss: 1.6404\n",
            "2022-05-09 07:49:18,571 - mmdet - INFO - Epoch [83][90/100]\tlr: 2.000e-05, eta: 0:09:29, time: 0.253, data_time: 0.166, memory: 1182, loss_cls: 1.2623, loss_bbox: 0.2381, loss: 1.5003\n",
            "2022-05-09 07:49:20,762 - mmdet - INFO - Epoch [83][100/100]\tlr: 2.000e-05, eta: 0:09:26, time: 0.219, data_time: 0.140, memory: 1182, loss_cls: 1.2889, loss_bbox: 0.2177, loss: 1.5066\n",
            "2022-05-09 07:49:20,829 - mmdet - INFO - Saving checkpoint at 83 epochs\n"
          ]
        },
        {
          "output_type": "stream",
          "name": "stdout",
          "text": [
            "[>>>>>>>>>>>>>>>>>>>>>>>>>>>>>>] 100/100, 35.2 task/s, elapsed: 3s, ETA:     0s"
          ]
        },
        {
          "output_type": "stream",
          "name": "stderr",
          "text": [
            "2022-05-09 07:49:24,437 - mmdet - INFO - Evaluating bbox...\n"
          ]
        },
        {
          "output_type": "stream",
          "name": "stdout",
          "text": [
            "Loading and preparing results...\n",
            "DONE (t=0.00s)\n",
            "creating index...\n",
            "index created!\n",
            "Running per image evaluation...\n",
            "Evaluate annotation type *bbox*\n"
          ]
        },
        {
          "output_type": "stream",
          "name": "stderr",
          "text": [
            "2022-05-09 07:49:24,655 - mmdet - INFO - \n",
            " Average Precision  (AP) @[ IoU=0.50:0.95 | area=   all | maxDets=100 ] = 0.721\n",
            " Average Precision  (AP) @[ IoU=0.50      | area=   all | maxDets=1000 ] = 0.871\n",
            " Average Precision  (AP) @[ IoU=0.75      | area=   all | maxDets=1000 ] = 0.833\n",
            " Average Precision  (AP) @[ IoU=0.50:0.95 | area= small | maxDets=1000 ] = -1.000\n",
            " Average Precision  (AP) @[ IoU=0.50:0.95 | area=medium | maxDets=1000 ] = -1.000\n",
            " Average Precision  (AP) @[ IoU=0.50:0.95 | area= large | maxDets=1000 ] = 0.721\n",
            " Average Recall     (AR) @[ IoU=0.50:0.95 | area=   all | maxDets=100 ] = 0.817\n",
            " Average Recall     (AR) @[ IoU=0.50:0.95 | area=   all | maxDets=300 ] = 0.817\n",
            " Average Recall     (AR) @[ IoU=0.50:0.95 | area=   all | maxDets=1000 ] = 0.817\n",
            " Average Recall     (AR) @[ IoU=0.50:0.95 | area= small | maxDets=1000 ] = -1.000\n",
            " Average Recall     (AR) @[ IoU=0.50:0.95 | area=medium | maxDets=1000 ] = -1.000\n",
            " Average Recall     (AR) @[ IoU=0.50:0.95 | area= large | maxDets=1000 ] = 0.817\n",
            "\n",
            "2022-05-09 07:49:24,658 - mmdet - INFO - Epoch(val) [83][100]\tbbox_mAP: 0.7210, bbox_mAP_50: 0.8710, bbox_mAP_75: 0.8330, bbox_mAP_s: -1.0000, bbox_mAP_m: -1.0000, bbox_mAP_l: 0.7210, bbox_mAP_copypaste: 0.721 0.871 0.833 -1.000 -1.000 0.721\n"
          ]
        },
        {
          "output_type": "stream",
          "name": "stdout",
          "text": [
            "DONE (t=0.06s).\n",
            "Accumulating evaluation results...\n",
            "DONE (t=0.03s).\n"
          ]
        },
        {
          "output_type": "stream",
          "name": "stderr",
          "text": [
            "2022-05-09 07:49:30,818 - mmdet - INFO - Epoch [84][10/100]\tlr: 2.000e-05, eta: 0:09:23, time: 0.610, data_time: 0.519, memory: 1182, loss_cls: 1.0852, loss_bbox: 0.1327, loss: 1.2179\n",
            "2022-05-09 07:49:33,884 - mmdet - INFO - Epoch [84][20/100]\tlr: 2.000e-05, eta: 0:09:20, time: 0.307, data_time: 0.215, memory: 1182, loss_cls: 1.2513, loss_bbox: 0.1710, loss: 1.4223\n",
            "2022-05-09 07:49:37,491 - mmdet - INFO - Epoch [84][30/100]\tlr: 2.000e-05, eta: 0:09:16, time: 0.361, data_time: 0.270, memory: 1182, loss_cls: 1.3854, loss_bbox: 0.1628, loss: 1.5482\n",
            "2022-05-09 07:49:40,475 - mmdet - INFO - Epoch [84][40/100]\tlr: 2.000e-05, eta: 0:09:13, time: 0.298, data_time: 0.207, memory: 1182, loss_cls: 1.2662, loss_bbox: 0.1587, loss: 1.4249\n",
            "2022-05-09 07:49:43,956 - mmdet - INFO - Epoch [84][50/100]\tlr: 2.000e-05, eta: 0:09:10, time: 0.348, data_time: 0.262, memory: 1182, loss_cls: 1.1653, loss_bbox: 0.1615, loss: 1.3269\n",
            "2022-05-09 07:49:46,167 - mmdet - INFO - Epoch [84][60/100]\tlr: 2.000e-05, eta: 0:09:06, time: 0.221, data_time: 0.127, memory: 1182, loss_cls: 1.2625, loss_bbox: 0.1959, loss: 1.4584\n",
            "2022-05-09 07:49:49,609 - mmdet - INFO - Epoch [84][70/100]\tlr: 2.000e-05, eta: 0:09:03, time: 0.344, data_time: 0.252, memory: 1182, loss_cls: 1.1548, loss_bbox: 0.2193, loss: 1.3741\n",
            "2022-05-09 07:49:52,651 - mmdet - INFO - Epoch [84][80/100]\tlr: 2.000e-05, eta: 0:08:59, time: 0.304, data_time: 0.218, memory: 1182, loss_cls: 1.0987, loss_bbox: 0.1482, loss: 1.2469\n",
            "2022-05-09 07:49:55,533 - mmdet - INFO - Epoch [84][90/100]\tlr: 2.000e-05, eta: 0:08:56, time: 0.288, data_time: 0.204, memory: 1182, loss_cls: 1.4566, loss_bbox: 0.3588, loss: 1.8154\n",
            "2022-05-09 07:49:58,131 - mmdet - INFO - Epoch [84][100/100]\tlr: 2.000e-05, eta: 0:08:53, time: 0.260, data_time: 0.175, memory: 1182, loss_cls: 1.2172, loss_bbox: 0.1513, loss: 1.3685\n",
            "2022-05-09 07:49:58,195 - mmdet - INFO - Saving checkpoint at 84 epochs\n"
          ]
        },
        {
          "output_type": "stream",
          "name": "stdout",
          "text": [
            "[>>>>>>>>>>>>>>>>>>>>>>>>>>>>>>] 100/100, 35.7 task/s, elapsed: 3s, ETA:     0s"
          ]
        },
        {
          "output_type": "stream",
          "name": "stderr",
          "text": [
            "2022-05-09 07:50:01,744 - mmdet - INFO - Evaluating bbox...\n"
          ]
        },
        {
          "output_type": "stream",
          "name": "stdout",
          "text": [
            "Loading and preparing results...\n",
            "DONE (t=0.00s)\n",
            "creating index...\n",
            "index created!\n",
            "Running per image evaluation...\n",
            "Evaluate annotation type *bbox*\n",
            "DONE (t=0.07s).\n",
            "Accumulating evaluation results...\n"
          ]
        },
        {
          "output_type": "stream",
          "name": "stderr",
          "text": [
            "2022-05-09 07:50:01,853 - mmdet - INFO - \n",
            " Average Precision  (AP) @[ IoU=0.50:0.95 | area=   all | maxDets=100 ] = 0.720\n",
            " Average Precision  (AP) @[ IoU=0.50      | area=   all | maxDets=1000 ] = 0.875\n",
            " Average Precision  (AP) @[ IoU=0.75      | area=   all | maxDets=1000 ] = 0.835\n",
            " Average Precision  (AP) @[ IoU=0.50:0.95 | area= small | maxDets=1000 ] = -1.000\n",
            " Average Precision  (AP) @[ IoU=0.50:0.95 | area=medium | maxDets=1000 ] = -1.000\n",
            " Average Precision  (AP) @[ IoU=0.50:0.95 | area= large | maxDets=1000 ] = 0.720\n",
            " Average Recall     (AR) @[ IoU=0.50:0.95 | area=   all | maxDets=100 ] = 0.814\n",
            " Average Recall     (AR) @[ IoU=0.50:0.95 | area=   all | maxDets=300 ] = 0.814\n",
            " Average Recall     (AR) @[ IoU=0.50:0.95 | area=   all | maxDets=1000 ] = 0.814\n",
            " Average Recall     (AR) @[ IoU=0.50:0.95 | area= small | maxDets=1000 ] = -1.000\n",
            " Average Recall     (AR) @[ IoU=0.50:0.95 | area=medium | maxDets=1000 ] = -1.000\n",
            " Average Recall     (AR) @[ IoU=0.50:0.95 | area= large | maxDets=1000 ] = 0.814\n",
            "\n",
            "2022-05-09 07:50:01,856 - mmdet - INFO - Epoch(val) [84][100]\tbbox_mAP: 0.7200, bbox_mAP_50: 0.8750, bbox_mAP_75: 0.8350, bbox_mAP_s: -1.0000, bbox_mAP_m: -1.0000, bbox_mAP_l: 0.7200, bbox_mAP_copypaste: 0.720 0.875 0.835 -1.000 -1.000 0.720\n"
          ]
        },
        {
          "output_type": "stream",
          "name": "stdout",
          "text": [
            "DONE (t=0.03s).\n"
          ]
        },
        {
          "output_type": "stream",
          "name": "stderr",
          "text": [
            "2022-05-09 07:50:08,460 - mmdet - INFO - Epoch [85][10/100]\tlr: 2.000e-05, eta: 0:08:50, time: 0.655, data_time: 0.556, memory: 1182, loss_cls: 1.1134, loss_bbox: 0.1885, loss: 1.3019\n",
            "2022-05-09 07:50:12,797 - mmdet - INFO - Epoch [85][20/100]\tlr: 2.000e-05, eta: 0:08:47, time: 0.434, data_time: 0.336, memory: 1182, loss_cls: 1.1292, loss_bbox: 0.1388, loss: 1.2680\n",
            "2022-05-09 07:50:16,595 - mmdet - INFO - Epoch [85][30/100]\tlr: 2.000e-05, eta: 0:08:43, time: 0.380, data_time: 0.286, memory: 1182, loss_cls: 1.1015, loss_bbox: 0.1729, loss: 1.2744\n",
            "2022-05-09 07:50:18,748 - mmdet - INFO - Epoch [85][40/100]\tlr: 2.000e-05, eta: 0:08:40, time: 0.215, data_time: 0.116, memory: 1182, loss_cls: 1.1985, loss_bbox: 0.2228, loss: 1.4214\n",
            "2022-05-09 07:50:22,120 - mmdet - INFO - Epoch [85][50/100]\tlr: 2.000e-05, eta: 0:08:37, time: 0.337, data_time: 0.241, memory: 1182, loss_cls: 1.0171, loss_bbox: 0.1362, loss: 1.1534\n",
            "2022-05-09 07:50:25,716 - mmdet - INFO - Epoch [85][60/100]\tlr: 2.000e-05, eta: 0:08:33, time: 0.360, data_time: 0.265, memory: 1182, loss_cls: 1.3476, loss_bbox: 0.2244, loss: 1.5720\n",
            "2022-05-09 07:50:29,264 - mmdet - INFO - Epoch [85][70/100]\tlr: 2.000e-05, eta: 0:08:30, time: 0.355, data_time: 0.260, memory: 1182, loss_cls: 1.4419, loss_bbox: 0.2478, loss: 1.6897\n",
            "2022-05-09 07:50:31,654 - mmdet - INFO - Epoch [85][80/100]\tlr: 2.000e-05, eta: 0:08:26, time: 0.239, data_time: 0.144, memory: 1182, loss_cls: 0.9831, loss_bbox: 0.1261, loss: 1.1092\n",
            "2022-05-09 07:50:34,497 - mmdet - INFO - Epoch [85][90/100]\tlr: 2.000e-05, eta: 0:08:23, time: 0.284, data_time: 0.189, memory: 1182, loss_cls: 1.0745, loss_bbox: 0.1452, loss: 1.2197\n",
            "2022-05-09 07:50:37,417 - mmdet - INFO - Epoch [85][100/100]\tlr: 2.000e-05, eta: 0:08:20, time: 0.292, data_time: 0.207, memory: 1182, loss_cls: 1.2656, loss_bbox: 0.1616, loss: 1.4272\n",
            "2022-05-09 07:50:37,485 - mmdet - INFO - Saving checkpoint at 85 epochs\n"
          ]
        },
        {
          "output_type": "stream",
          "name": "stdout",
          "text": [
            "[>>>>>>>>>>>>>>>>>>>>>>>>>>>>>>] 100/100, 34.7 task/s, elapsed: 3s, ETA:     0s"
          ]
        },
        {
          "output_type": "stream",
          "name": "stderr",
          "text": [
            "2022-05-09 07:50:41,118 - mmdet - INFO - Evaluating bbox...\n"
          ]
        },
        {
          "output_type": "stream",
          "name": "stdout",
          "text": [
            "Loading and preparing results...\n",
            "DONE (t=0.00s)\n",
            "creating index...\n",
            "index created!\n",
            "Running per image evaluation...\n",
            "Evaluate annotation type *bbox*\n",
            "DONE (t=0.07s).\n",
            "Accumulating evaluation results...\n"
          ]
        },
        {
          "output_type": "stream",
          "name": "stderr",
          "text": [
            "2022-05-09 07:50:41,232 - mmdet - INFO - \n",
            " Average Precision  (AP) @[ IoU=0.50:0.95 | area=   all | maxDets=100 ] = 0.723\n",
            " Average Precision  (AP) @[ IoU=0.50      | area=   all | maxDets=1000 ] = 0.873\n",
            " Average Precision  (AP) @[ IoU=0.75      | area=   all | maxDets=1000 ] = 0.835\n",
            " Average Precision  (AP) @[ IoU=0.50:0.95 | area= small | maxDets=1000 ] = -1.000\n",
            " Average Precision  (AP) @[ IoU=0.50:0.95 | area=medium | maxDets=1000 ] = -1.000\n",
            " Average Precision  (AP) @[ IoU=0.50:0.95 | area= large | maxDets=1000 ] = 0.723\n",
            " Average Recall     (AR) @[ IoU=0.50:0.95 | area=   all | maxDets=100 ] = 0.819\n",
            " Average Recall     (AR) @[ IoU=0.50:0.95 | area=   all | maxDets=300 ] = 0.819\n",
            " Average Recall     (AR) @[ IoU=0.50:0.95 | area=   all | maxDets=1000 ] = 0.819\n",
            " Average Recall     (AR) @[ IoU=0.50:0.95 | area= small | maxDets=1000 ] = -1.000\n",
            " Average Recall     (AR) @[ IoU=0.50:0.95 | area=medium | maxDets=1000 ] = -1.000\n",
            " Average Recall     (AR) @[ IoU=0.50:0.95 | area= large | maxDets=1000 ] = 0.819\n",
            "\n",
            "2022-05-09 07:50:41,235 - mmdet - INFO - Epoch(val) [85][100]\tbbox_mAP: 0.7230, bbox_mAP_50: 0.8730, bbox_mAP_75: 0.8350, bbox_mAP_s: -1.0000, bbox_mAP_m: -1.0000, bbox_mAP_l: 0.7230, bbox_mAP_copypaste: 0.723 0.873 0.835 -1.000 -1.000 0.723\n"
          ]
        },
        {
          "output_type": "stream",
          "name": "stdout",
          "text": [
            "DONE (t=0.04s).\n"
          ]
        },
        {
          "output_type": "stream",
          "name": "stderr",
          "text": [
            "2022-05-09 07:50:47,659 - mmdet - INFO - Epoch [86][10/100]\tlr: 2.000e-05, eta: 0:08:17, time: 0.637, data_time: 0.549, memory: 1182, loss_cls: 1.5902, loss_bbox: 0.2287, loss: 1.8189\n",
            "2022-05-09 07:50:50,174 - mmdet - INFO - Epoch [86][20/100]\tlr: 2.000e-05, eta: 0:08:13, time: 0.252, data_time: 0.160, memory: 1182, loss_cls: 1.0770, loss_bbox: 0.1440, loss: 1.2210\n",
            "2022-05-09 07:50:52,583 - mmdet - INFO - Epoch [86][30/100]\tlr: 2.000e-05, eta: 0:08:10, time: 0.241, data_time: 0.146, memory: 1182, loss_cls: 1.2887, loss_bbox: 0.1510, loss: 1.4398\n",
            "2022-05-09 07:50:55,282 - mmdet - INFO - Epoch [86][40/100]\tlr: 2.000e-05, eta: 0:08:06, time: 0.270, data_time: 0.186, memory: 1182, loss_cls: 1.1953, loss_bbox: 0.2339, loss: 1.4292\n",
            "2022-05-09 07:50:59,051 - mmdet - INFO - Epoch [86][50/100]\tlr: 2.000e-05, eta: 0:08:03, time: 0.377, data_time: 0.287, memory: 1182, loss_cls: 1.4489, loss_bbox: 0.1853, loss: 1.6342\n",
            "2022-05-09 07:51:01,600 - mmdet - INFO - Epoch [86][60/100]\tlr: 2.000e-05, eta: 0:08:00, time: 0.255, data_time: 0.167, memory: 1182, loss_cls: 1.0251, loss_bbox: 0.1953, loss: 1.2204\n",
            "2022-05-09 07:51:04,323 - mmdet - INFO - Epoch [86][70/100]\tlr: 2.000e-05, eta: 0:07:56, time: 0.272, data_time: 0.186, memory: 1182, loss_cls: 1.2480, loss_bbox: 0.2340, loss: 1.4820\n",
            "2022-05-09 07:51:07,453 - mmdet - INFO - Epoch [86][80/100]\tlr: 2.000e-05, eta: 0:07:53, time: 0.313, data_time: 0.219, memory: 1182, loss_cls: 1.0584, loss_bbox: 0.1446, loss: 1.2030\n",
            "2022-05-09 07:51:10,799 - mmdet - INFO - Epoch [86][90/100]\tlr: 2.000e-05, eta: 0:07:50, time: 0.335, data_time: 0.245, memory: 1182, loss_cls: 1.2837, loss_bbox: 0.1829, loss: 1.4666\n",
            "2022-05-09 07:51:13,251 - mmdet - INFO - Epoch [86][100/100]\tlr: 2.000e-05, eta: 0:07:46, time: 0.245, data_time: 0.152, memory: 1182, loss_cls: 1.3553, loss_bbox: 0.1796, loss: 1.5349\n",
            "2022-05-09 07:51:13,321 - mmdet - INFO - Saving checkpoint at 86 epochs\n"
          ]
        },
        {
          "output_type": "stream",
          "name": "stdout",
          "text": [
            "[>>>>>>>>>>>>>>>>>>>>>>>>>>>>>>] 100/100, 33.9 task/s, elapsed: 3s, ETA:     0s"
          ]
        },
        {
          "output_type": "stream",
          "name": "stderr",
          "text": [
            "2022-05-09 07:51:17,084 - mmdet - INFO - Evaluating bbox...\n"
          ]
        },
        {
          "output_type": "stream",
          "name": "stdout",
          "text": [
            "Loading and preparing results...\n",
            "DONE (t=0.00s)\n",
            "creating index...\n",
            "index created!\n",
            "Running per image evaluation...\n",
            "Evaluate annotation type *bbox*\n",
            "DONE (t=0.07s).\n",
            "Accumulating evaluation results...\n"
          ]
        },
        {
          "output_type": "stream",
          "name": "stderr",
          "text": [
            "2022-05-09 07:51:17,197 - mmdet - INFO - \n",
            " Average Precision  (AP) @[ IoU=0.50:0.95 | area=   all | maxDets=100 ] = 0.723\n",
            " Average Precision  (AP) @[ IoU=0.50      | area=   all | maxDets=1000 ] = 0.874\n",
            " Average Precision  (AP) @[ IoU=0.75      | area=   all | maxDets=1000 ] = 0.837\n",
            " Average Precision  (AP) @[ IoU=0.50:0.95 | area= small | maxDets=1000 ] = -1.000\n",
            " Average Precision  (AP) @[ IoU=0.50:0.95 | area=medium | maxDets=1000 ] = -1.000\n",
            " Average Precision  (AP) @[ IoU=0.50:0.95 | area= large | maxDets=1000 ] = 0.723\n",
            " Average Recall     (AR) @[ IoU=0.50:0.95 | area=   all | maxDets=100 ] = 0.814\n",
            " Average Recall     (AR) @[ IoU=0.50:0.95 | area=   all | maxDets=300 ] = 0.814\n",
            " Average Recall     (AR) @[ IoU=0.50:0.95 | area=   all | maxDets=1000 ] = 0.814\n",
            " Average Recall     (AR) @[ IoU=0.50:0.95 | area= small | maxDets=1000 ] = -1.000\n",
            " Average Recall     (AR) @[ IoU=0.50:0.95 | area=medium | maxDets=1000 ] = -1.000\n",
            " Average Recall     (AR) @[ IoU=0.50:0.95 | area= large | maxDets=1000 ] = 0.814\n",
            "\n",
            "2022-05-09 07:51:17,200 - mmdet - INFO - Epoch(val) [86][100]\tbbox_mAP: 0.7230, bbox_mAP_50: 0.8740, bbox_mAP_75: 0.8370, bbox_mAP_s: -1.0000, bbox_mAP_m: -1.0000, bbox_mAP_l: 0.7230, bbox_mAP_copypaste: 0.723 0.874 0.837 -1.000 -1.000 0.723\n"
          ]
        },
        {
          "output_type": "stream",
          "name": "stdout",
          "text": [
            "DONE (t=0.03s).\n"
          ]
        },
        {
          "output_type": "stream",
          "name": "stderr",
          "text": [
            "2022-05-09 07:51:23,595 - mmdet - INFO - Epoch [87][10/100]\tlr: 2.000e-05, eta: 0:07:43, time: 0.634, data_time: 0.539, memory: 1182, loss_cls: 1.4382, loss_bbox: 0.1728, loss: 1.6110\n",
            "2022-05-09 07:51:26,579 - mmdet - INFO - Epoch [87][20/100]\tlr: 2.000e-05, eta: 0:07:40, time: 0.298, data_time: 0.208, memory: 1182, loss_cls: 1.2486, loss_bbox: 0.1756, loss: 1.4241\n",
            "2022-05-09 07:51:28,837 - mmdet - INFO - Epoch [87][30/100]\tlr: 2.000e-05, eta: 0:07:36, time: 0.226, data_time: 0.127, memory: 1182, loss_cls: 1.1291, loss_bbox: 0.1590, loss: 1.2881\n",
            "2022-05-09 07:51:32,233 - mmdet - INFO - Epoch [87][40/100]\tlr: 2.000e-05, eta: 0:07:33, time: 0.340, data_time: 0.249, memory: 1182, loss_cls: 1.4037, loss_bbox: 0.1931, loss: 1.5969\n",
            "2022-05-09 07:51:35,005 - mmdet - INFO - Epoch [87][50/100]\tlr: 2.000e-05, eta: 0:07:30, time: 0.277, data_time: 0.182, memory: 1182, loss_cls: 1.0876, loss_bbox: 0.1478, loss: 1.2353\n",
            "2022-05-09 07:51:38,166 - mmdet - INFO - Epoch [87][60/100]\tlr: 2.000e-05, eta: 0:07:26, time: 0.316, data_time: 0.227, memory: 1182, loss_cls: 1.2910, loss_bbox: 0.1773, loss: 1.4683\n",
            "2022-05-09 07:51:41,631 - mmdet - INFO - Epoch [87][70/100]\tlr: 2.000e-05, eta: 0:07:23, time: 0.347, data_time: 0.262, memory: 1182, loss_cls: 1.2289, loss_bbox: 0.1709, loss: 1.3998\n",
            "2022-05-09 07:51:44,805 - mmdet - INFO - Epoch [87][80/100]\tlr: 2.000e-05, eta: 0:07:20, time: 0.317, data_time: 0.232, memory: 1182, loss_cls: 1.3130, loss_bbox: 0.2277, loss: 1.5407\n",
            "2022-05-09 07:51:48,603 - mmdet - INFO - Epoch [87][90/100]\tlr: 2.000e-05, eta: 0:07:16, time: 0.380, data_time: 0.284, memory: 1182, loss_cls: 1.0223, loss_bbox: 0.1443, loss: 1.1666\n",
            "2022-05-09 07:51:51,998 - mmdet - INFO - Epoch [87][100/100]\tlr: 2.000e-05, eta: 0:07:13, time: 0.339, data_time: 0.259, memory: 1182, loss_cls: 1.0911, loss_bbox: 0.1799, loss: 1.2709\n",
            "2022-05-09 07:51:52,060 - mmdet - INFO - Saving checkpoint at 87 epochs\n"
          ]
        },
        {
          "output_type": "stream",
          "name": "stdout",
          "text": [
            "[>>>>>>>>>>>>>>>>>>>>>>>>>>>>>>] 100/100, 35.1 task/s, elapsed: 3s, ETA:     0s"
          ]
        },
        {
          "output_type": "stream",
          "name": "stderr",
          "text": [
            "2022-05-09 07:51:55,675 - mmdet - INFO - Evaluating bbox...\n"
          ]
        },
        {
          "output_type": "stream",
          "name": "stdout",
          "text": [
            "Loading and preparing results...\n",
            "DONE (t=0.00s)\n",
            "creating index...\n",
            "index created!\n",
            "Running per image evaluation...\n",
            "Evaluate annotation type *bbox*\n",
            "DONE (t=0.07s).\n",
            "Accumulating evaluation results...\n"
          ]
        },
        {
          "output_type": "stream",
          "name": "stderr",
          "text": [
            "2022-05-09 07:51:55,781 - mmdet - INFO - \n",
            " Average Precision  (AP) @[ IoU=0.50:0.95 | area=   all | maxDets=100 ] = 0.720\n",
            " Average Precision  (AP) @[ IoU=0.50      | area=   all | maxDets=1000 ] = 0.876\n",
            " Average Precision  (AP) @[ IoU=0.75      | area=   all | maxDets=1000 ] = 0.836\n",
            " Average Precision  (AP) @[ IoU=0.50:0.95 | area= small | maxDets=1000 ] = -1.000\n",
            " Average Precision  (AP) @[ IoU=0.50:0.95 | area=medium | maxDets=1000 ] = -1.000\n",
            " Average Precision  (AP) @[ IoU=0.50:0.95 | area= large | maxDets=1000 ] = 0.720\n",
            " Average Recall     (AR) @[ IoU=0.50:0.95 | area=   all | maxDets=100 ] = 0.811\n",
            " Average Recall     (AR) @[ IoU=0.50:0.95 | area=   all | maxDets=300 ] = 0.811\n",
            " Average Recall     (AR) @[ IoU=0.50:0.95 | area=   all | maxDets=1000 ] = 0.811\n",
            " Average Recall     (AR) @[ IoU=0.50:0.95 | area= small | maxDets=1000 ] = -1.000\n",
            " Average Recall     (AR) @[ IoU=0.50:0.95 | area=medium | maxDets=1000 ] = -1.000\n",
            " Average Recall     (AR) @[ IoU=0.50:0.95 | area= large | maxDets=1000 ] = 0.811\n",
            "\n",
            "2022-05-09 07:51:55,783 - mmdet - INFO - Epoch(val) [87][100]\tbbox_mAP: 0.7200, bbox_mAP_50: 0.8760, bbox_mAP_75: 0.8360, bbox_mAP_s: -1.0000, bbox_mAP_m: -1.0000, bbox_mAP_l: 0.7200, bbox_mAP_copypaste: 0.720 0.876 0.836 -1.000 -1.000 0.720\n"
          ]
        },
        {
          "output_type": "stream",
          "name": "stdout",
          "text": [
            "DONE (t=0.03s).\n"
          ]
        },
        {
          "output_type": "stream",
          "name": "stderr",
          "text": [
            "2022-05-09 07:52:03,097 - mmdet - INFO - Epoch [88][10/100]\tlr: 2.000e-05, eta: 0:07:10, time: 0.726, data_time: 0.633, memory: 1182, loss_cls: 1.1975, loss_bbox: 0.1604, loss: 1.3579\n",
            "2022-05-09 07:52:05,763 - mmdet - INFO - Epoch [88][20/100]\tlr: 2.000e-05, eta: 0:07:07, time: 0.266, data_time: 0.170, memory: 1182, loss_cls: 1.4928, loss_bbox: 0.2301, loss: 1.7228\n",
            "2022-05-09 07:52:08,722 - mmdet - INFO - Epoch [88][30/100]\tlr: 2.000e-05, eta: 0:07:03, time: 0.296, data_time: 0.201, memory: 1182, loss_cls: 1.1238, loss_bbox: 0.1857, loss: 1.3095\n",
            "2022-05-09 07:52:11,878 - mmdet - INFO - Epoch [88][40/100]\tlr: 2.000e-05, eta: 0:07:00, time: 0.315, data_time: 0.219, memory: 1182, loss_cls: 1.0184, loss_bbox: 0.1208, loss: 1.1392\n",
            "2022-05-09 07:52:15,868 - mmdet - INFO - Epoch [88][50/100]\tlr: 2.000e-05, eta: 0:06:57, time: 0.399, data_time: 0.303, memory: 1182, loss_cls: 1.3474, loss_bbox: 0.1828, loss: 1.5301\n",
            "2022-05-09 07:52:19,444 - mmdet - INFO - Epoch [88][60/100]\tlr: 2.000e-05, eta: 0:06:53, time: 0.358, data_time: 0.264, memory: 1182, loss_cls: 0.9928, loss_bbox: 0.1610, loss: 1.1538\n",
            "2022-05-09 07:52:21,861 - mmdet - INFO - Epoch [88][70/100]\tlr: 2.000e-05, eta: 0:06:50, time: 0.242, data_time: 0.144, memory: 1182, loss_cls: 1.1669, loss_bbox: 0.1583, loss: 1.3252\n",
            "2022-05-09 07:52:25,092 - mmdet - INFO - Epoch [88][80/100]\tlr: 2.000e-05, eta: 0:06:47, time: 0.323, data_time: 0.230, memory: 1182, loss_cls: 1.2340, loss_bbox: 0.1967, loss: 1.4307\n",
            "2022-05-09 07:52:27,988 - mmdet - INFO - Epoch [88][90/100]\tlr: 2.000e-05, eta: 0:06:43, time: 0.290, data_time: 0.199, memory: 1182, loss_cls: 1.3160, loss_bbox: 0.2057, loss: 1.5217\n",
            "2022-05-09 07:52:31,190 - mmdet - INFO - Epoch [88][100/100]\tlr: 2.000e-05, eta: 0:06:40, time: 0.320, data_time: 0.233, memory: 1182, loss_cls: 1.2831, loss_bbox: 0.2678, loss: 1.5509\n",
            "2022-05-09 07:52:31,255 - mmdet - INFO - Saving checkpoint at 88 epochs\n"
          ]
        },
        {
          "output_type": "stream",
          "name": "stdout",
          "text": [
            "[>>>>>>>>>>>>>>>>>>>>>>>>>>>>>>] 100/100, 35.4 task/s, elapsed: 3s, ETA:     0s"
          ]
        },
        {
          "output_type": "stream",
          "name": "stderr",
          "text": [
            "2022-05-09 07:52:34,837 - mmdet - INFO - Evaluating bbox...\n"
          ]
        },
        {
          "output_type": "stream",
          "name": "stdout",
          "text": [
            "Loading and preparing results...\n",
            "DONE (t=0.00s)\n",
            "creating index...\n",
            "index created!\n",
            "Running per image evaluation...\n",
            "Evaluate annotation type *bbox*\n",
            "DONE (t=0.07s).\n",
            "Accumulating evaluation results...\n"
          ]
        },
        {
          "output_type": "stream",
          "name": "stderr",
          "text": [
            "2022-05-09 07:52:34,946 - mmdet - INFO - \n",
            " Average Precision  (AP) @[ IoU=0.50:0.95 | area=   all | maxDets=100 ] = 0.720\n",
            " Average Precision  (AP) @[ IoU=0.50      | area=   all | maxDets=1000 ] = 0.872\n",
            " Average Precision  (AP) @[ IoU=0.75      | area=   all | maxDets=1000 ] = 0.834\n",
            " Average Precision  (AP) @[ IoU=0.50:0.95 | area= small | maxDets=1000 ] = -1.000\n",
            " Average Precision  (AP) @[ IoU=0.50:0.95 | area=medium | maxDets=1000 ] = -1.000\n",
            " Average Precision  (AP) @[ IoU=0.50:0.95 | area= large | maxDets=1000 ] = 0.720\n",
            " Average Recall     (AR) @[ IoU=0.50:0.95 | area=   all | maxDets=100 ] = 0.813\n",
            " Average Recall     (AR) @[ IoU=0.50:0.95 | area=   all | maxDets=300 ] = 0.813\n",
            " Average Recall     (AR) @[ IoU=0.50:0.95 | area=   all | maxDets=1000 ] = 0.813\n",
            " Average Recall     (AR) @[ IoU=0.50:0.95 | area= small | maxDets=1000 ] = -1.000\n",
            " Average Recall     (AR) @[ IoU=0.50:0.95 | area=medium | maxDets=1000 ] = -1.000\n",
            " Average Recall     (AR) @[ IoU=0.50:0.95 | area= large | maxDets=1000 ] = 0.813\n",
            "\n",
            "2022-05-09 07:52:34,949 - mmdet - INFO - Epoch(val) [88][100]\tbbox_mAP: 0.7200, bbox_mAP_50: 0.8720, bbox_mAP_75: 0.8340, bbox_mAP_s: -1.0000, bbox_mAP_m: -1.0000, bbox_mAP_l: 0.7200, bbox_mAP_copypaste: 0.720 0.872 0.834 -1.000 -1.000 0.720\n"
          ]
        },
        {
          "output_type": "stream",
          "name": "stdout",
          "text": [
            "DONE (t=0.03s).\n"
          ]
        },
        {
          "output_type": "stream",
          "name": "stderr",
          "text": [
            "2022-05-09 07:52:40,913 - mmdet - INFO - Epoch [89][10/100]\tlr: 2.000e-05, eta: 0:06:37, time: 0.591, data_time: 0.507, memory: 1182, loss_cls: 1.3398, loss_bbox: 0.1844, loss: 1.5242\n",
            "2022-05-09 07:52:44,898 - mmdet - INFO - Epoch [89][20/100]\tlr: 2.000e-05, eta: 0:06:34, time: 0.399, data_time: 0.307, memory: 1182, loss_cls: 1.1621, loss_bbox: 0.1389, loss: 1.3011\n",
            "2022-05-09 07:52:48,468 - mmdet - INFO - Epoch [89][30/100]\tlr: 2.000e-05, eta: 0:06:30, time: 0.357, data_time: 0.258, memory: 1182, loss_cls: 1.1991, loss_bbox: 0.1777, loss: 1.3767\n",
            "2022-05-09 07:52:52,317 - mmdet - INFO - Epoch [89][40/100]\tlr: 2.000e-05, eta: 0:06:27, time: 0.385, data_time: 0.290, memory: 1182, loss_cls: 1.2404, loss_bbox: 0.1807, loss: 1.4211\n",
            "2022-05-09 07:52:55,747 - mmdet - INFO - Epoch [89][50/100]\tlr: 2.000e-05, eta: 0:06:24, time: 0.343, data_time: 0.249, memory: 1182, loss_cls: 1.1698, loss_bbox: 0.1585, loss: 1.3283\n",
            "2022-05-09 07:52:58,175 - mmdet - INFO - Epoch [89][60/100]\tlr: 2.000e-05, eta: 0:06:20, time: 0.243, data_time: 0.146, memory: 1182, loss_cls: 1.1905, loss_bbox: 0.1471, loss: 1.3375\n",
            "2022-05-09 07:53:01,004 - mmdet - INFO - Epoch [89][70/100]\tlr: 2.000e-05, eta: 0:06:17, time: 0.283, data_time: 0.186, memory: 1182, loss_cls: 1.2953, loss_bbox: 0.2317, loss: 1.5270\n",
            "2022-05-09 07:53:04,917 - mmdet - INFO - Epoch [89][80/100]\tlr: 2.000e-05, eta: 0:06:14, time: 0.391, data_time: 0.298, memory: 1182, loss_cls: 1.3538, loss_bbox: 0.2018, loss: 1.5556\n",
            "2022-05-09 07:53:09,036 - mmdet - INFO - Epoch [89][90/100]\tlr: 2.000e-05, eta: 0:06:10, time: 0.412, data_time: 0.316, memory: 1182, loss_cls: 1.1845, loss_bbox: 0.1806, loss: 1.3652\n",
            "2022-05-09 07:53:12,230 - mmdet - INFO - Epoch [89][100/100]\tlr: 2.000e-05, eta: 0:06:07, time: 0.319, data_time: 0.226, memory: 1182, loss_cls: 1.0850, loss_bbox: 0.1783, loss: 1.2634\n",
            "2022-05-09 07:53:12,301 - mmdet - INFO - Saving checkpoint at 89 epochs\n"
          ]
        },
        {
          "output_type": "stream",
          "name": "stdout",
          "text": [
            "[>>>>>>>>>>>>>>>>>>>>>>>>>>>>>>] 100/100, 32.4 task/s, elapsed: 3s, ETA:     0s"
          ]
        },
        {
          "output_type": "stream",
          "name": "stderr",
          "text": [
            "2022-05-09 07:53:16,205 - mmdet - INFO - Evaluating bbox...\n"
          ]
        },
        {
          "output_type": "stream",
          "name": "stdout",
          "text": [
            "Loading and preparing results...\n",
            "DONE (t=0.00s)\n",
            "creating index...\n",
            "index created!\n",
            "Running per image evaluation...\n",
            "Evaluate annotation type *bbox*\n",
            "DONE (t=0.06s).\n",
            "Accumulating evaluation results...\n"
          ]
        },
        {
          "output_type": "stream",
          "name": "stderr",
          "text": [
            "2022-05-09 07:53:16,303 - mmdet - INFO - \n",
            " Average Precision  (AP) @[ IoU=0.50:0.95 | area=   all | maxDets=100 ] = 0.717\n",
            " Average Precision  (AP) @[ IoU=0.50      | area=   all | maxDets=1000 ] = 0.867\n",
            " Average Precision  (AP) @[ IoU=0.75      | area=   all | maxDets=1000 ] = 0.823\n",
            " Average Precision  (AP) @[ IoU=0.50:0.95 | area= small | maxDets=1000 ] = -1.000\n",
            " Average Precision  (AP) @[ IoU=0.50:0.95 | area=medium | maxDets=1000 ] = -1.000\n",
            " Average Precision  (AP) @[ IoU=0.50:0.95 | area= large | maxDets=1000 ] = 0.717\n",
            " Average Recall     (AR) @[ IoU=0.50:0.95 | area=   all | maxDets=100 ] = 0.817\n",
            " Average Recall     (AR) @[ IoU=0.50:0.95 | area=   all | maxDets=300 ] = 0.817\n",
            " Average Recall     (AR) @[ IoU=0.50:0.95 | area=   all | maxDets=1000 ] = 0.817\n",
            " Average Recall     (AR) @[ IoU=0.50:0.95 | area= small | maxDets=1000 ] = -1.000\n",
            " Average Recall     (AR) @[ IoU=0.50:0.95 | area=medium | maxDets=1000 ] = -1.000\n",
            " Average Recall     (AR) @[ IoU=0.50:0.95 | area= large | maxDets=1000 ] = 0.817\n",
            "\n",
            "2022-05-09 07:53:16,306 - mmdet - INFO - Epoch(val) [89][100]\tbbox_mAP: 0.7170, bbox_mAP_50: 0.8670, bbox_mAP_75: 0.8230, bbox_mAP_s: -1.0000, bbox_mAP_m: -1.0000, bbox_mAP_l: 0.7170, bbox_mAP_copypaste: 0.717 0.867 0.823 -1.000 -1.000 0.717\n"
          ]
        },
        {
          "output_type": "stream",
          "name": "stdout",
          "text": [
            "DONE (t=0.03s).\n"
          ]
        },
        {
          "output_type": "stream",
          "name": "stderr",
          "text": [
            "2022-05-09 07:53:22,291 - mmdet - INFO - Epoch [90][10/100]\tlr: 2.000e-05, eta: 0:06:04, time: 0.593, data_time: 0.495, memory: 1182, loss_cls: 1.2748, loss_bbox: 0.1388, loss: 1.4136\n",
            "2022-05-09 07:53:25,443 - mmdet - INFO - Epoch [90][20/100]\tlr: 2.000e-05, eta: 0:06:01, time: 0.315, data_time: 0.220, memory: 1182, loss_cls: 1.3398, loss_bbox: 0.1904, loss: 1.5302\n",
            "2022-05-09 07:53:28,475 - mmdet - INFO - Epoch [90][30/100]\tlr: 2.000e-05, eta: 0:05:57, time: 0.303, data_time: 0.212, memory: 1182, loss_cls: 1.3025, loss_bbox: 0.1924, loss: 1.4950\n",
            "2022-05-09 07:53:30,968 - mmdet - INFO - Epoch [90][40/100]\tlr: 2.000e-05, eta: 0:05:54, time: 0.249, data_time: 0.167, memory: 1182, loss_cls: 1.4133, loss_bbox: 0.1963, loss: 1.6096\n",
            "2022-05-09 07:53:33,562 - mmdet - INFO - Epoch [90][50/100]\tlr: 2.000e-05, eta: 0:05:50, time: 0.260, data_time: 0.168, memory: 1182, loss_cls: 1.2667, loss_bbox: 0.1535, loss: 1.4202\n",
            "2022-05-09 07:53:37,513 - mmdet - INFO - Epoch [90][60/100]\tlr: 2.000e-05, eta: 0:05:47, time: 0.395, data_time: 0.299, memory: 1182, loss_cls: 1.3663, loss_bbox: 0.1785, loss: 1.5449\n",
            "2022-05-09 07:53:40,595 - mmdet - INFO - Epoch [90][70/100]\tlr: 2.000e-05, eta: 0:05:44, time: 0.308, data_time: 0.212, memory: 1182, loss_cls: 1.2440, loss_bbox: 0.2234, loss: 1.4674\n",
            "2022-05-09 07:53:43,300 - mmdet - INFO - Epoch [90][80/100]\tlr: 2.000e-05, eta: 0:05:40, time: 0.270, data_time: 0.180, memory: 1182, loss_cls: 1.1638, loss_bbox: 0.1590, loss: 1.3228\n",
            "2022-05-09 07:53:46,311 - mmdet - INFO - Epoch [90][90/100]\tlr: 2.000e-05, eta: 0:05:37, time: 0.301, data_time: 0.207, memory: 1182, loss_cls: 1.0481, loss_bbox: 0.1532, loss: 1.2013\n",
            "2022-05-09 07:53:48,681 - mmdet - INFO - Epoch [90][100/100]\tlr: 2.000e-05, eta: 0:05:33, time: 0.236, data_time: 0.148, memory: 1182, loss_cls: 1.1378, loss_bbox: 0.1332, loss: 1.2710\n",
            "2022-05-09 07:53:48,746 - mmdet - INFO - Saving checkpoint at 90 epochs\n"
          ]
        },
        {
          "output_type": "stream",
          "name": "stdout",
          "text": [
            "[>>>>>>>>>>>>>>>>>>>>>>>>>>>>>>] 100/100, 35.2 task/s, elapsed: 3s, ETA:     0s"
          ]
        },
        {
          "output_type": "stream",
          "name": "stderr",
          "text": [
            "2022-05-09 07:53:52,356 - mmdet - INFO - Evaluating bbox...\n"
          ]
        },
        {
          "output_type": "stream",
          "name": "stdout",
          "text": [
            "Loading and preparing results...\n",
            "DONE (t=0.00s)\n",
            "creating index...\n",
            "index created!\n",
            "Running per image evaluation...\n",
            "Evaluate annotation type *bbox*\n",
            "DONE (t=0.07s).\n",
            "Accumulating evaluation results...\n",
            "DONE (t=0.04s).\n"
          ]
        },
        {
          "output_type": "stream",
          "name": "stderr",
          "text": [
            "2022-05-09 07:53:52,474 - mmdet - INFO - \n",
            " Average Precision  (AP) @[ IoU=0.50:0.95 | area=   all | maxDets=100 ] = 0.720\n",
            " Average Precision  (AP) @[ IoU=0.50      | area=   all | maxDets=1000 ] = 0.864\n",
            " Average Precision  (AP) @[ IoU=0.75      | area=   all | maxDets=1000 ] = 0.826\n",
            " Average Precision  (AP) @[ IoU=0.50:0.95 | area= small | maxDets=1000 ] = -1.000\n",
            " Average Precision  (AP) @[ IoU=0.50:0.95 | area=medium | maxDets=1000 ] = -1.000\n",
            " Average Precision  (AP) @[ IoU=0.50:0.95 | area= large | maxDets=1000 ] = 0.720\n",
            " Average Recall     (AR) @[ IoU=0.50:0.95 | area=   all | maxDets=100 ] = 0.814\n",
            " Average Recall     (AR) @[ IoU=0.50:0.95 | area=   all | maxDets=300 ] = 0.814\n",
            " Average Recall     (AR) @[ IoU=0.50:0.95 | area=   all | maxDets=1000 ] = 0.814\n",
            " Average Recall     (AR) @[ IoU=0.50:0.95 | area= small | maxDets=1000 ] = -1.000\n",
            " Average Recall     (AR) @[ IoU=0.50:0.95 | area=medium | maxDets=1000 ] = -1.000\n",
            " Average Recall     (AR) @[ IoU=0.50:0.95 | area= large | maxDets=1000 ] = 0.814\n",
            "\n",
            "2022-05-09 07:53:52,476 - mmdet - INFO - Epoch(val) [90][100]\tbbox_mAP: 0.7200, bbox_mAP_50: 0.8640, bbox_mAP_75: 0.8260, bbox_mAP_s: -1.0000, bbox_mAP_m: -1.0000, bbox_mAP_l: 0.7200, bbox_mAP_copypaste: 0.720 0.864 0.826 -1.000 -1.000 0.720\n",
            "2022-05-09 07:53:58,383 - mmdet - INFO - Epoch [91][10/100]\tlr: 2.000e-05, eta: 0:05:30, time: 0.585, data_time: 0.489, memory: 1182, loss_cls: 1.4132, loss_bbox: 0.2337, loss: 1.6468\n",
            "2022-05-09 07:54:01,487 - mmdet - INFO - Epoch [91][20/100]\tlr: 2.000e-05, eta: 0:05:27, time: 0.310, data_time: 0.220, memory: 1182, loss_cls: 1.1032, loss_bbox: 0.2007, loss: 1.3039\n",
            "2022-05-09 07:54:04,574 - mmdet - INFO - Epoch [91][30/100]\tlr: 2.000e-05, eta: 0:05:24, time: 0.309, data_time: 0.208, memory: 1182, loss_cls: 1.3428, loss_bbox: 0.2399, loss: 1.5827\n",
            "2022-05-09 07:54:07,337 - mmdet - INFO - Epoch [91][40/100]\tlr: 2.000e-05, eta: 0:05:20, time: 0.277, data_time: 0.192, memory: 1182, loss_cls: 1.0297, loss_bbox: 0.1479, loss: 1.1776\n",
            "2022-05-09 07:54:11,002 - mmdet - INFO - Epoch [91][50/100]\tlr: 2.000e-05, eta: 0:05:17, time: 0.366, data_time: 0.274, memory: 1182, loss_cls: 1.2904, loss_bbox: 0.2161, loss: 1.5065\n",
            "2022-05-09 07:54:14,223 - mmdet - INFO - Epoch [91][60/100]\tlr: 2.000e-05, eta: 0:05:14, time: 0.322, data_time: 0.227, memory: 1182, loss_cls: 1.2346, loss_bbox: 0.1547, loss: 1.3893\n",
            "2022-05-09 07:54:17,145 - mmdet - INFO - Epoch [91][70/100]\tlr: 2.000e-05, eta: 0:05:10, time: 0.292, data_time: 0.200, memory: 1182, loss_cls: 1.4128, loss_bbox: 0.2497, loss: 1.6625\n",
            "2022-05-09 07:54:20,063 - mmdet - INFO - Epoch [91][80/100]\tlr: 2.000e-05, eta: 0:05:07, time: 0.292, data_time: 0.202, memory: 1182, loss_cls: 1.1388, loss_bbox: 0.1504, loss: 1.2892\n",
            "2022-05-09 07:54:22,264 - mmdet - INFO - Epoch [91][90/100]\tlr: 2.000e-05, eta: 0:05:03, time: 0.220, data_time: 0.131, memory: 1182, loss_cls: 1.2726, loss_bbox: 0.1727, loss: 1.4453\n",
            "2022-05-09 07:54:25,293 - mmdet - INFO - Epoch [91][100/100]\tlr: 2.000e-05, eta: 0:05:00, time: 0.303, data_time: 0.212, memory: 1182, loss_cls: 1.1110, loss_bbox: 0.1560, loss: 1.2670\n",
            "2022-05-09 07:54:25,357 - mmdet - INFO - Saving checkpoint at 91 epochs\n"
          ]
        },
        {
          "output_type": "stream",
          "name": "stdout",
          "text": [
            "[>>>>>>>>>>>>>>>>>>>>>>>>>>>>>>] 100/100, 35.4 task/s, elapsed: 3s, ETA:     0s"
          ]
        },
        {
          "output_type": "stream",
          "name": "stderr",
          "text": [
            "2022-05-09 07:54:28,937 - mmdet - INFO - Evaluating bbox...\n"
          ]
        },
        {
          "output_type": "stream",
          "name": "stdout",
          "text": [
            "Loading and preparing results...\n",
            "DONE (t=0.00s)\n",
            "creating index...\n",
            "index created!\n",
            "Running per image evaluation...\n",
            "Evaluate annotation type *bbox*\n",
            "DONE (t=0.06s).\n",
            "Accumulating evaluation results...\n"
          ]
        },
        {
          "output_type": "stream",
          "name": "stderr",
          "text": [
            "2022-05-09 07:54:29,038 - mmdet - INFO - \n",
            " Average Precision  (AP) @[ IoU=0.50:0.95 | area=   all | maxDets=100 ] = 0.720\n",
            " Average Precision  (AP) @[ IoU=0.50      | area=   all | maxDets=1000 ] = 0.868\n",
            " Average Precision  (AP) @[ IoU=0.75      | area=   all | maxDets=1000 ] = 0.831\n",
            " Average Precision  (AP) @[ IoU=0.50:0.95 | area= small | maxDets=1000 ] = -1.000\n",
            " Average Precision  (AP) @[ IoU=0.50:0.95 | area=medium | maxDets=1000 ] = -1.000\n",
            " Average Precision  (AP) @[ IoU=0.50:0.95 | area= large | maxDets=1000 ] = 0.720\n",
            " Average Recall     (AR) @[ IoU=0.50:0.95 | area=   all | maxDets=100 ] = 0.820\n",
            " Average Recall     (AR) @[ IoU=0.50:0.95 | area=   all | maxDets=300 ] = 0.820\n",
            " Average Recall     (AR) @[ IoU=0.50:0.95 | area=   all | maxDets=1000 ] = 0.820\n",
            " Average Recall     (AR) @[ IoU=0.50:0.95 | area= small | maxDets=1000 ] = -1.000\n",
            " Average Recall     (AR) @[ IoU=0.50:0.95 | area=medium | maxDets=1000 ] = -1.000\n",
            " Average Recall     (AR) @[ IoU=0.50:0.95 | area= large | maxDets=1000 ] = 0.820\n",
            "\n"
          ]
        },
        {
          "output_type": "stream",
          "name": "stdout",
          "text": [
            "DONE (t=0.04s).\n"
          ]
        },
        {
          "output_type": "stream",
          "name": "stderr",
          "text": [
            "2022-05-09 07:54:29,041 - mmdet - INFO - Epoch(val) [91][100]\tbbox_mAP: 0.7200, bbox_mAP_50: 0.8680, bbox_mAP_75: 0.8310, bbox_mAP_s: -1.0000, bbox_mAP_m: -1.0000, bbox_mAP_l: 0.7200, bbox_mAP_copypaste: 0.720 0.868 0.831 -1.000 -1.000 0.720\n",
            "2022-05-09 07:54:35,001 - mmdet - INFO - Epoch [92][10/100]\tlr: 2.000e-05, eta: 0:04:57, time: 0.590, data_time: 0.498, memory: 1182, loss_cls: 1.2237, loss_bbox: 0.1547, loss: 1.3784\n",
            "2022-05-09 07:54:37,987 - mmdet - INFO - Epoch [92][20/100]\tlr: 2.000e-05, eta: 0:04:54, time: 0.299, data_time: 0.202, memory: 1182, loss_cls: 1.3652, loss_bbox: 0.1702, loss: 1.5354\n",
            "2022-05-09 07:54:40,984 - mmdet - INFO - Epoch [92][30/100]\tlr: 2.000e-05, eta: 0:04:50, time: 0.300, data_time: 0.204, memory: 1182, loss_cls: 1.0230, loss_bbox: 0.1658, loss: 1.1887\n",
            "2022-05-09 07:54:43,713 - mmdet - INFO - Epoch [92][40/100]\tlr: 2.000e-05, eta: 0:04:47, time: 0.273, data_time: 0.177, memory: 1182, loss_cls: 1.0635, loss_bbox: 0.1236, loss: 1.1871\n",
            "2022-05-09 07:54:46,276 - mmdet - INFO - Epoch [92][50/100]\tlr: 2.000e-05, eta: 0:04:43, time: 0.256, data_time: 0.169, memory: 1182, loss_cls: 0.9496, loss_bbox: 0.1002, loss: 1.0498\n",
            "2022-05-09 07:54:49,581 - mmdet - INFO - Epoch [92][60/100]\tlr: 2.000e-05, eta: 0:04:40, time: 0.330, data_time: 0.242, memory: 1182, loss_cls: 0.9374, loss_bbox: 0.1586, loss: 1.0961\n",
            "2022-05-09 07:54:51,923 - mmdet - INFO - Epoch [92][70/100]\tlr: 2.000e-05, eta: 0:04:37, time: 0.234, data_time: 0.139, memory: 1182, loss_cls: 1.0812, loss_bbox: 0.1783, loss: 1.2595\n",
            "2022-05-09 07:54:54,497 - mmdet - INFO - Epoch [92][80/100]\tlr: 2.000e-05, eta: 0:04:33, time: 0.257, data_time: 0.162, memory: 1182, loss_cls: 1.0141, loss_bbox: 0.1430, loss: 1.1571\n",
            "2022-05-09 07:54:58,197 - mmdet - INFO - Epoch [92][90/100]\tlr: 2.000e-05, eta: 0:04:30, time: 0.370, data_time: 0.279, memory: 1182, loss_cls: 1.3842, loss_bbox: 0.2042, loss: 1.5884\n",
            "2022-05-09 07:55:00,803 - mmdet - INFO - Epoch [92][100/100]\tlr: 2.000e-05, eta: 0:04:26, time: 0.261, data_time: 0.176, memory: 1182, loss_cls: 1.0952, loss_bbox: 0.1649, loss: 1.2601\n",
            "2022-05-09 07:55:00,867 - mmdet - INFO - Saving checkpoint at 92 epochs\n"
          ]
        },
        {
          "output_type": "stream",
          "name": "stdout",
          "text": [
            "[>>>>>>>>>>>>>>>>>>>>>>>>>>>>>>] 100/100, 35.0 task/s, elapsed: 3s, ETA:     0s"
          ]
        },
        {
          "output_type": "stream",
          "name": "stderr",
          "text": [
            "2022-05-09 07:55:04,494 - mmdet - INFO - Evaluating bbox...\n"
          ]
        },
        {
          "output_type": "stream",
          "name": "stdout",
          "text": [
            "Loading and preparing results...\n",
            "DONE (t=0.00s)\n",
            "creating index...\n",
            "index created!\n",
            "Running per image evaluation...\n",
            "Evaluate annotation type *bbox*\n",
            "DONE (t=0.06s).\n",
            "Accumulating evaluation results...\n",
            "DONE (t=0.03s).\n"
          ]
        },
        {
          "output_type": "stream",
          "name": "stderr",
          "text": [
            "2022-05-09 07:55:04,594 - mmdet - INFO - \n",
            " Average Precision  (AP) @[ IoU=0.50:0.95 | area=   all | maxDets=100 ] = 0.719\n",
            " Average Precision  (AP) @[ IoU=0.50      | area=   all | maxDets=1000 ] = 0.866\n",
            " Average Precision  (AP) @[ IoU=0.75      | area=   all | maxDets=1000 ] = 0.829\n",
            " Average Precision  (AP) @[ IoU=0.50:0.95 | area= small | maxDets=1000 ] = -1.000\n",
            " Average Precision  (AP) @[ IoU=0.50:0.95 | area=medium | maxDets=1000 ] = -1.000\n",
            " Average Precision  (AP) @[ IoU=0.50:0.95 | area= large | maxDets=1000 ] = 0.719\n",
            " Average Recall     (AR) @[ IoU=0.50:0.95 | area=   all | maxDets=100 ] = 0.819\n",
            " Average Recall     (AR) @[ IoU=0.50:0.95 | area=   all | maxDets=300 ] = 0.819\n",
            " Average Recall     (AR) @[ IoU=0.50:0.95 | area=   all | maxDets=1000 ] = 0.819\n",
            " Average Recall     (AR) @[ IoU=0.50:0.95 | area= small | maxDets=1000 ] = -1.000\n",
            " Average Recall     (AR) @[ IoU=0.50:0.95 | area=medium | maxDets=1000 ] = -1.000\n",
            " Average Recall     (AR) @[ IoU=0.50:0.95 | area= large | maxDets=1000 ] = 0.819\n",
            "\n",
            "2022-05-09 07:55:04,598 - mmdet - INFO - Epoch(val) [92][100]\tbbox_mAP: 0.7190, bbox_mAP_50: 0.8660, bbox_mAP_75: 0.8290, bbox_mAP_s: -1.0000, bbox_mAP_m: -1.0000, bbox_mAP_l: 0.7190, bbox_mAP_copypaste: 0.719 0.866 0.829 -1.000 -1.000 0.719\n",
            "2022-05-09 07:55:11,646 - mmdet - INFO - Epoch [93][10/100]\tlr: 2.000e-05, eta: 0:04:23, time: 0.699, data_time: 0.606, memory: 1182, loss_cls: 1.2289, loss_bbox: 0.2169, loss: 1.4457\n",
            "2022-05-09 07:55:15,121 - mmdet - INFO - Epoch [93][20/100]\tlr: 2.000e-05, eta: 0:04:20, time: 0.348, data_time: 0.267, memory: 1182, loss_cls: 1.3984, loss_bbox: 0.1675, loss: 1.5659\n",
            "2022-05-09 07:55:18,419 - mmdet - INFO - Epoch [93][30/100]\tlr: 2.000e-05, eta: 0:04:17, time: 0.330, data_time: 0.232, memory: 1182, loss_cls: 1.0598, loss_bbox: 0.1553, loss: 1.2152\n",
            "2022-05-09 07:55:20,316 - mmdet - INFO - Epoch [93][40/100]\tlr: 2.000e-05, eta: 0:04:13, time: 0.190, data_time: 0.092, memory: 1182, loss_cls: 1.0763, loss_bbox: 0.1746, loss: 1.2509\n",
            "2022-05-09 07:55:23,805 - mmdet - INFO - Epoch [93][50/100]\tlr: 2.000e-05, eta: 0:04:10, time: 0.349, data_time: 0.258, memory: 1182, loss_cls: 1.0819, loss_bbox: 0.1678, loss: 1.2497\n",
            "2022-05-09 07:55:26,009 - mmdet - INFO - Epoch [93][60/100]\tlr: 2.000e-05, eta: 0:04:07, time: 0.221, data_time: 0.124, memory: 1182, loss_cls: 0.9407, loss_bbox: 0.1462, loss: 1.0870\n",
            "2022-05-09 07:55:29,689 - mmdet - INFO - Epoch [93][70/100]\tlr: 2.000e-05, eta: 0:04:03, time: 0.368, data_time: 0.272, memory: 1182, loss_cls: 1.3001, loss_bbox: 0.2422, loss: 1.5423\n",
            "2022-05-09 07:55:33,733 - mmdet - INFO - Epoch [93][80/100]\tlr: 2.000e-05, eta: 0:04:00, time: 0.404, data_time: 0.310, memory: 1182, loss_cls: 1.2590, loss_bbox: 0.2029, loss: 1.4619\n",
            "2022-05-09 07:55:36,916 - mmdet - INFO - Epoch [93][90/100]\tlr: 2.000e-05, eta: 0:03:57, time: 0.319, data_time: 0.229, memory: 1182, loss_cls: 1.1353, loss_bbox: 0.1732, loss: 1.3085\n",
            "2022-05-09 07:55:39,755 - mmdet - INFO - Epoch [93][100/100]\tlr: 2.000e-05, eta: 0:03:53, time: 0.283, data_time: 0.190, memory: 1182, loss_cls: 1.3572, loss_bbox: 0.1814, loss: 1.5387\n",
            "2022-05-09 07:55:39,820 - mmdet - INFO - Saving checkpoint at 93 epochs\n"
          ]
        },
        {
          "output_type": "stream",
          "name": "stdout",
          "text": [
            "[>>>>>>>>>>>>>>>>>>>>>>>>>>>>>>] 100/100, 35.4 task/s, elapsed: 3s, ETA:     0s"
          ]
        },
        {
          "output_type": "stream",
          "name": "stderr",
          "text": [
            "2022-05-09 07:55:43,409 - mmdet - INFO - Evaluating bbox...\n"
          ]
        },
        {
          "output_type": "stream",
          "name": "stdout",
          "text": [
            "Loading and preparing results...\n",
            "DONE (t=0.00s)\n",
            "creating index...\n",
            "index created!\n",
            "Running per image evaluation...\n",
            "Evaluate annotation type *bbox*\n",
            "DONE (t=0.06s).\n",
            "Accumulating evaluation results...\n"
          ]
        },
        {
          "output_type": "stream",
          "name": "stderr",
          "text": [
            "2022-05-09 07:55:43,514 - mmdet - INFO - \n",
            " Average Precision  (AP) @[ IoU=0.50:0.95 | area=   all | maxDets=100 ] = 0.716\n",
            " Average Precision  (AP) @[ IoU=0.50      | area=   all | maxDets=1000 ] = 0.869\n",
            " Average Precision  (AP) @[ IoU=0.75      | area=   all | maxDets=1000 ] = 0.832\n",
            " Average Precision  (AP) @[ IoU=0.50:0.95 | area= small | maxDets=1000 ] = -1.000\n",
            " Average Precision  (AP) @[ IoU=0.50:0.95 | area=medium | maxDets=1000 ] = -1.000\n",
            " Average Precision  (AP) @[ IoU=0.50:0.95 | area= large | maxDets=1000 ] = 0.716\n",
            " Average Recall     (AR) @[ IoU=0.50:0.95 | area=   all | maxDets=100 ] = 0.811\n",
            " Average Recall     (AR) @[ IoU=0.50:0.95 | area=   all | maxDets=300 ] = 0.811\n",
            " Average Recall     (AR) @[ IoU=0.50:0.95 | area=   all | maxDets=1000 ] = 0.811\n",
            " Average Recall     (AR) @[ IoU=0.50:0.95 | area= small | maxDets=1000 ] = -1.000\n",
            " Average Recall     (AR) @[ IoU=0.50:0.95 | area=medium | maxDets=1000 ] = -1.000\n",
            " Average Recall     (AR) @[ IoU=0.50:0.95 | area= large | maxDets=1000 ] = 0.811\n",
            "\n",
            "2022-05-09 07:55:43,516 - mmdet - INFO - Epoch(val) [93][100]\tbbox_mAP: 0.7160, bbox_mAP_50: 0.8690, bbox_mAP_75: 0.8320, bbox_mAP_s: -1.0000, bbox_mAP_m: -1.0000, bbox_mAP_l: 0.7160, bbox_mAP_copypaste: 0.716 0.869 0.832 -1.000 -1.000 0.716\n"
          ]
        },
        {
          "output_type": "stream",
          "name": "stdout",
          "text": [
            "DONE (t=0.03s).\n"
          ]
        },
        {
          "output_type": "stream",
          "name": "stderr",
          "text": [
            "2022-05-09 07:55:49,910 - mmdet - INFO - Epoch [94][10/100]\tlr: 2.000e-05, eta: 0:03:50, time: 0.633, data_time: 0.524, memory: 1182, loss_cls: 1.1625, loss_bbox: 0.1810, loss: 1.3435\n",
            "2022-05-09 07:55:52,123 - mmdet - INFO - Epoch [94][20/100]\tlr: 2.000e-05, eta: 0:03:47, time: 0.221, data_time: 0.126, memory: 1182, loss_cls: 1.1786, loss_bbox: 0.1965, loss: 1.3752\n",
            "2022-05-09 07:55:55,266 - mmdet - INFO - Epoch [94][30/100]\tlr: 2.000e-05, eta: 0:03:43, time: 0.314, data_time: 0.232, memory: 1182, loss_cls: 1.3185, loss_bbox: 0.1646, loss: 1.4830\n",
            "2022-05-09 07:55:58,348 - mmdet - INFO - Epoch [94][40/100]\tlr: 2.000e-05, eta: 0:03:40, time: 0.308, data_time: 0.214, memory: 1182, loss_cls: 1.4930, loss_bbox: 0.3477, loss: 1.8408\n",
            "2022-05-09 07:56:01,332 - mmdet - INFO - Epoch [94][50/100]\tlr: 2.000e-05, eta: 0:03:37, time: 0.298, data_time: 0.216, memory: 1182, loss_cls: 1.1593, loss_bbox: 0.2320, loss: 1.3914\n",
            "2022-05-09 07:56:04,020 - mmdet - INFO - Epoch [94][60/100]\tlr: 2.000e-05, eta: 0:03:33, time: 0.269, data_time: 0.180, memory: 1182, loss_cls: 0.9425, loss_bbox: 0.1420, loss: 1.0845\n",
            "2022-05-09 07:56:07,294 - mmdet - INFO - Epoch [94][70/100]\tlr: 2.000e-05, eta: 0:03:30, time: 0.328, data_time: 0.236, memory: 1182, loss_cls: 1.1766, loss_bbox: 0.1597, loss: 1.3364\n",
            "2022-05-09 07:56:11,768 - mmdet - INFO - Epoch [94][80/100]\tlr: 2.000e-05, eta: 0:03:27, time: 0.447, data_time: 0.362, memory: 1182, loss_cls: 1.2862, loss_bbox: 0.1902, loss: 1.4764\n",
            "2022-05-09 07:56:14,465 - mmdet - INFO - Epoch [94][90/100]\tlr: 2.000e-05, eta: 0:03:23, time: 0.270, data_time: 0.177, memory: 1182, loss_cls: 1.0011, loss_bbox: 0.1620, loss: 1.1631\n",
            "2022-05-09 07:56:17,283 - mmdet - INFO - Epoch [94][100/100]\tlr: 2.000e-05, eta: 0:03:20, time: 0.281, data_time: 0.188, memory: 1182, loss_cls: 1.0765, loss_bbox: 0.1094, loss: 1.1859\n",
            "2022-05-09 07:56:17,352 - mmdet - INFO - Saving checkpoint at 94 epochs\n"
          ]
        },
        {
          "output_type": "stream",
          "name": "stdout",
          "text": [
            "[>>>>>>>>>>>>>>>>>>>>>>>>>>>>>>] 100/100, 35.1 task/s, elapsed: 3s, ETA:     0s"
          ]
        },
        {
          "output_type": "stream",
          "name": "stderr",
          "text": [
            "2022-05-09 07:56:20,967 - mmdet - INFO - Evaluating bbox...\n"
          ]
        },
        {
          "output_type": "stream",
          "name": "stdout",
          "text": [
            "Loading and preparing results...\n",
            "DONE (t=0.00s)\n",
            "creating index...\n",
            "index created!\n",
            "Running per image evaluation...\n",
            "Evaluate annotation type *bbox*\n",
            "DONE (t=0.07s).\n",
            "Accumulating evaluation results...\n"
          ]
        },
        {
          "output_type": "stream",
          "name": "stderr",
          "text": [
            "2022-05-09 07:56:21,072 - mmdet - INFO - \n",
            " Average Precision  (AP) @[ IoU=0.50:0.95 | area=   all | maxDets=100 ] = 0.723\n",
            " Average Precision  (AP) @[ IoU=0.50      | area=   all | maxDets=1000 ] = 0.869\n",
            " Average Precision  (AP) @[ IoU=0.75      | area=   all | maxDets=1000 ] = 0.832\n",
            " Average Precision  (AP) @[ IoU=0.50:0.95 | area= small | maxDets=1000 ] = -1.000\n",
            " Average Precision  (AP) @[ IoU=0.50:0.95 | area=medium | maxDets=1000 ] = -1.000\n",
            " Average Precision  (AP) @[ IoU=0.50:0.95 | area= large | maxDets=1000 ] = 0.723\n",
            " Average Recall     (AR) @[ IoU=0.50:0.95 | area=   all | maxDets=100 ] = 0.812\n",
            " Average Recall     (AR) @[ IoU=0.50:0.95 | area=   all | maxDets=300 ] = 0.812\n",
            " Average Recall     (AR) @[ IoU=0.50:0.95 | area=   all | maxDets=1000 ] = 0.812\n",
            " Average Recall     (AR) @[ IoU=0.50:0.95 | area= small | maxDets=1000 ] = -1.000\n",
            " Average Recall     (AR) @[ IoU=0.50:0.95 | area=medium | maxDets=1000 ] = -1.000\n",
            " Average Recall     (AR) @[ IoU=0.50:0.95 | area= large | maxDets=1000 ] = 0.812\n",
            "\n",
            "2022-05-09 07:56:21,075 - mmdet - INFO - Epoch(val) [94][100]\tbbox_mAP: 0.7230, bbox_mAP_50: 0.8690, bbox_mAP_75: 0.8320, bbox_mAP_s: -1.0000, bbox_mAP_m: -1.0000, bbox_mAP_l: 0.7230, bbox_mAP_copypaste: 0.723 0.869 0.832 -1.000 -1.000 0.723\n"
          ]
        },
        {
          "output_type": "stream",
          "name": "stdout",
          "text": [
            "DONE (t=0.03s).\n"
          ]
        },
        {
          "output_type": "stream",
          "name": "stderr",
          "text": [
            "2022-05-09 07:56:26,730 - mmdet - INFO - Epoch [95][10/100]\tlr: 2.000e-05, eta: 0:03:17, time: 0.560, data_time: 0.464, memory: 1182, loss_cls: 1.1885, loss_bbox: 0.1704, loss: 1.3589\n",
            "2022-05-09 07:56:29,769 - mmdet - INFO - Epoch [95][20/100]\tlr: 2.000e-05, eta: 0:03:13, time: 0.304, data_time: 0.212, memory: 1182, loss_cls: 1.1438, loss_bbox: 0.2766, loss: 1.4203\n",
            "2022-05-09 07:56:33,815 - mmdet - INFO - Epoch [95][30/100]\tlr: 2.000e-05, eta: 0:03:10, time: 0.404, data_time: 0.311, memory: 1182, loss_cls: 1.0641, loss_bbox: 0.1370, loss: 1.2011\n",
            "2022-05-09 07:56:35,936 - mmdet - INFO - Epoch [95][40/100]\tlr: 2.000e-05, eta: 0:03:07, time: 0.212, data_time: 0.116, memory: 1182, loss_cls: 1.1425, loss_bbox: 0.1437, loss: 1.2862\n",
            "2022-05-09 07:56:38,726 - mmdet - INFO - Epoch [95][50/100]\tlr: 2.000e-05, eta: 0:03:03, time: 0.279, data_time: 0.190, memory: 1182, loss_cls: 1.1990, loss_bbox: 0.1774, loss: 1.3764\n",
            "2022-05-09 07:56:42,190 - mmdet - INFO - Epoch [95][60/100]\tlr: 2.000e-05, eta: 0:03:00, time: 0.346, data_time: 0.256, memory: 1182, loss_cls: 1.3035, loss_bbox: 0.2022, loss: 1.5057\n",
            "2022-05-09 07:56:45,187 - mmdet - INFO - Epoch [95][70/100]\tlr: 2.000e-05, eta: 0:02:57, time: 0.300, data_time: 0.210, memory: 1182, loss_cls: 1.3393, loss_bbox: 0.2003, loss: 1.5396\n",
            "2022-05-09 07:56:47,852 - mmdet - INFO - Epoch [95][80/100]\tlr: 2.000e-05, eta: 0:02:53, time: 0.266, data_time: 0.178, memory: 1182, loss_cls: 1.3454, loss_bbox: 0.1349, loss: 1.4803\n",
            "2022-05-09 07:56:50,841 - mmdet - INFO - Epoch [95][90/100]\tlr: 2.000e-05, eta: 0:02:50, time: 0.299, data_time: 0.222, memory: 1182, loss_cls: 1.1074, loss_bbox: 0.1503, loss: 1.2577\n",
            "2022-05-09 07:56:52,782 - mmdet - INFO - Epoch [95][100/100]\tlr: 2.000e-05, eta: 0:02:46, time: 0.194, data_time: 0.101, memory: 1182, loss_cls: 1.0841, loss_bbox: 0.1923, loss: 1.2763\n",
            "2022-05-09 07:56:52,846 - mmdet - INFO - Saving checkpoint at 95 epochs\n"
          ]
        },
        {
          "output_type": "stream",
          "name": "stdout",
          "text": [
            "[>>>>>>>>>>>>>>>>>>>>>>>>>>>>>>] 100/100, 34.7 task/s, elapsed: 3s, ETA:     0s"
          ]
        },
        {
          "output_type": "stream",
          "name": "stderr",
          "text": [
            "2022-05-09 07:56:56,497 - mmdet - INFO - Evaluating bbox...\n"
          ]
        },
        {
          "output_type": "stream",
          "name": "stdout",
          "text": [
            "Loading and preparing results...\n",
            "DONE (t=0.00s)\n",
            "creating index...\n",
            "index created!\n",
            "Running per image evaluation...\n",
            "Evaluate annotation type *bbox*\n",
            "DONE (t=0.06s).\n",
            "Accumulating evaluation results...\n"
          ]
        },
        {
          "output_type": "stream",
          "name": "stderr",
          "text": [
            "2022-05-09 07:56:56,597 - mmdet - INFO - \n",
            " Average Precision  (AP) @[ IoU=0.50:0.95 | area=   all | maxDets=100 ] = 0.723\n",
            " Average Precision  (AP) @[ IoU=0.50      | area=   all | maxDets=1000 ] = 0.872\n",
            " Average Precision  (AP) @[ IoU=0.75      | area=   all | maxDets=1000 ] = 0.835\n",
            " Average Precision  (AP) @[ IoU=0.50:0.95 | area= small | maxDets=1000 ] = -1.000\n",
            " Average Precision  (AP) @[ IoU=0.50:0.95 | area=medium | maxDets=1000 ] = -1.000\n",
            " Average Precision  (AP) @[ IoU=0.50:0.95 | area= large | maxDets=1000 ] = 0.723\n",
            " Average Recall     (AR) @[ IoU=0.50:0.95 | area=   all | maxDets=100 ] = 0.815\n",
            " Average Recall     (AR) @[ IoU=0.50:0.95 | area=   all | maxDets=300 ] = 0.815\n",
            " Average Recall     (AR) @[ IoU=0.50:0.95 | area=   all | maxDets=1000 ] = 0.815\n",
            " Average Recall     (AR) @[ IoU=0.50:0.95 | area= small | maxDets=1000 ] = -1.000\n",
            " Average Recall     (AR) @[ IoU=0.50:0.95 | area=medium | maxDets=1000 ] = -1.000\n",
            " Average Recall     (AR) @[ IoU=0.50:0.95 | area= large | maxDets=1000 ] = 0.815\n",
            "\n",
            "2022-05-09 07:56:56,600 - mmdet - INFO - Epoch(val) [95][100]\tbbox_mAP: 0.7230, bbox_mAP_50: 0.8720, bbox_mAP_75: 0.8350, bbox_mAP_s: -1.0000, bbox_mAP_m: -1.0000, bbox_mAP_l: 0.7230, bbox_mAP_copypaste: 0.723 0.872 0.835 -1.000 -1.000 0.723\n"
          ]
        },
        {
          "output_type": "stream",
          "name": "stdout",
          "text": [
            "DONE (t=0.03s).\n"
          ]
        },
        {
          "output_type": "stream",
          "name": "stderr",
          "text": [
            "2022-05-09 07:57:02,536 - mmdet - INFO - Epoch [96][10/100]\tlr: 2.000e-05, eta: 0:02:43, time: 0.588, data_time: 0.489, memory: 1182, loss_cls: 1.3783, loss_bbox: 0.2755, loss: 1.6538\n",
            "2022-05-09 07:57:06,245 - mmdet - INFO - Epoch [96][20/100]\tlr: 2.000e-05, eta: 0:02:40, time: 0.371, data_time: 0.275, memory: 1182, loss_cls: 1.2184, loss_bbox: 0.2222, loss: 1.4406\n",
            "2022-05-09 07:57:08,550 - mmdet - INFO - Epoch [96][30/100]\tlr: 2.000e-05, eta: 0:02:36, time: 0.231, data_time: 0.134, memory: 1182, loss_cls: 1.1562, loss_bbox: 0.1697, loss: 1.3260\n",
            "2022-05-09 07:57:12,070 - mmdet - INFO - Epoch [96][40/100]\tlr: 2.000e-05, eta: 0:02:33, time: 0.352, data_time: 0.259, memory: 1182, loss_cls: 1.0697, loss_bbox: 0.1991, loss: 1.2688\n",
            "2022-05-09 07:57:14,945 - mmdet - INFO - Epoch [96][50/100]\tlr: 2.000e-05, eta: 0:02:30, time: 0.288, data_time: 0.189, memory: 1182, loss_cls: 1.2412, loss_bbox: 0.1556, loss: 1.3968\n",
            "2022-05-09 07:57:18,979 - mmdet - INFO - Epoch [96][60/100]\tlr: 2.000e-05, eta: 0:02:26, time: 0.403, data_time: 0.308, memory: 1182, loss_cls: 1.2602, loss_bbox: 0.1511, loss: 1.4113\n",
            "2022-05-09 07:57:21,482 - mmdet - INFO - Epoch [96][70/100]\tlr: 2.000e-05, eta: 0:02:23, time: 0.250, data_time: 0.149, memory: 1182, loss_cls: 1.2235, loss_bbox: 0.1412, loss: 1.3647\n",
            "2022-05-09 07:57:24,588 - mmdet - INFO - Epoch [96][80/100]\tlr: 2.000e-05, eta: 0:02:20, time: 0.311, data_time: 0.216, memory: 1182, loss_cls: 1.1009, loss_bbox: 0.1141, loss: 1.2150\n",
            "2022-05-09 07:57:28,823 - mmdet - INFO - Epoch [96][90/100]\tlr: 2.000e-05, eta: 0:02:16, time: 0.423, data_time: 0.326, memory: 1182, loss_cls: 1.2334, loss_bbox: 0.1909, loss: 1.4243\n",
            "2022-05-09 07:57:31,842 - mmdet - INFO - Epoch [96][100/100]\tlr: 2.000e-05, eta: 0:02:13, time: 0.302, data_time: 0.210, memory: 1182, loss_cls: 0.9099, loss_bbox: 0.1484, loss: 1.0583\n",
            "2022-05-09 07:57:31,909 - mmdet - INFO - Saving checkpoint at 96 epochs\n"
          ]
        },
        {
          "output_type": "stream",
          "name": "stdout",
          "text": [
            "[>>>>>>>>>>>>>>>>>>>>>>>>>>>>>>] 100/100, 34.9 task/s, elapsed: 3s, ETA:     0s"
          ]
        },
        {
          "output_type": "stream",
          "name": "stderr",
          "text": [
            "2022-05-09 07:57:35,565 - mmdet - INFO - Evaluating bbox...\n"
          ]
        },
        {
          "output_type": "stream",
          "name": "stdout",
          "text": [
            "Loading and preparing results...\n",
            "DONE (t=0.00s)\n",
            "creating index...\n",
            "index created!\n",
            "Running per image evaluation...\n",
            "Evaluate annotation type *bbox*\n",
            "DONE (t=0.19s).\n",
            "Accumulating evaluation results...\n"
          ]
        },
        {
          "output_type": "stream",
          "name": "stderr",
          "text": [
            "2022-05-09 07:57:35,791 - mmdet - INFO - \n",
            " Average Precision  (AP) @[ IoU=0.50:0.95 | area=   all | maxDets=100 ] = 0.724\n",
            " Average Precision  (AP) @[ IoU=0.50      | area=   all | maxDets=1000 ] = 0.872\n",
            " Average Precision  (AP) @[ IoU=0.75      | area=   all | maxDets=1000 ] = 0.834\n",
            " Average Precision  (AP) @[ IoU=0.50:0.95 | area= small | maxDets=1000 ] = -1.000\n",
            " Average Precision  (AP) @[ IoU=0.50:0.95 | area=medium | maxDets=1000 ] = -1.000\n",
            " Average Precision  (AP) @[ IoU=0.50:0.95 | area= large | maxDets=1000 ] = 0.724\n",
            " Average Recall     (AR) @[ IoU=0.50:0.95 | area=   all | maxDets=100 ] = 0.818\n",
            " Average Recall     (AR) @[ IoU=0.50:0.95 | area=   all | maxDets=300 ] = 0.818\n",
            " Average Recall     (AR) @[ IoU=0.50:0.95 | area=   all | maxDets=1000 ] = 0.818\n",
            " Average Recall     (AR) @[ IoU=0.50:0.95 | area= small | maxDets=1000 ] = -1.000\n",
            " Average Recall     (AR) @[ IoU=0.50:0.95 | area=medium | maxDets=1000 ] = -1.000\n",
            " Average Recall     (AR) @[ IoU=0.50:0.95 | area= large | maxDets=1000 ] = 0.818\n",
            "\n",
            "2022-05-09 07:57:35,794 - mmdet - INFO - Epoch(val) [96][100]\tbbox_mAP: 0.7240, bbox_mAP_50: 0.8720, bbox_mAP_75: 0.8340, bbox_mAP_s: -1.0000, bbox_mAP_m: -1.0000, bbox_mAP_l: 0.7240, bbox_mAP_copypaste: 0.724 0.872 0.834 -1.000 -1.000 0.724\n"
          ]
        },
        {
          "output_type": "stream",
          "name": "stdout",
          "text": [
            "DONE (t=0.03s).\n"
          ]
        },
        {
          "output_type": "stream",
          "name": "stderr",
          "text": [
            "2022-05-09 07:57:41,837 - mmdet - INFO - Epoch [97][10/100]\tlr: 2.000e-05, eta: 0:02:10, time: 0.599, data_time: 0.501, memory: 1182, loss_cls: 1.0966, loss_bbox: 0.1447, loss: 1.2413\n",
            "2022-05-09 07:57:44,857 - mmdet - INFO - Epoch [97][20/100]\tlr: 2.000e-05, eta: 0:02:06, time: 0.302, data_time: 0.212, memory: 1182, loss_cls: 1.3447, loss_bbox: 0.2431, loss: 1.5879\n",
            "2022-05-09 07:57:47,621 - mmdet - INFO - Epoch [97][30/100]\tlr: 2.000e-05, eta: 0:02:03, time: 0.277, data_time: 0.179, memory: 1182, loss_cls: 1.2882, loss_bbox: 0.1681, loss: 1.4563\n",
            "2022-05-09 07:57:50,531 - mmdet - INFO - Epoch [97][40/100]\tlr: 2.000e-05, eta: 0:02:00, time: 0.291, data_time: 0.195, memory: 1182, loss_cls: 0.9849, loss_bbox: 0.1223, loss: 1.1072\n",
            "2022-05-09 07:57:53,614 - mmdet - INFO - Epoch [97][50/100]\tlr: 2.000e-05, eta: 0:01:56, time: 0.309, data_time: 0.222, memory: 1182, loss_cls: 1.3451, loss_bbox: 0.1744, loss: 1.5194\n",
            "2022-05-09 07:57:56,165 - mmdet - INFO - Epoch [97][60/100]\tlr: 2.000e-05, eta: 0:01:53, time: 0.255, data_time: 0.161, memory: 1182, loss_cls: 1.1537, loss_bbox: 0.1438, loss: 1.2975\n",
            "2022-05-09 07:57:58,304 - mmdet - INFO - Epoch [97][70/100]\tlr: 2.000e-05, eta: 0:01:50, time: 0.214, data_time: 0.122, memory: 1182, loss_cls: 1.2158, loss_bbox: 0.1558, loss: 1.3716\n",
            "2022-05-09 07:58:00,898 - mmdet - INFO - Epoch [97][80/100]\tlr: 2.000e-05, eta: 0:01:46, time: 0.259, data_time: 0.168, memory: 1182, loss_cls: 1.3457, loss_bbox: 0.1743, loss: 1.5200\n",
            "2022-05-09 07:58:04,095 - mmdet - INFO - Epoch [97][90/100]\tlr: 2.000e-05, eta: 0:01:43, time: 0.320, data_time: 0.240, memory: 1182, loss_cls: 1.2516, loss_bbox: 0.1656, loss: 1.4172\n",
            "2022-05-09 07:58:06,777 - mmdet - INFO - Epoch [97][100/100]\tlr: 2.000e-05, eta: 0:01:40, time: 0.268, data_time: 0.177, memory: 1182, loss_cls: 1.2483, loss_bbox: 0.2160, loss: 1.4643\n",
            "2022-05-09 07:58:06,844 - mmdet - INFO - Saving checkpoint at 97 epochs\n"
          ]
        },
        {
          "output_type": "stream",
          "name": "stdout",
          "text": [
            "[>>>>>>>>>>>>>>>>>>>>>>>>>>>>>>] 100/100, 30.9 task/s, elapsed: 3s, ETA:     0s"
          ]
        },
        {
          "output_type": "stream",
          "name": "stderr",
          "text": [
            "2022-05-09 07:58:10,918 - mmdet - INFO - Evaluating bbox...\n"
          ]
        },
        {
          "output_type": "stream",
          "name": "stdout",
          "text": [
            "Loading and preparing results...\n",
            "DONE (t=0.00s)\n",
            "creating index...\n",
            "index created!\n",
            "Running per image evaluation...\n",
            "Evaluate annotation type *bbox*\n",
            "DONE (t=0.07s).\n",
            "Accumulating evaluation results...\n"
          ]
        },
        {
          "output_type": "stream",
          "name": "stderr",
          "text": [
            "2022-05-09 07:58:11,040 - mmdet - INFO - \n",
            " Average Precision  (AP) @[ IoU=0.50:0.95 | area=   all | maxDets=100 ] = 0.718\n",
            " Average Precision  (AP) @[ IoU=0.50      | area=   all | maxDets=1000 ] = 0.867\n",
            " Average Precision  (AP) @[ IoU=0.75      | area=   all | maxDets=1000 ] = 0.830\n",
            " Average Precision  (AP) @[ IoU=0.50:0.95 | area= small | maxDets=1000 ] = -1.000\n",
            " Average Precision  (AP) @[ IoU=0.50:0.95 | area=medium | maxDets=1000 ] = -1.000\n",
            " Average Precision  (AP) @[ IoU=0.50:0.95 | area= large | maxDets=1000 ] = 0.718\n",
            " Average Recall     (AR) @[ IoU=0.50:0.95 | area=   all | maxDets=100 ] = 0.809\n",
            " Average Recall     (AR) @[ IoU=0.50:0.95 | area=   all | maxDets=300 ] = 0.809\n",
            " Average Recall     (AR) @[ IoU=0.50:0.95 | area=   all | maxDets=1000 ] = 0.809\n",
            " Average Recall     (AR) @[ IoU=0.50:0.95 | area= small | maxDets=1000 ] = -1.000\n",
            " Average Recall     (AR) @[ IoU=0.50:0.95 | area=medium | maxDets=1000 ] = -1.000\n",
            " Average Recall     (AR) @[ IoU=0.50:0.95 | area= large | maxDets=1000 ] = 0.809\n",
            "\n",
            "2022-05-09 07:58:11,044 - mmdet - INFO - Epoch(val) [97][100]\tbbox_mAP: 0.7180, bbox_mAP_50: 0.8670, bbox_mAP_75: 0.8300, bbox_mAP_s: -1.0000, bbox_mAP_m: -1.0000, bbox_mAP_l: 0.7180, bbox_mAP_copypaste: 0.718 0.867 0.830 -1.000 -1.000 0.718\n"
          ]
        },
        {
          "output_type": "stream",
          "name": "stdout",
          "text": [
            "DONE (t=0.05s).\n"
          ]
        },
        {
          "output_type": "stream",
          "name": "stderr",
          "text": [
            "2022-05-09 07:58:17,561 - mmdet - INFO - Epoch [98][10/100]\tlr: 2.000e-05, eta: 0:01:36, time: 0.646, data_time: 0.548, memory: 1182, loss_cls: 1.3110, loss_bbox: 0.1278, loss: 1.4388\n",
            "2022-05-09 07:58:21,687 - mmdet - INFO - Epoch [98][20/100]\tlr: 2.000e-05, eta: 0:01:33, time: 0.413, data_time: 0.324, memory: 1182, loss_cls: 1.5143, loss_bbox: 0.1663, loss: 1.6806\n",
            "2022-05-09 07:58:23,973 - mmdet - INFO - Epoch [98][30/100]\tlr: 2.000e-05, eta: 0:01:30, time: 0.229, data_time: 0.133, memory: 1182, loss_cls: 1.1653, loss_bbox: 0.1868, loss: 1.3521\n",
            "2022-05-09 07:58:26,788 - mmdet - INFO - Epoch [98][40/100]\tlr: 2.000e-05, eta: 0:01:26, time: 0.281, data_time: 0.188, memory: 1182, loss_cls: 1.0321, loss_bbox: 0.1707, loss: 1.2027\n",
            "2022-05-09 07:58:29,426 - mmdet - INFO - Epoch [98][50/100]\tlr: 2.000e-05, eta: 0:01:23, time: 0.264, data_time: 0.176, memory: 1182, loss_cls: 1.0608, loss_bbox: 0.1453, loss: 1.2060\n",
            "2022-05-09 07:58:32,507 - mmdet - INFO - Epoch [98][60/100]\tlr: 2.000e-05, eta: 0:01:20, time: 0.308, data_time: 0.226, memory: 1182, loss_cls: 1.1475, loss_bbox: 0.1694, loss: 1.3169\n",
            "2022-05-09 07:58:35,339 - mmdet - INFO - Epoch [98][70/100]\tlr: 2.000e-05, eta: 0:01:16, time: 0.283, data_time: 0.190, memory: 1182, loss_cls: 1.1032, loss_bbox: 0.1639, loss: 1.2672\n",
            "2022-05-09 07:58:38,579 - mmdet - INFO - Epoch [98][80/100]\tlr: 2.000e-05, eta: 0:01:13, time: 0.324, data_time: 0.233, memory: 1182, loss_cls: 1.2479, loss_bbox: 0.1450, loss: 1.3930\n",
            "2022-05-09 07:58:41,215 - mmdet - INFO - Epoch [98][90/100]\tlr: 2.000e-05, eta: 0:01:10, time: 0.264, data_time: 0.169, memory: 1182, loss_cls: 1.2118, loss_bbox: 0.1814, loss: 1.3932\n",
            "2022-05-09 07:58:44,031 - mmdet - INFO - Epoch [98][100/100]\tlr: 2.000e-05, eta: 0:01:06, time: 0.281, data_time: 0.195, memory: 1182, loss_cls: 1.1651, loss_bbox: 0.1969, loss: 1.3620\n",
            "2022-05-09 07:58:44,094 - mmdet - INFO - Saving checkpoint at 98 epochs\n"
          ]
        },
        {
          "output_type": "stream",
          "name": "stdout",
          "text": [
            "[>>>>>>>>>>>>>>>>>>>>>>>>>>>>>>] 100/100, 33.8 task/s, elapsed: 3s, ETA:     0s"
          ]
        },
        {
          "output_type": "stream",
          "name": "stderr",
          "text": [
            "2022-05-09 07:58:47,894 - mmdet - INFO - Evaluating bbox...\n"
          ]
        },
        {
          "output_type": "stream",
          "name": "stdout",
          "text": [
            "Loading and preparing results...\n",
            "DONE (t=0.00s)\n",
            "creating index...\n",
            "index created!\n",
            "Running per image evaluation...\n",
            "Evaluate annotation type *bbox*\n",
            "DONE (t=0.06s).\n",
            "Accumulating evaluation results...\n"
          ]
        },
        {
          "output_type": "stream",
          "name": "stderr",
          "text": [
            "2022-05-09 07:58:47,995 - mmdet - INFO - \n",
            " Average Precision  (AP) @[ IoU=0.50:0.95 | area=   all | maxDets=100 ] = 0.720\n",
            " Average Precision  (AP) @[ IoU=0.50      | area=   all | maxDets=1000 ] = 0.866\n",
            " Average Precision  (AP) @[ IoU=0.75      | area=   all | maxDets=1000 ] = 0.829\n",
            " Average Precision  (AP) @[ IoU=0.50:0.95 | area= small | maxDets=1000 ] = -1.000\n",
            " Average Precision  (AP) @[ IoU=0.50:0.95 | area=medium | maxDets=1000 ] = -1.000\n",
            " Average Precision  (AP) @[ IoU=0.50:0.95 | area= large | maxDets=1000 ] = 0.720\n",
            " Average Recall     (AR) @[ IoU=0.50:0.95 | area=   all | maxDets=100 ] = 0.814\n",
            " Average Recall     (AR) @[ IoU=0.50:0.95 | area=   all | maxDets=300 ] = 0.814\n",
            " Average Recall     (AR) @[ IoU=0.50:0.95 | area=   all | maxDets=1000 ] = 0.814\n",
            " Average Recall     (AR) @[ IoU=0.50:0.95 | area= small | maxDets=1000 ] = -1.000\n",
            " Average Recall     (AR) @[ IoU=0.50:0.95 | area=medium | maxDets=1000 ] = -1.000\n",
            " Average Recall     (AR) @[ IoU=0.50:0.95 | area= large | maxDets=1000 ] = 0.814\n",
            "\n"
          ]
        },
        {
          "output_type": "stream",
          "name": "stdout",
          "text": [
            "DONE (t=0.03s).\n"
          ]
        },
        {
          "output_type": "stream",
          "name": "stderr",
          "text": [
            "2022-05-09 07:58:47,998 - mmdet - INFO - Epoch(val) [98][100]\tbbox_mAP: 0.7200, bbox_mAP_50: 0.8660, bbox_mAP_75: 0.8290, bbox_mAP_s: -1.0000, bbox_mAP_m: -1.0000, bbox_mAP_l: 0.7200, bbox_mAP_copypaste: 0.720 0.866 0.829 -1.000 -1.000 0.720\n",
            "2022-05-09 07:58:53,450 - mmdet - INFO - Epoch [99][10/100]\tlr: 2.000e-05, eta: 0:01:03, time: 0.540, data_time: 0.438, memory: 1182, loss_cls: 1.1143, loss_bbox: 0.1222, loss: 1.2365\n",
            "2022-05-09 07:58:56,693 - mmdet - INFO - Epoch [99][20/100]\tlr: 2.000e-05, eta: 0:01:00, time: 0.324, data_time: 0.236, memory: 1182, loss_cls: 1.4165, loss_bbox: 0.2084, loss: 1.6249\n",
            "2022-05-09 07:59:00,027 - mmdet - INFO - Epoch [99][30/100]\tlr: 2.000e-05, eta: 0:00:56, time: 0.333, data_time: 0.240, memory: 1182, loss_cls: 1.1823, loss_bbox: 0.1592, loss: 1.3416\n",
            "2022-05-09 07:59:03,293 - mmdet - INFO - Epoch [99][40/100]\tlr: 2.000e-05, eta: 0:00:53, time: 0.327, data_time: 0.233, memory: 1182, loss_cls: 1.0990, loss_bbox: 0.1424, loss: 1.2415\n",
            "2022-05-09 07:59:06,366 - mmdet - INFO - Epoch [99][50/100]\tlr: 2.000e-05, eta: 0:00:50, time: 0.307, data_time: 0.216, memory: 1182, loss_cls: 1.2559, loss_bbox: 0.1542, loss: 1.4101\n",
            "2022-05-09 07:59:08,970 - mmdet - INFO - Epoch [99][60/100]\tlr: 2.000e-05, eta: 0:00:46, time: 0.260, data_time: 0.168, memory: 1182, loss_cls: 1.0767, loss_bbox: 0.2296, loss: 1.3063\n",
            "2022-05-09 07:59:11,530 - mmdet - INFO - Epoch [99][70/100]\tlr: 2.000e-05, eta: 0:00:43, time: 0.256, data_time: 0.161, memory: 1182, loss_cls: 1.2540, loss_bbox: 0.1762, loss: 1.4302\n",
            "2022-05-09 07:59:15,056 - mmdet - INFO - Epoch [99][80/100]\tlr: 2.000e-05, eta: 0:00:40, time: 0.353, data_time: 0.259, memory: 1182, loss_cls: 1.3158, loss_bbox: 0.1775, loss: 1.4934\n",
            "2022-05-09 07:59:18,759 - mmdet - INFO - Epoch [99][90/100]\tlr: 2.000e-05, eta: 0:00:36, time: 0.370, data_time: 0.278, memory: 1182, loss_cls: 1.2516, loss_bbox: 0.1705, loss: 1.4221\n",
            "2022-05-09 07:59:21,588 - mmdet - INFO - Epoch [99][100/100]\tlr: 2.000e-05, eta: 0:00:33, time: 0.283, data_time: 0.190, memory: 1182, loss_cls: 0.8882, loss_bbox: 0.1190, loss: 1.0072\n",
            "2022-05-09 07:59:21,651 - mmdet - INFO - Saving checkpoint at 99 epochs\n"
          ]
        },
        {
          "output_type": "stream",
          "name": "stdout",
          "text": [
            "[>>>>>>>>>>>>>>>>>>>>>>>>>>>>>>] 100/100, 35.0 task/s, elapsed: 3s, ETA:     0s"
          ]
        },
        {
          "output_type": "stream",
          "name": "stderr",
          "text": [
            "2022-05-09 07:59:25,327 - mmdet - INFO - Evaluating bbox...\n"
          ]
        },
        {
          "output_type": "stream",
          "name": "stdout",
          "text": [
            "Loading and preparing results...\n",
            "DONE (t=0.00s)\n",
            "creating index...\n",
            "index created!\n",
            "Running per image evaluation...\n",
            "Evaluate annotation type *bbox*\n",
            "DONE (t=0.06s).\n",
            "Accumulating evaluation results...\n"
          ]
        },
        {
          "output_type": "stream",
          "name": "stderr",
          "text": [
            "2022-05-09 07:59:25,434 - mmdet - INFO - \n",
            " Average Precision  (AP) @[ IoU=0.50:0.95 | area=   all | maxDets=100 ] = 0.719\n",
            " Average Precision  (AP) @[ IoU=0.50      | area=   all | maxDets=1000 ] = 0.867\n",
            " Average Precision  (AP) @[ IoU=0.75      | area=   all | maxDets=1000 ] = 0.829\n",
            " Average Precision  (AP) @[ IoU=0.50:0.95 | area= small | maxDets=1000 ] = -1.000\n",
            " Average Precision  (AP) @[ IoU=0.50:0.95 | area=medium | maxDets=1000 ] = -1.000\n",
            " Average Precision  (AP) @[ IoU=0.50:0.95 | area= large | maxDets=1000 ] = 0.719\n",
            " Average Recall     (AR) @[ IoU=0.50:0.95 | area=   all | maxDets=100 ] = 0.810\n",
            " Average Recall     (AR) @[ IoU=0.50:0.95 | area=   all | maxDets=300 ] = 0.810\n",
            " Average Recall     (AR) @[ IoU=0.50:0.95 | area=   all | maxDets=1000 ] = 0.810\n",
            " Average Recall     (AR) @[ IoU=0.50:0.95 | area= small | maxDets=1000 ] = -1.000\n",
            " Average Recall     (AR) @[ IoU=0.50:0.95 | area=medium | maxDets=1000 ] = -1.000\n",
            " Average Recall     (AR) @[ IoU=0.50:0.95 | area= large | maxDets=1000 ] = 0.810\n",
            "\n",
            "2022-05-09 07:59:25,436 - mmdet - INFO - Epoch(val) [99][100]\tbbox_mAP: 0.7190, bbox_mAP_50: 0.8670, bbox_mAP_75: 0.8290, bbox_mAP_s: -1.0000, bbox_mAP_m: -1.0000, bbox_mAP_l: 0.7190, bbox_mAP_copypaste: 0.719 0.867 0.829 -1.000 -1.000 0.719\n"
          ]
        },
        {
          "output_type": "stream",
          "name": "stdout",
          "text": [
            "DONE (t=0.03s).\n"
          ]
        },
        {
          "output_type": "stream",
          "name": "stderr",
          "text": [
            "2022-05-09 07:59:31,216 - mmdet - INFO - Epoch [100][10/100]\tlr: 2.000e-05, eta: 0:00:30, time: 0.572, data_time: 0.473, memory: 1182, loss_cls: 1.3976, loss_bbox: 0.2232, loss: 1.6209\n",
            "2022-05-09 07:59:34,262 - mmdet - INFO - Epoch [100][20/100]\tlr: 2.000e-05, eta: 0:00:26, time: 0.305, data_time: 0.212, memory: 1182, loss_cls: 1.2285, loss_bbox: 0.1506, loss: 1.3791\n",
            "2022-05-09 07:59:36,924 - mmdet - INFO - Epoch [100][30/100]\tlr: 2.000e-05, eta: 0:00:23, time: 0.266, data_time: 0.171, memory: 1182, loss_cls: 1.0852, loss_bbox: 0.1406, loss: 1.2258\n",
            "2022-05-09 07:59:39,337 - mmdet - INFO - Epoch [100][40/100]\tlr: 2.000e-05, eta: 0:00:20, time: 0.241, data_time: 0.148, memory: 1182, loss_cls: 1.0618, loss_bbox: 0.1456, loss: 1.2074\n",
            "2022-05-09 07:59:43,352 - mmdet - INFO - Epoch [100][50/100]\tlr: 2.000e-05, eta: 0:00:16, time: 0.402, data_time: 0.311, memory: 1182, loss_cls: 1.4125, loss_bbox: 0.1508, loss: 1.5633\n",
            "2022-05-09 07:59:45,036 - mmdet - INFO - Epoch [100][60/100]\tlr: 2.000e-05, eta: 0:00:13, time: 0.168, data_time: 0.074, memory: 1182, loss_cls: 1.1579, loss_bbox: 0.1518, loss: 1.3097\n",
            "2022-05-09 07:59:47,929 - mmdet - INFO - Epoch [100][70/100]\tlr: 2.000e-05, eta: 0:00:10, time: 0.289, data_time: 0.200, memory: 1182, loss_cls: 1.0407, loss_bbox: 0.1556, loss: 1.1962\n",
            "2022-05-09 07:59:50,987 - mmdet - INFO - Epoch [100][80/100]\tlr: 2.000e-05, eta: 0:00:06, time: 0.306, data_time: 0.211, memory: 1182, loss_cls: 1.2490, loss_bbox: 0.1956, loss: 1.4446\n",
            "2022-05-09 07:59:53,452 - mmdet - INFO - Epoch [100][90/100]\tlr: 2.000e-05, eta: 0:00:03, time: 0.246, data_time: 0.154, memory: 1182, loss_cls: 1.1090, loss_bbox: 0.1473, loss: 1.2563\n",
            "2022-05-09 07:59:56,775 - mmdet - INFO - Epoch [100][100/100]\tlr: 2.000e-05, eta: 0:00:00, time: 0.332, data_time: 0.239, memory: 1182, loss_cls: 1.0732, loss_bbox: 0.1591, loss: 1.2323\n",
            "2022-05-09 07:59:56,838 - mmdet - INFO - Saving checkpoint at 100 epochs\n"
          ]
        },
        {
          "output_type": "stream",
          "name": "stdout",
          "text": [
            "[>>>>>>>>>>>>>>>>>>>>>>>>>>>>>>] 100/100, 34.5 task/s, elapsed: 3s, ETA:     0s"
          ]
        },
        {
          "output_type": "stream",
          "name": "stderr",
          "text": [
            "2022-05-09 08:00:00,540 - mmdet - INFO - Evaluating bbox...\n"
          ]
        },
        {
          "output_type": "stream",
          "name": "stdout",
          "text": [
            "Loading and preparing results...\n",
            "DONE (t=0.00s)\n",
            "creating index...\n",
            "index created!\n",
            "Running per image evaluation...\n",
            "Evaluate annotation type *bbox*\n",
            "DONE (t=0.06s).\n",
            "Accumulating evaluation results...\n"
          ]
        },
        {
          "output_type": "stream",
          "name": "stderr",
          "text": [
            "2022-05-09 08:00:00,642 - mmdet - INFO - \n",
            " Average Precision  (AP) @[ IoU=0.50:0.95 | area=   all | maxDets=100 ] = 0.719\n",
            " Average Precision  (AP) @[ IoU=0.50      | area=   all | maxDets=1000 ] = 0.868\n",
            " Average Precision  (AP) @[ IoU=0.75      | area=   all | maxDets=1000 ] = 0.831\n",
            " Average Precision  (AP) @[ IoU=0.50:0.95 | area= small | maxDets=1000 ] = -1.000\n",
            " Average Precision  (AP) @[ IoU=0.50:0.95 | area=medium | maxDets=1000 ] = -1.000\n",
            " Average Precision  (AP) @[ IoU=0.50:0.95 | area= large | maxDets=1000 ] = 0.719\n",
            " Average Recall     (AR) @[ IoU=0.50:0.95 | area=   all | maxDets=100 ] = 0.807\n",
            " Average Recall     (AR) @[ IoU=0.50:0.95 | area=   all | maxDets=300 ] = 0.807\n",
            " Average Recall     (AR) @[ IoU=0.50:0.95 | area=   all | maxDets=1000 ] = 0.807\n",
            " Average Recall     (AR) @[ IoU=0.50:0.95 | area= small | maxDets=1000 ] = -1.000\n",
            " Average Recall     (AR) @[ IoU=0.50:0.95 | area=medium | maxDets=1000 ] = -1.000\n",
            " Average Recall     (AR) @[ IoU=0.50:0.95 | area= large | maxDets=1000 ] = 0.807\n",
            "\n",
            "2022-05-09 08:00:00,645 - mmdet - INFO - Epoch(val) [100][100]\tbbox_mAP: 0.7190, bbox_mAP_50: 0.8680, bbox_mAP_75: 0.8310, bbox_mAP_s: -1.0000, bbox_mAP_m: -1.0000, bbox_mAP_l: 0.7190, bbox_mAP_copypaste: 0.719 0.868 0.831 -1.000 -1.000 0.719\n"
          ]
        },
        {
          "output_type": "stream",
          "name": "stdout",
          "text": [
            "DONE (t=0.03s).\n"
          ]
        },
        {
          "output_type": "display_data",
          "data": {
            "text/plain": [
              "<IPython.core.display.HTML object>"
            ],
            "text/html": [
              "Waiting for W&B process to finish... <strong style=\"color:green\">(success).</strong>"
            ]
          },
          "metadata": {}
        },
        {
          "output_type": "display_data",
          "data": {
            "text/plain": [
              "VBox(children=(Label(value='0.189 MB of 0.189 MB uploaded (0.000 MB deduped)\\r'), FloatProgress(value=1.0, max…"
            ],
            "application/vnd.jupyter.widget-view+json": {
              "version_major": 2,
              "version_minor": 0,
              "model_id": "ece6314ddd564286b926a9533072018f"
            }
          },
          "metadata": {}
        },
        {
          "output_type": "display_data",
          "data": {
            "text/plain": [
              "<IPython.core.display.HTML object>"
            ],
            "text/html": [
              "<style>\n",
              "    table.wandb td:nth-child(1) { padding: 0 10px; text-align: left ; width: auto;} td:nth-child(2) {text-align: left ; width: 100%}\n",
              "    .wandb-row { display: flex; flex-direction: row; flex-wrap: wrap; justify-content: flex-start; width: 100% }\n",
              "    .wandb-col { display: flex; flex-direction: column; flex-basis: 100%; flex: 1; padding: 10px; }\n",
              "    </style>\n",
              "<div class=\"wandb-row\"><div class=\"wandb-col\"><h3>Run history:</h3><br/><table class=\"wandb\"><tr><td>learning_rate</td><td>███████▂▂▁▁▁▁▁▁▁▁▁▁▁▁▁▁▁▁▁▁▁▁▁▁▁▁▁▁▁▁▁▁▁</td></tr><tr><td>momentum</td><td>▁▁▁▁▁▁▁▁▁▁▁▁▁▁▁▁▁▁▁▁▁▁▁▁▁▁▁▁▁▁▁▁▁▁▁▁▁▁▁▁</td></tr><tr><td>train/loss</td><td>█▆▅▅▅▄▂▂▂▁▁▁▂▂▁▁▁▂▁▂▂▂▁▂▁▂▂▂▁▁▁▁▂▁▂▂▁▁▁▁</td></tr><tr><td>train/loss_bbox</td><td>█▅▅▅▅▄▃▂▂▁▁▁▁▁▁▁▁▁▁▁▂▂▂▂▁▂▂▁▁▁▁▁▂▁▂▁▁▁▁▁</td></tr><tr><td>train/loss_cls</td><td>█▇▆▅▅▄▂▂▃▁▁▁▂▂▁▂▁▂▁▂▂▂▁▂▁▂▂▂▁▁▁▁▂▁▂▂▁▁▂▁</td></tr><tr><td>val/bbox_mAP</td><td>▁▁▃▃▄▄▅▇▇███████████████████████████████</td></tr><tr><td>val/bbox_mAP_50</td><td>▁▂▅▄▆▆▇█████████████████████████████████</td></tr><tr><td>val/bbox_mAP_75</td><td>▁▁▃▄▄▅▆▇████████████████████████████████</td></tr><tr><td>val/bbox_mAP_l</td><td>▁▁▃▃▄▄▅▇▇███████████████████████████████</td></tr><tr><td>val/bbox_mAP_m</td><td>▁▁▁▁▁▁▁▁▁▁▁▁▁▁▁▁▁▁▁▁▁▁▁▁▁▁▁▁▁▁▁▁▁▁▁▁▁▁▁▁</td></tr><tr><td>val/bbox_mAP_s</td><td>▁▁▁▁▁▁▁▁▁▁▁▁▁▁▁▁▁▁▁▁▁▁▁▁▁▁▁▁▁▁▁▁▁▁▁▁▁▁▁▁</td></tr></table><br/></div><div class=\"wandb-col\"><h3>Run summary:</h3><br/><table class=\"wandb\"><tr><td>learning_rate</td><td>2e-05</td></tr><tr><td>momentum</td><td>0.9</td></tr><tr><td>train/loss</td><td>1.23226</td></tr><tr><td>train/loss_bbox</td><td>0.15911</td></tr><tr><td>train/loss_cls</td><td>1.07316</td></tr><tr><td>val/bbox_mAP</td><td>0.719</td></tr><tr><td>val/bbox_mAP_50</td><td>0.868</td></tr><tr><td>val/bbox_mAP_75</td><td>0.831</td></tr><tr><td>val/bbox_mAP_l</td><td>0.719</td></tr><tr><td>val/bbox_mAP_m</td><td>-1.0</td></tr><tr><td>val/bbox_mAP_s</td><td>-1.0</td></tr></table><br/></div></div>"
            ]
          },
          "metadata": {}
        },
        {
          "output_type": "display_data",
          "data": {
            "text/plain": [
              "<IPython.core.display.HTML object>"
            ],
            "text/html": [
              "Synced <strong style=\"color:#cdcd00\">ssd_100epoch</strong>: <a href=\"https://wandb.ai/bglepark/mmdetection/runs/bdqgo4dq\" target=\"_blank\">https://wandb.ai/bglepark/mmdetection/runs/bdqgo4dq</a><br/>Synced 5 W&B file(s), 0 media file(s), 1 artifact file(s) and 0 other file(s)"
            ]
          },
          "metadata": {}
        },
        {
          "output_type": "display_data",
          "data": {
            "text/plain": [
              "<IPython.core.display.HTML object>"
            ],
            "text/html": [
              "Find logs at: <code>./wandb/run-20220509_065748-bdqgo4dq/logs</code>"
            ]
          },
          "metadata": {}
        }
      ]
    },
    {
      "cell_type": "code",
      "source": [
        ""
      ],
      "metadata": {
        "id": "AZ6jh3cWQG1P"
      },
      "execution_count": null,
      "outputs": []
    }
  ]
}